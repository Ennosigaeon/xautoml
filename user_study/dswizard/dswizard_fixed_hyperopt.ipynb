{
 "cells": [
  {
   "cell_type": "markdown",
   "metadata": {
    "pycharm": {
     "name": "#%% md\n"
    }
   },
   "source": [
    "## Load the data set"
   ]
  },
  {
   "cell_type": "code",
   "execution_count": null,
   "metadata": {
    "collapsed": false,
    "jupyter": {
     "outputs_hidden": false
    },
    "pycharm": {
     "name": "#%%\n"
    }
   },
   "outputs": [],
   "source": [
    "from xautoml.util.datasets import hearts\n",
    "\n",
    "X_train, y_train = hearts('../heart.csv', train=True)\n",
    "X_train"
   ]
  },
  {
   "cell_type": "markdown",
   "metadata": {
    "pycharm": {
     "name": "#%% md\n"
    }
   },
   "source": [
    "## Start the Model Building"
   ]
  },
  {
   "cell_type": "code",
   "execution_count": null,
   "metadata": {
    "pycharm": {
     "name": "#%%\n"
    },
    "tags": []
   },
   "outputs": [],
   "source": [
    "import pickle\n",
    "\n",
    "from dswizard.components.classification.random_forest import RandomForest\n",
    "from dswizard.components.data_preprocessing.knn_imputer import KNNImputerComponent\n",
    "from dswizard.components.data_preprocessing.standard_scaler import StandardScalerComponent\n",
    "from dswizard.components.pipeline import ConfigurablePipeline\n",
    "from dswizard.components.feature_preprocessing.one_hot_encoding import OneHotEncoderComponent\n",
    "from dswizard.components.sklearn import ColumnTransformerComponent\n",
    "from dswizard.optimizers.structure_generators.fixed import FixedStructure\n",
    "from dswizard.optimizers.bandit_learners import PseudoBandit\n",
    "from dswizard.optimizers.config_generators import Hyperopt\n",
    "from dswizard.core.master import Master\n",
    "from dswizard.core.model import Dataset\n",
    "from dswizard.util import util\n",
    "\n",
    "util.setup_logging('output/fixed/log.txt')\n",
    "\n",
    "ds = Dataset(X_train.values, y_train.values, task=-2, metric='accuracy', feature_names=X_train.columns)\n",
    "\n",
    "steps = [\n",
    "    ('data_preprocessing', ColumnTransformerComponent(\n",
    "        [('one_hot_encoder', OneHotEncoderComponent(), [1, 2, 6, 8, 10]),\n",
    "         ('numerical',\n",
    "          ConfigurablePipeline(steps=[('knn_imputer', KNNImputerComponent()), ('standard_scaler', StandardScalerComponent())]),\n",
    "          [0, 3, 4, 5, 7, 9])],\n",
    "        remainder='passthrough')),\n",
    "    ('random_forest', RandomForest())\n",
    "]\n",
    "\n",
    "master = Master(\n",
    "    ds=ds,\n",
    "    working_directory='output/fixed/',\n",
    "    n_workers=1,\n",
    "    model='rf_complete.pkl',\n",
    "\n",
    "    wallclock_limit=300,\n",
    "    cutoff=10,\n",
    "    pre_sample=False,\n",
    "\n",
    "    config_generator_class=Hyperopt,\n",
    "    config_generator_kwargs={'min_points_in_model': 50},\n",
    "    structure_generator_class=FixedStructure,\n",
    "    structure_generator_kwargs={'steps': steps},\n",
    "    bandit_learner_class=PseudoBandit\n",
    ")\n",
    "\n",
    "pipeline, run_history, ensemble = master.optimize()\n",
    "\n",
    "with open('output/fixed/dswizard.pkl', 'wb') as f:\n",
    "    pickle.dump((run_history, ensemble), f)\n"
   ]
  },
  {
   "cell_type": "code",
   "execution_count": null,
   "metadata": {
    "collapsed": false,
    "jupyter": {
     "outputs_hidden": false
    },
    "pycharm": {
     "name": "#%%\n"
    }
   },
   "outputs": [],
   "source": [
    "import pickle\n",
    "\n",
    "with open('output/fixed/dswizard.pkl', 'rb') as f:\n",
    "    run_history, ensemble = pickle.load(f)"
   ]
  },
  {
   "cell_type": "markdown",
   "metadata": {
    "pycharm": {
     "name": "#%% md\n"
    }
   },
   "source": [
    "## Get the Score of the Final Ensemble"
   ]
  },
  {
   "cell_type": "code",
   "execution_count": null,
   "metadata": {
    "pycharm": {
     "name": "#%%\n"
    },
    "tags": []
   },
   "outputs": [],
   "source": [
    "from sklearn.metrics import accuracy_score\n",
    "\n",
    "X_test, y_test = hearts('../heart.csv', test=True)\n",
    "\n",
    "predictions = ensemble.predict(X_test.values)\n",
    "accuracy_score(y_test, predictions)"
   ]
  },
  {
   "cell_type": "markdown",
   "metadata": {
    "jupyter": {
     "outputs_hidden": false
    },
    "pycharm": {
     "name": "#%%\n"
    }
   },
   "source": [
    "## View the Models found by dswizard"
   ]
  },
  {
   "cell_type": "code",
   "execution_count": null,
   "metadata": {
    "collapsed": false,
    "jupyter": {
     "outputs_hidden": false
    },
    "pycharm": {
     "name": "#%%\n"
    }
   },
   "outputs": [],
   "source": [
    "from xautoml.main import XAutoML\n",
    "from xautoml.adapter import import_dswizard\n",
    "\n",
    "rh = import_dswizard(run_history, ensemble)\n",
    "main = XAutoML(rh, X_test, y_test)\n",
    "main"
   ]
  },
  {
   "cell_type": "code",
   "execution_count": null,
   "metadata": {},
   "outputs": [],
   "source": []
  }
 ],
 "metadata": {
  "kernelspec": {
   "display_name": "Python 3 (ipykernel)",
   "language": "python",
   "name": "python3"
  },
  "language_info": {
   "codemirror_mode": {
    "name": "ipython",
    "version": 3
   },
   "file_extension": ".py",
   "mimetype": "text/x-python",
   "name": "python",
   "nbconvert_exporter": "python",
   "pygments_lexer": "ipython3",
   "version": "3.9.7"
  }
 },
 "nbformat": 4,
 "nbformat_minor": 4
}