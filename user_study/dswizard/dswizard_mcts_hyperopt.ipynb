{
 "cells": [
  {
   "cell_type": "markdown",
   "metadata": {
    "pycharm": {
     "name": "#%% md\n"
    }
   },
   "source": [
    "## Load the data set"
   ]
  },
  {
   "cell_type": "code",
   "execution_count": null,
   "metadata": {
    "collapsed": false,
    "jupyter": {
     "outputs_hidden": false
    },
    "pycharm": {
     "name": "#%%\n"
    }
   },
   "outputs": [],
   "source": [
    "from xautoml.util.datasets import hearts\n",
    "\n",
    "X_train, y_train = hearts('../heart.csv', train=True)\n",
    "X_train"
   ]
  },
  {
   "cell_type": "markdown",
   "metadata": {
    "pycharm": {
     "name": "#%% md\n"
    }
   },
   "source": [
    "## Start the Model Building"
   ]
  },
  {
   "cell_type": "code",
   "execution_count": null,
   "metadata": {
    "collapsed": true,
    "jupyter": {
     "outputs_hidden": true
    },
    "pycharm": {
     "name": "#%%\n"
    },
    "tags": []
   },
   "outputs": [],
   "source": [
    "import pickle\n",
    "from dswizard.optimizers.bandit_learners import PseudoBandit\n",
    "from dswizard.optimizers.structure_generators.mcts import TransferLearning, MCTS\n",
    "from dswizard.optimizers.config_generators import Hyperopt\n",
    "from dswizard.core.master import Master\n",
    "from dswizard.core.model import Dataset\n",
    "from dswizard.util import util\n",
    "\n",
    "util.setup_logging('output/mcts/log.txt')\n",
    "\n",
    "ds = Dataset(X_train.values, y_train.values, task=-2, metric='accuracy', feature_names=X_train.columns)\n",
    "master = Master(\n",
    "    ds=ds,\n",
    "    working_directory='output/mcts/',\n",
    "    n_workers=1,\n",
    "    model='rf_complete.pkl',\n",
    "\n",
    "    wallclock_limit=300,\n",
    "    cutoff=10,\n",
    "    pre_sample=False,\n",
    "\n",
    "    config_generator_class=Hyperopt,\n",
    "    structure_generator_class=MCTS,\n",
    "    structure_generator_kwargs={'policy': TransferLearning},\n",
    "    bandit_learner_class=PseudoBandit\n",
    ")\n",
    "\n",
    "pipeline, run_history, ensemble = master.optimize()\n",
    "\n",
    "with open('output/mcts/dswizard.pkl', 'wb') as f:\n",
    "    pickle.dump((run_history, ensemble), f)\n"
   ]
  },
  {
   "cell_type": "code",
   "execution_count": null,
   "metadata": {
    "collapsed": false,
    "jupyter": {
     "outputs_hidden": false
    },
    "pycharm": {
     "name": "#%%\n"
    }
   },
   "outputs": [],
   "source": [
    "import pickle\n",
    "\n",
    "with open('output/mcts/dswizard.pkl', 'rb') as f:\n",
    "    run_history, ensemble = pickle.load(f)"
   ]
  },
  {
   "cell_type": "markdown",
   "metadata": {
    "pycharm": {
     "name": "#%% md\n"
    }
   },
   "source": [
    "## Get the Score of the Final Ensemble"
   ]
  },
  {
   "cell_type": "code",
   "execution_count": null,
   "metadata": {
    "collapsed": true,
    "jupyter": {
     "outputs_hidden": true
    },
    "pycharm": {
     "name": "#%%\n"
    },
    "tags": []
   },
   "outputs": [],
   "source": [
    "from sklearn.metrics import accuracy_score\n",
    "\n",
    "X_test, y_test = hearts('../heart.csv', test=True)\n",
    "\n",
    "predictions = ensemble.predict(X_test.values)\n",
    "accuracy_score(y_test, predictions)"
   ]
  },
  {
   "cell_type": "code",
   "execution_count": null,
   "metadata": {
    "collapsed": false,
    "jupyter": {
     "outputs_hidden": false
    },
    "pycharm": {
     "name": "#%%\n"
    }
   },
   "outputs": [],
   "source": [
    "## View the Models found by dswizard"
   ]
  },
  {
   "cell_type": "code",
   "execution_count": null,
   "metadata": {
    "collapsed": false,
    "jupyter": {
     "outputs_hidden": false
    },
    "pycharm": {
     "name": "#%%\n"
    }
   },
   "outputs": [],
   "source": [
    "from xautoml.main import XAutoML\n",
    "from xautoml.adapter import import_dswizard\n",
    "\n",
    "rh = import_dswizard(run_history, ensemble)\n",
    "main = XAutoML(rh, X_test, y_test)\n",
    "main"
   ]
  }
 ],
 "metadata": {
  "kernelspec": {
   "display_name": "Python 3 (ipykernel)",
   "language": "python",
   "name": "python3"
  },
  "language_info": {
   "codemirror_mode": {
    "name": "ipython",
    "version": 3
   },
   "file_extension": ".py",
   "mimetype": "text/x-python",
   "name": "python",
   "nbconvert_exporter": "python",
   "pygments_lexer": "ipython3",
   "version": "3.9.7"
  }
 },
 "nbformat": 4,
 "nbformat_minor": 4
}