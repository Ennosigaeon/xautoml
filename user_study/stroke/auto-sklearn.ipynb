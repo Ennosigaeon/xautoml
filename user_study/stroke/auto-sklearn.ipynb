{
 "cells": [
  {
   "cell_type": "markdown",
   "metadata": {
    "pycharm": {
     "name": "#%% md\n"
    },
    "tags": []
   },
   "source": [
    "# Stroke Prediction\n",
    "\n",
    "\n",
    "## Context\n",
    "\n",
    "According to the World Health Organization (WHO) stroke is the 2nd leading cause of death globally, responsible for approximately 11% of total deaths.\n",
    "\n",
    "This dataset is used to predict whether a patient is likely to get stroke based on the input parameters like gender, age, various diseases, and smoking status. Each row in the data provides relevant information about the patient.\n",
    "\n",
    "\n",
    "## Attribute Information\n",
    "\n",
    "### Features\n",
    "* id: unique identifier\n",
    "* gender: \"Male\", \"Female\" or \"Other\"\n",
    "* age: age of the patient\n",
    "* hypertension: `0` if the patient doesn't have hypertension, `1` if the patient has hypertension\n",
    "* heart_disease: `0` if the patient doesn't have any heart diseases, `1` if the patient has a heart disease\n",
    "* ever_married: `No` or `Yes`\n",
    "* work_type: `children`, `Govt_jov`, `Never_worked`, `Private` or `Self-employed`\n",
    "* Residence_type: `Rural` or `Urban`\n",
    "* avg_glucose_level: average glucose level in blood in mg/dL\n",
    "* bmi: body mass index\n",
    "* smoking_status: `formerly smoked`, `never smoked`, `smokes` or _Unknown_\n",
    "\n",
    "### Target\n",
    "* stroke: 1 if the patient had a stroke or 0 if not\n",
    "\n",
    "\n",
    "## Goal\n",
    "You want to build a predictive model for pre-screening patients for a high stroke risk. The idea is that for each patient, the according features are automatically analyzed and in case of a high stroke risk, you are informed about the presence of the stroke risk.\n",
    "\n",
    "__Important:__ This new tool is only aimed to assist you in your daily work, it is not ment to diagnose a patient without human interaction. All patients will still be checked by a doctor.\n",
    "\n",
    "\n",
    "\n",
    "## Data Set\n",
    "\n",
    "You have collected ~4000 historical records of patients, including the information whether they had a stroke or not. A preview of this data set is available below."
   ]
  },
  {
   "cell_type": "code",
   "execution_count": null,
   "metadata": {
    "pycharm": {
     "name": "#%%\n"
    },
    "tags": []
   },
   "outputs": [],
   "source": [
    "import sklearn.metrics\n",
    "\n",
    "from xautoml.util.config import plot_runhistory\n",
    "from xautoml.util.datasets import stroke\n",
    "\n",
    "X_train, y_train = stroke('stroke.csv', train=True)\n",
    "X_train"
   ]
  },
  {
   "cell_type": "markdown",
   "metadata": {
    "pycharm": {
     "name": "#%% md\n"
    },
    "tags": []
   },
   "source": [
    "## Start the Model Building\n",
    "\n",
    "You load the data set in an AutoML tool you have found on the internet, to create a predictive model. After starting the optimization, the AutoML tool tests various possible models and evaluates how good each candidate is. In the meantime you have to wait for the program to finish its optimization."
   ]
  },
  {
   "cell_type": "code",
   "execution_count": null,
   "metadata": {
    "pycharm": {
     "is_executing": true,
     "name": "#%%\n"
    },
    "tags": []
   },
   "outputs": [],
   "source": [
    "import pickle\n",
    "import autosklearn.classification\n",
    "from autosklearn.metrics import balanced_accuracy\n",
    "\n",
    "automl = autosklearn.classification.AutoSklearnClassifier(\n",
    "    time_left_for_this_task=900,\n",
    "    per_run_time_limit=10,\n",
    "    tmp_folder='/opt/xautoml/autosklearn/stroke/',\n",
    "    max_models_on_disc=None,\n",
    "    delete_tmp_folder_after_terminate=False,\n",
    "    metric=balanced_accuracy\n",
    ")\n",
    "automl.fit(X_train, y_train, dataset_name='stroke')\n",
    "\n",
    "with open(f'/opt/xautoml/autosklearn/stroke/autosklearn.pkl', 'wb') as f:\n",
    "    pickle.dump(automl, f)"
   ]
  },
  {
   "cell_type": "code",
   "execution_count": null,
   "metadata": {
    "tags": []
   },
   "outputs": [],
   "source": [
    "import pickle\n",
    "\n",
    "with open('/opt/xautoml/autosklearn/stroke/autosklearn.pkl', 'rb') as f:\n",
    "    automl = pickle.load(f)"
   ]
  },
  {
   "cell_type": "markdown",
   "metadata": {
    "pycharm": {
     "name": "#%% md\n"
    },
    "tags": []
   },
   "source": [
    "After waiting for 15 minutes, you are presented with the following results:\n",
    "\n",
    "### The score of the Final Model\n",
    "\n",
    "Internally, the AutoML tool uses a measure to determine how good a candidate is, for example the number of correct predictions (accuracy). After the optimization, you want to test how good the model actually is before using it with patients. Therefore, you have hidden a part of the data set which you will now use to test how good the best model actually is:"
   ]
  },
  {
   "cell_type": "code",
   "execution_count": null,
   "metadata": {
    "pycharm": {
     "is_executing": true,
     "name": "#%%\n"
    },
    "tags": []
   },
   "outputs": [],
   "source": [
    "from sklearn.metrics import balanced_accuracy_score\n",
    "\n",
    "X_test, y_test = stroke('stroke.csv', test=True)\n",
    "\n",
    "predictions = automl.predict(X_test)\n",
    "balanced_accuracy_score(y_test, predictions)"
   ]
  },
  {
   "cell_type": "markdown",
   "metadata": {
    "pycharm": {
     "name": "#%% md\n"
    },
    "tags": []
   },
   "source": [
    "Meaning, that the generated model is able to predict that many new patients, it has never seen before, correctly.\n",
    "\n",
    "\n",
    "### View the Models found by auto-sklearn\n",
    "\n",
    "Besides the raw performance, the tool also tells you which the best models are"
   ]
  },
  {
   "cell_type": "code",
   "execution_count": null,
   "metadata": {
    "pycharm": {
     "is_executing": true,
     "name": "#%%\n"
    },
    "tags": []
   },
   "outputs": [],
   "source": [
    "automl.leaderboard()"
   ]
  },
  {
   "cell_type": "markdown",
   "metadata": {
    "pycharm": {
     "name": "#%% md\n"
    },
    "tags": []
   },
   "source": [
    "With this information you are good to go and can decide if you actually want to use the generated model."
   ]
  },
  {
   "cell_type": "markdown",
   "metadata": {
    "pycharm": {
     "name": "#%% md\n"
    },
    "tags": []
   },
   "source": [
    "## Load the Same Results in XAutoML"
   ]
  },
  {
   "cell_type": "code",
   "execution_count": null,
   "metadata": {
    "pycharm": {
     "name": "#%%\n"
    },
    "tags": []
   },
   "outputs": [],
   "source": [
    "from xautoml.main import XAutoML\n",
    "from xautoml.adapter import import_auto_sklearn\n",
    "from xautoml.util.datasets import stroke\n",
    "import pickle\n",
    "\n",
    "with open('/opt/xautoml/autosklearn/stroke/autosklearn.pkl', 'rb') as f:\n",
    "    automl = pickle.load(f)\n",
    "\n",
    "X_test, y_test = stroke('stroke.csv', test=True)\n",
    "\n",
    "\n",
    "rh = import_auto_sklearn(automl)\n",
    "main = XAutoML(rh, X_test, y_test)\n",
    "\n",
    "main"
   ]
  },
  {
   "cell_type": "code",
   "execution_count": null,
   "metadata": {},
   "outputs": [],
   "source": [
    "main.explain(include={'overview', 'candidate:domain', 'ensemble'})"
   ]
  },
  {
   "cell_type": "code",
   "execution_count": null,
   "metadata": {},
   "outputs": [],
   "source": [
    "main.explain_domain(rank=0, exclude={'candidate:domain:performance'})"
   ]
  }
 ],
 "metadata": {
  "kernelspec": {
   "display_name": "Python 3 (ipykernel)",
   "language": "python",
   "name": "python3"
  },
  "language_info": {
   "codemirror_mode": {
    "name": "ipython",
    "version": 3
   },
   "file_extension": ".py",
   "mimetype": "text/x-python",
   "name": "python",
   "nbconvert_exporter": "python",
   "pygments_lexer": "ipython3",
   "version": "3.9.13"
  }
 },
 "nbformat": 4,
 "nbformat_minor": 4
}
