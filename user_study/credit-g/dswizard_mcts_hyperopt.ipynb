{
 "cells": [
  {
   "cell_type": "markdown",
   "metadata": {
    "pycharm": {
     "name": "#%% md\n"
    },
    "tags": []
   },
   "source": [
    "# mfeat-morphological\n",
    "\n",
    "## Context\n",
    "\n",
    "Multiple Features Dataset: Morphological  \n",
    "One of a set of 6 datasets describing features of handwritten numerals (0 - 9) extracted from a collection of Dutch utility maps. Corresponding patterns in different datasets correspond to the same original character. 200 instances per class (for a total of 2,000 instances) have been digitized in binary images. \n",
    "\n",
    "In this dataset, these digits are represented in terms of 6 morphological features. \n",
    "\n",
    "### Attribute Information  \n",
    "The meaning of the features is mostly unknown. They are never named in the original files, and the paper only talks about 'morphological features, such as the number of endpoints'."
   ]
  },
  {
   "cell_type": "code",
   "execution_count": null,
   "metadata": {
    "pycharm": {
     "name": "#%%\n"
    },
    "tags": []
   },
   "outputs": [],
   "source": [
    "from xautoml.util.datasets import openml_task\n",
    "\n",
    "X_train, y_train = openml_task(18, 0, train=True)\n",
    "X_train"
   ]
  },
  {
   "cell_type": "markdown",
   "metadata": {
    "pycharm": {
     "name": "#%% md\n"
    },
    "tags": []
   },
   "source": [
    "## Start the Model Building\n",
    "\n",
    "You load the data set in an AutoML tool you have found on the internet, to create a predictive model. After starting the optimization, the AutoML tool tests various possible models and evaluates how good each candidate is. In the meantime you have to wait for the program to finish its optimization."
   ]
  },
  {
   "cell_type": "code",
   "execution_count": null,
   "metadata": {
    "pycharm": {
     "name": "#%%\n"
    },
    "tags": []
   },
   "outputs": [],
   "source": [
    "import pickle\n",
    "from dswizard.optimizers.bandit_learners import PseudoBandit\n",
    "from dswizard.optimizers.structure_generators.mcts import TransferLearning, MCTS\n",
    "from dswizard.optimizers.config_generators import Hyperopt\n",
    "from dswizard.core.master import Master\n",
    "from dswizard.core.model import Dataset\n",
    "from dswizard.util import util\n",
    "\n",
    "util.setup_logging('/opt/xautoml/dswizard/output/mcts/log.txt')\n",
    "\n",
    "ds = Dataset(X_train.values, y_train.values, task=18, metric='accuracy', feature_names=X_train.columns)\n",
    "master = Master(\n",
    "    ds=ds,\n",
    "    working_directory='/opt/xautoml/dswizard/output/mcts/',\n",
    "    n_workers=1,\n",
    "    model='_rf_complete.pkl',\n",
    "\n",
    "    wallclock_limit=600,\n",
    "    cutoff=10,\n",
    "    pre_sample=False,\n",
    "\n",
    "    config_generator_class=Hyperopt,\n",
    "    structure_generator_class=MCTS,\n",
    "    structure_generator_kwargs={'policy': TransferLearning},\n",
    "    bandit_learner_class=PseudoBandit\n",
    ")\n",
    "\n",
    "pipeline, run_history, ensemble = master.optimize()\n",
    "\n",
    "with open('/opt/xautoml/dswizard/output/mcts/dswizard.pkl', 'wb') as f:\n",
    "    pickle.dump((run_history, ensemble), f)\n"
   ]
  },
  {
   "cell_type": "code",
   "execution_count": null,
   "metadata": {
    "pycharm": {
     "name": "#%%\n"
    },
    "tags": []
   },
   "outputs": [],
   "source": [
    "import pickle\n",
    "import joblib\n",
    "\n",
    "with open(f'/opt/xautoml/dswizard/output/mcts/dswizard.pkl', 'rb') as f:\n",
    "    run_history, ensemble = pickle.load(f)\n",
    "\n",
    "with open(f'/opt/xautoml/dswizard/output/mcts/incumbent.pkl', 'rb') as f:\n",
    "    pipeline = joblib.load(f)"
   ]
  },
  {
   "cell_type": "markdown",
   "metadata": {
    "pycharm": {
     "name": "#%% md\n"
    },
    "tags": []
   },
   "source": [
    "After waiting for 10 minutes, you are presented with the following results:\n",
    "\n",
    "### The score of the Final Model\n",
    "\n",
    "Internally, the AutoML tool uses a measure to determine how good a candidate is, for example the number of correct predictions (accuracy). After the optimization, you want to test how good the model actually is before using it with patients. Therefore, you have hidden a part of the data set which you will now use to test how good the best model actually is:"
   ]
  },
  {
   "cell_type": "code",
   "execution_count": null,
   "metadata": {
    "pycharm": {
     "name": "#%%\n"
    },
    "tags": []
   },
   "outputs": [],
   "source": [
    "from sklearn.metrics import accuracy_score\n",
    "\n",
    "X_test, y_test = X_train, y_train = openml_task(18, 0, test=True)\n",
    "\n",
    "predictions = ensemble.predict(X_test.values)\n",
    "accuracy_score(y_test, predictions)"
   ]
  },
  {
   "cell_type": "markdown",
   "metadata": {
    "pycharm": {
     "name": "#%% md\n"
    },
    "tags": []
   },
   "source": [
    "Meaning, that the generated model is able to predict that many new patients, it has never seen before, correctly.\n",
    "\n",
    "\n",
    "### View the Models found by dswizard\n",
    "\n",
    "Besides the raw performance, the tool also tells you which the best models are"
   ]
  },
  {
   "cell_type": "code",
   "execution_count": null,
   "metadata": {
    "pycharm": {
     "name": "#%%\n"
    },
    "tags": []
   },
   "outputs": [],
   "source": [
    "pipeline"
   ]
  },
  {
   "cell_type": "markdown",
   "metadata": {
    "pycharm": {
     "name": "#%% md\n"
    },
    "tags": []
   },
   "source": [
    "With this information you are good to go and can decide if you actually want to use the generated model.\n",
    "\n",
    "## Load the Same Results in XAutoML"
   ]
  },
  {
   "cell_type": "code",
   "execution_count": null,
   "metadata": {
    "pycharm": {
     "name": "#%%\n"
    },
    "tags": []
   },
   "outputs": [],
   "source": [
    "from xautoml.main import XAutoML\n",
    "from xautoml.adapter import import_dswizard\n",
    "from xautoml.util.datasets import openml_task\n",
    "import pickle\n",
    "\n",
    "with open(f'/opt/xautoml/dswizard/output/mcts/dswizard.pkl', 'rb') as f:\n",
    "    run_history, ensemble = pickle.load(f)\n",
    "\n",
    "X_test, y_test = openml_task(18, 0, test=True)\n",
    "\n",
    "rh = import_dswizard(run_history, ensemble)\n",
    "main = XAutoML(rh, X_test, y_test)\n",
    "main"
   ]
  },
  {
   "cell_type": "code",
   "execution_count": null,
   "metadata": {},
   "outputs": [],
   "source": [
    "main.explain(include={'overview', 'candidate:domain', 'ensemble'})"
   ]
  },
  {
   "cell_type": "code",
   "execution_count": null,
   "metadata": {},
   "outputs": [],
   "source": [
    "main.explain_domain(rank=0, exclude={'candidate:domain:performance'})"
   ]
  }
 ],
 "metadata": {
  "kernelspec": {
   "display_name": "Python 3 (ipykernel)",
   "language": "python",
   "name": "python3"
  },
  "language_info": {
   "codemirror_mode": {
    "name": "ipython",
    "version": 3
   },
   "file_extension": ".py",
   "mimetype": "text/x-python",
   "name": "python",
   "nbconvert_exporter": "python",
   "pygments_lexer": "ipython3",
   "version": "3.9.13"
  }
 },
 "nbformat": 4,
 "nbformat_minor": 4
}
