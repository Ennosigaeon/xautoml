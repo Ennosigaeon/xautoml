{
 "cells": [
  {
   "cell_type": "markdown",
   "metadata": {
    "pycharm": {
     "name": "#%% md\n"
    }
   },
   "source": [
    "# Credit Prediction\n",
    "\n",
    "## Context\n",
    "\n",
    "### Credit risk\n",
    "Credit Risk is the probable risk of loss resulting from a borrower's failure to repay a loan or meet contractual obligations. If a company offers credit to its client,then there is a risk that its clients may not pay their invoices.\n",
    "\n",
    "### Types of Credit Risk\n",
    "Good Risk: An investment that one believes is likely to be profitable. The term most often refers to a loan made to a creditworthy person or company. Good risks are considered exceptionally likely to be repaid.\n",
    "Bad Risk: A loan that is unlikely to be repaid because of bad credit history, insufficient income, or some other reason. A bad risk increases the risk to the lender and the likelihood of default on the part of the borrower.\n",
    "\n",
    "### Objective:\n",
    "Based on the attributes, classify a person as good or bad credit risk.\n",
    "\n",
    "### Dataset Description:\n",
    "The dataset contains 1000 entries with 20 independent variables (7 numerical, 13 categorical) and 1 target variable prepared by Prof. Hofmann. In this dataset, each entry represents a person who takes a credit by a bank. Each person is classified as good or bad credit risks according to the set of attributes.The attributes are:\n",
    "\n",
    "### Features\n",
    "* Status of existing checking account, in Deutsche Mark.\n",
    "* Duration in months\n",
    "* Credit history (credits taken, paid back duly, delays, critical accounts)\n",
    "* Purpose of the credit (car, television,...)\n",
    "* Credit amount\n",
    "* Status of savings account/bonds, in Deutsche Mark.\n",
    "* Present employment, in number of years.\n",
    "* Installment rate in percentage of disposable income\n",
    "* Personal status (married, single,...) and sex\n",
    "* Other debtors / guarantors\n",
    "* Present residence since X years\n",
    "* Property (e.g. real estate)\n",
    "* Age in years\n",
    "* Other installment plans (banks, stores)\n",
    "* Housing (rent, own,...)\n",
    "* Number of existing credits at this bank\n",
    "* Job\n",
    "* Number of people being liable to provide maintenance for\n",
    "* Telephone (yes,no)\n",
    "* Foreign worker (yes,no)\n",
    "\n",
    "### Target\n",
    "* Grant credit `good` or denied credit `bad`"
   ]
  },
  {
   "cell_type": "code",
   "execution_count": null,
   "metadata": {
    "jupyter": {
     "source_hidden": true
    },
    "pycharm": {
     "name": "#%%\n"
    },
    "tags": []
   },
   "outputs": [],
   "source": [
    "from xautoml.util.datasets import openml_task\n",
    "\n",
    "X_train, y_train = openml_task(31, 0, train=True)\n",
    "X_train"
   ]
  },
  {
   "cell_type": "markdown",
   "metadata": {
    "pycharm": {
     "name": "#%% md\n"
    }
   },
   "source": [
    "## Start the Model Building\n",
    "\n",
    "You load the data set in an AutoML tool you have found on the internet, to create a predictive model. After starting the optimization, the AutoML tool tests various possible models and evaluates how good each candidate is. In the meantime you have to wait for the program to finish its optimization."
   ]
  },
  {
   "cell_type": "code",
   "execution_count": null,
   "metadata": {
    "jupyter": {
     "source_hidden": true
    },
    "pycharm": {
     "name": "#%%\n"
    },
    "tags": []
   },
   "outputs": [],
   "source": [
    "import pickle\n",
    "from dswizard.optimizers.bandit_learners import PseudoBandit\n",
    "from dswizard.optimizers.structure_generators.mcts import TransferLearning, MCTS\n",
    "from dswizard.optimizers.config_generators import Hyperopt\n",
    "from dswizard.core.master import Master\n",
    "from dswizard.core.model import Dataset\n",
    "from dswizard.util import util\n",
    "\n",
    "util.setup_logging('/opt/xautoml/dswizard/output/mcts/log.txt')\n",
    "\n",
    "ds = Dataset(X_train.values, y_train.values, task=31, metric='accuracy', feature_names=X_train.columns)\n",
    "master = Master(\n",
    "    ds=ds,\n",
    "    working_directory='/opt/xautoml/dswizard/output/mcts/',\n",
    "    n_workers=1,\n",
    "    model='rf_complete.pkl',\n",
    "\n",
    "    wallclock_limit=600,\n",
    "    cutoff=10,\n",
    "    pre_sample=False,\n",
    "\n",
    "    config_generator_class=Hyperopt,\n",
    "    structure_generator_class=MCTS,\n",
    "    structure_generator_kwargs={'policy': TransferLearning},\n",
    "    bandit_learner_class=PseudoBandit\n",
    ")\n",
    "\n",
    "pipeline, run_history, ensemble = master.optimize()\n",
    "\n",
    "with open('/opt/xautoml/dswizard/output/mcts/dswizard.pkl', 'wb') as f:\n",
    "    pickle.dump((run_history, ensemble), f)\n"
   ]
  },
  {
   "cell_type": "code",
   "execution_count": null,
   "outputs": [],
   "source": [
    "import pickle\n",
    "import joblib\n",
    "\n",
    "with open(f'/opt/xautoml/dswizard/output/mcts/dswizard.pkl', 'rb') as f:\n",
    "    run_history, ensemble = pickle.load(f)\n",
    "\n",
    "with open(f'/opt/xautoml/dswizard/output/mcts/incumbent.pkl', 'rb') as f:\n",
    "    pipeline = joblib.load(f)"
   ],
   "metadata": {
    "collapsed": false,
    "pycharm": {
     "name": "#%%\n"
    }
   }
  },
  {
   "cell_type": "markdown",
   "metadata": {
    "pycharm": {
     "name": "#%% md\n"
    }
   },
   "source": [
    "After waiting for 10 minutes, you are presented with the following results:\n",
    "\n",
    "### The score of the Final Model\n",
    "\n",
    "Internally, the AutoML tool uses a measure to determine how good a candidate is, for example the number of correct predictions (accuracy). After the optimization, you want to test how good the model actually is before using it with patients. Therefore, you have hidden a part of the data set which you will now use to test how good the best model actually is:"
   ]
  },
  {
   "cell_type": "code",
   "execution_count": null,
   "metadata": {
    "pycharm": {
     "name": "#%%\n"
    },
    "tags": []
   },
   "outputs": [],
   "source": [
    "from sklearn.metrics import accuracy_score\n",
    "\n",
    "X_test, y_test = X_train, y_train = openml_task(31, 0, test=True)\n",
    "\n",
    "predictions = ensemble.predict(X_test.values)\n",
    "accuracy_score(y_test, predictions)"
   ]
  },
  {
   "cell_type": "markdown",
   "metadata": {
    "pycharm": {
     "name": "#%% md\n"
    }
   },
   "source": [
    "Meaning, that the generated model is able to predict that many new patients, it has never seen before, correctly.\n",
    "\n",
    "\n",
    "### View the Models found by dswizard\n",
    "\n",
    "Besides the raw performance, the tool also tells you which the best models are"
   ]
  },
  {
   "cell_type": "code",
   "execution_count": null,
   "metadata": {
    "collapsed": false,
    "jupyter": {
     "outputs_hidden": false
    },
    "pycharm": {
     "name": "#%%\n"
    }
   },
   "outputs": [],
   "source": [
    "pipeline"
   ]
  },
  {
   "cell_type": "markdown",
   "metadata": {
    "pycharm": {
     "name": "#%% md\n"
    }
   },
   "source": [
    "With this information you are good to go and can decide if you actually want to use the generated model.\n",
    "\n",
    "## Load the Same Results in XAutoML"
   ]
  },
  {
   "cell_type": "code",
   "execution_count": null,
   "metadata": {
    "pycharm": {
     "name": "#%%\n"
    },
    "tags": []
   },
   "outputs": [],
   "source": [
    "from xautoml.main import XAutoML\n",
    "from xautoml.adapter import import_dswizard\n",
    "from xautoml.util.datasets import openml_task\n",
    "import pickle\n",
    "\n",
    "with open(f'/opt/xautoml/dswizard/output/mcts/dswizard.pkl', 'rb') as f:\n",
    "    run_history, ensemble = pickle.load(f)\n",
    "\n",
    "X_test, y_test = openml_task(31, 0, test=True)\n",
    "\n",
    "rh = import_dswizard(run_history, ensemble)\n",
    "main = XAutoML(rh, X_test, y_test)\n",
    "main"
   ]
  },
  {
   "cell_type": "code",
   "execution_count": null,
   "metadata": {},
   "outputs": [],
   "source": []
  }
 ],
 "metadata": {
  "kernelspec": {
   "display_name": "Python 3 (ipykernel)",
   "language": "python",
   "name": "python3"
  },
  "language_info": {
   "codemirror_mode": {
    "name": "ipython",
    "version": 3
   },
   "file_extension": ".py",
   "mimetype": "text/x-python",
   "name": "python",
   "nbconvert_exporter": "python",
   "pygments_lexer": "ipython3",
   "version": "3.9.7"
  }
 },
 "nbformat": 4,
 "nbformat_minor": 4
}