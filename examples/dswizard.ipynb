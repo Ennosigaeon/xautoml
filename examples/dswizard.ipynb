{
 "cells": [
  {
   "cell_type": "markdown",
   "metadata": {
    "pycharm": {
     "name": "#%% md\n"
    },
    "tags": []
   },
   "source": [
    "# Credit Prediction\n",
    "\n",
    "## Load Data\n",
    "This dataset classifies people described by a set of attributes as good or bad credit risks."
   ]
  },
  {
   "cell_type": "code",
   "execution_count": null,
   "metadata": {
    "pycharm": {
     "name": "#%%\n"
    },
    "tags": []
   },
   "outputs": [],
   "source": [
    "from xautoml.util.datasets import openml_task\n",
    "\n",
    "X_train, y_train = openml_task(31, 0, train=True)\n",
    "X_train"
   ]
  },
  {
   "cell_type": "markdown",
   "metadata": {
    "pycharm": {
     "name": "#%% md\n"
    },
    "tags": []
   },
   "source": [
    "## Start the Model Building\n",
    "\n",
    "You load the data set in an AutoML tool you have found on the internet, to create a predictive model. After starting the optimization, the AutoML tool tests various possible models and evaluates how good each candidate is. In the meantime you have to wait for the program to finish its optimization."
   ]
  },
  {
   "cell_type": "code",
   "execution_count": null,
   "metadata": {
    "pycharm": {
     "name": "#%%\n"
    },
    "tags": []
   },
   "outputs": [],
   "source": [
    "import pickle\n",
    "from dswizard.optimizers.bandit_learners import PseudoBandit\n",
    "from dswizard.optimizers.structure_generators.mcts import TransferLearning, MCTS\n",
    "from dswizard.optimizers.config_generators import Hyperopt\n",
    "from dswizard.core.master import Master\n",
    "from dswizard.core.model import Dataset\n",
    "from dswizard.util import util\n",
    "\n",
    "ds = Dataset(X_train.values, y_train.values, task=31, metric='accuracy', feature_names=X_train.columns)\n",
    "master = Master(\n",
    "    ds=ds,\n",
    "    wallclock_limit=60,\n",
    "    cutoff=20,\n",
    "    working_directory='_dswizard_'\n",
    ")\n",
    "\n",
    "pipeline, run_history, ensemble = master.optimize()"
   ]
  },
  {
   "cell_type": "markdown",
   "metadata": {
    "pycharm": {
     "name": "#%% md\n"
    },
    "tags": []
   },
   "source": [
    "## Visualize the Optimization Run in XAutoML"
   ]
  },
  {
   "cell_type": "code",
   "execution_count": null,
   "metadata": {
    "pycharm": {
     "name": "#%%\n"
    },
    "tags": []
   },
   "outputs": [],
   "source": [
    "from xautoml.main import XAutoML\n",
    "from xautoml.adapter import import_dswizard\n",
    "from xautoml.util.datasets import openml_task\n",
    "\n",
    "X_test, y_test = openml_task(31, 0, test=True)\n",
    "\n",
    "rh = import_dswizard(run_history, ensemble)\n",
    "main = XAutoML(rh, X_test, y_test)\n",
    "main"
   ]
  }
 ],
 "metadata": {
  "kernelspec": {
   "display_name": "Python 3 (ipykernel)",
   "language": "python",
   "name": "python3"
  },
  "language_info": {
   "codemirror_mode": {
    "name": "ipython",
    "version": 3
   },
   "file_extension": ".py",
   "mimetype": "text/x-python",
   "name": "python",
   "nbconvert_exporter": "python",
   "pygments_lexer": "ipython3",
   "version": "3.9.7"
  }
 },
 "nbformat": 4,
 "nbformat_minor": 4
}
