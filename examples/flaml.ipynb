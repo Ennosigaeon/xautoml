{
 "cells": [
  {
   "cell_type": "markdown",
   "metadata": {},
   "source": [
    "# Airlines\n",
    "\n",
    "## Load Data\n",
    "Airlines Dataset Inspired in the regression dataset from Elena Ikonomovska. The task is to predict whether a given flight will be delayed, given the information of the scheduled departure."
   ]
  },
  {
   "cell_type": "code",
   "execution_count": null,
   "metadata": {
    "tags": []
   },
   "outputs": [],
   "source": [
    "from xautoml.util.datasets import openml_task\n",
    "\n",
    "X_train, y_train = openml_task(189354, 0, train=True)\n",
    "X_train"
   ]
  },
  {
   "cell_type": "markdown",
   "metadata": {
    "pycharm": {
     "name": "#%% md\n"
    }
   },
   "source": [
    "## Install FLAML\n",
    "If you haven't installed FLAML yet, you can install it via\n",
    "\n",
    "```\n",
    "pip install flaml\n",
    "```"
   ]
  },
  {
   "cell_type": "markdown",
   "metadata": {},
   "source": [
    "## Start the Model Building\n",
    "\n",
    "You load the data set in an AutoML tool you have found on the internet, to create a predictive model. After starting the optimization, the AutoML tool tests various possible models and evaluates how good each candidate is. In the meantime you have to wait for the program to finish its optimization."
   ]
  },
  {
   "cell_type": "code",
   "execution_count": null,
   "metadata": {
    "collapsed": false,
    "jupyter": {
     "outputs_hidden": false
    },
    "pycharm": {
     "name": "#%%\n"
    }
   },
   "outputs": [],
   "source": [
    "from sklearn.pipeline import Pipeline\n",
    "from sklearn.compose import ColumnTransformer\n",
    "from sklearn.preprocessing import StandardScaler, OrdinalEncoder\n",
    "from flaml import AutoML\n",
    "\n",
    "pipeline = Pipeline([\n",
    "    (\"encoding\", ColumnTransformer([('ordinal', OrdinalEncoder(), ['Airline', 'AirportFrom', 'AirportTo'])],\n",
    "                                   remainder='passthrough')),\n",
    "    (\"standardizer\", StandardScaler()),\n",
    "    (\"automl\", AutoML())\n",
    "])\n",
    "\n",
    "pipeline.fit(X_train, y_train,\n",
    "             automl__time_budget=60,\n",
    "             automl__metric='accuracy',\n",
    "             automl__estimator_list=['xgboost', 'catboost', 'lgbm'],\n",
    "             automl__model_history=True,\n",
    "             automl__log_training_metric=True,\n",
    "             automl__keep_search_state=True)"
   ]
  },
  {
   "cell_type": "markdown",
   "metadata": {},
   "source": [
    "## Visualize the Optimization Run in XAutoML\n",
    "\n",
    "The visualization of FLAML is still experimental.\n"
   ]
  },
  {
   "cell_type": "code",
   "execution_count": null,
   "metadata": {
    "collapsed": false,
    "jupyter": {
     "outputs_hidden": false
    },
    "pycharm": {
     "name": "#%%\n"
    }
   },
   "outputs": [],
   "source": [
    "from xautoml.main import XAutoML\n",
    "from xautoml.adapter import import_flaml\n",
    "from xautoml.util.datasets import openml_task\n",
    "\n",
    "X_test, y_test = openml_task(189354, 0, test=True)\n",
    "\n",
    "rh = import_flaml(pipeline)\n",
    "main = XAutoML(rh, X_test, y_test)\n",
    "main"
   ]
  }
 ],
 "metadata": {
  "kernelspec": {
   "display_name": "Python 3 (ipykernel)",
   "language": "python",
   "name": "python3"
  },
  "language_info": {
   "codemirror_mode": {
    "name": "ipython",
    "version": 3
   },
   "file_extension": ".py",
   "mimetype": "text/x-python",
   "name": "python",
   "nbconvert_exporter": "python",
   "pygments_lexer": "ipython3",
   "version": "3.10.12"
  }
 },
 "nbformat": 4,
 "nbformat_minor": 4
}
