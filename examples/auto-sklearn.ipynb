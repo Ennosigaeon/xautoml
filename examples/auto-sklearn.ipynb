{
 "cells": [
  {
   "cell_type": "markdown",
   "metadata": {
    "pycharm": {
     "name": "#%% md\n"
    },
    "tags": []
   },
   "source": [
    "# Credit Prediction\n",
    "\n",
    "## Load Data\n",
    "This dataset classifies people described by a set of attributes as good or bad credit risks."
   ]
  },
  {
   "cell_type": "code",
   "execution_count": 1,
   "metadata": {
    "pycharm": {
     "name": "#%%\n"
    },
    "tags": []
   },
   "outputs": [
    {
     "data": {
      "text/html": [
       "<div>\n",
       "<style scoped>\n",
       "    .dataframe tbody tr th:only-of-type {\n",
       "        vertical-align: middle;\n",
       "    }\n",
       "\n",
       "    .dataframe tbody tr th {\n",
       "        vertical-align: top;\n",
       "    }\n",
       "\n",
       "    .dataframe thead th {\n",
       "        text-align: right;\n",
       "    }\n",
       "</style>\n",
       "<table border=\"1\" class=\"dataframe\">\n",
       "  <thead>\n",
       "    <tr style=\"text-align: right;\">\n",
       "      <th></th>\n",
       "      <th>checking_status</th>\n",
       "      <th>duration</th>\n",
       "      <th>credit_history</th>\n",
       "      <th>purpose</th>\n",
       "      <th>credit_amount</th>\n",
       "      <th>savings_status</th>\n",
       "      <th>employment</th>\n",
       "      <th>installment_commitment</th>\n",
       "      <th>personal_status</th>\n",
       "      <th>other_parties</th>\n",
       "      <th>residence_since</th>\n",
       "      <th>property_magnitude</th>\n",
       "      <th>age</th>\n",
       "      <th>other_payment_plans</th>\n",
       "      <th>housing</th>\n",
       "      <th>existing_credits</th>\n",
       "      <th>job</th>\n",
       "      <th>num_dependents</th>\n",
       "      <th>own_telephone</th>\n",
       "      <th>foreign_worker</th>\n",
       "    </tr>\n",
       "  </thead>\n",
       "  <tbody>\n",
       "    <tr>\n",
       "      <th>0</th>\n",
       "      <td>&gt;=200</td>\n",
       "      <td>18</td>\n",
       "      <td>existing paid</td>\n",
       "      <td>furniture/equipment</td>\n",
       "      <td>3049.0</td>\n",
       "      <td>&lt;100</td>\n",
       "      <td>&lt;1</td>\n",
       "      <td>1</td>\n",
       "      <td>female div/dep/mar</td>\n",
       "      <td>none</td>\n",
       "      <td>1</td>\n",
       "      <td>life insurance</td>\n",
       "      <td>45</td>\n",
       "      <td>stores</td>\n",
       "      <td>own</td>\n",
       "      <td>1</td>\n",
       "      <td>unskilled resident</td>\n",
       "      <td>1</td>\n",
       "      <td>none</td>\n",
       "      <td>yes</td>\n",
       "    </tr>\n",
       "    <tr>\n",
       "      <th>1</th>\n",
       "      <td>no checking</td>\n",
       "      <td>24</td>\n",
       "      <td>critical/other existing credit</td>\n",
       "      <td>education</td>\n",
       "      <td>1927.0</td>\n",
       "      <td>no known savings</td>\n",
       "      <td>1&lt;=X&lt;4</td>\n",
       "      <td>3</td>\n",
       "      <td>female div/dep/mar</td>\n",
       "      <td>none</td>\n",
       "      <td>2</td>\n",
       "      <td>car</td>\n",
       "      <td>33</td>\n",
       "      <td>none</td>\n",
       "      <td>own</td>\n",
       "      <td>2</td>\n",
       "      <td>skilled</td>\n",
       "      <td>1</td>\n",
       "      <td>yes</td>\n",
       "      <td>yes</td>\n",
       "    </tr>\n",
       "    <tr>\n",
       "      <th>2</th>\n",
       "      <td>no checking</td>\n",
       "      <td>12</td>\n",
       "      <td>existing paid</td>\n",
       "      <td>new car</td>\n",
       "      <td>640.0</td>\n",
       "      <td>&lt;100</td>\n",
       "      <td>1&lt;=X&lt;4</td>\n",
       "      <td>4</td>\n",
       "      <td>male div/sep</td>\n",
       "      <td>none</td>\n",
       "      <td>2</td>\n",
       "      <td>real estate</td>\n",
       "      <td>49</td>\n",
       "      <td>none</td>\n",
       "      <td>own</td>\n",
       "      <td>1</td>\n",
       "      <td>unskilled resident</td>\n",
       "      <td>1</td>\n",
       "      <td>none</td>\n",
       "      <td>yes</td>\n",
       "    </tr>\n",
       "    <tr>\n",
       "      <th>3</th>\n",
       "      <td>0&lt;=X&lt;200</td>\n",
       "      <td>6</td>\n",
       "      <td>existing paid</td>\n",
       "      <td>radio/tv</td>\n",
       "      <td>2063.0</td>\n",
       "      <td>&lt;100</td>\n",
       "      <td>&lt;1</td>\n",
       "      <td>4</td>\n",
       "      <td>male mar/wid</td>\n",
       "      <td>none</td>\n",
       "      <td>3</td>\n",
       "      <td>car</td>\n",
       "      <td>30</td>\n",
       "      <td>none</td>\n",
       "      <td>rent</td>\n",
       "      <td>1</td>\n",
       "      <td>high qualif/self emp/mgmt</td>\n",
       "      <td>1</td>\n",
       "      <td>yes</td>\n",
       "      <td>yes</td>\n",
       "    </tr>\n",
       "    <tr>\n",
       "      <th>4</th>\n",
       "      <td>&lt;0</td>\n",
       "      <td>12</td>\n",
       "      <td>critical/other existing credit</td>\n",
       "      <td>used car</td>\n",
       "      <td>1526.0</td>\n",
       "      <td>&lt;100</td>\n",
       "      <td>&gt;=7</td>\n",
       "      <td>4</td>\n",
       "      <td>male single</td>\n",
       "      <td>none</td>\n",
       "      <td>4</td>\n",
       "      <td>no known property</td>\n",
       "      <td>66</td>\n",
       "      <td>none</td>\n",
       "      <td>for free</td>\n",
       "      <td>2</td>\n",
       "      <td>high qualif/self emp/mgmt</td>\n",
       "      <td>1</td>\n",
       "      <td>none</td>\n",
       "      <td>yes</td>\n",
       "    </tr>\n",
       "    <tr>\n",
       "      <th>...</th>\n",
       "      <td>...</td>\n",
       "      <td>...</td>\n",
       "      <td>...</td>\n",
       "      <td>...</td>\n",
       "      <td>...</td>\n",
       "      <td>...</td>\n",
       "      <td>...</td>\n",
       "      <td>...</td>\n",
       "      <td>...</td>\n",
       "      <td>...</td>\n",
       "      <td>...</td>\n",
       "      <td>...</td>\n",
       "      <td>...</td>\n",
       "      <td>...</td>\n",
       "      <td>...</td>\n",
       "      <td>...</td>\n",
       "      <td>...</td>\n",
       "      <td>...</td>\n",
       "      <td>...</td>\n",
       "      <td>...</td>\n",
       "    </tr>\n",
       "    <tr>\n",
       "      <th>895</th>\n",
       "      <td>0&lt;=X&lt;200</td>\n",
       "      <td>30</td>\n",
       "      <td>critical/other existing credit</td>\n",
       "      <td>new car</td>\n",
       "      <td>4249.0</td>\n",
       "      <td>&lt;100</td>\n",
       "      <td>unemployed</td>\n",
       "      <td>4</td>\n",
       "      <td>male mar/wid</td>\n",
       "      <td>none</td>\n",
       "      <td>2</td>\n",
       "      <td>car</td>\n",
       "      <td>28</td>\n",
       "      <td>none</td>\n",
       "      <td>own</td>\n",
       "      <td>2</td>\n",
       "      <td>high qualif/self emp/mgmt</td>\n",
       "      <td>1</td>\n",
       "      <td>none</td>\n",
       "      <td>yes</td>\n",
       "    </tr>\n",
       "    <tr>\n",
       "      <th>896</th>\n",
       "      <td>0&lt;=X&lt;200</td>\n",
       "      <td>24</td>\n",
       "      <td>critical/other existing credit</td>\n",
       "      <td>radio/tv</td>\n",
       "      <td>1216.0</td>\n",
       "      <td>100&lt;=X&lt;500</td>\n",
       "      <td>&lt;1</td>\n",
       "      <td>4</td>\n",
       "      <td>male single</td>\n",
       "      <td>none</td>\n",
       "      <td>4</td>\n",
       "      <td>no known property</td>\n",
       "      <td>38</td>\n",
       "      <td>bank</td>\n",
       "      <td>own</td>\n",
       "      <td>2</td>\n",
       "      <td>skilled</td>\n",
       "      <td>2</td>\n",
       "      <td>none</td>\n",
       "      <td>yes</td>\n",
       "    </tr>\n",
       "    <tr>\n",
       "      <th>897</th>\n",
       "      <td>&lt;0</td>\n",
       "      <td>36</td>\n",
       "      <td>existing paid</td>\n",
       "      <td>furniture/equipment</td>\n",
       "      <td>2712.0</td>\n",
       "      <td>&lt;100</td>\n",
       "      <td>&gt;=7</td>\n",
       "      <td>2</td>\n",
       "      <td>male single</td>\n",
       "      <td>none</td>\n",
       "      <td>2</td>\n",
       "      <td>life insurance</td>\n",
       "      <td>41</td>\n",
       "      <td>bank</td>\n",
       "      <td>own</td>\n",
       "      <td>1</td>\n",
       "      <td>skilled</td>\n",
       "      <td>2</td>\n",
       "      <td>none</td>\n",
       "      <td>yes</td>\n",
       "    </tr>\n",
       "    <tr>\n",
       "      <th>898</th>\n",
       "      <td>&lt;0</td>\n",
       "      <td>24</td>\n",
       "      <td>all paid</td>\n",
       "      <td>furniture/equipment</td>\n",
       "      <td>3552.0</td>\n",
       "      <td>&lt;100</td>\n",
       "      <td>4&lt;=X&lt;7</td>\n",
       "      <td>3</td>\n",
       "      <td>male single</td>\n",
       "      <td>none</td>\n",
       "      <td>4</td>\n",
       "      <td>car</td>\n",
       "      <td>27</td>\n",
       "      <td>bank</td>\n",
       "      <td>own</td>\n",
       "      <td>1</td>\n",
       "      <td>skilled</td>\n",
       "      <td>1</td>\n",
       "      <td>none</td>\n",
       "      <td>yes</td>\n",
       "    </tr>\n",
       "    <tr>\n",
       "      <th>899</th>\n",
       "      <td>0&lt;=X&lt;200</td>\n",
       "      <td>60</td>\n",
       "      <td>existing paid</td>\n",
       "      <td>new car</td>\n",
       "      <td>14027.0</td>\n",
       "      <td>&lt;100</td>\n",
       "      <td>4&lt;=X&lt;7</td>\n",
       "      <td>4</td>\n",
       "      <td>male single</td>\n",
       "      <td>none</td>\n",
       "      <td>2</td>\n",
       "      <td>no known property</td>\n",
       "      <td>27</td>\n",
       "      <td>none</td>\n",
       "      <td>own</td>\n",
       "      <td>1</td>\n",
       "      <td>high qualif/self emp/mgmt</td>\n",
       "      <td>1</td>\n",
       "      <td>yes</td>\n",
       "      <td>yes</td>\n",
       "    </tr>\n",
       "  </tbody>\n",
       "</table>\n",
       "<p>900 rows × 20 columns</p>\n",
       "</div>"
      ],
      "text/plain": [
       "    checking_status  duration                  credit_history  \\\n",
       "0             >=200        18                   existing paid   \n",
       "1       no checking        24  critical/other existing credit   \n",
       "2       no checking        12                   existing paid   \n",
       "3          0<=X<200         6                   existing paid   \n",
       "4                <0        12  critical/other existing credit   \n",
       "..              ...       ...                             ...   \n",
       "895        0<=X<200        30  critical/other existing credit   \n",
       "896        0<=X<200        24  critical/other existing credit   \n",
       "897              <0        36                   existing paid   \n",
       "898              <0        24                        all paid   \n",
       "899        0<=X<200        60                   existing paid   \n",
       "\n",
       "                 purpose  credit_amount    savings_status  employment  \\\n",
       "0    furniture/equipment         3049.0              <100          <1   \n",
       "1              education         1927.0  no known savings      1<=X<4   \n",
       "2                new car          640.0              <100      1<=X<4   \n",
       "3               radio/tv         2063.0              <100          <1   \n",
       "4               used car         1526.0              <100         >=7   \n",
       "..                   ...            ...               ...         ...   \n",
       "895              new car         4249.0              <100  unemployed   \n",
       "896             radio/tv         1216.0        100<=X<500          <1   \n",
       "897  furniture/equipment         2712.0              <100         >=7   \n",
       "898  furniture/equipment         3552.0              <100      4<=X<7   \n",
       "899              new car        14027.0              <100      4<=X<7   \n",
       "\n",
       "     installment_commitment     personal_status other_parties  \\\n",
       "0                         1  female div/dep/mar          none   \n",
       "1                         3  female div/dep/mar          none   \n",
       "2                         4        male div/sep          none   \n",
       "3                         4        male mar/wid          none   \n",
       "4                         4         male single          none   \n",
       "..                      ...                 ...           ...   \n",
       "895                       4        male mar/wid          none   \n",
       "896                       4         male single          none   \n",
       "897                       2         male single          none   \n",
       "898                       3         male single          none   \n",
       "899                       4         male single          none   \n",
       "\n",
       "     residence_since property_magnitude  age other_payment_plans   housing  \\\n",
       "0                  1     life insurance   45              stores       own   \n",
       "1                  2                car   33                none       own   \n",
       "2                  2        real estate   49                none       own   \n",
       "3                  3                car   30                none      rent   \n",
       "4                  4  no known property   66                none  for free   \n",
       "..               ...                ...  ...                 ...       ...   \n",
       "895                2                car   28                none       own   \n",
       "896                4  no known property   38                bank       own   \n",
       "897                2     life insurance   41                bank       own   \n",
       "898                4                car   27                bank       own   \n",
       "899                2  no known property   27                none       own   \n",
       "\n",
       "     existing_credits                        job  num_dependents  \\\n",
       "0                   1         unskilled resident               1   \n",
       "1                   2                    skilled               1   \n",
       "2                   1         unskilled resident               1   \n",
       "3                   1  high qualif/self emp/mgmt               1   \n",
       "4                   2  high qualif/self emp/mgmt               1   \n",
       "..                ...                        ...             ...   \n",
       "895                 2  high qualif/self emp/mgmt               1   \n",
       "896                 2                    skilled               2   \n",
       "897                 1                    skilled               2   \n",
       "898                 1                    skilled               1   \n",
       "899                 1  high qualif/self emp/mgmt               1   \n",
       "\n",
       "    own_telephone foreign_worker  \n",
       "0            none            yes  \n",
       "1             yes            yes  \n",
       "2            none            yes  \n",
       "3             yes            yes  \n",
       "4            none            yes  \n",
       "..            ...            ...  \n",
       "895          none            yes  \n",
       "896          none            yes  \n",
       "897          none            yes  \n",
       "898          none            yes  \n",
       "899           yes            yes  \n",
       "\n",
       "[900 rows x 20 columns]"
      ]
     },
     "execution_count": 1,
     "metadata": {},
     "output_type": "execute_result"
    }
   ],
   "source": [
    "from xautoml.util.datasets import openml_task\n",
    "\n",
    "X_train, y_train = openml_task(31, 0, train=True)\n",
    "X_train"
   ]
  },
  {
   "cell_type": "markdown",
   "metadata": {
    "pycharm": {
     "name": "#%% md\n"
    },
    "tags": []
   },
   "source": [
    "## Start the Model Building\n",
    "\n",
    "Use `auto-sklearn` to train a classifier on the training data.\n",
    "\n",
    "By default, `auto-sklearn` only keeps the models used in the ensemble in memory and deletes all other models after completing the optimization. If you want to analyse all constructed models, you will have to provide `delete_tmp_folder_after_terminate`, `max_models_on_disc` and `tmp_folder` has done in the following cell."
   ]
  },
  {
   "cell_type": "code",
   "execution_count": 2,
   "metadata": {
    "pycharm": {
     "name": "#%%\n"
    },
    "tags": []
   },
   "outputs": [
    {
     "data": {
      "text/plain": [
       "AutoSklearnClassifier(delete_tmp_folder_after_terminate=False,\n",
       "                      max_models_on_disc=None, metric=accuracy,\n",
       "                      per_run_time_limit=20, time_left_for_this_task=60,\n",
       "                      tmp_folder='./_auto-sklearn_/')"
      ]
     },
     "execution_count": 2,
     "metadata": {},
     "output_type": "execute_result"
    }
   ],
   "source": [
    "import shutil\n",
    "import os\n",
    "import autosklearn.classification\n",
    "from autosklearn.metrics import accuracy\n",
    "\n",
    "workdir = './_auto-sklearn_/'\n",
    "if os.path.exists(workdir):\n",
    "    shutil.rmtree(workdir)\n",
    "\n",
    "automl = autosklearn.classification.AutoSklearnClassifier(\n",
    "    time_left_for_this_task=60,\n",
    "    per_run_time_limit=20,\n",
    "    metric=accuracy,\n",
    "    # Optional: Set the following three parameters to analyse all models generate by auto-sklearn. Otherwise, you can only inspect the top 50 models.\n",
    "    delete_tmp_folder_after_terminate=False,\n",
    "    max_models_on_disc=None,\n",
    "    tmp_folder=workdir\n",
    "\n",
    ")\n",
    "automl.fit(X_train, y_train, dataset_name='credit-g')"
   ]
  },
  {
   "cell_type": "markdown",
   "metadata": {
    "pycharm": {
     "name": "#%% md\n"
    },
    "tags": []
   },
   "source": [
    "## Visualize the Optimization Run in XAutoML"
   ]
  },
  {
   "cell_type": "code",
   "execution_count": 3,
   "metadata": {
    "pycharm": {
     "name": "#%%\n"
    },
    "tags": []
   },
   "outputs": [
    {
     "data": {
      "application/xautoml+json": {
       "default_configspace": "{\n  \"hyperparameters\": [\n    {\n      \"name\": \"balancing:strategy\",\n      \"type\": \"categorical\",\n      \"choices\": [\n        \"none\",\n        \"weighting\"\n      ],\n      \"default\": \"none\",\n      \"probabilities\": null\n    },\n    {\n      \"name\": \"classifier:__choice__\",\n      \"type\": \"categorical\",\n      \"choices\": [\n        \"adaboost\",\n        \"bernoulli_nb\",\n        \"decision_tree\",\n        \"extra_trees\",\n        \"gaussian_nb\",\n        \"gradient_boosting\",\n        \"k_nearest_neighbors\",\n        \"lda\",\n        \"liblinear_svc\",\n        \"libsvm_svc\",\n        \"mlp\",\n        \"multinomial_nb\",\n        \"passive_aggressive\",\n        \"qda\",\n        \"random_forest\",\n        \"sgd\"\n      ],\n      \"default\": \"random_forest\",\n      \"probabilities\": null\n    },\n    {\n      \"name\": \"data_preprocessor:__choice__\",\n      \"type\": \"categorical\",\n      \"choices\": [\n        \"feature_type\"\n      ],\n      \"default\": \"feature_type\",\n      \"probabilities\": null\n    },\n    {\n      \"name\": \"feature_preprocessor:__choice__\",\n      \"type\": \"categorical\",\n      \"choices\": [\n        \"extra_trees_preproc_for_classification\",\n        \"fast_ica\",\n        \"feature_agglomeration\",\n        \"kernel_pca\",\n        \"kitchen_sinks\",\n        \"liblinear_svc_preprocessor\",\n        \"no_preprocessing\",\n        \"nystroem_sampler\",\n        \"pca\",\n        \"polynomial\",\n        \"random_trees_embedding\",\n        \"select_percentile_classification\",\n        \"select_rates_classification\"\n      ],\n      \"default\": \"no_preprocessing\",\n      \"probabilities\": null\n    },\n    {\n      \"name\": \"classifier:adaboost:algorithm\",\n      \"type\": \"categorical\",\n      \"choices\": [\n        \"SAMME.R\",\n        \"SAMME\"\n      ],\n      \"default\": \"SAMME.R\",\n      \"probabilities\": null\n    },\n    {\n      \"name\": \"classifier:adaboost:learning_rate\",\n      \"type\": \"uniform_float\",\n      \"log\": true,\n      \"lower\": 0.01,\n      \"upper\": 2.0,\n      \"default\": 0.1\n    },\n    {\n      \"name\": \"classifier:adaboost:max_depth\",\n      \"type\": \"uniform_int\",\n      \"log\": false,\n      \"lower\": 1,\n      \"upper\": 10,\n      \"default\": 1\n    },\n    {\n      \"name\": \"classifier:adaboost:n_estimators\",\n      \"type\": \"uniform_int\",\n      \"log\": false,\n      \"lower\": 50,\n      \"upper\": 500,\n      \"default\": 50\n    },\n    {\n      \"name\": \"classifier:bernoulli_nb:alpha\",\n      \"type\": \"uniform_float\",\n      \"log\": true,\n      \"lower\": 0.01,\n      \"upper\": 100.0,\n      \"default\": 1.0\n    },\n    {\n      \"name\": \"classifier:bernoulli_nb:fit_prior\",\n      \"type\": \"categorical\",\n      \"choices\": [\n        \"True\",\n        \"False\"\n      ],\n      \"default\": \"True\",\n      \"probabilities\": null\n    },\n    {\n      \"name\": \"classifier:decision_tree:criterion\",\n      \"type\": \"categorical\",\n      \"choices\": [\n        \"gini\",\n        \"entropy\"\n      ],\n      \"default\": \"gini\",\n      \"probabilities\": null\n    },\n    {\n      \"name\": \"classifier:decision_tree:max_depth_factor\",\n      \"type\": \"uniform_float\",\n      \"log\": false,\n      \"lower\": 0.0,\n      \"upper\": 2.0,\n      \"default\": 0.5\n    },\n    {\n      \"name\": \"classifier:decision_tree:max_features\",\n      \"type\": \"constant\",\n      \"value\": 1.0\n    },\n    {\n      \"name\": \"classifier:decision_tree:max_leaf_nodes\",\n      \"type\": \"constant\",\n      \"value\": \"None\"\n    },\n    {\n      \"name\": \"classifier:decision_tree:min_impurity_decrease\",\n      \"type\": \"constant\",\n      \"value\": 0.0\n    },\n    {\n      \"name\": \"classifier:decision_tree:min_samples_leaf\",\n      \"type\": \"uniform_int\",\n      \"log\": false,\n      \"lower\": 1,\n      \"upper\": 20,\n      \"default\": 1\n    },\n    {\n      \"name\": \"classifier:decision_tree:min_samples_split\",\n      \"type\": \"uniform_int\",\n      \"log\": false,\n      \"lower\": 2,\n      \"upper\": 20,\n      \"default\": 2\n    },\n    {\n      \"name\": \"classifier:decision_tree:min_weight_fraction_leaf\",\n      \"type\": \"constant\",\n      \"value\": 0.0\n    },\n    {\n      \"name\": \"classifier:extra_trees:bootstrap\",\n      \"type\": \"categorical\",\n      \"choices\": [\n        \"True\",\n        \"False\"\n      ],\n      \"default\": \"False\",\n      \"probabilities\": null\n    },\n    {\n      \"name\": \"classifier:extra_trees:criterion\",\n      \"type\": \"categorical\",\n      \"choices\": [\n        \"gini\",\n        \"entropy\"\n      ],\n      \"default\": \"gini\",\n      \"probabilities\": null\n    },\n    {\n      \"name\": \"classifier:extra_trees:max_depth\",\n      \"type\": \"constant\",\n      \"value\": \"None\"\n    },\n    {\n      \"name\": \"classifier:extra_trees:max_features\",\n      \"type\": \"uniform_float\",\n      \"log\": false,\n      \"lower\": 0.0,\n      \"upper\": 1.0,\n      \"default\": 0.5\n    },\n    {\n      \"name\": \"classifier:extra_trees:max_leaf_nodes\",\n      \"type\": \"constant\",\n      \"value\": \"None\"\n    },\n    {\n      \"name\": \"classifier:extra_trees:min_impurity_decrease\",\n      \"type\": \"constant\",\n      \"value\": 0.0\n    },\n    {\n      \"name\": \"classifier:extra_trees:min_samples_leaf\",\n      \"type\": \"uniform_int\",\n      \"log\": false,\n      \"lower\": 1,\n      \"upper\": 20,\n      \"default\": 1\n    },\n    {\n      \"name\": \"classifier:extra_trees:min_samples_split\",\n      \"type\": \"uniform_int\",\n      \"log\": false,\n      \"lower\": 2,\n      \"upper\": 20,\n      \"default\": 2\n    },\n    {\n      \"name\": \"classifier:extra_trees:min_weight_fraction_leaf\",\n      \"type\": \"constant\",\n      \"value\": 0.0\n    },\n    {\n      \"name\": \"classifier:gradient_boosting:early_stop\",\n      \"type\": \"categorical\",\n      \"choices\": [\n        \"off\",\n        \"valid\",\n        \"train\"\n      ],\n      \"default\": \"off\",\n      \"probabilities\": null\n    },\n    {\n      \"name\": \"classifier:gradient_boosting:l2_regularization\",\n      \"type\": \"uniform_float\",\n      \"log\": true,\n      \"lower\": 1e-10,\n      \"upper\": 1.0,\n      \"default\": 1e-10\n    },\n    {\n      \"name\": \"classifier:gradient_boosting:learning_rate\",\n      \"type\": \"uniform_float\",\n      \"log\": true,\n      \"lower\": 0.01,\n      \"upper\": 1.0,\n      \"default\": 0.1\n    },\n    {\n      \"name\": \"classifier:gradient_boosting:loss\",\n      \"type\": \"constant\",\n      \"value\": \"auto\"\n    },\n    {\n      \"name\": \"classifier:gradient_boosting:max_bins\",\n      \"type\": \"constant\",\n      \"value\": 255\n    },\n    {\n      \"name\": \"classifier:gradient_boosting:max_depth\",\n      \"type\": \"constant\",\n      \"value\": \"None\"\n    },\n    {\n      \"name\": \"classifier:gradient_boosting:max_leaf_nodes\",\n      \"type\": \"uniform_int\",\n      \"log\": true,\n      \"lower\": 3,\n      \"upper\": 2047,\n      \"default\": 31\n    },\n    {\n      \"name\": \"classifier:gradient_boosting:min_samples_leaf\",\n      \"type\": \"uniform_int\",\n      \"log\": true,\n      \"lower\": 1,\n      \"upper\": 200,\n      \"default\": 20\n    },\n    {\n      \"name\": \"classifier:gradient_boosting:scoring\",\n      \"type\": \"constant\",\n      \"value\": \"loss\"\n    },\n    {\n      \"name\": \"classifier:gradient_boosting:tol\",\n      \"type\": \"constant\",\n      \"value\": 1e-07\n    },\n    {\n      \"name\": \"classifier:k_nearest_neighbors:n_neighbors\",\n      \"type\": \"uniform_int\",\n      \"log\": true,\n      \"lower\": 1,\n      \"upper\": 100,\n      \"default\": 1\n    },\n    {\n      \"name\": \"classifier:k_nearest_neighbors:p\",\n      \"type\": \"categorical\",\n      \"choices\": [\n        1,\n        2\n      ],\n      \"default\": 2,\n      \"probabilities\": null\n    },\n    {\n      \"name\": \"classifier:k_nearest_neighbors:weights\",\n      \"type\": \"categorical\",\n      \"choices\": [\n        \"uniform\",\n        \"distance\"\n      ],\n      \"default\": \"uniform\",\n      \"probabilities\": null\n    },\n    {\n      \"name\": \"classifier:lda:shrinkage\",\n      \"type\": \"categorical\",\n      \"choices\": [\n        \"None\",\n        \"auto\",\n        \"manual\"\n      ],\n      \"default\": \"None\",\n      \"probabilities\": null\n    },\n    {\n      \"name\": \"classifier:lda:tol\",\n      \"type\": \"uniform_float\",\n      \"log\": true,\n      \"lower\": 1e-05,\n      \"upper\": 0.1,\n      \"default\": 0.0001\n    },\n    {\n      \"name\": \"classifier:liblinear_svc:C\",\n      \"type\": \"uniform_float\",\n      \"log\": true,\n      \"lower\": 0.03125,\n      \"upper\": 32768.0,\n      \"default\": 1.0\n    },\n    {\n      \"name\": \"classifier:liblinear_svc:dual\",\n      \"type\": \"constant\",\n      \"value\": \"False\"\n    },\n    {\n      \"name\": \"classifier:liblinear_svc:fit_intercept\",\n      \"type\": \"constant\",\n      \"value\": \"True\"\n    },\n    {\n      \"name\": \"classifier:liblinear_svc:intercept_scaling\",\n      \"type\": \"constant\",\n      \"value\": 1\n    },\n    {\n      \"name\": \"classifier:liblinear_svc:loss\",\n      \"type\": \"categorical\",\n      \"choices\": [\n        \"hinge\",\n        \"squared_hinge\"\n      ],\n      \"default\": \"squared_hinge\",\n      \"probabilities\": null\n    },\n    {\n      \"name\": \"classifier:liblinear_svc:multi_class\",\n      \"type\": \"constant\",\n      \"value\": \"ovr\"\n    },\n    {\n      \"name\": \"classifier:liblinear_svc:penalty\",\n      \"type\": \"categorical\",\n      \"choices\": [\n        \"l1\",\n        \"l2\"\n      ],\n      \"default\": \"l2\",\n      \"probabilities\": null\n    },\n    {\n      \"name\": \"classifier:liblinear_svc:tol\",\n      \"type\": \"uniform_float\",\n      \"log\": true,\n      \"lower\": 1e-05,\n      \"upper\": 0.1,\n      \"default\": 0.0001\n    },\n    {\n      \"name\": \"classifier:libsvm_svc:C\",\n      \"type\": \"uniform_float\",\n      \"log\": true,\n      \"lower\": 0.03125,\n      \"upper\": 32768.0,\n      \"default\": 1.0\n    },\n    {\n      \"name\": \"classifier:libsvm_svc:gamma\",\n      \"type\": \"uniform_float\",\n      \"log\": true,\n      \"lower\": 3.0517578125e-05,\n      \"upper\": 8.0,\n      \"default\": 0.1\n    },\n    {\n      \"name\": \"classifier:libsvm_svc:kernel\",\n      \"type\": \"categorical\",\n      \"choices\": [\n        \"rbf\",\n        \"poly\",\n        \"sigmoid\"\n      ],\n      \"default\": \"rbf\",\n      \"probabilities\": null\n    },\n    {\n      \"name\": \"classifier:libsvm_svc:max_iter\",\n      \"type\": \"constant\",\n      \"value\": -1\n    },\n    {\n      \"name\": \"classifier:libsvm_svc:shrinking\",\n      \"type\": \"categorical\",\n      \"choices\": [\n        \"True\",\n        \"False\"\n      ],\n      \"default\": \"True\",\n      \"probabilities\": null\n    },\n    {\n      \"name\": \"classifier:libsvm_svc:tol\",\n      \"type\": \"uniform_float\",\n      \"log\": true,\n      \"lower\": 1e-05,\n      \"upper\": 0.1,\n      \"default\": 0.001\n    },\n    {\n      \"name\": \"classifier:mlp:activation\",\n      \"type\": \"categorical\",\n      \"choices\": [\n        \"tanh\",\n        \"relu\"\n      ],\n      \"default\": \"relu\",\n      \"probabilities\": null\n    },\n    {\n      \"name\": \"classifier:mlp:alpha\",\n      \"type\": \"uniform_float\",\n      \"log\": true,\n      \"lower\": 1e-07,\n      \"upper\": 0.1,\n      \"default\": 0.0001\n    },\n    {\n      \"name\": \"classifier:mlp:batch_size\",\n      \"type\": \"constant\",\n      \"value\": \"auto\"\n    },\n    {\n      \"name\": \"classifier:mlp:beta_1\",\n      \"type\": \"constant\",\n      \"value\": 0.9\n    },\n    {\n      \"name\": \"classifier:mlp:beta_2\",\n      \"type\": \"constant\",\n      \"value\": 0.999\n    },\n    {\n      \"name\": \"classifier:mlp:early_stopping\",\n      \"type\": \"categorical\",\n      \"choices\": [\n        \"valid\",\n        \"train\"\n      ],\n      \"default\": \"valid\",\n      \"probabilities\": null\n    },\n    {\n      \"name\": \"classifier:mlp:epsilon\",\n      \"type\": \"constant\",\n      \"value\": 1e-08\n    },\n    {\n      \"name\": \"classifier:mlp:hidden_layer_depth\",\n      \"type\": \"uniform_int\",\n      \"log\": false,\n      \"lower\": 1,\n      \"upper\": 3,\n      \"default\": 1\n    },\n    {\n      \"name\": \"classifier:mlp:learning_rate_init\",\n      \"type\": \"uniform_float\",\n      \"log\": true,\n      \"lower\": 0.0001,\n      \"upper\": 0.5,\n      \"default\": 0.001\n    },\n    {\n      \"name\": \"classifier:mlp:n_iter_no_change\",\n      \"type\": \"constant\",\n      \"value\": 32\n    },\n    {\n      \"name\": \"classifier:mlp:num_nodes_per_layer\",\n      \"type\": \"uniform_int\",\n      \"log\": true,\n      \"lower\": 16,\n      \"upper\": 264,\n      \"default\": 32\n    },\n    {\n      \"name\": \"classifier:mlp:shuffle\",\n      \"type\": \"constant\",\n      \"value\": \"True\"\n    },\n    {\n      \"name\": \"classifier:mlp:solver\",\n      \"type\": \"constant\",\n      \"value\": \"adam\"\n    },\n    {\n      \"name\": \"classifier:mlp:tol\",\n      \"type\": \"constant\",\n      \"value\": 0.0001\n    },\n    {\n      \"name\": \"classifier:multinomial_nb:alpha\",\n      \"type\": \"uniform_float\",\n      \"log\": true,\n      \"lower\": 0.01,\n      \"upper\": 100.0,\n      \"default\": 1.0\n    },\n    {\n      \"name\": \"classifier:multinomial_nb:fit_prior\",\n      \"type\": \"categorical\",\n      \"choices\": [\n        \"True\",\n        \"False\"\n      ],\n      \"default\": \"True\",\n      \"probabilities\": null\n    },\n    {\n      \"name\": \"classifier:passive_aggressive:C\",\n      \"type\": \"uniform_float\",\n      \"log\": true,\n      \"lower\": 1e-05,\n      \"upper\": 10.0,\n      \"default\": 1.0\n    },\n    {\n      \"name\": \"classifier:passive_aggressive:average\",\n      \"type\": \"categorical\",\n      \"choices\": [\n        \"False\",\n        \"True\"\n      ],\n      \"default\": \"False\",\n      \"probabilities\": null\n    },\n    {\n      \"name\": \"classifier:passive_aggressive:fit_intercept\",\n      \"type\": \"constant\",\n      \"value\": \"True\"\n    },\n    {\n      \"name\": \"classifier:passive_aggressive:loss\",\n      \"type\": \"categorical\",\n      \"choices\": [\n        \"hinge\",\n        \"squared_hinge\"\n      ],\n      \"default\": \"hinge\",\n      \"probabilities\": null\n    },\n    {\n      \"name\": \"classifier:passive_aggressive:tol\",\n      \"type\": \"uniform_float\",\n      \"log\": true,\n      \"lower\": 1e-05,\n      \"upper\": 0.1,\n      \"default\": 0.0001\n    },\n    {\n      \"name\": \"classifier:qda:reg_param\",\n      \"type\": \"uniform_float\",\n      \"log\": false,\n      \"lower\": 0.0,\n      \"upper\": 1.0,\n      \"default\": 0.0\n    },\n    {\n      \"name\": \"classifier:random_forest:bootstrap\",\n      \"type\": \"categorical\",\n      \"choices\": [\n        \"True\",\n        \"False\"\n      ],\n      \"default\": \"True\",\n      \"probabilities\": null\n    },\n    {\n      \"name\": \"classifier:random_forest:criterion\",\n      \"type\": \"categorical\",\n      \"choices\": [\n        \"gini\",\n        \"entropy\"\n      ],\n      \"default\": \"gini\",\n      \"probabilities\": null\n    },\n    {\n      \"name\": \"classifier:random_forest:max_depth\",\n      \"type\": \"constant\",\n      \"value\": \"None\"\n    },\n    {\n      \"name\": \"classifier:random_forest:max_features\",\n      \"type\": \"uniform_float\",\n      \"log\": false,\n      \"lower\": 0.0,\n      \"upper\": 1.0,\n      \"default\": 0.5\n    },\n    {\n      \"name\": \"classifier:random_forest:max_leaf_nodes\",\n      \"type\": \"constant\",\n      \"value\": \"None\"\n    },\n    {\n      \"name\": \"classifier:random_forest:min_impurity_decrease\",\n      \"type\": \"constant\",\n      \"value\": 0.0\n    },\n    {\n      \"name\": \"classifier:random_forest:min_samples_leaf\",\n      \"type\": \"uniform_int\",\n      \"log\": false,\n      \"lower\": 1,\n      \"upper\": 20,\n      \"default\": 1\n    },\n    {\n      \"name\": \"classifier:random_forest:min_samples_split\",\n      \"type\": \"uniform_int\",\n      \"log\": false,\n      \"lower\": 2,\n      \"upper\": 20,\n      \"default\": 2\n    },\n    {\n      \"name\": \"classifier:random_forest:min_weight_fraction_leaf\",\n      \"type\": \"constant\",\n      \"value\": 0.0\n    },\n    {\n      \"name\": \"classifier:sgd:alpha\",\n      \"type\": \"uniform_float\",\n      \"log\": true,\n      \"lower\": 1e-07,\n      \"upper\": 0.1,\n      \"default\": 0.0001\n    },\n    {\n      \"name\": \"classifier:sgd:average\",\n      \"type\": \"categorical\",\n      \"choices\": [\n        \"False\",\n        \"True\"\n      ],\n      \"default\": \"False\",\n      \"probabilities\": null\n    },\n    {\n      \"name\": \"classifier:sgd:fit_intercept\",\n      \"type\": \"constant\",\n      \"value\": \"True\"\n    },\n    {\n      \"name\": \"classifier:sgd:learning_rate\",\n      \"type\": \"categorical\",\n      \"choices\": [\n        \"optimal\",\n        \"invscaling\",\n        \"constant\"\n      ],\n      \"default\": \"invscaling\",\n      \"probabilities\": null\n    },\n    {\n      \"name\": \"classifier:sgd:loss\",\n      \"type\": \"categorical\",\n      \"choices\": [\n        \"hinge\",\n        \"log\",\n        \"modified_huber\",\n        \"squared_hinge\",\n        \"perceptron\"\n      ],\n      \"default\": \"log\",\n      \"probabilities\": null\n    },\n    {\n      \"name\": \"classifier:sgd:penalty\",\n      \"type\": \"categorical\",\n      \"choices\": [\n        \"l1\",\n        \"l2\",\n        \"elasticnet\"\n      ],\n      \"default\": \"l2\",\n      \"probabilities\": null\n    },\n    {\n      \"name\": \"classifier:sgd:tol\",\n      \"type\": \"uniform_float\",\n      \"log\": true,\n      \"lower\": 1e-05,\n      \"upper\": 0.1,\n      \"default\": 0.0001\n    },\n    {\n      \"name\": \"data_preprocessor:feature_type:categorical_transformer:categorical_encoding:__choice__\",\n      \"type\": \"categorical\",\n      \"choices\": [\n        \"encoding\",\n        \"no_encoding\",\n        \"one_hot_encoding\"\n      ],\n      \"default\": \"one_hot_encoding\",\n      \"probabilities\": null\n    },\n    {\n      \"name\": \"data_preprocessor:feature_type:categorical_transformer:category_coalescence:__choice__\",\n      \"type\": \"categorical\",\n      \"choices\": [\n        \"minority_coalescer\",\n        \"no_coalescense\"\n      ],\n      \"default\": \"minority_coalescer\",\n      \"probabilities\": null\n    },\n    {\n      \"name\": \"data_preprocessor:feature_type:numerical_transformer:imputation:strategy\",\n      \"type\": \"categorical\",\n      \"choices\": [\n        \"mean\",\n        \"median\",\n        \"most_frequent\"\n      ],\n      \"default\": \"mean\",\n      \"probabilities\": null\n    },\n    {\n      \"name\": \"data_preprocessor:feature_type:numerical_transformer:rescaling:__choice__\",\n      \"type\": \"categorical\",\n      \"choices\": [\n        \"minmax\",\n        \"none\",\n        \"normalize\",\n        \"power_transformer\",\n        \"quantile_transformer\",\n        \"robust_scaler\",\n        \"standardize\"\n      ],\n      \"default\": \"standardize\",\n      \"probabilities\": null\n    },\n    {\n      \"name\": \"feature_preprocessor:extra_trees_preproc_for_classification:bootstrap\",\n      \"type\": \"categorical\",\n      \"choices\": [\n        \"True\",\n        \"False\"\n      ],\n      \"default\": \"False\",\n      \"probabilities\": null\n    },\n    {\n      \"name\": \"feature_preprocessor:extra_trees_preproc_for_classification:criterion\",\n      \"type\": \"categorical\",\n      \"choices\": [\n        \"gini\",\n        \"entropy\"\n      ],\n      \"default\": \"gini\",\n      \"probabilities\": null\n    },\n    {\n      \"name\": \"feature_preprocessor:extra_trees_preproc_for_classification:max_depth\",\n      \"type\": \"constant\",\n      \"value\": \"None\"\n    },\n    {\n      \"name\": \"feature_preprocessor:extra_trees_preproc_for_classification:max_features\",\n      \"type\": \"uniform_float\",\n      \"log\": false,\n      \"lower\": 0.0,\n      \"upper\": 1.0,\n      \"default\": 0.5\n    },\n    {\n      \"name\": \"feature_preprocessor:extra_trees_preproc_for_classification:max_leaf_nodes\",\n      \"type\": \"constant\",\n      \"value\": \"None\"\n    },\n    {\n      \"name\": \"feature_preprocessor:extra_trees_preproc_for_classification:min_impurity_decrease\",\n      \"type\": \"constant\",\n      \"value\": 0.0\n    },\n    {\n      \"name\": \"feature_preprocessor:extra_trees_preproc_for_classification:min_samples_leaf\",\n      \"type\": \"uniform_int\",\n      \"log\": false,\n      \"lower\": 1,\n      \"upper\": 20,\n      \"default\": 1\n    },\n    {\n      \"name\": \"feature_preprocessor:extra_trees_preproc_for_classification:min_samples_split\",\n      \"type\": \"uniform_int\",\n      \"log\": false,\n      \"lower\": 2,\n      \"upper\": 20,\n      \"default\": 2\n    },\n    {\n      \"name\": \"feature_preprocessor:extra_trees_preproc_for_classification:min_weight_fraction_leaf\",\n      \"type\": \"constant\",\n      \"value\": 0.0\n    },\n    {\n      \"name\": \"feature_preprocessor:extra_trees_preproc_for_classification:n_estimators\",\n      \"type\": \"constant\",\n      \"value\": 100\n    },\n    {\n      \"name\": \"feature_preprocessor:fast_ica:algorithm\",\n      \"type\": \"categorical\",\n      \"choices\": [\n        \"parallel\",\n        \"deflation\"\n      ],\n      \"default\": \"parallel\",\n      \"probabilities\": null\n    },\n    {\n      \"name\": \"feature_preprocessor:fast_ica:fun\",\n      \"type\": \"categorical\",\n      \"choices\": [\n        \"logcosh\",\n        \"exp\",\n        \"cube\"\n      ],\n      \"default\": \"logcosh\",\n      \"probabilities\": null\n    },\n    {\n      \"name\": \"feature_preprocessor:fast_ica:whiten\",\n      \"type\": \"categorical\",\n      \"choices\": [\n        \"False\",\n        \"True\"\n      ],\n      \"default\": \"False\",\n      \"probabilities\": null\n    },\n    {\n      \"name\": \"feature_preprocessor:feature_agglomeration:affinity\",\n      \"type\": \"categorical\",\n      \"choices\": [\n        \"euclidean\",\n        \"manhattan\",\n        \"cosine\"\n      ],\n      \"default\": \"euclidean\",\n      \"probabilities\": null\n    },\n    {\n      \"name\": \"feature_preprocessor:feature_agglomeration:linkage\",\n      \"type\": \"categorical\",\n      \"choices\": [\n        \"ward\",\n        \"complete\",\n        \"average\"\n      ],\n      \"default\": \"ward\",\n      \"probabilities\": null\n    },\n    {\n      \"name\": \"feature_preprocessor:feature_agglomeration:n_clusters\",\n      \"type\": \"uniform_int\",\n      \"log\": false,\n      \"lower\": 2,\n      \"upper\": 400,\n      \"default\": 25\n    },\n    {\n      \"name\": \"feature_preprocessor:feature_agglomeration:pooling_func\",\n      \"type\": \"categorical\",\n      \"choices\": [\n        \"mean\",\n        \"median\",\n        \"max\"\n      ],\n      \"default\": \"mean\",\n      \"probabilities\": null\n    },\n    {\n      \"name\": \"feature_preprocessor:kernel_pca:kernel\",\n      \"type\": \"categorical\",\n      \"choices\": [\n        \"poly\",\n        \"rbf\",\n        \"sigmoid\",\n        \"cosine\"\n      ],\n      \"default\": \"rbf\",\n      \"probabilities\": null\n    },\n    {\n      \"name\": \"feature_preprocessor:kernel_pca:n_components\",\n      \"type\": \"uniform_int\",\n      \"log\": false,\n      \"lower\": 10,\n      \"upper\": 2000,\n      \"default\": 100\n    },\n    {\n      \"name\": \"feature_preprocessor:kitchen_sinks:gamma\",\n      \"type\": \"uniform_float\",\n      \"log\": true,\n      \"lower\": 3.0517578125e-05,\n      \"upper\": 8.0,\n      \"default\": 1.0\n    },\n    {\n      \"name\": \"feature_preprocessor:kitchen_sinks:n_components\",\n      \"type\": \"uniform_int\",\n      \"log\": true,\n      \"lower\": 50,\n      \"upper\": 10000,\n      \"default\": 100\n    },\n    {\n      \"name\": \"feature_preprocessor:liblinear_svc_preprocessor:C\",\n      \"type\": \"uniform_float\",\n      \"log\": true,\n      \"lower\": 0.03125,\n      \"upper\": 32768.0,\n      \"default\": 1.0\n    },\n    {\n      \"name\": \"feature_preprocessor:liblinear_svc_preprocessor:dual\",\n      \"type\": \"constant\",\n      \"value\": \"False\"\n    },\n    {\n      \"name\": \"feature_preprocessor:liblinear_svc_preprocessor:fit_intercept\",\n      \"type\": \"constant\",\n      \"value\": \"True\"\n    },\n    {\n      \"name\": \"feature_preprocessor:liblinear_svc_preprocessor:intercept_scaling\",\n      \"type\": \"constant\",\n      \"value\": 1\n    },\n    {\n      \"name\": \"feature_preprocessor:liblinear_svc_preprocessor:loss\",\n      \"type\": \"categorical\",\n      \"choices\": [\n        \"hinge\",\n        \"squared_hinge\"\n      ],\n      \"default\": \"squared_hinge\",\n      \"probabilities\": null\n    },\n    {\n      \"name\": \"feature_preprocessor:liblinear_svc_preprocessor:multi_class\",\n      \"type\": \"constant\",\n      \"value\": \"ovr\"\n    },\n    {\n      \"name\": \"feature_preprocessor:liblinear_svc_preprocessor:penalty\",\n      \"type\": \"constant\",\n      \"value\": \"l1\"\n    },\n    {\n      \"name\": \"feature_preprocessor:liblinear_svc_preprocessor:tol\",\n      \"type\": \"uniform_float\",\n      \"log\": true,\n      \"lower\": 1e-05,\n      \"upper\": 0.1,\n      \"default\": 0.0001\n    },\n    {\n      \"name\": \"feature_preprocessor:nystroem_sampler:kernel\",\n      \"type\": \"categorical\",\n      \"choices\": [\n        \"poly\",\n        \"rbf\",\n        \"sigmoid\",\n        \"cosine\"\n      ],\n      \"default\": \"rbf\",\n      \"probabilities\": null\n    },\n    {\n      \"name\": \"feature_preprocessor:nystroem_sampler:n_components\",\n      \"type\": \"uniform_int\",\n      \"log\": true,\n      \"lower\": 50,\n      \"upper\": 10000,\n      \"default\": 100\n    },\n    {\n      \"name\": \"feature_preprocessor:pca:keep_variance\",\n      \"type\": \"uniform_float\",\n      \"log\": false,\n      \"lower\": 0.5,\n      \"upper\": 0.9999,\n      \"default\": 0.9999\n    },\n    {\n      \"name\": \"feature_preprocessor:pca:whiten\",\n      \"type\": \"categorical\",\n      \"choices\": [\n        \"False\",\n        \"True\"\n      ],\n      \"default\": \"False\",\n      \"probabilities\": null\n    },\n    {\n      \"name\": \"feature_preprocessor:polynomial:degree\",\n      \"type\": \"uniform_int\",\n      \"log\": false,\n      \"lower\": 2,\n      \"upper\": 3,\n      \"default\": 2\n    },\n    {\n      \"name\": \"feature_preprocessor:polynomial:include_bias\",\n      \"type\": \"categorical\",\n      \"choices\": [\n        \"True\",\n        \"False\"\n      ],\n      \"default\": \"True\",\n      \"probabilities\": null\n    },\n    {\n      \"name\": \"feature_preprocessor:polynomial:interaction_only\",\n      \"type\": \"categorical\",\n      \"choices\": [\n        \"False\",\n        \"True\"\n      ],\n      \"default\": \"False\",\n      \"probabilities\": null\n    },\n    {\n      \"name\": \"feature_preprocessor:random_trees_embedding:bootstrap\",\n      \"type\": \"categorical\",\n      \"choices\": [\n        \"True\",\n        \"False\"\n      ],\n      \"default\": \"True\",\n      \"probabilities\": null\n    },\n    {\n      \"name\": \"feature_preprocessor:random_trees_embedding:max_depth\",\n      \"type\": \"uniform_int\",\n      \"log\": false,\n      \"lower\": 2,\n      \"upper\": 10,\n      \"default\": 5\n    },\n    {\n      \"name\": \"feature_preprocessor:random_trees_embedding:max_leaf_nodes\",\n      \"type\": \"constant\",\n      \"value\": \"None\"\n    },\n    {\n      \"name\": \"feature_preprocessor:random_trees_embedding:min_samples_leaf\",\n      \"type\": \"uniform_int\",\n      \"log\": false,\n      \"lower\": 1,\n      \"upper\": 20,\n      \"default\": 1\n    },\n    {\n      \"name\": \"feature_preprocessor:random_trees_embedding:min_samples_split\",\n      \"type\": \"uniform_int\",\n      \"log\": false,\n      \"lower\": 2,\n      \"upper\": 20,\n      \"default\": 2\n    },\n    {\n      \"name\": \"feature_preprocessor:random_trees_embedding:min_weight_fraction_leaf\",\n      \"type\": \"constant\",\n      \"value\": 1.0\n    },\n    {\n      \"name\": \"feature_preprocessor:random_trees_embedding:n_estimators\",\n      \"type\": \"uniform_int\",\n      \"log\": false,\n      \"lower\": 10,\n      \"upper\": 100,\n      \"default\": 10\n    },\n    {\n      \"name\": \"feature_preprocessor:select_percentile_classification:percentile\",\n      \"type\": \"uniform_float\",\n      \"log\": false,\n      \"lower\": 1.0,\n      \"upper\": 99.0,\n      \"default\": 50.0\n    },\n    {\n      \"name\": \"feature_preprocessor:select_percentile_classification:score_func\",\n      \"type\": \"categorical\",\n      \"choices\": [\n        \"chi2\",\n        \"f_classif\",\n        \"mutual_info\"\n      ],\n      \"default\": \"chi2\",\n      \"probabilities\": null\n    },\n    {\n      \"name\": \"feature_preprocessor:select_rates_classification:alpha\",\n      \"type\": \"uniform_float\",\n      \"log\": false,\n      \"lower\": 0.01,\n      \"upper\": 0.5,\n      \"default\": 0.1\n    },\n    {\n      \"name\": \"feature_preprocessor:select_rates_classification:score_func\",\n      \"type\": \"categorical\",\n      \"choices\": [\n        \"chi2\",\n        \"f_classif\",\n        \"mutual_info_classif\"\n      ],\n      \"default\": \"chi2\",\n      \"probabilities\": null\n    },\n    {\n      \"name\": \"classifier:gradient_boosting:n_iter_no_change\",\n      \"type\": \"uniform_int\",\n      \"log\": false,\n      \"lower\": 1,\n      \"upper\": 20,\n      \"default\": 10\n    },\n    {\n      \"name\": \"classifier:gradient_boosting:validation_fraction\",\n      \"type\": \"uniform_float\",\n      \"log\": false,\n      \"lower\": 0.01,\n      \"upper\": 0.4,\n      \"default\": 0.1\n    },\n    {\n      \"name\": \"classifier:lda:shrinkage_factor\",\n      \"type\": \"uniform_float\",\n      \"log\": false,\n      \"lower\": 0.0,\n      \"upper\": 1.0,\n      \"default\": 0.5\n    },\n    {\n      \"name\": \"classifier:libsvm_svc:coef0\",\n      \"type\": \"uniform_float\",\n      \"log\": false,\n      \"lower\": -1.0,\n      \"upper\": 1.0,\n      \"default\": 0.0\n    },\n    {\n      \"name\": \"classifier:libsvm_svc:degree\",\n      \"type\": \"uniform_int\",\n      \"log\": false,\n      \"lower\": 2,\n      \"upper\": 5,\n      \"default\": 3\n    },\n    {\n      \"name\": \"classifier:mlp:validation_fraction\",\n      \"type\": \"constant\",\n      \"value\": 0.1\n    },\n    {\n      \"name\": \"classifier:sgd:epsilon\",\n      \"type\": \"uniform_float\",\n      \"log\": true,\n      \"lower\": 1e-05,\n      \"upper\": 0.1,\n      \"default\": 0.0001\n    },\n    {\n      \"name\": \"classifier:sgd:eta0\",\n      \"type\": \"uniform_float\",\n      \"log\": true,\n      \"lower\": 1e-07,\n      \"upper\": 0.1,\n      \"default\": 0.01\n    },\n    {\n      \"name\": \"classifier:sgd:l1_ratio\",\n      \"type\": \"uniform_float\",\n      \"log\": true,\n      \"lower\": 1e-09,\n      \"upper\": 1.0,\n      \"default\": 0.15\n    },\n    {\n      \"name\": \"classifier:sgd:power_t\",\n      \"type\": \"uniform_float\",\n      \"log\": false,\n      \"lower\": 1e-05,\n      \"upper\": 1.0,\n      \"default\": 0.5\n    },\n    {\n      \"name\": \"data_preprocessor:feature_type:categorical_transformer:category_coalescence:minority_coalescer:minimum_fraction\",\n      \"type\": \"uniform_float\",\n      \"log\": true,\n      \"lower\": 0.0001,\n      \"upper\": 0.5,\n      \"default\": 0.01\n    },\n    {\n      \"name\": \"data_preprocessor:feature_type:numerical_transformer:rescaling:quantile_transformer:n_quantiles\",\n      \"type\": \"uniform_int\",\n      \"log\": false,\n      \"lower\": 10,\n      \"upper\": 2000,\n      \"default\": 1000\n    },\n    {\n      \"name\": \"data_preprocessor:feature_type:numerical_transformer:rescaling:quantile_transformer:output_distribution\",\n      \"type\": \"categorical\",\n      \"choices\": [\n        \"uniform\",\n        \"normal\"\n      ],\n      \"default\": \"uniform\",\n      \"probabilities\": null\n    },\n    {\n      \"name\": \"data_preprocessor:feature_type:numerical_transformer:rescaling:robust_scaler:q_max\",\n      \"type\": \"uniform_float\",\n      \"log\": false,\n      \"lower\": 0.7,\n      \"upper\": 0.999,\n      \"default\": 0.75\n    },\n    {\n      \"name\": \"data_preprocessor:feature_type:numerical_transformer:rescaling:robust_scaler:q_min\",\n      \"type\": \"uniform_float\",\n      \"log\": false,\n      \"lower\": 0.001,\n      \"upper\": 0.3,\n      \"default\": 0.25\n    },\n    {\n      \"name\": \"feature_preprocessor:fast_ica:n_components\",\n      \"type\": \"uniform_int\",\n      \"log\": false,\n      \"lower\": 10,\n      \"upper\": 2000,\n      \"default\": 100\n    },\n    {\n      \"name\": \"feature_preprocessor:kernel_pca:coef0\",\n      \"type\": \"uniform_float\",\n      \"log\": false,\n      \"lower\": -1.0,\n      \"upper\": 1.0,\n      \"default\": 0.0\n    },\n    {\n      \"name\": \"feature_preprocessor:kernel_pca:degree\",\n      \"type\": \"uniform_int\",\n      \"log\": false,\n      \"lower\": 2,\n      \"upper\": 5,\n      \"default\": 3\n    },\n    {\n      \"name\": \"feature_preprocessor:kernel_pca:gamma\",\n      \"type\": \"uniform_float\",\n      \"log\": true,\n      \"lower\": 3.0517578125e-05,\n      \"upper\": 8.0,\n      \"default\": 0.01\n    },\n    {\n      \"name\": \"feature_preprocessor:nystroem_sampler:coef0\",\n      \"type\": \"uniform_float\",\n      \"log\": false,\n      \"lower\": -1.0,\n      \"upper\": 1.0,\n      \"default\": 0.0\n    },\n    {\n      \"name\": \"feature_preprocessor:nystroem_sampler:degree\",\n      \"type\": \"uniform_int\",\n      \"log\": false,\n      \"lower\": 2,\n      \"upper\": 5,\n      \"default\": 3\n    },\n    {\n      \"name\": \"feature_preprocessor:nystroem_sampler:gamma\",\n      \"type\": \"uniform_float\",\n      \"log\": true,\n      \"lower\": 3.0517578125e-05,\n      \"upper\": 8.0,\n      \"default\": 0.1\n    },\n    {\n      \"name\": \"feature_preprocessor:select_rates_classification:mode\",\n      \"type\": \"categorical\",\n      \"choices\": [\n        \"fpr\",\n        \"fdr\",\n        \"fwe\"\n      ],\n      \"default\": \"fpr\",\n      \"probabilities\": null\n    }\n  ],\n  \"conditions\": [\n    {\n      \"child\": \"classifier:adaboost:algorithm\",\n      \"parent\": \"classifier:__choice__\",\n      \"type\": \"EQ\",\n      \"value\": \"adaboost\"\n    },\n    {\n      \"child\": \"classifier:adaboost:learning_rate\",\n      \"parent\": \"classifier:__choice__\",\n      \"type\": \"EQ\",\n      \"value\": \"adaboost\"\n    },\n    {\n      \"child\": \"classifier:adaboost:max_depth\",\n      \"parent\": \"classifier:__choice__\",\n      \"type\": \"EQ\",\n      \"value\": \"adaboost\"\n    },\n    {\n      \"child\": \"classifier:adaboost:n_estimators\",\n      \"parent\": \"classifier:__choice__\",\n      \"type\": \"EQ\",\n      \"value\": \"adaboost\"\n    },\n    {\n      \"child\": \"classifier:bernoulli_nb:alpha\",\n      \"parent\": \"classifier:__choice__\",\n      \"type\": \"EQ\",\n      \"value\": \"bernoulli_nb\"\n    },\n    {\n      \"child\": \"classifier:bernoulli_nb:fit_prior\",\n      \"parent\": \"classifier:__choice__\",\n      \"type\": \"EQ\",\n      \"value\": \"bernoulli_nb\"\n    },\n    {\n      \"child\": \"classifier:decision_tree:criterion\",\n      \"parent\": \"classifier:__choice__\",\n      \"type\": \"EQ\",\n      \"value\": \"decision_tree\"\n    },\n    {\n      \"child\": \"classifier:decision_tree:max_depth_factor\",\n      \"parent\": \"classifier:__choice__\",\n      \"type\": \"EQ\",\n      \"value\": \"decision_tree\"\n    },\n    {\n      \"child\": \"classifier:decision_tree:max_features\",\n      \"parent\": \"classifier:__choice__\",\n      \"type\": \"EQ\",\n      \"value\": \"decision_tree\"\n    },\n    {\n      \"child\": \"classifier:decision_tree:max_leaf_nodes\",\n      \"parent\": \"classifier:__choice__\",\n      \"type\": \"EQ\",\n      \"value\": \"decision_tree\"\n    },\n    {\n      \"child\": \"classifier:decision_tree:min_impurity_decrease\",\n      \"parent\": \"classifier:__choice__\",\n      \"type\": \"EQ\",\n      \"value\": \"decision_tree\"\n    },\n    {\n      \"child\": \"classifier:decision_tree:min_samples_leaf\",\n      \"parent\": \"classifier:__choice__\",\n      \"type\": \"EQ\",\n      \"value\": \"decision_tree\"\n    },\n    {\n      \"child\": \"classifier:decision_tree:min_samples_split\",\n      \"parent\": \"classifier:__choice__\",\n      \"type\": \"EQ\",\n      \"value\": \"decision_tree\"\n    },\n    {\n      \"child\": \"classifier:decision_tree:min_weight_fraction_leaf\",\n      \"parent\": \"classifier:__choice__\",\n      \"type\": \"EQ\",\n      \"value\": \"decision_tree\"\n    },\n    {\n      \"child\": \"classifier:extra_trees:bootstrap\",\n      \"parent\": \"classifier:__choice__\",\n      \"type\": \"EQ\",\n      \"value\": \"extra_trees\"\n    },\n    {\n      \"child\": \"classifier:extra_trees:criterion\",\n      \"parent\": \"classifier:__choice__\",\n      \"type\": \"EQ\",\n      \"value\": \"extra_trees\"\n    },\n    {\n      \"child\": \"classifier:extra_trees:max_depth\",\n      \"parent\": \"classifier:__choice__\",\n      \"type\": \"EQ\",\n      \"value\": \"extra_trees\"\n    },\n    {\n      \"child\": \"classifier:extra_trees:max_features\",\n      \"parent\": \"classifier:__choice__\",\n      \"type\": \"EQ\",\n      \"value\": \"extra_trees\"\n    },\n    {\n      \"child\": \"classifier:extra_trees:max_leaf_nodes\",\n      \"parent\": \"classifier:__choice__\",\n      \"type\": \"EQ\",\n      \"value\": \"extra_trees\"\n    },\n    {\n      \"child\": \"classifier:extra_trees:min_impurity_decrease\",\n      \"parent\": \"classifier:__choice__\",\n      \"type\": \"EQ\",\n      \"value\": \"extra_trees\"\n    },\n    {\n      \"child\": \"classifier:extra_trees:min_samples_leaf\",\n      \"parent\": \"classifier:__choice__\",\n      \"type\": \"EQ\",\n      \"value\": \"extra_trees\"\n    },\n    {\n      \"child\": \"classifier:extra_trees:min_samples_split\",\n      \"parent\": \"classifier:__choice__\",\n      \"type\": \"EQ\",\n      \"value\": \"extra_trees\"\n    },\n    {\n      \"child\": \"classifier:extra_trees:min_weight_fraction_leaf\",\n      \"parent\": \"classifier:__choice__\",\n      \"type\": \"EQ\",\n      \"value\": \"extra_trees\"\n    },\n    {\n      \"child\": \"classifier:gradient_boosting:early_stop\",\n      \"parent\": \"classifier:__choice__\",\n      \"type\": \"EQ\",\n      \"value\": \"gradient_boosting\"\n    },\n    {\n      \"child\": \"classifier:gradient_boosting:l2_regularization\",\n      \"parent\": \"classifier:__choice__\",\n      \"type\": \"EQ\",\n      \"value\": \"gradient_boosting\"\n    },\n    {\n      \"child\": \"classifier:gradient_boosting:learning_rate\",\n      \"parent\": \"classifier:__choice__\",\n      \"type\": \"EQ\",\n      \"value\": \"gradient_boosting\"\n    },\n    {\n      \"child\": \"classifier:gradient_boosting:loss\",\n      \"parent\": \"classifier:__choice__\",\n      \"type\": \"EQ\",\n      \"value\": \"gradient_boosting\"\n    },\n    {\n      \"child\": \"classifier:gradient_boosting:max_bins\",\n      \"parent\": \"classifier:__choice__\",\n      \"type\": \"EQ\",\n      \"value\": \"gradient_boosting\"\n    },\n    {\n      \"child\": \"classifier:gradient_boosting:max_depth\",\n      \"parent\": \"classifier:__choice__\",\n      \"type\": \"EQ\",\n      \"value\": \"gradient_boosting\"\n    },\n    {\n      \"child\": \"classifier:gradient_boosting:max_leaf_nodes\",\n      \"parent\": \"classifier:__choice__\",\n      \"type\": \"EQ\",\n      \"value\": \"gradient_boosting\"\n    },\n    {\n      \"child\": \"classifier:gradient_boosting:min_samples_leaf\",\n      \"parent\": \"classifier:__choice__\",\n      \"type\": \"EQ\",\n      \"value\": \"gradient_boosting\"\n    },\n    {\n      \"child\": \"classifier:gradient_boosting:scoring\",\n      \"parent\": \"classifier:__choice__\",\n      \"type\": \"EQ\",\n      \"value\": \"gradient_boosting\"\n    },\n    {\n      \"child\": \"classifier:gradient_boosting:tol\",\n      \"parent\": \"classifier:__choice__\",\n      \"type\": \"EQ\",\n      \"value\": \"gradient_boosting\"\n    },\n    {\n      \"child\": \"classifier:k_nearest_neighbors:n_neighbors\",\n      \"parent\": \"classifier:__choice__\",\n      \"type\": \"EQ\",\n      \"value\": \"k_nearest_neighbors\"\n    },\n    {\n      \"child\": \"classifier:k_nearest_neighbors:p\",\n      \"parent\": \"classifier:__choice__\",\n      \"type\": \"EQ\",\n      \"value\": \"k_nearest_neighbors\"\n    },\n    {\n      \"child\": \"classifier:k_nearest_neighbors:weights\",\n      \"parent\": \"classifier:__choice__\",\n      \"type\": \"EQ\",\n      \"value\": \"k_nearest_neighbors\"\n    },\n    {\n      \"child\": \"classifier:lda:shrinkage\",\n      \"parent\": \"classifier:__choice__\",\n      \"type\": \"EQ\",\n      \"value\": \"lda\"\n    },\n    {\n      \"child\": \"classifier:lda:tol\",\n      \"parent\": \"classifier:__choice__\",\n      \"type\": \"EQ\",\n      \"value\": \"lda\"\n    },\n    {\n      \"child\": \"classifier:liblinear_svc:C\",\n      \"parent\": \"classifier:__choice__\",\n      \"type\": \"EQ\",\n      \"value\": \"liblinear_svc\"\n    },\n    {\n      \"child\": \"classifier:liblinear_svc:dual\",\n      \"parent\": \"classifier:__choice__\",\n      \"type\": \"EQ\",\n      \"value\": \"liblinear_svc\"\n    },\n    {\n      \"child\": \"classifier:liblinear_svc:fit_intercept\",\n      \"parent\": \"classifier:__choice__\",\n      \"type\": \"EQ\",\n      \"value\": \"liblinear_svc\"\n    },\n    {\n      \"child\": \"classifier:liblinear_svc:intercept_scaling\",\n      \"parent\": \"classifier:__choice__\",\n      \"type\": \"EQ\",\n      \"value\": \"liblinear_svc\"\n    },\n    {\n      \"child\": \"classifier:liblinear_svc:loss\",\n      \"parent\": \"classifier:__choice__\",\n      \"type\": \"EQ\",\n      \"value\": \"liblinear_svc\"\n    },\n    {\n      \"child\": \"classifier:liblinear_svc:multi_class\",\n      \"parent\": \"classifier:__choice__\",\n      \"type\": \"EQ\",\n      \"value\": \"liblinear_svc\"\n    },\n    {\n      \"child\": \"classifier:liblinear_svc:penalty\",\n      \"parent\": \"classifier:__choice__\",\n      \"type\": \"EQ\",\n      \"value\": \"liblinear_svc\"\n    },\n    {\n      \"child\": \"classifier:liblinear_svc:tol\",\n      \"parent\": \"classifier:__choice__\",\n      \"type\": \"EQ\",\n      \"value\": \"liblinear_svc\"\n    },\n    {\n      \"child\": \"classifier:libsvm_svc:C\",\n      \"parent\": \"classifier:__choice__\",\n      \"type\": \"EQ\",\n      \"value\": \"libsvm_svc\"\n    },\n    {\n      \"child\": \"classifier:libsvm_svc:gamma\",\n      \"parent\": \"classifier:__choice__\",\n      \"type\": \"EQ\",\n      \"value\": \"libsvm_svc\"\n    },\n    {\n      \"child\": \"classifier:libsvm_svc:kernel\",\n      \"parent\": \"classifier:__choice__\",\n      \"type\": \"EQ\",\n      \"value\": \"libsvm_svc\"\n    },\n    {\n      \"child\": \"classifier:libsvm_svc:max_iter\",\n      \"parent\": \"classifier:__choice__\",\n      \"type\": \"EQ\",\n      \"value\": \"libsvm_svc\"\n    },\n    {\n      \"child\": \"classifier:libsvm_svc:shrinking\",\n      \"parent\": \"classifier:__choice__\",\n      \"type\": \"EQ\",\n      \"value\": \"libsvm_svc\"\n    },\n    {\n      \"child\": \"classifier:libsvm_svc:tol\",\n      \"parent\": \"classifier:__choice__\",\n      \"type\": \"EQ\",\n      \"value\": \"libsvm_svc\"\n    },\n    {\n      \"child\": \"classifier:mlp:activation\",\n      \"parent\": \"classifier:__choice__\",\n      \"type\": \"EQ\",\n      \"value\": \"mlp\"\n    },\n    {\n      \"child\": \"classifier:mlp:alpha\",\n      \"parent\": \"classifier:__choice__\",\n      \"type\": \"EQ\",\n      \"value\": \"mlp\"\n    },\n    {\n      \"child\": \"classifier:mlp:batch_size\",\n      \"parent\": \"classifier:__choice__\",\n      \"type\": \"EQ\",\n      \"value\": \"mlp\"\n    },\n    {\n      \"child\": \"classifier:mlp:beta_1\",\n      \"parent\": \"classifier:__choice__\",\n      \"type\": \"EQ\",\n      \"value\": \"mlp\"\n    },\n    {\n      \"child\": \"classifier:mlp:beta_2\",\n      \"parent\": \"classifier:__choice__\",\n      \"type\": \"EQ\",\n      \"value\": \"mlp\"\n    },\n    {\n      \"child\": \"classifier:mlp:early_stopping\",\n      \"parent\": \"classifier:__choice__\",\n      \"type\": \"EQ\",\n      \"value\": \"mlp\"\n    },\n    {\n      \"child\": \"classifier:mlp:epsilon\",\n      \"parent\": \"classifier:__choice__\",\n      \"type\": \"EQ\",\n      \"value\": \"mlp\"\n    },\n    {\n      \"child\": \"classifier:mlp:hidden_layer_depth\",\n      \"parent\": \"classifier:__choice__\",\n      \"type\": \"EQ\",\n      \"value\": \"mlp\"\n    },\n    {\n      \"child\": \"classifier:mlp:learning_rate_init\",\n      \"parent\": \"classifier:__choice__\",\n      \"type\": \"EQ\",\n      \"value\": \"mlp\"\n    },\n    {\n      \"child\": \"classifier:mlp:n_iter_no_change\",\n      \"parent\": \"classifier:__choice__\",\n      \"type\": \"EQ\",\n      \"value\": \"mlp\"\n    },\n    {\n      \"child\": \"classifier:mlp:num_nodes_per_layer\",\n      \"parent\": \"classifier:__choice__\",\n      \"type\": \"EQ\",\n      \"value\": \"mlp\"\n    },\n    {\n      \"child\": \"classifier:mlp:shuffle\",\n      \"parent\": \"classifier:__choice__\",\n      \"type\": \"EQ\",\n      \"value\": \"mlp\"\n    },\n    {\n      \"child\": \"classifier:mlp:solver\",\n      \"parent\": \"classifier:__choice__\",\n      \"type\": \"EQ\",\n      \"value\": \"mlp\"\n    },\n    {\n      \"child\": \"classifier:mlp:tol\",\n      \"parent\": \"classifier:__choice__\",\n      \"type\": \"EQ\",\n      \"value\": \"mlp\"\n    },\n    {\n      \"child\": \"classifier:multinomial_nb:alpha\",\n      \"parent\": \"classifier:__choice__\",\n      \"type\": \"EQ\",\n      \"value\": \"multinomial_nb\"\n    },\n    {\n      \"child\": \"classifier:multinomial_nb:fit_prior\",\n      \"parent\": \"classifier:__choice__\",\n      \"type\": \"EQ\",\n      \"value\": \"multinomial_nb\"\n    },\n    {\n      \"child\": \"classifier:passive_aggressive:C\",\n      \"parent\": \"classifier:__choice__\",\n      \"type\": \"EQ\",\n      \"value\": \"passive_aggressive\"\n    },\n    {\n      \"child\": \"classifier:passive_aggressive:average\",\n      \"parent\": \"classifier:__choice__\",\n      \"type\": \"EQ\",\n      \"value\": \"passive_aggressive\"\n    },\n    {\n      \"child\": \"classifier:passive_aggressive:fit_intercept\",\n      \"parent\": \"classifier:__choice__\",\n      \"type\": \"EQ\",\n      \"value\": \"passive_aggressive\"\n    },\n    {\n      \"child\": \"classifier:passive_aggressive:loss\",\n      \"parent\": \"classifier:__choice__\",\n      \"type\": \"EQ\",\n      \"value\": \"passive_aggressive\"\n    },\n    {\n      \"child\": \"classifier:passive_aggressive:tol\",\n      \"parent\": \"classifier:__choice__\",\n      \"type\": \"EQ\",\n      \"value\": \"passive_aggressive\"\n    },\n    {\n      \"child\": \"classifier:qda:reg_param\",\n      \"parent\": \"classifier:__choice__\",\n      \"type\": \"EQ\",\n      \"value\": \"qda\"\n    },\n    {\n      \"child\": \"classifier:random_forest:bootstrap\",\n      \"parent\": \"classifier:__choice__\",\n      \"type\": \"EQ\",\n      \"value\": \"random_forest\"\n    },\n    {\n      \"child\": \"classifier:random_forest:criterion\",\n      \"parent\": \"classifier:__choice__\",\n      \"type\": \"EQ\",\n      \"value\": \"random_forest\"\n    },\n    {\n      \"child\": \"classifier:random_forest:max_depth\",\n      \"parent\": \"classifier:__choice__\",\n      \"type\": \"EQ\",\n      \"value\": \"random_forest\"\n    },\n    {\n      \"child\": \"classifier:random_forest:max_features\",\n      \"parent\": \"classifier:__choice__\",\n      \"type\": \"EQ\",\n      \"value\": \"random_forest\"\n    },\n    {\n      \"child\": \"classifier:random_forest:max_leaf_nodes\",\n      \"parent\": \"classifier:__choice__\",\n      \"type\": \"EQ\",\n      \"value\": \"random_forest\"\n    },\n    {\n      \"child\": \"classifier:random_forest:min_impurity_decrease\",\n      \"parent\": \"classifier:__choice__\",\n      \"type\": \"EQ\",\n      \"value\": \"random_forest\"\n    },\n    {\n      \"child\": \"classifier:random_forest:min_samples_leaf\",\n      \"parent\": \"classifier:__choice__\",\n      \"type\": \"EQ\",\n      \"value\": \"random_forest\"\n    },\n    {\n      \"child\": \"classifier:random_forest:min_samples_split\",\n      \"parent\": \"classifier:__choice__\",\n      \"type\": \"EQ\",\n      \"value\": \"random_forest\"\n    },\n    {\n      \"child\": \"classifier:random_forest:min_weight_fraction_leaf\",\n      \"parent\": \"classifier:__choice__\",\n      \"type\": \"EQ\",\n      \"value\": \"random_forest\"\n    },\n    {\n      \"child\": \"classifier:sgd:alpha\",\n      \"parent\": \"classifier:__choice__\",\n      \"type\": \"EQ\",\n      \"value\": \"sgd\"\n    },\n    {\n      \"child\": \"classifier:sgd:average\",\n      \"parent\": \"classifier:__choice__\",\n      \"type\": \"EQ\",\n      \"value\": \"sgd\"\n    },\n    {\n      \"child\": \"classifier:sgd:fit_intercept\",\n      \"parent\": \"classifier:__choice__\",\n      \"type\": \"EQ\",\n      \"value\": \"sgd\"\n    },\n    {\n      \"child\": \"classifier:sgd:learning_rate\",\n      \"parent\": \"classifier:__choice__\",\n      \"type\": \"EQ\",\n      \"value\": \"sgd\"\n    },\n    {\n      \"child\": \"classifier:sgd:loss\",\n      \"parent\": \"classifier:__choice__\",\n      \"type\": \"EQ\",\n      \"value\": \"sgd\"\n    },\n    {\n      \"child\": \"classifier:sgd:penalty\",\n      \"parent\": \"classifier:__choice__\",\n      \"type\": \"EQ\",\n      \"value\": \"sgd\"\n    },\n    {\n      \"child\": \"classifier:sgd:tol\",\n      \"parent\": \"classifier:__choice__\",\n      \"type\": \"EQ\",\n      \"value\": \"sgd\"\n    },\n    {\n      \"child\": \"data_preprocessor:feature_type:categorical_transformer:categorical_encoding:__choice__\",\n      \"parent\": \"data_preprocessor:__choice__\",\n      \"type\": \"EQ\",\n      \"value\": \"feature_type\"\n    },\n    {\n      \"child\": \"data_preprocessor:feature_type:categorical_transformer:category_coalescence:__choice__\",\n      \"parent\": \"data_preprocessor:__choice__\",\n      \"type\": \"EQ\",\n      \"value\": \"feature_type\"\n    },\n    {\n      \"child\": \"data_preprocessor:feature_type:numerical_transformer:imputation:strategy\",\n      \"parent\": \"data_preprocessor:__choice__\",\n      \"type\": \"EQ\",\n      \"value\": \"feature_type\"\n    },\n    {\n      \"child\": \"data_preprocessor:feature_type:numerical_transformer:rescaling:__choice__\",\n      \"parent\": \"data_preprocessor:__choice__\",\n      \"type\": \"EQ\",\n      \"value\": \"feature_type\"\n    },\n    {\n      \"child\": \"feature_preprocessor:extra_trees_preproc_for_classification:bootstrap\",\n      \"parent\": \"feature_preprocessor:__choice__\",\n      \"type\": \"EQ\",\n      \"value\": \"extra_trees_preproc_for_classification\"\n    },\n    {\n      \"child\": \"feature_preprocessor:extra_trees_preproc_for_classification:criterion\",\n      \"parent\": \"feature_preprocessor:__choice__\",\n      \"type\": \"EQ\",\n      \"value\": \"extra_trees_preproc_for_classification\"\n    },\n    {\n      \"child\": \"feature_preprocessor:extra_trees_preproc_for_classification:max_depth\",\n      \"parent\": \"feature_preprocessor:__choice__\",\n      \"type\": \"EQ\",\n      \"value\": \"extra_trees_preproc_for_classification\"\n    },\n    {\n      \"child\": \"feature_preprocessor:extra_trees_preproc_for_classification:max_features\",\n      \"parent\": \"feature_preprocessor:__choice__\",\n      \"type\": \"EQ\",\n      \"value\": \"extra_trees_preproc_for_classification\"\n    },\n    {\n      \"child\": \"feature_preprocessor:extra_trees_preproc_for_classification:max_leaf_nodes\",\n      \"parent\": \"feature_preprocessor:__choice__\",\n      \"type\": \"EQ\",\n      \"value\": \"extra_trees_preproc_for_classification\"\n    },\n    {\n      \"child\": \"feature_preprocessor:extra_trees_preproc_for_classification:min_impurity_decrease\",\n      \"parent\": \"feature_preprocessor:__choice__\",\n      \"type\": \"EQ\",\n      \"value\": \"extra_trees_preproc_for_classification\"\n    },\n    {\n      \"child\": \"feature_preprocessor:extra_trees_preproc_for_classification:min_samples_leaf\",\n      \"parent\": \"feature_preprocessor:__choice__\",\n      \"type\": \"EQ\",\n      \"value\": \"extra_trees_preproc_for_classification\"\n    },\n    {\n      \"child\": \"feature_preprocessor:extra_trees_preproc_for_classification:min_samples_split\",\n      \"parent\": \"feature_preprocessor:__choice__\",\n      \"type\": \"EQ\",\n      \"value\": \"extra_trees_preproc_for_classification\"\n    },\n    {\n      \"child\": \"feature_preprocessor:extra_trees_preproc_for_classification:min_weight_fraction_leaf\",\n      \"parent\": \"feature_preprocessor:__choice__\",\n      \"type\": \"EQ\",\n      \"value\": \"extra_trees_preproc_for_classification\"\n    },\n    {\n      \"child\": \"feature_preprocessor:extra_trees_preproc_for_classification:n_estimators\",\n      \"parent\": \"feature_preprocessor:__choice__\",\n      \"type\": \"EQ\",\n      \"value\": \"extra_trees_preproc_for_classification\"\n    },\n    {\n      \"child\": \"feature_preprocessor:fast_ica:algorithm\",\n      \"parent\": \"feature_preprocessor:__choice__\",\n      \"type\": \"EQ\",\n      \"value\": \"fast_ica\"\n    },\n    {\n      \"child\": \"feature_preprocessor:fast_ica:fun\",\n      \"parent\": \"feature_preprocessor:__choice__\",\n      \"type\": \"EQ\",\n      \"value\": \"fast_ica\"\n    },\n    {\n      \"child\": \"feature_preprocessor:fast_ica:whiten\",\n      \"parent\": \"feature_preprocessor:__choice__\",\n      \"type\": \"EQ\",\n      \"value\": \"fast_ica\"\n    },\n    {\n      \"child\": \"feature_preprocessor:feature_agglomeration:affinity\",\n      \"parent\": \"feature_preprocessor:__choice__\",\n      \"type\": \"EQ\",\n      \"value\": \"feature_agglomeration\"\n    },\n    {\n      \"child\": \"feature_preprocessor:feature_agglomeration:linkage\",\n      \"parent\": \"feature_preprocessor:__choice__\",\n      \"type\": \"EQ\",\n      \"value\": \"feature_agglomeration\"\n    },\n    {\n      \"child\": \"feature_preprocessor:feature_agglomeration:n_clusters\",\n      \"parent\": \"feature_preprocessor:__choice__\",\n      \"type\": \"EQ\",\n      \"value\": \"feature_agglomeration\"\n    },\n    {\n      \"child\": \"feature_preprocessor:feature_agglomeration:pooling_func\",\n      \"parent\": \"feature_preprocessor:__choice__\",\n      \"type\": \"EQ\",\n      \"value\": \"feature_agglomeration\"\n    },\n    {\n      \"child\": \"feature_preprocessor:kernel_pca:kernel\",\n      \"parent\": \"feature_preprocessor:__choice__\",\n      \"type\": \"EQ\",\n      \"value\": \"kernel_pca\"\n    },\n    {\n      \"child\": \"feature_preprocessor:kernel_pca:n_components\",\n      \"parent\": \"feature_preprocessor:__choice__\",\n      \"type\": \"EQ\",\n      \"value\": \"kernel_pca\"\n    },\n    {\n      \"child\": \"feature_preprocessor:kitchen_sinks:gamma\",\n      \"parent\": \"feature_preprocessor:__choice__\",\n      \"type\": \"EQ\",\n      \"value\": \"kitchen_sinks\"\n    },\n    {\n      \"child\": \"feature_preprocessor:kitchen_sinks:n_components\",\n      \"parent\": \"feature_preprocessor:__choice__\",\n      \"type\": \"EQ\",\n      \"value\": \"kitchen_sinks\"\n    },\n    {\n      \"child\": \"feature_preprocessor:liblinear_svc_preprocessor:C\",\n      \"parent\": \"feature_preprocessor:__choice__\",\n      \"type\": \"EQ\",\n      \"value\": \"liblinear_svc_preprocessor\"\n    },\n    {\n      \"child\": \"feature_preprocessor:liblinear_svc_preprocessor:dual\",\n      \"parent\": \"feature_preprocessor:__choice__\",\n      \"type\": \"EQ\",\n      \"value\": \"liblinear_svc_preprocessor\"\n    },\n    {\n      \"child\": \"feature_preprocessor:liblinear_svc_preprocessor:fit_intercept\",\n      \"parent\": \"feature_preprocessor:__choice__\",\n      \"type\": \"EQ\",\n      \"value\": \"liblinear_svc_preprocessor\"\n    },\n    {\n      \"child\": \"feature_preprocessor:liblinear_svc_preprocessor:intercept_scaling\",\n      \"parent\": \"feature_preprocessor:__choice__\",\n      \"type\": \"EQ\",\n      \"value\": \"liblinear_svc_preprocessor\"\n    },\n    {\n      \"child\": \"feature_preprocessor:liblinear_svc_preprocessor:loss\",\n      \"parent\": \"feature_preprocessor:__choice__\",\n      \"type\": \"EQ\",\n      \"value\": \"liblinear_svc_preprocessor\"\n    },\n    {\n      \"child\": \"feature_preprocessor:liblinear_svc_preprocessor:multi_class\",\n      \"parent\": \"feature_preprocessor:__choice__\",\n      \"type\": \"EQ\",\n      \"value\": \"liblinear_svc_preprocessor\"\n    },\n    {\n      \"child\": \"feature_preprocessor:liblinear_svc_preprocessor:penalty\",\n      \"parent\": \"feature_preprocessor:__choice__\",\n      \"type\": \"EQ\",\n      \"value\": \"liblinear_svc_preprocessor\"\n    },\n    {\n      \"child\": \"feature_preprocessor:liblinear_svc_preprocessor:tol\",\n      \"parent\": \"feature_preprocessor:__choice__\",\n      \"type\": \"EQ\",\n      \"value\": \"liblinear_svc_preprocessor\"\n    },\n    {\n      \"child\": \"feature_preprocessor:nystroem_sampler:kernel\",\n      \"parent\": \"feature_preprocessor:__choice__\",\n      \"type\": \"EQ\",\n      \"value\": \"nystroem_sampler\"\n    },\n    {\n      \"child\": \"feature_preprocessor:nystroem_sampler:n_components\",\n      \"parent\": \"feature_preprocessor:__choice__\",\n      \"type\": \"EQ\",\n      \"value\": \"nystroem_sampler\"\n    },\n    {\n      \"child\": \"feature_preprocessor:pca:keep_variance\",\n      \"parent\": \"feature_preprocessor:__choice__\",\n      \"type\": \"EQ\",\n      \"value\": \"pca\"\n    },\n    {\n      \"child\": \"feature_preprocessor:pca:whiten\",\n      \"parent\": \"feature_preprocessor:__choice__\",\n      \"type\": \"EQ\",\n      \"value\": \"pca\"\n    },\n    {\n      \"child\": \"feature_preprocessor:polynomial:degree\",\n      \"parent\": \"feature_preprocessor:__choice__\",\n      \"type\": \"EQ\",\n      \"value\": \"polynomial\"\n    },\n    {\n      \"child\": \"feature_preprocessor:polynomial:include_bias\",\n      \"parent\": \"feature_preprocessor:__choice__\",\n      \"type\": \"EQ\",\n      \"value\": \"polynomial\"\n    },\n    {\n      \"child\": \"feature_preprocessor:polynomial:interaction_only\",\n      \"parent\": \"feature_preprocessor:__choice__\",\n      \"type\": \"EQ\",\n      \"value\": \"polynomial\"\n    },\n    {\n      \"child\": \"feature_preprocessor:random_trees_embedding:bootstrap\",\n      \"parent\": \"feature_preprocessor:__choice__\",\n      \"type\": \"EQ\",\n      \"value\": \"random_trees_embedding\"\n    },\n    {\n      \"child\": \"feature_preprocessor:random_trees_embedding:max_depth\",\n      \"parent\": \"feature_preprocessor:__choice__\",\n      \"type\": \"EQ\",\n      \"value\": \"random_trees_embedding\"\n    },\n    {\n      \"child\": \"feature_preprocessor:random_trees_embedding:max_leaf_nodes\",\n      \"parent\": \"feature_preprocessor:__choice__\",\n      \"type\": \"EQ\",\n      \"value\": \"random_trees_embedding\"\n    },\n    {\n      \"child\": \"feature_preprocessor:random_trees_embedding:min_samples_leaf\",\n      \"parent\": \"feature_preprocessor:__choice__\",\n      \"type\": \"EQ\",\n      \"value\": \"random_trees_embedding\"\n    },\n    {\n      \"child\": \"feature_preprocessor:random_trees_embedding:min_samples_split\",\n      \"parent\": \"feature_preprocessor:__choice__\",\n      \"type\": \"EQ\",\n      \"value\": \"random_trees_embedding\"\n    },\n    {\n      \"child\": \"feature_preprocessor:random_trees_embedding:min_weight_fraction_leaf\",\n      \"parent\": \"feature_preprocessor:__choice__\",\n      \"type\": \"EQ\",\n      \"value\": \"random_trees_embedding\"\n    },\n    {\n      \"child\": \"feature_preprocessor:random_trees_embedding:n_estimators\",\n      \"parent\": \"feature_preprocessor:__choice__\",\n      \"type\": \"EQ\",\n      \"value\": \"random_trees_embedding\"\n    },\n    {\n      \"child\": \"feature_preprocessor:select_percentile_classification:percentile\",\n      \"parent\": \"feature_preprocessor:__choice__\",\n      \"type\": \"EQ\",\n      \"value\": \"select_percentile_classification\"\n    },\n    {\n      \"child\": \"feature_preprocessor:select_percentile_classification:score_func\",\n      \"parent\": \"feature_preprocessor:__choice__\",\n      \"type\": \"EQ\",\n      \"value\": \"select_percentile_classification\"\n    },\n    {\n      \"child\": \"feature_preprocessor:select_rates_classification:alpha\",\n      \"parent\": \"feature_preprocessor:__choice__\",\n      \"type\": \"EQ\",\n      \"value\": \"select_rates_classification\"\n    },\n    {\n      \"child\": \"feature_preprocessor:select_rates_classification:score_func\",\n      \"parent\": \"feature_preprocessor:__choice__\",\n      \"type\": \"EQ\",\n      \"value\": \"select_rates_classification\"\n    },\n    {\n      \"child\": \"classifier:gradient_boosting:n_iter_no_change\",\n      \"parent\": \"classifier:gradient_boosting:early_stop\",\n      \"type\": \"IN\",\n      \"values\": [\n        \"valid\",\n        \"train\"\n      ]\n    },\n    {\n      \"child\": \"classifier:gradient_boosting:validation_fraction\",\n      \"parent\": \"classifier:gradient_boosting:early_stop\",\n      \"type\": \"EQ\",\n      \"value\": \"valid\"\n    },\n    {\n      \"child\": \"classifier:lda:shrinkage_factor\",\n      \"parent\": \"classifier:lda:shrinkage\",\n      \"type\": \"EQ\",\n      \"value\": \"manual\"\n    },\n    {\n      \"child\": \"classifier:libsvm_svc:coef0\",\n      \"parent\": \"classifier:libsvm_svc:kernel\",\n      \"type\": \"IN\",\n      \"values\": [\n        \"poly\",\n        \"sigmoid\"\n      ]\n    },\n    {\n      \"child\": \"classifier:libsvm_svc:degree\",\n      \"parent\": \"classifier:libsvm_svc:kernel\",\n      \"type\": \"EQ\",\n      \"value\": \"poly\"\n    },\n    {\n      \"child\": \"classifier:mlp:validation_fraction\",\n      \"parent\": \"classifier:mlp:early_stopping\",\n      \"type\": \"IN\",\n      \"values\": [\n        \"valid\"\n      ]\n    },\n    {\n      \"child\": \"classifier:sgd:eta0\",\n      \"parent\": \"classifier:sgd:learning_rate\",\n      \"type\": \"IN\",\n      \"values\": [\n        \"invscaling\",\n        \"constant\"\n      ]\n    },\n    {\n      \"child\": \"classifier:sgd:power_t\",\n      \"parent\": \"classifier:sgd:learning_rate\",\n      \"type\": \"EQ\",\n      \"value\": \"invscaling\"\n    },\n    {\n      \"child\": \"classifier:sgd:epsilon\",\n      \"parent\": \"classifier:sgd:loss\",\n      \"type\": \"EQ\",\n      \"value\": \"modified_huber\"\n    },\n    {\n      \"child\": \"classifier:sgd:l1_ratio\",\n      \"parent\": \"classifier:sgd:penalty\",\n      \"type\": \"EQ\",\n      \"value\": \"elasticnet\"\n    },\n    {\n      \"child\": \"data_preprocessor:feature_type:categorical_transformer:category_coalescence:minority_coalescer:minimum_fraction\",\n      \"parent\": \"data_preprocessor:feature_type:categorical_transformer:category_coalescence:__choice__\",\n      \"type\": \"EQ\",\n      \"value\": \"minority_coalescer\"\n    },\n    {\n      \"child\": \"data_preprocessor:feature_type:numerical_transformer:rescaling:quantile_transformer:n_quantiles\",\n      \"parent\": \"data_preprocessor:feature_type:numerical_transformer:rescaling:__choice__\",\n      \"type\": \"EQ\",\n      \"value\": \"quantile_transformer\"\n    },\n    {\n      \"child\": \"data_preprocessor:feature_type:numerical_transformer:rescaling:quantile_transformer:output_distribution\",\n      \"parent\": \"data_preprocessor:feature_type:numerical_transformer:rescaling:__choice__\",\n      \"type\": \"EQ\",\n      \"value\": \"quantile_transformer\"\n    },\n    {\n      \"child\": \"data_preprocessor:feature_type:numerical_transformer:rescaling:robust_scaler:q_max\",\n      \"parent\": \"data_preprocessor:feature_type:numerical_transformer:rescaling:__choice__\",\n      \"type\": \"EQ\",\n      \"value\": \"robust_scaler\"\n    },\n    {\n      \"child\": \"data_preprocessor:feature_type:numerical_transformer:rescaling:robust_scaler:q_min\",\n      \"parent\": \"data_preprocessor:feature_type:numerical_transformer:rescaling:__choice__\",\n      \"type\": \"EQ\",\n      \"value\": \"robust_scaler\"\n    },\n    {\n      \"child\": \"feature_preprocessor:fast_ica:n_components\",\n      \"parent\": \"feature_preprocessor:fast_ica:whiten\",\n      \"type\": \"EQ\",\n      \"value\": \"True\"\n    },\n    {\n      \"child\": \"feature_preprocessor:kernel_pca:coef0\",\n      \"parent\": \"feature_preprocessor:kernel_pca:kernel\",\n      \"type\": \"IN\",\n      \"values\": [\n        \"poly\",\n        \"sigmoid\"\n      ]\n    },\n    {\n      \"child\": \"feature_preprocessor:kernel_pca:degree\",\n      \"parent\": \"feature_preprocessor:kernel_pca:kernel\",\n      \"type\": \"EQ\",\n      \"value\": \"poly\"\n    },\n    {\n      \"child\": \"feature_preprocessor:kernel_pca:gamma\",\n      \"parent\": \"feature_preprocessor:kernel_pca:kernel\",\n      \"type\": \"IN\",\n      \"values\": [\n        \"poly\",\n        \"rbf\"\n      ]\n    },\n    {\n      \"child\": \"feature_preprocessor:nystroem_sampler:coef0\",\n      \"parent\": \"feature_preprocessor:nystroem_sampler:kernel\",\n      \"type\": \"IN\",\n      \"values\": [\n        \"poly\",\n        \"sigmoid\"\n      ]\n    },\n    {\n      \"child\": \"feature_preprocessor:nystroem_sampler:degree\",\n      \"parent\": \"feature_preprocessor:nystroem_sampler:kernel\",\n      \"type\": \"EQ\",\n      \"value\": \"poly\"\n    },\n    {\n      \"child\": \"feature_preprocessor:nystroem_sampler:gamma\",\n      \"parent\": \"feature_preprocessor:nystroem_sampler:kernel\",\n      \"type\": \"IN\",\n      \"values\": [\n        \"poly\",\n        \"rbf\",\n        \"sigmoid\"\n      ]\n    },\n    {\n      \"child\": \"feature_preprocessor:select_rates_classification:mode\",\n      \"parent\": \"feature_preprocessor:select_rates_classification:score_func\",\n      \"type\": \"NEQ\",\n      \"value\": \"mutual_info_classif\"\n    }\n  ],\n  \"forbiddens\": [\n    {\n      \"name\": \"feature_preprocessor:feature_agglomeration:affinity\",\n      \"type\": \"AND\",\n      \"clauses\": [\n        {\n          \"name\": \"feature_preprocessor:feature_agglomeration:affinity\",\n          \"type\": \"IN\",\n          \"values\": [\n            \"manhattan\",\n            \"cosine\"\n          ]\n        },\n        {\n          \"name\": \"feature_preprocessor:feature_agglomeration:linkage\",\n          \"type\": \"EQUALS\",\n          \"value\": \"ward\"\n        }\n      ]\n    },\n    {\n      \"name\": \"feature_preprocessor:liblinear_svc_preprocessor:penalty\",\n      \"type\": \"AND\",\n      \"clauses\": [\n        {\n          \"name\": \"feature_preprocessor:liblinear_svc_preprocessor:penalty\",\n          \"type\": \"EQUALS\",\n          \"value\": \"l1\"\n        },\n        {\n          \"name\": \"feature_preprocessor:liblinear_svc_preprocessor:loss\",\n          \"type\": \"EQUALS\",\n          \"value\": \"hinge\"\n        }\n      ]\n    },\n    {\n      \"name\": \"classifier:liblinear_svc:penalty\",\n      \"type\": \"AND\",\n      \"clauses\": [\n        {\n          \"name\": \"classifier:liblinear_svc:penalty\",\n          \"type\": \"EQUALS\",\n          \"value\": \"l1\"\n        },\n        {\n          \"name\": \"classifier:liblinear_svc:loss\",\n          \"type\": \"EQUALS\",\n          \"value\": \"hinge\"\n        }\n      ]\n    },\n    {\n      \"name\": \"classifier:liblinear_svc:dual\",\n      \"type\": \"AND\",\n      \"clauses\": [\n        {\n          \"name\": \"classifier:liblinear_svc:dual\",\n          \"type\": \"EQUALS\",\n          \"value\": \"False\"\n        },\n        {\n          \"name\": \"classifier:liblinear_svc:penalty\",\n          \"type\": \"EQUALS\",\n          \"value\": \"l2\"\n        },\n        {\n          \"name\": \"classifier:liblinear_svc:loss\",\n          \"type\": \"EQUALS\",\n          \"value\": \"hinge\"\n        }\n      ]\n    },\n    {\n      \"name\": \"classifier:liblinear_svc:dual\",\n      \"type\": \"AND\",\n      \"clauses\": [\n        {\n          \"name\": \"classifier:liblinear_svc:dual\",\n          \"type\": \"EQUALS\",\n          \"value\": \"False\"\n        },\n        {\n          \"name\": \"classifier:liblinear_svc:penalty\",\n          \"type\": \"EQUALS\",\n          \"value\": \"l1\"\n        }\n      ]\n    },\n    {\n      \"name\": \"feature_preprocessor:__choice__\",\n      \"type\": \"AND\",\n      \"clauses\": [\n        {\n          \"name\": \"feature_preprocessor:__choice__\",\n          \"type\": \"EQUALS\",\n          \"value\": \"extra_trees_preproc_for_classification\"\n        },\n        {\n          \"name\": \"classifier:__choice__\",\n          \"type\": \"EQUALS\",\n          \"value\": \"multinomial_nb\"\n        }\n      ]\n    },\n    {\n      \"name\": \"feature_preprocessor:__choice__\",\n      \"type\": \"AND\",\n      \"clauses\": [\n        {\n          \"name\": \"feature_preprocessor:__choice__\",\n          \"type\": \"EQUALS\",\n          \"value\": \"fast_ica\"\n        },\n        {\n          \"name\": \"classifier:__choice__\",\n          \"type\": \"EQUALS\",\n          \"value\": \"multinomial_nb\"\n        }\n      ]\n    },\n    {\n      \"name\": \"feature_preprocessor:__choice__\",\n      \"type\": \"AND\",\n      \"clauses\": [\n        {\n          \"name\": \"feature_preprocessor:__choice__\",\n          \"type\": \"EQUALS\",\n          \"value\": \"feature_agglomeration\"\n        },\n        {\n          \"name\": \"classifier:__choice__\",\n          \"type\": \"EQUALS\",\n          \"value\": \"multinomial_nb\"\n        }\n      ]\n    },\n    {\n      \"name\": \"feature_preprocessor:__choice__\",\n      \"type\": \"AND\",\n      \"clauses\": [\n        {\n          \"name\": \"feature_preprocessor:__choice__\",\n          \"type\": \"EQUALS\",\n          \"value\": \"kernel_pca\"\n        },\n        {\n          \"name\": \"classifier:__choice__\",\n          \"type\": \"EQUALS\",\n          \"value\": \"multinomial_nb\"\n        }\n      ]\n    },\n    {\n      \"name\": \"feature_preprocessor:__choice__\",\n      \"type\": \"AND\",\n      \"clauses\": [\n        {\n          \"name\": \"feature_preprocessor:__choice__\",\n          \"type\": \"EQUALS\",\n          \"value\": \"kitchen_sinks\"\n        },\n        {\n          \"name\": \"classifier:__choice__\",\n          \"type\": \"EQUALS\",\n          \"value\": \"multinomial_nb\"\n        }\n      ]\n    },\n    {\n      \"name\": \"feature_preprocessor:__choice__\",\n      \"type\": \"AND\",\n      \"clauses\": [\n        {\n          \"name\": \"feature_preprocessor:__choice__\",\n          \"type\": \"EQUALS\",\n          \"value\": \"liblinear_svc_preprocessor\"\n        },\n        {\n          \"name\": \"classifier:__choice__\",\n          \"type\": \"EQUALS\",\n          \"value\": \"multinomial_nb\"\n        }\n      ]\n    },\n    {\n      \"name\": \"feature_preprocessor:__choice__\",\n      \"type\": \"AND\",\n      \"clauses\": [\n        {\n          \"name\": \"feature_preprocessor:__choice__\",\n          \"type\": \"EQUALS\",\n          \"value\": \"no_preprocessing\"\n        },\n        {\n          \"name\": \"classifier:__choice__\",\n          \"type\": \"EQUALS\",\n          \"value\": \"multinomial_nb\"\n        }\n      ]\n    },\n    {\n      \"name\": \"feature_preprocessor:__choice__\",\n      \"type\": \"AND\",\n      \"clauses\": [\n        {\n          \"name\": \"feature_preprocessor:__choice__\",\n          \"type\": \"EQUALS\",\n          \"value\": \"nystroem_sampler\"\n        },\n        {\n          \"name\": \"classifier:__choice__\",\n          \"type\": \"EQUALS\",\n          \"value\": \"multinomial_nb\"\n        }\n      ]\n    },\n    {\n      \"name\": \"feature_preprocessor:__choice__\",\n      \"type\": \"AND\",\n      \"clauses\": [\n        {\n          \"name\": \"feature_preprocessor:__choice__\",\n          \"type\": \"EQUALS\",\n          \"value\": \"pca\"\n        },\n        {\n          \"name\": \"classifier:__choice__\",\n          \"type\": \"EQUALS\",\n          \"value\": \"multinomial_nb\"\n        }\n      ]\n    },\n    {\n      \"name\": \"feature_preprocessor:__choice__\",\n      \"type\": \"AND\",\n      \"clauses\": [\n        {\n          \"name\": \"feature_preprocessor:__choice__\",\n          \"type\": \"EQUALS\",\n          \"value\": \"polynomial\"\n        },\n        {\n          \"name\": \"classifier:__choice__\",\n          \"type\": \"EQUALS\",\n          \"value\": \"multinomial_nb\"\n        }\n      ]\n    },\n    {\n      \"name\": \"feature_preprocessor:__choice__\",\n      \"type\": \"AND\",\n      \"clauses\": [\n        {\n          \"name\": \"feature_preprocessor:__choice__\",\n          \"type\": \"EQUALS\",\n          \"value\": \"random_trees_embedding\"\n        },\n        {\n          \"name\": \"classifier:__choice__\",\n          \"type\": \"EQUALS\",\n          \"value\": \"gaussian_nb\"\n        }\n      ]\n    },\n    {\n      \"name\": \"feature_preprocessor:__choice__\",\n      \"type\": \"AND\",\n      \"clauses\": [\n        {\n          \"name\": \"feature_preprocessor:__choice__\",\n          \"type\": \"EQUALS\",\n          \"value\": \"random_trees_embedding\"\n        },\n        {\n          \"name\": \"classifier:__choice__\",\n          \"type\": \"EQUALS\",\n          \"value\": \"gradient_boosting\"\n        }\n      ]\n    },\n    {\n      \"name\": \"feature_preprocessor:__choice__\",\n      \"type\": \"AND\",\n      \"clauses\": [\n        {\n          \"name\": \"feature_preprocessor:__choice__\",\n          \"type\": \"EQUALS\",\n          \"value\": \"random_trees_embedding\"\n        },\n        {\n          \"name\": \"classifier:__choice__\",\n          \"type\": \"EQUALS\",\n          \"value\": \"lda\"\n        }\n      ]\n    },\n    {\n      \"name\": \"feature_preprocessor:__choice__\",\n      \"type\": \"AND\",\n      \"clauses\": [\n        {\n          \"name\": \"feature_preprocessor:__choice__\",\n          \"type\": \"EQUALS\",\n          \"value\": \"random_trees_embedding\"\n        },\n        {\n          \"name\": \"classifier:__choice__\",\n          \"type\": \"EQUALS\",\n          \"value\": \"qda\"\n        }\n      ]\n    },\n    {\n      \"name\": \"feature_preprocessor:__choice__\",\n      \"type\": \"AND\",\n      \"clauses\": [\n        {\n          \"name\": \"feature_preprocessor:__choice__\",\n          \"type\": \"EQUALS\",\n          \"value\": \"select_percentile_classification\"\n        },\n        {\n          \"name\": \"classifier:__choice__\",\n          \"type\": \"EQUALS\",\n          \"value\": \"multinomial_nb\"\n        }\n      ]\n    },\n    {\n      \"name\": \"feature_preprocessor:__choice__\",\n      \"type\": \"AND\",\n      \"clauses\": [\n        {\n          \"name\": \"feature_preprocessor:__choice__\",\n          \"type\": \"EQUALS\",\n          \"value\": \"select_rates_classification\"\n        },\n        {\n          \"name\": \"classifier:__choice__\",\n          \"type\": \"EQUALS\",\n          \"value\": \"multinomial_nb\"\n        }\n      ]\n    },\n    {\n      \"name\": \"classifier:__choice__\",\n      \"type\": \"AND\",\n      \"clauses\": [\n        {\n          \"name\": \"classifier:__choice__\",\n          \"type\": \"EQUALS\",\n          \"value\": \"adaboost\"\n        },\n        {\n          \"name\": \"feature_preprocessor:__choice__\",\n          \"type\": \"EQUALS\",\n          \"value\": \"kernel_pca\"\n        }\n      ]\n    },\n    {\n      \"name\": \"classifier:__choice__\",\n      \"type\": \"AND\",\n      \"clauses\": [\n        {\n          \"name\": \"classifier:__choice__\",\n          \"type\": \"EQUALS\",\n          \"value\": \"adaboost\"\n        },\n        {\n          \"name\": \"feature_preprocessor:__choice__\",\n          \"type\": \"EQUALS\",\n          \"value\": \"kitchen_sinks\"\n        }\n      ]\n    },\n    {\n      \"name\": \"classifier:__choice__\",\n      \"type\": \"AND\",\n      \"clauses\": [\n        {\n          \"name\": \"classifier:__choice__\",\n          \"type\": \"EQUALS\",\n          \"value\": \"adaboost\"\n        },\n        {\n          \"name\": \"feature_preprocessor:__choice__\",\n          \"type\": \"EQUALS\",\n          \"value\": \"nystroem_sampler\"\n        }\n      ]\n    },\n    {\n      \"name\": \"classifier:__choice__\",\n      \"type\": \"AND\",\n      \"clauses\": [\n        {\n          \"name\": \"classifier:__choice__\",\n          \"type\": \"EQUALS\",\n          \"value\": \"decision_tree\"\n        },\n        {\n          \"name\": \"feature_preprocessor:__choice__\",\n          \"type\": \"EQUALS\",\n          \"value\": \"kernel_pca\"\n        }\n      ]\n    },\n    {\n      \"name\": \"classifier:__choice__\",\n      \"type\": \"AND\",\n      \"clauses\": [\n        {\n          \"name\": \"classifier:__choice__\",\n          \"type\": \"EQUALS\",\n          \"value\": \"decision_tree\"\n        },\n        {\n          \"name\": \"feature_preprocessor:__choice__\",\n          \"type\": \"EQUALS\",\n          \"value\": \"kitchen_sinks\"\n        }\n      ]\n    },\n    {\n      \"name\": \"classifier:__choice__\",\n      \"type\": \"AND\",\n      \"clauses\": [\n        {\n          \"name\": \"classifier:__choice__\",\n          \"type\": \"EQUALS\",\n          \"value\": \"decision_tree\"\n        },\n        {\n          \"name\": \"feature_preprocessor:__choice__\",\n          \"type\": \"EQUALS\",\n          \"value\": \"nystroem_sampler\"\n        }\n      ]\n    },\n    {\n      \"name\": \"classifier:__choice__\",\n      \"type\": \"AND\",\n      \"clauses\": [\n        {\n          \"name\": \"classifier:__choice__\",\n          \"type\": \"EQUALS\",\n          \"value\": \"extra_trees\"\n        },\n        {\n          \"name\": \"feature_preprocessor:__choice__\",\n          \"type\": \"EQUALS\",\n          \"value\": \"kernel_pca\"\n        }\n      ]\n    },\n    {\n      \"name\": \"classifier:__choice__\",\n      \"type\": \"AND\",\n      \"clauses\": [\n        {\n          \"name\": \"classifier:__choice__\",\n          \"type\": \"EQUALS\",\n          \"value\": \"extra_trees\"\n        },\n        {\n          \"name\": \"feature_preprocessor:__choice__\",\n          \"type\": \"EQUALS\",\n          \"value\": \"kitchen_sinks\"\n        }\n      ]\n    },\n    {\n      \"name\": \"classifier:__choice__\",\n      \"type\": \"AND\",\n      \"clauses\": [\n        {\n          \"name\": \"classifier:__choice__\",\n          \"type\": \"EQUALS\",\n          \"value\": \"extra_trees\"\n        },\n        {\n          \"name\": \"feature_preprocessor:__choice__\",\n          \"type\": \"EQUALS\",\n          \"value\": \"nystroem_sampler\"\n        }\n      ]\n    },\n    {\n      \"name\": \"classifier:__choice__\",\n      \"type\": \"AND\",\n      \"clauses\": [\n        {\n          \"name\": \"classifier:__choice__\",\n          \"type\": \"EQUALS\",\n          \"value\": \"gradient_boosting\"\n        },\n        {\n          \"name\": \"feature_preprocessor:__choice__\",\n          \"type\": \"EQUALS\",\n          \"value\": \"kernel_pca\"\n        }\n      ]\n    },\n    {\n      \"name\": \"classifier:__choice__\",\n      \"type\": \"AND\",\n      \"clauses\": [\n        {\n          \"name\": \"classifier:__choice__\",\n          \"type\": \"EQUALS\",\n          \"value\": \"gradient_boosting\"\n        },\n        {\n          \"name\": \"feature_preprocessor:__choice__\",\n          \"type\": \"EQUALS\",\n          \"value\": \"kitchen_sinks\"\n        }\n      ]\n    },\n    {\n      \"name\": \"classifier:__choice__\",\n      \"type\": \"AND\",\n      \"clauses\": [\n        {\n          \"name\": \"classifier:__choice__\",\n          \"type\": \"EQUALS\",\n          \"value\": \"gradient_boosting\"\n        },\n        {\n          \"name\": \"feature_preprocessor:__choice__\",\n          \"type\": \"EQUALS\",\n          \"value\": \"nystroem_sampler\"\n        }\n      ]\n    },\n    {\n      \"name\": \"classifier:__choice__\",\n      \"type\": \"AND\",\n      \"clauses\": [\n        {\n          \"name\": \"classifier:__choice__\",\n          \"type\": \"EQUALS\",\n          \"value\": \"k_nearest_neighbors\"\n        },\n        {\n          \"name\": \"feature_preprocessor:__choice__\",\n          \"type\": \"EQUALS\",\n          \"value\": \"kernel_pca\"\n        }\n      ]\n    },\n    {\n      \"name\": \"classifier:__choice__\",\n      \"type\": \"AND\",\n      \"clauses\": [\n        {\n          \"name\": \"classifier:__choice__\",\n          \"type\": \"EQUALS\",\n          \"value\": \"k_nearest_neighbors\"\n        },\n        {\n          \"name\": \"feature_preprocessor:__choice__\",\n          \"type\": \"EQUALS\",\n          \"value\": \"kitchen_sinks\"\n        }\n      ]\n    },\n    {\n      \"name\": \"classifier:__choice__\",\n      \"type\": \"AND\",\n      \"clauses\": [\n        {\n          \"name\": \"classifier:__choice__\",\n          \"type\": \"EQUALS\",\n          \"value\": \"k_nearest_neighbors\"\n        },\n        {\n          \"name\": \"feature_preprocessor:__choice__\",\n          \"type\": \"EQUALS\",\n          \"value\": \"nystroem_sampler\"\n        }\n      ]\n    },\n    {\n      \"name\": \"classifier:__choice__\",\n      \"type\": \"AND\",\n      \"clauses\": [\n        {\n          \"name\": \"classifier:__choice__\",\n          \"type\": \"EQUALS\",\n          \"value\": \"libsvm_svc\"\n        },\n        {\n          \"name\": \"feature_preprocessor:__choice__\",\n          \"type\": \"EQUALS\",\n          \"value\": \"kernel_pca\"\n        }\n      ]\n    },\n    {\n      \"name\": \"classifier:__choice__\",\n      \"type\": \"AND\",\n      \"clauses\": [\n        {\n          \"name\": \"classifier:__choice__\",\n          \"type\": \"EQUALS\",\n          \"value\": \"libsvm_svc\"\n        },\n        {\n          \"name\": \"feature_preprocessor:__choice__\",\n          \"type\": \"EQUALS\",\n          \"value\": \"kitchen_sinks\"\n        }\n      ]\n    },\n    {\n      \"name\": \"classifier:__choice__\",\n      \"type\": \"AND\",\n      \"clauses\": [\n        {\n          \"name\": \"classifier:__choice__\",\n          \"type\": \"EQUALS\",\n          \"value\": \"libsvm_svc\"\n        },\n        {\n          \"name\": \"feature_preprocessor:__choice__\",\n          \"type\": \"EQUALS\",\n          \"value\": \"nystroem_sampler\"\n        }\n      ]\n    },\n    {\n      \"name\": \"classifier:__choice__\",\n      \"type\": \"AND\",\n      \"clauses\": [\n        {\n          \"name\": \"classifier:__choice__\",\n          \"type\": \"EQUALS\",\n          \"value\": \"mlp\"\n        },\n        {\n          \"name\": \"feature_preprocessor:__choice__\",\n          \"type\": \"EQUALS\",\n          \"value\": \"kernel_pca\"\n        }\n      ]\n    },\n    {\n      \"name\": \"classifier:__choice__\",\n      \"type\": \"AND\",\n      \"clauses\": [\n        {\n          \"name\": \"classifier:__choice__\",\n          \"type\": \"EQUALS\",\n          \"value\": \"mlp\"\n        },\n        {\n          \"name\": \"feature_preprocessor:__choice__\",\n          \"type\": \"EQUALS\",\n          \"value\": \"kitchen_sinks\"\n        }\n      ]\n    },\n    {\n      \"name\": \"classifier:__choice__\",\n      \"type\": \"AND\",\n      \"clauses\": [\n        {\n          \"name\": \"classifier:__choice__\",\n          \"type\": \"EQUALS\",\n          \"value\": \"mlp\"\n        },\n        {\n          \"name\": \"feature_preprocessor:__choice__\",\n          \"type\": \"EQUALS\",\n          \"value\": \"nystroem_sampler\"\n        }\n      ]\n    },\n    {\n      \"name\": \"classifier:__choice__\",\n      \"type\": \"AND\",\n      \"clauses\": [\n        {\n          \"name\": \"classifier:__choice__\",\n          \"type\": \"EQUALS\",\n          \"value\": \"random_forest\"\n        },\n        {\n          \"name\": \"feature_preprocessor:__choice__\",\n          \"type\": \"EQUALS\",\n          \"value\": \"kernel_pca\"\n        }\n      ]\n    },\n    {\n      \"name\": \"classifier:__choice__\",\n      \"type\": \"AND\",\n      \"clauses\": [\n        {\n          \"name\": \"classifier:__choice__\",\n          \"type\": \"EQUALS\",\n          \"value\": \"random_forest\"\n        },\n        {\n          \"name\": \"feature_preprocessor:__choice__\",\n          \"type\": \"EQUALS\",\n          \"value\": \"kitchen_sinks\"\n        }\n      ]\n    },\n    {\n      \"name\": \"classifier:__choice__\",\n      \"type\": \"AND\",\n      \"clauses\": [\n        {\n          \"name\": \"classifier:__choice__\",\n          \"type\": \"EQUALS\",\n          \"value\": \"random_forest\"\n        },\n        {\n          \"name\": \"feature_preprocessor:__choice__\",\n          \"type\": \"EQUALS\",\n          \"value\": \"nystroem_sampler\"\n        }\n      ]\n    },\n    {\n      \"name\": \"classifier:__choice__\",\n      \"type\": \"AND\",\n      \"clauses\": [\n        {\n          \"name\": \"classifier:__choice__\",\n          \"type\": \"EQUALS\",\n          \"value\": \"gaussian_nb\"\n        },\n        {\n          \"name\": \"feature_preprocessor:__choice__\",\n          \"type\": \"EQUALS\",\n          \"value\": \"kernel_pca\"\n        }\n      ]\n    },\n    {\n      \"name\": \"classifier:__choice__\",\n      \"type\": \"AND\",\n      \"clauses\": [\n        {\n          \"name\": \"classifier:__choice__\",\n          \"type\": \"EQUALS\",\n          \"value\": \"gaussian_nb\"\n        },\n        {\n          \"name\": \"feature_preprocessor:__choice__\",\n          \"type\": \"EQUALS\",\n          \"value\": \"kitchen_sinks\"\n        }\n      ]\n    },\n    {\n      \"name\": \"classifier:__choice__\",\n      \"type\": \"AND\",\n      \"clauses\": [\n        {\n          \"name\": \"classifier:__choice__\",\n          \"type\": \"EQUALS\",\n          \"value\": \"gaussian_nb\"\n        },\n        {\n          \"name\": \"feature_preprocessor:__choice__\",\n          \"type\": \"EQUALS\",\n          \"value\": \"nystroem_sampler\"\n        }\n      ]\n    },\n    {\n      \"name\": \"feature_preprocessor:__choice__\",\n      \"type\": \"AND\",\n      \"clauses\": [\n        {\n          \"name\": \"feature_preprocessor:__choice__\",\n          \"type\": \"EQUALS\",\n          \"value\": \"kitchen_sinks\"\n        },\n        {\n          \"name\": \"classifier:__choice__\",\n          \"type\": \"EQUALS\",\n          \"value\": \"multinomial_nb\"\n        }\n      ]\n    },\n    {\n      \"name\": \"feature_preprocessor:__choice__\",\n      \"type\": \"AND\",\n      \"clauses\": [\n        {\n          \"name\": \"feature_preprocessor:__choice__\",\n          \"type\": \"EQUALS\",\n          \"value\": \"pca\"\n        },\n        {\n          \"name\": \"classifier:__choice__\",\n          \"type\": \"EQUALS\",\n          \"value\": \"multinomial_nb\"\n        }\n      ]\n    },\n    {\n      \"name\": \"feature_preprocessor:__choice__\",\n      \"type\": \"AND\",\n      \"clauses\": [\n        {\n          \"name\": \"feature_preprocessor:__choice__\",\n          \"type\": \"EQUALS\",\n          \"value\": \"fast_ica\"\n        },\n        {\n          \"name\": \"classifier:__choice__\",\n          \"type\": \"EQUALS\",\n          \"value\": \"multinomial_nb\"\n        }\n      ]\n    },\n    {\n      \"name\": \"feature_preprocessor:__choice__\",\n      \"type\": \"AND\",\n      \"clauses\": [\n        {\n          \"name\": \"feature_preprocessor:__choice__\",\n          \"type\": \"EQUALS\",\n          \"value\": \"kernel_pca\"\n        },\n        {\n          \"name\": \"classifier:__choice__\",\n          \"type\": \"EQUALS\",\n          \"value\": \"multinomial_nb\"\n        }\n      ]\n    },\n    {\n      \"name\": \"feature_preprocessor:__choice__\",\n      \"type\": \"AND\",\n      \"clauses\": [\n        {\n          \"name\": \"feature_preprocessor:__choice__\",\n          \"type\": \"EQUALS\",\n          \"value\": \"nystroem_sampler\"\n        },\n        {\n          \"name\": \"classifier:__choice__\",\n          \"type\": \"EQUALS\",\n          \"value\": \"multinomial_nb\"\n        }\n      ]\n    }\n  ],\n  \"python_module_version\": \"0.4.20\",\n  \"json_format_version\": 0.2\n}",
       "explanations": {
        "configs": {},
        "structures": {}
       },
       "meta": {
        "config": {
         "debug_mode": false,
         "disable_evaluator_output": false,
         "ensemble_nbest": 50,
         "ensemble_size": 50,
         "exclude": null,
         "get_smac_objective_callback": null,
         "include": null,
         "logging_config": null,
         "max_models_on_disc": null,
         "memory_limit": 3072,
         "metadata_directory": null,
         "multiprocessing_context": "fork",
         "n_jobs": 1,
         "per_run_time_limit": 20,
         "precision": 32,
         "resampling_strategy": "holdout",
         "resampling_strategy_arguments": {},
         "seed": 1,
         "smac_scenario_args": null,
         "time_left_for_this_task": 60,
         "tmp_folder": "./_auto-sklearn_/"
        },
        "end_time": 1.6433080506141875E9,
        "framework": "auto-sklearn",
        "incumbent": 0.7575757575757576,
        "is_minimization": false,
        "metric": "accuracy",
        "n_configs": 13,
        "n_structures": 1,
        "openml_fold": null,
        "openml_task": null,
        "start_time": 1.6433079906141875E9
       },
       "structures": [
        {
         "cid": "00:00",
         "configs": [
          {
           "budget": 0,
           "config": {},
           "id": "00:00:01",
           "loss": 0.7407407407407407,
           "origin": "Default",
           "runtime": {
            "prediction_time": 3.387928009033203E-4,
            "timestamp": 0.8981766700744629,
            "training_time": 1.7241127490997314
           },
           "status": "SUCCESS"
          }
         ],
         "configspace": "{\n  \"hyperparameters\": [],\n  \"conditions\": [],\n  \"forbiddens\": [],\n  \"python_module_version\": \"0.4.20\",\n  \"json_format_version\": 0.2\n}",
         "pipeline": {
          "args": {},
          "clazz": "autosklearn.evaluation.abstract_evaluator.MyDummyClassifier"
         }
        },
        {
         "cid": "00:01",
         "configs": [
          {
           "budget": 0,
           "config": {
            "balancing:strategy": "none",
            "classifier:__choice__": "random_forest",
            "classifier:random_forest:bootstrap": "True",
            "classifier:random_forest:criterion": "gini",
            "classifier:random_forest:max_depth": "None",
            "classifier:random_forest:max_features": 0.5,
            "classifier:random_forest:max_leaf_nodes": "None",
            "classifier:random_forest:min_impurity_decrease": 0,
            "classifier:random_forest:min_samples_leaf": 1,
            "classifier:random_forest:min_samples_split": 2,
            "classifier:random_forest:min_weight_fraction_leaf": 0,
            "data_preprocessor:__choice__": "feature_type",
            "data_preprocessor:feature_type:categorical_transformer:categorical_encoding:__choice__": "one_hot_encoding",
            "data_preprocessor:feature_type:categorical_transformer:category_coalescence:__choice__": "minority_coalescer",
            "data_preprocessor:feature_type:categorical_transformer:category_coalescence:minority_coalescer:minimum_fraction": 0.01,
            "data_preprocessor:feature_type:numerical_transformer:imputation:strategy": "mean",
            "data_preprocessor:feature_type:numerical_transformer:rescaling:__choice__": "standardize",
            "feature_preprocessor:__choice__": "no_preprocessing"
           },
           "id": "00:01:02",
           "loss": 0.734006734006734,
           "origin": "Initial design",
           "runtime": {
            "prediction_time": 0.07292318344116211,
            "timestamp": 2.664487838745117,
            "training_time": 1.4463436603546143
           },
           "status": "SUCCESS"
          }
         ],
         "configspace": null,
         "pipeline": {
          "args": {
           "configuration": null,
           "steps": [
            [
             "data_preprocessor:classification",
             {
              "args": {
               "transformers": [
                [
                 "categorical_transformer",
                 {
                  "args": {
                   "configuration": null,
                   "steps": [
                    [
                     "imputation:feature_type_categorical",
                     {
                      "args": {},
                      "clazz": "autosklearn.pipeline.components.data_preprocessing.imputation.categorical_imputation.CategoricalImputation"
                     }
                    ],
                    [
                     "encoding:feature_type_categorical",
                     {
                      "args": {},
                      "clazz": "autosklearn.pipeline.components.data_preprocessing.categorical_encoding.encoding.OrdinalEncoding"
                     }
                    ],
                    [
                     "category_shift:feature_type_categorical",
                     {
                      "args": {},
                      "clazz": "autosklearn.pipeline.components.data_preprocessing.category_shift.category_shift.CategoryShift"
                     }
                    ],
                    [
                     "category_coalescence:feature_type_categorical",
                     {
                      "args": {},
                      "clazz": "autosklearn.pipeline.components.data_preprocessing.minority_coalescense.minority_coalescer.MinorityCoalescer"
                     }
                    ],
                    [
                     "categorical_encoding:feature_type_categorical",
                     {
                      "args": {},
                      "clazz": "autosklearn.pipeline.components.data_preprocessing.categorical_encoding.one_hot_encoding.OneHotEncoder"
                     }
                    ]
                   ]
                  },
                  "clazz": "dswizard.components.pipeline.ConfigurablePipeline"
                 },
                 [
                  "checking_status",
                  "credit_history",
                  "purpose",
                  "savings_status",
                  "employment",
                  "personal_status",
                  "other_parties",
                  "property_magnitude",
                  "other_payment_plans",
                  "housing",
                  "job",
                  "own_telephone",
                  "foreign_worker"
                 ]
                ],
                [
                 "numerical_transformer",
                 {
                  "args": {
                   "configuration": null,
                   "steps": [
                    [
                     "imputation:feature_type_numerical",
                     {
                      "args": {},
                      "clazz": "autosklearn.pipeline.components.data_preprocessing.imputation.numerical_imputation.NumericalImputation"
                     }
                    ],
                    [
                     "variance_threshold:feature_type_numerical",
                     {
                      "args": {},
                      "clazz": "autosklearn.pipeline.components.data_preprocessing.variance_threshold.variance_threshold.VarianceThreshold"
                     }
                    ],
                    [
                     "rescaling:feature_type_numerical",
                     {
                      "args": {},
                      "clazz": "autosklearn.pipeline.components.data_preprocessing.rescaling.standardize.StandardScalerComponent"
                     }
                    ]
                   ]
                  },
                  "clazz": "dswizard.components.pipeline.ConfigurablePipeline"
                 },
                 [
                  "duration",
                  "credit_amount",
                  "installment_commitment",
                  "residence_since",
                  "age",
                  "existing_credits",
                  "num_dependents"
                 ]
                ]
               ]
              },
              "clazz": "dswizard.components.sklearn.ColumnTransformerComponent"
             }
            ],
            [
             "balancing:classification",
             {
              "args": {},
              "clazz": "autosklearn.pipeline.components.data_preprocessing.balancing.balancing.Balancing"
             }
            ],
            [
             "feature_preprocessor:classification",
             {
              "args": {},
              "clazz": "autosklearn.pipeline.components.feature_preprocessing.no_preprocessing.NoPreprocessing"
             }
            ],
            [
             "classifier:classification",
             {
              "args": {},
              "clazz": "autosklearn.pipeline.components.classification.random_forest.RandomForest"
             }
            ]
           ]
          },
          "clazz": "dswizard.components.pipeline.ConfigurablePipeline"
         }
        },
        {
         "cid": "00:02",
         "configs": [
          {
           "budget": 0,
           "config": {
            "balancing:strategy": "none",
            "classifier:__choice__": "extra_trees",
            "classifier:extra_trees:bootstrap": "False",
            "classifier:extra_trees:criterion": "entropy",
            "classifier:extra_trees:max_depth": "None",
            "classifier:extra_trees:max_features": 0.562561668029056,
            "classifier:extra_trees:max_leaf_nodes": "None",
            "classifier:extra_trees:min_impurity_decrease": 0,
            "classifier:extra_trees:min_samples_leaf": 2,
            "classifier:extra_trees:min_samples_split": 15,
            "classifier:extra_trees:min_weight_fraction_leaf": 0,
            "data_preprocessor:__choice__": "feature_type",
            "data_preprocessor:feature_type:categorical_transformer:categorical_encoding:__choice__": "one_hot_encoding",
            "data_preprocessor:feature_type:categorical_transformer:category_coalescence:__choice__": "no_coalescense",
            "data_preprocessor:feature_type:numerical_transformer:imputation:strategy": "median",
            "data_preprocessor:feature_type:numerical_transformer:rescaling:__choice__": "none",
            "feature_preprocessor:__choice__": "select_rates_classification",
            "feature_preprocessor:select_rates_classification:alpha": 0.32106218519214325,
            "feature_preprocessor:select_rates_classification:mode": "fwe",
            "feature_preprocessor:select_rates_classification:score_func": "chi2"
           },
           "id": "00:02:03",
           "loss": 0.6666666666666666,
           "origin": "Initial design",
           "runtime": {
            "prediction_time": 0.07332849502563477,
            "timestamp": 4.188241958618164,
            "training_time": 1.1315314769744873
           },
           "status": "SUCCESS"
          }
         ],
         "configspace": null,
         "pipeline": {
          "args": {
           "configuration": null,
           "steps": [
            [
             "data_preprocessor:classification",
             {
              "args": {
               "transformers": [
                [
                 "categorical_transformer",
                 {
                  "args": {
                   "configuration": null,
                   "steps": [
                    [
                     "imputation:feature_type_categorical",
                     {
                      "args": {},
                      "clazz": "autosklearn.pipeline.components.data_preprocessing.imputation.categorical_imputation.CategoricalImputation"
                     }
                    ],
                    [
                     "encoding:feature_type_categorical",
                     {
                      "args": {},
                      "clazz": "autosklearn.pipeline.components.data_preprocessing.categorical_encoding.encoding.OrdinalEncoding"
                     }
                    ],
                    [
                     "category_shift:feature_type_categorical",
                     {
                      "args": {},
                      "clazz": "autosklearn.pipeline.components.data_preprocessing.category_shift.category_shift.CategoryShift"
                     }
                    ],
                    [
                     "category_coalescence:feature_type_categorical",
                     {
                      "args": {},
                      "clazz": "autosklearn.pipeline.components.data_preprocessing.minority_coalescense.no_coalescense.NoCoalescence"
                     }
                    ],
                    [
                     "categorical_encoding:feature_type_categorical",
                     {
                      "args": {},
                      "clazz": "autosklearn.pipeline.components.data_preprocessing.categorical_encoding.one_hot_encoding.OneHotEncoder"
                     }
                    ]
                   ]
                  },
                  "clazz": "dswizard.components.pipeline.ConfigurablePipeline"
                 },
                 [
                  "checking_status",
                  "credit_history",
                  "purpose",
                  "savings_status",
                  "employment",
                  "personal_status",
                  "other_parties",
                  "property_magnitude",
                  "other_payment_plans",
                  "housing",
                  "job",
                  "own_telephone",
                  "foreign_worker"
                 ]
                ],
                [
                 "numerical_transformer",
                 {
                  "args": {
                   "configuration": null,
                   "steps": [
                    [
                     "imputation:feature_type_numerical",
                     {
                      "args": {},
                      "clazz": "autosklearn.pipeline.components.data_preprocessing.imputation.numerical_imputation.NumericalImputation"
                     }
                    ],
                    [
                     "variance_threshold:feature_type_numerical",
                     {
                      "args": {},
                      "clazz": "autosklearn.pipeline.components.data_preprocessing.variance_threshold.variance_threshold.VarianceThreshold"
                     }
                    ],
                    [
                     "rescaling:feature_type_numerical",
                     {
                      "args": {},
                      "clazz": "autosklearn.pipeline.components.data_preprocessing.rescaling.none.NoRescalingComponent"
                     }
                    ]
                   ]
                  },
                  "clazz": "dswizard.components.pipeline.ConfigurablePipeline"
                 },
                 [
                  "duration",
                  "credit_amount",
                  "installment_commitment",
                  "residence_since",
                  "age",
                  "existing_credits",
                  "num_dependents"
                 ]
                ]
               ]
              },
              "clazz": "dswizard.components.sklearn.ColumnTransformerComponent"
             }
            ],
            [
             "balancing:classification",
             {
              "args": {},
              "clazz": "autosklearn.pipeline.components.data_preprocessing.balancing.balancing.Balancing"
             }
            ],
            [
             "feature_preprocessor:classification",
             {
              "args": {},
              "clazz": "autosklearn.pipeline.components.feature_preprocessing.select_rates_classification.SelectClassificationRates"
             }
            ],
            [
             "classifier:classification",
             {
              "args": {},
              "clazz": "autosklearn.pipeline.components.classification.extra_trees.ExtraTreesClassifier"
             }
            ]
           ]
          },
          "clazz": "dswizard.components.pipeline.ConfigurablePipeline"
         }
        },
        {
         "cid": "00:03",
         "configs": [
          {
           "budget": 0,
           "config": {
            "balancing:strategy": "none",
            "classifier:__choice__": "gradient_boosting",
            "classifier:gradient_boosting:early_stop": "valid",
            "classifier:gradient_boosting:l2_regularization": 8.057778875694463E-5,
            "classifier:gradient_boosting:learning_rate": 0.09179220974965213,
            "classifier:gradient_boosting:loss": "auto",
            "classifier:gradient_boosting:max_bins": 255,
            "classifier:gradient_boosting:max_depth": "None",
            "classifier:gradient_boosting:max_leaf_nodes": 200,
            "classifier:gradient_boosting:min_samples_leaf": 20,
            "classifier:gradient_boosting:n_iter_no_change": 18,
            "classifier:gradient_boosting:scoring": "loss",
            "classifier:gradient_boosting:tol": 1.0E-7,
            "classifier:gradient_boosting:validation_fraction": 0.14295295806077554,
            "data_preprocessor:__choice__": "feature_type",
            "data_preprocessor:feature_type:categorical_transformer:categorical_encoding:__choice__": "one_hot_encoding",
            "data_preprocessor:feature_type:categorical_transformer:category_coalescence:__choice__": "minority_coalescer",
            "data_preprocessor:feature_type:categorical_transformer:category_coalescence:minority_coalescer:minimum_fraction": 0.008542188583124829,
            "data_preprocessor:feature_type:numerical_transformer:imputation:strategy": "most_frequent",
            "data_preprocessor:feature_type:numerical_transformer:rescaling:__choice__": "quantile_transformer",
            "data_preprocessor:feature_type:numerical_transformer:rescaling:quantile_transformer:n_quantiles": 1102,
            "data_preprocessor:feature_type:numerical_transformer:rescaling:quantile_transformer:output_distribution": "uniform",
            "feature_preprocessor:__choice__": "extra_trees_preproc_for_classification",
            "feature_preprocessor:extra_trees_preproc_for_classification:bootstrap": "False",
            "feature_preprocessor:extra_trees_preproc_for_classification:criterion": "gini",
            "feature_preprocessor:extra_trees_preproc_for_classification:max_depth": "None",
            "feature_preprocessor:extra_trees_preproc_for_classification:max_features": 0.9984367650965825,
            "feature_preprocessor:extra_trees_preproc_for_classification:max_leaf_nodes": "None",
            "feature_preprocessor:extra_trees_preproc_for_classification:min_impurity_decrease": 0,
            "feature_preprocessor:extra_trees_preproc_for_classification:min_samples_leaf": 13,
            "feature_preprocessor:extra_trees_preproc_for_classification:min_samples_split": 18,
            "feature_preprocessor:extra_trees_preproc_for_classification:min_weight_fraction_leaf": 0,
            "feature_preprocessor:extra_trees_preproc_for_classification:n_estimators": 100
           },
           "id": "00:03:04",
           "loss": 0.7575757575757576,
           "origin": "Initial design",
           "runtime": {
            "prediction_time": 0.2204761505126953,
            "timestamp": 5.4165661334991455,
            "training_time": 1.9137742519378662
           },
           "status": "SUCCESS"
          }
         ],
         "configspace": null,
         "pipeline": {
          "args": {
           "configuration": null,
           "steps": [
            [
             "data_preprocessor:classification",
             {
              "args": {
               "transformers": [
                [
                 "categorical_transformer",
                 {
                  "args": {
                   "configuration": null,
                   "steps": [
                    [
                     "imputation:feature_type_categorical",
                     {
                      "args": {},
                      "clazz": "autosklearn.pipeline.components.data_preprocessing.imputation.categorical_imputation.CategoricalImputation"
                     }
                    ],
                    [
                     "encoding:feature_type_categorical",
                     {
                      "args": {},
                      "clazz": "autosklearn.pipeline.components.data_preprocessing.categorical_encoding.encoding.OrdinalEncoding"
                     }
                    ],
                    [
                     "category_shift:feature_type_categorical",
                     {
                      "args": {},
                      "clazz": "autosklearn.pipeline.components.data_preprocessing.category_shift.category_shift.CategoryShift"
                     }
                    ],
                    [
                     "category_coalescence:feature_type_categorical",
                     {
                      "args": {},
                      "clazz": "autosklearn.pipeline.components.data_preprocessing.minority_coalescense.minority_coalescer.MinorityCoalescer"
                     }
                    ],
                    [
                     "categorical_encoding:feature_type_categorical",
                     {
                      "args": {},
                      "clazz": "autosklearn.pipeline.components.data_preprocessing.categorical_encoding.one_hot_encoding.OneHotEncoder"
                     }
                    ]
                   ]
                  },
                  "clazz": "dswizard.components.pipeline.ConfigurablePipeline"
                 },
                 [
                  "checking_status",
                  "credit_history",
                  "purpose",
                  "savings_status",
                  "employment",
                  "personal_status",
                  "other_parties",
                  "property_magnitude",
                  "other_payment_plans",
                  "housing",
                  "job",
                  "own_telephone",
                  "foreign_worker"
                 ]
                ],
                [
                 "numerical_transformer",
                 {
                  "args": {
                   "configuration": null,
                   "steps": [
                    [
                     "imputation:feature_type_numerical",
                     {
                      "args": {},
                      "clazz": "autosklearn.pipeline.components.data_preprocessing.imputation.numerical_imputation.NumericalImputation"
                     }
                    ],
                    [
                     "variance_threshold:feature_type_numerical",
                     {
                      "args": {},
                      "clazz": "autosklearn.pipeline.components.data_preprocessing.variance_threshold.variance_threshold.VarianceThreshold"
                     }
                    ],
                    [
                     "rescaling:feature_type_numerical",
                     {
                      "args": {},
                      "clazz": "autosklearn.pipeline.components.data_preprocessing.rescaling.quantile_transformer.QuantileTransformerComponent"
                     }
                    ]
                   ]
                  },
                  "clazz": "dswizard.components.pipeline.ConfigurablePipeline"
                 },
                 [
                  "duration",
                  "credit_amount",
                  "installment_commitment",
                  "residence_since",
                  "age",
                  "existing_credits",
                  "num_dependents"
                 ]
                ]
               ]
              },
              "clazz": "dswizard.components.sklearn.ColumnTransformerComponent"
             }
            ],
            [
             "balancing:classification",
             {
              "args": {},
              "clazz": "autosklearn.pipeline.components.data_preprocessing.balancing.balancing.Balancing"
             }
            ],
            [
             "feature_preprocessor:classification",
             {
              "args": {},
              "clazz": "autosklearn.pipeline.components.feature_preprocessing.extra_trees_preproc_for_classification.ExtraTreesPreprocessorClassification"
             }
            ],
            [
             "classifier:classification",
             {
              "args": {},
              "clazz": "autosklearn.pipeline.components.classification.gradient_boosting.GradientBoostingClassifier"
             }
            ]
           ]
          },
          "clazz": "dswizard.components.pipeline.ConfigurablePipeline"
         }
        },
        {
         "cid": "00:04",
         "configs": [
          {
           "budget": 0,
           "config": {
            "balancing:strategy": "weighting",
            "classifier:__choice__": "gradient_boosting",
            "classifier:gradient_boosting:early_stop": "train",
            "classifier:gradient_boosting:l2_regularization": 3.387912939529945E-10,
            "classifier:gradient_boosting:learning_rate": 0.30755227194768237,
            "classifier:gradient_boosting:loss": "auto",
            "classifier:gradient_boosting:max_bins": 255,
            "classifier:gradient_boosting:max_depth": "None",
            "classifier:gradient_boosting:max_leaf_nodes": 60,
            "classifier:gradient_boosting:min_samples_leaf": 39,
            "classifier:gradient_boosting:n_iter_no_change": 18,
            "classifier:gradient_boosting:scoring": "loss",
            "classifier:gradient_boosting:tol": 1.0E-7,
            "data_preprocessor:__choice__": "feature_type",
            "data_preprocessor:feature_type:categorical_transformer:categorical_encoding:__choice__": "one_hot_encoding",
            "data_preprocessor:feature_type:categorical_transformer:category_coalescence:__choice__": "minority_coalescer",
            "data_preprocessor:feature_type:categorical_transformer:category_coalescence:minority_coalescer:minimum_fraction": 0.010000000000000004,
            "data_preprocessor:feature_type:numerical_transformer:imputation:strategy": "most_frequent",
            "data_preprocessor:feature_type:numerical_transformer:rescaling:__choice__": "none",
            "feature_preprocessor:__choice__": "select_percentile_classification",
            "feature_preprocessor:select_percentile_classification:percentile": 93.39844669585806,
            "feature_preprocessor:select_percentile_classification:score_func": "f_classif"
           },
           "id": "00:04:05",
           "loss": 0.7407407407407407,
           "origin": "Initial design",
           "runtime": {
            "prediction_time": 0.04346513748168945,
            "timestamp": 7.456329107284546,
            "training_time": 6.394373416900635
           },
           "status": "SUCCESS"
          }
         ],
         "configspace": null,
         "pipeline": {
          "args": {
           "configuration": null,
           "steps": [
            [
             "data_preprocessor:classification",
             {
              "args": {
               "transformers": [
                [
                 "categorical_transformer",
                 {
                  "args": {
                   "configuration": null,
                   "steps": [
                    [
                     "imputation:feature_type_categorical",
                     {
                      "args": {},
                      "clazz": "autosklearn.pipeline.components.data_preprocessing.imputation.categorical_imputation.CategoricalImputation"
                     }
                    ],
                    [
                     "encoding:feature_type_categorical",
                     {
                      "args": {},
                      "clazz": "autosklearn.pipeline.components.data_preprocessing.categorical_encoding.encoding.OrdinalEncoding"
                     }
                    ],
                    [
                     "category_shift:feature_type_categorical",
                     {
                      "args": {},
                      "clazz": "autosklearn.pipeline.components.data_preprocessing.category_shift.category_shift.CategoryShift"
                     }
                    ],
                    [
                     "category_coalescence:feature_type_categorical",
                     {
                      "args": {},
                      "clazz": "autosklearn.pipeline.components.data_preprocessing.minority_coalescense.minority_coalescer.MinorityCoalescer"
                     }
                    ],
                    [
                     "categorical_encoding:feature_type_categorical",
                     {
                      "args": {},
                      "clazz": "autosklearn.pipeline.components.data_preprocessing.categorical_encoding.one_hot_encoding.OneHotEncoder"
                     }
                    ]
                   ]
                  },
                  "clazz": "dswizard.components.pipeline.ConfigurablePipeline"
                 },
                 [
                  "checking_status",
                  "credit_history",
                  "purpose",
                  "savings_status",
                  "employment",
                  "personal_status",
                  "other_parties",
                  "property_magnitude",
                  "other_payment_plans",
                  "housing",
                  "job",
                  "own_telephone",
                  "foreign_worker"
                 ]
                ],
                [
                 "numerical_transformer",
                 {
                  "args": {
                   "configuration": null,
                   "steps": [
                    [
                     "imputation:feature_type_numerical",
                     {
                      "args": {},
                      "clazz": "autosklearn.pipeline.components.data_preprocessing.imputation.numerical_imputation.NumericalImputation"
                     }
                    ],
                    [
                     "variance_threshold:feature_type_numerical",
                     {
                      "args": {},
                      "clazz": "autosklearn.pipeline.components.data_preprocessing.variance_threshold.variance_threshold.VarianceThreshold"
                     }
                    ],
                    [
                     "rescaling:feature_type_numerical",
                     {
                      "args": {},
                      "clazz": "autosklearn.pipeline.components.data_preprocessing.rescaling.none.NoRescalingComponent"
                     }
                    ]
                   ]
                  },
                  "clazz": "dswizard.components.pipeline.ConfigurablePipeline"
                 },
                 [
                  "duration",
                  "credit_amount",
                  "installment_commitment",
                  "residence_since",
                  "age",
                  "existing_credits",
                  "num_dependents"
                 ]
                ]
               ]
              },
              "clazz": "dswizard.components.sklearn.ColumnTransformerComponent"
             }
            ],
            [
             "balancing:classification",
             {
              "args": {},
              "clazz": "autosklearn.pipeline.components.data_preprocessing.balancing.balancing.Balancing"
             }
            ],
            [
             "feature_preprocessor:classification",
             {
              "args": {},
              "clazz": "autosklearn.pipeline.components.feature_preprocessing.select_percentile_classification.SelectPercentileClassification"
             }
            ],
            [
             "classifier:classification",
             {
              "args": {},
              "clazz": "autosklearn.pipeline.components.classification.gradient_boosting.GradientBoostingClassifier"
             }
            ]
           ]
          },
          "clazz": "dswizard.components.pipeline.ConfigurablePipeline"
         }
        },
        {
         "cid": "00:05",
         "configs": [
          {
           "budget": 0,
           "config": {
            "balancing:strategy": "weighting",
            "classifier:__choice__": "mlp",
            "classifier:mlp:activation": "tanh",
            "classifier:mlp:alpha": 2.1148999718383549E-4,
            "classifier:mlp:batch_size": "auto",
            "classifier:mlp:beta_1": 0.9,
            "classifier:mlp:beta_2": 0.999,
            "classifier:mlp:early_stopping": "train",
            "classifier:mlp:epsilon": 1.0E-8,
            "classifier:mlp:hidden_layer_depth": 3,
            "classifier:mlp:learning_rate_init": 7.452270241186694E-4,
            "classifier:mlp:n_iter_no_change": 32,
            "classifier:mlp:num_nodes_per_layer": 113,
            "classifier:mlp:shuffle": "True",
            "classifier:mlp:solver": "adam",
            "classifier:mlp:tol": 1.0E-4,
            "data_preprocessor:__choice__": "feature_type",
            "data_preprocessor:feature_type:categorical_transformer:categorical_encoding:__choice__": "one_hot_encoding",
            "data_preprocessor:feature_type:categorical_transformer:category_coalescence:__choice__": "no_coalescense",
            "data_preprocessor:feature_type:numerical_transformer:imputation:strategy": "most_frequent",
            "data_preprocessor:feature_type:numerical_transformer:rescaling:__choice__": "standardize",
            "feature_preprocessor:__choice__": "feature_agglomeration",
            "feature_preprocessor:feature_agglomeration:affinity": "euclidean",
            "feature_preprocessor:feature_agglomeration:linkage": "complete",
            "feature_preprocessor:feature_agglomeration:n_clusters": 247,
            "feature_preprocessor:feature_agglomeration:pooling_func": "max"
           },
           "id": "00:05:06",
           "loss": 0.7306397306397306,
           "origin": "Initial design",
           "runtime": {
            "prediction_time": 0.05075240135192871,
            "timestamp": 13.980114936828613,
            "training_time": 3.0432560443878174
           },
           "status": "SUCCESS"
          }
         ],
         "configspace": null,
         "pipeline": {
          "args": {
           "configuration": null,
           "steps": [
            [
             "data_preprocessor:classification",
             {
              "args": {
               "transformers": [
                [
                 "categorical_transformer",
                 {
                  "args": {
                   "configuration": null,
                   "steps": [
                    [
                     "imputation:feature_type_categorical",
                     {
                      "args": {},
                      "clazz": "autosklearn.pipeline.components.data_preprocessing.imputation.categorical_imputation.CategoricalImputation"
                     }
                    ],
                    [
                     "encoding:feature_type_categorical",
                     {
                      "args": {},
                      "clazz": "autosklearn.pipeline.components.data_preprocessing.categorical_encoding.encoding.OrdinalEncoding"
                     }
                    ],
                    [
                     "category_shift:feature_type_categorical",
                     {
                      "args": {},
                      "clazz": "autosklearn.pipeline.components.data_preprocessing.category_shift.category_shift.CategoryShift"
                     }
                    ],
                    [
                     "category_coalescence:feature_type_categorical",
                     {
                      "args": {},
                      "clazz": "autosklearn.pipeline.components.data_preprocessing.minority_coalescense.no_coalescense.NoCoalescence"
                     }
                    ],
                    [
                     "categorical_encoding:feature_type_categorical",
                     {
                      "args": {},
                      "clazz": "autosklearn.pipeline.components.data_preprocessing.categorical_encoding.one_hot_encoding.OneHotEncoder"
                     }
                    ]
                   ]
                  },
                  "clazz": "dswizard.components.pipeline.ConfigurablePipeline"
                 },
                 [
                  "checking_status",
                  "credit_history",
                  "purpose",
                  "savings_status",
                  "employment",
                  "personal_status",
                  "other_parties",
                  "property_magnitude",
                  "other_payment_plans",
                  "housing",
                  "job",
                  "own_telephone",
                  "foreign_worker"
                 ]
                ],
                [
                 "numerical_transformer",
                 {
                  "args": {
                   "configuration": null,
                   "steps": [
                    [
                     "imputation:feature_type_numerical",
                     {
                      "args": {},
                      "clazz": "autosklearn.pipeline.components.data_preprocessing.imputation.numerical_imputation.NumericalImputation"
                     }
                    ],
                    [
                     "variance_threshold:feature_type_numerical",
                     {
                      "args": {},
                      "clazz": "autosklearn.pipeline.components.data_preprocessing.variance_threshold.variance_threshold.VarianceThreshold"
                     }
                    ],
                    [
                     "rescaling:feature_type_numerical",
                     {
                      "args": {},
                      "clazz": "autosklearn.pipeline.components.data_preprocessing.rescaling.standardize.StandardScalerComponent"
                     }
                    ]
                   ]
                  },
                  "clazz": "dswizard.components.pipeline.ConfigurablePipeline"
                 },
                 [
                  "duration",
                  "credit_amount",
                  "installment_commitment",
                  "residence_since",
                  "age",
                  "existing_credits",
                  "num_dependents"
                 ]
                ]
               ]
              },
              "clazz": "dswizard.components.sklearn.ColumnTransformerComponent"
             }
            ],
            [
             "balancing:classification",
             {
              "args": {},
              "clazz": "autosklearn.pipeline.components.data_preprocessing.balancing.balancing.Balancing"
             }
            ],
            [
             "feature_preprocessor:classification",
             {
              "args": {},
              "clazz": "autosklearn.pipeline.components.feature_preprocessing.feature_agglomeration.FeatureAgglomeration"
             }
            ],
            [
             "classifier:classification",
             {
              "args": {},
              "clazz": "autosklearn.pipeline.components.classification.mlp.MLPClassifier"
             }
            ]
           ]
          },
          "clazz": "dswizard.components.pipeline.ConfigurablePipeline"
         }
        },
        {
         "cid": "00:06",
         "configs": [
          {
           "budget": 0,
           "config": {
            "balancing:strategy": "none",
            "classifier:__choice__": "extra_trees",
            "classifier:extra_trees:bootstrap": "False",
            "classifier:extra_trees:criterion": "gini",
            "classifier:extra_trees:max_depth": "None",
            "classifier:extra_trees:max_features": 0.5707983257382487,
            "classifier:extra_trees:max_leaf_nodes": "None",
            "classifier:extra_trees:min_impurity_decrease": 0,
            "classifier:extra_trees:min_samples_leaf": 3,
            "classifier:extra_trees:min_samples_split": 11,
            "classifier:extra_trees:min_weight_fraction_leaf": 0,
            "data_preprocessor:__choice__": "feature_type",
            "data_preprocessor:feature_type:categorical_transformer:categorical_encoding:__choice__": "one_hot_encoding",
            "data_preprocessor:feature_type:categorical_transformer:category_coalescence:__choice__": "no_coalescense",
            "data_preprocessor:feature_type:numerical_transformer:imputation:strategy": "median",
            "data_preprocessor:feature_type:numerical_transformer:rescaling:__choice__": "none",
            "feature_preprocessor:__choice__": "polynomial",
            "feature_preprocessor:polynomial:degree": 2,
            "feature_preprocessor:polynomial:include_bias": "False",
            "feature_preprocessor:polynomial:interaction_only": "False"
           },
           "id": "00:06:07",
           "loss": 0.7003367003367004,
           "origin": "Initial design",
           "runtime": {
            "prediction_time": 0.11088919639587402,
            "timestamp": 17.188510179519653,
            "training_time": 0.9986319541931152
           },
           "status": "SUCCESS"
          }
         ],
         "configspace": null,
         "pipeline": {
          "args": {
           "configuration": null,
           "steps": [
            [
             "data_preprocessor:classification",
             {
              "args": {
               "transformers": [
                [
                 "categorical_transformer",
                 {
                  "args": {
                   "configuration": null,
                   "steps": [
                    [
                     "imputation:feature_type_categorical",
                     {
                      "args": {},
                      "clazz": "autosklearn.pipeline.components.data_preprocessing.imputation.categorical_imputation.CategoricalImputation"
                     }
                    ],
                    [
                     "encoding:feature_type_categorical",
                     {
                      "args": {},
                      "clazz": "autosklearn.pipeline.components.data_preprocessing.categorical_encoding.encoding.OrdinalEncoding"
                     }
                    ],
                    [
                     "category_shift:feature_type_categorical",
                     {
                      "args": {},
                      "clazz": "autosklearn.pipeline.components.data_preprocessing.category_shift.category_shift.CategoryShift"
                     }
                    ],
                    [
                     "category_coalescence:feature_type_categorical",
                     {
                      "args": {},
                      "clazz": "autosklearn.pipeline.components.data_preprocessing.minority_coalescense.no_coalescense.NoCoalescence"
                     }
                    ],
                    [
                     "categorical_encoding:feature_type_categorical",
                     {
                      "args": {},
                      "clazz": "autosklearn.pipeline.components.data_preprocessing.categorical_encoding.one_hot_encoding.OneHotEncoder"
                     }
                    ]
                   ]
                  },
                  "clazz": "dswizard.components.pipeline.ConfigurablePipeline"
                 },
                 [
                  "checking_status",
                  "credit_history",
                  "purpose",
                  "savings_status",
                  "employment",
                  "personal_status",
                  "other_parties",
                  "property_magnitude",
                  "other_payment_plans",
                  "housing",
                  "job",
                  "own_telephone",
                  "foreign_worker"
                 ]
                ],
                [
                 "numerical_transformer",
                 {
                  "args": {
                   "configuration": null,
                   "steps": [
                    [
                     "imputation:feature_type_numerical",
                     {
                      "args": {},
                      "clazz": "autosklearn.pipeline.components.data_preprocessing.imputation.numerical_imputation.NumericalImputation"
                     }
                    ],
                    [
                     "variance_threshold:feature_type_numerical",
                     {
                      "args": {},
                      "clazz": "autosklearn.pipeline.components.data_preprocessing.variance_threshold.variance_threshold.VarianceThreshold"
                     }
                    ],
                    [
                     "rescaling:feature_type_numerical",
                     {
                      "args": {},
                      "clazz": "autosklearn.pipeline.components.data_preprocessing.rescaling.none.NoRescalingComponent"
                     }
                    ]
                   ]
                  },
                  "clazz": "dswizard.components.pipeline.ConfigurablePipeline"
                 },
                 [
                  "duration",
                  "credit_amount",
                  "installment_commitment",
                  "residence_since",
                  "age",
                  "existing_credits",
                  "num_dependents"
                 ]
                ]
               ]
              },
              "clazz": "dswizard.components.sklearn.ColumnTransformerComponent"
             }
            ],
            [
             "balancing:classification",
             {
              "args": {},
              "clazz": "autosklearn.pipeline.components.data_preprocessing.balancing.balancing.Balancing"
             }
            ],
            [
             "feature_preprocessor:classification",
             {
              "args": {},
              "clazz": "autosklearn.pipeline.components.feature_preprocessing.polynomial.PolynomialFeatures"
             }
            ],
            [
             "classifier:classification",
             {
              "args": {},
              "clazz": "autosklearn.pipeline.components.classification.extra_trees.ExtraTreesClassifier"
             }
            ]
           ]
          },
          "clazz": "dswizard.components.pipeline.ConfigurablePipeline"
         }
        },
        {
         "cid": "00:07",
         "configs": [
          {
           "budget": 0,
           "config": {
            "balancing:strategy": "none",
            "classifier:__choice__": "passive_aggressive",
            "classifier:passive_aggressive:C": 0.14268277711454813,
            "classifier:passive_aggressive:average": "False",
            "classifier:passive_aggressive:fit_intercept": "True",
            "classifier:passive_aggressive:loss": "hinge",
            "classifier:passive_aggressive:tol": 2.600768160857831E-4,
            "data_preprocessor:__choice__": "feature_type",
            "data_preprocessor:feature_type:categorical_transformer:categorical_encoding:__choice__": "no_encoding",
            "data_preprocessor:feature_type:categorical_transformer:category_coalescence:__choice__": "minority_coalescer",
            "data_preprocessor:feature_type:categorical_transformer:category_coalescence:minority_coalescer:minimum_fraction": 0.0070580904199417415,
            "data_preprocessor:feature_type:numerical_transformer:imputation:strategy": "most_frequent",
            "data_preprocessor:feature_type:numerical_transformer:rescaling:__choice__": "none",
            "feature_preprocessor:__choice__": "no_preprocessing"
           },
           "id": "00:07:08",
           "loss": 0.7272727272727273,
           "origin": "Initial design",
           "runtime": {
            "prediction_time": 0.00842595100402832,
            "timestamp": 18.568960666656494,
            "training_time": 6.602940559387207
           },
           "status": "SUCCESS"
          }
         ],
         "configspace": null,
         "pipeline": {
          "args": {
           "configuration": null,
           "steps": [
            [
             "data_preprocessor:classification",
             {
              "args": {
               "transformers": [
                [
                 "categorical_transformer",
                 {
                  "args": {
                   "configuration": null,
                   "steps": [
                    [
                     "imputation:feature_type_categorical",
                     {
                      "args": {},
                      "clazz": "autosklearn.pipeline.components.data_preprocessing.imputation.categorical_imputation.CategoricalImputation"
                     }
                    ],
                    [
                     "encoding:feature_type_categorical",
                     {
                      "args": {},
                      "clazz": "autosklearn.pipeline.components.data_preprocessing.categorical_encoding.encoding.OrdinalEncoding"
                     }
                    ],
                    [
                     "category_shift:feature_type_categorical",
                     {
                      "args": {},
                      "clazz": "autosklearn.pipeline.components.data_preprocessing.category_shift.category_shift.CategoryShift"
                     }
                    ],
                    [
                     "category_coalescence:feature_type_categorical",
                     {
                      "args": {},
                      "clazz": "autosklearn.pipeline.components.data_preprocessing.minority_coalescense.minority_coalescer.MinorityCoalescer"
                     }
                    ],
                    [
                     "categorical_encoding:feature_type_categorical",
                     {
                      "args": {},
                      "clazz": "autosklearn.pipeline.components.data_preprocessing.categorical_encoding.no_encoding.NoEncoding"
                     }
                    ]
                   ]
                  },
                  "clazz": "dswizard.components.pipeline.ConfigurablePipeline"
                 },
                 [
                  "checking_status",
                  "credit_history",
                  "purpose",
                  "savings_status",
                  "employment",
                  "personal_status",
                  "other_parties",
                  "property_magnitude",
                  "other_payment_plans",
                  "housing",
                  "job",
                  "own_telephone",
                  "foreign_worker"
                 ]
                ],
                [
                 "numerical_transformer",
                 {
                  "args": {
                   "configuration": null,
                   "steps": [
                    [
                     "imputation:feature_type_numerical",
                     {
                      "args": {},
                      "clazz": "autosklearn.pipeline.components.data_preprocessing.imputation.numerical_imputation.NumericalImputation"
                     }
                    ],
                    [
                     "variance_threshold:feature_type_numerical",
                     {
                      "args": {},
                      "clazz": "autosklearn.pipeline.components.data_preprocessing.variance_threshold.variance_threshold.VarianceThreshold"
                     }
                    ],
                    [
                     "rescaling:feature_type_numerical",
                     {
                      "args": {},
                      "clazz": "autosklearn.pipeline.components.data_preprocessing.rescaling.none.NoRescalingComponent"
                     }
                    ]
                   ]
                  },
                  "clazz": "dswizard.components.pipeline.ConfigurablePipeline"
                 },
                 [
                  "duration",
                  "credit_amount",
                  "installment_commitment",
                  "residence_since",
                  "age",
                  "existing_credits",
                  "num_dependents"
                 ]
                ]
               ]
              },
              "clazz": "dswizard.components.sklearn.ColumnTransformerComponent"
             }
            ],
            [
             "balancing:classification",
             {
              "args": {},
              "clazz": "autosklearn.pipeline.components.data_preprocessing.balancing.balancing.Balancing"
             }
            ],
            [
             "feature_preprocessor:classification",
             {
              "args": {},
              "clazz": "autosklearn.pipeline.components.feature_preprocessing.no_preprocessing.NoPreprocessing"
             }
            ],
            [
             "classifier:classification",
             {
              "args": {},
              "clazz": "autosklearn.pipeline.components.classification.passive_aggressive.PassiveAggressive"
             }
            ]
           ]
          },
          "clazz": "dswizard.components.pipeline.ConfigurablePipeline"
         }
        },
        {
         "cid": "00:08",
         "configs": [
          {
           "budget": 0,
           "config": {
            "balancing:strategy": "weighting",
            "classifier:__choice__": "mlp",
            "classifier:mlp:activation": "relu",
            "classifier:mlp:alpha": 4.2841884333778574E-6,
            "classifier:mlp:batch_size": "auto",
            "classifier:mlp:beta_1": 0.9,
            "classifier:mlp:beta_2": 0.999,
            "classifier:mlp:early_stopping": "train",
            "classifier:mlp:epsilon": 1.0E-8,
            "classifier:mlp:hidden_layer_depth": 3,
            "classifier:mlp:learning_rate_init": 0.0011804284312897009,
            "classifier:mlp:n_iter_no_change": 32,
            "classifier:mlp:num_nodes_per_layer": 263,
            "classifier:mlp:shuffle": "True",
            "classifier:mlp:solver": "adam",
            "classifier:mlp:tol": 1.0E-4,
            "data_preprocessor:__choice__": "feature_type",
            "data_preprocessor:feature_type:categorical_transformer:categorical_encoding:__choice__": "one_hot_encoding",
            "data_preprocessor:feature_type:categorical_transformer:category_coalescence:__choice__": "minority_coalescer",
            "data_preprocessor:feature_type:categorical_transformer:category_coalescence:minority_coalescer:minimum_fraction": 0.004071801722749603,
            "data_preprocessor:feature_type:numerical_transformer:imputation:strategy": "mean",
            "data_preprocessor:feature_type:numerical_transformer:rescaling:__choice__": "minmax",
            "feature_preprocessor:__choice__": "feature_agglomeration",
            "feature_preprocessor:feature_agglomeration:affinity": "manhattan",
            "feature_preprocessor:feature_agglomeration:linkage": "average",
            "feature_preprocessor:feature_agglomeration:n_clusters": 338,
            "feature_preprocessor:feature_agglomeration:pooling_func": "mean"
           },
           "id": "00:08:09",
           "loss": 0,
           "origin": "Initial design",
           "runtime": {
            "prediction_time": 0.012247800827026367,
            "timestamp": 25.382124185562134,
            "training_time": 0.972581148147583
           },
           "status": "CRASHED"
          }
         ],
         "configspace": null,
         "pipeline": {
          "args": {
           "configuration": null,
           "steps": [
            [
             "data_preprocessor:classification",
             {
              "args": {
               "transformers": [
                [
                 "categorical_transformer",
                 {
                  "args": {
                   "configuration": null,
                   "steps": [
                    [
                     "imputation:feature_type_categorical",
                     {
                      "args": {},
                      "clazz": "autosklearn.pipeline.components.data_preprocessing.imputation.categorical_imputation.CategoricalImputation"
                     }
                    ],
                    [
                     "encoding:feature_type_categorical",
                     {
                      "args": {},
                      "clazz": "autosklearn.pipeline.components.data_preprocessing.categorical_encoding.encoding.OrdinalEncoding"
                     }
                    ],
                    [
                     "category_shift:feature_type_categorical",
                     {
                      "args": {},
                      "clazz": "autosklearn.pipeline.components.data_preprocessing.category_shift.category_shift.CategoryShift"
                     }
                    ],
                    [
                     "category_coalescence:feature_type_categorical",
                     {
                      "args": {},
                      "clazz": "autosklearn.pipeline.components.data_preprocessing.minority_coalescense.minority_coalescer.MinorityCoalescer"
                     }
                    ],
                    [
                     "categorical_encoding:feature_type_categorical",
                     {
                      "args": {},
                      "clazz": "autosklearn.pipeline.components.data_preprocessing.categorical_encoding.one_hot_encoding.OneHotEncoder"
                     }
                    ]
                   ]
                  },
                  "clazz": "dswizard.components.pipeline.ConfigurablePipeline"
                 },
                 [
                  "checking_status",
                  "credit_history",
                  "purpose",
                  "savings_status",
                  "employment",
                  "personal_status",
                  "other_parties",
                  "property_magnitude",
                  "other_payment_plans",
                  "housing",
                  "job",
                  "own_telephone",
                  "foreign_worker"
                 ]
                ],
                [
                 "numerical_transformer",
                 {
                  "args": {
                   "configuration": null,
                   "steps": [
                    [
                     "imputation:feature_type_numerical",
                     {
                      "args": {},
                      "clazz": "autosklearn.pipeline.components.data_preprocessing.imputation.numerical_imputation.NumericalImputation"
                     }
                    ],
                    [
                     "variance_threshold:feature_type_numerical",
                     {
                      "args": {},
                      "clazz": "autosklearn.pipeline.components.data_preprocessing.variance_threshold.variance_threshold.VarianceThreshold"
                     }
                    ],
                    [
                     "rescaling:feature_type_numerical",
                     {
                      "args": {},
                      "clazz": "autosklearn.pipeline.components.data_preprocessing.rescaling.minmax.MinMaxScalerComponent"
                     }
                    ]
                   ]
                  },
                  "clazz": "dswizard.components.pipeline.ConfigurablePipeline"
                 },
                 [
                  "duration",
                  "credit_amount",
                  "installment_commitment",
                  "residence_since",
                  "age",
                  "existing_credits",
                  "num_dependents"
                 ]
                ]
               ]
              },
              "clazz": "dswizard.components.sklearn.ColumnTransformerComponent"
             }
            ],
            [
             "balancing:classification",
             {
              "args": {},
              "clazz": "autosklearn.pipeline.components.data_preprocessing.balancing.balancing.Balancing"
             }
            ],
            [
             "feature_preprocessor:classification",
             {
              "args": {},
              "clazz": "autosklearn.pipeline.components.feature_preprocessing.feature_agglomeration.FeatureAgglomeration"
             }
            ],
            [
             "classifier:classification",
             {
              "args": {},
              "clazz": "autosklearn.pipeline.components.classification.mlp.MLPClassifier"
             }
            ]
           ]
          },
          "clazz": "dswizard.components.pipeline.ConfigurablePipeline"
         }
        },
        {
         "cid": "00:09",
         "configs": [
          {
           "budget": 0,
           "config": {
            "balancing:strategy": "weighting",
            "classifier:__choice__": "random_forest",
            "classifier:random_forest:bootstrap": "True",
            "classifier:random_forest:criterion": "entropy",
            "classifier:random_forest:max_depth": "None",
            "classifier:random_forest:max_features": 0.49138075723513286,
            "classifier:random_forest:max_leaf_nodes": "None",
            "classifier:random_forest:min_impurity_decrease": 0,
            "classifier:random_forest:min_samples_leaf": 1,
            "classifier:random_forest:min_samples_split": 6,
            "classifier:random_forest:min_weight_fraction_leaf": 0,
            "data_preprocessor:__choice__": "feature_type",
            "data_preprocessor:feature_type:categorical_transformer:categorical_encoding:__choice__": "no_encoding",
            "data_preprocessor:feature_type:categorical_transformer:category_coalescence:__choice__": "minority_coalescer",
            "data_preprocessor:feature_type:categorical_transformer:category_coalescence:minority_coalescer:minimum_fraction": 0.42693600390988135,
            "data_preprocessor:feature_type:numerical_transformer:imputation:strategy": "most_frequent",
            "data_preprocessor:feature_type:numerical_transformer:rescaling:__choice__": "minmax",
            "feature_preprocessor:__choice__": "select_percentile_classification",
            "feature_preprocessor:select_percentile_classification:percentile": 56.97947373958566,
            "feature_preprocessor:select_percentile_classification:score_func": "mutual_info"
           },
           "id": "00:09:11",
           "loss": 0.6195286195286195,
           "origin": "Initial design",
           "runtime": {
            "prediction_time": 0.11018562316894531,
            "timestamp": 28.835500478744507,
            "training_time": 5.917830228805542
           },
           "status": "SUCCESS"
          }
         ],
         "configspace": null,
         "pipeline": {
          "args": {
           "configuration": null,
           "steps": [
            [
             "data_preprocessor:classification",
             {
              "args": {
               "transformers": [
                [
                 "categorical_transformer",
                 {
                  "args": {
                   "configuration": null,
                   "steps": [
                    [
                     "imputation:feature_type_categorical",
                     {
                      "args": {},
                      "clazz": "autosklearn.pipeline.components.data_preprocessing.imputation.categorical_imputation.CategoricalImputation"
                     }
                    ],
                    [
                     "encoding:feature_type_categorical",
                     {
                      "args": {},
                      "clazz": "autosklearn.pipeline.components.data_preprocessing.categorical_encoding.encoding.OrdinalEncoding"
                     }
                    ],
                    [
                     "category_shift:feature_type_categorical",
                     {
                      "args": {},
                      "clazz": "autosklearn.pipeline.components.data_preprocessing.category_shift.category_shift.CategoryShift"
                     }
                    ],
                    [
                     "category_coalescence:feature_type_categorical",
                     {
                      "args": {},
                      "clazz": "autosklearn.pipeline.components.data_preprocessing.minority_coalescense.minority_coalescer.MinorityCoalescer"
                     }
                    ],
                    [
                     "categorical_encoding:feature_type_categorical",
                     {
                      "args": {},
                      "clazz": "autosklearn.pipeline.components.data_preprocessing.categorical_encoding.no_encoding.NoEncoding"
                     }
                    ]
                   ]
                  },
                  "clazz": "dswizard.components.pipeline.ConfigurablePipeline"
                 },
                 [
                  "checking_status",
                  "credit_history",
                  "purpose",
                  "savings_status",
                  "employment",
                  "personal_status",
                  "other_parties",
                  "property_magnitude",
                  "other_payment_plans",
                  "housing",
                  "job",
                  "own_telephone",
                  "foreign_worker"
                 ]
                ],
                [
                 "numerical_transformer",
                 {
                  "args": {
                   "configuration": null,
                   "steps": [
                    [
                     "imputation:feature_type_numerical",
                     {
                      "args": {},
                      "clazz": "autosklearn.pipeline.components.data_preprocessing.imputation.numerical_imputation.NumericalImputation"
                     }
                    ],
                    [
                     "variance_threshold:feature_type_numerical",
                     {
                      "args": {},
                      "clazz": "autosklearn.pipeline.components.data_preprocessing.variance_threshold.variance_threshold.VarianceThreshold"
                     }
                    ],
                    [
                     "rescaling:feature_type_numerical",
                     {
                      "args": {},
                      "clazz": "autosklearn.pipeline.components.data_preprocessing.rescaling.minmax.MinMaxScalerComponent"
                     }
                    ]
                   ]
                  },
                  "clazz": "dswizard.components.pipeline.ConfigurablePipeline"
                 },
                 [
                  "duration",
                  "credit_amount",
                  "installment_commitment",
                  "residence_since",
                  "age",
                  "existing_credits",
                  "num_dependents"
                 ]
                ]
               ]
              },
              "clazz": "dswizard.components.sklearn.ColumnTransformerComponent"
             }
            ],
            [
             "balancing:classification",
             {
              "args": {},
              "clazz": "autosklearn.pipeline.components.data_preprocessing.balancing.balancing.Balancing"
             }
            ],
            [
             "feature_preprocessor:classification",
             {
              "args": {},
              "clazz": "autosklearn.pipeline.components.feature_preprocessing.select_percentile_classification.SelectPercentileClassification"
             }
            ],
            [
             "classifier:classification",
             {
              "args": {},
              "clazz": "autosklearn.pipeline.components.classification.random_forest.RandomForest"
             }
            ]
           ]
          },
          "clazz": "dswizard.components.pipeline.ConfigurablePipeline"
         }
        },
        {
         "cid": "00:10",
         "configs": [
          {
           "budget": 0,
           "config": {
            "balancing:strategy": "weighting",
            "classifier:__choice__": "libsvm_svc",
            "classifier:libsvm_svc:C": 2176.2897327948685,
            "classifier:libsvm_svc:coef0": -0.018575725453357728,
            "classifier:libsvm_svc:degree": 2,
            "classifier:libsvm_svc:gamma": 0.006276539842771683,
            "classifier:libsvm_svc:kernel": "poly",
            "classifier:libsvm_svc:max_iter": -1,
            "classifier:libsvm_svc:shrinking": "False",
            "classifier:libsvm_svc:tol": 7.288971711473298E-5,
            "data_preprocessor:__choice__": "feature_type",
            "data_preprocessor:feature_type:categorical_transformer:categorical_encoding:__choice__": "one_hot_encoding",
            "data_preprocessor:feature_type:categorical_transformer:category_coalescence:__choice__": "minority_coalescer",
            "data_preprocessor:feature_type:categorical_transformer:category_coalescence:minority_coalescer:minimum_fraction": 0.010000000000000004,
            "data_preprocessor:feature_type:numerical_transformer:imputation:strategy": "median",
            "data_preprocessor:feature_type:numerical_transformer:rescaling:__choice__": "robust_scaler",
            "data_preprocessor:feature_type:numerical_transformer:rescaling:robust_scaler:q_max": 0.75,
            "data_preprocessor:feature_type:numerical_transformer:rescaling:robust_scaler:q_min": 0.2058549350571071,
            "feature_preprocessor:__choice__": "select_percentile_classification",
            "feature_preprocessor:select_percentile_classification:percentile": 75.75107575487506,
            "feature_preprocessor:select_percentile_classification:score_func": "f_classif"
           },
           "id": "00:10:12",
           "loss": 0,
           "origin": "Initial design",
           "runtime": {
            "prediction_time": 0.010682821273803711,
            "timestamp": 35.0558660030365,
            "training_time": 14.028984546661377
           },
           "status": "CRASHED"
          }
         ],
         "configspace": null,
         "pipeline": {
          "args": {
           "configuration": null,
           "steps": [
            [
             "data_preprocessor:classification",
             {
              "args": {
               "transformers": [
                [
                 "categorical_transformer",
                 {
                  "args": {
                   "configuration": null,
                   "steps": [
                    [
                     "imputation:feature_type_categorical",
                     {
                      "args": {},
                      "clazz": "autosklearn.pipeline.components.data_preprocessing.imputation.categorical_imputation.CategoricalImputation"
                     }
                    ],
                    [
                     "encoding:feature_type_categorical",
                     {
                      "args": {},
                      "clazz": "autosklearn.pipeline.components.data_preprocessing.categorical_encoding.encoding.OrdinalEncoding"
                     }
                    ],
                    [
                     "category_shift:feature_type_categorical",
                     {
                      "args": {},
                      "clazz": "autosklearn.pipeline.components.data_preprocessing.category_shift.category_shift.CategoryShift"
                     }
                    ],
                    [
                     "category_coalescence:feature_type_categorical",
                     {
                      "args": {},
                      "clazz": "autosklearn.pipeline.components.data_preprocessing.minority_coalescense.minority_coalescer.MinorityCoalescer"
                     }
                    ],
                    [
                     "categorical_encoding:feature_type_categorical",
                     {
                      "args": {},
                      "clazz": "autosklearn.pipeline.components.data_preprocessing.categorical_encoding.one_hot_encoding.OneHotEncoder"
                     }
                    ]
                   ]
                  },
                  "clazz": "dswizard.components.pipeline.ConfigurablePipeline"
                 },
                 [
                  "checking_status",
                  "credit_history",
                  "purpose",
                  "savings_status",
                  "employment",
                  "personal_status",
                  "other_parties",
                  "property_magnitude",
                  "other_payment_plans",
                  "housing",
                  "job",
                  "own_telephone",
                  "foreign_worker"
                 ]
                ],
                [
                 "numerical_transformer",
                 {
                  "args": {
                   "configuration": null,
                   "steps": [
                    [
                     "imputation:feature_type_numerical",
                     {
                      "args": {},
                      "clazz": "autosklearn.pipeline.components.data_preprocessing.imputation.numerical_imputation.NumericalImputation"
                     }
                    ],
                    [
                     "variance_threshold:feature_type_numerical",
                     {
                      "args": {},
                      "clazz": "autosklearn.pipeline.components.data_preprocessing.variance_threshold.variance_threshold.VarianceThreshold"
                     }
                    ],
                    [
                     "rescaling:feature_type_numerical",
                     {
                      "args": {},
                      "clazz": "autosklearn.pipeline.components.data_preprocessing.rescaling.robust_scaler.RobustScalerComponent"
                     }
                    ]
                   ]
                  },
                  "clazz": "dswizard.components.pipeline.ConfigurablePipeline"
                 },
                 [
                  "duration",
                  "credit_amount",
                  "installment_commitment",
                  "residence_since",
                  "age",
                  "existing_credits",
                  "num_dependents"
                 ]
                ]
               ]
              },
              "clazz": "dswizard.components.sklearn.ColumnTransformerComponent"
             }
            ],
            [
             "balancing:classification",
             {
              "args": {},
              "clazz": "autosklearn.pipeline.components.data_preprocessing.balancing.balancing.Balancing"
             }
            ],
            [
             "feature_preprocessor:classification",
             {
              "args": {},
              "clazz": "autosklearn.pipeline.components.feature_preprocessing.select_percentile_classification.SelectPercentileClassification"
             }
            ],
            [
             "classifier:classification",
             {
              "args": {},
              "clazz": "autosklearn.pipeline.components.classification.libsvm_svc.LibSVM_SVC"
             }
            ]
           ]
          },
          "clazz": "dswizard.components.pipeline.ConfigurablePipeline"
         }
        }
       ]
      },
      "text/plain": [
       "<xautoml.main.XAutoML at 0x7fee0c5d0ee0>"
      ]
     },
     "execution_count": 3,
     "metadata": {},
     "output_type": "execute_result"
    }
   ],
   "source": [
    "from xautoml.main import XAutoML\n",
    "from xautoml.adapter import import_auto_sklearn\n",
    "\n",
    "X_test, y_test = openml_task(31, 0, test=True)\n",
    "\n",
    "rh = import_auto_sklearn(automl)\n",
    "main = XAutoML(rh, X_test, y_test)\n",
    "main"
   ]
  },
  {
   "cell_type": "code",
   "execution_count": null,
   "metadata": {
    "tags": [
     "xautoml-generated"
    ]
   },
   "outputs": [],
   "source": [
    "xautoml_report = gcx().get_class_report('00:03:04')\n",
    "xautoml_report"
   ]
  },
  {
   "cell_type": "code",
   "execution_count": null,
   "metadata": {
    "tags": [
     "xautoml-generated"
    ]
   },
   "outputs": [],
   "source": [
    "#from xautoml._helper import gcx\n",
    "\n",
    "xautoml_X, xautoml_y, xautoml_pipeline = gcx().get_pipeline('00:03:04')\n",
    "xautoml_pipeline"
   ]
  },
  {
   "cell_type": "code",
   "execution_count": null,
   "metadata": {},
   "outputs": [],
   "source": [
    "gcx().fanova_overview('00:03', 'SOURCE')"
   ]
  }
 ],
 "metadata": {
  "kernelspec": {
   "display_name": "Python 3 (ipykernel)",
   "language": "python",
   "name": "python3"
  },
  "language_info": {
   "codemirror_mode": {
    "name": "ipython",
    "version": 3
   },
   "file_extension": ".py",
   "mimetype": "text/x-python",
   "name": "python",
   "nbconvert_exporter": "python",
   "pygments_lexer": "ipython3",
   "version": "3.9.7"
  }
 },
 "nbformat": 4,
 "nbformat_minor": 4
}