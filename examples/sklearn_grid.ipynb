{
 "cells": [
  {
   "cell_type": "markdown",
   "metadata": {
    "pycharm": {
     "name": "#%% md\n"
    },
    "tags": []
   },
   "source": [
    "# Credit Prediction\n",
    "\n",
    "## Load Data\n",
    "This dataset classifies people described by a set of attributes as good or bad credit risks."
   ]
  },
  {
   "cell_type": "code",
   "execution_count": null,
   "metadata": {
    "pycharm": {
     "name": "#%%\n"
    },
    "tags": []
   },
   "outputs": [],
   "source": [
    "from xautoml.util.datasets import openml_task\n",
    "\n",
    "X_train, y_train = openml_task(31, 0, train=True)\n",
    "X_train"
   ]
  },
  {
   "cell_type": "markdown",
   "metadata": {
    "pycharm": {
     "name": "#%% md\n"
    },
    "tags": []
   },
   "source": [
    "## Start the Model Building\n",
    "\n",
    "You load the data set in an AutoML tool you have found on the internet, to create a predictive model. After starting the optimization, the AutoML tool tests various possible models and evaluates how good each candidate is. In the meantime you have to wait for the program to finish its optimization."
   ]
  },
  {
   "cell_type": "code",
   "execution_count": null,
   "metadata": {
    "collapsed": false,
    "jupyter": {
     "outputs_hidden": false
    },
    "pycharm": {
     "name": "#%%\n"
    }
   },
   "outputs": [],
   "source": [
    "import numpy as np\n",
    "from sklearn.model_selection import GridSearchCV\n",
    "from sklearn.ensemble import RandomForestClassifier\n",
    "from sklearn.feature_selection import SelectKBest\n",
    "from sklearn.pipeline import Pipeline\n",
    "from sklearn.compose import ColumnTransformer, make_column_selector\n",
    "from sklearn.preprocessing import OrdinalEncoder, MinMaxScaler\n",
    "\n",
    "# Specify search space\n",
    "param_grid = {\n",
    "    'k_best__k': [1, 5, 9],\n",
    "    'clf__n_estimators': [10, 100],\n",
    "    'clf__criterion': ['gini', 'entropy']\n",
    "}\n",
    "\n",
    "cat_columns = make_column_selector(dtype_exclude=np.number)(X_train)\n",
    "num_columns = make_column_selector(dtype_include=np.number)(X_train)\n",
    "\n",
    "# Creating the classifier\n",
    "pipeline = Pipeline(steps=[\n",
    "    ('enc', ColumnTransformer([\n",
    "        ('ordinal', OrdinalEncoder(), cat_columns),\n",
    "        ('scaler', MinMaxScaler(), num_columns)\n",
    "    ])),\n",
    "    ('k_best', SelectKBest()),\n",
    "    ('clf', RandomForestClassifier())\n",
    "])\n",
    "\n",
    "grid_search = GridSearchCV(pipeline, param_grid=param_grid, cv=3, scoring='accuracy')\n",
    "grid_search.fit(X_train, y_train)"
   ]
  },
  {
   "cell_type": "code",
   "execution_count": null,
   "metadata": {},
   "outputs": [],
   "source": [
    "import pickle\n",
    "\n",
    "with open('grid_search.pkl', 'wb') as f:\n",
    "    pickle.dump(grid_search, f)"
   ]
  },
  {
   "cell_type": "markdown",
   "metadata": {},
   "source": [
    "## Visualize the Optimization Run in XAutoML"
   ]
  },
  {
   "cell_type": "code",
   "execution_count": null,
   "metadata": {
    "pycharm": {
     "name": "#%%\n"
    },
    "tags": []
   },
   "outputs": [],
   "source": [
    "from xautoml.main import XAutoML\n",
    "from xautoml.adapter import import_sklearn\n",
    "from xautoml.util.datasets import openml_task\n",
    "\n",
    "X_test, y_test = openml_task(31, 0, test=True)\n",
    "\n",
    "rh = import_sklearn(grid_search)\n",
    "main = XAutoML(rh, X_test, y_test)\n",
    "main"
   ]
  }
 ],
 "metadata": {
  "kernelspec": {
   "display_name": "Python 3 (ipykernel)",
   "language": "python",
   "name": "python3"
  },
  "language_info": {
   "codemirror_mode": {
    "name": "ipython",
    "version": 3
   },
   "file_extension": ".py",
   "mimetype": "text/x-python",
   "name": "python",
   "nbconvert_exporter": "python",
   "pygments_lexer": "ipython3",
   "version": "3.9.7"
  }
 },
 "nbformat": 4,
 "nbformat_minor": 4
}