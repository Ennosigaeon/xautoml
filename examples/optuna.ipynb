{
 "cells": [
  {
   "cell_type": "markdown",
   "metadata": {
    "pycharm": {
     "name": "#%% md\n"
    }
   },
   "source": [
    "# Credit Prediction\n",
    "\n",
    "## Load Data\n",
    "This dataset classifies people described by a set of attributes as good or bad credit risks."
   ]
  },
  {
   "cell_type": "code",
   "execution_count": null,
   "metadata": {
    "collapsed": false,
    "jupyter": {
     "outputs_hidden": false
    },
    "pycharm": {
     "name": "#%%\n"
    }
   },
   "outputs": [],
   "source": [
    "from xautoml.util.datasets import openml_task\n",
    "\n",
    "X_train, y_train = openml_task(31, 0, train=True)\n",
    "X_train"
   ]
  },
  {
   "cell_type": "markdown",
   "metadata": {
    "pycharm": {
     "name": "#%% md\n"
    }
   },
   "source": [
    "## Install Optuna\n",
    "If you haven't installed Optuna yet, you can install it via\n",
    "\n",
    "```\n",
    "pip install optuna\n",
    "```"
   ]
  },
  {
   "cell_type": "markdown",
   "metadata": {
    "pycharm": {
     "name": "#%% md\n"
    }
   },
   "source": [
    "## Start the Model Building\n",
    "\n",
    "You load the data set in an AutoML tool you have found on the internet, to create a predictive model. After starting the optimization, the AutoML tool tests various possible models and evaluates how good each candidate is. In the meantime you have to wait for the program to finish its optimization."
   ]
  },
  {
   "cell_type": "code",
   "execution_count": null,
   "metadata": {
    "collapsed": false,
    "jupyter": {
     "outputs_hidden": false
    },
    "pycharm": {
     "name": "#%%\n"
    }
   },
   "outputs": [],
   "source": [
    "import numpy as np\n",
    "import optuna\n",
    "import sklearn.datasets\n",
    "import sklearn.ensemble\n",
    "import sklearn.model_selection\n",
    "import sklearn.svm\n",
    "from optuna import Trial\n",
    "from sklearn.compose import ColumnTransformer, make_column_selector\n",
    "from sklearn.ensemble import RandomForestClassifier\n",
    "from sklearn.feature_selection import SelectKBest\n",
    "from sklearn.pipeline import Pipeline\n",
    "from sklearn.preprocessing import OrdinalEncoder, MinMaxScaler\n",
    "\n",
    "models = {}\n",
    "\n",
    "\n",
    "def objective(trial: Trial):\n",
    "    hyperparameters = {\n",
    "        'k_best__k': trial.suggest_int('k_best__k', 1, X_train.shape[1]),\n",
    "        'clf__min_samples_split': trial.suggest_float('clf__min_samples_split', 0, 0.5),\n",
    "        'clf__max_features': trial.suggest_float('clf__max_features', 0, 1),\n",
    "        'clf__criterion': trial.suggest_categorical('clf__criterion', ['gini', 'entropy'])\n",
    "    }\n",
    "\n",
    "    cat_columns = make_column_selector(dtype_exclude=np.number)(X_train)\n",
    "    num_columns = make_column_selector(dtype_include=np.number)(X_train)\n",
    "\n",
    "    pipeline = Pipeline(steps=[\n",
    "        ('enc', ColumnTransformer([\n",
    "            ('ordinal', OrdinalEncoder(), cat_columns),\n",
    "            ('scaler', MinMaxScaler(), num_columns)\n",
    "        ])),\n",
    "        ('k_best', SelectKBest()),\n",
    "        ('clf', RandomForestClassifier())\n",
    "    ])\n",
    "    pipeline.set_params(**hyperparameters)\n",
    "\n",
    "    score = sklearn.model_selection.cross_val_score(pipeline, X_train, y_train, cv=3)\n",
    "    accuracy = score.mean()\n",
    "\n",
    "    # Store fitted model\n",
    "    models[trial.number] = pipeline.fit(X_train, y_train)\n",
    "\n",
    "    return accuracy\n",
    "\n",
    "\n",
    "study = optuna.create_study(sampler=optuna.samplers.TPESampler(), direction='maximize')\n",
    "study.optimize(objective, n_trials=200)"
   ]
  },
  {
   "cell_type": "markdown",
   "metadata": {
    "pycharm": {
     "name": "#%% md\n"
    }
   },
   "source": [
    "## Visualize the Optimization Run in XAutoML"
   ]
  },
  {
   "cell_type": "code",
   "execution_count": null,
   "metadata": {
    "collapsed": false,
    "jupyter": {
     "outputs_hidden": false
    },
    "pycharm": {
     "name": "#%%\n"
    }
   },
   "outputs": [],
   "source": [
    "from xautoml.main import XAutoML\n",
    "from xautoml.adapter import import_optuna\n",
    "from xautoml.util.datasets import openml_task\n",
    "\n",
    "X_test, y_test = openml_task(31, 0, test=True)\n",
    "\n",
    "rh = import_optuna(study, models, metric='accuracy')\n",
    "main = XAutoML(rh, X_test, y_test)\n",
    "main"
   ]
  }
 ],
 "metadata": {
  "kernelspec": {
   "display_name": "Python 3 (ipykernel)",
   "language": "python",
   "name": "python3"
  },
  "language_info": {
   "codemirror_mode": {
    "name": "ipython",
    "version": 3
   },
   "file_extension": ".py",
   "mimetype": "text/x-python",
   "name": "python",
   "nbconvert_exporter": "python",
   "pygments_lexer": "ipython3",
   "version": "3.9.7"
  }
 },
 "nbformat": 4,
 "nbformat_minor": 4
}