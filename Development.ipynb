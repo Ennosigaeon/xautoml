{
 "cells": [
  {
   "cell_type": "code",
   "execution_count": 2,
   "metadata": {
    "tags": []
   },
   "outputs": [
    {
     "data": {
      "application/xautoml": {
       "configs": {
        "0:0": [
         {
          "config": {
           "4:l2_regularization": 1e-10,
           "4:learning_rate": 0.1,
           "4:loss": "auto",
           "4:max_bins": 255,
           "4:max_depth_factor": 1,
           "4:max_iter": 512,
           "4:max_leaf_nodes_factor": 1,
           "4:min_samples_leaf_factor": 0.0001,
           "4:n_iter_no_change": 10,
           "4:scoring": "loss",
           "4:tol": 1e-07,
           "4:validation_fraction": 0.1
          },
          "loss": [
           -0.979835390946502,
           -0.8666666666666667
          ],
          "runtime": {
           "timestamp": 3.7803936720010825,
           "total": null
          },
          "status": "SUCCESS"
         },
         {
          "config": {
           "4:l2_regularization": 9.999999999999997e-06,
           "4:learning_rate": 0.10000000000000002,
           "4:loss": "auto",
           "4:max_bins": 255,
           "4:max_depth_factor": 1.250005,
           "4:max_iter": 512,
           "4:max_leaf_nodes_factor": 0.500005,
           "4:min_samples_leaf_factor": 0.005000000000000002,
           "4:n_iter_no_change": 10,
           "4:scoring": "loss",
           "4:tol": 1e-07,
           "4:validation_fraction": 0.20500000000000002
          },
          "loss": [
           -0.9814814814814815,
           -0.8666666666666667
          ],
          "runtime": {
           "timestamp": 7.194371739000417,
           "total": null
          },
          "status": "SUCCESS"
         },
         {
          "config": {
           "4:l2_regularization": 0.0031622776601683764,
           "4:learning_rate": 0.0316227766016838,
           "4:loss": "auto",
           "4:max_bins": 255,
           "4:max_depth_factor": 1.8750025,
           "4:max_iter": 512,
           "4:max_leaf_nodes_factor": 0.2500075,
           "4:min_samples_leaf_factor": 0.03535533905932736,
           "4:n_iter_no_change": 6,
           "4:scoring": "loss",
           "4:tol": 1e-07,
           "4:validation_fraction": 0.3025
          },
          "loss": [
           -0.977201646090535,
           -0.8666666666666667
          ],
          "runtime": {
           "timestamp": 12.017260647000512,
           "total": null
          },
          "status": "SUCCESS"
         }
        ],
        "0:1": [
         {
          "config": {
           "7:alpha": 1,
           "7:fit_prior": true
          },
          "loss": [
           -0.9791769547325101,
           -0.8293662226246497
          ],
          "runtime": {
           "timestamp": 12.386191257999599,
           "total": null
          },
          "status": "SUCCESS"
         },
         {
          "config": {
           "7:alpha": 1.0000000000000009,
           "7:fit_prior": false
          },
          "loss": [
           -0.9865843621399177,
           -0.8293662226246497
          ],
          "runtime": {
           "timestamp": 12.525630169000578,
           "total": null
          },
          "status": "SUCCESS"
         },
         {
          "config": {
           "7:alpha": 10.00000000000001,
           "7:fit_prior": true
          },
          "loss": [
           -0.9173662551440328,
           -0.8302228813908458
          ],
          "runtime": {
           "timestamp": 12.547939193000275,
           "total": null
          },
          "status": "SUCCESS"
         }
        ],
        "0:10": [
         {
          "config": {
           "284:l2_regularization": 1e-10,
           "284:learning_rate": 0.1,
           "284:loss": "auto",
           "284:max_bins": 255,
           "284:max_depth_factor": 1,
           "284:max_iter": 512,
           "284:max_leaf_nodes_factor": 1,
           "284:min_samples_leaf_factor": 0.0001,
           "284:n_iter_no_change": 10,
           "284:scoring": "loss",
           "284:tol": 1e-07,
           "284:validation_fraction": 0.1,
           "7:alpha": 1,
           "7:fit_prior": true
          },
          "loss": [
           -0.9851851851851852,
           -0.8666666666666667
          ],
          "runtime": {
           "timestamp": 50.952214087001266,
           "total": null
          },
          "status": "SUCCESS"
         },
         {
          "config": {
           "284:l2_regularization": 0.6318908272493485,
           "284:learning_rate": 0.1313169317612097,
           "284:loss": "auto",
           "284:max_bins": 255,
           "284:max_depth_factor": 0.301907754319856,
           "284:max_iter": 512,
           "284:max_leaf_nodes_factor": 0.7204924736048466,
           "284:min_samples_leaf_factor": 0.0027950035346055563,
           "284:n_iter_no_change": 11,
           "284:scoring": "loss",
           "284:tol": 1e-07,
           "284:validation_fraction": 0.011440214121979575,
           "7:alpha": 31.622776601683817,
           "7:fit_prior": false
          },
          "loss": [
           0,
           0
          ],
          "runtime": {
           "timestamp": 51.139186262000294,
           "total": null
          },
          "status": "CRASHED"
         },
         {
          "config": {
           "284:l2_regularization": 3.818458051728648e-06,
           "284:learning_rate": 0.07271656753285691,
           "284:loss": "auto",
           "284:max_bins": 255,
           "284:max_depth_factor": 2.294069086415478,
           "284:max_iter": 512,
           "284:max_leaf_nodes_factor": 0.1527827927513667,
           "284:min_samples_leaf_factor": 0.002193504244872361,
           "284:n_iter_no_change": 2,
           "284:scoring": "loss",
           "284:tol": 1e-07,
           "284:validation_fraction": 0.06988904087488632,
           "7:alpha": 3.162277660168384,
           "7:fit_prior": true
          },
          "loss": [
           0,
           0
          ],
          "runtime": {
           "timestamp": 51.14652182700047,
           "total": null
          },
          "status": "CRASHED"
         }
        ],
        "0:11": [
         {
          "config": {
           "107:alpha": 1,
           "107:fit_prior": true,
           "4:l2_regularization": 1e-10,
           "4:learning_rate": 0.1,
           "4:loss": "auto",
           "4:max_bins": 255,
           "4:max_depth_factor": 1,
           "4:max_iter": 512,
           "4:max_leaf_nodes_factor": 1,
           "4:min_samples_leaf_factor": 0.0001,
           "4:n_iter_no_change": 10,
           "4:scoring": "loss",
           "4:tol": 1e-07,
           "4:validation_fraction": 0.1
          },
          "loss": [
           -0.7567901234567901,
           -0.5135802469135803
          ],
          "runtime": {
           "timestamp": 51.181056661000184,
           "total": null
          },
          "status": "SUCCESS"
         },
         {
          "config": {
           "107:alpha": 0.03162277660168381,
           "107:fit_prior": false,
           "4:l2_regularization": 0.05623413251903498,
           "4:learning_rate": 0.562341325190349,
           "4:loss": "auto",
           "4:max_bins": 255,
           "4:max_depth_factor": 0.31250875,
           "4:max_iter": 512,
           "4:max_leaf_nodes_factor": 0.62500375,
           "4:min_samples_leaf_factor": 0.0018803015465431972,
           "4:n_iter_no_change": 8,
           "4:scoring": "loss",
           "4:tol": 1e-07,
           "4:validation_fraction": 0.25375000000000003
          },
          "loss": [
           -0.9079835390946501,
           -0.707010582010582
          ],
          "runtime": {
           "timestamp": 56.3800900389997,
           "total": null
          },
          "status": "SUCCESS"
         },
         {
          "config": {
           "107:alpha": 0.05623413251903493,
           "107:fit_prior": true,
           "4:l2_regularization": 0.00017782794100389232,
           "4:learning_rate": 0.01778279410038924,
           "4:loss": "auto",
           "4:max_bins": 255,
           "4:max_depth_factor": 0.9375062499999999,
           "4:max_iter": 512,
           "4:max_leaf_nodes_factor": 0.37500625000000004,
           "4:min_samples_leaf_factor": 0.0002659147948472497,
           "4:n_iter_no_change": 13,
           "4:scoring": "loss",
           "4:tol": 1e-07,
           "4:validation_fraction": 0.35125
          },
          "loss": [
           -0.9079835390946501,
           -0.707010582010582
          ],
          "runtime": {
           "timestamp": 62.15955720199963,
           "total": null
          },
          "status": "SUCCESS"
         }
        ],
        "0:2": [
         {
          "config": {
           "43:bootstrap": true,
           "43:criterion": "gini",
           "43:max_features": 0.5,
           "43:min_impurity_decrease": 0,
           "43:min_samples_leaf": 1,
           "43:min_samples_split": 2,
           "43:min_weight_fraction_leaf": 0,
           "43:n_estimators": 512
          },
          "loss": [
           -0.9930041152263376,
           -0.8594933988192416
          ],
          "runtime": {
           "timestamp": 16.021724038000684,
           "total": null
          },
          "status": "SUCCESS"
         },
         {
          "config": {
           "43:bootstrap": false,
           "43:criterion": "entropy",
           "43:max_features": 0.5,
           "43:min_impurity_decrease": 0,
           "43:min_samples_leaf": 10,
           "43:min_samples_split": 11,
           "43:min_weight_fraction_leaf": 0,
           "43:n_estimators": 512
          },
          "loss": [
           -0.9862551440329218,
           -0.8513028839115796
          ],
          "runtime": {
           "timestamp": 19.475029441000515,
           "total": null
          },
          "status": "SUCCESS"
         },
         {
          "config": {
           "43:bootstrap": false,
           "43:criterion": "gini",
           "43:max_features": 0.75,
           "43:min_impurity_decrease": 0,
           "43:min_samples_leaf": 6,
           "43:min_samples_split": 16,
           "43:min_weight_fraction_leaf": 0,
           "43:n_estimators": 512
          },
          "loss": [
           -0.9890534979423867,
           -0.8441828666547768
          ],
          "runtime": {
           "timestamp": 22.582309809000435,
           "total": null
          },
          "status": "SUCCESS"
         }
        ],
        "0:3": [
         {
          "config": {
           "25:gamma": 1,
           "25:kernel": "rbf",
           "25:n_components_factor": 1,
           "78:bootstrap": true,
           "78:criterion": "gini",
           "78:max_features": 0.5,
           "78:min_impurity_decrease": 0,
           "78:min_samples_leaf": 1,
           "78:min_samples_split": 2,
           "78:min_weight_fraction_leaf": 0,
           "78:n_estimators": 512
          },
          "loss": [
           -0.9888477366255144,
           -0.858999510684904
          ],
          "runtime": {
           "timestamp": 26.968253119999645,
           "total": null
          },
          "status": "SUCCESS"
         },
         {
          "config": {
           "25:coef0": 0,
           "25:kernel": "sigmoid",
           "25:n_components_factor": 0.5,
           "78:bootstrap": false,
           "78:criterion": "entropy",
           "78:max_features": 0.5,
           "78:min_impurity_decrease": 0,
           "78:min_samples_leaf": 10,
           "78:min_samples_split": 11,
           "78:min_weight_fraction_leaf": 0,
           "78:n_estimators": 512
          },
          "loss": [
           -0.9934979423868313,
           -0.8584023400486137
          ],
          "runtime": {
           "timestamp": 30.68966910400013,
           "total": null
          },
          "status": "SUCCESS"
         },
         {
          "config": {
           "25:kernel": "cosine",
           "25:n_components_factor": 0.25,
           "78:bootstrap": false,
           "78:criterion": "gini",
           "78:max_features": 0.75,
           "78:min_impurity_decrease": 0,
           "78:min_samples_leaf": 6,
           "78:min_samples_split": 16,
           "78:min_weight_fraction_leaf": 0,
           "78:n_estimators": 512
          },
          "loss": [
           -0.9886831275720165,
           -0.8584023400486137
          ],
          "runtime": {
           "timestamp": 34.27024099400114,
           "total": null
          },
          "status": "SUCCESS"
         }
        ],
        "0:4": [
         {
          "config": {
           "108:criterion": "gini",
           "108:max_depth_factor": 1,
           "108:max_features_factor": 1,
           "108:min_impurity_decrease": 0,
           "108:min_samples_leaf_factor": 0.0001,
           "108:min_samples_split_factor": 0.0001,
           "108:min_weight_fraction_leaf": 0,
           "4:l2_regularization": 1e-10,
           "4:learning_rate": 0.1,
           "4:loss": "auto",
           "4:max_bins": 255,
           "4:max_depth_factor": 1,
           "4:max_iter": 512,
           "4:max_leaf_nodes_factor": 1,
           "4:min_samples_leaf_factor": 0.0001,
           "4:n_iter_no_change": 10,
           "4:scoring": "loss",
           "4:tol": 1e-07,
           "4:validation_fraction": 0.1
          },
          "loss": [
           -0.9555555555555556,
           -0.8666666666666667
          ],
          "runtime": {
           "timestamp": 34.36242797700106,
           "total": null
          },
          "status": "SUCCESS"
         },
         {
          "config": {
           "108:criterion": "entropy",
           "108:max_depth_factor": 1,
           "108:max_features_factor": 1,
           "108:min_impurity_decrease": 0,
           "108:min_samples_leaf_factor": 0.12500005,
           "108:min_samples_split_factor": 0.12500005,
           "108:min_weight_fraction_leaf": 0,
           "4:l2_regularization": 3.162277660168381e-08,
           "4:learning_rate": 0.31622776601683805,
           "4:loss": "auto",
           "4:max_bins": 255,
           "4:max_depth_factor": 0.6250074999999999,
           "4:max_iter": 512,
           "4:max_leaf_nodes_factor": 0.7500025,
           "4:min_samples_leaf_factor": 0.0007071067811865483,
           "4:n_iter_no_change": 15,
           "4:scoring": "loss",
           "4:tol": 1e-07,
           "4:validation_fraction": 0.1075
          },
          "loss": [
           -0.9555555555555556,
           -0.8594933988192416
          ],
          "runtime": {
           "timestamp": 38.79420689700055,
           "total": null
          },
          "status": "SUCCESS"
         },
         {
          "config": {
           "108:criterion": "entropy",
           "108:max_depth_factor": 0.5,
           "108:max_features_factor": 1,
           "108:min_impurity_decrease": 0,
           "108:min_samples_leaf_factor": 0.18750002500000001,
           "108:min_samples_split_factor": 0.062500075,
           "108:min_weight_fraction_leaf": 0,
           "4:l2_regularization": 5.623413251903487e-07,
           "4:learning_rate": 0.05623413251903493,
           "4:loss": "auto",
           "4:max_bins": 255,
           "4:max_depth_factor": 1.56250375,
           "4:max_iter": 512,
           "4:max_leaf_nodes_factor": 0.12500875,
           "4:min_samples_leaf_factor": 0.09401507732715982,
           "4:n_iter_no_change": 18,
           "4:scoring": "loss",
           "4:tol": 1e-07,
           "4:validation_fraction": 0.058750000000000004
          },
          "loss": [
           -0.9666666666666667,
           -0.8594933988192416
          ],
          "runtime": {
           "timestamp": 43.62698086000091,
           "total": null
          },
          "status": "SUCCESS"
         }
        ],
        "0:5": [
         {
          "config": {
           "142:alpha": 1,
           "142:fit_prior": true
          },
          "loss": [
           -0.9079835390946502,
           -0.707010582010582
          ],
          "runtime": {
           "timestamp": 44.055147098000816,
           "total": null
          },
          "status": "SUCCESS"
         },
         {
          "config": {
           "142:alpha": 0.10000000000000006,
           "142:fit_prior": false
          },
          "loss": [
           -0.9079835390946502,
           -0.707010582010582
          ],
          "runtime": {
           "timestamp": 44.185655962000965,
           "total": null
          },
          "status": "SUCCESS"
         },
         {
          "config": {
           "142:alpha": 0.31622776601683816,
           "142:fit_prior": true
          },
          "loss": [
           -0.9079835390946502,
           -0.707010582010582
          ],
          "runtime": {
           "timestamp": 44.21486662800089,
           "total": null
          },
          "status": "SUCCESS"
         }
        ],
        "0:6": [
         {
          "config": {
           "178:criterion": "gini",
           "178:max_depth_factor": 1,
           "178:max_features_factor": 1,
           "178:min_impurity_decrease": 0,
           "178:min_samples_leaf_factor": 0.0001,
           "178:min_samples_split_factor": 0.0001,
           "178:min_weight_fraction_leaf": 0,
           "25:gamma": 1,
           "25:kernel": "rbf",
           "25:n_components_factor": 1,
           "89:threshold": 0
          },
          "loss": [
           -0.9444444444444444,
           -0.8666666666666667
          ],
          "runtime": {
           "timestamp": 45.07388158800131,
           "total": null
          },
          "status": "SUCCESS"
         },
         {
          "config": {
           "178:criterion": "entropy",
           "178:max_depth_factor": 1.825871471725914,
           "178:max_features_factor": 1,
           "178:min_impurity_decrease": 0,
           "178:min_samples_leaf_factor": 0.04419609863224457,
           "178:min_samples_split_factor": 0.008165135081792346,
           "178:min_weight_fraction_leaf": 0,
           "25:gamma": 0.0006905339660024878,
           "25:kernel": "rbf",
           "25:n_components_factor": 0.75,
           "89:threshold": 0
          },
          "loss": [
           0,
           0
          ],
          "runtime": {
           "timestamp": 45.43715321000127,
           "total": null
          },
          "status": "CRASHED"
         },
         {
          "config": {
           "178:criterion": "gini",
           "178:max_depth_factor": 0.9262635389864076,
           "178:max_features_factor": 1,
           "178:min_impurity_decrease": 0,
           "178:min_samples_leaf_factor": 0.20649810441513203,
           "178:min_samples_split_factor": 0.23071207705011593,
           "178:min_weight_fraction_leaf": 0,
           "25:gamma": 1.6817928305074286,
           "25:kernel": "rbf",
           "25:n_components_factor": 0.375,
           "89:threshold": 0
          },
          "loss": [
           0,
           0
          ],
          "runtime": {
           "timestamp": 45.457481501000075,
           "total": null
          },
          "status": "CRASHED"
         }
        ],
        "0:7": [
         {
          "config": {
           "216:n_components_factor": 1,
           "216:solver": "svd",
           "216:tol": 0.0001,
           "24:encode": "onehot",
           "24:n_bins": 5,
           "24:strategy": "quantile"
          },
          "loss": [
           -0.9890534979423867,
           -0.858999510684904
          ],
          "runtime": {
           "timestamp": 45.85578374299985,
           "total": null
          },
          "status": "SUCCESS"
         },
         {
          "config": {
           "216:n_components_factor": 0.50000005,
           "216:shrinkage": 0.5,
           "216:solver": "lsqr",
           "216:tol": 0.00031622776601683783,
           "24:encode": "onehot-dense",
           "24:n_bins": 51,
           "24:strategy": "quantile"
          },
          "loss": [
           -0.9851028806584361,
           -0.8518518518518519
          ],
          "runtime": {
           "timestamp": 46.49931375199958,
           "total": null
          },
          "status": "SUCCESS"
         },
         {
          "config": {
           "216:n_components_factor": 0.750000025,
           "216:solver": "svd",
           "216:tol": 0.01778279410038921,
           "24:encode": "ordinal",
           "24:n_bins": 26,
           "24:strategy": "kmeans"
          },
          "loss": [
           -0.9911111111111112,
           -0.8513028839115796
          ],
          "runtime": {
           "timestamp": 46.59346677500071,
           "total": null
          },
          "status": "SUCCESS"
         }
        ],
        "0:8": [
         {
          "config": {
           "248:criterion": "gini",
           "248:max_depth_factor": 1,
           "248:max_features_factor": 1,
           "248:min_impurity_decrease": 0,
           "248:min_samples_leaf_factor": 0.0001,
           "248:min_samples_split_factor": 0.0001,
           "248:min_weight_fraction_leaf": 0,
           "24:encode": "onehot",
           "24:n_bins": 5,
           "24:strategy": "quantile"
          },
          "loss": [
           -0.9709053497942385,
           -0.858999510684904
          ],
          "runtime": {
           "timestamp": 47.18827753000005,
           "total": null
          },
          "status": "SUCCESS"
         },
         {
          "config": {
           "248:criterion": "entropy",
           "248:max_depth_factor": 1,
           "248:max_features_factor": 1,
           "248:min_impurity_decrease": 0,
           "248:min_samples_leaf_factor": 0.12500005,
           "248:min_samples_split_factor": 0.12500005,
           "248:min_weight_fraction_leaf": 0,
           "24:encode": "onehot",
           "24:n_bins": 76,
           "24:strategy": "uniform"
          },
          "loss": [
           -0.4861728395061729,
           -0.16666666666666666
          ],
          "runtime": {
           "timestamp": 47.52879491800013,
           "total": null
          },
          "status": "SUCCESS"
         },
         {
          "config": {
           "248:criterion": "entropy",
           "248:max_depth_factor": 0.5,
           "248:max_features_factor": 1,
           "248:min_impurity_decrease": 0,
           "248:min_samples_leaf_factor": 0.18750002500000001,
           "248:min_samples_split_factor": 0.062500075,
           "248:min_weight_fraction_leaf": 0,
           "24:encode": "onehot-dense",
           "24:n_bins": 39,
           "24:strategy": "quantile"
          },
          "loss": [
           -0.4861728395061729,
           -0.16666666666666666
          ],
          "runtime": {
           "timestamp": 47.59195214200008,
           "total": null
          },
          "status": "SUCCESS"
         }
        ],
        "0:9": [
         {
          "config": {
           "41:n_components_factor": 1,
           "41:solver": "svd",
           "41:tol": 0.0001
          },
          "loss": [
           -0.9950617283950616,
           -0.8441828666547768
          ],
          "runtime": {
           "timestamp": 47.62512385199989,
           "total": null
          },
          "status": "SUCCESS"
         },
         {
          "config": {
           "41:n_components_factor": 0.50000005,
           "41:shrinkage": 0.5,
           "41:solver": "lsqr",
           "41:tol": 0.00031622776601683783
          },
          "loss": [
           -0.9532510288065842,
           -0.7460668215385197
          ],
          "runtime": {
           "timestamp": 47.76373179999973,
           "total": null
          },
          "status": "SUCCESS"
         },
         {
          "config": {
           "41:n_components_factor": 0.750000025,
           "41:solver": "svd",
           "41:tol": 0.01778279410038921
          },
          "loss": [
           -0.9914403292181069,
           -0.8270792218127953
          ],
          "runtime": {
           "timestamp": 47.797782546000235,
           "total": null
          },
          "status": "SUCCESS"
         }
        ]
       },
       "structures": [
        {
         "budget": 2,
         "cfg_keys": [
          [
           -3955992868977112000,
           0
          ]
         ],
         "cid": [
          0,
          0,
          null
         ],
         "configspace": "{\n  \"hyperparameters\": [\n    {\n      \"name\": \"4:l2_regularization\",\n      \"type\": \"uniform_float\",\n      \"log\": true,\n      \"lower\": 1e-10,\n      \"upper\": 1.0,\n      \"default\": 1e-10\n    },\n    {\n      \"name\": \"4:learning_rate\",\n      \"type\": \"uniform_float\",\n      \"log\": true,\n      \"lower\": 0.01,\n      \"upper\": 1.0,\n      \"default\": 0.1\n    },\n    {\n      \"name\": \"4:loss\",\n      \"type\": \"constant\",\n      \"value\": \"auto\"\n    },\n    {\n      \"name\": \"4:max_bins\",\n      \"type\": \"constant\",\n      \"value\": 255\n    },\n    {\n      \"name\": \"4:max_depth_factor\",\n      \"type\": \"uniform_float\",\n      \"log\": false,\n      \"lower\": 1e-05,\n      \"upper\": 2.5,\n      \"default\": 1.0\n    },\n    {\n      \"name\": \"4:max_iter\",\n      \"type\": \"constant\",\n      \"value\": 512\n    },\n    {\n      \"name\": \"4:max_leaf_nodes_factor\",\n      \"type\": \"uniform_float\",\n      \"log\": false,\n      \"lower\": 1e-05,\n      \"upper\": 1.0,\n      \"default\": 1.0\n    },\n    {\n      \"name\": \"4:min_samples_leaf_factor\",\n      \"type\": \"uniform_float\",\n      \"log\": true,\n      \"lower\": 0.0001,\n      \"upper\": 0.25,\n      \"default\": 0.0001\n    },\n    {\n      \"name\": \"4:n_iter_no_change\",\n      \"type\": \"uniform_int\",\n      \"log\": false,\n      \"lower\": 1,\n      \"upper\": 20,\n      \"default\": 10\n    },\n    {\n      \"name\": \"4:scoring\",\n      \"type\": \"constant\",\n      \"value\": \"loss\"\n    },\n    {\n      \"name\": \"4:tol\",\n      \"type\": \"constant\",\n      \"value\": 1e-07\n    },\n    {\n      \"name\": \"4:validation_fraction\",\n      \"type\": \"uniform_float\",\n      \"log\": false,\n      \"lower\": 0.01,\n      \"upper\": 0.4,\n      \"default\": 0.1\n    }\n  ],\n  \"conditions\": [],\n  \"forbiddens\": [],\n  \"python_module_version\": \"0.4.18\",\n  \"json_format_version\": 0.2\n}",
         "pipeline": [
          [
           "4",
           "dswizard.components.classification.gradient_boosting.GradientBoostingClassifier"
          ]
         ],
         "timestamp": 0
        },
        {
         "budget": 2,
         "cfg_keys": [
          [
           -3374229348301930500,
           0
          ]
         ],
         "cid": [
          0,
          1,
          null
         ],
         "configspace": "{\n  \"hyperparameters\": [\n    {\n      \"name\": \"7:alpha\",\n      \"type\": \"uniform_float\",\n      \"log\": true,\n      \"lower\": 0.01,\n      \"upper\": 100.0,\n      \"default\": 1.0\n    },\n    {\n      \"name\": \"7:fit_prior\",\n      \"type\": \"categorical\",\n      \"choices\": [\n        true,\n        false\n      ],\n      \"default\": true,\n      \"probabilities\": null\n    }\n  ],\n  \"conditions\": [],\n  \"forbiddens\": [],\n  \"python_module_version\": \"0.4.18\",\n  \"json_format_version\": 0.2\n}",
         "pipeline": [
          [
           "7",
           "dswizard.components.classification.multinomial_nb.MultinomialNB"
          ]
         ],
         "timestamp": 0
        },
        {
         "budget": 2,
         "cfg_keys": [
          [
           -3407994154208290000,
           0
          ],
          [
           -6217310863397960000,
           0
          ]
         ],
         "cid": [
          0,
          2,
          null
         ],
         "configspace": "{\n  \"hyperparameters\": [\n    {\n      \"name\": \"43:bootstrap\",\n      \"type\": \"categorical\",\n      \"choices\": [\n        true,\n        false\n      ],\n      \"default\": true,\n      \"probabilities\": null\n    },\n    {\n      \"name\": \"43:criterion\",\n      \"type\": \"categorical\",\n      \"choices\": [\n        \"gini\",\n        \"entropy\"\n      ],\n      \"default\": \"gini\",\n      \"probabilities\": null\n    },\n    {\n      \"name\": \"43:max_features\",\n      \"type\": \"uniform_float\",\n      \"log\": false,\n      \"lower\": 0.0,\n      \"upper\": 1.0,\n      \"default\": 0.5\n    },\n    {\n      \"name\": \"43:min_impurity_decrease\",\n      \"type\": \"constant\",\n      \"value\": 0.0\n    },\n    {\n      \"name\": \"43:min_samples_leaf\",\n      \"type\": \"uniform_int\",\n      \"log\": false,\n      \"lower\": 1,\n      \"upper\": 20,\n      \"default\": 1\n    },\n    {\n      \"name\": \"43:min_samples_split\",\n      \"type\": \"uniform_int\",\n      \"log\": false,\n      \"lower\": 2,\n      \"upper\": 20,\n      \"default\": 2\n    },\n    {\n      \"name\": \"43:min_weight_fraction_leaf\",\n      \"type\": \"constant\",\n      \"value\": 0.0\n    },\n    {\n      \"name\": \"43:n_estimators\",\n      \"type\": \"constant\",\n      \"value\": 512\n    }\n  ],\n  \"conditions\": [],\n  \"forbiddens\": [],\n  \"python_module_version\": \"0.4.18\",\n  \"json_format_version\": 0.2\n}",
         "pipeline": [
          [
           "14",
           "dswizard.components.data_preprocessing.normalize.NormalizerComponent"
          ],
          [
           "43",
           "dswizard.components.classification.random_forest.RandomForest"
          ]
         ],
         "timestamp": 0
        },
        {
         "budget": 2,
         "cfg_keys": [
          [
           -2472747347500835000,
           0
          ],
          [
           -6217310863397960000,
           1
          ]
         ],
         "cid": [
          0,
          3,
          null
         ],
         "configspace": "{\n  \"hyperparameters\": [\n    {\n      \"name\": \"25:kernel\",\n      \"type\": \"categorical\",\n      \"choices\": [\n        \"poly\",\n        \"rbf\",\n        \"sigmoid\",\n        \"cosine\"\n      ],\n      \"default\": \"rbf\",\n      \"probabilities\": null\n    },\n    {\n      \"name\": \"25:n_components_factor\",\n      \"type\": \"uniform_float\",\n      \"log\": false,\n      \"lower\": 0.0,\n      \"upper\": 1.0,\n      \"default\": 1.0\n    },\n    {\n      \"name\": \"78:bootstrap\",\n      \"type\": \"categorical\",\n      \"choices\": [\n        true,\n        false\n      ],\n      \"default\": true,\n      \"probabilities\": null\n    },\n    {\n      \"name\": \"78:criterion\",\n      \"type\": \"categorical\",\n      \"choices\": [\n        \"gini\",\n        \"entropy\"\n      ],\n      \"default\": \"gini\",\n      \"probabilities\": null\n    },\n    {\n      \"name\": \"78:max_features\",\n      \"type\": \"uniform_float\",\n      \"log\": false,\n      \"lower\": 0.0,\n      \"upper\": 1.0,\n      \"default\": 0.5\n    },\n    {\n      \"name\": \"78:min_impurity_decrease\",\n      \"type\": \"constant\",\n      \"value\": 0.0\n    },\n    {\n      \"name\": \"78:min_samples_leaf\",\n      \"type\": \"uniform_int\",\n      \"log\": false,\n      \"lower\": 1,\n      \"upper\": 20,\n      \"default\": 1\n    },\n    {\n      \"name\": \"78:min_samples_split\",\n      \"type\": \"uniform_int\",\n      \"log\": false,\n      \"lower\": 2,\n      \"upper\": 20,\n      \"default\": 2\n    },\n    {\n      \"name\": \"78:min_weight_fraction_leaf\",\n      \"type\": \"constant\",\n      \"value\": 0.0\n    },\n    {\n      \"name\": \"78:n_estimators\",\n      \"type\": \"constant\",\n      \"value\": 512\n    },\n    {\n      \"name\": \"25:coef0\",\n      \"type\": \"uniform_float\",\n      \"log\": false,\n      \"lower\": -1.0,\n      \"upper\": 1.0,\n      \"default\": 0.0\n    },\n    {\n      \"name\": \"25:degree\",\n      \"type\": \"uniform_int\",\n      \"log\": false,\n      \"lower\": 2,\n      \"upper\": 5,\n      \"default\": 3\n    },\n    {\n      \"name\": \"25:gamma\",\n      \"type\": \"uniform_float\",\n      \"log\": true,\n      \"lower\": 3.0517578125e-05,\n      \"upper\": 8.0,\n      \"default\": 1.0\n    }\n  ],\n  \"conditions\": [\n    {\n      \"child\": \"25:coef0\",\n      \"parent\": \"25:kernel\",\n      \"type\": \"IN\",\n      \"values\": [\n        \"poly\",\n        \"sigmoid\"\n      ]\n    },\n    {\n      \"child\": \"25:degree\",\n      \"parent\": \"25:kernel\",\n      \"type\": \"EQ\",\n      \"value\": \"poly\"\n    },\n    {\n      \"child\": \"25:gamma\",\n      \"parent\": \"25:kernel\",\n      \"type\": \"IN\",\n      \"values\": [\n        \"poly\",\n        \"rbf\"\n      ]\n    }\n  ],\n  \"forbiddens\": [],\n  \"python_module_version\": \"0.4.18\",\n  \"json_format_version\": 0.2\n}",
         "pipeline": [
          [
           "25",
           "dswizard.components.feature_preprocessing.kpca.KernelPCAComponent"
          ],
          [
           "78",
           "dswizard.components.classification.random_forest.RandomForest"
          ]
         ],
         "timestamp": 0
        },
        {
         "budget": 2,
         "cfg_keys": [
          [
           -3955992868977112000,
           0
          ],
          [
           6035824335206671000,
           0
          ]
         ],
         "cid": [
          0,
          4,
          null
         ],
         "configspace": "{\n  \"hyperparameters\": [\n    {\n      \"name\": \"108:criterion\",\n      \"type\": \"categorical\",\n      \"choices\": [\n        \"gini\",\n        \"entropy\"\n      ],\n      \"default\": \"gini\",\n      \"probabilities\": null\n    },\n    {\n      \"name\": \"108:max_depth_factor\",\n      \"type\": \"uniform_float\",\n      \"log\": false,\n      \"lower\": 0.0,\n      \"upper\": 2.0,\n      \"default\": 1.0\n    },\n    {\n      \"name\": \"108:max_features_factor\",\n      \"type\": \"constant\",\n      \"value\": 1.0\n    },\n    {\n      \"name\": \"108:min_impurity_decrease\",\n      \"type\": \"constant\",\n      \"value\": 0.0\n    },\n    {\n      \"name\": \"108:min_samples_leaf_factor\",\n      \"type\": \"uniform_float\",\n      \"log\": false,\n      \"lower\": 1e-07,\n      \"upper\": 0.25,\n      \"default\": 0.0001\n    },\n    {\n      \"name\": \"108:min_samples_split_factor\",\n      \"type\": \"uniform_float\",\n      \"log\": false,\n      \"lower\": 1e-07,\n      \"upper\": 0.25,\n      \"default\": 0.0001\n    },\n    {\n      \"name\": \"108:min_weight_fraction_leaf\",\n      \"type\": \"constant\",\n      \"value\": 0.0\n    },\n    {\n      \"name\": \"4:l2_regularization\",\n      \"type\": \"uniform_float\",\n      \"log\": true,\n      \"lower\": 1e-10,\n      \"upper\": 1.0,\n      \"default\": 1e-10\n    },\n    {\n      \"name\": \"4:learning_rate\",\n      \"type\": \"uniform_float\",\n      \"log\": true,\n      \"lower\": 0.01,\n      \"upper\": 1.0,\n      \"default\": 0.1\n    },\n    {\n      \"name\": \"4:loss\",\n      \"type\": \"constant\",\n      \"value\": \"auto\"\n    },\n    {\n      \"name\": \"4:max_bins\",\n      \"type\": \"constant\",\n      \"value\": 255\n    },\n    {\n      \"name\": \"4:max_depth_factor\",\n      \"type\": \"uniform_float\",\n      \"log\": false,\n      \"lower\": 1e-05,\n      \"upper\": 2.5,\n      \"default\": 1.0\n    },\n    {\n      \"name\": \"4:max_iter\",\n      \"type\": \"constant\",\n      \"value\": 512\n    },\n    {\n      \"name\": \"4:max_leaf_nodes_factor\",\n      \"type\": \"uniform_float\",\n      \"log\": false,\n      \"lower\": 1e-05,\n      \"upper\": 1.0,\n      \"default\": 1.0\n    },\n    {\n      \"name\": \"4:min_samples_leaf_factor\",\n      \"type\": \"uniform_float\",\n      \"log\": true,\n      \"lower\": 0.0001,\n      \"upper\": 0.25,\n      \"default\": 0.0001\n    },\n    {\n      \"name\": \"4:n_iter_no_change\",\n      \"type\": \"uniform_int\",\n      \"log\": false,\n      \"lower\": 1,\n      \"upper\": 20,\n      \"default\": 10\n    },\n    {\n      \"name\": \"4:scoring\",\n      \"type\": \"constant\",\n      \"value\": \"loss\"\n    },\n    {\n      \"name\": \"4:tol\",\n      \"type\": \"constant\",\n      \"value\": 1e-07\n    },\n    {\n      \"name\": \"4:validation_fraction\",\n      \"type\": \"uniform_float\",\n      \"log\": false,\n      \"lower\": 0.01,\n      \"upper\": 0.4,\n      \"default\": 0.1\n    }\n  ],\n  \"conditions\": [],\n  \"forbiddens\": [],\n  \"python_module_version\": \"0.4.18\",\n  \"json_format_version\": 0.2\n}",
         "pipeline": [
          [
           "4",
           "dswizard.components.classification.gradient_boosting.GradientBoostingClassifier"
          ],
          [
           "108",
           "dswizard.components.classification.decision_tree.DecisionTree"
          ]
         ],
         "timestamp": 0
        },
        {
         "budget": 2,
         "cfg_keys": [
          [
           -3407994154208290000,
           0
          ],
          [
           -3374229348301930500,
           0
          ]
         ],
         "cid": [
          0,
          5,
          null
         ],
         "configspace": "{\n  \"hyperparameters\": [\n    {\n      \"name\": \"142:alpha\",\n      \"type\": \"uniform_float\",\n      \"log\": true,\n      \"lower\": 0.01,\n      \"upper\": 100.0,\n      \"default\": 1.0\n    },\n    {\n      \"name\": \"142:fit_prior\",\n      \"type\": \"categorical\",\n      \"choices\": [\n        true,\n        false\n      ],\n      \"default\": true,\n      \"probabilities\": null\n    }\n  ],\n  \"conditions\": [],\n  \"forbiddens\": [],\n  \"python_module_version\": \"0.4.18\",\n  \"json_format_version\": 0.2\n}",
         "pipeline": [
          [
           "17",
           "dswizard.components.data_preprocessing.standard_scaler.StandardScalerComponent"
          ],
          [
           "142",
           "dswizard.components.classification.bernoulli_nb.BernoulliNB"
          ]
         ],
         "timestamp": 0
        },
        {
         "budget": 2,
         "cfg_keys": [
          [
           -2472747347500835000,
           0
          ],
          [
           -5285300941639011000,
           0
          ],
          [
           6035824335206671000,
           1
          ]
         ],
         "cid": [
          0,
          6,
          null
         ],
         "configspace": "{\n  \"hyperparameters\": [\n    {\n      \"name\": \"178:criterion\",\n      \"type\": \"categorical\",\n      \"choices\": [\n        \"gini\",\n        \"entropy\"\n      ],\n      \"default\": \"gini\",\n      \"probabilities\": null\n    },\n    {\n      \"name\": \"178:max_depth_factor\",\n      \"type\": \"uniform_float\",\n      \"log\": false,\n      \"lower\": 0.0,\n      \"upper\": 2.0,\n      \"default\": 1.0\n    },\n    {\n      \"name\": \"178:max_features_factor\",\n      \"type\": \"constant\",\n      \"value\": 1.0\n    },\n    {\n      \"name\": \"178:min_impurity_decrease\",\n      \"type\": \"constant\",\n      \"value\": 0.0\n    },\n    {\n      \"name\": \"178:min_samples_leaf_factor\",\n      \"type\": \"uniform_float\",\n      \"log\": false,\n      \"lower\": 1e-07,\n      \"upper\": 0.25,\n      \"default\": 0.0001\n    },\n    {\n      \"name\": \"178:min_samples_split_factor\",\n      \"type\": \"uniform_float\",\n      \"log\": false,\n      \"lower\": 1e-07,\n      \"upper\": 0.25,\n      \"default\": 0.0001\n    },\n    {\n      \"name\": \"178:min_weight_fraction_leaf\",\n      \"type\": \"constant\",\n      \"value\": 0.0\n    },\n    {\n      \"name\": \"25:kernel\",\n      \"type\": \"categorical\",\n      \"choices\": [\n        \"poly\",\n        \"rbf\",\n        \"sigmoid\",\n        \"cosine\"\n      ],\n      \"default\": \"rbf\",\n      \"probabilities\": null\n    },\n    {\n      \"name\": \"25:n_components_factor\",\n      \"type\": \"uniform_float\",\n      \"log\": false,\n      \"lower\": 0.0,\n      \"upper\": 1.0,\n      \"default\": 1.0\n    },\n    {\n      \"name\": \"89:threshold\",\n      \"type\": \"constant\",\n      \"value\": 0.0\n    },\n    {\n      \"name\": \"25:coef0\",\n      \"type\": \"uniform_float\",\n      \"log\": false,\n      \"lower\": -1.0,\n      \"upper\": 1.0,\n      \"default\": 0.0\n    },\n    {\n      \"name\": \"25:degree\",\n      \"type\": \"uniform_int\",\n      \"log\": false,\n      \"lower\": 2,\n      \"upper\": 5,\n      \"default\": 3\n    },\n    {\n      \"name\": \"25:gamma\",\n      \"type\": \"uniform_float\",\n      \"log\": true,\n      \"lower\": 3.0517578125e-05,\n      \"upper\": 8.0,\n      \"default\": 1.0\n    }\n  ],\n  \"conditions\": [\n    {\n      \"child\": \"25:coef0\",\n      \"parent\": \"25:kernel\",\n      \"type\": \"IN\",\n      \"values\": [\n        \"poly\",\n        \"sigmoid\"\n      ]\n    },\n    {\n      \"child\": \"25:degree\",\n      \"parent\": \"25:kernel\",\n      \"type\": \"EQ\",\n      \"value\": \"poly\"\n    },\n    {\n      \"child\": \"25:gamma\",\n      \"parent\": \"25:kernel\",\n      \"type\": \"IN\",\n      \"values\": [\n        \"poly\",\n        \"rbf\"\n      ]\n    }\n  ],\n  \"forbiddens\": [],\n  \"python_module_version\": \"0.4.18\",\n  \"json_format_version\": 0.2\n}",
         "pipeline": [
          [
           "25",
           "dswizard.components.feature_preprocessing.kpca.KernelPCAComponent"
          ],
          [
           "89",
           "dswizard.components.feature_preprocessing.binarizer.BinarizerComponent"
          ],
          [
           "178",
           "dswizard.components.classification.decision_tree.DecisionTree"
          ]
         ],
         "timestamp": 0
        },
        {
         "budget": 2,
         "cfg_keys": [
          [
           829718405999276500,
           0
          ],
          [
           5985535545371296000,
           1
          ]
         ],
         "cid": [
          0,
          7,
          null
         ],
         "configspace": "{\n  \"hyperparameters\": [\n    {\n      \"name\": \"216:n_components_factor\",\n      \"type\": \"uniform_float\",\n      \"log\": false,\n      \"lower\": 1e-07,\n      \"upper\": 1.0,\n      \"default\": 1.0\n    },\n    {\n      \"name\": \"216:solver\",\n      \"type\": \"categorical\",\n      \"choices\": [\n        \"svd\",\n        \"lsqr\"\n      ],\n      \"default\": \"svd\",\n      \"probabilities\": null\n    },\n    {\n      \"name\": \"216:tol\",\n      \"type\": \"uniform_float\",\n      \"log\": true,\n      \"lower\": 1e-07,\n      \"upper\": 1.0,\n      \"default\": 0.0001\n    },\n    {\n      \"name\": \"24:encode\",\n      \"type\": \"categorical\",\n      \"choices\": [\n        \"onehot\",\n        \"onehot-dense\",\n        \"ordinal\"\n      ],\n      \"default\": \"onehot\",\n      \"probabilities\": null\n    },\n    {\n      \"name\": \"24:n_bins\",\n      \"type\": \"uniform_int\",\n      \"log\": false,\n      \"lower\": 2,\n      \"upper\": 100,\n      \"default\": 5\n    },\n    {\n      \"name\": \"24:strategy\",\n      \"type\": \"categorical\",\n      \"choices\": [\n        \"uniform\",\n        \"quantile\",\n        \"kmeans\"\n      ],\n      \"default\": \"quantile\",\n      \"probabilities\": null\n    },\n    {\n      \"name\": \"216:shrinkage\",\n      \"type\": \"uniform_float\",\n      \"log\": false,\n      \"lower\": 0.0,\n      \"upper\": 1.0,\n      \"default\": 0.1\n    }\n  ],\n  \"conditions\": [\n    {\n      \"child\": \"216:shrinkage\",\n      \"parent\": \"216:solver\",\n      \"type\": \"IN\",\n      \"values\": [\n        \"lsqr\"\n      ]\n    }\n  ],\n  \"forbiddens\": [],\n  \"python_module_version\": \"0.4.18\",\n  \"json_format_version\": 0.2\n}",
         "pipeline": [
          [
           "24",
           "dswizard.components.feature_preprocessing.kbinsdiscretizer.KBinsDiscretizer"
          ],
          [
           "216",
           "dswizard.components.classification.linear_discriminant_analysis.LinearDiscriminantAnalysis"
          ]
         ],
         "timestamp": 0
        },
        {
         "budget": 2,
         "cfg_keys": [
          [
           829718405999276500,
           0
          ],
          [
           -3407994154208290000,
           1
          ],
          [
           6035824335206671000,
           2
          ]
         ],
         "cid": [
          0,
          8,
          null
         ],
         "configspace": "{\n  \"hyperparameters\": [\n    {\n      \"name\": \"248:criterion\",\n      \"type\": \"categorical\",\n      \"choices\": [\n        \"gini\",\n        \"entropy\"\n      ],\n      \"default\": \"gini\",\n      \"probabilities\": null\n    },\n    {\n      \"name\": \"248:max_depth_factor\",\n      \"type\": \"uniform_float\",\n      \"log\": false,\n      \"lower\": 0.0,\n      \"upper\": 2.0,\n      \"default\": 1.0\n    },\n    {\n      \"name\": \"248:max_features_factor\",\n      \"type\": \"constant\",\n      \"value\": 1.0\n    },\n    {\n      \"name\": \"248:min_impurity_decrease\",\n      \"type\": \"constant\",\n      \"value\": 0.0\n    },\n    {\n      \"name\": \"248:min_samples_leaf_factor\",\n      \"type\": \"uniform_float\",\n      \"log\": false,\n      \"lower\": 1e-07,\n      \"upper\": 0.25,\n      \"default\": 0.0001\n    },\n    {\n      \"name\": \"248:min_samples_split_factor\",\n      \"type\": \"uniform_float\",\n      \"log\": false,\n      \"lower\": 1e-07,\n      \"upper\": 0.25,\n      \"default\": 0.0001\n    },\n    {\n      \"name\": \"248:min_weight_fraction_leaf\",\n      \"type\": \"constant\",\n      \"value\": 0.0\n    },\n    {\n      \"name\": \"24:encode\",\n      \"type\": \"categorical\",\n      \"choices\": [\n        \"onehot\",\n        \"onehot-dense\",\n        \"ordinal\"\n      ],\n      \"default\": \"onehot\",\n      \"probabilities\": null\n    },\n    {\n      \"name\": \"24:n_bins\",\n      \"type\": \"uniform_int\",\n      \"log\": false,\n      \"lower\": 2,\n      \"upper\": 100,\n      \"default\": 5\n    },\n    {\n      \"name\": \"24:strategy\",\n      \"type\": \"categorical\",\n      \"choices\": [\n        \"uniform\",\n        \"quantile\",\n        \"kmeans\"\n      ],\n      \"default\": \"quantile\",\n      \"probabilities\": null\n    }\n  ],\n  \"conditions\": [],\n  \"forbiddens\": [],\n  \"python_module_version\": \"0.4.18\",\n  \"json_format_version\": 0.2\n}",
         "pipeline": [
          [
           "24",
           "dswizard.components.feature_preprocessing.kbinsdiscretizer.KBinsDiscretizer"
          ],
          [
           "227",
           "dswizard.components.data_preprocessing.standard_scaler.StandardScalerComponent"
          ],
          [
           "248",
           "dswizard.components.classification.decision_tree.DecisionTree"
          ]
         ],
         "timestamp": 0
        },
        {
         "budget": 2,
         "cfg_keys": [
          [
           -3407994154208290000,
           0
          ],
          [
           5985535545371296000,
           0
          ]
         ],
         "cid": [
          0,
          9,
          null
         ],
         "configspace": "{\n  \"hyperparameters\": [\n    {\n      \"name\": \"41:n_components_factor\",\n      \"type\": \"uniform_float\",\n      \"log\": false,\n      \"lower\": 1e-07,\n      \"upper\": 1.0,\n      \"default\": 1.0\n    },\n    {\n      \"name\": \"41:solver\",\n      \"type\": \"categorical\",\n      \"choices\": [\n        \"svd\",\n        \"lsqr\"\n      ],\n      \"default\": \"svd\",\n      \"probabilities\": null\n    },\n    {\n      \"name\": \"41:tol\",\n      \"type\": \"uniform_float\",\n      \"log\": true,\n      \"lower\": 1e-07,\n      \"upper\": 1.0,\n      \"default\": 0.0001\n    },\n    {\n      \"name\": \"41:shrinkage\",\n      \"type\": \"uniform_float\",\n      \"log\": false,\n      \"lower\": 0.0,\n      \"upper\": 1.0,\n      \"default\": 0.1\n    }\n  ],\n  \"conditions\": [\n    {\n      \"child\": \"41:shrinkage\",\n      \"parent\": \"41:solver\",\n      \"type\": \"IN\",\n      \"values\": [\n        \"lsqr\"\n      ]\n    }\n  ],\n  \"forbiddens\": [],\n  \"python_module_version\": \"0.4.18\",\n  \"json_format_version\": 0.2\n}",
         "pipeline": [
          [
           "14",
           "dswizard.components.data_preprocessing.normalize.NormalizerComponent"
          ],
          [
           "41",
           "dswizard.components.classification.linear_discriminant_analysis.LinearDiscriminantAnalysis"
          ]
         ],
         "timestamp": 0
        },
        {
         "budget": 2,
         "cfg_keys": [
          [
           -3374229348301930500,
           0
          ],
          [
           -3955992868977112000,
           0
          ]
         ],
         "cid": [
          0,
          10,
          null
         ],
         "configspace": "{\n  \"hyperparameters\": [\n    {\n      \"name\": \"284:l2_regularization\",\n      \"type\": \"uniform_float\",\n      \"log\": true,\n      \"lower\": 1e-10,\n      \"upper\": 1.0,\n      \"default\": 1e-10\n    },\n    {\n      \"name\": \"284:learning_rate\",\n      \"type\": \"uniform_float\",\n      \"log\": true,\n      \"lower\": 0.01,\n      \"upper\": 1.0,\n      \"default\": 0.1\n    },\n    {\n      \"name\": \"284:loss\",\n      \"type\": \"constant\",\n      \"value\": \"auto\"\n    },\n    {\n      \"name\": \"284:max_bins\",\n      \"type\": \"constant\",\n      \"value\": 255\n    },\n    {\n      \"name\": \"284:max_depth_factor\",\n      \"type\": \"uniform_float\",\n      \"log\": false,\n      \"lower\": 1e-05,\n      \"upper\": 2.5,\n      \"default\": 1.0\n    },\n    {\n      \"name\": \"284:max_iter\",\n      \"type\": \"constant\",\n      \"value\": 512\n    },\n    {\n      \"name\": \"284:max_leaf_nodes_factor\",\n      \"type\": \"uniform_float\",\n      \"log\": false,\n      \"lower\": 1e-05,\n      \"upper\": 1.0,\n      \"default\": 1.0\n    },\n    {\n      \"name\": \"284:min_samples_leaf_factor\",\n      \"type\": \"uniform_float\",\n      \"log\": true,\n      \"lower\": 0.0001,\n      \"upper\": 0.25,\n      \"default\": 0.0001\n    },\n    {\n      \"name\": \"284:n_iter_no_change\",\n      \"type\": \"uniform_int\",\n      \"log\": false,\n      \"lower\": 1,\n      \"upper\": 20,\n      \"default\": 10\n    },\n    {\n      \"name\": \"284:scoring\",\n      \"type\": \"constant\",\n      \"value\": \"loss\"\n    },\n    {\n      \"name\": \"284:tol\",\n      \"type\": \"constant\",\n      \"value\": 1e-07\n    },\n    {\n      \"name\": \"284:validation_fraction\",\n      \"type\": \"uniform_float\",\n      \"log\": false,\n      \"lower\": 0.01,\n      \"upper\": 0.4,\n      \"default\": 0.1\n    },\n    {\n      \"name\": \"7:alpha\",\n      \"type\": \"uniform_float\",\n      \"log\": true,\n      \"lower\": 0.01,\n      \"upper\": 100.0,\n      \"default\": 1.0\n    },\n    {\n      \"name\": \"7:fit_prior\",\n      \"type\": \"categorical\",\n      \"choices\": [\n        true,\n        false\n      ],\n      \"default\": true,\n      \"probabilities\": null\n    }\n  ],\n  \"conditions\": [],\n  \"forbiddens\": [],\n  \"python_module_version\": \"0.4.18\",\n  \"json_format_version\": 0.2\n}",
         "pipeline": [
          [
           "7",
           "dswizard.components.classification.multinomial_nb.MultinomialNB"
          ],
          [
           "284",
           "dswizard.components.classification.gradient_boosting.GradientBoostingClassifier"
          ]
         ],
         "timestamp": 0
        },
        {
         "budget": 2,
         "cfg_keys": [
          [
           -3955992868977112000,
           0
          ],
          [
           -3374229348301930500,
           0
          ]
         ],
         "cid": [
          0,
          11,
          null
         ],
         "configspace": "{\n  \"hyperparameters\": [\n    {\n      \"name\": \"107:alpha\",\n      \"type\": \"uniform_float\",\n      \"log\": true,\n      \"lower\": 0.01,\n      \"upper\": 100.0,\n      \"default\": 1.0\n    },\n    {\n      \"name\": \"107:fit_prior\",\n      \"type\": \"categorical\",\n      \"choices\": [\n        true,\n        false\n      ],\n      \"default\": true,\n      \"probabilities\": null\n    },\n    {\n      \"name\": \"4:l2_regularization\",\n      \"type\": \"uniform_float\",\n      \"log\": true,\n      \"lower\": 1e-10,\n      \"upper\": 1.0,\n      \"default\": 1e-10\n    },\n    {\n      \"name\": \"4:learning_rate\",\n      \"type\": \"uniform_float\",\n      \"log\": true,\n      \"lower\": 0.01,\n      \"upper\": 1.0,\n      \"default\": 0.1\n    },\n    {\n      \"name\": \"4:loss\",\n      \"type\": \"constant\",\n      \"value\": \"auto\"\n    },\n    {\n      \"name\": \"4:max_bins\",\n      \"type\": \"constant\",\n      \"value\": 255\n    },\n    {\n      \"name\": \"4:max_depth_factor\",\n      \"type\": \"uniform_float\",\n      \"log\": false,\n      \"lower\": 1e-05,\n      \"upper\": 2.5,\n      \"default\": 1.0\n    },\n    {\n      \"name\": \"4:max_iter\",\n      \"type\": \"constant\",\n      \"value\": 512\n    },\n    {\n      \"name\": \"4:max_leaf_nodes_factor\",\n      \"type\": \"uniform_float\",\n      \"log\": false,\n      \"lower\": 1e-05,\n      \"upper\": 1.0,\n      \"default\": 1.0\n    },\n    {\n      \"name\": \"4:min_samples_leaf_factor\",\n      \"type\": \"uniform_float\",\n      \"log\": true,\n      \"lower\": 0.0001,\n      \"upper\": 0.25,\n      \"default\": 0.0001\n    },\n    {\n      \"name\": \"4:n_iter_no_change\",\n      \"type\": \"uniform_int\",\n      \"log\": false,\n      \"lower\": 1,\n      \"upper\": 20,\n      \"default\": 10\n    },\n    {\n      \"name\": \"4:scoring\",\n      \"type\": \"constant\",\n      \"value\": \"loss\"\n    },\n    {\n      \"name\": \"4:tol\",\n      \"type\": \"constant\",\n      \"value\": 1e-07\n    },\n    {\n      \"name\": \"4:validation_fraction\",\n      \"type\": \"uniform_float\",\n      \"log\": false,\n      \"lower\": 0.01,\n      \"upper\": 0.4,\n      \"default\": 0.1\n    }\n  ],\n  \"conditions\": [],\n  \"forbiddens\": [],\n  \"python_module_version\": \"0.4.18\",\n  \"json_format_version\": 0.2\n}",
         "pipeline": [
          [
           "4",
           "dswizard.components.classification.gradient_boosting.GradientBoostingClassifier"
          ],
          [
           "107",
           "dswizard.components.classification.bernoulli_nb.BernoulliNB"
          ]
         ],
         "timestamp": 0
        }
       ],
       "xai": {
        "structures": {
         "edges": {
          "0": [
           1,
           2,
           3,
           4,
           5,
           6,
           7,
           8,
           9,
           10,
           11,
           12,
           13,
           14,
           15,
           16,
           17,
           18,
           19,
           20,
           21,
           22,
           23,
           24,
           25,
           26,
           27,
           28,
           29,
           30,
           31,
           32,
           33,
           34,
           35
          ],
          "14": [
           36,
           37,
           38,
           39,
           40,
           41,
           42,
           43,
           44,
           45,
           46,
           47,
           48,
           49,
           50,
           51,
           52,
           53,
           54,
           55,
           56,
           57,
           58,
           59,
           60,
           61,
           62,
           63,
           64,
           65,
           66,
           67,
           68,
           69,
           70
          ],
          "17": [
           141,
           142,
           143,
           144,
           145,
           146,
           147,
           148,
           149,
           150,
           151,
           152,
           153,
           154,
           155,
           156,
           157,
           158,
           159,
           160,
           161,
           162,
           163,
           164,
           165,
           166,
           167,
           168,
           169,
           170,
           171,
           172,
           173,
           174,
           175
          ],
          "227": [
           246,
           247,
           248,
           249,
           250,
           251,
           252,
           253,
           254,
           255,
           256,
           257,
           258,
           259,
           260,
           261,
           262,
           263,
           264,
           265,
           266,
           267,
           268,
           269,
           270,
           271,
           272,
           273,
           274,
           275,
           276,
           277,
           278,
           279,
           280
          ],
          "24": [
           211,
           212,
           213,
           214,
           215,
           216,
           217,
           218,
           219,
           220,
           221,
           222,
           223,
           224,
           225,
           226,
           227,
           228,
           229,
           230,
           231,
           232,
           233,
           234,
           235,
           236,
           237,
           238,
           239,
           240,
           241,
           242,
           243,
           244,
           245
          ],
          "25": [
           71,
           72,
           73,
           74,
           75,
           76,
           77,
           78,
           79,
           80,
           81,
           82,
           83,
           84,
           85,
           86,
           87,
           88,
           89,
           90,
           91,
           92,
           93,
           94,
           95,
           96,
           97,
           98,
           99,
           100,
           101,
           102,
           103,
           104,
           105
          ],
          "4": [
           106,
           107,
           108,
           109,
           110,
           111,
           112,
           113,
           114,
           115,
           116,
           117,
           118,
           119,
           120,
           121,
           122,
           123,
           124,
           125,
           126,
           127,
           128,
           129,
           130,
           131,
           132,
           133,
           134,
           135,
           136,
           137,
           138,
           139,
           140
          ],
          "7": [
           281,
           282,
           283,
           284,
           285,
           286,
           287,
           288,
           289,
           290,
           291,
           292,
           293,
           294,
           295,
           296,
           297,
           298,
           299,
           300,
           301,
           302,
           303,
           304,
           305,
           306,
           307,
           308,
           309,
           310,
           311,
           312,
           313,
           314,
           315
          ],
          "89": [
           176,
           177,
           178,
           179,
           180,
           181,
           182,
           183,
           184,
           185,
           186,
           187,
           188,
           189,
           190,
           191,
           192,
           193,
           194,
           195,
           196,
           197,
           198,
           199,
           200,
           201,
           202,
           203,
           204,
           205,
           206,
           207,
           208,
           209,
           210
          ]
         },
         "nodes": {
          "0": {
           "failure_message": null,
           "label": "Root",
           "policy": {},
           "reward": -24.759174621885514,
           "visits": 44
          },
          "1": {
           "failure_message": "Unvisited",
           "label": "AdaBoostingClassifier",
           "policy": {
            "(0, 0, None)": {
             "failure_message": "Unvisited",
             "label": "AdaBoostingClassifier",
             "policy": {
              "adjusted_exploration": 0,
              "adjusted_score": -0.9000320243385701,
              "exploitation": -0.9017933394546925,
              "exploration": 0,
              "overfitting": 0.998046875,
              "score": -0.9017933394546925
             },
             "reward": 0,
             "visits": 0
            },
            "(0, 1, None)": {
             "failure_message": "Unvisited",
             "label": "AdaBoostingClassifier",
             "policy": {
              "adjusted_exploration": 2.537272482359039,
              "adjusted_score": 1.8308866781378528,
              "exploitation": -0.70280285573168,
              "exploration": 1.2686362411795196,
              "overfitting": 0.998046875,
              "score": 1.8344696266273592
             },
             "reward": 0,
             "visits": 0
            },
            "(0, 10, None)": {
             "failure_message": "Unvisited",
             "label": "AdaBoostingClassifier",
             "policy": {
              "adjusted_exploration": "-inf",
              "adjusted_score": "-inf",
              "exploitation": "-inf",
              "exploration": "-inf",
              "overfitting": 0.998046875,
              "score": "-inf"
             },
             "reward": 0,
             "visits": 0
            },
            "(0, 11, None)": {
             "failure_message": "Unvisited",
             "label": "AdaBoostingClassifier",
             "policy": {
              "adjusted_exploration": "-inf",
              "adjusted_score": "-inf",
              "exploitation": "-inf",
              "exploration": "-inf",
              "overfitting": 0.998046875,
              "score": "-inf"
             },
             "reward": 0,
             "visits": 0
            },
            "(0, 2, None)": {
             "failure_message": "Unvisited",
             "label": "AdaBoostingClassifier",
             "policy": {
              "adjusted_exploration": 2.884053773201766,
              "adjusted_score": 2.0453031797856926,
              "exploitation": -0.8347480431620897,
              "exploration": 1.442026886600883,
              "overfitting": 0.998046875,
              "score": 2.049305730039676
             },
             "reward": 0,
             "visits": 0
            },
            "(0, 3, None)": {
             "failure_message": "Unvisited",
             "label": "AdaBoostingClassifier",
             "policy": {
              "adjusted_exploration": 3.1527173357521288,
              "adjusted_score": 2.49731734671857,
              "exploitation": -0.6505128709382191,
              "exploration": 1.5763586678760644,
              "overfitting": 0.998046875,
              "score": 2.50220446481391
             },
             "reward": 0,
             "visits": 0
            },
            "(0, 4, None)": {
             "failure_message": "Unvisited",
             "label": "AdaBoostingClassifier",
             "policy": {
              "adjusted_exploration": "-inf",
              "adjusted_score": "-inf",
              "exploitation": "-inf",
              "exploration": "-inf",
              "overfitting": 0.998046875,
              "score": "-inf"
             },
             "reward": 0,
             "visits": 0
            },
            "(0, 5, None)": {
             "failure_message": "Unvisited",
             "label": "AdaBoostingClassifier",
             "policy": {
              "adjusted_exploration": 1.769657738554306,
              "adjusted_score": 1.1486290223316704,
              "exploitation": -0.6187809099167029,
              "exploration": 1.7308183826022854,
              "overfitting": 0.998046875,
              "score": 1.1508768286376032
             },
             "reward": 0,
             "visits": 0
            },
            "(0, 6, None)": {
             "failure_message": "Unvisited",
             "label": "AdaBoostingClassifier",
             "policy": {
              "adjusted_exploration": "-inf",
              "adjusted_score": "-inf",
              "exploitation": "-inf",
              "exploration": "-inf",
              "overfitting": 0.998046875,
              "score": "-inf"
             },
             "reward": 0,
             "visits": 0
            },
            "(0, 7, None)": {
             "failure_message": "Unvisited",
             "label": "AdaBoostingClassifier",
             "policy": {
              "adjusted_exploration": 1.018327257178704,
              "adjusted_score": 0.32166194945429405,
              "exploitation": -0.6960358322851649,
              "exploration": 1.815443985917585,
              "overfitting": 0.998046875,
              "score": 0.32229142489353924
             },
             "reward": 0,
             "visits": 0
            },
            "(0, 8, None)": {
             "failure_message": "Unvisited",
             "label": "AdaBoostingClassifier",
             "policy": {
              "adjusted_exploration": "-inf",
              "adjusted_score": "-inf",
              "exploitation": "-inf",
              "exploration": "-inf",
              "overfitting": 0.998046875,
              "score": "-inf"
             },
             "reward": 0,
             "visits": 0
            },
            "(0, 9, None)": {
             "failure_message": "Unvisited",
             "label": "AdaBoostingClassifier",
             "policy": {
              "adjusted_exploration": "-inf",
              "adjusted_score": "-inf",
              "exploitation": "-inf",
              "exploration": "-inf",
              "overfitting": 0.998046875,
              "score": "-inf"
             },
             "reward": 0,
             "visits": 0
            }
           },
           "reward": 0,
           "visits": 0
          },
          "10": {
           "failure_message": "Unvisited",
           "label": "Imputation",
           "policy": {
            "(0, 0, None)": {
             "failure_message": "Unvisited",
             "label": "Imputation",
             "policy": {
              "adjusted_exploration": 0,
              "adjusted_score": 0,
              "exploitation": 0,
              "exploration": 0,
              "overfitting": 0.998046875,
              "score": 0
             },
             "reward": 0,
             "visits": 0
            },
            "(0, 1, None)": {
             "failure_message": "Unvisited",
             "label": "Imputation",
             "policy": {
              "adjusted_exploration": 2.537272482359039,
              "adjusted_score": 1.5885184943479507,
              "exploitation": -0.9456453412511122,
              "exploration": 1.2686362411795196,
              "overfitting": 0.998046875,
              "score": 1.591627141107927
             },
             "reward": 0,
             "visits": 0
            },
            "(0, 10, None)": {
             "failure_message": "Unvisited",
             "label": "Imputation",
             "policy": {
              "adjusted_exploration": "-inf",
              "adjusted_score": "-inf",
              "exploitation": "-inf",
              "exploration": "-inf",
              "overfitting": 0.998046875,
              "score": "-inf"
             },
             "reward": 0,
             "visits": 0
            },
            "(0, 11, None)": {
             "failure_message": "Unvisited",
             "label": "Imputation",
             "policy": {
              "adjusted_exploration": "-inf",
              "adjusted_score": "-inf",
              "exploitation": "-inf",
              "exploration": "-inf",
              "overfitting": 0.998046875,
              "score": "-inf"
             },
             "reward": 0,
             "visits": 0
            },
            "(0, 2, None)": {
             "failure_message": "Unvisited",
             "label": "Imputation",
             "policy": {
              "adjusted_exploration": 2.884053773201766,
              "adjusted_score": 2.1159408894349925,
              "exploitation": -0.7639720992473311,
              "exploration": 1.442026886600883,
              "overfitting": 0.998046875,
              "score": 2.120081673954435
             },
             "reward": 0,
             "visits": 0
            },
            "(0, 3, None)": {
             "failure_message": "Unvisited",
             "label": "Imputation",
             "policy": {
              "adjusted_exploration": 3.1527173357521288,
              "adjusted_score": 2.3919331605171545,
              "exploitation": -0.7561032884237863,
              "exploration": 1.5763586678760644,
              "overfitting": 0.998046875,
              "score": 2.3966140473283426
             },
             "reward": 0,
             "visits": 0
            },
            "(0, 4, None)": {
             "failure_message": "Unvisited",
             "label": "Imputation",
             "policy": {
              "adjusted_exploration": "-inf",
              "adjusted_score": "-inf",
              "exploitation": "-inf",
              "exploration": "-inf",
              "overfitting": 0.998046875,
              "score": "-inf"
             },
             "reward": 0,
             "visits": 0
            },
            "(0, 5, None)": {
             "failure_message": "Unvisited",
             "label": "Imputation",
             "policy": {
              "adjusted_exploration": 1.769657738554306,
              "adjusted_score": 0.8994012533047763,
              "exploitation": -0.868496404518992,
              "exploration": 1.7308183826022854,
              "overfitting": 0.998046875,
              "score": 0.901161334035314
             },
             "reward": 0,
             "visits": 0
            },
            "(0, 6, None)": {
             "failure_message": "Unvisited",
             "label": "Imputation",
             "policy": {
              "adjusted_exploration": "-inf",
              "adjusted_score": "-inf",
              "exploitation": "-inf",
              "exploration": "-inf",
              "overfitting": 0.998046875,
              "score": "-inf"
             },
             "reward": 0,
             "visits": 0
            },
            "(0, 7, None)": {
             "failure_message": "Unvisited",
             "label": "Imputation",
             "policy": {
              "adjusted_exploration": 1.018327257178704,
              "adjusted_score": 0.24357497746353185,
              "exploitation": -0.7742756163541868,
              "exploration": 1.815443985917585,
              "overfitting": 0.998046875,
              "score": 0.24405164082451725
             },
             "reward": 0,
             "visits": 0
            },
            "(0, 8, None)": {
             "failure_message": "Unvisited",
             "label": "Imputation",
             "policy": {
              "adjusted_exploration": "-inf",
              "adjusted_score": "-inf",
              "exploitation": "-inf",
              "exploration": "-inf",
              "overfitting": 0.998046875,
              "score": "-inf"
             },
             "reward": 0,
             "visits": 0
            },
            "(0, 9, None)": {
             "failure_message": "Unvisited",
             "label": "Imputation",
             "policy": {
              "adjusted_exploration": "-inf",
              "adjusted_score": "-inf",
              "exploitation": "-inf",
              "exploration": "-inf",
              "overfitting": 0.998046875,
              "score": "-inf"
             },
             "reward": 0,
             "visits": 0
            }
           },
           "reward": 0,
           "visits": 0
          },
          "100": {
           "failure_message": "Unvisited",
           "label": "PolynomialFeatures",
           "policy": {
            "(0, 3, None)": {
             "failure_message": "Unvisited",
             "label": "PolynomialFeatures",
             "policy": {
              "adjusted_exploration": 0,
              "adjusted_score": 0,
              "exploitation": 0,
              "exploration": 0,
              "overfitting": 0.99609375,
              "score": 0
             },
             "reward": 0,
             "visits": 0
            },
            "(0, 6, None)": {
             "failure_message": "Unvisited",
             "label": "PolynomialFeatures",
             "policy": {
              "adjusted_exploration": 0.6604382884316264,
              "adjusted_score": -0.11811699206452482,
              "exploitation": -0.7790184843866004,
              "exploration": 1.1774100225154747,
              "overfitting": 0.99609375,
              "score": -0.11858019595497393
             },
             "reward": 0,
             "visits": 0
            }
           },
           "reward": 0,
           "visits": 0
          },
          "101": {
           "failure_message": "Unvisited",
           "label": "RandomTreesEmbedding",
           "policy": {
            "(0, 3, None)": {
             "failure_message": "Unvisited",
             "label": "RandomTreesEmbedding",
             "policy": {
              "adjusted_exploration": 0,
              "adjusted_score": 0,
              "exploitation": 0,
              "exploration": 0,
              "overfitting": 0.99609375,
              "score": 0
             },
             "reward": 0,
             "visits": 0
            },
            "(0, 6, None)": {
             "failure_message": "Unvisited",
             "label": "RandomTreesEmbedding",
             "policy": {
              "adjusted_exploration": 0.6604382884316264,
              "adjusted_score": -0.22538869771282377,
              "exploitation": -0.8867108633903829,
              "exploration": 1.1774100225154747,
              "overfitting": 0.99609375,
              "score": -0.2262725749587564
             },
             "reward": 0,
             "visits": 0
            }
           },
           "reward": 0,
           "visits": 0
          },
          "102": {
           "failure_message": "Unvisited",
           "label": "SelectKBest",
           "policy": {
            "(0, 3, None)": {
             "failure_message": "Unvisited",
             "label": "SelectKBest",
             "policy": {
              "adjusted_exploration": 0,
              "adjusted_score": 0,
              "exploitation": 0,
              "exploration": 0,
              "overfitting": 0.99609375,
              "score": 0
             },
             "reward": 0,
             "visits": 0
            },
            "(0, 6, None)": {
             "failure_message": "Unvisited",
             "label": "SelectKBest",
             "policy": {
              "adjusted_exploration": 0.6604382884316264,
              "adjusted_score": -0.0401884232311039,
              "exploitation": -0.7007843133224602,
              "exploration": 1.1774100225154747,
              "overfitting": 0.99609375,
              "score": -0.04034602489083372
             },
             "reward": 0,
             "visits": 0
            }
           },
           "reward": 0,
           "visits": 0
          },
          "103": {
           "failure_message": "Unvisited",
           "label": "SelectPercentileClassification",
           "policy": {
            "(0, 3, None)": {
             "failure_message": "Unvisited",
             "label": "SelectPercentileClassification",
             "policy": {
              "adjusted_exploration": 0,
              "adjusted_score": 0,
              "exploitation": 0,
              "exploration": 0,
              "overfitting": 0.99609375,
              "score": 0
             },
             "reward": 0,
             "visits": 0
            },
            "(0, 6, None)": {
             "failure_message": "Unvisited",
             "label": "SelectPercentileClassification",
             "policy": {
              "adjusted_exploration": 0.6604382884316264,
              "adjusted_score": 0.0818023820649544,
              "exploitation": -0.5783151127115154,
              "exploration": 1.1774100225154747,
              "overfitting": 0.99609375,
              "score": 0.08212317572011107
             },
             "reward": 0,
             "visits": 0
            }
           },
           "reward": 0,
           "visits": 0
          },
          "104": {
           "failure_message": "Unvisited",
           "label": "TruncatedSVD",
           "policy": {
            "(0, 3, None)": {
             "failure_message": "Unvisited",
             "label": "TruncatedSVD",
             "policy": {
              "adjusted_exploration": 0,
              "adjusted_score": 0,
              "exploitation": 0,
              "exploration": 0,
              "overfitting": 0.99609375,
              "score": 0
             },
             "reward": 0,
             "visits": 0
            },
            "(0, 6, None)": {
             "failure_message": "Unvisited",
             "label": "TruncatedSVD",
             "policy": {
              "adjusted_exploration": 0.6604382884316264,
              "adjusted_score": -0.1963141154261783,
              "exploitation": -0.8575222631339858,
              "exploration": 1.1774100225154747,
              "overfitting": 0.99609375,
              "score": -0.1970839747023594
             },
             "reward": 0,
             "visits": 0
            }
           },
           "reward": 0,
           "visits": 0
          },
          "105": {
           "failure_message": "Unvisited",
           "label": "VarianceThreshold",
           "policy": {
            "(0, 3, None)": {
             "failure_message": "Unvisited",
             "label": "VarianceThreshold",
             "policy": {
              "adjusted_exploration": 0,
              "adjusted_score": 0,
              "exploitation": 0,
              "exploration": 0,
              "overfitting": 0.99609375,
              "score": 0
             },
             "reward": 0,
             "visits": 0
            },
            "(0, 6, None)": {
             "failure_message": "Unvisited",
             "label": "VarianceThreshold",
             "policy": {
              "adjusted_exploration": 0.6604382884316264,
              "adjusted_score": -0.18510967825117045,
              "exploitation": -0.8462738869896642,
              "exploration": 1.1774100225154747,
              "overfitting": 0.99609375,
              "score": -0.18583559855803777
             },
             "reward": 0,
             "visits": 0
            }
           },
           "reward": 0,
           "visits": 0
          },
          "106": {
           "failure_message": "Unvisited",
           "label": "AdaBoostingClassifier",
           "policy": {
            "(0, 11, None)": {
             "failure_message": "Unvisited",
             "label": "AdaBoostingClassifier",
             "policy": {
              "adjusted_exploration": 0.3767646798362867,
              "adjusted_score": -0.2505885503035518,
              "exploitation": -0.6283359303371073,
              "exploration": 1.3385661990458504,
              "overfitting": 0.99609375,
              "score": -0.25157125050082063
             },
             "reward": 0,
             "visits": 0
            },
            "(0, 4, None)": {
             "failure_message": "Unvisited",
             "label": "AdaBoostingClassifier",
             "policy": {
              "adjusted_exploration": 1.0716673680124094,
              "adjusted_score": 0.6190905125398715,
              "exploitation": -0.45014904954100904,
              "exploration": 1.048147073968205,
              "overfitting": 0.99609375,
              "score": 0.6215183184714004
             },
             "reward": 0,
             "visits": 0
            }
           },
           "reward": 0,
           "visits": 0
          },
          "107": {
           "failure_message": null,
           "label": "BernoulliNB",
           "policy": {
            "(0, 11, None)": {
             "failure_message": "Unvisited",
             "label": "BernoulliNB",
             "policy": {
              "adjusted_exploration": 0.3767646798362867,
              "adjusted_score": -0.7123620680736695,
              "exploitation": -1.0919203246475,
              "exploration": 1.3385661990458504,
              "overfitting": 0.99609375,
              "score": -0.7151556448112133
             },
             "reward": 0,
             "visits": 0
            },
            "(0, 4, None)": {
             "failure_message": "Unvisited",
             "label": "BernoulliNB",
             "policy": {
              "adjusted_exploration": 1.0716673680124094,
              "adjusted_score": 0.1672738829684911,
              "exploitation": -0.9037375090322771,
              "exploration": 1.048147073968205,
              "overfitting": 0.99609375,
              "score": 0.16792985898013224
             },
             "reward": 0,
             "visits": 0
            }
           },
           "reward": -1.9276014109347441,
           "visits": 3
          },
          "108": {
           "failure_message": null,
           "label": "DecisionTree",
           "policy": {
            "(0, 4, None)": {
             "failure_message": "Unvisited",
             "label": "DecisionTree",
             "policy": {
              "adjusted_exploration": 1.0716673680124094,
              "adjusted_score": -0.030470339977105926,
              "exploitation": -1.1022571995188373,
              "exploration": 1.048147073968205,
              "overfitting": 0.99609375,
              "score": -0.03058983150642791
             },
             "reward": 0,
             "visits": 0
            }
           },
           "reward": -2.58565346430515,
           "visits": 3
          },
          "109": {
           "failure_message": "Unvisited",
           "label": "GradientBoostingClassifier",
           "policy": {
            "(0, 11, None)": {
             "failure_message": "Unvisited",
             "label": "GradientBoostingClassifier",
             "policy": {
              "adjusted_exploration": 0.3767646798362867,
              "adjusted_score": -0.45595709922618255,
              "exploitation": -0.8345098461182582,
              "exploration": 1.3385661990458504,
              "overfitting": 0.99609375,
              "score": -0.4577451662819715
             },
             "reward": 0,
             "visits": 0
            },
            "(0, 4, None)": {
             "failure_message": "Unvisited",
             "label": "GradientBoostingClassifier",
             "policy": {
              "adjusted_exploration": 1.0716673680124094,
              "adjusted_score": 0.035220747820548404,
              "exploitation": -1.0363084996121725,
              "exploration": 1.048147073968205,
              "overfitting": 0.99609375,
              "score": 0.03535886840023683
             },
             "reward": 0,
             "visits": 0
            }
           },
           "reward": 0,
           "visits": 0
          },
          "11": {
           "failure_message": "Duplicate 3",
           "label": "KNNImputer",
           "policy": {
            "(0, 0, None)": {
             "failure_message": "Unvisited",
             "label": "KNNImputer",
             "policy": {
              "adjusted_exploration": 0,
              "adjusted_score": 0,
              "exploitation": 0,
              "exploration": 0,
              "overfitting": 0.998046875,
              "score": 0
             },
             "reward": 0,
             "visits": 0
            },
            "(0, 1, None)": {
             "failure_message": "Unvisited",
             "label": "KNNImputer",
             "policy": {
              "adjusted_exploration": 2.537272482359039,
              "adjusted_score": 1.9425053179825245,
              "exploitation": -0.5909657841064903,
              "exploration": 1.2686362411795196,
              "overfitting": 0.998046875,
              "score": 1.946306698252549
             },
             "reward": 0,
             "visits": 0
            },
            "(0, 10, None)": {
             "failure_message": "Duplicate 3",
             "label": "KNNImputer",
             "policy": {
              "adjusted_exploration": "-inf",
              "adjusted_score": "-inf",
              "exploitation": "-inf",
              "exploration": "-inf",
              "overfitting": 0.998046875,
              "score": "-inf"
             },
             "reward": 0,
             "visits": 1
            },
            "(0, 11, None)": {
             "failure_message": "Duplicate 3",
             "label": "KNNImputer",
             "policy": {
              "adjusted_exploration": "-inf",
              "adjusted_score": "-inf",
              "exploitation": "-inf",
              "exploration": "-inf",
              "overfitting": 0.998046875,
              "score": "-inf"
             },
             "reward": 0,
             "visits": 1
            },
            "(0, 2, None)": {
             "failure_message": "Unvisited",
             "label": "KNNImputer",
             "policy": {
              "adjusted_exploration": 2.884053773201766,
              "adjusted_score": 2.133984195847927,
              "exploitation": -0.7458934830371108,
              "exploration": 1.442026886600883,
              "overfitting": 0.998046875,
              "score": 2.138160290164655
             },
             "reward": 0,
             "visits": 0
            },
            "(0, 3, None)": {
             "failure_message": "Unvisited",
             "label": "KNNImputer",
             "policy": {
              "adjusted_exploration": 3.1527173357521288,
              "adjusted_score": 2.2895926014511585,
              "exploitation": -0.8586441225564475,
              "exploration": 1.5763586678760644,
              "overfitting": 0.998046875,
              "score": 2.294073213195681
             },
             "reward": 0,
             "visits": 0
            },
            "(0, 4, None)": {
             "failure_message": "Unvisited",
             "label": "KNNImputer",
             "policy": {
              "adjusted_exploration": "-inf",
              "adjusted_score": "-inf",
              "exploitation": "-inf",
              "exploration": "-inf",
              "overfitting": 0.998046875,
              "score": "-inf"
             },
             "reward": 0,
             "visits": 0
            },
            "(0, 5, None)": {
             "failure_message": "Unvisited",
             "label": "KNNImputer",
             "policy": {
              "adjusted_exploration": 1.754442178557305,
              "adjusted_score": 0.789778110385964,
              "exploitation": -0.9631185141392745,
              "exploration": 1.71593676432625,
              "overfitting": 0.998046875,
              "score": 0.7913236644180305
             },
             "reward": 0,
             "visits": 0
            },
            "(0, 6, None)": {
             "failure_message": "Duplicate 3",
             "label": "KNNImputer",
             "policy": {
              "adjusted_exploration": "-inf",
              "adjusted_score": "-inf",
              "exploitation": "-inf",
              "exploration": "-inf",
              "overfitting": 0.998046875,
              "score": "-inf"
             },
             "reward": 0,
             "visits": 1
            },
            "(0, 7, None)": {
             "failure_message": "Duplicate 3",
             "label": "KNNImputer",
             "policy": {
              "adjusted_exploration": "-inf",
              "adjusted_score": "-inf",
              "exploitation": "-inf",
              "exploration": "-inf",
              "overfitting": 0.998046875,
              "score": "-inf"
             },
             "reward": 0,
             "visits": 1
            },
            "(0, 8, None)": {
             "failure_message": "Duplicate 3",
             "label": "KNNImputer",
             "policy": {
              "adjusted_exploration": "-inf",
              "adjusted_score": "-inf",
              "exploitation": "-inf",
              "exploration": "-inf",
              "overfitting": 0.998046875,
              "score": "-inf"
             },
             "reward": 0,
             "visits": 1
            },
            "(0, 9, None)": {
             "failure_message": "Duplicate 3",
             "label": "KNNImputer",
             "policy": {
              "adjusted_exploration": "-inf",
              "adjusted_score": "-inf",
              "exploitation": "-inf",
              "exploration": "-inf",
              "overfitting": 0.998046875,
              "score": "-inf"
             },
             "reward": 0,
             "visits": 1
            }
           },
           "reward": 0,
           "visits": 1
          },
          "110": {
           "failure_message": "Unvisited",
           "label": "LibSVM_SVC",
           "policy": {
            "(0, 11, None)": {
             "failure_message": "Unvisited",
             "label": "LibSVM_SVC",
             "policy": {
              "adjusted_exploration": 0.3767646798362867,
              "adjusted_score": -0.3805949411695278,
              "exploitation": -0.7588521501868715,
              "exploration": 1.3385661990458504,
              "overfitting": 0.99609375,
              "score": -0.38208747035058477
             },
             "reward": 0,
             "visits": 0
            },
            "(0, 4, None)": {
             "failure_message": "Unvisited",
             "label": "LibSVM_SVC",
             "policy": {
              "adjusted_exploration": 1.0716673680124094,
              "adjusted_score": 0.2568408999652972,
              "exploitation": -0.813819248831562,
              "exploration": 1.048147073968205,
              "overfitting": 0.99609375,
              "score": 0.2578481191808474
             },
             "reward": 0,
             "visits": 0
            }
           },
           "reward": 0,
           "visits": 0
          },
          "111": {
           "failure_message": "Unvisited",
           "label": "LinearDiscriminantAnalysis",
           "policy": {
            "(0, 11, None)": {
             "failure_message": "Unvisited",
             "label": "LinearDiscriminantAnalysis",
             "policy": {
              "adjusted_exploration": 0.3767646798362867,
              "adjusted_score": -0.43649804534769193,
              "exploitation": -0.8149744822245578,
              "exploration": 1.3385661990458504,
              "overfitting": 0.99609375,
              "score": -0.4382098023882711
             },
             "reward": 0,
             "visits": 0
            },
            "(0, 4, None)": {
             "failure_message": "Unvisited",
             "label": "LinearDiscriminantAnalysis",
             "policy": {
              "adjusted_exploration": 1.0716673680124094,
              "adjusted_score": 0.19530625067102758,
              "exploitation": -0.8755952104760052,
              "exploration": 1.048147073968205,
              "overfitting": 0.99609375,
              "score": 0.19607215753640417
             },
             "reward": 0,
             "visits": 0
            }
           },
           "reward": 0,
           "visits": 0
          },
          "112": {
           "failure_message": "Unvisited",
           "label": "MultinomialNB",
           "policy": {
            "(0, 11, None)": {
             "failure_message": "Unvisited",
             "label": "MultinomialNB",
             "policy": {
              "adjusted_exploration": 0.3767646798362867,
              "adjusted_score": -0.5041360993328265,
              "exploitation": -0.8828777834802224,
              "exploration": 1.3385661990458504,
              "overfitting": 0.99609375,
              "score": -0.5061131036439357
             },
             "reward": 0,
             "visits": 0
            },
            "(0, 4, None)": {
             "failure_message": "Unvisited",
             "label": "MultinomialNB",
             "policy": {
              "adjusted_exploration": 1.0716673680124094,
              "adjusted_score": 0.2116059456287779,
              "exploitation": -0.8592315951458716,
              "exploration": 1.048147073968205,
              "overfitting": 0.99609375,
              "score": 0.2124357728665378
             },
             "reward": 0,
             "visits": 0
            }
           },
           "reward": 0,
           "visits": 0
          },
          "113": {
           "failure_message": "Unvisited",
           "label": "RandomForest",
           "policy": {
            "(0, 11, None)": {
             "failure_message": "Unvisited",
             "label": "RandomForest",
             "policy": {
              "adjusted_exploration": 0.3767646798362867,
              "adjusted_score": -0.42622372740361075,
              "exploitation": -0.8046598728375587,
              "exploration": 1.3385661990458504,
              "overfitting": 0.99609375,
              "score": -0.427895193001272
             },
             "reward": 0,
             "visits": 0
            },
            "(0, 4, None)": {
             "failure_message": "Unvisited",
             "label": "RandomForest",
             "policy": {
              "adjusted_exploration": 1.0716673680124094,
              "adjusted_score": 0.3113473641647089,
              "exploitation": -0.7590990337921526,
              "exploration": 1.048147073968205,
              "overfitting": 0.99609375,
              "score": 0.31256833422025676
             },
             "reward": 0,
             "visits": 0
            }
           },
           "reward": 0,
           "visits": 0
          },
          "114": {
           "failure_message": "Unvisited",
           "label": "SGDClassifier",
           "policy": {
            "(0, 11, None)": {
             "failure_message": "Unvisited",
             "label": "SGDClassifier",
             "policy": {
              "adjusted_exploration": 0.3767646798362867,
              "adjusted_score": -0.27658271389553535,
              "exploitation": -0.65443203182553,
              "exploration": 1.3385661990458504,
              "overfitting": 0.99609375,
              "score": -0.2776673519892433
             },
             "reward": 0,
             "visits": 0
            },
            "(0, 4, None)": {
             "failure_message": "Unvisited",
             "label": "SGDClassifier",
             "policy": {
              "adjusted_exploration": 1.0716673680124094,
              "adjusted_score": 0.193625110350429,
              "exploitation": -0.8772829435037434,
              "exploration": 1.048147073968205,
              "overfitting": 0.99609375,
              "score": 0.194384424508666
             },
             "reward": 0,
             "visits": 0
            }
           },
           "reward": 0,
           "visits": 0
          },
          "115": {
           "failure_message": "Unvisited",
           "label": "Imputation",
           "policy": {
            "(0, 11, None)": {
             "failure_message": "Unvisited",
             "label": "Imputation",
             "policy": {
              "adjusted_exploration": 0.3767646798362867,
              "adjusted_score": 0.3752929428056762,
              "exploitation": 0,
              "exploration": 1.3385661990458504,
              "overfitting": 0.99609375,
              "score": 0.3767646798362867
             },
             "reward": 0,
             "visits": 0
            },
            "(0, 4, None)": {
             "failure_message": "Unvisited",
             "label": "Imputation",
             "policy": {
              "adjusted_exploration": 1.0716673680124094,
              "adjusted_score": 1.0674811673561109,
              "exploitation": 0,
              "exploration": 1.048147073968205,
              "overfitting": 0.99609375,
              "score": 1.0716673680124094
             },
             "reward": 0,
             "visits": 0
            }
           },
           "reward": 0,
           "visits": 0
          },
          "116": {
           "failure_message": "Unvisited",
           "label": "KNNImputer",
           "policy": {
            "(0, 11, None)": {
             "failure_message": "Unvisited",
             "label": "KNNImputer",
             "policy": {
              "adjusted_exploration": 0.3767646798362867,
              "adjusted_score": 0.3752929428056762,
              "exploitation": 0,
              "exploration": 1.3385661990458504,
              "overfitting": 0.99609375,
              "score": 0.3767646798362867
             },
             "reward": 0,
             "visits": 0
            },
            "(0, 4, None)": {
             "failure_message": "Unvisited",
             "label": "KNNImputer",
             "policy": {
              "adjusted_exploration": 1.0716673680124094,
              "adjusted_score": 1.0674811673561109,
              "exploitation": 0,
              "exploration": 1.048147073968205,
              "overfitting": 0.99609375,
              "score": 1.0716673680124094
             },
             "reward": 0,
             "visits": 0
            }
           },
           "reward": 0,
           "visits": 0
          },
          "117": {
           "failure_message": "Unvisited",
           "label": "MaxAbsScaler",
           "policy": {
            "(0, 11, None)": {
             "failure_message": "Unvisited",
             "label": "MaxAbsScaler",
             "policy": {
              "adjusted_exploration": 0.3767646798362867,
              "adjusted_score": 0.3752929428056762,
              "exploitation": 0,
              "exploration": 1.3385661990458504,
              "overfitting": 0.99609375,
              "score": 0.3767646798362867
             },
             "reward": 0,
             "visits": 0
            },
            "(0, 4, None)": {
             "failure_message": "Unvisited",
             "label": "MaxAbsScaler",
             "policy": {
              "adjusted_exploration": 1.0716673680124094,
              "adjusted_score": 1.0674811673561109,
              "exploitation": 0,
              "exploration": 1.048147073968205,
              "overfitting": 0.99609375,
              "score": 1.0716673680124094
             },
             "reward": 0,
             "visits": 0
            }
           },
           "reward": 0,
           "visits": 0
          },
          "118": {
           "failure_message": "Unvisited",
           "label": "MinMaxScaler",
           "policy": {
            "(0, 11, None)": {
             "failure_message": "Unvisited",
             "label": "MinMaxScaler",
             "policy": {
              "adjusted_exploration": 0.3767646798362867,
              "adjusted_score": 0.3752929428056762,
              "exploitation": 0,
              "exploration": 1.3385661990458504,
              "overfitting": 0.99609375,
              "score": 0.3767646798362867
             },
             "reward": 0,
             "visits": 0
            },
            "(0, 4, None)": {
             "failure_message": "Unvisited",
             "label": "MinMaxScaler",
             "policy": {
              "adjusted_exploration": 1.0716673680124094,
              "adjusted_score": 1.0674811673561109,
              "exploitation": 0,
              "exploration": 1.048147073968205,
              "overfitting": 0.99609375,
              "score": 1.0716673680124094
             },
             "reward": 0,
             "visits": 0
            }
           },
           "reward": 0,
           "visits": 0
          },
          "119": {
           "failure_message": "Unvisited",
           "label": "Normalizer",
           "policy": {
            "(0, 11, None)": {
             "failure_message": "Unvisited",
             "label": "Normalizer",
             "policy": {
              "adjusted_exploration": 0.3767646798362867,
              "adjusted_score": 0.3752929428056762,
              "exploitation": 0,
              "exploration": 1.3385661990458504,
              "overfitting": 0.99609375,
              "score": 0.3767646798362867
             },
             "reward": 0,
             "visits": 0
            },
            "(0, 4, None)": {
             "failure_message": "Unvisited",
             "label": "Normalizer",
             "policy": {
              "adjusted_exploration": 1.0716673680124094,
              "adjusted_score": 1.0674811673561109,
              "exploitation": 0,
              "exploration": 1.048147073968205,
              "overfitting": 0.99609375,
              "score": 1.0716673680124094
             },
             "reward": 0,
             "visits": 0
            }
           },
           "reward": 0,
           "visits": 0
          },
          "12": {
           "failure_message": "Unvisited",
           "label": "MaxAbsScaler",
           "policy": {
            "(0, 0, None)": {
             "failure_message": "Unvisited",
             "label": "MaxAbsScaler",
             "policy": {
              "adjusted_exploration": 0,
              "adjusted_score": 0,
              "exploitation": 0,
              "exploration": 0,
              "overfitting": 0.998046875,
              "score": 0
             },
             "reward": 0,
             "visits": 0
            },
            "(0, 1, None)": {
             "failure_message": "Unvisited",
             "label": "MaxAbsScaler",
             "policy": {
              "adjusted_exploration": 2.537272482359039,
              "adjusted_score": 1.835357138385294,
              "exploitation": -0.6983236470297424,
              "exploration": 1.2686362411795196,
              "overfitting": 0.998046875,
              "score": 1.8389488353292966
             },
             "reward": 0,
             "visits": 0
            },
            "(0, 10, None)": {
             "failure_message": "Unvisited",
             "label": "MaxAbsScaler",
             "policy": {
              "adjusted_exploration": "-inf",
              "adjusted_score": "-inf",
              "exploitation": "-inf",
              "exploration": "-inf",
              "overfitting": 0.998046875,
              "score": "-inf"
             },
             "reward": 0,
             "visits": 0
            },
            "(0, 11, None)": {
             "failure_message": "Unvisited",
             "label": "MaxAbsScaler",
             "policy": {
              "adjusted_exploration": "-inf",
              "adjusted_score": "-inf",
              "exploitation": "-inf",
              "exploration": "-inf",
              "overfitting": 0.998046875,
              "score": "-inf"
             },
             "reward": 0,
             "visits": 0
            },
            "(0, 2, None)": {
             "failure_message": "Unvisited",
             "label": "MaxAbsScaler",
             "policy": {
              "adjusted_exploration": 2.884053773201766,
              "adjusted_score": 2.0666923391442302,
              "exploitation": -0.813317026348839,
              "exploration": 1.442026886600883,
              "overfitting": 0.998046875,
              "score": 2.070736746852927
             },
             "reward": 0,
             "visits": 0
            },
            "(0, 3, None)": {
             "failure_message": "Unvisited",
             "label": "MaxAbsScaler",
             "policy": {
              "adjusted_exploration": 3.1527173357521288,
              "adjusted_score": 2.360215499150659,
              "exploitation": -0.7878830195776915,
              "exploration": 1.5763586678760644,
              "overfitting": 0.998046875,
              "score": 2.3648343161744374
             },
             "reward": 0,
             "visits": 0
            },
            "(0, 4, None)": {
             "failure_message": "Unvisited",
             "label": "MaxAbsScaler",
             "policy": {
              "adjusted_exploration": "-inf",
              "adjusted_score": "-inf",
              "exploitation": "-inf",
              "exploration": "-inf",
              "overfitting": 0.998046875,
              "score": "-inf"
             },
             "reward": 0,
             "visits": 0
            },
            "(0, 5, None)": {
             "failure_message": "Unvisited",
             "label": "MaxAbsScaler",
             "policy": {
              "adjusted_exploration": 1.769657738554306,
              "adjusted_score": 0.7891854950202303,
              "exploitation": -0.9789278492189676,
              "exploration": 1.7308183826022854,
              "overfitting": 0.998046875,
              "score": 0.7907298893353384
             },
             "reward": 0,
             "visits": 0
            },
            "(0, 6, None)": {
             "failure_message": "Unvisited",
             "label": "MaxAbsScaler",
             "policy": {
              "adjusted_exploration": "-inf",
              "adjusted_score": "-inf",
              "exploitation": "-inf",
              "exploration": "-inf",
              "overfitting": 0.998046875,
              "score": "-inf"
             },
             "reward": 0,
             "visits": 0
            },
            "(0, 7, None)": {
             "failure_message": "Unvisited",
             "label": "MaxAbsScaler",
             "policy": {
              "adjusted_exploration": 1.018327257178704,
              "adjusted_score": 0.3367971013860734,
              "exploitation": -0.6808710616607597,
              "exploration": 1.815443985917585,
              "overfitting": 0.998046875,
              "score": 0.33745619551794437
             },
             "reward": 0,
             "visits": 0
            },
            "(0, 8, None)": {
             "failure_message": "Unvisited",
             "label": "MaxAbsScaler",
             "policy": {
              "adjusted_exploration": "-inf",
              "adjusted_score": "-inf",
              "exploitation": "-inf",
              "exploration": "-inf",
              "overfitting": 0.998046875,
              "score": "-inf"
             },
             "reward": 0,
             "visits": 0
            },
            "(0, 9, None)": {
             "failure_message": "Unvisited",
             "label": "MaxAbsScaler",
             "policy": {
              "adjusted_exploration": "-inf",
              "adjusted_score": "-inf",
              "exploitation": "-inf",
              "exploration": "-inf",
              "overfitting": 0.998046875,
              "score": "-inf"
             },
             "reward": 0,
             "visits": 0
            }
           },
           "reward": 0,
           "visits": 0
          },
          "120": {
           "failure_message": "Unvisited",
           "label": "QuantileTransformer",
           "policy": {
            "(0, 11, None)": {
             "failure_message": "Unvisited",
             "label": "QuantileTransformer",
             "policy": {
              "adjusted_exploration": 0.3767646798362867,
              "adjusted_score": 0.3752929428056762,
              "exploitation": 0,
              "exploration": 1.3385661990458504,
              "overfitting": 0.99609375,
              "score": 0.3767646798362867
             },
             "reward": 0,
             "visits": 0
            },
            "(0, 4, None)": {
             "failure_message": "Unvisited",
             "label": "QuantileTransformer",
             "policy": {
              "adjusted_exploration": 1.0716673680124094,
              "adjusted_score": 1.0674811673561109,
              "exploitation": 0,
              "exploration": 1.048147073968205,
              "overfitting": 0.99609375,
              "score": 1.0716673680124094
             },
             "reward": 0,
             "visits": 0
            }
           },
           "reward": 0,
           "visits": 0
          },
          "121": {
           "failure_message": "Unvisited",
           "label": "RobustScaler",
           "policy": {
            "(0, 11, None)": {
             "failure_message": "Unvisited",
             "label": "RobustScaler",
             "policy": {
              "adjusted_exploration": 0.3767646798362867,
              "adjusted_score": 0.3752929428056762,
              "exploitation": 0,
              "exploration": 1.3385661990458504,
              "overfitting": 0.99609375,
              "score": 0.3767646798362867
             },
             "reward": 0,
             "visits": 0
            },
            "(0, 4, None)": {
             "failure_message": "Unvisited",
             "label": "RobustScaler",
             "policy": {
              "adjusted_exploration": 1.0716673680124094,
              "adjusted_score": 1.0674811673561109,
              "exploitation": 0,
              "exploration": 1.048147073968205,
              "overfitting": 0.99609375,
              "score": 1.0716673680124094
             },
             "reward": 0,
             "visits": 0
            }
           },
           "reward": 0,
           "visits": 0
          },
          "122": {
           "failure_message": "Unvisited",
           "label": "StandardScaler",
           "policy": {
            "(0, 11, None)": {
             "failure_message": "Unvisited",
             "label": "StandardScaler",
             "policy": {
              "adjusted_exploration": 0.3767646798362867,
              "adjusted_score": 0.3752929428056762,
              "exploitation": 0,
              "exploration": 1.3385661990458504,
              "overfitting": 0.99609375,
              "score": 0.3767646798362867
             },
             "reward": 0,
             "visits": 0
            },
            "(0, 4, None)": {
             "failure_message": "Unvisited",
             "label": "StandardScaler",
             "policy": {
              "adjusted_exploration": 1.0716673680124094,
              "adjusted_score": 1.0674811673561109,
              "exploitation": 0,
              "exploration": 1.048147073968205,
              "overfitting": 0.99609375,
              "score": 1.0716673680124094
             },
             "reward": 0,
             "visits": 0
            }
           },
           "reward": 0,
           "visits": 0
          },
          "123": {
           "failure_message": "Unvisited",
           "label": "BernoulliRBM",
           "policy": {
            "(0, 11, None)": {
             "failure_message": "Unvisited",
             "label": "BernoulliRBM",
             "policy": {
              "adjusted_exploration": 0.3767646798362867,
              "adjusted_score": 0.3752929428056762,
              "exploitation": 0,
              "exploration": 1.3385661990458504,
              "overfitting": 0.99609375,
              "score": 0.3767646798362867
             },
             "reward": 0,
             "visits": 0
            },
            "(0, 4, None)": {
             "failure_message": "Unvisited",
             "label": "BernoulliRBM",
             "policy": {
              "adjusted_exploration": 1.0716673680124094,
              "adjusted_score": 1.0674811673561109,
              "exploitation": 0,
              "exploration": 1.048147073968205,
              "overfitting": 0.99609375,
              "score": 1.0716673680124094
             },
             "reward": 0,
             "visits": 0
            }
           },
           "reward": 0,
           "visits": 0
          },
          "124": {
           "failure_message": "Unvisited",
           "label": "Binarizer",
           "policy": {
            "(0, 11, None)": {
             "failure_message": "Unvisited",
             "label": "Binarizer",
             "policy": {
              "adjusted_exploration": 0.3767646798362867,
              "adjusted_score": 0.3752929428056762,
              "exploitation": 0,
              "exploration": 1.3385661990458504,
              "overfitting": 0.99609375,
              "score": 0.3767646798362867
             },
             "reward": 0,
             "visits": 0
            },
            "(0, 4, None)": {
             "failure_message": "Unvisited",
             "label": "Binarizer",
             "policy": {
              "adjusted_exploration": 1.0716673680124094,
              "adjusted_score": 1.0674811673561109,
              "exploitation": 0,
              "exploration": 1.048147073968205,
              "overfitting": 0.99609375,
              "score": 1.0716673680124094
             },
             "reward": 0,
             "visits": 0
            }
           },
           "reward": 0,
           "visits": 0
          },
          "125": {
           "failure_message": "Unvisited",
           "label": "FactorAnalysis",
           "policy": {
            "(0, 11, None)": {
             "failure_message": "Unvisited",
             "label": "FactorAnalysis",
             "policy": {
              "adjusted_exploration": 0.3767646798362867,
              "adjusted_score": 0.3752929428056762,
              "exploitation": 0,
              "exploration": 1.3385661990458504,
              "overfitting": 0.99609375,
              "score": 0.3767646798362867
             },
             "reward": 0,
             "visits": 0
            },
            "(0, 4, None)": {
             "failure_message": "Unvisited",
             "label": "FactorAnalysis",
             "policy": {
              "adjusted_exploration": 1.0716673680124094,
              "adjusted_score": 1.0674811673561109,
              "exploitation": 0,
              "exploration": 1.048147073968205,
              "overfitting": 0.99609375,
              "score": 1.0716673680124094
             },
             "reward": 0,
             "visits": 0
            }
           },
           "reward": 0,
           "visits": 0
          },
          "126": {
           "failure_message": "Unvisited",
           "label": "FastICA",
           "policy": {
            "(0, 11, None)": {
             "failure_message": "Unvisited",
             "label": "FastICA",
             "policy": {
              "adjusted_exploration": 0.3767646798362867,
              "adjusted_score": 0.3752929428056762,
              "exploitation": 0,
              "exploration": 1.3385661990458504,
              "overfitting": 0.99609375,
              "score": 0.3767646798362867
             },
             "reward": 0,
             "visits": 0
            },
            "(0, 4, None)": {
             "failure_message": "Unvisited",
             "label": "FastICA",
             "policy": {
              "adjusted_exploration": 1.0716673680124094,
              "adjusted_score": 1.0674811673561109,
              "exploitation": 0,
              "exploration": 1.048147073968205,
              "overfitting": 0.99609375,
              "score": 1.0716673680124094
             },
             "reward": 0,
             "visits": 0
            }
           },
           "reward": 0,
           "visits": 0
          },
          "127": {
           "failure_message": "Unvisited",
           "label": "FeatureAgglomeration",
           "policy": {
            "(0, 11, None)": {
             "failure_message": "Unvisited",
             "label": "FeatureAgglomeration",
             "policy": {
              "adjusted_exploration": 0.3767646798362867,
              "adjusted_score": 0.3752929428056762,
              "exploitation": 0,
              "exploration": 1.3385661990458504,
              "overfitting": 0.99609375,
              "score": 0.3767646798362867
             },
             "reward": 0,
             "visits": 0
            },
            "(0, 4, None)": {
             "failure_message": "Unvisited",
             "label": "FeatureAgglomeration",
             "policy": {
              "adjusted_exploration": 1.0716673680124094,
              "adjusted_score": 1.0674811673561109,
              "exploitation": 0,
              "exploration": 1.048147073968205,
              "overfitting": 0.99609375,
              "score": 1.0716673680124094
             },
             "reward": 0,
             "visits": 0
            }
           },
           "reward": 0,
           "visits": 0
          },
          "128": {
           "failure_message": "Unvisited",
           "label": "GenericUnivariateSelect",
           "policy": {
            "(0, 11, None)": {
             "failure_message": "Unvisited",
             "label": "GenericUnivariateSelect",
             "policy": {
              "adjusted_exploration": 0.3767646798362867,
              "adjusted_score": 0.3752929428056762,
              "exploitation": 0,
              "exploration": 1.3385661990458504,
              "overfitting": 0.99609375,
              "score": 0.3767646798362867
             },
             "reward": 0,
             "visits": 0
            },
            "(0, 4, None)": {
             "failure_message": "Unvisited",
             "label": "GenericUnivariateSelect",
             "policy": {
              "adjusted_exploration": 1.0716673680124094,
              "adjusted_score": 1.0674811673561109,
              "exploitation": 0,
              "exploration": 1.048147073968205,
              "overfitting": 0.99609375,
              "score": 1.0716673680124094
             },
             "reward": 0,
             "visits": 0
            }
           },
           "reward": 0,
           "visits": 0
          },
          "129": {
           "failure_message": "Unvisited",
           "label": "KBinsDiscretizer",
           "policy": {
            "(0, 11, None)": {
             "failure_message": "Unvisited",
             "label": "KBinsDiscretizer",
             "policy": {
              "adjusted_exploration": 0.3767646798362867,
              "adjusted_score": 0.3752929428056762,
              "exploitation": 0,
              "exploration": 1.3385661990458504,
              "overfitting": 0.99609375,
              "score": 0.3767646798362867
             },
             "reward": 0,
             "visits": 0
            },
            "(0, 4, None)": {
             "failure_message": "Unvisited",
             "label": "KBinsDiscretizer",
             "policy": {
              "adjusted_exploration": 1.0716673680124094,
              "adjusted_score": 1.0674811673561109,
              "exploitation": 0,
              "exploration": 1.048147073968205,
              "overfitting": 0.99609375,
              "score": 1.0716673680124094
             },
             "reward": 0,
             "visits": 0
            }
           },
           "reward": 0,
           "visits": 0
          },
          "13": {
           "failure_message": "Unvisited",
           "label": "MinMaxScaler",
           "policy": {
            "(0, 0, None)": {
             "failure_message": "Unvisited",
             "label": "MinMaxScaler",
             "policy": {
              "adjusted_exploration": 0,
              "adjusted_score": 0,
              "exploitation": 0,
              "exploration": 0,
              "overfitting": 0.998046875,
              "score": 0
             },
             "reward": 0,
             "visits": 0
            },
            "(0, 1, None)": {
             "failure_message": "Unvisited",
             "label": "MinMaxScaler",
             "policy": {
              "adjusted_exploration": 2.537272482359039,
              "adjusted_score": 1.8941382145629861,
              "exploitation": -0.6394275393918202,
              "exploration": 1.2686362411795196,
              "overfitting": 0.998046875,
              "score": 1.897844942967219
             },
             "reward": 0,
             "visits": 0
            },
            "(0, 10, None)": {
             "failure_message": "Unvisited",
             "label": "MinMaxScaler",
             "policy": {
              "adjusted_exploration": "-inf",
              "adjusted_score": "-inf",
              "exploitation": "-inf",
              "exploration": "-inf",
              "overfitting": 0.998046875,
              "score": "-inf"
             },
             "reward": 0,
             "visits": 0
            },
            "(0, 11, None)": {
             "failure_message": "Unvisited",
             "label": "MinMaxScaler",
             "policy": {
              "adjusted_exploration": "-inf",
              "adjusted_score": "-inf",
              "exploitation": "-inf",
              "exploration": "-inf",
              "overfitting": 0.998046875,
              "score": "-inf"
             },
             "reward": 0,
             "visits": 0
            },
            "(0, 2, None)": {
             "failure_message": "Unvisited",
             "label": "MinMaxScaler",
             "policy": {
              "adjusted_exploration": 2.884053773201766,
              "adjusted_score": 2.0443868563448926,
              "exploitation": -0.8356661597994468,
              "exploration": 1.442026886600883,
              "overfitting": 0.998046875,
              "score": 2.048387613402319
             },
             "reward": 0,
             "visits": 0
            },
            "(0, 3, None)": {
             "failure_message": "Unvisited",
             "label": "MinMaxScaler",
             "policy": {
              "adjusted_exploration": 3.1527173357521288,
              "adjusted_score": 2.494329167824042,
              "exploitation": -0.653506897540956,
              "exploration": 1.5763586678760644,
              "overfitting": 0.998046875,
              "score": 2.499210438211173
             },
             "reward": 0,
             "visits": 0
            },
            "(0, 4, None)": {
             "failure_message": "Unvisited",
             "label": "MinMaxScaler",
             "policy": {
              "adjusted_exploration": "-inf",
              "adjusted_score": "-inf",
              "exploitation": "-inf",
              "exploration": "-inf",
              "overfitting": 0.998046875,
              "score": "-inf"
             },
             "reward": 0,
             "visits": 0
            },
            "(0, 5, None)": {
             "failure_message": "Unvisited",
             "label": "MinMaxScaler",
             "policy": {
              "adjusted_exploration": 1.769657738554306,
              "adjusted_score": 0.9083635478277153,
              "exploitation": -0.8595165712592174,
              "exploration": 1.7308183826022854,
              "overfitting": 0.998046875,
              "score": 0.9101411672950885
             },
             "reward": 0,
             "visits": 0
            },
            "(0, 6, None)": {
             "failure_message": "Unvisited",
             "label": "MinMaxScaler",
             "policy": {
              "adjusted_exploration": "-inf",
              "adjusted_score": "-inf",
              "exploitation": "-inf",
              "exploration": "-inf",
              "overfitting": 0.998046875,
              "score": "-inf"
             },
             "reward": 0,
             "visits": 0
            },
            "(0, 7, None)": {
             "failure_message": "Unvisited",
             "label": "MinMaxScaler",
             "policy": {
              "adjusted_exploration": 1.018327257178704,
              "adjusted_score": 0.2825609136574715,
              "exploitation": -0.7352133867430379,
              "exploration": 1.815443985917585,
              "overfitting": 0.998046875,
              "score": 0.28311387043566616
             },
             "reward": 0,
             "visits": 0
            },
            "(0, 8, None)": {
             "failure_message": "Unvisited",
             "label": "MinMaxScaler",
             "policy": {
              "adjusted_exploration": "-inf",
              "adjusted_score": "-inf",
              "exploitation": "-inf",
              "exploration": "-inf",
              "overfitting": 0.998046875,
              "score": "-inf"
             },
             "reward": 0,
             "visits": 0
            },
            "(0, 9, None)": {
             "failure_message": "Unvisited",
             "label": "MinMaxScaler",
             "policy": {
              "adjusted_exploration": "-inf",
              "adjusted_score": "-inf",
              "exploitation": "-inf",
              "exploration": "-inf",
              "overfitting": 0.998046875,
              "score": "-inf"
             },
             "reward": 0,
             "visits": 0
            }
           },
           "reward": 0,
           "visits": 0
          },
          "130": {
           "failure_message": "Unvisited",
           "label": "KernelPCA",
           "policy": {
            "(0, 11, None)": {
             "failure_message": "Unvisited",
             "label": "KernelPCA",
             "policy": {
              "adjusted_exploration": 0.3767646798362867,
              "adjusted_score": 0.3752929428056762,
              "exploitation": 0,
              "exploration": 1.3385661990458504,
              "overfitting": 0.99609375,
              "score": 0.3767646798362867
             },
             "reward": 0,
             "visits": 0
            },
            "(0, 4, None)": {
             "failure_message": "Unvisited",
             "label": "KernelPCA",
             "policy": {
              "adjusted_exploration": 1.0716673680124094,
              "adjusted_score": 1.0674811673561109,
              "exploitation": 0,
              "exploration": 1.048147073968205,
              "overfitting": 0.99609375,
              "score": 1.0716673680124094
             },
             "reward": 0,
             "visits": 0
            }
           },
           "reward": 0,
           "visits": 0
          },
          "131": {
           "failure_message": "Unvisited",
           "label": "MissingIndicator",
           "policy": {
            "(0, 11, None)": {
             "failure_message": "Unvisited",
             "label": "MissingIndicator",
             "policy": {
              "adjusted_exploration": 0.3767646798362867,
              "adjusted_score": 0.3752929428056762,
              "exploitation": 0,
              "exploration": 1.3385661990458504,
              "overfitting": 0.99609375,
              "score": 0.3767646798362867
             },
             "reward": 0,
             "visits": 0
            },
            "(0, 4, None)": {
             "failure_message": "Unvisited",
             "label": "MissingIndicator",
             "policy": {
              "adjusted_exploration": 1.0716673680124094,
              "adjusted_score": 1.0674811673561109,
              "exploitation": 0,
              "exploration": 1.048147073968205,
              "overfitting": 0.99609375,
              "score": 1.0716673680124094
             },
             "reward": 0,
             "visits": 0
            }
           },
           "reward": 0,
           "visits": 0
          },
          "132": {
           "failure_message": "Unvisited",
           "label": "MultiColumnLabelEncoder",
           "policy": {
            "(0, 11, None)": {
             "failure_message": "Unvisited",
             "label": "MultiColumnLabelEncoder",
             "policy": {
              "adjusted_exploration": 0.3767646798362867,
              "adjusted_score": 0.3752929428056762,
              "exploitation": 0,
              "exploration": 1.3385661990458504,
              "overfitting": 0.99609375,
              "score": 0.3767646798362867
             },
             "reward": 0,
             "visits": 0
            },
            "(0, 4, None)": {
             "failure_message": "Unvisited",
             "label": "MultiColumnLabelEncoder",
             "policy": {
              "adjusted_exploration": 1.0716673680124094,
              "adjusted_score": 1.0674811673561109,
              "exploitation": 0,
              "exploration": 1.048147073968205,
              "overfitting": 0.99609375,
              "score": 1.0716673680124094
             },
             "reward": 0,
             "visits": 0
            }
           },
           "reward": 0,
           "visits": 0
          },
          "133": {
           "failure_message": "Unvisited",
           "label": "OneHotEncoder",
           "policy": {
            "(0, 11, None)": {
             "failure_message": "Unvisited",
             "label": "OneHotEncoder",
             "policy": {
              "adjusted_exploration": 0.3767646798362867,
              "adjusted_score": 0.3752929428056762,
              "exploitation": 0,
              "exploration": 1.3385661990458504,
              "overfitting": 0.99609375,
              "score": 0.3767646798362867
             },
             "reward": 0,
             "visits": 0
            },
            "(0, 4, None)": {
             "failure_message": "Unvisited",
             "label": "OneHotEncoder",
             "policy": {
              "adjusted_exploration": 1.0716673680124094,
              "adjusted_score": 1.0674811673561109,
              "exploitation": 0,
              "exploration": 1.048147073968205,
              "overfitting": 0.99609375,
              "score": 1.0716673680124094
             },
             "reward": 0,
             "visits": 0
            }
           },
           "reward": 0,
           "visits": 0
          },
          "134": {
           "failure_message": "Unvisited",
           "label": "PCA",
           "policy": {
            "(0, 11, None)": {
             "failure_message": "Unvisited",
             "label": "PCA",
             "policy": {
              "adjusted_exploration": 0.3767646798362867,
              "adjusted_score": 0.3752929428056762,
              "exploitation": 0,
              "exploration": 1.3385661990458504,
              "overfitting": 0.99609375,
              "score": 0.3767646798362867
             },
             "reward": 0,
             "visits": 0
            },
            "(0, 4, None)": {
             "failure_message": "Unvisited",
             "label": "PCA",
             "policy": {
              "adjusted_exploration": 1.0716673680124094,
              "adjusted_score": 1.0674811673561109,
              "exploitation": 0,
              "exploration": 1.048147073968205,
              "overfitting": 0.99609375,
              "score": 1.0716673680124094
             },
             "reward": 0,
             "visits": 0
            }
           },
           "reward": 0,
           "visits": 0
          },
          "135": {
           "failure_message": "Unvisited",
           "label": "PolynomialFeatures",
           "policy": {
            "(0, 11, None)": {
             "failure_message": "Unvisited",
             "label": "PolynomialFeatures",
             "policy": {
              "adjusted_exploration": 0.3767646798362867,
              "adjusted_score": 0.3752929428056762,
              "exploitation": 0,
              "exploration": 1.3385661990458504,
              "overfitting": 0.99609375,
              "score": 0.3767646798362867
             },
             "reward": 0,
             "visits": 0
            },
            "(0, 4, None)": {
             "failure_message": "Unvisited",
             "label": "PolynomialFeatures",
             "policy": {
              "adjusted_exploration": 1.0716673680124094,
              "adjusted_score": 1.0674811673561109,
              "exploitation": 0,
              "exploration": 1.048147073968205,
              "overfitting": 0.99609375,
              "score": 1.0716673680124094
             },
             "reward": 0,
             "visits": 0
            }
           },
           "reward": 0,
           "visits": 0
          },
          "136": {
           "failure_message": "Unvisited",
           "label": "RandomTreesEmbedding",
           "policy": {
            "(0, 11, None)": {
             "failure_message": "Unvisited",
             "label": "RandomTreesEmbedding",
             "policy": {
              "adjusted_exploration": 0.3767646798362867,
              "adjusted_score": 0.3752929428056762,
              "exploitation": 0,
              "exploration": 1.3385661990458504,
              "overfitting": 0.99609375,
              "score": 0.3767646798362867
             },
             "reward": 0,
             "visits": 0
            },
            "(0, 4, None)": {
             "failure_message": "Unvisited",
             "label": "RandomTreesEmbedding",
             "policy": {
              "adjusted_exploration": 1.0716673680124094,
              "adjusted_score": 1.0674811673561109,
              "exploitation": 0,
              "exploration": 1.048147073968205,
              "overfitting": 0.99609375,
              "score": 1.0716673680124094
             },
             "reward": 0,
             "visits": 0
            }
           },
           "reward": 0,
           "visits": 0
          },
          "137": {
           "failure_message": "Unvisited",
           "label": "SelectKBest",
           "policy": {
            "(0, 11, None)": {
             "failure_message": "Unvisited",
             "label": "SelectKBest",
             "policy": {
              "adjusted_exploration": 0.3767646798362867,
              "adjusted_score": 0.3752929428056762,
              "exploitation": 0,
              "exploration": 1.3385661990458504,
              "overfitting": 0.99609375,
              "score": 0.3767646798362867
             },
             "reward": 0,
             "visits": 0
            },
            "(0, 4, None)": {
             "failure_message": "Unvisited",
             "label": "SelectKBest",
             "policy": {
              "adjusted_exploration": 1.0716673680124094,
              "adjusted_score": 1.0674811673561109,
              "exploitation": 0,
              "exploration": 1.048147073968205,
              "overfitting": 0.99609375,
              "score": 1.0716673680124094
             },
             "reward": 0,
             "visits": 0
            }
           },
           "reward": 0,
           "visits": 0
          },
          "138": {
           "failure_message": "Unvisited",
           "label": "SelectPercentileClassification",
           "policy": {
            "(0, 11, None)": {
             "failure_message": "Unvisited",
             "label": "SelectPercentileClassification",
             "policy": {
              "adjusted_exploration": 0.3767646798362867,
              "adjusted_score": 0.3752929428056762,
              "exploitation": 0,
              "exploration": 1.3385661990458504,
              "overfitting": 0.99609375,
              "score": 0.3767646798362867
             },
             "reward": 0,
             "visits": 0
            },
            "(0, 4, None)": {
             "failure_message": "Unvisited",
             "label": "SelectPercentileClassification",
             "policy": {
              "adjusted_exploration": 1.0716673680124094,
              "adjusted_score": 1.0674811673561109,
              "exploitation": 0,
              "exploration": 1.048147073968205,
              "overfitting": 0.99609375,
              "score": 1.0716673680124094
             },
             "reward": 0,
             "visits": 0
            }
           },
           "reward": 0,
           "visits": 0
          },
          "139": {
           "failure_message": "Unvisited",
           "label": "TruncatedSVD",
           "policy": {
            "(0, 11, None)": {
             "failure_message": "Unvisited",
             "label": "TruncatedSVD",
             "policy": {
              "adjusted_exploration": 0.3767646798362867,
              "adjusted_score": 0.3752929428056762,
              "exploitation": 0,
              "exploration": 1.3385661990458504,
              "overfitting": 0.99609375,
              "score": 0.3767646798362867
             },
             "reward": 0,
             "visits": 0
            },
            "(0, 4, None)": {
             "failure_message": "Unvisited",
             "label": "TruncatedSVD",
             "policy": {
              "adjusted_exploration": 1.0716673680124094,
              "adjusted_score": 1.0674811673561109,
              "exploitation": 0,
              "exploration": 1.048147073968205,
              "overfitting": 0.99609375,
              "score": 1.0716673680124094
             },
             "reward": 0,
             "visits": 0
            }
           },
           "reward": 0,
           "visits": 0
          },
          "14": {
           "failure_message": null,
           "label": "Normalizer",
           "policy": {
            "(0, 0, None)": {
             "failure_message": "Unvisited",
             "label": "Normalizer",
             "policy": {
              "adjusted_exploration": 0,
              "adjusted_score": 0,
              "exploitation": 0,
              "exploration": 0,
              "overfitting": 0.998046875,
              "score": 0
             },
             "reward": 0,
             "visits": 0
            },
            "(0, 1, None)": {
             "failure_message": "Unvisited",
             "label": "Normalizer",
             "policy": {
              "adjusted_exploration": 2.537272482359039,
              "adjusted_score": 1.6708003331203614,
              "exploitation": -0.8632024812677964,
              "exploration": 1.2686362411795196,
              "overfitting": 0.998046875,
              "score": 1.6740700010912426
             },
             "reward": 0,
             "visits": 0
            },
            "(0, 10, None)": {
             "failure_message": null,
             "label": "Normalizer",
             "policy": {
              "adjusted_exploration": 0.32637795955095256,
              "adjusted_score": 1.1528399226342363,
              "exploitation": 0.828718009898615,
              "exploration": 0.7757703604207696,
              "overfitting": 0.998046875,
              "score": 1.1550959694495675
             },
             "reward": -4.97230805939169,
             "visits": 6
            },
            "(0, 11, None)": {
             "failure_message": null,
             "label": "Normalizer",
             "policy": {
              "adjusted_exploration": 0.3244794654536048,
              "adjusted_score": 1.1509451365331724,
              "exploitation": 0.828718009898615,
              "exploration": 0.7867202029845499,
              "overfitting": 0.998046875,
              "score": 1.1531974753522198
             },
             "reward": -4.97230805939169,
             "visits": 6
            },
            "(0, 2, None)": {
             "failure_message": "Unvisited",
             "label": "Normalizer",
             "policy": {
              "adjusted_exploration": 2.884053773201766,
              "adjusted_score": 1.7958262336222057,
              "exploitation": -1.084713202527462,
              "exploration": 1.442026886600883,
              "overfitting": 0.998046875,
              "score": 1.799340570674304
             },
             "reward": 0,
             "visits": 0
            },
            "(0, 3, None)": {
             "failure_message": null,
             "label": "Normalizer",
             "policy": {
              "adjusted_exploration": 1.7880698244376516,
              "adjusted_score": 2.6345738191399484,
              "exploitation": 0.851659716461866,
              "exploration": 0.8940349122188258,
              "overfitting": 0.998046875,
              "score": 2.6397295408995176
             },
             "reward": -2.554979149385598,
             "visits": 3
            },
            "(0, 4, None)": {
             "failure_message": null,
             "label": "Normalizer",
             "policy": {
              "adjusted_exploration": 1.900193043211561,
              "adjusted_score": 2.7464780472521895,
              "exploitation": 0.851659716461866,
              "exploration": 0.9500965216057805,
              "overfitting": 0.998046875,
              "score": 2.751852759673427
             },
             "reward": -2.554979149385598,
             "visits": 3
            },
            "(0, 5, None)": {
             "failure_message": null,
             "label": "Normalizer",
             "policy": {
              "adjusted_exploration": 1.0035846397320058,
              "adjusted_score": 1.8516208320606806,
              "exploitation": 0.851659716461866,
              "exploration": 0.981558583392787,
              "overfitting": 0.998046875,
              "score": 1.8552443561938718
             },
             "reward": -2.554979149385598,
             "visits": 3
            },
            "(0, 6, None)": {
             "failure_message": null,
             "label": "Normalizer",
             "policy": {
              "adjusted_exploration": 1.0452740172105615,
              "adjusted_score": 1.8932287849738485,
              "exploitation": 0.851659716461866,
              "exploration": 1.0223329881418528,
              "overfitting": 0.998046875,
              "score": 1.8969337336724275
             },
             "reward": -2.554979149385598,
             "visits": 3
            },
            "(0, 7, None)": {
             "failure_message": null,
             "label": "Normalizer",
             "policy": {
              "adjusted_exploration": 0.5879315160552582,
              "adjusted_score": 1.4367795308911142,
              "exploitation": 0.851659716461866,
              "exploration": 1.048147073968205,
              "overfitting": 0.998046875,
              "score": 1.4395912325171243
             },
             "reward": -2.554979149385598,
             "visits": 3
            },
            "(0, 8, None)": {
             "failure_message": null,
             "label": "Normalizer",
             "policy": {
              "adjusted_exploration": 0.5972550156215761,
              "adjusted_score": 1.4460848204973415,
              "exploitation": 0.851659716461866,
              "exploration": 1.064768735714029,
              "overfitting": 0.998046875,
              "score": 1.4489147320834421
             },
             "reward": -2.554979149385598,
             "visits": 3
            },
            "(0, 9, None)": {
             "failure_message": null,
             "label": "Normalizer",
             "policy": {
              "adjusted_exploration": 0.500151255462561,
              "adjusted_score": 1.3491707161198871,
              "exploitation": 0.851659716461866,
              "exploration": 1.0841833369893614,
              "overfitting": 0.998046875,
              "score": 1.3518109719244271
             },
             "reward": -2.554979149385598,
             "visits": 3
            }
           },
           "reward": -4.97230805939169,
           "visits": 6
          },
          "140": {
           "failure_message": "Unvisited",
           "label": "VarianceThreshold",
           "policy": {
            "(0, 11, None)": {
             "failure_message": "Unvisited",
             "label": "VarianceThreshold",
             "policy": {
              "adjusted_exploration": 0.3767646798362867,
              "adjusted_score": 0.3752929428056762,
              "exploitation": 0,
              "exploration": 1.3385661990458504,
              "overfitting": 0.99609375,
              "score": 0.3767646798362867
             },
             "reward": 0,
             "visits": 0
            },
            "(0, 4, None)": {
             "failure_message": "Unvisited",
             "label": "VarianceThreshold",
             "policy": {
              "adjusted_exploration": 1.0716673680124094,
              "adjusted_score": 1.0674811673561109,
              "exploitation": 0,
              "exploration": 1.048147073968205,
              "overfitting": 0.99609375,
              "score": 1.0716673680124094
             },
             "reward": 0,
             "visits": 0
            }
           },
           "reward": 0,
           "visits": 0
          },
          "141": {
           "failure_message": "Unvisited",
           "label": "AdaBoostingClassifier",
           "policy": {
            "(0, 5, None)": {
             "failure_message": "Unvisited",
             "label": "AdaBoostingClassifier",
             "policy": {
              "adjusted_exploration": 0,
              "adjusted_score": -0.7057607067262729,
              "exploitation": -0.7085283957722582,
              "exploration": 0,
              "overfitting": 0.99609375,
              "score": -0.7085283957722582
             },
             "reward": 0,
             "visits": 0
            }
           },
           "reward": 0,
           "visits": 0
          },
          "142": {
           "failure_message": null,
           "label": "BernoulliNB",
           "policy": {
            "(0, 5, None)": {
             "failure_message": "Unvisited",
             "label": "BernoulliNB",
             "policy": {
              "adjusted_exploration": 0,
              "adjusted_score": -0.7989630881874511,
              "exploitation": -0.8020962767685783,
              "exploration": 0,
              "overfitting": 0.99609375,
              "score": -0.8020962767685783
             },
             "reward": 0,
             "visits": 0
            }
           },
           "reward": -2.121031746031746,
           "visits": 3
          },
          "143": {
           "failure_message": "Unvisited",
           "label": "DecisionTree",
           "policy": {
            "(0, 5, None)": {
             "failure_message": "Unvisited",
             "label": "DecisionTree",
             "policy": {
              "adjusted_exploration": 0,
              "adjusted_score": -0.5553798402460007,
              "exploitation": -0.5575578004038282,
              "exploration": 0,
              "overfitting": 0.99609375,
              "score": -0.5575578004038282
             },
             "reward": 0,
             "visits": 0
            }
           },
           "reward": 0,
           "visits": 0
          },
          "144": {
           "failure_message": "Unvisited",
           "label": "GradientBoostingClassifier",
           "policy": {
            "(0, 5, None)": {
             "failure_message": "Unvisited",
             "label": "GradientBoostingClassifier",
             "policy": {
              "adjusted_exploration": 0,
              "adjusted_score": -0.726199973124627,
              "exploitation": -0.7290478161564883,
              "exploration": 0,
              "overfitting": 0.99609375,
              "score": -0.7290478161564883
             },
             "reward": 0,
             "visits": 0
            }
           },
           "reward": 0,
           "visits": 0
          },
          "145": {
           "failure_message": "Unvisited",
           "label": "LibSVM_SVC",
           "policy": {
            "(0, 5, None)": {
             "failure_message": "Unvisited",
             "label": "LibSVM_SVC",
             "policy": {
              "adjusted_exploration": 0,
              "adjusted_score": -0.746418333221559,
              "exploitation": -0.749345463940075,
              "exploration": 0,
              "overfitting": 0.99609375,
              "score": -0.749345463940075
             },
             "reward": 0,
             "visits": 0
            }
           },
           "reward": 0,
           "visits": 0
          },
          "146": {
           "failure_message": "Unvisited",
           "label": "LinearDiscriminantAnalysis",
           "policy": {
            "(0, 5, None)": {
             "failure_message": "Unvisited",
             "label": "LinearDiscriminantAnalysis",
             "policy": {
              "adjusted_exploration": 0,
              "adjusted_score": -0.6012958736611397,
              "exploitation": -0.6036538966951049,
              "exploration": 0,
              "overfitting": 0.99609375,
              "score": -0.6036538966951049
             },
             "reward": 0,
             "visits": 0
            }
           },
           "reward": 0,
           "visits": 0
          },
          "147": {
           "failure_message": "Unvisited",
           "label": "MultinomialNB",
           "policy": {
            "(0, 5, None)": {
             "failure_message": "Unvisited",
             "label": "MultinomialNB",
             "policy": {
              "adjusted_exploration": 0,
              "adjusted_score": -0.5971782167949975,
              "exploitation": -0.5995200921549779,
              "exploration": 0,
              "overfitting": 0.99609375,
              "score": -0.5995200921549779
             },
             "reward": 0,
             "visits": 0
            }
           },
           "reward": 0,
           "visits": 0
          },
          "148": {
           "failure_message": "Unvisited",
           "label": "RandomForest",
           "policy": {
            "(0, 5, None)": {
             "failure_message": "Unvisited",
             "label": "RandomForest",
             "policy": {
              "adjusted_exploration": 0,
              "adjusted_score": -0.5769851198616635,
              "exploitation": -0.579247806606219,
              "exploration": 0,
              "overfitting": 0.99609375,
              "score": -0.579247806606219
             },
             "reward": 0,
             "visits": 0
            }
           },
           "reward": 0,
           "visits": 0
          },
          "149": {
           "failure_message": "Unvisited",
           "label": "SGDClassifier",
           "policy": {
            "(0, 5, None)": {
             "failure_message": "Unvisited",
             "label": "SGDClassifier",
             "policy": {
              "adjusted_exploration": 0,
              "adjusted_score": -0.7614174692079483,
              "exploitation": -0.7644034200675873,
              "exploration": 0,
              "overfitting": 0.99609375,
              "score": -0.7644034200675873
             },
             "reward": 0,
             "visits": 0
            }
           },
           "reward": 0,
           "visits": 0
          },
          "15": {
           "failure_message": "Unvisited",
           "label": "QuantileTransformer",
           "policy": {
            "(0, 0, None)": {
             "failure_message": "Unvisited",
             "label": "QuantileTransformer",
             "policy": {
              "adjusted_exploration": 0,
              "adjusted_score": 0,
              "exploitation": 0,
              "exploration": 0,
              "overfitting": 0.998046875,
              "score": 0
             },
             "reward": 0,
             "visits": 0
            },
            "(0, 1, None)": {
             "failure_message": "Unvisited",
             "label": "QuantileTransformer",
             "policy": {
              "adjusted_exploration": 2.537272482359039,
              "adjusted_score": 1.7353522131339545,
              "exploitation": -0.7985242766357814,
              "exploration": 1.2686362411795196,
              "overfitting": 0.998046875,
              "score": 1.7387482057232577
             },
             "reward": 0,
             "visits": 0
            },
            "(0, 10, None)": {
             "failure_message": "Unvisited",
             "label": "QuantileTransformer",
             "policy": {
              "adjusted_exploration": "-inf",
              "adjusted_score": "-inf",
              "exploitation": "-inf",
              "exploration": "-inf",
              "overfitting": 0.998046875,
              "score": "-inf"
             },
             "reward": 0,
             "visits": 0
            },
            "(0, 11, None)": {
             "failure_message": "Unvisited",
             "label": "QuantileTransformer",
             "policy": {
              "adjusted_exploration": "-inf",
              "adjusted_score": "-inf",
              "exploitation": "-inf",
              "exploration": "-inf",
              "overfitting": 0.998046875,
              "score": "-inf"
             },
             "reward": 0,
             "visits": 0
            },
            "(0, 2, None)": {
             "failure_message": "Unvisited",
             "label": "QuantileTransformer",
             "policy": {
              "adjusted_exploration": 2.884053773201766,
              "adjusted_score": 2.1943477281454684,
              "exploitation": -0.6854118224963259,
              "exploration": 1.442026886600883,
              "overfitting": 0.998046875,
              "score": 2.19864195070544
             },
             "reward": 0,
             "visits": 0
            },
            "(0, 3, None)": {
             "failure_message": "Unvisited",
             "label": "QuantileTransformer",
             "policy": {
              "adjusted_exploration": 3.1527173357521288,
              "adjusted_score": 2.4158922121738304,
              "exploitation": -0.732097350168956,
              "exploration": 1.5763586678760644,
              "overfitting": 0.998046875,
              "score": 2.4206199855831727
             },
             "reward": 0,
             "visits": 0
            },
            "(0, 4, None)": {
             "failure_message": "Unvisited",
             "label": "QuantileTransformer",
             "policy": {
              "adjusted_exploration": "-inf",
              "adjusted_score": "-inf",
              "exploitation": "-inf",
              "exploration": "-inf",
              "overfitting": 0.998046875,
              "score": "-inf"
             },
             "reward": 0,
             "visits": 0
            },
            "(0, 5, None)": {
             "failure_message": "Unvisited",
             "label": "QuantileTransformer",
             "policy": {
              "adjusted_exploration": 1.769657738554306,
              "adjusted_score": 0.9107958273403307,
              "exploitation": -0.8570795319041116,
              "exploration": 1.7308183826022854,
              "overfitting": 0.998046875,
              "score": 0.9125782066501944
             },
             "reward": 0,
             "visits": 0
            },
            "(0, 6, None)": {
             "failure_message": "Unvisited",
             "label": "QuantileTransformer",
             "policy": {
              "adjusted_exploration": "-inf",
              "adjusted_score": "-inf",
              "exploitation": "-inf",
              "exploration": "-inf",
              "overfitting": 0.998046875,
              "score": "-inf"
             },
             "reward": 0,
             "visits": 0
            },
            "(0, 7, None)": {
             "failure_message": "Unvisited",
             "label": "QuantileTransformer",
             "policy": {
              "adjusted_exploration": 1.018327257178704,
              "adjusted_score": 0.1467931659797117,
              "exploitation": -0.8712468247293648,
              "exploration": 1.815443985917585,
              "overfitting": 0.998046875,
              "score": 0.14708043244933933
             },
             "reward": 0,
             "visits": 0
            },
            "(0, 8, None)": {
             "failure_message": "Unvisited",
             "label": "QuantileTransformer",
             "policy": {
              "adjusted_exploration": "-inf",
              "adjusted_score": "-inf",
              "exploitation": "-inf",
              "exploration": "-inf",
              "overfitting": 0.998046875,
              "score": "-inf"
             },
             "reward": 0,
             "visits": 0
            },
            "(0, 9, None)": {
             "failure_message": "Unvisited",
             "label": "QuantileTransformer",
             "policy": {
              "adjusted_exploration": "-inf",
              "adjusted_score": "-inf",
              "exploitation": "-inf",
              "exploration": "-inf",
              "overfitting": 0.998046875,
              "score": "-inf"
             },
             "reward": 0,
             "visits": 0
            }
           },
           "reward": 0,
           "visits": 0
          },
          "150": {
           "failure_message": "Unvisited",
           "label": "Imputation",
           "policy": {
            "(0, 5, None)": {
             "failure_message": "Unvisited",
             "label": "Imputation",
             "policy": {
              "adjusted_exploration": 0,
              "adjusted_score": 0,
              "exploitation": 0,
              "exploration": 0,
              "overfitting": 0.99609375,
              "score": 0
             },
             "reward": 0,
             "visits": 0
            }
           },
           "reward": 0,
           "visits": 0
          },
          "151": {
           "failure_message": "Unvisited",
           "label": "KNNImputer",
           "policy": {
            "(0, 5, None)": {
             "failure_message": "Unvisited",
             "label": "KNNImputer",
             "policy": {
              "adjusted_exploration": 0,
              "adjusted_score": 0,
              "exploitation": 0,
              "exploration": 0,
              "overfitting": 0.99609375,
              "score": 0
             },
             "reward": 0,
             "visits": 0
            }
           },
           "reward": 0,
           "visits": 0
          },
          "152": {
           "failure_message": "Unvisited",
           "label": "MaxAbsScaler",
           "policy": {
            "(0, 5, None)": {
             "failure_message": "Unvisited",
             "label": "MaxAbsScaler",
             "policy": {
              "adjusted_exploration": 0,
              "adjusted_score": 0,
              "exploitation": 0,
              "exploration": 0,
              "overfitting": 0.99609375,
              "score": 0
             },
             "reward": 0,
             "visits": 0
            }
           },
           "reward": 0,
           "visits": 0
          },
          "153": {
           "failure_message": "Unvisited",
           "label": "MinMaxScaler",
           "policy": {
            "(0, 5, None)": {
             "failure_message": "Unvisited",
             "label": "MinMaxScaler",
             "policy": {
              "adjusted_exploration": 0,
              "adjusted_score": 0,
              "exploitation": 0,
              "exploration": 0,
              "overfitting": 0.99609375,
              "score": 0
             },
             "reward": 0,
             "visits": 0
            }
           },
           "reward": 0,
           "visits": 0
          },
          "154": {
           "failure_message": "Unvisited",
           "label": "Normalizer",
           "policy": {
            "(0, 5, None)": {
             "failure_message": "Unvisited",
             "label": "Normalizer",
             "policy": {
              "adjusted_exploration": 0,
              "adjusted_score": 0,
              "exploitation": 0,
              "exploration": 0,
              "overfitting": 0.99609375,
              "score": 0
             },
             "reward": 0,
             "visits": 0
            }
           },
           "reward": 0,
           "visits": 0
          },
          "155": {
           "failure_message": "Unvisited",
           "label": "QuantileTransformer",
           "policy": {
            "(0, 5, None)": {
             "failure_message": "Unvisited",
             "label": "QuantileTransformer",
             "policy": {
              "adjusted_exploration": 0,
              "adjusted_score": 0,
              "exploitation": 0,
              "exploration": 0,
              "overfitting": 0.99609375,
              "score": 0
             },
             "reward": 0,
             "visits": 0
            }
           },
           "reward": 0,
           "visits": 0
          },
          "156": {
           "failure_message": "Unvisited",
           "label": "RobustScaler",
           "policy": {
            "(0, 5, None)": {
             "failure_message": "Unvisited",
             "label": "RobustScaler",
             "policy": {
              "adjusted_exploration": 0,
              "adjusted_score": 0,
              "exploitation": 0,
              "exploration": 0,
              "overfitting": 0.99609375,
              "score": 0
             },
             "reward": 0,
             "visits": 0
            }
           },
           "reward": 0,
           "visits": 0
          },
          "157": {
           "failure_message": "Unvisited",
           "label": "StandardScaler",
           "policy": {
            "(0, 5, None)": {
             "failure_message": "Unvisited",
             "label": "StandardScaler",
             "policy": {
              "adjusted_exploration": 0,
              "adjusted_score": 0,
              "exploitation": 0,
              "exploration": 0,
              "overfitting": 0.99609375,
              "score": 0
             },
             "reward": 0,
             "visits": 0
            }
           },
           "reward": 0,
           "visits": 0
          },
          "158": {
           "failure_message": "Unvisited",
           "label": "BernoulliRBM",
           "policy": {
            "(0, 5, None)": {
             "failure_message": "Unvisited",
             "label": "BernoulliRBM",
             "policy": {
              "adjusted_exploration": 0,
              "adjusted_score": 0,
              "exploitation": 0,
              "exploration": 0,
              "overfitting": 0.99609375,
              "score": 0
             },
             "reward": 0,
             "visits": 0
            }
           },
           "reward": 0,
           "visits": 0
          },
          "159": {
           "failure_message": "Unvisited",
           "label": "Binarizer",
           "policy": {
            "(0, 5, None)": {
             "failure_message": "Unvisited",
             "label": "Binarizer",
             "policy": {
              "adjusted_exploration": 0,
              "adjusted_score": 0,
              "exploitation": 0,
              "exploration": 0,
              "overfitting": 0.99609375,
              "score": 0
             },
             "reward": 0,
             "visits": 0
            }
           },
           "reward": 0,
           "visits": 0
          },
          "16": {
           "failure_message": "Unvisited",
           "label": "RobustScaler",
           "policy": {
            "(0, 0, None)": {
             "failure_message": "Unvisited",
             "label": "RobustScaler",
             "policy": {
              "adjusted_exploration": 0,
              "adjusted_score": 0,
              "exploitation": 0,
              "exploration": 0,
              "overfitting": 0.998046875,
              "score": 0
             },
             "reward": 0,
             "visits": 0
            },
            "(0, 1, None)": {
             "failure_message": "Unvisited",
             "label": "RobustScaler",
             "policy": {
              "adjusted_exploration": 2.537272482359039,
              "adjusted_score": 1.6508858444395715,
              "exploitation": -0.8831559415507014,
              "exploration": 1.2686362411795196,
              "overfitting": 0.998046875,
              "score": 1.6541165408083378
             },
             "reward": 0,
             "visits": 0
            },
            "(0, 10, None)": {
             "failure_message": "Unvisited",
             "label": "RobustScaler",
             "policy": {
              "adjusted_exploration": "-inf",
              "adjusted_score": "-inf",
              "exploitation": "-inf",
              "exploration": "-inf",
              "overfitting": 0.998046875,
              "score": "-inf"
             },
             "reward": 0,
             "visits": 0
            },
            "(0, 11, None)": {
             "failure_message": "Unvisited",
             "label": "RobustScaler",
             "policy": {
              "adjusted_exploration": "-inf",
              "adjusted_score": "-inf",
              "exploitation": "-inf",
              "exploration": "-inf",
              "overfitting": 0.998046875,
              "score": "-inf"
             },
             "reward": 0,
             "visits": 0
            },
            "(0, 2, None)": {
             "failure_message": "Unvisited",
             "label": "RobustScaler",
             "policy": {
              "adjusted_exploration": 2.884053773201766,
              "adjusted_score": 2.0990426018244253,
              "exploitation": -0.7809034559138881,
              "exploration": 1.442026886600883,
              "overfitting": 0.998046875,
              "score": 2.103150317287878
             },
             "reward": 0,
             "visits": 0
            },
            "(0, 3, None)": {
             "failure_message": "Unvisited",
             "label": "RobustScaler",
             "policy": {
              "adjusted_exploration": 3.1527173357521288,
              "adjusted_score": 2.3215934579995405,
              "exploitation": -0.826580642022648,
              "exploration": 1.5763586678760644,
              "overfitting": 0.998046875,
              "score": 2.326136693729481
             },
             "reward": 0,
             "visits": 0
            },
            "(0, 4, None)": {
             "failure_message": "Unvisited",
             "label": "RobustScaler",
             "policy": {
              "adjusted_exploration": "-inf",
              "adjusted_score": "-inf",
              "exploitation": "-inf",
              "exploration": "-inf",
              "overfitting": 0.998046875,
              "score": "-inf"
             },
             "reward": 0,
             "visits": 0
            },
            "(0, 5, None)": {
             "failure_message": "Unvisited",
             "label": "RobustScaler",
             "policy": {
              "adjusted_exploration": 1.769657738554306,
              "adjusted_score": 1.0901649689402404,
              "exploitation": -0.6773593743715212,
              "exploration": 1.7308183826022854,
              "overfitting": 0.998046875,
              "score": 1.0922983641827848
             },
             "reward": 0,
             "visits": 0
            },
            "(0, 6, None)": {
             "failure_message": "Unvisited",
             "label": "RobustScaler",
             "policy": {
              "adjusted_exploration": "-inf",
              "adjusted_score": "-inf",
              "exploitation": "-inf",
              "exploration": "-inf",
              "overfitting": 0.998046875,
              "score": "-inf"
             },
             "reward": 0,
             "visits": 0
            },
            "(0, 7, None)": {
             "failure_message": "Unvisited",
             "label": "RobustScaler",
             "policy": {
              "adjusted_exploration": 1.018327257178704,
              "adjusted_score": 0.26445102410566984,
              "exploitation": -0.7533587163918098,
              "exploration": 1.815443985917585,
              "overfitting": 0.998046875,
              "score": 0.26496854078689425
             },
             "reward": 0,
             "visits": 0
            },
            "(0, 8, None)": {
             "failure_message": "Unvisited",
             "label": "RobustScaler",
             "policy": {
              "adjusted_exploration": "-inf",
              "adjusted_score": "-inf",
              "exploitation": "-inf",
              "exploration": "-inf",
              "overfitting": 0.998046875,
              "score": "-inf"
             },
             "reward": 0,
             "visits": 0
            },
            "(0, 9, None)": {
             "failure_message": "Unvisited",
             "label": "RobustScaler",
             "policy": {
              "adjusted_exploration": "-inf",
              "adjusted_score": "-inf",
              "exploitation": "-inf",
              "exploration": "-inf",
              "overfitting": 0.998046875,
              "score": "-inf"
             },
             "reward": 0,
             "visits": 0
            }
           },
           "reward": 0,
           "visits": 0
          },
          "160": {
           "failure_message": "Unvisited",
           "label": "FactorAnalysis",
           "policy": {
            "(0, 5, None)": {
             "failure_message": "Unvisited",
             "label": "FactorAnalysis",
             "policy": {
              "adjusted_exploration": 0,
              "adjusted_score": 0,
              "exploitation": 0,
              "exploration": 0,
              "overfitting": 0.99609375,
              "score": 0
             },
             "reward": 0,
             "visits": 0
            }
           },
           "reward": 0,
           "visits": 0
          },
          "161": {
           "failure_message": "Unvisited",
           "label": "FastICA",
           "policy": {
            "(0, 5, None)": {
             "failure_message": "Unvisited",
             "label": "FastICA",
             "policy": {
              "adjusted_exploration": 0,
              "adjusted_score": 0,
              "exploitation": 0,
              "exploration": 0,
              "overfitting": 0.99609375,
              "score": 0
             },
             "reward": 0,
             "visits": 0
            }
           },
           "reward": 0,
           "visits": 0
          },
          "162": {
           "failure_message": "Unvisited",
           "label": "FeatureAgglomeration",
           "policy": {
            "(0, 5, None)": {
             "failure_message": "Unvisited",
             "label": "FeatureAgglomeration",
             "policy": {
              "adjusted_exploration": 0,
              "adjusted_score": 0,
              "exploitation": 0,
              "exploration": 0,
              "overfitting": 0.99609375,
              "score": 0
             },
             "reward": 0,
             "visits": 0
            }
           },
           "reward": 0,
           "visits": 0
          },
          "163": {
           "failure_message": "Unvisited",
           "label": "GenericUnivariateSelect",
           "policy": {
            "(0, 5, None)": {
             "failure_message": "Unvisited",
             "label": "GenericUnivariateSelect",
             "policy": {
              "adjusted_exploration": 0,
              "adjusted_score": 0,
              "exploitation": 0,
              "exploration": 0,
              "overfitting": 0.99609375,
              "score": 0
             },
             "reward": 0,
             "visits": 0
            }
           },
           "reward": 0,
           "visits": 0
          },
          "164": {
           "failure_message": "Unvisited",
           "label": "KBinsDiscretizer",
           "policy": {
            "(0, 5, None)": {
             "failure_message": "Unvisited",
             "label": "KBinsDiscretizer",
             "policy": {
              "adjusted_exploration": 0,
              "adjusted_score": 0,
              "exploitation": 0,
              "exploration": 0,
              "overfitting": 0.99609375,
              "score": 0
             },
             "reward": 0,
             "visits": 0
            }
           },
           "reward": 0,
           "visits": 0
          },
          "165": {
           "failure_message": "Unvisited",
           "label": "KernelPCA",
           "policy": {
            "(0, 5, None)": {
             "failure_message": "Unvisited",
             "label": "KernelPCA",
             "policy": {
              "adjusted_exploration": 0,
              "adjusted_score": 0,
              "exploitation": 0,
              "exploration": 0,
              "overfitting": 0.99609375,
              "score": 0
             },
             "reward": 0,
             "visits": 0
            }
           },
           "reward": 0,
           "visits": 0
          },
          "166": {
           "failure_message": "Unvisited",
           "label": "MissingIndicator",
           "policy": {
            "(0, 5, None)": {
             "failure_message": "Unvisited",
             "label": "MissingIndicator",
             "policy": {
              "adjusted_exploration": 0,
              "adjusted_score": 0,
              "exploitation": 0,
              "exploration": 0,
              "overfitting": 0.99609375,
              "score": 0
             },
             "reward": 0,
             "visits": 0
            }
           },
           "reward": 0,
           "visits": 0
          },
          "167": {
           "failure_message": "Unvisited",
           "label": "MultiColumnLabelEncoder",
           "policy": {
            "(0, 5, None)": {
             "failure_message": "Unvisited",
             "label": "MultiColumnLabelEncoder",
             "policy": {
              "adjusted_exploration": 0,
              "adjusted_score": 0,
              "exploitation": 0,
              "exploration": 0,
              "overfitting": 0.99609375,
              "score": 0
             },
             "reward": 0,
             "visits": 0
            }
           },
           "reward": 0,
           "visits": 0
          },
          "168": {
           "failure_message": "Unvisited",
           "label": "OneHotEncoder",
           "policy": {
            "(0, 5, None)": {
             "failure_message": "Unvisited",
             "label": "OneHotEncoder",
             "policy": {
              "adjusted_exploration": 0,
              "adjusted_score": 0,
              "exploitation": 0,
              "exploration": 0,
              "overfitting": 0.99609375,
              "score": 0
             },
             "reward": 0,
             "visits": 0
            }
           },
           "reward": 0,
           "visits": 0
          },
          "169": {
           "failure_message": "Unvisited",
           "label": "PCA",
           "policy": {
            "(0, 5, None)": {
             "failure_message": "Unvisited",
             "label": "PCA",
             "policy": {
              "adjusted_exploration": 0,
              "adjusted_score": 0,
              "exploitation": 0,
              "exploration": 0,
              "overfitting": 0.99609375,
              "score": 0
             },
             "reward": 0,
             "visits": 0
            }
           },
           "reward": 0,
           "visits": 0
          },
          "17": {
           "failure_message": null,
           "label": "StandardScaler",
           "policy": {
            "(0, 0, None)": {
             "failure_message": "Unvisited",
             "label": "StandardScaler",
             "policy": {
              "adjusted_exploration": 0,
              "adjusted_score": 0,
              "exploitation": 0,
              "exploration": 0,
              "overfitting": 0.998046875,
              "score": 0
             },
             "reward": 0,
             "visits": 0
            },
            "(0, 1, None)": {
             "failure_message": "Unvisited",
             "label": "StandardScaler",
             "policy": {
              "adjusted_exploration": 2.537272482359039,
              "adjusted_score": 1.9942160361854238,
              "exploitation": -0.5391538707603367,
              "exploration": 1.2686362411795196,
              "overfitting": 0.998046875,
              "score": 1.9981186115987024
             },
             "reward": 0,
             "visits": 0
            },
            "(0, 10, None)": {
             "failure_message": null,
             "label": "StandardScaler",
             "policy": {
              "adjusted_exploration": 0.4615681368566145,
              "adjusted_score": 1.166296338556909,
              "exploitation": 0.707010582010582,
              "exploration": 1.0971049649941165,
              "overfitting": 0.998046875,
              "score": 1.1685787188671966
             },
             "reward": -2.121031746031746,
             "visits": 3
            },
            "(0, 11, None)": {
             "failure_message": null,
             "label": "StandardScaler",
             "policy": {
              "adjusted_exploration": 0.45888326075606006,
              "adjusted_score": 1.1636167063549885,
              "exploitation": 0.707010582010582,
              "exploration": 1.1125903808536648,
              "overfitting": 0.998046875,
              "score": 1.165893842766642
             },
             "reward": -2.121031746031746,
             "visits": 3
            },
            "(0, 2, None)": {
             "failure_message": "Unvisited",
             "label": "StandardScaler",
             "policy": {
              "adjusted_exploration": 2.884053773201766,
              "adjusted_score": 2.0239120317475665,
              "exploitation": -0.8561810525466702,
              "exploration": 1.442026886600883,
              "overfitting": 0.998046875,
              "score": 2.027872720655096
             },
             "reward": 0,
             "visits": 0
            },
            "(0, 3, None)": {
             "failure_message": "Unvisited",
             "label": "StandardScaler",
             "policy": {
              "adjusted_exploration": 3.1527173357521288,
              "adjusted_score": 2.317058579298384,
              "exploitation": -0.8311243952418106,
              "exploration": 1.5763586678760644,
              "overfitting": 0.998046875,
              "score": 2.3215929405103184
             },
             "reward": 0,
             "visits": 0
            },
            "(0, 4, None)": {
             "failure_message": "Unvisited",
             "label": "StandardScaler",
             "policy": {
              "adjusted_exploration": "-inf",
              "adjusted_score": "-inf",
              "exploitation": "-inf",
              "exploration": "-inf",
              "overfitting": 0.998046875,
              "score": "-inf"
             },
             "reward": 0,
             "visits": 0
            },
            "(0, 5, None)": {
             "failure_message": "Unvisited",
             "label": "StandardScaler",
             "policy": {
              "adjusted_exploration": 1.769657738554306,
              "adjusted_score": 0.7840381142114449,
              "exploitation": -0.9840853031800207,
              "exploration": 1.7308183826022854,
              "overfitting": 0.998046875,
              "score": 0.7855724353742852
             },
             "reward": 0,
             "visits": 0
            },
            "(0, 6, None)": {
             "failure_message": null,
             "label": "StandardScaler",
             "policy": {
              "adjusted_exploration": 1.0452740172105615,
              "adjusted_score": 1.7488621683632894,
              "exploitation": 0.707010582010582,
              "exploration": 1.0223329881418528,
              "overfitting": 0.998046875,
              "score": 1.7522845992211433
             },
             "reward": -2.121031746031746,
             "visits": 3
            },
            "(0, 7, None)": {
             "failure_message": null,
             "label": "StandardScaler",
             "policy": {
              "adjusted_exploration": 0.5879315160552582,
              "adjusted_score": 1.2924129142805554,
              "exploitation": 0.707010582010582,
              "exploration": 1.048147073968205,
              "overfitting": 0.998046875,
              "score": 1.2949420980658402
             },
             "reward": -2.121031746031746,
             "visits": 3
            },
            "(0, 8, None)": {
             "failure_message": null,
             "label": "StandardScaler",
             "policy": {
              "adjusted_exploration": 0.5972550156215761,
              "adjusted_score": 1.3017182038867827,
              "exploitation": 0.707010582010582,
              "exploration": 1.064768735714029,
              "overfitting": 0.998046875,
              "score": 1.304265597632158
             },
             "reward": -2.121031746031746,
             "visits": 3
            },
            "(0, 9, None)": {
             "failure_message": null,
             "label": "StandardScaler",
             "policy": {
              "adjusted_exploration": 0.500151255462561,
              "adjusted_score": 1.2048040995093283,
              "exploitation": 0.707010582010582,
              "exploration": 1.0841833369893614,
              "overfitting": 0.998046875,
              "score": 1.207161837473143
             },
             "reward": -2.121031746031746,
             "visits": 3
            }
           },
           "reward": -2.121031746031746,
           "visits": 3
          },
          "170": {
           "failure_message": "Unvisited",
           "label": "PolynomialFeatures",
           "policy": {
            "(0, 5, None)": {
             "failure_message": "Unvisited",
             "label": "PolynomialFeatures",
             "policy": {
              "adjusted_exploration": 0,
              "adjusted_score": 0,
              "exploitation": 0,
              "exploration": 0,
              "overfitting": 0.99609375,
              "score": 0
             },
             "reward": 0,
             "visits": 0
            }
           },
           "reward": 0,
           "visits": 0
          },
          "171": {
           "failure_message": "Unvisited",
           "label": "RandomTreesEmbedding",
           "policy": {
            "(0, 5, None)": {
             "failure_message": "Unvisited",
             "label": "RandomTreesEmbedding",
             "policy": {
              "adjusted_exploration": 0,
              "adjusted_score": 0,
              "exploitation": 0,
              "exploration": 0,
              "overfitting": 0.99609375,
              "score": 0
             },
             "reward": 0,
             "visits": 0
            }
           },
           "reward": 0,
           "visits": 0
          },
          "172": {
           "failure_message": "Unvisited",
           "label": "SelectKBest",
           "policy": {
            "(0, 5, None)": {
             "failure_message": "Unvisited",
             "label": "SelectKBest",
             "policy": {
              "adjusted_exploration": 0,
              "adjusted_score": 0,
              "exploitation": 0,
              "exploration": 0,
              "overfitting": 0.99609375,
              "score": 0
             },
             "reward": 0,
             "visits": 0
            }
           },
           "reward": 0,
           "visits": 0
          },
          "173": {
           "failure_message": "Unvisited",
           "label": "SelectPercentileClassification",
           "policy": {
            "(0, 5, None)": {
             "failure_message": "Unvisited",
             "label": "SelectPercentileClassification",
             "policy": {
              "adjusted_exploration": 0,
              "adjusted_score": 0,
              "exploitation": 0,
              "exploration": 0,
              "overfitting": 0.99609375,
              "score": 0
             },
             "reward": 0,
             "visits": 0
            }
           },
           "reward": 0,
           "visits": 0
          },
          "174": {
           "failure_message": "Unvisited",
           "label": "TruncatedSVD",
           "policy": {
            "(0, 5, None)": {
             "failure_message": "Unvisited",
             "label": "TruncatedSVD",
             "policy": {
              "adjusted_exploration": 0,
              "adjusted_score": 0,
              "exploitation": 0,
              "exploration": 0,
              "overfitting": 0.99609375,
              "score": 0
             },
             "reward": 0,
             "visits": 0
            }
           },
           "reward": 0,
           "visits": 0
          },
          "175": {
           "failure_message": "Unvisited",
           "label": "VarianceThreshold",
           "policy": {
            "(0, 5, None)": {
             "failure_message": "Unvisited",
             "label": "VarianceThreshold",
             "policy": {
              "adjusted_exploration": 0,
              "adjusted_score": 0,
              "exploitation": 0,
              "exploration": 0,
              "overfitting": 0.99609375,
              "score": 0
             },
             "reward": 0,
             "visits": 0
            }
           },
           "reward": 0,
           "visits": 0
          },
          "176": {
           "failure_message": "Unvisited",
           "label": "AdaBoostingClassifier",
           "policy": {
            "(0, 6, None)": {
             "failure_message": "Unvisited",
             "label": "AdaBoostingClassifier",
             "policy": {
              "adjusted_exploration": 0,
              "adjusted_score": -0.3852314703949428,
              "exploitation": -0.38826478905946993,
              "exploration": 0,
              "overfitting": 0.9921875,
              "score": -0.38826478905946993
             },
             "reward": 0,
             "visits": 0
            }
           },
           "reward": 0,
           "visits": 0
          },
          "177": {
           "failure_message": "Unvisited",
           "label": "BernoulliNB",
           "policy": {
            "(0, 6, None)": {
             "failure_message": "Unvisited",
             "label": "BernoulliNB",
             "policy": {
              "adjusted_exploration": 0,
              "adjusted_score": -1.01135630647101,
              "exploitation": -1.0193197419550337,
              "exploration": 0,
              "overfitting": 0.9921875,
              "score": -1.0193197419550337
             },
             "reward": 0,
             "visits": 0
            }
           },
           "reward": 0,
           "visits": 0
          },
          "178": {
           "failure_message": null,
           "label": "DecisionTree",
           "policy": {
            "(0, 6, None)": {
             "failure_message": "Unvisited",
             "label": "DecisionTree",
             "policy": {
              "adjusted_exploration": 0,
              "adjusted_score": -1.0186714453857637,
              "exploitation": -1.0266924803888011,
              "exploration": 0,
              "overfitting": 0.9921875,
              "score": -1.0266924803888011
             },
             "reward": 0,
             "visits": 0
            }
           },
           "reward": -0.8666666666666667,
           "visits": 3
          },
          "179": {
           "failure_message": "Unvisited",
           "label": "GradientBoostingClassifier",
           "policy": {
            "(0, 6, None)": {
             "failure_message": "Unvisited",
             "label": "GradientBoostingClassifier",
             "policy": {
              "adjusted_exploration": 0,
              "adjusted_score": -0.7828509627241442,
              "exploitation": -0.7890151435329957,
              "exploration": 0,
              "overfitting": 0.9921875,
              "score": -0.7890151435329957
             },
             "reward": 0,
             "visits": 0
            }
           },
           "reward": 0,
           "visits": 0
          },
          "18": {
           "failure_message": "Unvisited",
           "label": "BernoulliRBM",
           "policy": {
            "(0, 0, None)": {
             "failure_message": "Unvisited",
             "label": "BernoulliRBM",
             "policy": {
              "adjusted_exploration": 0,
              "adjusted_score": 0,
              "exploitation": 0,
              "exploration": 0,
              "overfitting": 0.998046875,
              "score": 0
             },
             "reward": 0,
             "visits": 0
            },
            "(0, 1, None)": {
             "failure_message": "Unvisited",
             "label": "BernoulliRBM",
             "policy": {
              "adjusted_exploration": 2.537272482359039,
              "adjusted_score": 2.130630742659572,
              "exploitation": -0.4024722079134408,
              "exploration": 1.2686362411795196,
              "overfitting": 0.998046875,
              "score": 2.1348002744455985
             },
             "reward": 0,
             "visits": 0
            },
            "(0, 10, None)": {
             "failure_message": "Unvisited",
             "label": "BernoulliRBM",
             "policy": {
              "adjusted_exploration": "-inf",
              "adjusted_score": "-inf",
              "exploitation": "-inf",
              "exploration": "-inf",
              "overfitting": 0.998046875,
              "score": "-inf"
             },
             "reward": 0,
             "visits": 0
            },
            "(0, 11, None)": {
             "failure_message": "Unvisited",
             "label": "BernoulliRBM",
             "policy": {
              "adjusted_exploration": "-inf",
              "adjusted_score": "-inf",
              "exploitation": "-inf",
              "exploration": "-inf",
              "overfitting": 0.998046875,
              "score": "-inf"
             },
             "reward": 0,
             "visits": 0
            },
            "(0, 2, None)": {
             "failure_message": "Unvisited",
             "label": "BernoulliRBM",
             "policy": {
              "adjusted_exploration": 2.884053773201766,
              "adjusted_score": 2.407038172000902,
              "exploitation": -0.47230515468031437,
              "exploration": 1.442026886600883,
              "overfitting": 0.998046875,
              "score": 2.4117486185214516
             },
             "reward": 0,
             "visits": 0
            },
            "(0, 3, None)": {
             "failure_message": "Unvisited",
             "label": "BernoulliRBM",
             "policy": {
              "adjusted_exploration": 3.1527173357521288,
              "adjusted_score": 2.7358431809363535,
              "exploitation": -0.4115202542659974,
              "exploration": 1.5763586678760644,
              "overfitting": 0.998046875,
              "score": 2.7411970814861313
             },
             "reward": 0,
             "visits": 0
            },
            "(0, 4, None)": {
             "failure_message": "Unvisited",
             "label": "BernoulliRBM",
             "policy": {
              "adjusted_exploration": "-inf",
              "adjusted_score": "-inf",
              "exploitation": "-inf",
              "exploration": "-inf",
              "overfitting": 0.998046875,
              "score": "-inf"
             },
             "reward": 0,
             "visits": 0
            },
            "(0, 5, None)": {
             "failure_message": "Unvisited",
             "label": "BernoulliRBM",
             "policy": {
              "adjusted_exploration": 1.769657738554306,
              "adjusted_score": 1.3643178416836208,
              "exploitation": -0.4026699989417545,
              "exploration": 1.7308183826022854,
              "overfitting": 0.998046875,
              "score": 1.3669877396125516
             },
             "reward": 0,
             "visits": 0
            },
            "(0, 6, None)": {
             "failure_message": "Unvisited",
             "label": "BernoulliRBM",
             "policy": {
              "adjusted_exploration": "-inf",
              "adjusted_score": "-inf",
              "exploitation": "-inf",
              "exploration": "-inf",
              "overfitting": 0.998046875,
              "score": "-inf"
             },
             "reward": 0,
             "visits": 0
            },
            "(0, 7, None)": {
             "failure_message": "Unvisited",
             "label": "BernoulliRBM",
             "policy": {
              "adjusted_exploration": 1.018327257178704,
              "adjusted_score": 0.5207117373441205,
              "exploitation": -0.4965965144777457,
              "exploration": 1.815443985917585,
              "overfitting": 0.998046875,
              "score": 0.5217307427009583
             },
             "reward": 0,
             "visits": 0
            },
            "(0, 8, None)": {
             "failure_message": "Unvisited",
             "label": "BernoulliRBM",
             "policy": {
              "adjusted_exploration": "-inf",
              "adjusted_score": "-inf",
              "exploitation": "-inf",
              "exploration": "-inf",
              "overfitting": 0.998046875,
              "score": "-inf"
             },
             "reward": 0,
             "visits": 0
            },
            "(0, 9, None)": {
             "failure_message": "Unvisited",
             "label": "BernoulliRBM",
             "policy": {
              "adjusted_exploration": "-inf",
              "adjusted_score": "-inf",
              "exploitation": "-inf",
              "exploration": "-inf",
              "overfitting": 0.998046875,
              "score": "-inf"
             },
             "reward": 0,
             "visits": 0
            }
           },
           "reward": 0,
           "visits": 0
          },
          "180": {
           "failure_message": "Unvisited",
           "label": "LibSVM_SVC",
           "policy": {
            "(0, 6, None)": {
             "failure_message": "Unvisited",
             "label": "LibSVM_SVC",
             "policy": {
              "adjusted_exploration": 0,
              "adjusted_score": -0.7427899874556467,
              "exploitation": -0.7486387275143526,
              "exploration": 0,
              "overfitting": 0.9921875,
              "score": -0.7486387275143526
             },
             "reward": 0,
             "visits": 0
            }
           },
           "reward": 0,
           "visits": 0
          },
          "181": {
           "failure_message": "Unvisited",
           "label": "LinearDiscriminantAnalysis",
           "policy": {
            "(0, 6, None)": {
             "failure_message": "Unvisited",
             "label": "LinearDiscriminantAnalysis",
             "policy": {
              "adjusted_exploration": 0,
              "adjusted_score": -0.5934272141278272,
              "exploitation": -0.5980998693571802,
              "exploration": 0,
              "overfitting": 0.9921875,
              "score": -0.5980998693571802
             },
             "reward": 0,
             "visits": 0
            }
           },
           "reward": 0,
           "visits": 0
          },
          "182": {
           "failure_message": "Unvisited",
           "label": "MultinomialNB",
           "policy": {
            "(0, 6, None)": {
             "failure_message": "Unvisited",
             "label": "MultinomialNB",
             "policy": {
              "adjusted_exploration": 0,
              "adjusted_score": -0.7727510634521266,
              "exploitation": -0.7788357174950568,
              "exploration": 0,
              "overfitting": 0.9921875,
              "score": -0.7788357174950568
             },
             "reward": 0,
             "visits": 0
            }
           },
           "reward": 0,
           "visits": 0
          },
          "183": {
           "failure_message": "Unvisited",
           "label": "RandomForest",
           "policy": {
            "(0, 6, None)": {
             "failure_message": "Unvisited",
             "label": "RandomForest",
             "policy": {
              "adjusted_exploration": 0,
              "adjusted_score": -0.8002767058644326,
              "exploitation": -0.8065780972491918,
              "exploration": 0,
              "overfitting": 0.9921875,
              "score": -0.8065780972491918
             },
             "reward": 0,
             "visits": 0
            }
           },
           "reward": 0,
           "visits": 0
          },
          "184": {
           "failure_message": "Unvisited",
           "label": "SGDClassifier",
           "policy": {
            "(0, 6, None)": {
             "failure_message": "Unvisited",
             "label": "SGDClassifier",
             "policy": {
              "adjusted_exploration": 0,
              "adjusted_score": -0.9665933584521785,
              "exploitation": -0.9742043297785736,
              "exploration": 0,
              "overfitting": 0.9921875,
              "score": -0.9742043297785736
             },
             "reward": 0,
             "visits": 0
            }
           },
           "reward": 0,
           "visits": 0
          },
          "185": {
           "failure_message": "Unvisited",
           "label": "Imputation",
           "policy": {
            "(0, 6, None)": {
             "failure_message": "Unvisited",
             "label": "Imputation",
             "policy": {
              "adjusted_exploration": 0,
              "adjusted_score": 0,
              "exploitation": 0,
              "exploration": 0,
              "overfitting": 0.9921875,
              "score": 0
             },
             "reward": 0,
             "visits": 0
            }
           },
           "reward": 0,
           "visits": 0
          },
          "186": {
           "failure_message": "Unvisited",
           "label": "KNNImputer",
           "policy": {
            "(0, 6, None)": {
             "failure_message": "Unvisited",
             "label": "KNNImputer",
             "policy": {
              "adjusted_exploration": 0,
              "adjusted_score": 0,
              "exploitation": 0,
              "exploration": 0,
              "overfitting": 0.9921875,
              "score": 0
             },
             "reward": 0,
             "visits": 0
            }
           },
           "reward": 0,
           "visits": 0
          },
          "187": {
           "failure_message": "Unvisited",
           "label": "MaxAbsScaler",
           "policy": {
            "(0, 6, None)": {
             "failure_message": "Unvisited",
             "label": "MaxAbsScaler",
             "policy": {
              "adjusted_exploration": 0,
              "adjusted_score": 0,
              "exploitation": 0,
              "exploration": 0,
              "overfitting": 0.9921875,
              "score": 0
             },
             "reward": 0,
             "visits": 0
            }
           },
           "reward": 0,
           "visits": 0
          },
          "188": {
           "failure_message": "Unvisited",
           "label": "MinMaxScaler",
           "policy": {
            "(0, 6, None)": {
             "failure_message": "Unvisited",
             "label": "MinMaxScaler",
             "policy": {
              "adjusted_exploration": 0,
              "adjusted_score": 0,
              "exploitation": 0,
              "exploration": 0,
              "overfitting": 0.9921875,
              "score": 0
             },
             "reward": 0,
             "visits": 0
            }
           },
           "reward": 0,
           "visits": 0
          },
          "189": {
           "failure_message": "Unvisited",
           "label": "Normalizer",
           "policy": {
            "(0, 6, None)": {
             "failure_message": "Unvisited",
             "label": "Normalizer",
             "policy": {
              "adjusted_exploration": 0,
              "adjusted_score": 0,
              "exploitation": 0,
              "exploration": 0,
              "overfitting": 0.9921875,
              "score": 0
             },
             "reward": 0,
             "visits": 0
            }
           },
           "reward": 0,
           "visits": 0
          },
          "19": {
           "failure_message": "Unvisited",
           "label": "Binarizer",
           "policy": {
            "(0, 0, None)": {
             "failure_message": "Unvisited",
             "label": "Binarizer",
             "policy": {
              "adjusted_exploration": 0,
              "adjusted_score": 0,
              "exploitation": 0,
              "exploration": 0,
              "overfitting": 0.998046875,
              "score": 0
             },
             "reward": 0,
             "visits": 0
            },
            "(0, 1, None)": {
             "failure_message": "Unvisited",
             "label": "Binarizer",
             "policy": {
              "adjusted_exploration": 2.537272482359039,
              "adjusted_score": 2.093848433329282,
              "exploitation": -0.4393264982796018,
              "exploration": 1.2686362411795196,
              "overfitting": 0.998046875,
              "score": 2.097945984079437
             },
             "reward": 0,
             "visits": 0
            },
            "(0, 10, None)": {
             "failure_message": "Unvisited",
             "label": "Binarizer",
             "policy": {
              "adjusted_exploration": "-inf",
              "adjusted_score": "-inf",
              "exploitation": "-inf",
              "exploration": "-inf",
              "overfitting": 0.998046875,
              "score": "-inf"
             },
             "reward": 0,
             "visits": 0
            },
            "(0, 11, None)": {
             "failure_message": "Unvisited",
             "label": "Binarizer",
             "policy": {
              "adjusted_exploration": "-inf",
              "adjusted_score": "-inf",
              "exploitation": "-inf",
              "exploration": "-inf",
              "overfitting": 0.998046875,
              "score": "-inf"
             },
             "reward": 0,
             "visits": 0
            },
            "(0, 2, None)": {
             "failure_message": "Unvisited",
             "label": "Binarizer",
             "policy": {
              "adjusted_exploration": 2.884053773201766,
              "adjusted_score": 2.268590519682779,
              "exploitation": -0.6110237417387858,
              "exploration": 1.442026886600883,
              "overfitting": 0.998046875,
              "score": 2.27303003146298
             },
             "reward": 0,
             "visits": 0
            },
            "(0, 3, None)": {
             "failure_message": "Unvisited",
             "label": "Binarizer",
             "policy": {
              "adjusted_exploration": 3.1527173357521288,
              "adjusted_score": 2.676732806191384,
              "exploitation": -0.47074630489109404,
              "exploration": 1.5763586678760644,
              "overfitting": 0.998046875,
              "score": 2.6819710308610345
             },
             "reward": 0,
             "visits": 0
            },
            "(0, 4, None)": {
             "failure_message": "Unvisited",
             "label": "Binarizer",
             "policy": {
              "adjusted_exploration": "-inf",
              "adjusted_score": "-inf",
              "exploitation": "-inf",
              "exploration": "-inf",
              "overfitting": 0.998046875,
              "score": "-inf"
             },
             "reward": 0,
             "visits": 0
            },
            "(0, 5, None)": {
             "failure_message": "Unvisited",
             "label": "Binarizer",
             "policy": {
              "adjusted_exploration": 1.769657738554306,
              "adjusted_score": 1.2157063242705328,
              "exploitation": -0.5515723412421479,
              "exploration": 1.7308183826022854,
              "overfitting": 0.998046875,
              "score": 1.2180853973121581
             },
             "reward": 0,
             "visits": 0
            },
            "(0, 6, None)": {
             "failure_message": "Unvisited",
             "label": "Binarizer",
             "policy": {
              "adjusted_exploration": "-inf",
              "adjusted_score": "-inf",
              "exploitation": "-inf",
              "exploration": "-inf",
              "overfitting": 0.998046875,
              "score": "-inf"
             },
             "reward": 0,
             "visits": 0
            },
            "(0, 7, None)": {
             "failure_message": "Unvisited",
             "label": "Binarizer",
             "policy": {
              "adjusted_exploration": 1.018327257178704,
              "adjusted_score": 0.7085382234515818,
              "exploitation": -0.3084024618612679,
              "exploration": 1.815443985917585,
              "overfitting": 0.998046875,
              "score": 0.7099247953174361
             },
             "reward": 0,
             "visits": 0
            },
            "(0, 8, None)": {
             "failure_message": "Unvisited",
             "label": "Binarizer",
             "policy": {
              "adjusted_exploration": "-inf",
              "adjusted_score": "-inf",
              "exploitation": "-inf",
              "exploration": "-inf",
              "overfitting": 0.998046875,
              "score": "-inf"
             },
             "reward": 0,
             "visits": 0
            },
            "(0, 9, None)": {
             "failure_message": "Unvisited",
             "label": "Binarizer",
             "policy": {
              "adjusted_exploration": "-inf",
              "adjusted_score": "-inf",
              "exploitation": "-inf",
              "exploration": "-inf",
              "overfitting": 0.998046875,
              "score": "-inf"
             },
             "reward": 0,
             "visits": 0
            }
           },
           "reward": 0,
           "visits": 0
          },
          "190": {
           "failure_message": "Unvisited",
           "label": "QuantileTransformer",
           "policy": {
            "(0, 6, None)": {
             "failure_message": "Unvisited",
             "label": "QuantileTransformer",
             "policy": {
              "adjusted_exploration": 0,
              "adjusted_score": 0,
              "exploitation": 0,
              "exploration": 0,
              "overfitting": 0.9921875,
              "score": 0
             },
             "reward": 0,
             "visits": 0
            }
           },
           "reward": 0,
           "visits": 0
          },
          "191": {
           "failure_message": "Unvisited",
           "label": "RobustScaler",
           "policy": {
            "(0, 6, None)": {
             "failure_message": "Unvisited",
             "label": "RobustScaler",
             "policy": {
              "adjusted_exploration": 0,
              "adjusted_score": 0,
              "exploitation": 0,
              "exploration": 0,
              "overfitting": 0.9921875,
              "score": 0
             },
             "reward": 0,
             "visits": 0
            }
           },
           "reward": 0,
           "visits": 0
          },
          "192": {
           "failure_message": "Unvisited",
           "label": "StandardScaler",
           "policy": {
            "(0, 6, None)": {
             "failure_message": "Unvisited",
             "label": "StandardScaler",
             "policy": {
              "adjusted_exploration": 0,
              "adjusted_score": 0,
              "exploitation": 0,
              "exploration": 0,
              "overfitting": 0.9921875,
              "score": 0
             },
             "reward": 0,
             "visits": 0
            }
           },
           "reward": 0,
           "visits": 0
          },
          "193": {
           "failure_message": "Unvisited",
           "label": "BernoulliRBM",
           "policy": {
            "(0, 6, None)": {
             "failure_message": "Unvisited",
             "label": "BernoulliRBM",
             "policy": {
              "adjusted_exploration": 0,
              "adjusted_score": 0,
              "exploitation": 0,
              "exploration": 0,
              "overfitting": 0.9921875,
              "score": 0
             },
             "reward": 0,
             "visits": 0
            }
           },
           "reward": 0,
           "visits": 0
          },
          "194": {
           "failure_message": "Unvisited",
           "label": "Binarizer",
           "policy": {
            "(0, 6, None)": {
             "failure_message": "Unvisited",
             "label": "Binarizer",
             "policy": {
              "adjusted_exploration": 0,
              "adjusted_score": 0,
              "exploitation": 0,
              "exploration": 0,
              "overfitting": 0.9921875,
              "score": 0
             },
             "reward": 0,
             "visits": 0
            }
           },
           "reward": 0,
           "visits": 0
          },
          "195": {
           "failure_message": "Unvisited",
           "label": "FactorAnalysis",
           "policy": {
            "(0, 6, None)": {
             "failure_message": "Unvisited",
             "label": "FactorAnalysis",
             "policy": {
              "adjusted_exploration": 0,
              "adjusted_score": 0,
              "exploitation": 0,
              "exploration": 0,
              "overfitting": 0.9921875,
              "score": 0
             },
             "reward": 0,
             "visits": 0
            }
           },
           "reward": 0,
           "visits": 0
          },
          "196": {
           "failure_message": "Unvisited",
           "label": "FastICA",
           "policy": {
            "(0, 6, None)": {
             "failure_message": "Unvisited",
             "label": "FastICA",
             "policy": {
              "adjusted_exploration": 0,
              "adjusted_score": 0,
              "exploitation": 0,
              "exploration": 0,
              "overfitting": 0.9921875,
              "score": 0
             },
             "reward": 0,
             "visits": 0
            }
           },
           "reward": 0,
           "visits": 0
          },
          "197": {
           "failure_message": "Unvisited",
           "label": "FeatureAgglomeration",
           "policy": {
            "(0, 6, None)": {
             "failure_message": "Unvisited",
             "label": "FeatureAgglomeration",
             "policy": {
              "adjusted_exploration": 0,
              "adjusted_score": 0,
              "exploitation": 0,
              "exploration": 0,
              "overfitting": 0.9921875,
              "score": 0
             },
             "reward": 0,
             "visits": 0
            }
           },
           "reward": 0,
           "visits": 0
          },
          "198": {
           "failure_message": "Unvisited",
           "label": "GenericUnivariateSelect",
           "policy": {
            "(0, 6, None)": {
             "failure_message": "Unvisited",
             "label": "GenericUnivariateSelect",
             "policy": {
              "adjusted_exploration": 0,
              "adjusted_score": 0,
              "exploitation": 0,
              "exploration": 0,
              "overfitting": 0.9921875,
              "score": 0
             },
             "reward": 0,
             "visits": 0
            }
           },
           "reward": 0,
           "visits": 0
          },
          "199": {
           "failure_message": "Unvisited",
           "label": "KBinsDiscretizer",
           "policy": {
            "(0, 6, None)": {
             "failure_message": "Unvisited",
             "label": "KBinsDiscretizer",
             "policy": {
              "adjusted_exploration": 0,
              "adjusted_score": 0,
              "exploitation": 0,
              "exploration": 0,
              "overfitting": 0.9921875,
              "score": 0
             },
             "reward": 0,
             "visits": 0
            }
           },
           "reward": 0,
           "visits": 0
          },
          "2": {
           "failure_message": "Unvisited",
           "label": "BernoulliNB",
           "policy": {
            "(0, 0, None)": {
             "failure_message": "Unvisited",
             "label": "BernoulliNB",
             "policy": {
              "adjusted_exploration": 0,
              "adjusted_score": -0.5146733115274286,
              "exploitation": -0.5156805000039989,
              "exploration": 0,
              "overfitting": 0.998046875,
              "score": -0.5156805000039989
             },
             "reward": 0,
             "visits": 0
            },
            "(0, 1, None)": {
             "failure_message": "Unvisited",
             "label": "BernoulliNB",
             "policy": {
              "adjusted_exploration": 2.537272482359039,
              "adjusted_score": 2.10744519832824,
              "exploitation": -0.4257031251299612,
              "exploration": 1.2686362411795196,
              "overfitting": 0.998046875,
              "score": 2.1115693572290777
             },
             "reward": 0,
             "visits": 0
            },
            "(0, 10, None)": {
             "failure_message": "Unvisited",
             "label": "BernoulliNB",
             "policy": {
              "adjusted_exploration": "-inf",
              "adjusted_score": "-inf",
              "exploitation": "-inf",
              "exploration": "-inf",
              "overfitting": 0.998046875,
              "score": "-inf"
             },
             "reward": 0,
             "visits": 0
            },
            "(0, 11, None)": {
             "failure_message": "Unvisited",
             "label": "BernoulliNB",
             "policy": {
              "adjusted_exploration": "-inf",
              "adjusted_score": "-inf",
              "exploitation": "-inf",
              "exploration": "-inf",
              "overfitting": 0.998046875,
              "score": "-inf"
             },
             "reward": 0,
             "visits": 0
            },
            "(0, 2, None)": {
             "failure_message": "Unvisited",
             "label": "BernoulliNB",
             "policy": {
              "adjusted_exploration": 2.884053773201766,
              "adjusted_score": 2.156307278700883,
              "exploitation": -0.7235267150905095,
              "exploration": 1.442026886600883,
              "overfitting": 0.998046875,
              "score": 2.1605270581112563
             },
             "reward": 0,
             "visits": 0
            },
            "(0, 3, None)": {
             "failure_message": "Unvisited",
             "label": "BernoulliNB",
             "policy": {
              "adjusted_exploration": 3.1527173357521288,
              "adjusted_score": 2.7991781847823205,
              "exploitation": -0.34806130716397216,
              "exploration": 1.5763586678760644,
              "overfitting": 0.998046875,
              "score": 2.8046560285881568
             },
             "reward": 0,
             "visits": 0
            },
            "(0, 4, None)": {
             "failure_message": "Unvisited",
             "label": "BernoulliNB",
             "policy": {
              "adjusted_exploration": "-inf",
              "adjusted_score": "-inf",
              "exploitation": "-inf",
              "exploration": "-inf",
              "overfitting": 0.998046875,
              "score": "-inf"
             },
             "reward": 0,
             "visits": 0
            },
            "(0, 5, None)": {
             "failure_message": "Unvisited",
             "label": "BernoulliNB",
             "policy": {
              "adjusted_exploration": 1.769657738554306,
              "adjusted_score": 1.187802739703042,
              "exploitation": -0.5795305316502796,
              "exploration": 1.7308183826022854,
              "overfitting": 0.998046875,
              "score": 1.1901272069040263
             },
             "reward": 0,
             "visits": 0
            },
            "(0, 6, None)": {
             "failure_message": "Unvisited",
             "label": "BernoulliNB",
             "policy": {
              "adjusted_exploration": "-inf",
              "adjusted_score": "-inf",
              "exploitation": "-inf",
              "exploration": "-inf",
              "overfitting": 0.998046875,
              "score": "-inf"
             },
             "reward": 0,
             "visits": 0
            },
            "(0, 7, None)": {
             "failure_message": "Unvisited",
             "label": "BernoulliNB",
             "policy": {
              "adjusted_exploration": 1.018327257178704,
              "adjusted_score": 0.4662451114962202,
              "exploitation": -0.551169728634546,
              "exploration": 1.815443985917585,
              "overfitting": 0.998046875,
              "score": 0.46715752854415804
             },
             "reward": 0,
             "visits": 0
            },
            "(0, 8, None)": {
             "failure_message": "Unvisited",
             "label": "BernoulliNB",
             "policy": {
              "adjusted_exploration": "-inf",
              "adjusted_score": "-inf",
              "exploitation": "-inf",
              "exploration": "-inf",
              "overfitting": 0.998046875,
              "score": "-inf"
             },
             "reward": 0,
             "visits": 0
            },
            "(0, 9, None)": {
             "failure_message": "Unvisited",
             "label": "BernoulliNB",
             "policy": {
              "adjusted_exploration": "-inf",
              "adjusted_score": "-inf",
              "exploitation": "-inf",
              "exploration": "-inf",
              "overfitting": 0.998046875,
              "score": "-inf"
             },
             "reward": 0,
             "visits": 0
            }
           },
           "reward": 0,
           "visits": 0
          },
          "20": {
           "failure_message": "Unvisited",
           "label": "FactorAnalysis",
           "policy": {
            "(0, 0, None)": {
             "failure_message": "Unvisited",
             "label": "FactorAnalysis",
             "policy": {
              "adjusted_exploration": 0,
              "adjusted_score": 0,
              "exploitation": 0,
              "exploration": 0,
              "overfitting": 0.998046875,
              "score": 0
             },
             "reward": 0,
             "visits": 0
            },
            "(0, 1, None)": {
             "failure_message": "Unvisited",
             "label": "FactorAnalysis",
             "policy": {
              "adjusted_exploration": 2.537272482359039,
              "adjusted_score": 1.751413706134316,
              "exploitation": -0.7824313521422687,
              "exploration": 1.2686362411795196,
              "overfitting": 0.998046875,
              "score": 1.7548411302167706
             },
             "reward": 0,
             "visits": 0
            },
            "(0, 10, None)": {
             "failure_message": "Unvisited",
             "label": "FactorAnalysis",
             "policy": {
              "adjusted_exploration": "-inf",
              "adjusted_score": "-inf",
              "exploitation": "-inf",
              "exploration": "-inf",
              "overfitting": 0.998046875,
              "score": "-inf"
             },
             "reward": 0,
             "visits": 0
            },
            "(0, 11, None)": {
             "failure_message": "Unvisited",
             "label": "FactorAnalysis",
             "policy": {
              "adjusted_exploration": "-inf",
              "adjusted_score": "-inf",
              "exploitation": "-inf",
              "exploration": "-inf",
              "overfitting": 0.998046875,
              "score": "-inf"
             },
             "reward": 0,
             "visits": 0
            },
            "(0, 2, None)": {
             "failure_message": "Unvisited",
             "label": "FactorAnalysis",
             "policy": {
              "adjusted_exploration": 2.884053773201766,
              "adjusted_score": 2.1735952521973205,
              "exploitation": -0.706204909943394,
              "exploration": 1.442026886600883,
              "overfitting": 0.998046875,
              "score": 2.177848863258372
             },
             "reward": 0,
             "visits": 0
            },
            "(0, 3, None)": {
             "failure_message": "Unvisited",
             "label": "FactorAnalysis",
             "policy": {
              "adjusted_exploration": 3.1527173357521288,
              "adjusted_score": 2.332638796261744,
              "exploitation": -0.8155136886170743,
              "exploration": 1.5763586678760644,
              "overfitting": 0.998046875,
              "score": 2.3372036471350546
             },
             "reward": 0,
             "visits": 0
            },
            "(0, 4, None)": {
             "failure_message": "Unvisited",
             "label": "FactorAnalysis",
             "policy": {
              "adjusted_exploration": "-inf",
              "adjusted_score": "-inf",
              "exploitation": "-inf",
              "exploration": "-inf",
              "overfitting": 0.998046875,
              "score": "-inf"
             },
             "reward": 0,
             "visits": 0
            },
            "(0, 5, None)": {
             "failure_message": "Unvisited",
             "label": "FactorAnalysis",
             "policy": {
              "adjusted_exploration": 1.769657738554306,
              "adjusted_score": 0.8148737798206142,
              "exploitation": -0.953189293802536,
              "exploration": 1.7308183826022854,
              "overfitting": 0.998046875,
              "score": 0.8164684447517699
             },
             "reward": 0,
             "visits": 0
            },
            "(0, 6, None)": {
             "failure_message": "Unvisited",
             "label": "FactorAnalysis",
             "policy": {
              "adjusted_exploration": "-inf",
              "adjusted_score": "-inf",
              "exploitation": "-inf",
              "exploration": "-inf",
              "overfitting": 0.998046875,
              "score": "-inf"
             },
             "reward": 0,
             "visits": 0
            },
            "(0, 7, None)": {
             "failure_message": "Unvisited",
             "label": "FactorAnalysis",
             "policy": {
              "adjusted_exploration": 1.018327257178704,
              "adjusted_score": 0.20215640668405185,
              "exploitation": -0.8157752410882255,
              "exploration": 1.815443985917585,
              "overfitting": 0.998046875,
              "score": 0.20255201609047857
             },
             "reward": 0,
             "visits": 0
            },
            "(0, 8, None)": {
             "failure_message": "Unvisited",
             "label": "FactorAnalysis",
             "policy": {
              "adjusted_exploration": "-inf",
              "adjusted_score": "-inf",
              "exploitation": "-inf",
              "exploration": "-inf",
              "overfitting": 0.998046875,
              "score": "-inf"
             },
             "reward": 0,
             "visits": 0
            },
            "(0, 9, None)": {
             "failure_message": "Unvisited",
             "label": "FactorAnalysis",
             "policy": {
              "adjusted_exploration": "-inf",
              "adjusted_score": "-inf",
              "exploitation": "-inf",
              "exploration": "-inf",
              "overfitting": 0.998046875,
              "score": "-inf"
             },
             "reward": 0,
             "visits": 0
            }
           },
           "reward": 0,
           "visits": 0
          },
          "200": {
           "failure_message": "Unvisited",
           "label": "KernelPCA",
           "policy": {
            "(0, 6, None)": {
             "failure_message": "Unvisited",
             "label": "KernelPCA",
             "policy": {
              "adjusted_exploration": 0,
              "adjusted_score": 0,
              "exploitation": 0,
              "exploration": 0,
              "overfitting": 0.9921875,
              "score": 0
             },
             "reward": 0,
             "visits": 0
            }
           },
           "reward": 0,
           "visits": 0
          },
          "201": {
           "failure_message": "Unvisited",
           "label": "MissingIndicator",
           "policy": {
            "(0, 6, None)": {
             "failure_message": "Unvisited",
             "label": "MissingIndicator",
             "policy": {
              "adjusted_exploration": 0,
              "adjusted_score": 0,
              "exploitation": 0,
              "exploration": 0,
              "overfitting": 0.9921875,
              "score": 0
             },
             "reward": 0,
             "visits": 0
            }
           },
           "reward": 0,
           "visits": 0
          },
          "202": {
           "failure_message": "Unvisited",
           "label": "MultiColumnLabelEncoder",
           "policy": {
            "(0, 6, None)": {
             "failure_message": "Unvisited",
             "label": "MultiColumnLabelEncoder",
             "policy": {
              "adjusted_exploration": 0,
              "adjusted_score": 0,
              "exploitation": 0,
              "exploration": 0,
              "overfitting": 0.9921875,
              "score": 0
             },
             "reward": 0,
             "visits": 0
            }
           },
           "reward": 0,
           "visits": 0
          },
          "203": {
           "failure_message": "Unvisited",
           "label": "OneHotEncoder",
           "policy": {
            "(0, 6, None)": {
             "failure_message": "Unvisited",
             "label": "OneHotEncoder",
             "policy": {
              "adjusted_exploration": 0,
              "adjusted_score": 0,
              "exploitation": 0,
              "exploration": 0,
              "overfitting": 0.9921875,
              "score": 0
             },
             "reward": 0,
             "visits": 0
            }
           },
           "reward": 0,
           "visits": 0
          },
          "204": {
           "failure_message": "Unvisited",
           "label": "PCA",
           "policy": {
            "(0, 6, None)": {
             "failure_message": "Unvisited",
             "label": "PCA",
             "policy": {
              "adjusted_exploration": 0,
              "adjusted_score": 0,
              "exploitation": 0,
              "exploration": 0,
              "overfitting": 0.9921875,
              "score": 0
             },
             "reward": 0,
             "visits": 0
            }
           },
           "reward": 0,
           "visits": 0
          },
          "205": {
           "failure_message": "Unvisited",
           "label": "PolynomialFeatures",
           "policy": {
            "(0, 6, None)": {
             "failure_message": "Unvisited",
             "label": "PolynomialFeatures",
             "policy": {
              "adjusted_exploration": 0,
              "adjusted_score": 0,
              "exploitation": 0,
              "exploration": 0,
              "overfitting": 0.9921875,
              "score": 0
             },
             "reward": 0,
             "visits": 0
            }
           },
           "reward": 0,
           "visits": 0
          },
          "206": {
           "failure_message": "Unvisited",
           "label": "RandomTreesEmbedding",
           "policy": {
            "(0, 6, None)": {
             "failure_message": "Unvisited",
             "label": "RandomTreesEmbedding",
             "policy": {
              "adjusted_exploration": 0,
              "adjusted_score": 0,
              "exploitation": 0,
              "exploration": 0,
              "overfitting": 0.9921875,
              "score": 0
             },
             "reward": 0,
             "visits": 0
            }
           },
           "reward": 0,
           "visits": 0
          },
          "207": {
           "failure_message": "Unvisited",
           "label": "SelectKBest",
           "policy": {
            "(0, 6, None)": {
             "failure_message": "Unvisited",
             "label": "SelectKBest",
             "policy": {
              "adjusted_exploration": 0,
              "adjusted_score": 0,
              "exploitation": 0,
              "exploration": 0,
              "overfitting": 0.9921875,
              "score": 0
             },
             "reward": 0,
             "visits": 0
            }
           },
           "reward": 0,
           "visits": 0
          },
          "208": {
           "failure_message": "Unvisited",
           "label": "SelectPercentileClassification",
           "policy": {
            "(0, 6, None)": {
             "failure_message": "Unvisited",
             "label": "SelectPercentileClassification",
             "policy": {
              "adjusted_exploration": 0,
              "adjusted_score": 0,
              "exploitation": 0,
              "exploration": 0,
              "overfitting": 0.9921875,
              "score": 0
             },
             "reward": 0,
             "visits": 0
            }
           },
           "reward": 0,
           "visits": 0
          },
          "209": {
           "failure_message": "Unvisited",
           "label": "TruncatedSVD",
           "policy": {
            "(0, 6, None)": {
             "failure_message": "Unvisited",
             "label": "TruncatedSVD",
             "policy": {
              "adjusted_exploration": 0,
              "adjusted_score": 0,
              "exploitation": 0,
              "exploration": 0,
              "overfitting": 0.9921875,
              "score": 0
             },
             "reward": 0,
             "visits": 0
            }
           },
           "reward": 0,
           "visits": 0
          },
          "21": {
           "failure_message": "Unvisited",
           "label": "FastICA",
           "policy": {
            "(0, 0, None)": {
             "failure_message": "Unvisited",
             "label": "FastICA",
             "policy": {
              "adjusted_exploration": 0,
              "adjusted_score": 0,
              "exploitation": 0,
              "exploration": 0,
              "overfitting": 0.998046875,
              "score": 0
             },
             "reward": 0,
             "visits": 0
            },
            "(0, 1, None)": {
             "failure_message": "Unvisited",
             "label": "FastICA",
             "policy": {
              "adjusted_exploration": 2.537272482359039,
              "adjusted_score": 1.7830827717183144,
              "exploitation": -0.7507003118702386,
              "exploration": 1.2686362411795196,
              "overfitting": 0.998046875,
              "score": 1.7865721704888005
             },
             "reward": 0,
             "visits": 0
            },
            "(0, 10, None)": {
             "failure_message": "Unvisited",
             "label": "FastICA",
             "policy": {
              "adjusted_exploration": "-inf",
              "adjusted_score": "-inf",
              "exploitation": "-inf",
              "exploration": "-inf",
              "overfitting": 0.998046875,
              "score": "-inf"
             },
             "reward": 0,
             "visits": 0
            },
            "(0, 11, None)": {
             "failure_message": "Unvisited",
             "label": "FastICA",
             "policy": {
              "adjusted_exploration": "-inf",
              "adjusted_score": "-inf",
              "exploitation": "-inf",
              "exploration": "-inf",
              "overfitting": 0.998046875,
              "score": "-inf"
             },
             "reward": 0,
             "visits": 0
            },
            "(0, 2, None)": {
             "failure_message": "Unvisited",
             "label": "FastICA",
             "policy": {
              "adjusted_exploration": 2.884053773201766,
              "adjusted_score": 2.17266491862032,
              "exploitation": -0.707137064134048,
              "exploration": 1.442026886600883,
              "overfitting": 0.998046875,
              "score": 2.1769167090677177
             },
             "reward": 0,
             "visits": 0
            },
            "(0, 3, None)": {
             "failure_message": "Unvisited",
             "label": "FastICA",
             "policy": {
              "adjusted_exploration": 3.1527173357521288,
              "adjusted_score": 2.269242218950721,
              "exploitation": -0.8790343296801736,
              "exploration": 1.5763586678760644,
              "overfitting": 0.998046875,
              "score": 2.273683006071955
             },
             "reward": 0,
             "visits": 0
            },
            "(0, 4, None)": {
             "failure_message": "Unvisited",
             "label": "FastICA",
             "policy": {
              "adjusted_exploration": "-inf",
              "adjusted_score": "-inf",
              "exploitation": "-inf",
              "exploration": "-inf",
              "overfitting": 0.998046875,
              "score": "-inf"
             },
             "reward": 0,
             "visits": 0
            },
            "(0, 5, None)": {
             "failure_message": "Unvisited",
             "label": "FastICA",
             "policy": {
              "adjusted_exploration": 1.769657738554306,
              "adjusted_score": 1.0077313334649571,
              "exploitation": -0.7599543281158363,
              "exploration": 1.7308183826022854,
              "overfitting": 0.998046875,
              "score": 1.0097034104384697
             },
             "reward": 0,
             "visits": 0
            },
            "(0, 6, None)": {
             "failure_message": "Unvisited",
             "label": "FastICA",
             "policy": {
              "adjusted_exploration": "-inf",
              "adjusted_score": "-inf",
              "exploitation": "-inf",
              "exploration": "-inf",
              "overfitting": 0.998046875,
              "score": "-inf"
             },
             "reward": 0,
             "visits": 0
            },
            "(0, 7, None)": {
             "failure_message": "Unvisited",
             "label": "FastICA",
             "policy": {
              "adjusted_exploration": 1.018327257178704,
              "adjusted_score": 0.21382282064964525,
              "exploitation": -0.8040859965669265,
              "exploration": 1.815443985917585,
              "overfitting": 0.998046875,
              "score": 0.21424126061177762
             },
             "reward": 0,
             "visits": 0
            },
            "(0, 8, None)": {
             "failure_message": "Unvisited",
             "label": "FastICA",
             "policy": {
              "adjusted_exploration": "-inf",
              "adjusted_score": "-inf",
              "exploitation": "-inf",
              "exploration": "-inf",
              "overfitting": 0.998046875,
              "score": "-inf"
             },
             "reward": 0,
             "visits": 0
            },
            "(0, 9, None)": {
             "failure_message": "Unvisited",
             "label": "FastICA",
             "policy": {
              "adjusted_exploration": "-inf",
              "adjusted_score": "-inf",
              "exploitation": "-inf",
              "exploration": "-inf",
              "overfitting": 0.998046875,
              "score": "-inf"
             },
             "reward": 0,
             "visits": 0
            }
           },
           "reward": 0,
           "visits": 0
          },
          "210": {
           "failure_message": "Unvisited",
           "label": "VarianceThreshold",
           "policy": {
            "(0, 6, None)": {
             "failure_message": "Unvisited",
             "label": "VarianceThreshold",
             "policy": {
              "adjusted_exploration": 0,
              "adjusted_score": 0,
              "exploitation": 0,
              "exploration": 0,
              "overfitting": 0.9921875,
              "score": 0
             },
             "reward": 0,
             "visits": 0
            }
           },
           "reward": 0,
           "visits": 0
          },
          "211": {
           "failure_message": "Unvisited",
           "label": "AdaBoostingClassifier",
           "policy": {
            "(0, 7, None)": {
             "failure_message": "Unvisited",
             "label": "AdaBoostingClassifier",
             "policy": {
              "adjusted_exploration": 0,
              "adjusted_score": -0.5398248636400889,
              "exploitation": -0.5419418238896578,
              "exploration": 0,
              "overfitting": 0.99609375,
              "score": -0.5419418238896578
             },
             "reward": 0,
             "visits": 0
            },
            "(0, 8, None)": {
             "failure_message": "Unvisited",
             "label": "AdaBoostingClassifier",
             "policy": {
              "adjusted_exploration": 0.5431582287462284,
              "adjusted_score": -0.011282060355667062,
              "exploitation": -0.5544845324758393,
              "exploration": 1.1774100225154747,
              "overfitting": 0.99609375,
              "score": -0.011326303729610854
             },
             "reward": 0,
             "visits": 0
            }
           },
           "reward": 0,
           "visits": 0
          },
          "212": {
           "failure_message": "Duplicate 13",
           "label": "BernoulliNB",
           "policy": {
            "(0, 7, None)": {
             "failure_message": "Unvisited",
             "label": "BernoulliNB",
             "policy": {
              "adjusted_exploration": 0,
              "adjusted_score": -0.5197459812785346,
              "exploitation": -0.5217842008129602,
              "exploration": 0,
              "overfitting": 0.99609375,
              "score": -0.5217842008129602
             },
             "reward": 0,
             "visits": 0
            },
            "(0, 8, None)": {
             "failure_message": "Unvisited",
             "label": "BernoulliNB",
             "policy": {
              "adjusted_exploration": 0.483527146257692,
              "adjusted_score": -0.21521652346380735,
              "exploitation": -0.6995876560880241,
              "exploration": 1.048147073968205,
              "overfitting": 0.99609375,
              "score": -0.2160605098303321
             },
             "reward": 0,
             "visits": 0
            }
           },
           "reward": 0,
           "visits": 1
          },
          "213": {
           "failure_message": "Unvisited",
           "label": "DecisionTree",
           "policy": {
            "(0, 7, None)": {
             "failure_message": "Unvisited",
             "label": "DecisionTree",
             "policy": {
              "adjusted_exploration": 0,
              "adjusted_score": -0.5746672218800625,
              "exploitation": -0.5769208188286118,
              "exploration": 0,
              "overfitting": 0.99609375,
              "score": -0.5769208188286118
             },
             "reward": 0,
             "visits": 0
            },
            "(0, 8, None)": {
             "failure_message": "Unvisited",
             "label": "DecisionTree",
             "policy": {
              "adjusted_exploration": 0.5431582287462284,
              "adjusted_score": 0.02088528302242272,
              "exploitation": -0.5221910426531295,
              "exploration": 1.1774100225154747,
              "overfitting": 0.99609375,
              "score": 0.02096718609309889
             },
             "reward": 0,
             "visits": 0
            }
           },
           "reward": 0,
           "visits": 0
          },
          "214": {
           "failure_message": "Unvisited",
           "label": "GradientBoostingClassifier",
           "policy": {
            "(0, 7, None)": {
             "failure_message": "Unvisited",
             "label": "GradientBoostingClassifier",
             "policy": {
              "adjusted_exploration": 0,
              "adjusted_score": -0.5606857155271019,
              "exploitation": -0.5628844830389729,
              "exploration": 0,
              "overfitting": 0.99609375,
              "score": -0.5628844830389729
             },
             "reward": 0,
             "visits": 0
            },
            "(0, 8, None)": {
             "failure_message": "Unvisited",
             "label": "GradientBoostingClassifier",
             "policy": {
              "adjusted_exploration": 0.5431582287462284,
              "adjusted_score": 0.08034140671592008,
              "exploitation": -0.46250175769024593,
              "exploration": 1.1774100225154747,
              "overfitting": 0.99609375,
              "score": 0.0806564710559825
             },
             "reward": 0,
             "visits": 0
            }
           },
           "reward": 0,
           "visits": 0
          },
          "215": {
           "failure_message": "Unvisited",
           "label": "LibSVM_SVC",
           "policy": {
            "(0, 7, None)": {
             "failure_message": "Unvisited",
             "label": "LibSVM_SVC",
             "policy": {
              "adjusted_exploration": 0,
              "adjusted_score": -0.44770873421666796,
              "exploitation": -0.44946445474300784,
              "exploration": 0,
              "overfitting": 0.99609375,
              "score": -0.44946445474300784
             },
             "reward": 0,
             "visits": 0
            },
            "(0, 8, None)": {
             "failure_message": "Unvisited",
             "label": "LibSVM_SVC",
             "policy": {
              "adjusted_exploration": 0.5431582287462284,
              "adjusted_score": -0.15285215155384327,
              "exploitation": -0.6966098005022436,
              "exploration": 1.1774100225154747,
              "overfitting": 0.99609375,
              "score": -0.1534515717560152
             },
             "reward": 0,
             "visits": 0
            }
           },
           "reward": 0,
           "visits": 0
          },
          "216": {
           "failure_message": null,
           "label": "LinearDiscriminantAnalysis",
           "policy": {
            "(0, 7, None)": {
             "failure_message": "Unvisited",
             "label": "LinearDiscriminantAnalysis",
             "policy": {
              "adjusted_exploration": 0,
              "adjusted_score": -0.6384620374767495,
              "exploitation": -0.6409658101727367,
              "exploration": 0,
              "overfitting": 0.99609375,
              "score": -0.6409658101727367
             },
             "reward": 0,
             "visits": 0
            }
           },
           "reward": -2.5621542464483356,
           "visits": 3
          },
          "217": {
           "failure_message": "Unvisited",
           "label": "MultinomialNB",
           "policy": {
            "(0, 7, None)": {
             "failure_message": "Unvisited",
             "label": "MultinomialNB",
             "policy": {
              "adjusted_exploration": 0,
              "adjusted_score": -0.5973991423422653,
              "exploitation": -0.5997418840769408,
              "exploration": 0,
              "overfitting": 0.99609375,
              "score": -0.5997418840769408
             },
             "reward": 0,
             "visits": 0
            },
            "(0, 8, None)": {
             "failure_message": "Unvisited",
             "label": "MultinomialNB",
             "policy": {
              "adjusted_exploration": 0.5431582287462284,
              "adjusted_score": 0.10298458835649264,
              "exploitation": -0.439769779258926,
              "exploration": 1.1774100225154747,
              "overfitting": 0.99609375,
              "score": 0.10338844948730241
             },
             "reward": 0,
             "visits": 0
            }
           },
           "reward": 0,
           "visits": 0
          },
          "218": {
           "failure_message": "Unvisited",
           "label": "RandomForest",
           "policy": {
            "(0, 7, None)": {
             "failure_message": "Unvisited",
             "label": "RandomForest",
             "policy": {
              "adjusted_exploration": 0,
              "adjusted_score": -0.4544537376518548,
              "exploitation": -0.4562359091720582,
              "exploration": 0,
              "overfitting": 0.99609375,
              "score": -0.4562359091720582
             },
             "reward": 0,
             "visits": 0
            },
            "(0, 8, None)": {
             "failure_message": "Unvisited",
             "label": "RandomForest",
             "policy": {
              "adjusted_exploration": 0.5431582287462284,
              "adjusted_score": 0.02767121237529458,
              "exploitation": -0.5153785018125994,
              "exploration": 1.1774100225154747,
              "overfitting": 0.99609375,
              "score": 0.027779726933629068
             },
             "reward": 0,
             "visits": 0
            }
           },
           "reward": 0,
           "visits": 0
          },
          "219": {
           "failure_message": "Unvisited",
           "label": "SGDClassifier",
           "policy": {
            "(0, 7, None)": {
             "failure_message": "Unvisited",
             "label": "SGDClassifier",
             "policy": {
              "adjusted_exploration": 0,
              "adjusted_score": -0.3408019813618712,
              "exploitation": -0.342138459720153,
              "exploration": 0,
              "overfitting": 0.99609375,
              "score": -0.342138459720153
             },
             "reward": 0,
             "visits": 0
            },
            "(0, 8, None)": {
             "failure_message": "Unvisited",
             "label": "SGDClassifier",
             "policy": {
              "adjusted_exploration": 0.5431582287462284,
              "adjusted_score": -0.07819057956381109,
              "exploitation": -0.6216554380338192,
              "exploration": 1.1774100225154747,
              "overfitting": 0.99609375,
              "score": -0.07849720928759074
             },
             "reward": 0,
             "visits": 0
            }
           },
           "reward": 0,
           "visits": 0
          },
          "22": {
           "failure_message": "Unvisited",
           "label": "FeatureAgglomeration",
           "policy": {
            "(0, 0, None)": {
             "failure_message": "Unvisited",
             "label": "FeatureAgglomeration",
             "policy": {
              "adjusted_exploration": 0,
              "adjusted_score": 0,
              "exploitation": 0,
              "exploration": 0,
              "overfitting": 0.998046875,
              "score": 0
             },
             "reward": 0,
             "visits": 0
            },
            "(0, 1, None)": {
             "failure_message": "Unvisited",
             "label": "FeatureAgglomeration",
             "policy": {
              "adjusted_exploration": 2.537272482359039,
              "adjusted_score": 1.8565302297643662,
              "exploitation": -0.6771091210295764,
              "exploration": 1.2686362411795196,
              "overfitting": 0.998046875,
              "score": 1.8601633613294628
             },
             "reward": 0,
             "visits": 0
            },
            "(0, 10, None)": {
             "failure_message": "Unvisited",
             "label": "FeatureAgglomeration",
             "policy": {
              "adjusted_exploration": "-inf",
              "adjusted_score": "-inf",
              "exploitation": "-inf",
              "exploration": "-inf",
              "overfitting": 0.998046875,
              "score": "-inf"
             },
             "reward": 0,
             "visits": 0
            },
            "(0, 11, None)": {
             "failure_message": "Unvisited",
             "label": "FeatureAgglomeration",
             "policy": {
              "adjusted_exploration": "-inf",
              "adjusted_score": "-inf",
              "exploitation": "-inf",
              "exploration": "-inf",
              "overfitting": 0.998046875,
              "score": "-inf"
             },
             "reward": 0,
             "visits": 0
            },
            "(0, 2, None)": {
             "failure_message": "Unvisited",
             "label": "FeatureAgglomeration",
             "policy": {
              "adjusted_exploration": 2.884053773201766,
              "adjusted_score": 2.02306849930593,
              "exploitation": -0.8570262357367248,
              "exploration": 1.442026886600883,
              "overfitting": 0.998046875,
              "score": 2.0270275374650413
             },
             "reward": 0,
             "visits": 0
            },
            "(0, 3, None)": {
             "failure_message": "Unvisited",
             "label": "FeatureAgglomeration",
             "policy": {
              "adjusted_exploration": 3.1527173357521288,
              "adjusted_score": 2.3366476377710237,
              "exploitation": -0.8114970020167782,
              "exploration": 1.5763586678760644,
              "overfitting": 0.998046875,
              "score": 2.3412203337353503
             },
             "reward": 0,
             "visits": 0
            },
            "(0, 4, None)": {
             "failure_message": "Unvisited",
             "label": "FeatureAgglomeration",
             "policy": {
              "adjusted_exploration": "-inf",
              "adjusted_score": "-inf",
              "exploitation": "-inf",
              "exploration": "-inf",
              "overfitting": 0.998046875,
              "score": "-inf"
             },
             "reward": 0,
             "visits": 0
            },
            "(0, 5, None)": {
             "failure_message": "Unvisited",
             "label": "FeatureAgglomeration",
             "policy": {
              "adjusted_exploration": 1.769657738554306,
              "adjusted_score": 1.2899462627262004,
              "exploitation": -0.4771871191495807,
              "exploration": 1.7308183826022854,
              "overfitting": 0.998046875,
              "score": 1.2924706194047253
             },
             "reward": 0,
             "visits": 0
            },
            "(0, 6, None)": {
             "failure_message": "Unvisited",
             "label": "FeatureAgglomeration",
             "policy": {
              "adjusted_exploration": "-inf",
              "adjusted_score": "-inf",
              "exploitation": "-inf",
              "exploration": "-inf",
              "overfitting": 0.998046875,
              "score": "-inf"
             },
             "reward": 0,
             "visits": 0
            },
            "(0, 7, None)": {
             "failure_message": "Unvisited",
             "label": "FeatureAgglomeration",
             "policy": {
              "adjusted_exploration": 1.018327257178704,
              "adjusted_score": 0.3145227294895653,
              "exploitation": -0.7031890233261455,
              "exploration": 1.815443985917585,
              "overfitting": 0.998046875,
              "score": 0.31513823385255857
             },
             "reward": 0,
             "visits": 0
            },
            "(0, 8, None)": {
             "failure_message": "Unvisited",
             "label": "FeatureAgglomeration",
             "policy": {
              "adjusted_exploration": "-inf",
              "adjusted_score": "-inf",
              "exploitation": "-inf",
              "exploration": "-inf",
              "overfitting": 0.998046875,
              "score": "-inf"
             },
             "reward": 0,
             "visits": 0
            },
            "(0, 9, None)": {
             "failure_message": "Unvisited",
             "label": "FeatureAgglomeration",
             "policy": {
              "adjusted_exploration": "-inf",
              "adjusted_score": "-inf",
              "exploitation": "-inf",
              "exploration": "-inf",
              "overfitting": 0.998046875,
              "score": "-inf"
             },
             "reward": 0,
             "visits": 0
            }
           },
           "reward": 0,
           "visits": 0
          },
          "220": {
           "failure_message": "Unvisited",
           "label": "Imputation",
           "policy": {
            "(0, 7, None)": {
             "failure_message": "Unvisited",
             "label": "Imputation",
             "policy": {
              "adjusted_exploration": 0,
              "adjusted_score": 0,
              "exploitation": 0,
              "exploration": 0,
              "overfitting": 0.99609375,
              "score": 0
             },
             "reward": 0,
             "visits": 0
            },
            "(0, 8, None)": {
             "failure_message": "Unvisited",
             "label": "Imputation",
             "policy": {
              "adjusted_exploration": 0.5431582287462284,
              "adjusted_score": -0.020827899460356153,
              "exploitation": -0.564067806243684,
              "exploration": 1.1774100225154747,
              "overfitting": 0.99609375,
              "score": -0.02090957749745559
             },
             "reward": 0,
             "visits": 0
            }
           },
           "reward": 0,
           "visits": 0
          },
          "221": {
           "failure_message": "Unvisited",
           "label": "KNNImputer",
           "policy": {
            "(0, 7, None)": {
             "failure_message": "Unvisited",
             "label": "KNNImputer",
             "policy": {
              "adjusted_exploration": 0,
              "adjusted_score": 0,
              "exploitation": 0,
              "exploration": 0,
              "overfitting": 0.99609375,
              "score": 0
             },
             "reward": 0,
             "visits": 0
            },
            "(0, 8, None)": {
             "failure_message": "Unvisited",
             "label": "KNNImputer",
             "policy": {
              "adjusted_exploration": 0.5431582287462284,
              "adjusted_score": -0.13124360934107737,
              "exploitation": -0.6749165189082512,
              "exploration": 1.1774100225154747,
              "overfitting": 0.99609375,
              "score": -0.13175829016202278
             },
             "reward": 0,
             "visits": 0
            }
           },
           "reward": 0,
           "visits": 0
          },
          "222": {
           "failure_message": "Unvisited",
           "label": "MaxAbsScaler",
           "policy": {
            "(0, 7, None)": {
             "failure_message": "Unvisited",
             "label": "MaxAbsScaler",
             "policy": {
              "adjusted_exploration": 0,
              "adjusted_score": 0,
              "exploitation": 0,
              "exploration": 0,
              "overfitting": 0.99609375,
              "score": 0
             },
             "reward": 0,
             "visits": 0
            },
            "(0, 8, None)": {
             "failure_message": "Unvisited",
             "label": "MaxAbsScaler",
             "policy": {
              "adjusted_exploration": 0.5431582287462284,
              "adjusted_score": -0.14544295204957752,
              "exploitation": -0.6891715453136474,
              "exploration": 1.1774100225154747,
              "overfitting": 0.99609375,
              "score": -0.146013316567419
             },
             "reward": 0,
             "visits": 0
            }
           },
           "reward": 0,
           "visits": 0
          },
          "223": {
           "failure_message": "Unvisited",
           "label": "MinMaxScaler",
           "policy": {
            "(0, 7, None)": {
             "failure_message": "Unvisited",
             "label": "MinMaxScaler",
             "policy": {
              "adjusted_exploration": 0,
              "adjusted_score": 0,
              "exploitation": 0,
              "exploration": 0,
              "overfitting": 0.99609375,
              "score": 0
             },
             "reward": 0,
             "visits": 0
            },
            "(0, 8, None)": {
             "failure_message": "Unvisited",
             "label": "MinMaxScaler",
             "policy": {
              "adjusted_exploration": 0.5431582287462284,
              "adjusted_score": 0.04491968068531675,
              "exploitation": -0.49806239245038103,
              "exploration": 1.1774100225154747,
              "overfitting": 0.99609375,
              "score": 0.0450958362958474
             },
             "reward": 0,
             "visits": 0
            }
           },
           "reward": 0,
           "visits": 0
          },
          "224": {
           "failure_message": "Unvisited",
           "label": "Normalizer",
           "policy": {
            "(0, 7, None)": {
             "failure_message": "Unvisited",
             "label": "Normalizer",
             "policy": {
              "adjusted_exploration": 0,
              "adjusted_score": 0,
              "exploitation": 0,
              "exploration": 0,
              "overfitting": 0.99609375,
              "score": 0
             },
             "reward": 0,
             "visits": 0
            },
            "(0, 8, None)": {
             "failure_message": "Unvisited",
             "label": "Normalizer",
             "policy": {
              "adjusted_exploration": 0.5431582287462284,
              "adjusted_score": 0.05526018950954925,
              "exploitation": -0.48768133261115154,
              "exploration": 1.1774100225154747,
              "overfitting": 0.99609375,
              "score": 0.05547689613507689
             },
             "reward": 0,
             "visits": 0
            }
           },
           "reward": 0,
           "visits": 0
          },
          "225": {
           "failure_message": "Unvisited",
           "label": "QuantileTransformer",
           "policy": {
            "(0, 7, None)": {
             "failure_message": "Unvisited",
             "label": "QuantileTransformer",
             "policy": {
              "adjusted_exploration": 0,
              "adjusted_score": 0,
              "exploitation": 0,
              "exploration": 0,
              "overfitting": 0.99609375,
              "score": 0
             },
             "reward": 0,
             "visits": 0
            },
            "(0, 8, None)": {
             "failure_message": "Unvisited",
             "label": "QuantileTransformer",
             "policy": {
              "adjusted_exploration": 0.5431582287462284,
              "adjusted_score": -0.009134312075514586,
              "exploitation": -0.5523283616534117,
              "exploration": 1.1774100225154747,
              "overfitting": 0.99609375,
              "score": -0.00917013290718327
             },
             "reward": 0,
             "visits": 0
            }
           },
           "reward": 0,
           "visits": 0
          },
          "226": {
           "failure_message": "Unvisited",
           "label": "RobustScaler",
           "policy": {
            "(0, 7, None)": {
             "failure_message": "Unvisited",
             "label": "RobustScaler",
             "policy": {
              "adjusted_exploration": 0,
              "adjusted_score": 0,
              "exploitation": 0,
              "exploration": 0,
              "overfitting": 0.99609375,
              "score": 0
             },
             "reward": 0,
             "visits": 0
            },
            "(0, 8, None)": {
             "failure_message": "Unvisited",
             "label": "RobustScaler",
             "policy": {
              "adjusted_exploration": 0.5431582287462284,
              "adjusted_score": -0.02098899060741786,
              "exploitation": -0.5642295291207342,
              "exploration": 1.1774100225154747,
              "overfitting": 0.99609375,
              "score": -0.021071300374505775
             },
             "reward": 0,
             "visits": 0
            }
           },
           "reward": 0,
           "visits": 0
          },
          "227": {
           "failure_message": null,
           "label": "StandardScaler",
           "policy": {
            "(0, 7, None)": {
             "failure_message": "Unvisited",
             "label": "StandardScaler",
             "policy": {
              "adjusted_exploration": 0,
              "adjusted_score": 0,
              "exploitation": 0,
              "exploration": 0,
              "overfitting": 0.99609375,
              "score": 0
             },
             "reward": 0,
             "visits": 0
            },
            "(0, 8, None)": {
             "failure_message": "Unvisited",
             "label": "StandardScaler",
             "policy": {
              "adjusted_exploration": 0.5431582287462284,
              "adjusted_score": -0.26205636556167416,
              "exploitation": -0.8062422663297131,
              "exploration": 1.1774100225154747,
              "overfitting": 0.99609375,
              "score": -0.26308403758348464
             },
             "reward": 0,
             "visits": 0
            }
           },
           "reward": -1.1923328440182375,
           "visits": 3
          },
          "228": {
           "failure_message": "Unvisited",
           "label": "BernoulliRBM",
           "policy": {
            "(0, 7, None)": {
             "failure_message": "Unvisited",
             "label": "BernoulliRBM",
             "policy": {
              "adjusted_exploration": 0,
              "adjusted_score": 0,
              "exploitation": 0,
              "exploration": 0,
              "overfitting": 0.99609375,
              "score": 0
             },
             "reward": 0,
             "visits": 0
            },
            "(0, 8, None)": {
             "failure_message": "Unvisited",
             "label": "BernoulliRBM",
             "policy": {
              "adjusted_exploration": 0.5431582287462284,
              "adjusted_score": -0.039693798081197176,
              "exploitation": -0.5830076887806852,
              "exploration": 1.1774100225154747,
              "overfitting": 0.99609375,
              "score": -0.039849460034456774
             },
             "reward": 0,
             "visits": 0
            }
           },
           "reward": 0,
           "visits": 0
          },
          "229": {
           "failure_message": "Unvisited",
           "label": "Binarizer",
           "policy": {
            "(0, 7, None)": {
             "failure_message": "Unvisited",
             "label": "Binarizer",
             "policy": {
              "adjusted_exploration": 0,
              "adjusted_score": 0,
              "exploitation": 0,
              "exploration": 0,
              "overfitting": 0.99609375,
              "score": 0
             },
             "reward": 0,
             "visits": 0
            },
            "(0, 8, None)": {
             "failure_message": "Unvisited",
             "label": "Binarizer",
             "policy": {
              "adjusted_exploration": 0.5431582287462284,
              "adjusted_score": 0.07416878013461184,
              "exploitation": -0.4686985906503044,
              "exploration": 1.1774100225154747,
              "overfitting": 0.99609375,
              "score": 0.07445963809592404
             },
             "reward": 0,
             "visits": 0
            }
           },
           "reward": 0,
           "visits": 0
          },
          "23": {
           "failure_message": "Unvisited",
           "label": "GenericUnivariateSelect",
           "policy": {
            "(0, 0, None)": {
             "failure_message": "Unvisited",
             "label": "GenericUnivariateSelect",
             "policy": {
              "adjusted_exploration": 0,
              "adjusted_score": 0,
              "exploitation": 0,
              "exploration": 0,
              "overfitting": 0.998046875,
              "score": 0
             },
             "reward": 0,
             "visits": 0
            },
            "(0, 1, None)": {
             "failure_message": "Unvisited",
             "label": "GenericUnivariateSelect",
             "policy": {
              "adjusted_exploration": 2.537272482359039,
              "adjusted_score": 1.7735588144710792,
              "exploitation": -0.7602429069985841,
              "exploration": 1.2686362411795196,
              "overfitting": 0.998046875,
              "score": 1.777029575360455
             },
             "reward": 0,
             "visits": 0
            },
            "(0, 10, None)": {
             "failure_message": "Unvisited",
             "label": "GenericUnivariateSelect",
             "policy": {
              "adjusted_exploration": "-inf",
              "adjusted_score": "-inf",
              "exploitation": "-inf",
              "exploration": "-inf",
              "overfitting": 0.998046875,
              "score": "-inf"
             },
             "reward": 0,
             "visits": 0
            },
            "(0, 11, None)": {
             "failure_message": "Unvisited",
             "label": "GenericUnivariateSelect",
             "policy": {
              "adjusted_exploration": "-inf",
              "adjusted_score": "-inf",
              "exploitation": "-inf",
              "exploration": "-inf",
              "overfitting": 0.998046875,
              "score": "-inf"
             },
             "reward": 0,
             "visits": 0
            },
            "(0, 2, None)": {
             "failure_message": "Unvisited",
             "label": "GenericUnivariateSelect",
             "policy": {
              "adjusted_exploration": 2.884053773201766,
              "adjusted_score": 2.241161110433206,
              "exploitation": -0.6385068288929565,
              "exploration": 1.442026886600883,
              "overfitting": 0.998046875,
              "score": 2.2455469443088094
             },
             "reward": 0,
             "visits": 0
            },
            "(0, 3, None)": {
             "failure_message": "Unvisited",
             "label": "GenericUnivariateSelect",
             "policy": {
              "adjusted_exploration": 3.1527173357521288,
              "adjusted_score": 2.602560325132893,
              "exploitation": -0.5450639375759228,
              "exploration": 1.5763586678760644,
              "overfitting": 0.998046875,
              "score": 2.607653398176206
             },
             "reward": 0,
             "visits": 0
            },
            "(0, 4, None)": {
             "failure_message": "Unvisited",
             "label": "GenericUnivariateSelect",
             "policy": {
              "adjusted_exploration": "-inf",
              "adjusted_score": "-inf",
              "exploitation": "-inf",
              "exploration": "-inf",
              "overfitting": 0.998046875,
              "score": "-inf"
             },
             "reward": 0,
             "visits": 0
            },
            "(0, 5, None)": {
             "failure_message": "Unvisited",
             "label": "GenericUnivariateSelect",
             "policy": {
              "adjusted_exploration": 1.769657738554306,
              "adjusted_score": 1.0132941515095835,
              "exploitation": -0.7543806239302224,
              "exploration": 1.7308183826022854,
              "overfitting": 0.998046875,
              "score": 1.0152771146240835
             },
             "reward": 0,
             "visits": 0
            },
            "(0, 6, None)": {
             "failure_message": "Unvisited",
             "label": "GenericUnivariateSelect",
             "policy": {
              "adjusted_exploration": "-inf",
              "adjusted_score": "-inf",
              "exploitation": "-inf",
              "exploration": "-inf",
              "overfitting": 0.998046875,
              "score": "-inf"
             },
             "reward": 0,
             "visits": 0
            },
            "(0, 7, None)": {
             "failure_message": "Unvisited",
             "label": "GenericUnivariateSelect",
             "policy": {
              "adjusted_exploration": 1.018327257178704,
              "adjusted_score": 0.3160388322674008,
              "exploitation": -0.701669953615281,
              "exploration": 1.815443985917585,
              "overfitting": 0.998046875,
              "score": 0.31665730356342314
             },
             "reward": 0,
             "visits": 0
            },
            "(0, 8, None)": {
             "failure_message": "Unvisited",
             "label": "GenericUnivariateSelect",
             "policy": {
              "adjusted_exploration": "-inf",
              "adjusted_score": "-inf",
              "exploitation": "-inf",
              "exploration": "-inf",
              "overfitting": 0.998046875,
              "score": "-inf"
             },
             "reward": 0,
             "visits": 0
            },
            "(0, 9, None)": {
             "failure_message": "Unvisited",
             "label": "GenericUnivariateSelect",
             "policy": {
              "adjusted_exploration": "-inf",
              "adjusted_score": "-inf",
              "exploitation": "-inf",
              "exploration": "-inf",
              "overfitting": 0.998046875,
              "score": "-inf"
             },
             "reward": 0,
             "visits": 0
            }
           },
           "reward": 0,
           "visits": 0
          },
          "230": {
           "failure_message": "Unvisited",
           "label": "FactorAnalysis",
           "policy": {
            "(0, 7, None)": {
             "failure_message": "Unvisited",
             "label": "FactorAnalysis",
             "policy": {
              "adjusted_exploration": 0,
              "adjusted_score": 0,
              "exploitation": 0,
              "exploration": 0,
              "overfitting": 0.99609375,
              "score": 0
             },
             "reward": 0,
             "visits": 0
            },
            "(0, 8, None)": {
             "failure_message": "Unvisited",
             "label": "FactorAnalysis",
             "policy": {
              "adjusted_exploration": 0.5431582287462284,
              "adjusted_score": -0.22600585731760864,
              "exploitation": -0.770050383543514,
              "exploration": 1.1774100225154747,
              "overfitting": 0.99609375,
              "score": -0.22689215479728553
             },
             "reward": 0,
             "visits": 0
            }
           },
           "reward": 0,
           "visits": 0
          },
          "231": {
           "failure_message": "Unvisited",
           "label": "FastICA",
           "policy": {
            "(0, 7, None)": {
             "failure_message": "Unvisited",
             "label": "FastICA",
             "policy": {
              "adjusted_exploration": 0,
              "adjusted_score": 0,
              "exploitation": 0,
              "exploration": 0,
              "overfitting": 0.99609375,
              "score": 0
             },
             "reward": 0,
             "visits": 0
            },
            "(0, 8, None)": {
             "failure_message": "Unvisited",
             "label": "FastICA",
             "policy": {
              "adjusted_exploration": 0.5431582287462284,
              "adjusted_score": -0.12345774810053188,
              "exploitation": -0.6671001248785271,
              "exploration": 1.1774100225154747,
              "overfitting": 0.99609375,
              "score": -0.12394189613229867
             },
             "reward": 0,
             "visits": 0
            }
           },
           "reward": 0,
           "visits": 0
          },
          "232": {
           "failure_message": "Unvisited",
           "label": "FeatureAgglomeration",
           "policy": {
            "(0, 7, None)": {
             "failure_message": "Unvisited",
             "label": "FeatureAgglomeration",
             "policy": {
              "adjusted_exploration": 0,
              "adjusted_score": 0,
              "exploitation": 0,
              "exploration": 0,
              "overfitting": 0.99609375,
              "score": 0
             },
             "reward": 0,
             "visits": 0
            },
            "(0, 8, None)": {
             "failure_message": "Unvisited",
             "label": "FeatureAgglomeration",
             "policy": {
              "adjusted_exploration": 0.5431582287462284,
              "adjusted_score": 0.19250161933270554,
              "exploitation": -0.34990170110241425,
              "exploration": 1.1774100225154747,
              "overfitting": 0.99609375,
              "score": 0.19325652764381418
             },
             "reward": 0,
             "visits": 0
            }
           },
           "reward": 0,
           "visits": 0
          },
          "233": {
           "failure_message": "Unvisited",
           "label": "GenericUnivariateSelect",
           "policy": {
            "(0, 7, None)": {
             "failure_message": "Unvisited",
             "label": "GenericUnivariateSelect",
             "policy": {
              "adjusted_exploration": 0,
              "adjusted_score": 0,
              "exploitation": 0,
              "exploration": 0,
              "overfitting": 0.99609375,
              "score": 0
             },
             "reward": 0,
             "visits": 0
            },
            "(0, 8, None)": {
             "failure_message": "Unvisited",
             "label": "GenericUnivariateSelect",
             "policy": {
              "adjusted_exploration": 0.5431582287462284,
              "adjusted_score": 0.2858978491217951,
              "exploitation": -0.2561392115886616,
              "exploration": 1.1774100225154747,
              "overfitting": 0.99609375,
              "score": 0.28701901715756684
             },
             "reward": 0,
             "visits": 0
            }
           },
           "reward": 0,
           "visits": 0
          },
          "234": {
           "failure_message": "Unvisited",
           "label": "KBinsDiscretizer",
           "policy": {
            "(0, 7, None)": {
             "failure_message": "Unvisited",
             "label": "KBinsDiscretizer",
             "policy": {
              "adjusted_exploration": 0,
              "adjusted_score": 0,
              "exploitation": 0,
              "exploration": 0,
              "overfitting": 0.99609375,
              "score": 0
             },
             "reward": 0,
             "visits": 0
            },
            "(0, 8, None)": {
             "failure_message": "Unvisited",
             "label": "KBinsDiscretizer",
             "policy": {
              "adjusted_exploration": 0.5431582287462284,
              "adjusted_score": -0.02383777549261968,
              "exploitation": -0.5670894857113682,
              "exploration": 1.1774100225154747,
              "overfitting": 0.99609375,
              "score": -0.023931256965139758
             },
             "reward": 0,
             "visits": 0
            }
           },
           "reward": 0,
           "visits": 0
          },
          "235": {
           "failure_message": "Unvisited",
           "label": "KernelPCA",
           "policy": {
            "(0, 7, None)": {
             "failure_message": "Unvisited",
             "label": "KernelPCA",
             "policy": {
              "adjusted_exploration": 0,
              "adjusted_score": 0,
              "exploitation": 0,
              "exploration": 0,
              "overfitting": 0.99609375,
              "score": 0
             },
             "reward": 0,
             "visits": 0
            },
            "(0, 8, None)": {
             "failure_message": "Unvisited",
             "label": "KernelPCA",
             "policy": {
              "adjusted_exploration": 0.5431582287462284,
              "adjusted_score": 0.04766528969798912,
              "exploitation": -0.4953060163435413,
              "exploration": 1.1774100225154747,
              "overfitting": 0.99609375,
              "score": 0.04785221240268711
             },
             "reward": 0,
             "visits": 0
            }
           },
           "reward": 0,
           "visits": 0
          },
          "236": {
           "failure_message": "Unvisited",
           "label": "MissingIndicator",
           "policy": {
            "(0, 7, None)": {
             "failure_message": "Unvisited",
             "label": "MissingIndicator",
             "policy": {
              "adjusted_exploration": 0,
              "adjusted_score": 0,
              "exploitation": 0,
              "exploration": 0,
              "overfitting": 0.99609375,
              "score": 0
             },
             "reward": 0,
             "visits": 0
            },
            "(0, 8, None)": {
             "failure_message": "Unvisited",
             "label": "MissingIndicator",
             "policy": {
              "adjusted_exploration": 0.5431582287462284,
              "adjusted_score": -0.0714669817642352,
              "exploitation": -0.6149054731840489,
              "exploration": 1.1774100225154747,
              "overfitting": 0.99609375,
              "score": -0.07174724443782043
             },
             "reward": 0,
             "visits": 0
            }
           },
           "reward": 0,
           "visits": 0
          },
          "237": {
           "failure_message": "Unvisited",
           "label": "MultiColumnLabelEncoder",
           "policy": {
            "(0, 7, None)": {
             "failure_message": "Unvisited",
             "label": "MultiColumnLabelEncoder",
             "policy": {
              "adjusted_exploration": 0,
              "adjusted_score": 0,
              "exploitation": 0,
              "exploration": 0,
              "overfitting": 0.99609375,
              "score": 0
             },
             "reward": 0,
             "visits": 0
            },
            "(0, 8, None)": {
             "failure_message": "Unvisited",
             "label": "MultiColumnLabelEncoder",
             "policy": {
              "adjusted_exploration": 0.5431582287462284,
              "adjusted_score": -0.024972689783573795,
              "exploitation": -0.5682288506466006,
              "exploration": 1.1774100225154747,
              "overfitting": 0.99609375,
              "score": -0.025070621900372125
             },
             "reward": 0,
             "visits": 0
            }
           },
           "reward": 0,
           "visits": 0
          },
          "238": {
           "failure_message": "Unvisited",
           "label": "OneHotEncoder",
           "policy": {
            "(0, 7, None)": {
             "failure_message": "Unvisited",
             "label": "OneHotEncoder",
             "policy": {
              "adjusted_exploration": 0,
              "adjusted_score": 0,
              "exploitation": 0,
              "exploration": 0,
              "overfitting": 0.99609375,
              "score": 0
             },
             "reward": 0,
             "visits": 0
            },
            "(0, 8, None)": {
             "failure_message": "Unvisited",
             "label": "OneHotEncoder",
             "policy": {
              "adjusted_exploration": 0.5431582287462284,
              "adjusted_score": -0.008640553197442466,
              "exploitation": -0.5518326664660138,
              "exploration": 1.1774100225154747,
              "overfitting": 0.99609375,
              "score": -0.008674437719785377
             },
             "reward": 0,
             "visits": 0
            }
           },
           "reward": 0,
           "visits": 0
          },
          "239": {
           "failure_message": "Unvisited",
           "label": "PCA",
           "policy": {
            "(0, 7, None)": {
             "failure_message": "Unvisited",
             "label": "PCA",
             "policy": {
              "adjusted_exploration": 0,
              "adjusted_score": 0,
              "exploitation": 0,
              "exploration": 0,
              "overfitting": 0.99609375,
              "score": 0
             },
             "reward": 0,
             "visits": 0
            },
            "(0, 8, None)": {
             "failure_message": "Unvisited",
             "label": "PCA",
             "policy": {
              "adjusted_exploration": 0.5431582287462284,
              "adjusted_score": 0.15454568542031613,
              "exploitation": -0.38800648181446007,
              "exploration": 1.1774100225154747,
              "overfitting": 0.99609375,
              "score": 0.15515174693176836
             },
             "reward": 0,
             "visits": 0
            }
           },
           "reward": 0,
           "visits": 0
          },
          "24": {
           "failure_message": null,
           "label": "KBinsDiscretizer",
           "policy": {
            "(0, 0, None)": {
             "failure_message": "Unvisited",
             "label": "KBinsDiscretizer",
             "policy": {
              "adjusted_exploration": 0,
              "adjusted_score": 0,
              "exploitation": 0,
              "exploration": 0,
              "overfitting": 0.998046875,
              "score": 0
             },
             "reward": 0,
             "visits": 0
            },
            "(0, 1, None)": {
             "failure_message": "Unvisited",
             "label": "KBinsDiscretizer",
             "policy": {
              "adjusted_exploration": 2.537272482359039,
              "adjusted_score": 1.6861972455890168,
              "exploitation": -0.8477754378549752,
              "exploration": 1.2686362411795196,
              "overfitting": 0.998046875,
              "score": 1.6894970445040638
             },
             "reward": 0,
             "visits": 0
            },
            "(0, 10, None)": {
             "failure_message": null,
             "label": "KBinsDiscretizer",
             "policy": {
              "adjusted_exploration": 0.3021672750750246,
              "adjusted_score": 0.8368848343113231,
              "exploitation": 0.5363552986380818,
              "exploration": 0.7182237924853451,
              "overfitting": 0.998046875,
              "score": 0.8385225737131065
             },
             "reward": -3.7544870904665726,
             "visits": 7
            },
            "(0, 11, None)": {
             "failure_message": null,
             "label": "KBinsDiscretizer",
             "policy": {
              "adjusted_exploration": 0.30040961108040054,
              "adjusted_score": 0.8351306032541885,
              "exploitation": 0.5363552986380818,
              "exploration": 0.7283613768202379,
              "overfitting": 0.998046875,
              "score": 0.8367649097184824
             },
             "reward": -3.7544870904665726,
             "visits": 7
            },
            "(0, 2, None)": {
             "failure_message": "Unvisited",
             "label": "KBinsDiscretizer",
             "policy": {
              "adjusted_exploration": 2.884053773201766,
              "adjusted_score": 2.1868675147717656,
              "exploitation": -0.6929066742523649,
              "exploration": 1.442026886600883,
              "overfitting": 0.998046875,
              "score": 2.191147098949401
             },
             "reward": 0,
             "visits": 0
            },
            "(0, 3, None)": {
             "failure_message": "Unvisited",
             "label": "KBinsDiscretizer",
             "policy": {
              "adjusted_exploration": 3.1527173357521288,
              "adjusted_score": 2.3013733172677013,
              "exploitation": -0.8468403525015162,
              "exploration": 1.5763586678760644,
              "overfitting": 0.998046875,
              "score": 2.3058769832506125
             },
             "reward": 0,
             "visits": 0
            },
            "(0, 4, None)": {
             "failure_message": "Unvisited",
             "label": "KBinsDiscretizer",
             "policy": {
              "adjusted_exploration": "-inf",
              "adjusted_score": "-inf",
              "exploitation": "-inf",
              "exploration": "-inf",
              "overfitting": 0.998046875,
              "score": "-inf"
             },
             "reward": 0,
             "visits": 0
            },
            "(0, 5, None)": {
             "failure_message": "Unvisited",
             "label": "KBinsDiscretizer",
             "policy": {
              "adjusted_exploration": 1.769657738554306,
              "adjusted_score": 1.0114563076703527,
              "exploitation": -0.7562220643327393,
              "exploration": 1.7308183826022854,
              "overfitting": 0.998046875,
              "score": 1.0134356742215667
             },
             "reward": 0,
             "visits": 0
            },
            "(0, 6, None)": {
             "failure_message": "Unvisited",
             "label": "KBinsDiscretizer",
             "policy": {
              "adjusted_exploration": "-inf",
              "adjusted_score": "-inf",
              "exploitation": "-inf",
              "exploration": "-inf",
              "overfitting": 0.998046875,
              "score": "-inf"
             },
             "reward": 0,
             "visits": 0
            },
            "(0, 7, None)": {
             "failure_message": "Unvisited",
             "label": "KBinsDiscretizer",
             "policy": {
              "adjusted_exploration": 1.018327257178704,
              "adjusted_score": -0.12364573213235966,
              "exploitation": -1.1422149574757063,
              "exploration": 1.815443985917585,
              "overfitting": 0.998046875,
              "score": -0.12388770029700225
             },
             "reward": 0,
             "visits": 0
            },
            "(0, 8, None)": {
             "failure_message": null,
             "label": "KBinsDiscretizer",
             "policy": {
              "adjusted_exploration": 0.5972550156215761,
              "adjusted_score": 1.4484718482311039,
              "exploitation": 0.8540514154827785,
              "exploration": 1.064768735714029,
              "overfitting": 0.998046875,
              "score": 1.4513064311043546
             },
             "reward": -2.5621542464483356,
             "visits": 3
            },
            "(0, 9, None)": {
             "failure_message": null,
             "label": "KBinsDiscretizer",
             "policy": {
              "adjusted_exploration": 0.32742585529776874,
              "adjusted_score": 0.8620940813695697,
              "exploitation": 0.5363552986380818,
              "exploration": 0.7097646012805092,
              "overfitting": 0.998046875,
              "score": 0.8637811539358506
             },
             "reward": -3.7544870904665726,
             "visits": 7
            }
           },
           "reward": -3.7544870904665726,
           "visits": 7
          },
          "240": {
           "failure_message": "Unvisited",
           "label": "PolynomialFeatures",
           "policy": {
            "(0, 7, None)": {
             "failure_message": "Unvisited",
             "label": "PolynomialFeatures",
             "policy": {
              "adjusted_exploration": 0,
              "adjusted_score": 0,
              "exploitation": 0,
              "exploration": 0,
              "overfitting": 0.99609375,
              "score": 0
             },
             "reward": 0,
             "visits": 0
            },
            "(0, 8, None)": {
             "failure_message": "Unvisited",
             "label": "PolynomialFeatures",
             "policy": {
              "adjusted_exploration": 0.5431582287462284,
              "adjusted_score": 0.15391565041830693,
              "exploitation": -0.38863898754196735,
              "exploration": 1.1774100225154747,
              "overfitting": 0.99609375,
              "score": 0.15451924120426108
             },
             "reward": 0,
             "visits": 0
            }
           },
           "reward": 0,
           "visits": 0
          },
          "241": {
           "failure_message": "Unvisited",
           "label": "RandomTreesEmbedding",
           "policy": {
            "(0, 7, None)": {
             "failure_message": "Unvisited",
             "label": "RandomTreesEmbedding",
             "policy": {
              "adjusted_exploration": 0,
              "adjusted_score": 0,
              "exploitation": 0,
              "exploration": 0,
              "overfitting": 0.99609375,
              "score": 0
             },
             "reward": 0,
             "visits": 0
            },
            "(0, 8, None)": {
             "failure_message": "Unvisited",
             "label": "RandomTreesEmbedding",
             "policy": {
              "adjusted_exploration": 0.5431582287462284,
              "adjusted_score": -0.12126988858311744,
              "exploitation": -0.6649036855198679,
              "exploration": 1.1774100225154747,
              "overfitting": 0.99609375,
              "score": -0.12174545677363946
             },
             "reward": 0,
             "visits": 0
            }
           },
           "reward": 0,
           "visits": 0
          },
          "242": {
           "failure_message": "Unvisited",
           "label": "SelectKBest",
           "policy": {
            "(0, 7, None)": {
             "failure_message": "Unvisited",
             "label": "SelectKBest",
             "policy": {
              "adjusted_exploration": 0,
              "adjusted_score": 0,
              "exploitation": 0,
              "exploration": 0,
              "overfitting": 0.99609375,
              "score": 0
             },
             "reward": 0,
             "visits": 0
            },
            "(0, 8, None)": {
             "failure_message": "Unvisited",
             "label": "SelectKBest",
             "policy": {
              "adjusted_exploration": 0.5431582287462284,
              "adjusted_score": 0.002791329084549097,
              "exploitation": -0.5403559532731125,
              "exploration": 1.1774100225154747,
              "overfitting": 0.99609375,
              "score": 0.002802275473115956
             },
             "reward": 0,
             "visits": 0
            }
           },
           "reward": 0,
           "visits": 0
          },
          "243": {
           "failure_message": "Unvisited",
           "label": "SelectPercentileClassification",
           "policy": {
            "(0, 7, None)": {
             "failure_message": "Unvisited",
             "label": "SelectPercentileClassification",
             "policy": {
              "adjusted_exploration": 0,
              "adjusted_score": 0,
              "exploitation": 0,
              "exploration": 0,
              "overfitting": 0.99609375,
              "score": 0
             },
             "reward": 0,
             "visits": 0
            },
            "(0, 8, None)": {
             "failure_message": "Unvisited",
             "label": "SelectPercentileClassification",
             "policy": {
              "adjusted_exploration": 0.5431582287462284,
              "adjusted_score": 0.2102808205910324,
              "exploitation": -0.3320527774862116,
              "exploration": 1.1774100225154747,
              "overfitting": 0.99609375,
              "score": 0.21110545126001684
             },
             "reward": 0,
             "visits": 0
            }
           },
           "reward": 0,
           "visits": 0
          },
          "244": {
           "failure_message": "Unvisited",
           "label": "TruncatedSVD",
           "policy": {
            "(0, 7, None)": {
             "failure_message": "Unvisited",
             "label": "TruncatedSVD",
             "policy": {
              "adjusted_exploration": 0,
              "adjusted_score": 0,
              "exploitation": 0,
              "exploration": 0,
              "overfitting": 0.99609375,
              "score": 0
             },
             "reward": 0,
             "visits": 0
            },
            "(0, 8, None)": {
             "failure_message": "Unvisited",
             "label": "TruncatedSVD",
             "policy": {
              "adjusted_exploration": 0.5431582287462284,
              "adjusted_score": 0.08556521971307761,
              "exploitation": -0.45725745915192306,
              "exploration": 1.1774100225154747,
              "overfitting": 0.99609375,
              "score": 0.08590076959430537
             },
             "reward": 0,
             "visits": 0
            }
           },
           "reward": 0,
           "visits": 0
          },
          "245": {
           "failure_message": "Unvisited",
           "label": "VarianceThreshold",
           "policy": {
            "(0, 7, None)": {
             "failure_message": "Unvisited",
             "label": "VarianceThreshold",
             "policy": {
              "adjusted_exploration": 0,
              "adjusted_score": 0,
              "exploitation": 0,
              "exploration": 0,
              "overfitting": 0.99609375,
              "score": 0
             },
             "reward": 0,
             "visits": 0
            },
            "(0, 8, None)": {
             "failure_message": "Unvisited",
             "label": "VarianceThreshold",
             "policy": {
              "adjusted_exploration": 0.5431582287462284,
              "adjusted_score": -0.13468688666289383,
              "exploitation": -0.6783732992783885,
              "exploration": 1.1774100225154747,
              "overfitting": 0.99609375,
              "score": -0.1352150705321601
             },
             "reward": 0,
             "visits": 0
            }
           },
           "reward": 0,
           "visits": 0
          },
          "246": {
           "failure_message": "Unvisited",
           "label": "AdaBoostingClassifier",
           "policy": {
            "(0, 8, None)": {
             "failure_message": "Unvisited",
             "label": "AdaBoostingClassifier",
             "policy": {
              "adjusted_exploration": 0,
              "adjusted_score": -0.5102858815692481,
              "exploitation": -0.5143038806367225,
              "exploration": 0,
              "overfitting": 0.9921875,
              "score": -0.5143038806367225
             },
             "reward": 0,
             "visits": 0
            }
           },
           "reward": 0,
           "visits": 0
          },
          "247": {
           "failure_message": "Unvisited",
           "label": "BernoulliNB",
           "policy": {
            "(0, 8, None)": {
             "failure_message": "Unvisited",
             "label": "BernoulliNB",
             "policy": {
              "adjusted_exploration": 0,
              "adjusted_score": -0.4248532490439089,
              "exploitation": -0.428198550217483,
              "exploration": 0,
              "overfitting": 0.9921875,
              "score": -0.428198550217483
             },
             "reward": 0,
             "visits": 0
            }
           },
           "reward": 0,
           "visits": 0
          },
          "248": {
           "failure_message": null,
           "label": "DecisionTree",
           "policy": {
            "(0, 8, None)": {
             "failure_message": "Unvisited",
             "label": "DecisionTree",
             "policy": {
              "adjusted_exploration": 0,
              "adjusted_score": -0.651376171332654,
              "exploitation": -0.6565051175636198,
              "exploration": 0,
              "overfitting": 0.9921875,
              "score": -0.6565051175636198
             },
             "reward": 0,
             "visits": 0
            }
           },
           "reward": -1.1923328440182375,
           "visits": 3
          },
          "249": {
           "failure_message": "Unvisited",
           "label": "GradientBoostingClassifier",
           "policy": {
            "(0, 8, None)": {
             "failure_message": "Unvisited",
             "label": "GradientBoostingClassifier",
             "policy": {
              "adjusted_exploration": 0,
              "adjusted_score": -0.6310418353273032,
              "exploitation": -0.636010668676337,
              "exploration": 0,
              "overfitting": 0.9921875,
              "score": -0.636010668676337
             },
             "reward": 0,
             "visits": 0
            }
           },
           "reward": 0,
           "visits": 0
          },
          "25": {
           "failure_message": null,
           "label": "KernelPCA",
           "policy": {
            "(0, 0, None)": {
             "failure_message": "Unvisited",
             "label": "KernelPCA",
             "policy": {
              "adjusted_exploration": 0,
              "adjusted_score": 0,
              "exploitation": 0,
              "exploration": 0,
              "overfitting": 0.998046875,
              "score": 0
             },
             "reward": 0,
             "visits": 0
            },
            "(0, 1, None)": {
             "failure_message": "Unvisited",
             "label": "KernelPCA",
             "policy": {
              "adjusted_exploration": 2.537272482359039,
              "adjusted_score": 1.760693566144444,
              "exploitation": -0.773133331936426,
              "exploration": 1.2686362411795196,
              "overfitting": 0.998046875,
              "score": 1.7641391504226132
             },
             "reward": 0,
             "visits": 0
            },
            "(0, 10, None)": {
             "failure_message": null,
             "label": "KernelPCA",
             "policy": {
              "adjusted_exploration": 0.3021672750750246,
              "adjusted_score": 0.7923981448380856,
              "exploitation": 0.491781551064114,
              "exploration": 0.7182237924853451,
              "overfitting": 0.998046875,
              "score": 0.7939488261391385
             },
             "reward": -3.442470857448798,
             "visits": 7
            },
            "(0, 11, None)": {
             "failure_message": null,
             "label": "KernelPCA",
             "policy": {
              "adjusted_exploration": 0.30040961108040054,
              "adjusted_score": 0.7906439137809511,
              "exploitation": 0.491781551064114,
              "exploration": 0.7283613768202379,
              "overfitting": 0.998046875,
              "score": 0.7921911621445146
             },
             "reward": -3.442470857448798,
             "visits": 7
            },
            "(0, 2, None)": {
             "failure_message": "Unvisited",
             "label": "KernelPCA",
             "policy": {
              "adjusted_exploration": 2.884053773201766,
              "adjusted_score": 1.92889220991833,
              "exploitation": -0.9513868231466094,
              "exploration": 1.442026886600883,
              "overfitting": 0.998046875,
              "score": 1.9326669500551565
             },
             "reward": 0,
             "visits": 0
            },
            "(0, 3, None)": {
             "failure_message": "Unvisited",
             "label": "KernelPCA",
             "policy": {
              "adjusted_exploration": 3.1527173357521288,
              "adjusted_score": 2.029444422734542,
              "exploitation": -1.1193013975132142,
              "exploration": 1.5763586678760644,
              "overfitting": 0.998046875,
              "score": 2.0334159382389148
             },
             "reward": 0,
             "visits": 0
            },
            "(0, 4, None)": {
             "failure_message": null,
             "label": "KernelPCA",
             "policy": {
              "adjusted_exploration": 1.900193043211561,
              "adjusted_score": 2.753406169748042,
              "exploitation": 0.858601396927377,
              "exploration": 0.9500965216057805,
              "overfitting": 0.998046875,
              "score": 2.758794440138938
             },
             "reward": -2.575804190782131,
             "visits": 3
            },
            "(0, 5, None)": {
             "failure_message": null,
             "label": "KernelPCA",
             "policy": {
              "adjusted_exploration": 1.0035846397320058,
              "adjusted_score": 1.8585489545565326,
              "exploitation": 0.858601396927377,
              "exploration": 0.981558583392787,
              "overfitting": 0.998046875,
              "score": 1.862186036659383
             },
             "reward": -2.575804190782131,
             "visits": 3
            },
            "(0, 6, None)": {
             "failure_message": null,
             "label": "KernelPCA",
             "policy": {
              "adjusted_exploration": 1.0452740172105615,
              "adjusted_score": 1.9001569074697002,
              "exploitation": 0.858601396927377,
              "exploration": 1.0223329881418528,
              "overfitting": 0.998046875,
              "score": 1.9038754141379384
             },
             "reward": -2.575804190782131,
             "visits": 3
            },
            "(0, 7, None)": {
             "failure_message": null,
             "label": "KernelPCA",
             "policy": {
              "adjusted_exploration": 0.38489152511048075,
              "adjusted_score": 0.8749608240726912,
              "exploitation": 0.491781551064114,
              "exploration": 0.686173329415111,
              "overfitting": 0.998046875,
              "score": 0.8766730761745947
             },
             "reward": -3.442470857448798,
             "visits": 7
            },
            "(0, 8, None)": {
             "failure_message": null,
             "label": "KernelPCA",
             "policy": {
              "adjusted_exploration": 0.390995188325415,
              "adjusted_score": 0.8810525660704087,
              "exploitation": 0.491781551064114,
              "exploration": 0.6970547612902811,
              "overfitting": 0.998046875,
              "score": 0.8827767393895289
             },
             "reward": -3.442470857448798,
             "visits": 7
            },
            "(0, 9, None)": {
             "failure_message": null,
             "label": "KernelPCA",
             "policy": {
              "adjusted_exploration": 0.32742585529776874,
              "adjusted_score": 0.8176073918963321,
              "exploitation": 0.491781551064114,
              "exploration": 0.7097646012805092,
              "overfitting": 0.998046875,
              "score": 0.8192074063618827
             },
             "reward": -3.442470857448798,
             "visits": 7
            }
           },
           "reward": -3.442470857448798,
           "visits": 7
          },
          "250": {
           "failure_message": "Unvisited",
           "label": "LibSVM_SVC",
           "policy": {
            "(0, 8, None)": {
             "failure_message": "Unvisited",
             "label": "LibSVM_SVC",
             "policy": {
              "adjusted_exploration": 0,
              "adjusted_score": -0.551799807538262,
              "exploitation": -0.556144687912579,
              "exploration": 0,
              "overfitting": 0.9921875,
              "score": -0.556144687912579
             },
             "reward": 0,
             "visits": 0
            }
           },
           "reward": 0,
           "visits": 0
          },
          "251": {
           "failure_message": "Unvisited",
           "label": "LinearDiscriminantAnalysis",
           "policy": {
            "(0, 8, None)": {
             "failure_message": "Unvisited",
             "label": "LinearDiscriminantAnalysis",
             "policy": {
              "adjusted_exploration": 0,
              "adjusted_score": -0.42227075121436025,
              "exploitation": -0.42559571775935523,
              "exploration": 0,
              "overfitting": 0.9921875,
              "score": -0.42559571775935523
             },
             "reward": 0,
             "visits": 0
            }
           },
           "reward": 0,
           "visits": 0
          },
          "252": {
           "failure_message": "Unvisited",
           "label": "MultinomialNB",
           "policy": {
            "(0, 8, None)": {
             "failure_message": "Unvisited",
             "label": "MultinomialNB",
             "policy": {
              "adjusted_exploration": 0,
              "adjusted_score": -0.5577602547526794,
              "exploitation": -0.562152067782228,
              "exploration": 0,
              "overfitting": 0.9921875,
              "score": -0.562152067782228
             },
             "reward": 0,
             "visits": 0
            }
           },
           "reward": 0,
           "visits": 0
          },
          "253": {
           "failure_message": "Unvisited",
           "label": "RandomForest",
           "policy": {
            "(0, 8, None)": {
             "failure_message": "Unvisited",
             "label": "RandomForest",
             "policy": {
              "adjusted_exploration": 0,
              "adjusted_score": -0.5975504854066103,
              "exploitation": -0.6022556073389458,
              "exploration": 0,
              "overfitting": 0.9921875,
              "score": -0.6022556073389458
             },
             "reward": 0,
             "visits": 0
            }
           },
           "reward": 0,
           "visits": 0
          },
          "254": {
           "failure_message": "Unvisited",
           "label": "SGDClassifier",
           "policy": {
            "(0, 8, None)": {
             "failure_message": "Unvisited",
             "label": "SGDClassifier",
             "policy": {
              "adjusted_exploration": 0,
              "adjusted_score": -0.47536936036426164,
              "exploitation": -0.4791124261939015,
              "exploration": 0,
              "overfitting": 0.9921875,
              "score": -0.4791124261939015
             },
             "reward": 0,
             "visits": 0
            }
           },
           "reward": 0,
           "visits": 0
          },
          "255": {
           "failure_message": "Unvisited",
           "label": "Imputation",
           "policy": {
            "(0, 8, None)": {
             "failure_message": "Unvisited",
             "label": "Imputation",
             "policy": {
              "adjusted_exploration": 0,
              "adjusted_score": 0,
              "exploitation": 0,
              "exploration": 0,
              "overfitting": 0.9921875,
              "score": 0
             },
             "reward": 0,
             "visits": 0
            }
           },
           "reward": 0,
           "visits": 0
          },
          "256": {
           "failure_message": "Unvisited",
           "label": "KNNImputer",
           "policy": {
            "(0, 8, None)": {
             "failure_message": "Unvisited",
             "label": "KNNImputer",
             "policy": {
              "adjusted_exploration": 0,
              "adjusted_score": 0,
              "exploitation": 0,
              "exploration": 0,
              "overfitting": 0.9921875,
              "score": 0
             },
             "reward": 0,
             "visits": 0
            }
           },
           "reward": 0,
           "visits": 0
          },
          "257": {
           "failure_message": "Unvisited",
           "label": "MaxAbsScaler",
           "policy": {
            "(0, 8, None)": {
             "failure_message": "Unvisited",
             "label": "MaxAbsScaler",
             "policy": {
              "adjusted_exploration": 0,
              "adjusted_score": 0,
              "exploitation": 0,
              "exploration": 0,
              "overfitting": 0.9921875,
              "score": 0
             },
             "reward": 0,
             "visits": 0
            }
           },
           "reward": 0,
           "visits": 0
          },
          "258": {
           "failure_message": "Unvisited",
           "label": "MinMaxScaler",
           "policy": {
            "(0, 8, None)": {
             "failure_message": "Unvisited",
             "label": "MinMaxScaler",
             "policy": {
              "adjusted_exploration": 0,
              "adjusted_score": 0,
              "exploitation": 0,
              "exploration": 0,
              "overfitting": 0.9921875,
              "score": 0
             },
             "reward": 0,
             "visits": 0
            }
           },
           "reward": 0,
           "visits": 0
          },
          "259": {
           "failure_message": "Unvisited",
           "label": "Normalizer",
           "policy": {
            "(0, 8, None)": {
             "failure_message": "Unvisited",
             "label": "Normalizer",
             "policy": {
              "adjusted_exploration": 0,
              "adjusted_score": 0,
              "exploitation": 0,
              "exploration": 0,
              "overfitting": 0.9921875,
              "score": 0
             },
             "reward": 0,
             "visits": 0
            }
           },
           "reward": 0,
           "visits": 0
          },
          "26": {
           "failure_message": "Unvisited",
           "label": "MissingIndicator",
           "policy": {
            "(0, 0, None)": {
             "failure_message": "Unvisited",
             "label": "MissingIndicator",
             "policy": {
              "adjusted_exploration": 0,
              "adjusted_score": 0,
              "exploitation": 0,
              "exploration": 0,
              "overfitting": 0.998046875,
              "score": 0
             },
             "reward": 0,
             "visits": 0
            },
            "(0, 1, None)": {
             "failure_message": "Unvisited",
             "label": "MissingIndicator",
             "policy": {
              "adjusted_exploration": 2.537272482359039,
              "adjusted_score": 1.6461486411617825,
              "exploitation": -0.8879024152850026,
              "exploration": 1.2686362411795196,
              "overfitting": 0.998046875,
              "score": 1.6493700670740365
             },
             "reward": 0,
             "visits": 0
            },
            "(0, 10, None)": {
             "failure_message": "Unvisited",
             "label": "MissingIndicator",
             "policy": {
              "adjusted_exploration": "-inf",
              "adjusted_score": "-inf",
              "exploitation": "-inf",
              "exploration": "-inf",
              "overfitting": 0.998046875,
              "score": "-inf"
             },
             "reward": 0,
             "visits": 0
            },
            "(0, 11, None)": {
             "failure_message": "Unvisited",
             "label": "MissingIndicator",
             "policy": {
              "adjusted_exploration": "-inf",
              "adjusted_score": "-inf",
              "exploitation": "-inf",
              "exploration": "-inf",
              "overfitting": 0.998046875,
              "score": "-inf"
             },
             "reward": 0,
             "visits": 0
            },
            "(0, 2, None)": {
             "failure_message": "Unvisited",
             "label": "MissingIndicator",
             "policy": {
              "adjusted_exploration": 2.884053773201766,
              "adjusted_score": 2.0251506449630337,
              "exploitation": -0.8549400154305854,
              "exploration": 1.442026886600883,
              "overfitting": 0.998046875,
              "score": 2.0291137577711806
             },
             "reward": 0,
             "visits": 0
            },
            "(0, 3, None)": {
             "failure_message": "Unvisited",
             "label": "MissingIndicator",
             "policy": {
              "adjusted_exploration": 3.1527173357521288,
              "adjusted_score": 2.5202754397658182,
              "exploitation": -0.6275098501159274,
              "exploration": 1.5763586678760644,
              "overfitting": 0.998046875,
              "score": 2.5252074856362015
             },
             "reward": 0,
             "visits": 0
            },
            "(0, 4, None)": {
             "failure_message": "Unvisited",
             "label": "MissingIndicator",
             "policy": {
              "adjusted_exploration": "-inf",
              "adjusted_score": "-inf",
              "exploitation": "-inf",
              "exploration": "-inf",
              "overfitting": 0.998046875,
              "score": "-inf"
             },
             "reward": 0,
             "visits": 0
            },
            "(0, 5, None)": {
             "failure_message": "Unvisited",
             "label": "MissingIndicator",
             "policy": {
              "adjusted_exploration": 1.769657738554306,
              "adjusted_score": 1.0039722157233877,
              "exploitation": -0.7637208022522033,
              "exploration": 1.7308183826022854,
              "overfitting": 0.998046875,
              "score": 1.0059369363021027
             },
             "reward": 0,
             "visits": 0
            },
            "(0, 6, None)": {
             "failure_message": "Unvisited",
             "label": "MissingIndicator",
             "policy": {
              "adjusted_exploration": "-inf",
              "adjusted_score": "-inf",
              "exploitation": "-inf",
              "exploration": "-inf",
              "overfitting": 0.998046875,
              "score": "-inf"
             },
             "reward": 0,
             "visits": 0
            },
            "(0, 7, None)": {
             "failure_message": "Unvisited",
             "label": "MissingIndicator",
             "policy": {
              "adjusted_exploration": 1.018327257178704,
              "adjusted_score": 0.38480627487647373,
              "exploitation": -0.6327679367545269,
              "exploration": 1.815443985917585,
              "overfitting": 0.998046875,
              "score": 0.3855593204241772
             },
             "reward": 0,
             "visits": 0
            },
            "(0, 8, None)": {
             "failure_message": "Unvisited",
             "label": "MissingIndicator",
             "policy": {
              "adjusted_exploration": "-inf",
              "adjusted_score": "-inf",
              "exploitation": "-inf",
              "exploration": "-inf",
              "overfitting": 0.998046875,
              "score": "-inf"
             },
             "reward": 0,
             "visits": 0
            },
            "(0, 9, None)": {
             "failure_message": "Unvisited",
             "label": "MissingIndicator",
             "policy": {
              "adjusted_exploration": "-inf",
              "adjusted_score": "-inf",
              "exploitation": "-inf",
              "exploration": "-inf",
              "overfitting": 0.998046875,
              "score": "-inf"
             },
             "reward": 0,
             "visits": 0
            }
           },
           "reward": 0,
           "visits": 0
          },
          "260": {
           "failure_message": "Unvisited",
           "label": "QuantileTransformer",
           "policy": {
            "(0, 8, None)": {
             "failure_message": "Unvisited",
             "label": "QuantileTransformer",
             "policy": {
              "adjusted_exploration": 0,
              "adjusted_score": 0,
              "exploitation": 0,
              "exploration": 0,
              "overfitting": 0.9921875,
              "score": 0
             },
             "reward": 0,
             "visits": 0
            }
           },
           "reward": 0,
           "visits": 0
          },
          "261": {
           "failure_message": "Unvisited",
           "label": "RobustScaler",
           "policy": {
            "(0, 8, None)": {
             "failure_message": "Unvisited",
             "label": "RobustScaler",
             "policy": {
              "adjusted_exploration": 0,
              "adjusted_score": 0,
              "exploitation": 0,
              "exploration": 0,
              "overfitting": 0.9921875,
              "score": 0
             },
             "reward": 0,
             "visits": 0
            }
           },
           "reward": 0,
           "visits": 0
          },
          "262": {
           "failure_message": "Unvisited",
           "label": "StandardScaler",
           "policy": {
            "(0, 8, None)": {
             "failure_message": "Unvisited",
             "label": "StandardScaler",
             "policy": {
              "adjusted_exploration": 0,
              "adjusted_score": 0,
              "exploitation": 0,
              "exploration": 0,
              "overfitting": 0.9921875,
              "score": 0
             },
             "reward": 0,
             "visits": 0
            }
           },
           "reward": 0,
           "visits": 0
          },
          "263": {
           "failure_message": "Unvisited",
           "label": "BernoulliRBM",
           "policy": {
            "(0, 8, None)": {
             "failure_message": "Unvisited",
             "label": "BernoulliRBM",
             "policy": {
              "adjusted_exploration": 0,
              "adjusted_score": 0,
              "exploitation": 0,
              "exploration": 0,
              "overfitting": 0.9921875,
              "score": 0
             },
             "reward": 0,
             "visits": 0
            }
           },
           "reward": 0,
           "visits": 0
          },
          "264": {
           "failure_message": "Unvisited",
           "label": "Binarizer",
           "policy": {
            "(0, 8, None)": {
             "failure_message": "Unvisited",
             "label": "Binarizer",
             "policy": {
              "adjusted_exploration": 0,
              "adjusted_score": 0,
              "exploitation": 0,
              "exploration": 0,
              "overfitting": 0.9921875,
              "score": 0
             },
             "reward": 0,
             "visits": 0
            }
           },
           "reward": 0,
           "visits": 0
          },
          "265": {
           "failure_message": "Unvisited",
           "label": "FactorAnalysis",
           "policy": {
            "(0, 8, None)": {
             "failure_message": "Unvisited",
             "label": "FactorAnalysis",
             "policy": {
              "adjusted_exploration": 0,
              "adjusted_score": 0,
              "exploitation": 0,
              "exploration": 0,
              "overfitting": 0.9921875,
              "score": 0
             },
             "reward": 0,
             "visits": 0
            }
           },
           "reward": 0,
           "visits": 0
          },
          "266": {
           "failure_message": "Unvisited",
           "label": "FastICA",
           "policy": {
            "(0, 8, None)": {
             "failure_message": "Unvisited",
             "label": "FastICA",
             "policy": {
              "adjusted_exploration": 0,
              "adjusted_score": 0,
              "exploitation": 0,
              "exploration": 0,
              "overfitting": 0.9921875,
              "score": 0
             },
             "reward": 0,
             "visits": 0
            }
           },
           "reward": 0,
           "visits": 0
          },
          "267": {
           "failure_message": "Unvisited",
           "label": "FeatureAgglomeration",
           "policy": {
            "(0, 8, None)": {
             "failure_message": "Unvisited",
             "label": "FeatureAgglomeration",
             "policy": {
              "adjusted_exploration": 0,
              "adjusted_score": 0,
              "exploitation": 0,
              "exploration": 0,
              "overfitting": 0.9921875,
              "score": 0
             },
             "reward": 0,
             "visits": 0
            }
           },
           "reward": 0,
           "visits": 0
          },
          "268": {
           "failure_message": "Unvisited",
           "label": "GenericUnivariateSelect",
           "policy": {
            "(0, 8, None)": {
             "failure_message": "Unvisited",
             "label": "GenericUnivariateSelect",
             "policy": {
              "adjusted_exploration": 0,
              "adjusted_score": 0,
              "exploitation": 0,
              "exploration": 0,
              "overfitting": 0.9921875,
              "score": 0
             },
             "reward": 0,
             "visits": 0
            }
           },
           "reward": 0,
           "visits": 0
          },
          "269": {
           "failure_message": "Unvisited",
           "label": "KBinsDiscretizer",
           "policy": {
            "(0, 8, None)": {
             "failure_message": "Unvisited",
             "label": "KBinsDiscretizer",
             "policy": {
              "adjusted_exploration": 0,
              "adjusted_score": 0,
              "exploitation": 0,
              "exploration": 0,
              "overfitting": 0.9921875,
              "score": 0
             },
             "reward": 0,
             "visits": 0
            }
           },
           "reward": 0,
           "visits": 0
          },
          "27": {
           "failure_message": "Duplicate 3",
           "label": "MultiColumnLabelEncoder",
           "policy": {
            "(0, 0, None)": {
             "failure_message": "Unvisited",
             "label": "MultiColumnLabelEncoder",
             "policy": {
              "adjusted_exploration": 0,
              "adjusted_score": 0,
              "exploitation": 0,
              "exploration": 0,
              "overfitting": 0.998046875,
              "score": 0
             },
             "reward": 0,
             "visits": 0
            },
            "(0, 1, None)": {
             "failure_message": "Unvisited",
             "label": "MultiColumnLabelEncoder",
             "policy": {
              "adjusted_exploration": 2.537272482359039,
              "adjusted_score": 1.7103247777111437,
              "exploitation": -0.8236006894273259,
              "exploration": 1.2686362411795196,
              "overfitting": 0.998046875,
              "score": 1.7136717929317133
             },
             "reward": 0,
             "visits": 0
            },
            "(0, 10, None)": {
             "failure_message": "Duplicate 3",
             "label": "MultiColumnLabelEncoder",
             "policy": {
              "adjusted_exploration": "-inf",
              "adjusted_score": "-inf",
              "exploitation": "-inf",
              "exploration": "-inf",
              "overfitting": 0.998046875,
              "score": "-inf"
             },
             "reward": 0,
             "visits": 1
            },
            "(0, 11, None)": {
             "failure_message": "Duplicate 3",
             "label": "MultiColumnLabelEncoder",
             "policy": {
              "adjusted_exploration": "-inf",
              "adjusted_score": "-inf",
              "exploitation": "-inf",
              "exploration": "-inf",
              "overfitting": 0.998046875,
              "score": "-inf"
             },
             "reward": 0,
             "visits": 1
            },
            "(0, 2, None)": {
             "failure_message": "Unvisited",
             "label": "MultiColumnLabelEncoder",
             "policy": {
              "adjusted_exploration": 2.884053773201766,
              "adjusted_score": 2.193757090867932,
              "exploitation": -0.6860036156198066,
              "exploration": 1.442026886600883,
              "overfitting": 0.998046875,
              "score": 2.1980501575819593
             },
             "reward": 0,
             "visits": 0
            },
            "(0, 3, None)": {
             "failure_message": "Unvisited",
             "label": "MultiColumnLabelEncoder",
             "policy": {
              "adjusted_exploration": 3.097027783406775,
              "adjusted_score": 2.0488850966254697,
              "exploitation": -1.0441331269053262,
              "exploration": 1.5485138917033876,
              "overfitting": 0.998046875,
              "score": 2.052894656501449
             },
             "reward": 0,
             "visits": 0
            },
            "(0, 4, None)": {
             "failure_message": "Duplicate 3",
             "label": "MultiColumnLabelEncoder",
             "policy": {
              "adjusted_exploration": "-inf",
              "adjusted_score": "-inf",
              "exploitation": "-inf",
              "exploration": "-inf",
              "overfitting": 0.998046875,
              "score": "-inf"
             },
             "reward": 0,
             "visits": 1
            },
            "(0, 5, None)": {
             "failure_message": "Duplicate 3",
             "label": "MultiColumnLabelEncoder",
             "policy": {
              "adjusted_exploration": "-inf",
              "adjusted_score": "-inf",
              "exploitation": "-inf",
              "exploration": "-inf",
              "overfitting": 0.998046875,
              "score": "-inf"
             },
             "reward": 0,
             "visits": 1
            },
            "(0, 6, None)": {
             "failure_message": "Duplicate 3",
             "label": "MultiColumnLabelEncoder",
             "policy": {
              "adjusted_exploration": "-inf",
              "adjusted_score": "-inf",
              "exploitation": "-inf",
              "exploration": "-inf",
              "overfitting": 0.998046875,
              "score": "-inf"
             },
             "reward": 0,
             "visits": 1
            },
            "(0, 7, None)": {
             "failure_message": "Duplicate 3",
             "label": "MultiColumnLabelEncoder",
             "policy": {
              "adjusted_exploration": "-inf",
              "adjusted_score": "-inf",
              "exploitation": "-inf",
              "exploration": "-inf",
              "overfitting": 0.998046875,
              "score": "-inf"
             },
             "reward": 0,
             "visits": 1
            },
            "(0, 8, None)": {
             "failure_message": "Duplicate 3",
             "label": "MultiColumnLabelEncoder",
             "policy": {
              "adjusted_exploration": "-inf",
              "adjusted_score": "-inf",
              "exploitation": "-inf",
              "exploration": "-inf",
              "overfitting": 0.998046875,
              "score": "-inf"
             },
             "reward": 0,
             "visits": 1
            },
            "(0, 9, None)": {
             "failure_message": "Duplicate 3",
             "label": "MultiColumnLabelEncoder",
             "policy": {
              "adjusted_exploration": "-inf",
              "adjusted_score": "-inf",
              "exploitation": "-inf",
              "exploration": "-inf",
              "overfitting": 0.998046875,
              "score": "-inf"
             },
             "reward": 0,
             "visits": 1
            }
           },
           "reward": 0,
           "visits": 1
          },
          "270": {
           "failure_message": "Unvisited",
           "label": "KernelPCA",
           "policy": {
            "(0, 8, None)": {
             "failure_message": "Unvisited",
             "label": "KernelPCA",
             "policy": {
              "adjusted_exploration": 0,
              "adjusted_score": 0,
              "exploitation": 0,
              "exploration": 0,
              "overfitting": 0.9921875,
              "score": 0
             },
             "reward": 0,
             "visits": 0
            }
           },
           "reward": 0,
           "visits": 0
          },
          "271": {
           "failure_message": "Unvisited",
           "label": "MissingIndicator",
           "policy": {
            "(0, 8, None)": {
             "failure_message": "Unvisited",
             "label": "MissingIndicator",
             "policy": {
              "adjusted_exploration": 0,
              "adjusted_score": 0,
              "exploitation": 0,
              "exploration": 0,
              "overfitting": 0.9921875,
              "score": 0
             },
             "reward": 0,
             "visits": 0
            }
           },
           "reward": 0,
           "visits": 0
          },
          "272": {
           "failure_message": "Unvisited",
           "label": "MultiColumnLabelEncoder",
           "policy": {
            "(0, 8, None)": {
             "failure_message": "Unvisited",
             "label": "MultiColumnLabelEncoder",
             "policy": {
              "adjusted_exploration": 0,
              "adjusted_score": 0,
              "exploitation": 0,
              "exploration": 0,
              "overfitting": 0.9921875,
              "score": 0
             },
             "reward": 0,
             "visits": 0
            }
           },
           "reward": 0,
           "visits": 0
          },
          "273": {
           "failure_message": "Unvisited",
           "label": "OneHotEncoder",
           "policy": {
            "(0, 8, None)": {
             "failure_message": "Unvisited",
             "label": "OneHotEncoder",
             "policy": {
              "adjusted_exploration": 0,
              "adjusted_score": 0,
              "exploitation": 0,
              "exploration": 0,
              "overfitting": 0.9921875,
              "score": 0
             },
             "reward": 0,
             "visits": 0
            }
           },
           "reward": 0,
           "visits": 0
          },
          "274": {
           "failure_message": "Unvisited",
           "label": "PCA",
           "policy": {
            "(0, 8, None)": {
             "failure_message": "Unvisited",
             "label": "PCA",
             "policy": {
              "adjusted_exploration": 0,
              "adjusted_score": 0,
              "exploitation": 0,
              "exploration": 0,
              "overfitting": 0.9921875,
              "score": 0
             },
             "reward": 0,
             "visits": 0
            }
           },
           "reward": 0,
           "visits": 0
          },
          "275": {
           "failure_message": "Unvisited",
           "label": "PolynomialFeatures",
           "policy": {
            "(0, 8, None)": {
             "failure_message": "Unvisited",
             "label": "PolynomialFeatures",
             "policy": {
              "adjusted_exploration": 0,
              "adjusted_score": 0,
              "exploitation": 0,
              "exploration": 0,
              "overfitting": 0.9921875,
              "score": 0
             },
             "reward": 0,
             "visits": 0
            }
           },
           "reward": 0,
           "visits": 0
          },
          "276": {
           "failure_message": "Unvisited",
           "label": "RandomTreesEmbedding",
           "policy": {
            "(0, 8, None)": {
             "failure_message": "Unvisited",
             "label": "RandomTreesEmbedding",
             "policy": {
              "adjusted_exploration": 0,
              "adjusted_score": 0,
              "exploitation": 0,
              "exploration": 0,
              "overfitting": 0.9921875,
              "score": 0
             },
             "reward": 0,
             "visits": 0
            }
           },
           "reward": 0,
           "visits": 0
          },
          "277": {
           "failure_message": "Unvisited",
           "label": "SelectKBest",
           "policy": {
            "(0, 8, None)": {
             "failure_message": "Unvisited",
             "label": "SelectKBest",
             "policy": {
              "adjusted_exploration": 0,
              "adjusted_score": 0,
              "exploitation": 0,
              "exploration": 0,
              "overfitting": 0.9921875,
              "score": 0
             },
             "reward": 0,
             "visits": 0
            }
           },
           "reward": 0,
           "visits": 0
          },
          "278": {
           "failure_message": "Unvisited",
           "label": "SelectPercentileClassification",
           "policy": {
            "(0, 8, None)": {
             "failure_message": "Unvisited",
             "label": "SelectPercentileClassification",
             "policy": {
              "adjusted_exploration": 0,
              "adjusted_score": 0,
              "exploitation": 0,
              "exploration": 0,
              "overfitting": 0.9921875,
              "score": 0
             },
             "reward": 0,
             "visits": 0
            }
           },
           "reward": 0,
           "visits": 0
          },
          "279": {
           "failure_message": "Unvisited",
           "label": "TruncatedSVD",
           "policy": {
            "(0, 8, None)": {
             "failure_message": "Unvisited",
             "label": "TruncatedSVD",
             "policy": {
              "adjusted_exploration": 0,
              "adjusted_score": 0,
              "exploitation": 0,
              "exploration": 0,
              "overfitting": 0.9921875,
              "score": 0
             },
             "reward": 0,
             "visits": 0
            }
           },
           "reward": 0,
           "visits": 0
          },
          "28": {
           "failure_message": "Unvisited",
           "label": "OneHotEncoder",
           "policy": {
            "(0, 0, None)": {
             "failure_message": "Unvisited",
             "label": "OneHotEncoder",
             "policy": {
              "adjusted_exploration": 0,
              "adjusted_score": 0,
              "exploitation": 0,
              "exploration": 0,
              "overfitting": 0.998046875,
              "score": 0
             },
             "reward": 0,
             "visits": 0
            },
            "(0, 1, None)": {
             "failure_message": "Unvisited",
             "label": "OneHotEncoder",
             "policy": {
              "adjusted_exploration": 2.537272482359039,
              "adjusted_score": 1.6861258920540763,
              "exploitation": -0.8478469310250135,
              "exploration": 1.2686362411795196,
              "overfitting": 0.998046875,
              "score": 1.6894255513340255
             },
             "reward": 0,
             "visits": 0
            },
            "(0, 10, None)": {
             "failure_message": "Unvisited",
             "label": "OneHotEncoder",
             "policy": {
              "adjusted_exploration": "-inf",
              "adjusted_score": "-inf",
              "exploitation": "-inf",
              "exploration": "-inf",
              "overfitting": 0.998046875,
              "score": "-inf"
             },
             "reward": 0,
             "visits": 0
            },
            "(0, 11, None)": {
             "failure_message": "Unvisited",
             "label": "OneHotEncoder",
             "policy": {
              "adjusted_exploration": "-inf",
              "adjusted_score": "-inf",
              "exploitation": "-inf",
              "exploration": "-inf",
              "overfitting": 0.998046875,
              "score": "-inf"
             },
             "reward": 0,
             "visits": 0
            },
            "(0, 2, None)": {
             "failure_message": "Unvisited",
             "label": "OneHotEncoder",
             "policy": {
              "adjusted_exploration": 2.884053773201766,
              "adjusted_score": 2.102945014607359,
              "exploitation": -0.7769934063153319,
              "exploration": 1.442026886600883,
              "overfitting": 0.998046875,
              "score": 2.107060366886434
             },
             "reward": 0,
             "visits": 0
            },
            "(0, 3, None)": {
             "failure_message": "Unvisited",
             "label": "OneHotEncoder",
             "policy": {
              "adjusted_exploration": 3.1527173357521288,
              "adjusted_score": 2.4524549748123916,
              "exploitation": -0.6954630361357987,
              "exploration": 1.5763586678760644,
              "overfitting": 0.998046875,
              "score": 2.45725429961633
             },
             "reward": 0,
             "visits": 0
            },
            "(0, 4, None)": {
             "failure_message": "Unvisited",
             "label": "OneHotEncoder",
             "policy": {
              "adjusted_exploration": "-inf",
              "adjusted_score": "-inf",
              "exploitation": "-inf",
              "exploration": "-inf",
              "overfitting": 0.998046875,
              "score": "-inf"
             },
             "reward": 0,
             "visits": 0
            },
            "(0, 5, None)": {
             "failure_message": "Unvisited",
             "label": "OneHotEncoder",
             "policy": {
              "adjusted_exploration": 1.769657738554306,
              "adjusted_score": 0.9949260891952209,
              "exploitation": -0.7727846315720103,
              "exploration": 1.7308183826022854,
              "overfitting": 0.998046875,
              "score": 0.9968731069822957
             },
             "reward": 0,
             "visits": 0
            },
            "(0, 6, None)": {
             "failure_message": "Unvisited",
             "label": "OneHotEncoder",
             "policy": {
              "adjusted_exploration": "-inf",
              "adjusted_score": "-inf",
              "exploitation": "-inf",
              "exploration": "-inf",
              "overfitting": 0.998046875,
              "score": "-inf"
             },
             "reward": 0,
             "visits": 0
            },
            "(0, 7, None)": {
             "failure_message": "Unvisited",
             "label": "OneHotEncoder",
             "policy": {
              "adjusted_exploration": 1.018327257178704,
              "adjusted_score": 0.3668257055603792,
              "exploitation": -0.6507836930947234,
              "exploration": 1.815443985917585,
              "overfitting": 0.998046875,
              "score": 0.3675435640839807
             },
             "reward": 0,
             "visits": 0
            },
            "(0, 8, None)": {
             "failure_message": "Unvisited",
             "label": "OneHotEncoder",
             "policy": {
              "adjusted_exploration": "-inf",
              "adjusted_score": "-inf",
              "exploitation": "-inf",
              "exploration": "-inf",
              "overfitting": 0.998046875,
              "score": "-inf"
             },
             "reward": 0,
             "visits": 0
            },
            "(0, 9, None)": {
             "failure_message": "Unvisited",
             "label": "OneHotEncoder",
             "policy": {
              "adjusted_exploration": "-inf",
              "adjusted_score": "-inf",
              "exploitation": "-inf",
              "exploration": "-inf",
              "overfitting": 0.998046875,
              "score": "-inf"
             },
             "reward": 0,
             "visits": 0
            }
           },
           "reward": 0,
           "visits": 0
          },
          "280": {
           "failure_message": "Unvisited",
           "label": "VarianceThreshold",
           "policy": {
            "(0, 8, None)": {
             "failure_message": "Unvisited",
             "label": "VarianceThreshold",
             "policy": {
              "adjusted_exploration": 0,
              "adjusted_score": 0,
              "exploitation": 0,
              "exploration": 0,
              "overfitting": 0.9921875,
              "score": 0
             },
             "reward": 0,
             "visits": 0
            }
           },
           "reward": 0,
           "visits": 0
          },
          "281": {
           "failure_message": "Unvisited",
           "label": "AdaBoostingClassifier",
           "policy": {
            "(0, 10, None)": {
             "failure_message": "Unvisited",
             "label": "AdaBoostingClassifier",
             "policy": {
              "adjusted_exploration": 0.48561785152610454,
              "adjusted_score": -0.030262054083435942,
              "exploitation": -0.5159985803314363,
              "exploration": 1.1774100225154747,
              "overfitting": 0.99609375,
              "score": -0.03038072880533177
             },
             "reward": 0,
             "visits": 0
            }
           },
           "reward": 0,
           "visits": 0
          },
          "282": {
           "failure_message": "Unvisited",
           "label": "BernoulliNB",
           "policy": {
            "(0, 10, None)": {
             "failure_message": "Unvisited",
             "label": "BernoulliNB",
             "policy": {
              "adjusted_exploration": 0.48561785152610454,
              "adjusted_score": -0.3823936405275994,
              "exploitation": -0.8695110749577337,
              "exploration": 1.1774100225154747,
              "overfitting": 0.99609375,
              "score": -0.3838932234316292
             },
             "reward": 0,
             "visits": 0
            }
           },
           "reward": 0,
           "visits": 0
          },
          "283": {
           "failure_message": "Unvisited",
           "label": "DecisionTree",
           "policy": {
            "(0, 10, None)": {
             "failure_message": "Unvisited",
             "label": "DecisionTree",
             "policy": {
              "adjusted_exploration": 0.48561785152610454,
              "adjusted_score": -0.35315081180923585,
              "exploitation": -0.8401535684796904,
              "exploration": 1.1774100225154747,
              "overfitting": 0.99609375,
              "score": -0.3545357169535858
             },
             "reward": 0,
             "visits": 0
            }
           },
           "reward": 0,
           "visits": 0
          },
          "284": {
           "failure_message": null,
           "label": "GradientBoostingClassifier",
           "policy": {
            "(0, 10, None)": {
             "failure_message": "Unvisited",
             "label": "GradientBoostingClassifier",
             "policy": {
              "adjusted_exploration": 0.48561785152610454,
              "adjusted_score": -0.5031401895735316,
              "exploitation": -0.9907311398822775,
              "exploration": 1.1774100225154747,
              "overfitting": 0.99609375,
              "score": -0.5051132883561729
             },
             "reward": 0,
             "visits": 0
            }
           },
           "reward": -0.8666666666666667,
           "visits": 3
          },
          "285": {
           "failure_message": "Unvisited",
           "label": "LibSVM_SVC",
           "policy": {
            "(0, 10, None)": {
             "failure_message": "Unvisited",
             "label": "LibSVM_SVC",
             "policy": {
              "adjusted_exploration": 0.48561785152610454,
              "adjusted_score": -0.16964677104303996,
              "exploitation": -0.6559299040242152,
              "exploration": 1.1774100225154747,
              "overfitting": 0.99609375,
              "score": -0.1703120524981107
             },
             "reward": 0,
             "visits": 0
            }
           },
           "reward": 0,
           "visits": 0
          },
          "286": {
           "failure_message": "Unvisited",
           "label": "LinearDiscriminantAnalysis",
           "policy": {
            "(0, 10, None)": {
             "failure_message": "Unvisited",
             "label": "LinearDiscriminantAnalysis",
             "policy": {
              "adjusted_exploration": 0.48561785152610454,
              "adjusted_score": -0.3590815059290468,
              "exploitation": -0.8461075202235006,
              "exploration": 1.1774100225154747,
              "overfitting": 0.99609375,
              "score": -0.360489668697396
             },
             "reward": 0,
             "visits": 0
            }
           },
           "reward": 0,
           "visits": 0
          },
          "287": {
           "failure_message": "Unvisited",
           "label": "MultinomialNB",
           "policy": {
            "(0, 10, None)": {
             "failure_message": "Unvisited",
             "label": "MultinomialNB",
             "policy": {
              "adjusted_exploration": 0.48561785152610454,
              "adjusted_score": -0.21015688163533522,
              "exploitation": -0.6965988777953038,
              "exploration": 1.1774100225154747,
              "overfitting": 0.99609375,
              "score": -0.2109810262691993
             },
             "reward": 0,
             "visits": 0
            }
           },
           "reward": 0,
           "visits": 0
          },
          "288": {
           "failure_message": "Unvisited",
           "label": "RandomForest",
           "policy": {
            "(0, 10, None)": {
             "failure_message": "Unvisited",
             "label": "RandomForest",
             "policy": {
              "adjusted_exploration": 0.48561785152610454,
              "adjusted_score": -0.49684328275923667,
              "exploitation": -0.9844095393157696,
              "exploration": 1.1774100225154747,
              "overfitting": 0.99609375,
              "score": -0.49879168778966504
             },
             "reward": 0,
             "visits": 0
            }
           },
           "reward": 0,
           "visits": 0
          },
          "289": {
           "failure_message": "Crashed",
           "label": "SGDClassifier",
           "policy": {
            "(0, 10, None)": {
             "failure_message": "Unvisited",
             "label": "SGDClassifier",
             "policy": {
              "adjusted_exploration": 0.4323038876944187,
              "adjusted_score": -0.5583363497857313,
              "exploitation": -0.9928297917930352,
              "exploration": 1.048147073968205,
              "overfitting": 0.99609375,
              "score": -0.5605259040986166
             },
             "reward": 0,
             "visits": 0
            }
           },
           "reward": 0,
           "visits": 1
          },
          "29": {
           "failure_message": "Unvisited",
           "label": "PCA",
           "policy": {
            "(0, 0, None)": {
             "failure_message": "Unvisited",
             "label": "PCA",
             "policy": {
              "adjusted_exploration": 0,
              "adjusted_score": 0,
              "exploitation": 0,
              "exploration": 0,
              "overfitting": 0.998046875,
              "score": 0
             },
             "reward": 0,
             "visits": 0
            },
            "(0, 1, None)": {
             "failure_message": "Unvisited",
             "label": "PCA",
             "policy": {
              "adjusted_exploration": 2.537272482359039,
              "adjusted_score": 1.7348737421023566,
              "exploitation": -0.7990036840099067,
              "exploration": 1.2686362411795196,
              "overfitting": 0.998046875,
              "score": 1.7382687983491323
             },
             "reward": 0,
             "visits": 0
            },
            "(0, 10, None)": {
             "failure_message": "Unvisited",
             "label": "PCA",
             "policy": {
              "adjusted_exploration": "-inf",
              "adjusted_score": "-inf",
              "exploitation": "-inf",
              "exploration": "-inf",
              "overfitting": 0.998046875,
              "score": "-inf"
             },
             "reward": 0,
             "visits": 0
            },
            "(0, 11, None)": {
             "failure_message": "Unvisited",
             "label": "PCA",
             "policy": {
              "adjusted_exploration": "-inf",
              "adjusted_score": "-inf",
              "exploitation": "-inf",
              "exploration": "-inf",
              "overfitting": 0.998046875,
              "score": "-inf"
             },
             "reward": 0,
             "visits": 0
            },
            "(0, 2, None)": {
             "failure_message": "Unvisited",
             "label": "PCA",
             "policy": {
              "adjusted_exploration": 2.884053773201766,
              "adjusted_score": 2.085287341681171,
              "exploitation": -0.7946856343744481,
              "exploration": 1.442026886600883,
              "overfitting": 0.998046875,
              "score": 2.089368138827318
             },
             "reward": 0,
             "visits": 0
            },
            "(0, 3, None)": {
             "failure_message": "Unvisited",
             "label": "PCA",
             "policy": {
              "adjusted_exploration": 3.1527173357521288,
              "adjusted_score": 2.3717538636077666,
              "exploitation": -0.7763220751510006,
              "exploration": 1.5763586678760644,
              "overfitting": 0.998046875,
              "score": 2.3763952606011283
             },
             "reward": 0,
             "visits": 0
            },
            "(0, 4, None)": {
             "failure_message": "Unvisited",
             "label": "PCA",
             "policy": {
              "adjusted_exploration": "-inf",
              "adjusted_score": "-inf",
              "exploitation": "-inf",
              "exploration": "-inf",
              "overfitting": 0.998046875,
              "score": "-inf"
             },
             "reward": 0,
             "visits": 0
            },
            "(0, 5, None)": {
             "failure_message": "Unvisited",
             "label": "PCA",
             "policy": {
              "adjusted_exploration": 1.769657738554306,
              "adjusted_score": 0.9407691979977897,
              "exploitation": -0.8270475049439961,
              "exploration": 1.7308183826022854,
              "overfitting": 0.998046875,
              "score": 0.9426102336103098
             },
             "reward": 0,
             "visits": 0
            },
            "(0, 6, None)": {
             "failure_message": "Unvisited",
             "label": "PCA",
             "policy": {
              "adjusted_exploration": "-inf",
              "adjusted_score": "-inf",
              "exploitation": "-inf",
              "exploration": "-inf",
              "overfitting": 0.998046875,
              "score": "-inf"
             },
             "reward": 0,
             "visits": 0
            },
            "(0, 7, None)": {
             "failure_message": "Unvisited",
             "label": "PCA",
             "policy": {
              "adjusted_exploration": 1.018327257178704,
              "adjusted_score": 0.19642334611098827,
              "exploitation": -0.8215195209579096,
              "exploration": 1.815443985917585,
              "overfitting": 0.998046875,
              "score": 0.1968077362207945
             },
             "reward": 0,
             "visits": 0
            },
            "(0, 8, None)": {
             "failure_message": "Unvisited",
             "label": "PCA",
             "policy": {
              "adjusted_exploration": "-inf",
              "adjusted_score": "-inf",
              "exploitation": "-inf",
              "exploration": "-inf",
              "overfitting": 0.998046875,
              "score": "-inf"
             },
             "reward": 0,
             "visits": 0
            },
            "(0, 9, None)": {
             "failure_message": "Unvisited",
             "label": "PCA",
             "policy": {
              "adjusted_exploration": "-inf",
              "adjusted_score": "-inf",
              "exploitation": "-inf",
              "exploration": "-inf",
              "overfitting": 0.998046875,
              "score": "-inf"
             },
             "reward": 0,
             "visits": 0
            }
           },
           "reward": 0,
           "visits": 0
          },
          "290": {
           "failure_message": "Unvisited",
           "label": "Imputation",
           "policy": {
            "(0, 10, None)": {
             "failure_message": "Unvisited",
             "label": "Imputation",
             "policy": {
              "adjusted_exploration": 0.48561785152610454,
              "adjusted_score": 0.4837209067935807,
              "exploitation": 0,
              "exploration": 1.1774100225154747,
              "overfitting": 0.99609375,
              "score": 0.48561785152610454
             },
             "reward": 0,
             "visits": 0
            }
           },
           "reward": 0,
           "visits": 0
          },
          "291": {
           "failure_message": "Unvisited",
           "label": "KNNImputer",
           "policy": {
            "(0, 10, None)": {
             "failure_message": "Unvisited",
             "label": "KNNImputer",
             "policy": {
              "adjusted_exploration": 0.48561785152610454,
              "adjusted_score": 0.4837209067935807,
              "exploitation": 0,
              "exploration": 1.1774100225154747,
              "overfitting": 0.99609375,
              "score": 0.48561785152610454
             },
             "reward": 0,
             "visits": 0
            }
           },
           "reward": 0,
           "visits": 0
          },
          "292": {
           "failure_message": "Unvisited",
           "label": "MaxAbsScaler",
           "policy": {
            "(0, 10, None)": {
             "failure_message": "Unvisited",
             "label": "MaxAbsScaler",
             "policy": {
              "adjusted_exploration": 0.48561785152610454,
              "adjusted_score": 0.4837209067935807,
              "exploitation": 0,
              "exploration": 1.1774100225154747,
              "overfitting": 0.99609375,
              "score": 0.48561785152610454
             },
             "reward": 0,
             "visits": 0
            }
           },
           "reward": 0,
           "visits": 0
          },
          "293": {
           "failure_message": "Unvisited",
           "label": "MinMaxScaler",
           "policy": {
            "(0, 10, None)": {
             "failure_message": "Unvisited",
             "label": "MinMaxScaler",
             "policy": {
              "adjusted_exploration": 0.48561785152610454,
              "adjusted_score": 0.4837209067935807,
              "exploitation": 0,
              "exploration": 1.1774100225154747,
              "overfitting": 0.99609375,
              "score": 0.48561785152610454
             },
             "reward": 0,
             "visits": 0
            }
           },
           "reward": 0,
           "visits": 0
          },
          "294": {
           "failure_message": "Unvisited",
           "label": "Normalizer",
           "policy": {
            "(0, 10, None)": {
             "failure_message": "Unvisited",
             "label": "Normalizer",
             "policy": {
              "adjusted_exploration": 0.48561785152610454,
              "adjusted_score": 0.4837209067935807,
              "exploitation": 0,
              "exploration": 1.1774100225154747,
              "overfitting": 0.99609375,
              "score": 0.48561785152610454
             },
             "reward": 0,
             "visits": 0
            }
           },
           "reward": 0,
           "visits": 0
          },
          "295": {
           "failure_message": "Unvisited",
           "label": "QuantileTransformer",
           "policy": {
            "(0, 10, None)": {
             "failure_message": "Unvisited",
             "label": "QuantileTransformer",
             "policy": {
              "adjusted_exploration": 0.48561785152610454,
              "adjusted_score": 0.4837209067935807,
              "exploitation": 0,
              "exploration": 1.1774100225154747,
              "overfitting": 0.99609375,
              "score": 0.48561785152610454
             },
             "reward": 0,
             "visits": 0
            }
           },
           "reward": 0,
           "visits": 0
          },
          "296": {
           "failure_message": "Unvisited",
           "label": "RobustScaler",
           "policy": {
            "(0, 10, None)": {
             "failure_message": "Unvisited",
             "label": "RobustScaler",
             "policy": {
              "adjusted_exploration": 0.48561785152610454,
              "adjusted_score": 0.4837209067935807,
              "exploitation": 0,
              "exploration": 1.1774100225154747,
              "overfitting": 0.99609375,
              "score": 0.48561785152610454
             },
             "reward": 0,
             "visits": 0
            }
           },
           "reward": 0,
           "visits": 0
          },
          "297": {
           "failure_message": "Unvisited",
           "label": "StandardScaler",
           "policy": {
            "(0, 10, None)": {
             "failure_message": "Unvisited",
             "label": "StandardScaler",
             "policy": {
              "adjusted_exploration": 0.48561785152610454,
              "adjusted_score": 0.4837209067935807,
              "exploitation": 0,
              "exploration": 1.1774100225154747,
              "overfitting": 0.99609375,
              "score": 0.48561785152610454
             },
             "reward": 0,
             "visits": 0
            }
           },
           "reward": 0,
           "visits": 0
          },
          "298": {
           "failure_message": "Unvisited",
           "label": "BernoulliRBM",
           "policy": {
            "(0, 10, None)": {
             "failure_message": "Unvisited",
             "label": "BernoulliRBM",
             "policy": {
              "adjusted_exploration": 0.48561785152610454,
              "adjusted_score": 0.4837209067935807,
              "exploitation": 0,
              "exploration": 1.1774100225154747,
              "overfitting": 0.99609375,
              "score": 0.48561785152610454
             },
             "reward": 0,
             "visits": 0
            }
           },
           "reward": 0,
           "visits": 0
          },
          "299": {
           "failure_message": "Unvisited",
           "label": "Binarizer",
           "policy": {
            "(0, 10, None)": {
             "failure_message": "Unvisited",
             "label": "Binarizer",
             "policy": {
              "adjusted_exploration": 0.48561785152610454,
              "adjusted_score": 0.4837209067935807,
              "exploitation": 0,
              "exploration": 1.1774100225154747,
              "overfitting": 0.99609375,
              "score": 0.48561785152610454
             },
             "reward": 0,
             "visits": 0
            }
           },
           "reward": 0,
           "visits": 0
          },
          "3": {
           "failure_message": "Unvisited",
           "label": "DecisionTree",
           "policy": {
            "(0, 0, None)": {
             "failure_message": "Unvisited",
             "label": "DecisionTree",
             "policy": {
              "adjusted_exploration": 0,
              "adjusted_score": -0.8262248840604679,
              "exploitation": -0.8278417625028562,
              "exploration": 0,
              "overfitting": 0.998046875,
              "score": -0.8278417625028562
             },
             "reward": 0,
             "visits": 0
            },
            "(0, 1, None)": {
             "failure_message": "Unvisited",
             "label": "DecisionTree",
             "policy": {
              "adjusted_exploration": 2.537272482359039,
              "adjusted_score": 1.6950285024654754,
              "exploitation": -0.8389268986754318,
              "exploration": 1.2686362411795196,
              "overfitting": 0.998046875,
              "score": 1.6983455836836074
             },
             "reward": 0,
             "visits": 0
            },
            "(0, 10, None)": {
             "failure_message": "Unvisited",
             "label": "DecisionTree",
             "policy": {
              "adjusted_exploration": "-inf",
              "adjusted_score": "-inf",
              "exploitation": "-inf",
              "exploration": "-inf",
              "overfitting": 0.998046875,
              "score": "-inf"
             },
             "reward": 0,
             "visits": 0
            },
            "(0, 11, None)": {
             "failure_message": "Unvisited",
             "label": "DecisionTree",
             "policy": {
              "adjusted_exploration": "-inf",
              "adjusted_score": "-inf",
              "exploitation": "-inf",
              "exploration": "-inf",
              "overfitting": 0.998046875,
              "score": "-inf"
             },
             "reward": 0,
             "visits": 0
            },
            "(0, 2, None)": {
             "failure_message": "Unvisited",
             "label": "DecisionTree",
             "policy": {
              "adjusted_exploration": 2.884053773201766,
              "adjusted_score": 2.0758229988455295,
              "exploitation": -0.8041684984289458,
              "exploration": 1.442026886600883,
              "overfitting": 0.998046875,
              "score": 2.07988527477282
             },
             "reward": 0,
             "visits": 0
            },
            "(0, 3, None)": {
             "failure_message": "Unvisited",
             "label": "DecisionTree",
             "policy": {
              "adjusted_exploration": 3.1527173357521288,
              "adjusted_score": 2.306782368278804,
              "exploitation": -0.8414207162633859,
              "exploration": 1.5763586678760644,
              "overfitting": 0.998046875,
              "score": 2.311296619488743
             },
             "reward": 0,
             "visits": 0
            },
            "(0, 4, None)": {
             "failure_message": "Unvisited",
             "label": "DecisionTree",
             "policy": {
              "adjusted_exploration": "-inf",
              "adjusted_score": "-inf",
              "exploitation": "-inf",
              "exploration": "-inf",
              "overfitting": 0.998046875,
              "score": "-inf"
             },
             "reward": 0,
             "visits": 0
            },
            "(0, 5, None)": {
             "failure_message": "Unvisited",
             "label": "DecisionTree",
             "policy": {
              "adjusted_exploration": 1.769657738554306,
              "adjusted_score": 0.9751802402825079,
              "exploitation": -0.7925691220677227,
              "exploration": 1.7308183826022854,
              "overfitting": 0.998046875,
              "score": 0.9770886164865833
             },
             "reward": 0,
             "visits": 0
            },
            "(0, 6, None)": {
             "failure_message": "Unvisited",
             "label": "DecisionTree",
             "policy": {
              "adjusted_exploration": "-inf",
              "adjusted_score": "-inf",
              "exploitation": "-inf",
              "exploration": "-inf",
              "overfitting": 0.998046875,
              "score": "-inf"
             },
             "reward": 0,
             "visits": 0
            },
            "(0, 7, None)": {
             "failure_message": "Unvisited",
             "label": "DecisionTree",
             "policy": {
              "adjusted_exploration": 1.018327257178704,
              "adjusted_score": 0.40117044464609874,
              "exploitation": -0.6163717431693058,
              "exploration": 1.815443985917585,
              "overfitting": 0.998046875,
              "score": 0.40195551400939833
             },
             "reward": 0,
             "visits": 0
            },
            "(0, 8, None)": {
             "failure_message": "Unvisited",
             "label": "DecisionTree",
             "policy": {
              "adjusted_exploration": "-inf",
              "adjusted_score": "-inf",
              "exploitation": "-inf",
              "exploration": "-inf",
              "overfitting": 0.998046875,
              "score": "-inf"
             },
             "reward": 0,
             "visits": 0
            },
            "(0, 9, None)": {
             "failure_message": "Unvisited",
             "label": "DecisionTree",
             "policy": {
              "adjusted_exploration": "-inf",
              "adjusted_score": "-inf",
              "exploitation": "-inf",
              "exploration": "-inf",
              "overfitting": 0.998046875,
              "score": "-inf"
             },
             "reward": 0,
             "visits": 0
            }
           },
           "reward": 0,
           "visits": 0
          },
          "30": {
           "failure_message": "Unvisited",
           "label": "PolynomialFeatures",
           "policy": {
            "(0, 0, None)": {
             "failure_message": "Unvisited",
             "label": "PolynomialFeatures",
             "policy": {
              "adjusted_exploration": 0,
              "adjusted_score": 0,
              "exploitation": 0,
              "exploration": 0,
              "overfitting": 0.998046875,
              "score": 0
             },
             "reward": 0,
             "visits": 0
            },
            "(0, 1, None)": {
             "failure_message": "Unvisited",
             "label": "PolynomialFeatures",
             "policy": {
              "adjusted_exploration": 2.537272482359039,
              "adjusted_score": 1.6696543320091746,
              "exploitation": -0.8643507250426059,
              "exploration": 1.2686362411795196,
              "overfitting": 0.998046875,
              "score": 1.6729217573164332
             },
             "reward": 0,
             "visits": 0
            },
            "(0, 10, None)": {
             "failure_message": "Unvisited",
             "label": "PolynomialFeatures",
             "policy": {
              "adjusted_exploration": "-inf",
              "adjusted_score": "-inf",
              "exploitation": "-inf",
              "exploration": "-inf",
              "overfitting": 0.998046875,
              "score": "-inf"
             },
             "reward": 0,
             "visits": 0
            },
            "(0, 11, None)": {
             "failure_message": "Unvisited",
             "label": "PolynomialFeatures",
             "policy": {
              "adjusted_exploration": "-inf",
              "adjusted_score": "-inf",
              "exploitation": "-inf",
              "exploration": "-inf",
              "overfitting": 0.998046875,
              "score": "-inf"
             },
             "reward": 0,
             "visits": 0
            },
            "(0, 2, None)": {
             "failure_message": "Unvisited",
             "label": "PolynomialFeatures",
             "policy": {
              "adjusted_exploration": 2.884053773201766,
              "adjusted_score": 1.9659868759539052,
              "exploitation": -0.9142195648095949,
              "exploration": 1.442026886600883,
              "overfitting": 0.998046875,
              "score": 1.9698342083921712
             },
             "reward": 0,
             "visits": 0
            },
            "(0, 3, None)": {
             "failure_message": "Unvisited",
             "label": "PolynomialFeatures",
             "policy": {
              "adjusted_exploration": 3.1527173357521288,
              "adjusted_score": 2.4478181738655858,
              "exploitation": -0.7001089110570609,
              "exploration": 1.5763586678760644,
              "overfitting": 0.998046875,
              "score": 2.452608424695068
             },
             "reward": 0,
             "visits": 0
            },
            "(0, 4, None)": {
             "failure_message": "Unvisited",
             "label": "PolynomialFeatures",
             "policy": {
              "adjusted_exploration": "-inf",
              "adjusted_score": "-inf",
              "exploitation": "-inf",
              "exploration": "-inf",
              "overfitting": 0.998046875,
              "score": "-inf"
             },
             "reward": 0,
             "visits": 0
            },
            "(0, 5, None)": {
             "failure_message": "Unvisited",
             "label": "PolynomialFeatures",
             "policy": {
              "adjusted_exploration": 1.769657738554306,
              "adjusted_score": 0.8200972405269845,
              "exploitation": -0.9479556110595583,
              "exploration": 1.7308183826022854,
              "overfitting": 0.998046875,
              "score": 0.8217021274947477
             },
             "reward": 0,
             "visits": 0
            },
            "(0, 6, None)": {
             "failure_message": "Unvisited",
             "label": "PolynomialFeatures",
             "policy": {
              "adjusted_exploration": "-inf",
              "adjusted_score": "-inf",
              "exploitation": "-inf",
              "exploration": "-inf",
              "overfitting": 0.998046875,
              "score": "-inf"
             },
             "reward": 0,
             "visits": 0
            },
            "(0, 7, None)": {
             "failure_message": "Unvisited",
             "label": "PolynomialFeatures",
             "policy": {
              "adjusted_exploration": 1.018327257178704,
              "adjusted_score": -0.013546713321066535,
              "exploitation": -1.0319004807019645,
              "exploration": 1.815443985917585,
              "overfitting": 0.998046875,
              "score": -0.013573223523260403
             },
             "reward": 0,
             "visits": 0
            },
            "(0, 8, None)": {
             "failure_message": "Unvisited",
             "label": "PolynomialFeatures",
             "policy": {
              "adjusted_exploration": "-inf",
              "adjusted_score": "-inf",
              "exploitation": "-inf",
              "exploration": "-inf",
              "overfitting": 0.998046875,
              "score": "-inf"
             },
             "reward": 0,
             "visits": 0
            },
            "(0, 9, None)": {
             "failure_message": "Unvisited",
             "label": "PolynomialFeatures",
             "policy": {
              "adjusted_exploration": "-inf",
              "adjusted_score": "-inf",
              "exploitation": "-inf",
              "exploration": "-inf",
              "overfitting": 0.998046875,
              "score": "-inf"
             },
             "reward": 0,
             "visits": 0
            }
           },
           "reward": 0,
           "visits": 0
          },
          "300": {
           "failure_message": "Unvisited",
           "label": "FactorAnalysis",
           "policy": {
            "(0, 10, None)": {
             "failure_message": "Unvisited",
             "label": "FactorAnalysis",
             "policy": {
              "adjusted_exploration": 0.48561785152610454,
              "adjusted_score": 0.4837209067935807,
              "exploitation": 0,
              "exploration": 1.1774100225154747,
              "overfitting": 0.99609375,
              "score": 0.48561785152610454
             },
             "reward": 0,
             "visits": 0
            }
           },
           "reward": 0,
           "visits": 0
          },
          "301": {
           "failure_message": "Unvisited",
           "label": "FastICA",
           "policy": {
            "(0, 10, None)": {
             "failure_message": "Unvisited",
             "label": "FastICA",
             "policy": {
              "adjusted_exploration": 0.48561785152610454,
              "adjusted_score": 0.4837209067935807,
              "exploitation": 0,
              "exploration": 1.1774100225154747,
              "overfitting": 0.99609375,
              "score": 0.48561785152610454
             },
             "reward": 0,
             "visits": 0
            }
           },
           "reward": 0,
           "visits": 0
          },
          "302": {
           "failure_message": "Unvisited",
           "label": "FeatureAgglomeration",
           "policy": {
            "(0, 10, None)": {
             "failure_message": "Unvisited",
             "label": "FeatureAgglomeration",
             "policy": {
              "adjusted_exploration": 0.48561785152610454,
              "adjusted_score": 0.4837209067935807,
              "exploitation": 0,
              "exploration": 1.1774100225154747,
              "overfitting": 0.99609375,
              "score": 0.48561785152610454
             },
             "reward": 0,
             "visits": 0
            }
           },
           "reward": 0,
           "visits": 0
          },
          "303": {
           "failure_message": "Unvisited",
           "label": "GenericUnivariateSelect",
           "policy": {
            "(0, 10, None)": {
             "failure_message": "Unvisited",
             "label": "GenericUnivariateSelect",
             "policy": {
              "adjusted_exploration": 0.48561785152610454,
              "adjusted_score": 0.4837209067935807,
              "exploitation": 0,
              "exploration": 1.1774100225154747,
              "overfitting": 0.99609375,
              "score": 0.48561785152610454
             },
             "reward": 0,
             "visits": 0
            }
           },
           "reward": 0,
           "visits": 0
          },
          "304": {
           "failure_message": "Unvisited",
           "label": "KBinsDiscretizer",
           "policy": {
            "(0, 10, None)": {
             "failure_message": "Unvisited",
             "label": "KBinsDiscretizer",
             "policy": {
              "adjusted_exploration": 0.48561785152610454,
              "adjusted_score": 0.4837209067935807,
              "exploitation": 0,
              "exploration": 1.1774100225154747,
              "overfitting": 0.99609375,
              "score": 0.48561785152610454
             },
             "reward": 0,
             "visits": 0
            }
           },
           "reward": 0,
           "visits": 0
          },
          "305": {
           "failure_message": "Unvisited",
           "label": "KernelPCA",
           "policy": {
            "(0, 10, None)": {
             "failure_message": "Unvisited",
             "label": "KernelPCA",
             "policy": {
              "adjusted_exploration": 0.48561785152610454,
              "adjusted_score": 0.4837209067935807,
              "exploitation": 0,
              "exploration": 1.1774100225154747,
              "overfitting": 0.99609375,
              "score": 0.48561785152610454
             },
             "reward": 0,
             "visits": 0
            }
           },
           "reward": 0,
           "visits": 0
          },
          "306": {
           "failure_message": "Unvisited",
           "label": "MissingIndicator",
           "policy": {
            "(0, 10, None)": {
             "failure_message": "Unvisited",
             "label": "MissingIndicator",
             "policy": {
              "adjusted_exploration": 0.48561785152610454,
              "adjusted_score": 0.4837209067935807,
              "exploitation": 0,
              "exploration": 1.1774100225154747,
              "overfitting": 0.99609375,
              "score": 0.48561785152610454
             },
             "reward": 0,
             "visits": 0
            }
           },
           "reward": 0,
           "visits": 0
          },
          "307": {
           "failure_message": "Unvisited",
           "label": "MultiColumnLabelEncoder",
           "policy": {
            "(0, 10, None)": {
             "failure_message": "Unvisited",
             "label": "MultiColumnLabelEncoder",
             "policy": {
              "adjusted_exploration": 0.48561785152610454,
              "adjusted_score": 0.4837209067935807,
              "exploitation": 0,
              "exploration": 1.1774100225154747,
              "overfitting": 0.99609375,
              "score": 0.48561785152610454
             },
             "reward": 0,
             "visits": 0
            }
           },
           "reward": 0,
           "visits": 0
          },
          "308": {
           "failure_message": "Unvisited",
           "label": "OneHotEncoder",
           "policy": {
            "(0, 10, None)": {
             "failure_message": "Unvisited",
             "label": "OneHotEncoder",
             "policy": {
              "adjusted_exploration": 0.48561785152610454,
              "adjusted_score": 0.4837209067935807,
              "exploitation": 0,
              "exploration": 1.1774100225154747,
              "overfitting": 0.99609375,
              "score": 0.48561785152610454
             },
             "reward": 0,
             "visits": 0
            }
           },
           "reward": 0,
           "visits": 0
          },
          "309": {
           "failure_message": "Unvisited",
           "label": "PCA",
           "policy": {
            "(0, 10, None)": {
             "failure_message": "Unvisited",
             "label": "PCA",
             "policy": {
              "adjusted_exploration": 0.48561785152610454,
              "adjusted_score": 0.4837209067935807,
              "exploitation": 0,
              "exploration": 1.1774100225154747,
              "overfitting": 0.99609375,
              "score": 0.48561785152610454
             },
             "reward": 0,
             "visits": 0
            }
           },
           "reward": 0,
           "visits": 0
          },
          "31": {
           "failure_message": "Unvisited",
           "label": "RandomTreesEmbedding",
           "policy": {
            "(0, 0, None)": {
             "failure_message": "Unvisited",
             "label": "RandomTreesEmbedding",
             "policy": {
              "adjusted_exploration": 0,
              "adjusted_score": 0,
              "exploitation": 0,
              "exploration": 0,
              "overfitting": 0.998046875,
              "score": 0
             },
             "reward": 0,
             "visits": 0
            },
            "(0, 1, None)": {
             "failure_message": "Unvisited",
             "label": "RandomTreesEmbedding",
             "policy": {
              "adjusted_exploration": 2.537272482359039,
              "adjusted_score": 1.8036971702674744,
              "exploitation": -0.7300455720323329,
              "exploration": 1.2686362411795196,
              "overfitting": 0.998046875,
              "score": 1.8072269103267062
             },
             "reward": 0,
             "visits": 0
            },
            "(0, 10, None)": {
             "failure_message": "Unvisited",
             "label": "RandomTreesEmbedding",
             "policy": {
              "adjusted_exploration": "-inf",
              "adjusted_score": "-inf",
              "exploitation": "-inf",
              "exploration": "-inf",
              "overfitting": 0.998046875,
              "score": "-inf"
             },
             "reward": 0,
             "visits": 0
            },
            "(0, 11, None)": {
             "failure_message": "Unvisited",
             "label": "RandomTreesEmbedding",
             "policy": {
              "adjusted_exploration": "-inf",
              "adjusted_score": "-inf",
              "exploitation": "-inf",
              "exploration": "-inf",
              "overfitting": 0.998046875,
              "score": "-inf"
             },
             "reward": 0,
             "visits": 0
            },
            "(0, 2, None)": {
             "failure_message": "Unvisited",
             "label": "RandomTreesEmbedding",
             "policy": {
              "adjusted_exploration": 2.884053773201766,
              "adjusted_score": 2.1904697698084687,
              "exploitation": -0.6892973697928889,
              "exploration": 1.442026886600883,
              "overfitting": 0.998046875,
              "score": 2.194756403408877
             },
             "reward": 0,
             "visits": 0
            },
            "(0, 3, None)": {
             "failure_message": "Unvisited",
             "label": "RandomTreesEmbedding",
             "policy": {
              "adjusted_exploration": 3.1527173357521288,
              "adjusted_score": 2.366514509616466,
              "exploitation": -0.7815716822812276,
              "exploration": 1.5763586678760644,
              "overfitting": 0.998046875,
              "score": 2.3711456534709012
             },
             "reward": 0,
             "visits": 0
            },
            "(0, 4, None)": {
             "failure_message": "Unvisited",
             "label": "RandomTreesEmbedding",
             "policy": {
              "adjusted_exploration": "-inf",
              "adjusted_score": "-inf",
              "exploitation": "-inf",
              "exploration": "-inf",
              "overfitting": 0.998046875,
              "score": "-inf"
             },
             "reward": 0,
             "visits": 0
            },
            "(0, 5, None)": {
             "failure_message": "Unvisited",
             "label": "RandomTreesEmbedding",
             "policy": {
              "adjusted_exploration": 1.769657738554306,
              "adjusted_score": 1.010249075190883,
              "exploitation": -0.757431659302384,
              "exploration": 1.7308183826022854,
              "overfitting": 0.998046875,
              "score": 1.012226079251922
             },
             "reward": 0,
             "visits": 0
            },
            "(0, 6, None)": {
             "failure_message": "Unvisited",
             "label": "RandomTreesEmbedding",
             "policy": {
              "adjusted_exploration": "-inf",
              "adjusted_score": "-inf",
              "exploitation": "-inf",
              "exploration": "-inf",
              "overfitting": 0.998046875,
              "score": "-inf"
             },
             "reward": 0,
             "visits": 0
            },
            "(0, 7, None)": {
             "failure_message": "Unvisited",
             "label": "RandomTreesEmbedding",
             "policy": {
              "adjusted_exploration": 1.018327257178704,
              "adjusted_score": 0.22177072133253206,
              "exploitation": -0.796122542262351,
              "exploration": 1.815443985917585,
              "overfitting": 0.998046875,
              "score": 0.22220471491635307
             },
             "reward": 0,
             "visits": 0
            },
            "(0, 8, None)": {
             "failure_message": "Unvisited",
             "label": "RandomTreesEmbedding",
             "policy": {
              "adjusted_exploration": "-inf",
              "adjusted_score": "-inf",
              "exploitation": "-inf",
              "exploration": "-inf",
              "overfitting": 0.998046875,
              "score": "-inf"
             },
             "reward": 0,
             "visits": 0
            },
            "(0, 9, None)": {
             "failure_message": "Unvisited",
             "label": "RandomTreesEmbedding",
             "policy": {
              "adjusted_exploration": "-inf",
              "adjusted_score": "-inf",
              "exploitation": "-inf",
              "exploration": "-inf",
              "overfitting": 0.998046875,
              "score": "-inf"
             },
             "reward": 0,
             "visits": 0
            }
           },
           "reward": 0,
           "visits": 0
          },
          "310": {
           "failure_message": "Unvisited",
           "label": "PolynomialFeatures",
           "policy": {
            "(0, 10, None)": {
             "failure_message": "Unvisited",
             "label": "PolynomialFeatures",
             "policy": {
              "adjusted_exploration": 0.48561785152610454,
              "adjusted_score": 0.4837209067935807,
              "exploitation": 0,
              "exploration": 1.1774100225154747,
              "overfitting": 0.99609375,
              "score": 0.48561785152610454
             },
             "reward": 0,
             "visits": 0
            }
           },
           "reward": 0,
           "visits": 0
          },
          "311": {
           "failure_message": "Unvisited",
           "label": "RandomTreesEmbedding",
           "policy": {
            "(0, 10, None)": {
             "failure_message": "Unvisited",
             "label": "RandomTreesEmbedding",
             "policy": {
              "adjusted_exploration": 0.48561785152610454,
              "adjusted_score": 0.4837209067935807,
              "exploitation": 0,
              "exploration": 1.1774100225154747,
              "overfitting": 0.99609375,
              "score": 0.48561785152610454
             },
             "reward": 0,
             "visits": 0
            }
           },
           "reward": 0,
           "visits": 0
          },
          "312": {
           "failure_message": "Unvisited",
           "label": "SelectKBest",
           "policy": {
            "(0, 10, None)": {
             "failure_message": "Unvisited",
             "label": "SelectKBest",
             "policy": {
              "adjusted_exploration": 0.48561785152610454,
              "adjusted_score": 0.4837209067935807,
              "exploitation": 0,
              "exploration": 1.1774100225154747,
              "overfitting": 0.99609375,
              "score": 0.48561785152610454
             },
             "reward": 0,
             "visits": 0
            }
           },
           "reward": 0,
           "visits": 0
          },
          "313": {
           "failure_message": "Unvisited",
           "label": "SelectPercentileClassification",
           "policy": {
            "(0, 10, None)": {
             "failure_message": "Unvisited",
             "label": "SelectPercentileClassification",
             "policy": {
              "adjusted_exploration": 0.48561785152610454,
              "adjusted_score": 0.4837209067935807,
              "exploitation": 0,
              "exploration": 1.1774100225154747,
              "overfitting": 0.99609375,
              "score": 0.48561785152610454
             },
             "reward": 0,
             "visits": 0
            }
           },
           "reward": 0,
           "visits": 0
          },
          "314": {
           "failure_message": "Unvisited",
           "label": "TruncatedSVD",
           "policy": {
            "(0, 10, None)": {
             "failure_message": "Unvisited",
             "label": "TruncatedSVD",
             "policy": {
              "adjusted_exploration": 0.48561785152610454,
              "adjusted_score": 0.4837209067935807,
              "exploitation": 0,
              "exploration": 1.1774100225154747,
              "overfitting": 0.99609375,
              "score": 0.48561785152610454
             },
             "reward": 0,
             "visits": 0
            }
           },
           "reward": 0,
           "visits": 0
          },
          "315": {
           "failure_message": "Unvisited",
           "label": "VarianceThreshold",
           "policy": {
            "(0, 10, None)": {
             "failure_message": "Unvisited",
             "label": "VarianceThreshold",
             "policy": {
              "adjusted_exploration": 0.48561785152610454,
              "adjusted_score": 0.4837209067935807,
              "exploitation": 0,
              "exploration": 1.1774100225154747,
              "overfitting": 0.99609375,
              "score": 0.48561785152610454
             },
             "reward": 0,
             "visits": 0
            }
           },
           "reward": 0,
           "visits": 0
          },
          "32": {
           "failure_message": "Unvisited",
           "label": "SelectKBest",
           "policy": {
            "(0, 0, None)": {
             "failure_message": "Unvisited",
             "label": "SelectKBest",
             "policy": {
              "adjusted_exploration": 0,
              "adjusted_score": 0,
              "exploitation": 0,
              "exploration": 0,
              "overfitting": 0.998046875,
              "score": 0
             },
             "reward": 0,
             "visits": 0
            },
            "(0, 1, None)": {
             "failure_message": "Unvisited",
             "label": "SelectKBest",
             "policy": {
              "adjusted_exploration": 2.537272482359039,
              "adjusted_score": 1.7660727237256448,
              "exploitation": -0.7677436476280604,
              "exploration": 1.2686362411795196,
              "overfitting": 0.998046875,
              "score": 1.7695288347309788
             },
             "reward": 0,
             "visits": 0
            },
            "(0, 10, None)": {
             "failure_message": "Unvisited",
             "label": "SelectKBest",
             "policy": {
              "adjusted_exploration": "-inf",
              "adjusted_score": "-inf",
              "exploitation": "-inf",
              "exploration": "-inf",
              "overfitting": 0.998046875,
              "score": "-inf"
             },
             "reward": 0,
             "visits": 0
            },
            "(0, 11, None)": {
             "failure_message": "Unvisited",
             "label": "SelectKBest",
             "policy": {
              "adjusted_exploration": "-inf",
              "adjusted_score": "-inf",
              "exploitation": "-inf",
              "exploration": "-inf",
              "overfitting": 0.998046875,
              "score": "-inf"
             },
             "reward": 0,
             "visits": 0
            },
            "(0, 2, None)": {
             "failure_message": "Unvisited",
             "label": "SelectKBest",
             "policy": {
              "adjusted_exploration": 2.884053773201766,
              "adjusted_score": 2.280071463112962,
              "exploitation": -0.5995203307089351,
              "exploration": 1.442026886600883,
              "overfitting": 0.998046875,
              "score": 2.284533442492831
             },
             "reward": 0,
             "visits": 0
            },
            "(0, 3, None)": {
             "failure_message": "Unvisited",
             "label": "SelectKBest",
             "policy": {
              "adjusted_exploration": 3.1527173357521288,
              "adjusted_score": 2.149863367291073,
              "exploitation": -0.9986467994448309,
              "exploration": 1.5763586678760644,
              "overfitting": 0.998046875,
              "score": 2.154070536307298
             },
             "reward": 0,
             "visits": 0
            },
            "(0, 4, None)": {
             "failure_message": "Unvisited",
             "label": "SelectKBest",
             "policy": {
              "adjusted_exploration": "-inf",
              "adjusted_score": "-inf",
              "exploitation": "-inf",
              "exploration": "-inf",
              "overfitting": 0.998046875,
              "score": "-inf"
             },
             "reward": 0,
             "visits": 0
            },
            "(0, 5, None)": {
             "failure_message": "Unvisited",
             "label": "SelectKBest",
             "policy": {
              "adjusted_exploration": 1.769657738554306,
              "adjusted_score": 1.0716029558121727,
              "exploitation": -0.6959577123785089,
              "exploration": 1.7308183826022854,
              "overfitting": 0.998046875,
              "score": 1.0737000261757972
             },
             "reward": 0,
             "visits": 0
            },
            "(0, 6, None)": {
             "failure_message": "Unvisited",
             "label": "SelectKBest",
             "policy": {
              "adjusted_exploration": "-inf",
              "adjusted_score": "-inf",
              "exploitation": "-inf",
              "exploration": "-inf",
              "overfitting": 0.998046875,
              "score": "-inf"
             },
             "reward": 0,
             "visits": 0
            },
            "(0, 7, None)": {
             "failure_message": "Unvisited",
             "label": "SelectKBest",
             "policy": {
              "adjusted_exploration": 1.018327257178704,
              "adjusted_score": 0.14515303296581197,
              "exploitation": -0.872890167396912,
              "exploration": 1.815443985917585,
              "overfitting": 0.998046875,
              "score": 0.14543708978179204
             },
             "reward": 0,
             "visits": 0
            },
            "(0, 8, None)": {
             "failure_message": "Unvisited",
             "label": "SelectKBest",
             "policy": {
              "adjusted_exploration": "-inf",
              "adjusted_score": "-inf",
              "exploitation": "-inf",
              "exploration": "-inf",
              "overfitting": 0.998046875,
              "score": "-inf"
             },
             "reward": 0,
             "visits": 0
            },
            "(0, 9, None)": {
             "failure_message": "Unvisited",
             "label": "SelectKBest",
             "policy": {
              "adjusted_exploration": "-inf",
              "adjusted_score": "-inf",
              "exploitation": "-inf",
              "exploration": "-inf",
              "overfitting": 0.998046875,
              "score": "-inf"
             },
             "reward": 0,
             "visits": 0
            }
           },
           "reward": 0,
           "visits": 0
          },
          "33": {
           "failure_message": "Unvisited",
           "label": "SelectPercentileClassification",
           "policy": {
            "(0, 0, None)": {
             "failure_message": "Unvisited",
             "label": "SelectPercentileClassification",
             "policy": {
              "adjusted_exploration": 0,
              "adjusted_score": 0,
              "exploitation": 0,
              "exploration": 0,
              "overfitting": 0.998046875,
              "score": 0
             },
             "reward": 0,
             "visits": 0
            },
            "(0, 1, None)": {
             "failure_message": "Unvisited",
             "label": "SelectPercentileClassification",
             "policy": {
              "adjusted_exploration": 2.537272482359039,
              "adjusted_score": 1.9826519139399261,
              "exploitation": -0.5507406233820487,
              "exploration": 1.2686362411795196,
              "overfitting": 0.998046875,
              "score": 1.9865318589769905
             },
             "reward": 0,
             "visits": 0
            },
            "(0, 10, None)": {
             "failure_message": "Unvisited",
             "label": "SelectPercentileClassification",
             "policy": {
              "adjusted_exploration": "-inf",
              "adjusted_score": "-inf",
              "exploitation": "-inf",
              "exploration": "-inf",
              "overfitting": 0.998046875,
              "score": "-inf"
             },
             "reward": 0,
             "visits": 0
            },
            "(0, 11, None)": {
             "failure_message": "Unvisited",
             "label": "SelectPercentileClassification",
             "policy": {
              "adjusted_exploration": "-inf",
              "adjusted_score": "-inf",
              "exploitation": "-inf",
              "exploration": "-inf",
              "overfitting": 0.998046875,
              "score": "-inf"
             },
             "reward": 0,
             "visits": 0
            },
            "(0, 2, None)": {
             "failure_message": "Unvisited",
             "label": "SelectPercentileClassification",
             "policy": {
              "adjusted_exploration": 2.884053773201766,
              "adjusted_score": 2.29722301093381,
              "exploitation": -0.5823352182152476,
              "exploration": 1.442026886600883,
              "overfitting": 0.998046875,
              "score": 2.3017185549865182
             },
             "reward": 0,
             "visits": 0
            },
            "(0, 3, None)": {
             "failure_message": "Unvisited",
             "label": "SelectPercentileClassification",
             "policy": {
              "adjusted_exploration": 3.1527173357521288,
              "adjusted_score": 2.5334519456820987,
              "exploitation": -0.6143075584737835,
              "exploration": 1.5763586678760644,
              "overfitting": 0.998046875,
              "score": 2.5384097772783454
             },
             "reward": 0,
             "visits": 0
            },
            "(0, 4, None)": {
             "failure_message": "Unvisited",
             "label": "SelectPercentileClassification",
             "policy": {
              "adjusted_exploration": "-inf",
              "adjusted_score": "-inf",
              "exploitation": "-inf",
              "exploration": "-inf",
              "overfitting": 0.998046875,
              "score": "-inf"
             },
             "reward": 0,
             "visits": 0
            },
            "(0, 5, None)": {
             "failure_message": "Unvisited",
             "label": "SelectPercentileClassification",
             "policy": {
              "adjusted_exploration": 1.769657738554306,
              "adjusted_score": 1.0790851482495745,
              "exploitation": -0.6884608776858478,
              "exploration": 1.7308183826022854,
              "overfitting": 0.998046875,
              "score": 1.0811968608684581
             },
             "reward": 0,
             "visits": 0
            },
            "(0, 6, None)": {
             "failure_message": "Unvisited",
             "label": "SelectPercentileClassification",
             "policy": {
              "adjusted_exploration": "-inf",
              "adjusted_score": "-inf",
              "exploitation": "-inf",
              "exploration": "-inf",
              "overfitting": 0.998046875,
              "score": "-inf"
             },
             "reward": 0,
             "visits": 0
            },
            "(0, 7, None)": {
             "failure_message": "Unvisited",
             "label": "SelectPercentileClassification",
             "policy": {
              "adjusted_exploration": 1.018327257178704,
              "adjusted_score": 0.5808021198796497,
              "exploitation": -0.43638853823862456,
              "exploration": 1.815443985917585,
              "overfitting": 0.998046875,
              "score": 0.5819387189400795
             },
             "reward": 0,
             "visits": 0
            },
            "(0, 8, None)": {
             "failure_message": "Unvisited",
             "label": "SelectPercentileClassification",
             "policy": {
              "adjusted_exploration": "-inf",
              "adjusted_score": "-inf",
              "exploitation": "-inf",
              "exploration": "-inf",
              "overfitting": 0.998046875,
              "score": "-inf"
             },
             "reward": 0,
             "visits": 0
            },
            "(0, 9, None)": {
             "failure_message": "Unvisited",
             "label": "SelectPercentileClassification",
             "policy": {
              "adjusted_exploration": "-inf",
              "adjusted_score": "-inf",
              "exploitation": "-inf",
              "exploration": "-inf",
              "overfitting": 0.998046875,
              "score": "-inf"
             },
             "reward": 0,
             "visits": 0
            }
           },
           "reward": 0,
           "visits": 0
          },
          "34": {
           "failure_message": "Unvisited",
           "label": "TruncatedSVD",
           "policy": {
            "(0, 0, None)": {
             "failure_message": "Unvisited",
             "label": "TruncatedSVD",
             "policy": {
              "adjusted_exploration": 0,
              "adjusted_score": 0,
              "exploitation": 0,
              "exploration": 0,
              "overfitting": 0.998046875,
              "score": 0
             },
             "reward": 0,
             "visits": 0
            },
            "(0, 1, None)": {
             "failure_message": "Unvisited",
             "label": "TruncatedSVD",
             "policy": {
              "adjusted_exploration": 2.537272482359039,
              "adjusted_score": 1.7380388876717554,
              "exploitation": -0.7958323444178675,
              "exploration": 1.2686362411795196,
              "overfitting": 0.998046875,
              "score": 1.7414401379411717
             },
             "reward": 0,
             "visits": 0
            },
            "(0, 10, None)": {
             "failure_message": "Unvisited",
             "label": "TruncatedSVD",
             "policy": {
              "adjusted_exploration": "-inf",
              "adjusted_score": "-inf",
              "exploitation": "-inf",
              "exploration": "-inf",
              "overfitting": 0.998046875,
              "score": "-inf"
             },
             "reward": 0,
             "visits": 0
            },
            "(0, 11, None)": {
             "failure_message": "Unvisited",
             "label": "TruncatedSVD",
             "policy": {
              "adjusted_exploration": "-inf",
              "adjusted_score": "-inf",
              "exploitation": "-inf",
              "exploration": "-inf",
              "overfitting": 0.998046875,
              "score": "-inf"
             },
             "reward": 0,
             "visits": 0
            },
            "(0, 2, None)": {
             "failure_message": "Unvisited",
             "label": "TruncatedSVD",
             "policy": {
              "adjusted_exploration": 2.884053773201766,
              "adjusted_score": 2.203261918628833,
              "exploitation": -0.6764801874131895,
              "exploration": 1.442026886600883,
              "overfitting": 0.998046875,
              "score": 2.2075735857885763
             },
             "reward": 0,
             "visits": 0
            },
            "(0, 3, None)": {
             "failure_message": "Unvisited",
             "label": "TruncatedSVD",
             "policy": {
              "adjusted_exploration": 3.1527173357521288,
              "adjusted_score": 2.4692685294756593,
              "exploitation": -0.6786165782344427,
              "exploration": 1.5763586678760644,
              "overfitting": 0.998046875,
              "score": 2.474100757517686
             },
             "reward": 0,
             "visits": 0
            },
            "(0, 4, None)": {
             "failure_message": "Unvisited",
             "label": "TruncatedSVD",
             "policy": {
              "adjusted_exploration": "-inf",
              "adjusted_score": "-inf",
              "exploitation": "-inf",
              "exploration": "-inf",
              "overfitting": 0.998046875,
              "score": "-inf"
             },
             "reward": 0,
             "visits": 0
            },
            "(0, 5, None)": {
             "failure_message": "Unvisited",
             "label": "TruncatedSVD",
             "policy": {
              "adjusted_exploration": 1.769657738554306,
              "adjusted_score": 1.1069590910785365,
              "exploitation": -0.6605323870235609,
              "exploration": 1.7308183826022854,
              "overfitting": 0.998046875,
              "score": 1.109125351530745
             },
             "reward": 0,
             "visits": 0
            },
            "(0, 6, None)": {
             "failure_message": "Unvisited",
             "label": "TruncatedSVD",
             "policy": {
              "adjusted_exploration": "-inf",
              "adjusted_score": "-inf",
              "exploitation": "-inf",
              "exploration": "-inf",
              "overfitting": 0.998046875,
              "score": "-inf"
             },
             "reward": 0,
             "visits": 0
            },
            "(0, 7, None)": {
             "failure_message": "Unvisited",
             "label": "TruncatedSVD",
             "policy": {
              "adjusted_exploration": 1.018327257178704,
              "adjusted_score": 0.2642141781917561,
              "exploitation": -0.7535960258006628,
              "exploration": 1.815443985917585,
              "overfitting": 0.998046875,
              "score": 0.26473123137804133
             },
             "reward": 0,
             "visits": 0
            },
            "(0, 8, None)": {
             "failure_message": "Unvisited",
             "label": "TruncatedSVD",
             "policy": {
              "adjusted_exploration": "-inf",
              "adjusted_score": "-inf",
              "exploitation": "-inf",
              "exploration": "-inf",
              "overfitting": 0.998046875,
              "score": "-inf"
             },
             "reward": 0,
             "visits": 0
            },
            "(0, 9, None)": {
             "failure_message": "Unvisited",
             "label": "TruncatedSVD",
             "policy": {
              "adjusted_exploration": "-inf",
              "adjusted_score": "-inf",
              "exploitation": "-inf",
              "exploration": "-inf",
              "overfitting": 0.998046875,
              "score": "-inf"
             },
             "reward": 0,
             "visits": 0
            }
           },
           "reward": 0,
           "visits": 0
          },
          "35": {
           "failure_message": "Unvisited",
           "label": "VarianceThreshold",
           "policy": {
            "(0, 0, None)": {
             "failure_message": "Unvisited",
             "label": "VarianceThreshold",
             "policy": {
              "adjusted_exploration": 0,
              "adjusted_score": 0,
              "exploitation": 0,
              "exploration": 0,
              "overfitting": 0.998046875,
              "score": 0
             },
             "reward": 0,
             "visits": 0
            },
            "(0, 1, None)": {
             "failure_message": "Unvisited",
             "label": "VarianceThreshold",
             "policy": {
              "adjusted_exploration": 2.537272482359039,
              "adjusted_score": 1.9110414288393902,
              "exploitation": -0.6224912464182019,
              "exploration": 1.2686362411795196,
              "overfitting": 0.998046875,
              "score": 1.9147812359408372
             },
             "reward": 0,
             "visits": 0
            },
            "(0, 10, None)": {
             "failure_message": "Unvisited",
             "label": "VarianceThreshold",
             "policy": {
              "adjusted_exploration": "-inf",
              "adjusted_score": "-inf",
              "exploitation": "-inf",
              "exploration": "-inf",
              "overfitting": 0.998046875,
              "score": "-inf"
             },
             "reward": 0,
             "visits": 0
            },
            "(0, 11, None)": {
             "failure_message": "Unvisited",
             "label": "VarianceThreshold",
             "policy": {
              "adjusted_exploration": "-inf",
              "adjusted_score": "-inf",
              "exploitation": "-inf",
              "exploration": "-inf",
              "overfitting": 0.998046875,
              "score": "-inf"
             },
             "reward": 0,
             "visits": 0
            },
            "(0, 2, None)": {
             "failure_message": "Unvisited",
             "label": "VarianceThreshold",
             "policy": {
              "adjusted_exploration": 2.884053773201766,
              "adjusted_score": 2.117596179808164,
              "exploitation": -0.7623135695583608,
              "exploration": 1.442026886600883,
              "overfitting": 0.998046875,
              "score": 2.121740203643405
             },
             "reward": 0,
             "visits": 0
            },
            "(0, 3, None)": {
             "failure_message": "Unvisited",
             "label": "VarianceThreshold",
             "policy": {
              "adjusted_exploration": 3.1527173357521288,
              "adjusted_score": 2.400486119078726,
              "exploitation": -0.7475335921742273,
              "exploration": 1.5763586678760644,
              "overfitting": 0.998046875,
              "score": 2.4051837435779015
             },
             "reward": 0,
             "visits": 0
            },
            "(0, 4, None)": {
             "failure_message": "Unvisited",
             "label": "VarianceThreshold",
             "policy": {
              "adjusted_exploration": "-inf",
              "adjusted_score": "-inf",
              "exploitation": "-inf",
              "exploration": "-inf",
              "overfitting": 0.998046875,
              "score": "-inf"
             },
             "reward": 0,
             "visits": 0
            },
            "(0, 5, None)": {
             "failure_message": "Unvisited",
             "label": "VarianceThreshold",
             "policy": {
              "adjusted_exploration": 1.769657738554306,
              "adjusted_score": 0.911249029455416,
              "exploitation": -0.8566254428964332,
              "exploration": 1.7308183826022854,
              "overfitting": 0.998046875,
              "score": 0.9130322956578728
             },
             "reward": 0,
             "visits": 0
            },
            "(0, 6, None)": {
             "failure_message": "Unvisited",
             "label": "VarianceThreshold",
             "policy": {
              "adjusted_exploration": "-inf",
              "adjusted_score": "-inf",
              "exploitation": "-inf",
              "exploration": "-inf",
              "overfitting": 0.998046875,
              "score": "-inf"
             },
             "reward": 0,
             "visits": 0
            },
            "(0, 7, None)": {
             "failure_message": "Unvisited",
             "label": "VarianceThreshold",
             "policy": {
              "adjusted_exploration": 1.018327257178704,
              "adjusted_score": 0.07718055302136628,
              "exploitation": -0.9409956658931081,
              "exploration": 1.815443985917585,
              "overfitting": 0.998046875,
              "score": 0.07733159128559597
             },
             "reward": 0,
             "visits": 0
            },
            "(0, 8, None)": {
             "failure_message": "Unvisited",
             "label": "VarianceThreshold",
             "policy": {
              "adjusted_exploration": "-inf",
              "adjusted_score": "-inf",
              "exploitation": "-inf",
              "exploration": "-inf",
              "overfitting": 0.998046875,
              "score": "-inf"
             },
             "reward": 0,
             "visits": 0
            },
            "(0, 9, None)": {
             "failure_message": "Unvisited",
             "label": "VarianceThreshold",
             "policy": {
              "adjusted_exploration": "-inf",
              "adjusted_score": "-inf",
              "exploitation": "-inf",
              "exploration": "-inf",
              "overfitting": 0.998046875,
              "score": "-inf"
             },
             "reward": 0,
             "visits": 0
            }
           },
           "reward": 0,
           "visits": 0
          },
          "36": {
           "failure_message": "Unvisited",
           "label": "AdaBoostingClassifier",
           "policy": {
            "(0, 2, None)": {
             "failure_message": "Unvisited",
             "label": "AdaBoostingClassifier",
             "policy": {
              "adjusted_exploration": 0,
              "adjusted_score": -0.45602258786746325,
              "exploitation": -0.4578109117414533,
              "exploration": 0,
              "overfitting": 0.99609375,
              "score": -0.4578109117414533
             },
             "reward": 0,
             "visits": 0
            },
            "(0, 9, None)": {
             "failure_message": "Unvisited",
             "label": "AdaBoostingClassifier",
             "policy": {
              "adjusted_exploration": 0.4409708346236597,
              "adjusted_score": -0.26288892586574725,
              "exploitation": -0.7048906974535863,
              "exploration": 1.048147073968205,
              "overfitting": 0.99609375,
              "score": -0.26391986282992663
             },
             "reward": 0,
             "visits": 0
            }
           },
           "reward": 0,
           "visits": 0
          },
          "37": {
           "failure_message": "Unvisited",
           "label": "BernoulliNB",
           "policy": {
            "(0, 2, None)": {
             "failure_message": "Unvisited",
             "label": "BernoulliNB",
             "policy": {
              "adjusted_exploration": 0,
              "adjusted_score": -0.400025771669994,
              "exploitation": -0.4015945001863469,
              "exploration": 0,
              "overfitting": 0.99609375,
              "score": -0.4015945001863469
             },
             "reward": 0,
             "visits": 0
            },
            "(0, 9, None)": {
             "failure_message": "Unvisited",
             "label": "BernoulliNB",
             "policy": {
              "adjusted_exploration": 0.4409708346236597,
              "adjusted_score": -0.14380782784018425,
              "exploitation": -0.5853426147298839,
              "exploration": 1.048147073968205,
              "overfitting": 0.99609375,
              "score": -0.1443717801062242
             },
             "reward": 0,
             "visits": 0
            }
           },
           "reward": 0,
           "visits": 0
          },
          "38": {
           "failure_message": "Unvisited",
           "label": "DecisionTree",
           "policy": {
            "(0, 2, None)": {
             "failure_message": "Unvisited",
             "label": "DecisionTree",
             "policy": {
              "adjusted_exploration": 0,
              "adjusted_score": -0.6855515789405842,
              "exploitation": -0.6882400165050571,
              "exploration": 0,
              "overfitting": 0.99609375,
              "score": -0.6882400165050571
             },
             "reward": 0,
             "visits": 0
            },
            "(0, 9, None)": {
             "failure_message": "Unvisited",
             "label": "DecisionTree",
             "policy": {
              "adjusted_exploration": 0.4409708346236597,
              "adjusted_score": -0.2615483812115371,
              "exploitation": -0.7035448957615166,
              "exploration": 1.048147073968205,
              "overfitting": 0.99609375,
              "score": -0.26257406113785686
             },
             "reward": 0,
             "visits": 0
            }
           },
           "reward": 0,
           "visits": 0
          },
          "39": {
           "failure_message": "Unvisited",
           "label": "GradientBoostingClassifier",
           "policy": {
            "(0, 2, None)": {
             "failure_message": "Unvisited",
             "label": "GradientBoostingClassifier",
             "policy": {
              "adjusted_exploration": 0,
              "adjusted_score": -0.7714692310720174,
              "exploitation": -0.7744946006056331,
              "exploration": 0,
              "overfitting": 0.99609375,
              "score": -0.7744946006056331
             },
             "reward": 0,
             "visits": 0
            },
            "(0, 9, None)": {
             "failure_message": "Unvisited",
             "label": "GradientBoostingClassifier",
             "policy": {
              "adjusted_exploration": 0.4409708346236597,
              "adjusted_score": -0.2213628278754988,
              "exploitation": -0.6632017520202389,
              "exploration": 1.048147073968205,
              "overfitting": 0.99609375,
              "score": -0.2222309173965792
             },
             "reward": 0,
             "visits": 0
            }
           },
           "reward": 0,
           "visits": 0
          },
          "4": {
           "failure_message": null,
           "label": "GradientBoostingClassifier",
           "policy": {
            "(0, 0, None)": {
             "failure_message": "Unvisited",
             "label": "GradientBoostingClassifier",
             "policy": {
              "adjusted_exploration": 0,
              "adjusted_score": -0.9763786334598938,
              "exploitation": -0.9782893548560971,
              "exploration": 0,
              "overfitting": 0.998046875,
              "score": -0.9782893548560971
             },
             "reward": 0,
             "visits": 0
            },
            "(0, 1, None)": {
             "failure_message": null,
             "label": "GradientBoostingClassifier",
             "policy": {
              "adjusted_exploration": 1.3595559868917453,
              "adjusted_score": 2.2218745624381806,
              "exploitation": 0.8666666666666667,
              "exploration": 0.6797779934458726,
              "overfitting": 0.998046875,
              "score": 2.2262226535584118
             },
             "reward": -2.6,
             "visits": 3
            },
            "(0, 10, None)": {
             "failure_message": null,
             "label": "GradientBoostingClassifier",
             "policy": {
              "adjusted_exploration": 0.32637795955095256,
              "adjusted_score": 1.1883280417458177,
              "exploitation": 0.8642755773841916,
              "exploration": 0.7757703604207696,
              "overfitting": 0.998046875,
              "score": 1.190653536935144
             },
             "reward": -5.185653464305149,
             "visits": 6
            },
            "(0, 11, None)": {
             "failure_message": null,
             "label": "GradientBoostingClassifier",
             "policy": {
              "adjusted_exploration": 0.3244794654536048,
              "adjusted_score": 1.1864332556447539,
              "exploitation": 0.8642755773841916,
              "exploration": 0.7867202029845499,
              "overfitting": 0.998046875,
              "score": 1.1887550428377964
             },
             "reward": -5.185653464305149,
             "visits": 6
            },
            "(0, 2, None)": {
             "failure_message": null,
             "label": "GradientBoostingClassifier",
             "policy": {
              "adjusted_exploration": 1.6651092223153954,
              "adjusted_score": 2.5268310141988937,
              "exploitation": 0.8666666666666667,
              "exploration": 0.8325546111576977,
              "overfitting": 0.998046875,
              "score": 2.531775888982062
             },
             "reward": -2.6,
             "visits": 3
            },
            "(0, 3, None)": {
             "failure_message": null,
             "label": "GradientBoostingClassifier",
             "policy": {
              "adjusted_exploration": 1.7880698244376516,
              "adjusted_score": 2.64955145889513,
              "exploitation": 0.8666666666666667,
              "exploration": 0.8940349122188258,
              "overfitting": 0.998046875,
              "score": 2.6547364911043183
             },
             "reward": -2.6,
             "visits": 3
            },
            "(0, 4, None)": {
             "failure_message": null,
             "label": "GradientBoostingClassifier",
             "policy": {
              "adjusted_exploration": 1.900193043211561,
              "adjusted_score": 2.7614556870073717,
              "exploitation": 0.8666666666666667,
              "exploration": 0.9500965216057805,
              "overfitting": 0.998046875,
              "score": 2.7668597098782275
             },
             "reward": -2.6,
             "visits": 3
            },
            "(0, 5, None)": {
             "failure_message": null,
             "label": "GradientBoostingClassifier",
             "policy": {
              "adjusted_exploration": 0.7096415042491595,
              "adjusted_score": 1.5708430248332859,
              "exploitation": 0.8642755773841916,
              "exploration": 0.694066730448901,
              "overfitting": 0.998046875,
              "score": 1.573917081633351
             },
             "reward": -5.185653464305149,
             "visits": 6
            },
            "(0, 6, None)": {
             "failure_message": null,
             "label": "GradientBoostingClassifier",
             "policy": {
              "adjusted_exploration": 0.739120345767692,
              "adjusted_score": 1.6002642904894777,
              "exploitation": 0.8642755773841916,
              "exploration": 0.7228985885458105,
              "overfitting": 0.998046875,
              "score": 1.6033959231518837
             },
             "reward": -5.185653464305149,
             "visits": 6
            },
            "(0, 7, None)": {
             "failure_message": null,
             "label": "GradientBoostingClassifier",
             "policy": {
              "adjusted_exploration": 0.41573036187596063,
              "adjusted_score": 1.2775059276600347,
              "exploitation": 0.8642755773841916,
              "exploration": 0.7411519036837556,
              "overfitting": 0.998046875,
              "score": 1.2800059392601522
             },
             "reward": -5.185653464305149,
             "visits": 6
            },
            "(0, 8, None)": {
             "failure_message": null,
             "label": "GradientBoostingClassifier",
             "policy": {
              "adjusted_exploration": 0.42232307164369387,
              "adjusted_score": 1.2840857610415028,
              "exploitation": 0.8642755773841916,
              "exploration": 0.7529051934188168,
              "overfitting": 0.998046875,
              "score": 1.2865986490278853
             },
             "reward": -5.185653464305149,
             "visits": 6
            },
            "(0, 9, None)": {
             "failure_message": null,
             "label": "GradientBoostingClassifier",
             "policy": {
              "adjusted_exploration": 0.35366034435654214,
              "adjusted_score": 1.2155571406435839,
              "exploitation": 0.8642755773841916,
              "exploration": 0.7666333896346373,
              "overfitting": 0.998046875,
              "score": 1.2179359217407337
             },
             "reward": -5.185653464305149,
             "visits": 6
            }
           },
           "reward": -7.113254875239894,
           "visits": 9
          },
          "40": {
           "failure_message": "Unvisited",
           "label": "LibSVM_SVC",
           "policy": {
            "(0, 2, None)": {
             "failure_message": "Unvisited",
             "label": "LibSVM_SVC",
             "policy": {
              "adjusted_exploration": 0,
              "adjusted_score": -0.6679449264780273,
              "exploitation": -0.6705643183465686,
              "exploration": 0,
              "overfitting": 0.99609375,
              "score": -0.6705643183465686
             },
             "reward": 0,
             "visits": 0
            },
            "(0, 9, None)": {
             "failure_message": "Unvisited",
             "label": "LibSVM_SVC",
             "policy": {
              "adjusted_exploration": 0.4409708346236597,
              "adjusted_score": -0.2532193558918412,
              "exploitation": -0.6951832075974297,
              "exploration": 1.048147073968205,
              "overfitting": 0.99609375,
              "score": -0.25421237297377
             },
             "reward": 0,
             "visits": 0
            }
           },
           "reward": 0,
           "visits": 0
          },
          "41": {
           "failure_message": null,
           "label": "LinearDiscriminantAnalysis",
           "policy": {
            "(0, 2, None)": {
             "failure_message": "Unvisited",
             "label": "LinearDiscriminantAnalysis",
             "policy": {
              "adjusted_exploration": 0,
              "adjusted_score": -0.696865257605595,
              "exploitation": -0.6995980625373817,
              "exploration": 0,
              "overfitting": 0.99609375,
              "score": -0.6995980625373817
             },
             "reward": 0,
             "visits": 0
            },
            "(0, 9, None)": {
             "failure_message": "Unvisited",
             "label": "LinearDiscriminantAnalysis",
             "policy": {
              "adjusted_exploration": 0.4409708346236597,
              "adjusted_score": -0.4829258032613826,
              "exploitation": -0.9257904645644988,
              "exploration": 1.048147073968205,
              "overfitting": 0.99609375,
              "score": -0.48481962994083905
             },
             "reward": 0,
             "visits": 0
            }
           },
           "reward": -2.4173289100060917,
           "visits": 3
          },
          "42": {
           "failure_message": "Unvisited",
           "label": "MultinomialNB",
           "policy": {
            "(0, 2, None)": {
             "failure_message": "Unvisited",
             "label": "MultinomialNB",
             "policy": {
              "adjusted_exploration": 0,
              "adjusted_score": -0.6849791644959923,
              "exploitation": -0.6876653572979373,
              "exploration": 0,
              "overfitting": 0.99609375,
              "score": -0.6876653572979373
             },
             "reward": 0,
             "visits": 0
            },
            "(0, 9, None)": {
             "failure_message": "Unvisited",
             "label": "MultinomialNB",
             "policy": {
              "adjusted_exploration": 0.4409708346236597,
              "adjusted_score": -0.1702848797682635,
              "exploitation": -0.6119234982341517,
              "exploration": 1.048147073968205,
              "overfitting": 0.99609375,
              "score": -0.170952663610492
             },
             "reward": 0,
             "visits": 0
            }
           },
           "reward": 0,
           "visits": 0
          },
          "43": {
           "failure_message": null,
           "label": "RandomForest",
           "policy": {
            "(0, 2, None)": {
             "failure_message": "Unvisited",
             "label": "RandomForest",
             "policy": {
              "adjusted_exploration": 0,
              "adjusted_score": -0.9135408742413007,
              "exploitation": -0.9171233874736195,
              "exploration": 0,
              "overfitting": 0.99609375,
              "score": -0.9171233874736195
             },
             "reward": 0,
             "visits": 0
            }
           },
           "reward": -2.554979149385598,
           "visits": 3
          },
          "44": {
           "failure_message": "Unvisited",
           "label": "SGDClassifier",
           "policy": {
            "(0, 2, None)": {
             "failure_message": "Unvisited",
             "label": "SGDClassifier",
             "policy": {
              "adjusted_exploration": 0,
              "adjusted_score": -0.671259244055516,
              "exploitation": -0.6738916332478905,
              "exploration": 0,
              "overfitting": 0.99609375,
              "score": -0.6738916332478905
             },
             "reward": 0,
             "visits": 0
            },
            "(0, 9, None)": {
             "failure_message": "Unvisited",
             "label": "SGDClassifier",
             "policy": {
              "adjusted_exploration": 0.4409708346236597,
              "adjusted_score": -0.21379350995064758,
              "exploitation": -0.6556027504956824,
              "exploration": 1.048147073968205,
              "overfitting": 0.99609375,
              "score": -0.21463191587202268
             },
             "reward": 0,
             "visits": 0
            }
           },
           "reward": 0,
           "visits": 0
          },
          "45": {
           "failure_message": "Unvisited",
           "label": "Imputation",
           "policy": {
            "(0, 2, None)": {
             "failure_message": "Unvisited",
             "label": "Imputation",
             "policy": {
              "adjusted_exploration": 0,
              "adjusted_score": 0,
              "exploitation": 0,
              "exploration": 0,
              "overfitting": 0.99609375,
              "score": 0
             },
             "reward": 0,
             "visits": 0
            },
            "(0, 9, None)": {
             "failure_message": "Unvisited",
             "label": "Imputation",
             "policy": {
              "adjusted_exploration": 0.4409708346236597,
              "adjusted_score": 0.43924829230091106,
              "exploitation": 0,
              "exploration": 1.048147073968205,
              "overfitting": 0.99609375,
              "score": 0.4409708346236597
             },
             "reward": 0,
             "visits": 0
            }
           },
           "reward": 0,
           "visits": 0
          },
          "46": {
           "failure_message": "Unvisited",
           "label": "KNNImputer",
           "policy": {
            "(0, 2, None)": {
             "failure_message": "Unvisited",
             "label": "KNNImputer",
             "policy": {
              "adjusted_exploration": 0,
              "adjusted_score": 0,
              "exploitation": 0,
              "exploration": 0,
              "overfitting": 0.99609375,
              "score": 0
             },
             "reward": 0,
             "visits": 0
            },
            "(0, 9, None)": {
             "failure_message": "Unvisited",
             "label": "KNNImputer",
             "policy": {
              "adjusted_exploration": 0.4409708346236597,
              "adjusted_score": 0.43924829230091106,
              "exploitation": 0,
              "exploration": 1.048147073968205,
              "overfitting": 0.99609375,
              "score": 0.4409708346236597
             },
             "reward": 0,
             "visits": 0
            }
           },
           "reward": 0,
           "visits": 0
          },
          "47": {
           "failure_message": "Unvisited",
           "label": "MaxAbsScaler",
           "policy": {
            "(0, 2, None)": {
             "failure_message": "Unvisited",
             "label": "MaxAbsScaler",
             "policy": {
              "adjusted_exploration": 0,
              "adjusted_score": 0,
              "exploitation": 0,
              "exploration": 0,
              "overfitting": 0.99609375,
              "score": 0
             },
             "reward": 0,
             "visits": 0
            },
            "(0, 9, None)": {
             "failure_message": "Unvisited",
             "label": "MaxAbsScaler",
             "policy": {
              "adjusted_exploration": 0.4409708346236597,
              "adjusted_score": 0.43924829230091106,
              "exploitation": 0,
              "exploration": 1.048147073968205,
              "overfitting": 0.99609375,
              "score": 0.4409708346236597
             },
             "reward": 0,
             "visits": 0
            }
           },
           "reward": 0,
           "visits": 0
          },
          "48": {
           "failure_message": "Unvisited",
           "label": "MinMaxScaler",
           "policy": {
            "(0, 2, None)": {
             "failure_message": "Unvisited",
             "label": "MinMaxScaler",
             "policy": {
              "adjusted_exploration": 0,
              "adjusted_score": 0,
              "exploitation": 0,
              "exploration": 0,
              "overfitting": 0.99609375,
              "score": 0
             },
             "reward": 0,
             "visits": 0
            },
            "(0, 9, None)": {
             "failure_message": "Unvisited",
             "label": "MinMaxScaler",
             "policy": {
              "adjusted_exploration": 0.4409708346236597,
              "adjusted_score": 0.43924829230091106,
              "exploitation": 0,
              "exploration": 1.048147073968205,
              "overfitting": 0.99609375,
              "score": 0.4409708346236597
             },
             "reward": 0,
             "visits": 0
            }
           },
           "reward": 0,
           "visits": 0
          },
          "49": {
           "failure_message": "Unvisited",
           "label": "Normalizer",
           "policy": {
            "(0, 2, None)": {
             "failure_message": "Unvisited",
             "label": "Normalizer",
             "policy": {
              "adjusted_exploration": 0,
              "adjusted_score": 0,
              "exploitation": 0,
              "exploration": 0,
              "overfitting": 0.99609375,
              "score": 0
             },
             "reward": 0,
             "visits": 0
            },
            "(0, 9, None)": {
             "failure_message": "Unvisited",
             "label": "Normalizer",
             "policy": {
              "adjusted_exploration": 0.4409708346236597,
              "adjusted_score": 0.43924829230091106,
              "exploitation": 0,
              "exploration": 1.048147073968205,
              "overfitting": 0.99609375,
              "score": 0.4409708346236597
             },
             "reward": 0,
             "visits": 0
            }
           },
           "reward": 0,
           "visits": 0
          },
          "5": {
           "failure_message": "Duplicate 1",
           "label": "LibSVM_SVC",
           "policy": {
            "(0, 0, None)": {
             "failure_message": "Unvisited",
             "label": "LibSVM_SVC",
             "policy": {
              "adjusted_exploration": 0,
              "adjusted_score": -0.7883124378450981,
              "exploitation": -0.7898551236334447,
              "exploration": 0,
              "overfitting": 0.998046875,
              "score": -0.7898551236334447
             },
             "reward": 0,
             "visits": 0
            },
            "(0, 1, None)": {
             "failure_message": "Unvisited",
             "label": "LibSVM_SVC",
             "policy": {
              "adjusted_exploration": 2.3548200450309493,
              "adjusted_score": 1.3694101490362234,
              "exploitation": -0.9827300326893712,
              "exploration": 1.1774100225154747,
              "overfitting": 0.998046875,
              "score": 1.372090012341578
             },
             "reward": 0,
             "visits": 0
            },
            "(0, 10, None)": {
             "failure_message": "Duplicate 1",
             "label": "LibSVM_SVC",
             "policy": {
              "adjusted_exploration": "-inf",
              "adjusted_score": "-inf",
              "exploitation": "-inf",
              "exploration": "-inf",
              "overfitting": 0.998046875,
              "score": "-inf"
             },
             "reward": 0,
             "visits": 1
            },
            "(0, 11, None)": {
             "failure_message": "Duplicate 1",
             "label": "LibSVM_SVC",
             "policy": {
              "adjusted_exploration": "-inf",
              "adjusted_score": "-inf",
              "exploitation": "-inf",
              "exploration": "-inf",
              "overfitting": 0.998046875,
              "score": "-inf"
             },
             "reward": 0,
             "visits": 1
            },
            "(0, 2, None)": {
             "failure_message": "Duplicate 1",
             "label": "LibSVM_SVC",
             "policy": {
              "adjusted_exploration": "-inf",
              "adjusted_score": "-inf",
              "exploitation": "-inf",
              "exploration": "-inf",
              "overfitting": 0.998046875,
              "score": "-inf"
             },
             "reward": 0,
             "visits": 1
            },
            "(0, 3, None)": {
             "failure_message": "Duplicate 1",
             "label": "LibSVM_SVC",
             "policy": {
              "adjusted_exploration": "-inf",
              "adjusted_score": "-inf",
              "exploitation": "-inf",
              "exploration": "-inf",
              "overfitting": 0.998046875,
              "score": "-inf"
             },
             "reward": 0,
             "visits": 1
            },
            "(0, 4, None)": {
             "failure_message": "Duplicate 1",
             "label": "LibSVM_SVC",
             "policy": {
              "adjusted_exploration": "-inf",
              "adjusted_score": "-inf",
              "exploitation": "-inf",
              "exploration": "-inf",
              "overfitting": 0.998046875,
              "score": "-inf"
             },
             "reward": 0,
             "visits": 1
            },
            "(0, 5, None)": {
             "failure_message": "Duplicate 1",
             "label": "LibSVM_SVC",
             "policy": {
              "adjusted_exploration": "-inf",
              "adjusted_score": "-inf",
              "exploitation": "-inf",
              "exploration": "-inf",
              "overfitting": 0.998046875,
              "score": "-inf"
             },
             "reward": 0,
             "visits": 1
            },
            "(0, 6, None)": {
             "failure_message": "Duplicate 1",
             "label": "LibSVM_SVC",
             "policy": {
              "adjusted_exploration": "-inf",
              "adjusted_score": "-inf",
              "exploitation": "-inf",
              "exploration": "-inf",
              "overfitting": 0.998046875,
              "score": "-inf"
             },
             "reward": 0,
             "visits": 1
            },
            "(0, 7, None)": {
             "failure_message": "Duplicate 1",
             "label": "LibSVM_SVC",
             "policy": {
              "adjusted_exploration": "-inf",
              "adjusted_score": "-inf",
              "exploitation": "-inf",
              "exploration": "-inf",
              "overfitting": 0.998046875,
              "score": "-inf"
             },
             "reward": 0,
             "visits": 1
            },
            "(0, 8, None)": {
             "failure_message": "Duplicate 1",
             "label": "LibSVM_SVC",
             "policy": {
              "adjusted_exploration": "-inf",
              "adjusted_score": "-inf",
              "exploitation": "-inf",
              "exploration": "-inf",
              "overfitting": 0.998046875,
              "score": "-inf"
             },
             "reward": 0,
             "visits": 1
            },
            "(0, 9, None)": {
             "failure_message": "Duplicate 1",
             "label": "LibSVM_SVC",
             "policy": {
              "adjusted_exploration": "-inf",
              "adjusted_score": "-inf",
              "exploitation": "-inf",
              "exploration": "-inf",
              "overfitting": 0.998046875,
              "score": "-inf"
             },
             "reward": 0,
             "visits": 1
            }
           },
           "reward": 0,
           "visits": 1
          },
          "50": {
           "failure_message": "Unvisited",
           "label": "QuantileTransformer",
           "policy": {
            "(0, 2, None)": {
             "failure_message": "Unvisited",
             "label": "QuantileTransformer",
             "policy": {
              "adjusted_exploration": 0,
              "adjusted_score": 0,
              "exploitation": 0,
              "exploration": 0,
              "overfitting": 0.99609375,
              "score": 0
             },
             "reward": 0,
             "visits": 0
            },
            "(0, 9, None)": {
             "failure_message": "Unvisited",
             "label": "QuantileTransformer",
             "policy": {
              "adjusted_exploration": 0.4409708346236597,
              "adjusted_score": 0.43924829230091106,
              "exploitation": 0,
              "exploration": 1.048147073968205,
              "overfitting": 0.99609375,
              "score": 0.4409708346236597
             },
             "reward": 0,
             "visits": 0
            }
           },
           "reward": 0,
           "visits": 0
          },
          "51": {
           "failure_message": "Unvisited",
           "label": "RobustScaler",
           "policy": {
            "(0, 2, None)": {
             "failure_message": "Unvisited",
             "label": "RobustScaler",
             "policy": {
              "adjusted_exploration": 0,
              "adjusted_score": 0,
              "exploitation": 0,
              "exploration": 0,
              "overfitting": 0.99609375,
              "score": 0
             },
             "reward": 0,
             "visits": 0
            },
            "(0, 9, None)": {
             "failure_message": "Unvisited",
             "label": "RobustScaler",
             "policy": {
              "adjusted_exploration": 0.4409708346236597,
              "adjusted_score": 0.43924829230091106,
              "exploitation": 0,
              "exploration": 1.048147073968205,
              "overfitting": 0.99609375,
              "score": 0.4409708346236597
             },
             "reward": 0,
             "visits": 0
            }
           },
           "reward": 0,
           "visits": 0
          },
          "52": {
           "failure_message": "Unvisited",
           "label": "StandardScaler",
           "policy": {
            "(0, 2, None)": {
             "failure_message": "Unvisited",
             "label": "StandardScaler",
             "policy": {
              "adjusted_exploration": 0,
              "adjusted_score": 0,
              "exploitation": 0,
              "exploration": 0,
              "overfitting": 0.99609375,
              "score": 0
             },
             "reward": 0,
             "visits": 0
            },
            "(0, 9, None)": {
             "failure_message": "Unvisited",
             "label": "StandardScaler",
             "policy": {
              "adjusted_exploration": 0.4409708346236597,
              "adjusted_score": 0.43924829230091106,
              "exploitation": 0,
              "exploration": 1.048147073968205,
              "overfitting": 0.99609375,
              "score": 0.4409708346236597
             },
             "reward": 0,
             "visits": 0
            }
           },
           "reward": 0,
           "visits": 0
          },
          "53": {
           "failure_message": "Unvisited",
           "label": "BernoulliRBM",
           "policy": {
            "(0, 2, None)": {
             "failure_message": "Unvisited",
             "label": "BernoulliRBM",
             "policy": {
              "adjusted_exploration": 0,
              "adjusted_score": 0,
              "exploitation": 0,
              "exploration": 0,
              "overfitting": 0.99609375,
              "score": 0
             },
             "reward": 0,
             "visits": 0
            },
            "(0, 9, None)": {
             "failure_message": "Unvisited",
             "label": "BernoulliRBM",
             "policy": {
              "adjusted_exploration": 0.4409708346236597,
              "adjusted_score": 0.43924829230091106,
              "exploitation": 0,
              "exploration": 1.048147073968205,
              "overfitting": 0.99609375,
              "score": 0.4409708346236597
             },
             "reward": 0,
             "visits": 0
            }
           },
           "reward": 0,
           "visits": 0
          },
          "54": {
           "failure_message": "Unvisited",
           "label": "Binarizer",
           "policy": {
            "(0, 2, None)": {
             "failure_message": "Unvisited",
             "label": "Binarizer",
             "policy": {
              "adjusted_exploration": 0,
              "adjusted_score": 0,
              "exploitation": 0,
              "exploration": 0,
              "overfitting": 0.99609375,
              "score": 0
             },
             "reward": 0,
             "visits": 0
            },
            "(0, 9, None)": {
             "failure_message": "Unvisited",
             "label": "Binarizer",
             "policy": {
              "adjusted_exploration": 0.4409708346236597,
              "adjusted_score": 0.43924829230091106,
              "exploitation": 0,
              "exploration": 1.048147073968205,
              "overfitting": 0.99609375,
              "score": 0.4409708346236597
             },
             "reward": 0,
             "visits": 0
            }
           },
           "reward": 0,
           "visits": 0
          },
          "55": {
           "failure_message": "Unvisited",
           "label": "FactorAnalysis",
           "policy": {
            "(0, 2, None)": {
             "failure_message": "Unvisited",
             "label": "FactorAnalysis",
             "policy": {
              "adjusted_exploration": 0,
              "adjusted_score": 0,
              "exploitation": 0,
              "exploration": 0,
              "overfitting": 0.99609375,
              "score": 0
             },
             "reward": 0,
             "visits": 0
            },
            "(0, 9, None)": {
             "failure_message": "Unvisited",
             "label": "FactorAnalysis",
             "policy": {
              "adjusted_exploration": 0.4409708346236597,
              "adjusted_score": 0.43924829230091106,
              "exploitation": 0,
              "exploration": 1.048147073968205,
              "overfitting": 0.99609375,
              "score": 0.4409708346236597
             },
             "reward": 0,
             "visits": 0
            }
           },
           "reward": 0,
           "visits": 0
          },
          "56": {
           "failure_message": "Unvisited",
           "label": "FastICA",
           "policy": {
            "(0, 2, None)": {
             "failure_message": "Unvisited",
             "label": "FastICA",
             "policy": {
              "adjusted_exploration": 0,
              "adjusted_score": 0,
              "exploitation": 0,
              "exploration": 0,
              "overfitting": 0.99609375,
              "score": 0
             },
             "reward": 0,
             "visits": 0
            },
            "(0, 9, None)": {
             "failure_message": "Unvisited",
             "label": "FastICA",
             "policy": {
              "adjusted_exploration": 0.4409708346236597,
              "adjusted_score": 0.43924829230091106,
              "exploitation": 0,
              "exploration": 1.048147073968205,
              "overfitting": 0.99609375,
              "score": 0.4409708346236597
             },
             "reward": 0,
             "visits": 0
            }
           },
           "reward": 0,
           "visits": 0
          },
          "57": {
           "failure_message": "Unvisited",
           "label": "FeatureAgglomeration",
           "policy": {
            "(0, 2, None)": {
             "failure_message": "Unvisited",
             "label": "FeatureAgglomeration",
             "policy": {
              "adjusted_exploration": 0,
              "adjusted_score": 0,
              "exploitation": 0,
              "exploration": 0,
              "overfitting": 0.99609375,
              "score": 0
             },
             "reward": 0,
             "visits": 0
            },
            "(0, 9, None)": {
             "failure_message": "Unvisited",
             "label": "FeatureAgglomeration",
             "policy": {
              "adjusted_exploration": 0.4409708346236597,
              "adjusted_score": 0.43924829230091106,
              "exploitation": 0,
              "exploration": 1.048147073968205,
              "overfitting": 0.99609375,
              "score": 0.4409708346236597
             },
             "reward": 0,
             "visits": 0
            }
           },
           "reward": 0,
           "visits": 0
          },
          "58": {
           "failure_message": "Unvisited",
           "label": "GenericUnivariateSelect",
           "policy": {
            "(0, 2, None)": {
             "failure_message": "Unvisited",
             "label": "GenericUnivariateSelect",
             "policy": {
              "adjusted_exploration": 0,
              "adjusted_score": 0,
              "exploitation": 0,
              "exploration": 0,
              "overfitting": 0.99609375,
              "score": 0
             },
             "reward": 0,
             "visits": 0
            },
            "(0, 9, None)": {
             "failure_message": "Unvisited",
             "label": "GenericUnivariateSelect",
             "policy": {
              "adjusted_exploration": 0.4409708346236597,
              "adjusted_score": 0.43924829230091106,
              "exploitation": 0,
              "exploration": 1.048147073968205,
              "overfitting": 0.99609375,
              "score": 0.4409708346236597
             },
             "reward": 0,
             "visits": 0
            }
           },
           "reward": 0,
           "visits": 0
          },
          "59": {
           "failure_message": "Unvisited",
           "label": "KBinsDiscretizer",
           "policy": {
            "(0, 2, None)": {
             "failure_message": "Unvisited",
             "label": "KBinsDiscretizer",
             "policy": {
              "adjusted_exploration": 0,
              "adjusted_score": 0,
              "exploitation": 0,
              "exploration": 0,
              "overfitting": 0.99609375,
              "score": 0
             },
             "reward": 0,
             "visits": 0
            },
            "(0, 9, None)": {
             "failure_message": "Unvisited",
             "label": "KBinsDiscretizer",
             "policy": {
              "adjusted_exploration": 0.4409708346236597,
              "adjusted_score": 0.43924829230091106,
              "exploitation": 0,
              "exploration": 1.048147073968205,
              "overfitting": 0.99609375,
              "score": 0.4409708346236597
             },
             "reward": 0,
             "visits": 0
            }
           },
           "reward": 0,
           "visits": 0
          },
          "6": {
           "failure_message": "Duplicate 4",
           "label": "LinearDiscriminantAnalysis",
           "policy": {
            "(0, 0, None)": {
             "failure_message": "Unvisited",
             "label": "LinearDiscriminantAnalysis",
             "policy": {
              "adjusted_exploration": 0,
              "adjusted_score": -0.5585959859191966,
              "exploitation": -0.5596891287487841,
              "exploration": 0,
              "overfitting": 0.998046875,
              "score": -0.5596891287487841
             },
             "reward": 0,
             "visits": 0
            },
            "(0, 1, None)": {
             "failure_message": "Unvisited",
             "label": "LinearDiscriminantAnalysis",
             "policy": {
              "adjusted_exploration": 2.537272482359039,
              "adjusted_score": 1.6691445478386586,
              "exploitation": -0.8648615068338078,
              "exploration": 1.2686362411795196,
              "overfitting": 0.998046875,
              "score": 1.6724109755252314
             },
             "reward": 0,
             "visits": 0
            },
            "(0, 10, None)": {
             "failure_message": "Duplicate 4",
             "label": "LinearDiscriminantAnalysis",
             "policy": {
              "adjusted_exploration": "-inf",
              "adjusted_score": "-inf",
              "exploitation": "-inf",
              "exploration": "-inf",
              "overfitting": 0.998046875,
              "score": "-inf"
             },
             "reward": 0,
             "visits": 1
            },
            "(0, 11, None)": {
             "failure_message": "Duplicate 4",
             "label": "LinearDiscriminantAnalysis",
             "policy": {
              "adjusted_exploration": "-inf",
              "adjusted_score": "-inf",
              "exploitation": "-inf",
              "exploration": "-inf",
              "overfitting": 0.998046875,
              "score": "-inf"
             },
             "reward": 0,
             "visits": 1
            },
            "(0, 2, None)": {
             "failure_message": "Unvisited",
             "label": "LinearDiscriminantAnalysis",
             "policy": {
              "adjusted_exploration": 2.884053773201766,
              "adjusted_score": 2.1342508518965237,
              "exploitation": -0.7456263051567171,
              "exploration": 1.442026886600883,
              "overfitting": 0.998046875,
              "score": 2.138427468045049
             },
             "reward": 0,
             "visits": 0
            },
            "(0, 3, None)": {
             "failure_message": "Unvisited",
             "label": "LinearDiscriminantAnalysis",
             "policy": {
              "adjusted_exploration": 3.1527173357521288,
              "adjusted_score": 2.3495173622414174,
              "exploitation": -0.7986020921756011,
              "exploration": 1.5763586678760644,
              "overfitting": 0.998046875,
              "score": 2.3541152435765276
             },
             "reward": 0,
             "visits": 0
            },
            "(0, 4, None)": {
             "failure_message": "Unvisited",
             "label": "LinearDiscriminantAnalysis",
             "policy": {
              "adjusted_exploration": "-inf",
              "adjusted_score": "-inf",
              "exploitation": "-inf",
              "exploration": "-inf",
              "overfitting": 0.998046875,
              "score": "-inf"
             },
             "reward": 0,
             "visits": 0
            },
            "(0, 5, None)": {
             "failure_message": "Unvisited",
             "label": "LinearDiscriminantAnalysis",
             "policy": {
              "adjusted_exploration": 1.7382595857115415,
              "adjusted_score": 0.7858212160606038,
              "exploitation": -0.9509005590519932,
              "exploration": 1.70010933704164,
              "overfitting": 0.998046875,
              "score": 0.7873590266595483
             },
             "reward": 0,
             "visits": 0
            },
            "(0, 6, None)": {
             "failure_message": "Duplicate 4",
             "label": "LinearDiscriminantAnalysis",
             "policy": {
              "adjusted_exploration": "-inf",
              "adjusted_score": "-inf",
              "exploitation": "-inf",
              "exploration": "-inf",
              "overfitting": 0.998046875,
              "score": "-inf"
             },
             "reward": 0,
             "visits": 1
            },
            "(0, 7, None)": {
             "failure_message": "Duplicate 4",
             "label": "LinearDiscriminantAnalysis",
             "policy": {
              "adjusted_exploration": "-inf",
              "adjusted_score": "-inf",
              "exploitation": "-inf",
              "exploration": "-inf",
              "overfitting": 0.998046875,
              "score": "-inf"
             },
             "reward": 0,
             "visits": 1
            },
            "(0, 8, None)": {
             "failure_message": "Duplicate 4",
             "label": "LinearDiscriminantAnalysis",
             "policy": {
              "adjusted_exploration": "-inf",
              "adjusted_score": "-inf",
              "exploitation": "-inf",
              "exploration": "-inf",
              "overfitting": 0.998046875,
              "score": "-inf"
             },
             "reward": 0,
             "visits": 1
            },
            "(0, 9, None)": {
             "failure_message": "Duplicate 4",
             "label": "LinearDiscriminantAnalysis",
             "policy": {
              "adjusted_exploration": "-inf",
              "adjusted_score": "-inf",
              "exploitation": "-inf",
              "exploration": "-inf",
              "overfitting": 0.998046875,
              "score": "-inf"
             },
             "reward": 0,
             "visits": 1
            }
           },
           "reward": 0,
           "visits": 1
          },
          "60": {
           "failure_message": "Unvisited",
           "label": "KernelPCA",
           "policy": {
            "(0, 2, None)": {
             "failure_message": "Unvisited",
             "label": "KernelPCA",
             "policy": {
              "adjusted_exploration": 0,
              "adjusted_score": 0,
              "exploitation": 0,
              "exploration": 0,
              "overfitting": 0.99609375,
              "score": 0
             },
             "reward": 0,
             "visits": 0
            },
            "(0, 9, None)": {
             "failure_message": "Unvisited",
             "label": "KernelPCA",
             "policy": {
              "adjusted_exploration": 0.4409708346236597,
              "adjusted_score": 0.43924829230091106,
              "exploitation": 0,
              "exploration": 1.048147073968205,
              "overfitting": 0.99609375,
              "score": 0.4409708346236597
             },
             "reward": 0,
             "visits": 0
            }
           },
           "reward": 0,
           "visits": 0
          },
          "61": {
           "failure_message": "Unvisited",
           "label": "MissingIndicator",
           "policy": {
            "(0, 2, None)": {
             "failure_message": "Unvisited",
             "label": "MissingIndicator",
             "policy": {
              "adjusted_exploration": 0,
              "adjusted_score": 0,
              "exploitation": 0,
              "exploration": 0,
              "overfitting": 0.99609375,
              "score": 0
             },
             "reward": 0,
             "visits": 0
            },
            "(0, 9, None)": {
             "failure_message": "Unvisited",
             "label": "MissingIndicator",
             "policy": {
              "adjusted_exploration": 0.4409708346236597,
              "adjusted_score": 0.43924829230091106,
              "exploitation": 0,
              "exploration": 1.048147073968205,
              "overfitting": 0.99609375,
              "score": 0.4409708346236597
             },
             "reward": 0,
             "visits": 0
            }
           },
           "reward": 0,
           "visits": 0
          },
          "62": {
           "failure_message": "Unvisited",
           "label": "MultiColumnLabelEncoder",
           "policy": {
            "(0, 2, None)": {
             "failure_message": "Unvisited",
             "label": "MultiColumnLabelEncoder",
             "policy": {
              "adjusted_exploration": 0,
              "adjusted_score": 0,
              "exploitation": 0,
              "exploration": 0,
              "overfitting": 0.99609375,
              "score": 0
             },
             "reward": 0,
             "visits": 0
            },
            "(0, 9, None)": {
             "failure_message": "Unvisited",
             "label": "MultiColumnLabelEncoder",
             "policy": {
              "adjusted_exploration": 0.4409708346236597,
              "adjusted_score": 0.43924829230091106,
              "exploitation": 0,
              "exploration": 1.048147073968205,
              "overfitting": 0.99609375,
              "score": 0.4409708346236597
             },
             "reward": 0,
             "visits": 0
            }
           },
           "reward": 0,
           "visits": 0
          },
          "63": {
           "failure_message": "Unvisited",
           "label": "OneHotEncoder",
           "policy": {
            "(0, 2, None)": {
             "failure_message": "Unvisited",
             "label": "OneHotEncoder",
             "policy": {
              "adjusted_exploration": 0,
              "adjusted_score": 0,
              "exploitation": 0,
              "exploration": 0,
              "overfitting": 0.99609375,
              "score": 0
             },
             "reward": 0,
             "visits": 0
            },
            "(0, 9, None)": {
             "failure_message": "Unvisited",
             "label": "OneHotEncoder",
             "policy": {
              "adjusted_exploration": 0.4409708346236597,
              "adjusted_score": 0.43924829230091106,
              "exploitation": 0,
              "exploration": 1.048147073968205,
              "overfitting": 0.99609375,
              "score": 0.4409708346236597
             },
             "reward": 0,
             "visits": 0
            }
           },
           "reward": 0,
           "visits": 0
          },
          "64": {
           "failure_message": "Unvisited",
           "label": "PCA",
           "policy": {
            "(0, 2, None)": {
             "failure_message": "Unvisited",
             "label": "PCA",
             "policy": {
              "adjusted_exploration": 0,
              "adjusted_score": 0,
              "exploitation": 0,
              "exploration": 0,
              "overfitting": 0.99609375,
              "score": 0
             },
             "reward": 0,
             "visits": 0
            },
            "(0, 9, None)": {
             "failure_message": "Unvisited",
             "label": "PCA",
             "policy": {
              "adjusted_exploration": 0.4409708346236597,
              "adjusted_score": 0.43924829230091106,
              "exploitation": 0,
              "exploration": 1.048147073968205,
              "overfitting": 0.99609375,
              "score": 0.4409708346236597
             },
             "reward": 0,
             "visits": 0
            }
           },
           "reward": 0,
           "visits": 0
          },
          "65": {
           "failure_message": "Unvisited",
           "label": "PolynomialFeatures",
           "policy": {
            "(0, 2, None)": {
             "failure_message": "Unvisited",
             "label": "PolynomialFeatures",
             "policy": {
              "adjusted_exploration": 0,
              "adjusted_score": 0,
              "exploitation": 0,
              "exploration": 0,
              "overfitting": 0.99609375,
              "score": 0
             },
             "reward": 0,
             "visits": 0
            },
            "(0, 9, None)": {
             "failure_message": "Unvisited",
             "label": "PolynomialFeatures",
             "policy": {
              "adjusted_exploration": 0.4409708346236597,
              "adjusted_score": 0.43924829230091106,
              "exploitation": 0,
              "exploration": 1.048147073968205,
              "overfitting": 0.99609375,
              "score": 0.4409708346236597
             },
             "reward": 0,
             "visits": 0
            }
           },
           "reward": 0,
           "visits": 0
          },
          "66": {
           "failure_message": "Unvisited",
           "label": "RandomTreesEmbedding",
           "policy": {
            "(0, 2, None)": {
             "failure_message": "Unvisited",
             "label": "RandomTreesEmbedding",
             "policy": {
              "adjusted_exploration": 0,
              "adjusted_score": 0,
              "exploitation": 0,
              "exploration": 0,
              "overfitting": 0.99609375,
              "score": 0
             },
             "reward": 0,
             "visits": 0
            },
            "(0, 9, None)": {
             "failure_message": "Unvisited",
             "label": "RandomTreesEmbedding",
             "policy": {
              "adjusted_exploration": 0.4409708346236597,
              "adjusted_score": 0.43924829230091106,
              "exploitation": 0,
              "exploration": 1.048147073968205,
              "overfitting": 0.99609375,
              "score": 0.4409708346236597
             },
             "reward": 0,
             "visits": 0
            }
           },
           "reward": 0,
           "visits": 0
          },
          "67": {
           "failure_message": "Unvisited",
           "label": "SelectKBest",
           "policy": {
            "(0, 2, None)": {
             "failure_message": "Unvisited",
             "label": "SelectKBest",
             "policy": {
              "adjusted_exploration": 0,
              "adjusted_score": 0,
              "exploitation": 0,
              "exploration": 0,
              "overfitting": 0.99609375,
              "score": 0
             },
             "reward": 0,
             "visits": 0
            },
            "(0, 9, None)": {
             "failure_message": "Unvisited",
             "label": "SelectKBest",
             "policy": {
              "adjusted_exploration": 0.4409708346236597,
              "adjusted_score": 0.43924829230091106,
              "exploitation": 0,
              "exploration": 1.048147073968205,
              "overfitting": 0.99609375,
              "score": 0.4409708346236597
             },
             "reward": 0,
             "visits": 0
            }
           },
           "reward": 0,
           "visits": 0
          },
          "68": {
           "failure_message": "Unvisited",
           "label": "SelectPercentileClassification",
           "policy": {
            "(0, 2, None)": {
             "failure_message": "Unvisited",
             "label": "SelectPercentileClassification",
             "policy": {
              "adjusted_exploration": 0,
              "adjusted_score": 0,
              "exploitation": 0,
              "exploration": 0,
              "overfitting": 0.99609375,
              "score": 0
             },
             "reward": 0,
             "visits": 0
            },
            "(0, 9, None)": {
             "failure_message": "Unvisited",
             "label": "SelectPercentileClassification",
             "policy": {
              "adjusted_exploration": 0.4409708346236597,
              "adjusted_score": 0.43924829230091106,
              "exploitation": 0,
              "exploration": 1.048147073968205,
              "overfitting": 0.99609375,
              "score": 0.4409708346236597
             },
             "reward": 0,
             "visits": 0
            }
           },
           "reward": 0,
           "visits": 0
          },
          "69": {
           "failure_message": "Unvisited",
           "label": "TruncatedSVD",
           "policy": {
            "(0, 2, None)": {
             "failure_message": "Unvisited",
             "label": "TruncatedSVD",
             "policy": {
              "adjusted_exploration": 0,
              "adjusted_score": 0,
              "exploitation": 0,
              "exploration": 0,
              "overfitting": 0.99609375,
              "score": 0
             },
             "reward": 0,
             "visits": 0
            },
            "(0, 9, None)": {
             "failure_message": "Unvisited",
             "label": "TruncatedSVD",
             "policy": {
              "adjusted_exploration": 0.4409708346236597,
              "adjusted_score": 0.43924829230091106,
              "exploitation": 0,
              "exploration": 1.048147073968205,
              "overfitting": 0.99609375,
              "score": 0.4409708346236597
             },
             "reward": 0,
             "visits": 0
            }
           },
           "reward": 0,
           "visits": 0
          },
          "7": {
           "failure_message": null,
           "label": "MultinomialNB",
           "policy": {
            "(0, 0, None)": {
             "failure_message": "Unvisited",
             "label": "MultinomialNB",
             "policy": {
              "adjusted_exploration": 0,
              "adjusted_score": -0.8921051620726809,
              "exploitation": -0.8938509647381851,
              "exploration": 0,
              "overfitting": 0.998046875,
              "score": -0.8938509647381851
             },
             "reward": 0,
             "visits": 0
            },
            "(0, 1, None)": {
             "failure_message": "Unvisited",
             "label": "MultinomialNB",
             "policy": {
              "adjusted_exploration": 2.537272482359039,
              "adjusted_score": 1.5808156041658674,
              "exploitation": -0.9533633055822797,
              "exploration": 1.2686362411795196,
              "overfitting": 0.998046875,
              "score": 1.5839091767767595
             },
             "reward": 0,
             "visits": 0
            },
            "(0, 10, None)": {
             "failure_message": null,
             "label": "MultinomialNB",
             "policy": {
              "adjusted_exploration": 0.4615681368566145,
              "adjusted_score": 1.2886979985119167,
              "exploitation": 0.829651775546715,
              "exploration": 1.0971049649941165,
              "overfitting": 0.998046875,
              "score": 1.2912199124033295
             },
             "reward": -2.488955326640145,
             "visits": 3
            },
            "(0, 11, None)": {
             "failure_message": null,
             "label": "MultinomialNB",
             "policy": {
              "adjusted_exploration": 0.30040961108040054,
              "adjusted_score": 0.7782611655732068,
              "exploitation": 0.4793745704724017,
              "exploration": 0.7283613768202379,
              "overfitting": 0.998046875,
              "score": 0.7797841815528022
             },
             "reward": -3.3556219933068117,
             "visits": 7
            },
            "(0, 2, None)": {
             "failure_message": null,
             "label": "MultinomialNB",
             "policy": {
              "adjusted_exploration": 1.6651092223153954,
              "adjusted_score": 2.489888417788161,
              "exploitation": 0.829651775546715,
              "exploration": 0.8325546111576977,
              "overfitting": 0.998046875,
              "score": 2.4947609978621106
             },
             "reward": -2.488955326640145,
             "visits": 3
            },
            "(0, 3, None)": {
             "failure_message": null,
             "label": "MultinomialNB",
             "policy": {
              "adjusted_exploration": 1.7880698244376516,
              "adjusted_score": 2.612608862484397,
              "exploitation": 0.829651775546715,
              "exploration": 0.8940349122188258,
              "overfitting": 0.998046875,
              "score": 2.6177215999843666
             },
             "reward": -2.488955326640145,
             "visits": 3
            },
            "(0, 4, None)": {
             "failure_message": null,
             "label": "MultinomialNB",
             "policy": {
              "adjusted_exploration": 1.900193043211561,
              "adjusted_score": 2.724513090596639,
              "exploitation": 0.829651775546715,
              "exploration": 0.9500965216057805,
              "overfitting": 0.998046875,
              "score": 2.7298448187582762
             },
             "reward": -2.488955326640145,
             "visits": 3
            },
            "(0, 5, None)": {
             "failure_message": null,
             "label": "MultinomialNB",
             "policy": {
              "adjusted_exploration": 1.0035846397320058,
              "adjusted_score": 1.8296558754051295,
              "exploitation": 0.829651775546715,
              "exploration": 0.981558583392787,
              "overfitting": 0.998046875,
              "score": 1.8332364152787208
             },
             "reward": -2.488955326640145,
             "visits": 3
            },
            "(0, 6, None)": {
             "failure_message": null,
             "label": "MultinomialNB",
             "policy": {
              "adjusted_exploration": 1.0452740172105615,
              "adjusted_score": 1.8712638283182974,
              "exploitation": 0.829651775546715,
              "exploration": 1.0223329881418528,
              "overfitting": 0.998046875,
              "score": 1.8749257927572764
             },
             "reward": -2.488955326640145,
             "visits": 3
            },
            "(0, 7, None)": {
             "failure_message": null,
             "label": "MultinomialNB",
             "policy": {
              "adjusted_exploration": 0.5879315160552582,
              "adjusted_score": 1.4148145742355631,
              "exploitation": 0.829651775546715,
              "exploration": 1.048147073968205,
              "overfitting": 0.998046875,
              "score": 1.4175832916019733
             },
             "reward": -2.488955326640145,
             "visits": 3
            },
            "(0, 8, None)": {
             "failure_message": null,
             "label": "MultinomialNB",
             "policy": {
              "adjusted_exploration": 0.5972550156215761,
              "adjusted_score": 1.4241198638417905,
              "exploitation": 0.829651775546715,
              "exploration": 1.064768735714029,
              "overfitting": 0.998046875,
              "score": 1.426906791168291
             },
             "reward": -2.488955326640145,
             "visits": 3
            },
            "(0, 9, None)": {
             "failure_message": null,
             "label": "MultinomialNB",
             "policy": {
              "adjusted_exploration": 0.500151255462561,
              "adjusted_score": 1.327205759464336,
              "exploitation": 0.829651775546715,
              "exploration": 1.0841833369893614,
              "overfitting": 0.998046875,
              "score": 1.329803031009276
             },
             "reward": -2.488955326640145,
             "visits": 3
            }
           },
           "reward": -3.3556219933068117,
           "visits": 7
          },
          "70": {
           "failure_message": "Unvisited",
           "label": "VarianceThreshold",
           "policy": {
            "(0, 2, None)": {
             "failure_message": "Unvisited",
             "label": "VarianceThreshold",
             "policy": {
              "adjusted_exploration": 0,
              "adjusted_score": 0,
              "exploitation": 0,
              "exploration": 0,
              "overfitting": 0.99609375,
              "score": 0
             },
             "reward": 0,
             "visits": 0
            },
            "(0, 9, None)": {
             "failure_message": "Unvisited",
             "label": "VarianceThreshold",
             "policy": {
              "adjusted_exploration": 0.4409708346236597,
              "adjusted_score": 0.43924829230091106,
              "exploitation": 0,
              "exploration": 1.048147073968205,
              "overfitting": 0.99609375,
              "score": 0.4409708346236597
             },
             "reward": 0,
             "visits": 0
            }
           },
           "reward": 0,
           "visits": 0
          },
          "71": {
           "failure_message": "Unvisited",
           "label": "AdaBoostingClassifier",
           "policy": {
            "(0, 3, None)": {
             "failure_message": "Unvisited",
             "label": "AdaBoostingClassifier",
             "policy": {
              "adjusted_exploration": 0,
              "adjusted_score": -0.6433102686628326,
              "exploitation": -0.6458330540301378,
              "exploration": 0,
              "overfitting": 0.99609375,
              "score": -0.6458330540301378
             },
             "reward": 0,
             "visits": 0
            },
            "(0, 6, None)": {
             "failure_message": "Unvisited",
             "label": "AdaBoostingClassifier",
             "policy": {
              "adjusted_exploration": 0.6604382884316264,
              "adjusted_score": 0.21238961522450633,
              "exploitation": -0.4472157727552593,
              "exploration": 1.1774100225154747,
              "overfitting": 0.99609375,
              "score": 0.21322251567636713
             },
             "reward": 0,
             "visits": 0
            }
           },
           "reward": 0,
           "visits": 0
          },
          "72": {
           "failure_message": "Duplicate 6",
           "label": "BernoulliNB",
           "policy": {
            "(0, 3, None)": {
             "failure_message": "Unvisited",
             "label": "BernoulliNB",
             "policy": {
              "adjusted_exploration": 0,
              "adjusted_score": -0.725057345203015,
              "exploitation": -0.727900707341066,
              "exploration": 0,
              "overfitting": 0.99609375,
              "score": -0.727900707341066
             },
             "reward": 0,
             "visits": 0
            },
            "(0, 6, None)": {
             "failure_message": "Unvisited",
             "label": "BernoulliNB",
             "policy": {
              "adjusted_exploration": 0.5879315160552582,
              "adjusted_score": -0.413682864751006,
              "exploitation": -1.0032366665503858,
              "exploration": 1.048147073968205,
              "overfitting": 0.99609375,
              "score": -0.4153051504951276
             },
             "reward": 0,
             "visits": 0
            }
           },
           "reward": 0,
           "visits": 1
          },
          "73": {
           "failure_message": "Unvisited",
           "label": "DecisionTree",
           "policy": {
            "(0, 3, None)": {
             "failure_message": "Unvisited",
             "label": "DecisionTree",
             "policy": {
              "adjusted_exploration": 0,
              "adjusted_score": -0.7967780767527363,
              "exploitation": -0.7999026966615705,
              "exploration": 0,
              "overfitting": 0.99609375,
              "score": -0.7999026966615705
             },
             "reward": 0,
             "visits": 0
            },
            "(0, 6, None)": {
             "failure_message": "Unvisited",
             "label": "DecisionTree",
             "policy": {
              "adjusted_exploration": 0.6604382884316264,
              "adjusted_score": -0.08893871884828239,
              "exploitation": -0.7497257865695099,
              "exploration": 1.1774100225154747,
              "overfitting": 0.99609375,
              "score": -0.0892874981378835
             },
             "reward": 0,
             "visits": 0
            }
           },
           "reward": 0,
           "visits": 0
          },
          "74": {
           "failure_message": "Unvisited",
           "label": "GradientBoostingClassifier",
           "policy": {
            "(0, 3, None)": {
             "failure_message": "Unvisited",
             "label": "GradientBoostingClassifier",
             "policy": {
              "adjusted_exploration": 0,
              "adjusted_score": -0.6620787511282941,
              "exploitation": -0.6646751383876207,
              "exploration": 0,
              "overfitting": 0.99609375,
              "score": -0.6646751383876207
             },
             "reward": 0,
             "visits": 0
            },
            "(0, 6, None)": {
             "failure_message": "Unvisited",
             "label": "GradientBoostingClassifier",
             "policy": {
              "adjusted_exploration": 0.6604382884316264,
              "adjusted_score": -0.22699387420363115,
              "exploitation": -0.8883223346909581,
              "exploration": 1.1774100225154747,
              "overfitting": 0.99609375,
              "score": -0.22788404625933167
             },
             "reward": 0,
             "visits": 0
            }
           },
           "reward": 0,
           "visits": 0
          },
          "75": {
           "failure_message": "Unvisited",
           "label": "LibSVM_SVC",
           "policy": {
            "(0, 3, None)": {
             "failure_message": "Unvisited",
             "label": "LibSVM_SVC",
             "policy": {
              "adjusted_exploration": 0,
              "adjusted_score": -0.7127036659534765,
              "exploitation": -0.7154985822905489,
              "exploration": 0,
              "overfitting": 0.99609375,
              "score": -0.7154985822905489
             },
             "reward": 0,
             "visits": 0
            },
            "(0, 6, None)": {
             "failure_message": "Unvisited",
             "label": "LibSVM_SVC",
             "policy": {
              "adjusted_exploration": 0.6604382884316264,
              "adjusted_score": -0.25769626626134706,
              "exploitation": -0.9191451282861552,
              "exploration": 1.1774100225154747,
              "overfitting": 0.99609375,
              "score": -0.2587068398545288
             },
             "reward": 0,
             "visits": 0
            }
           },
           "reward": 0,
           "visits": 0
          },
          "76": {
           "failure_message": "Unvisited",
           "label": "LinearDiscriminantAnalysis",
           "policy": {
            "(0, 3, None)": {
             "failure_message": "Unvisited",
             "label": "LinearDiscriminantAnalysis",
             "policy": {
              "adjusted_exploration": 0,
              "adjusted_score": -0.814182355528115,
              "exploitation": -0.8173752275105782,
              "exploration": 0,
              "overfitting": 0.99609375,
              "score": -0.8173752275105782
             },
             "reward": 0,
             "visits": 0
            },
            "(0, 6, None)": {
             "failure_message": "Unvisited",
             "label": "LinearDiscriminantAnalysis",
             "policy": {
              "adjusted_exploration": 0.6604382884316264,
              "adjusted_score": -0.11465167149987794,
              "exploitation": -0.7755395743295431,
              "exploration": 1.1774100225154747,
              "overfitting": 0.99609375,
              "score": -0.11510128589791668
             },
             "reward": 0,
             "visits": 0
            }
           },
           "reward": 0,
           "visits": 0
          },
          "77": {
           "failure_message": "Unvisited",
           "label": "MultinomialNB",
           "policy": {
            "(0, 3, None)": {
             "failure_message": "Unvisited",
             "label": "MultinomialNB",
             "policy": {
              "adjusted_exploration": 0,
              "adjusted_score": -0.8313466395825122,
              "exploitation": -0.8346068224828358,
              "exploration": 0,
              "overfitting": 0.99609375,
              "score": -0.8346068224828358
             },
             "reward": 0,
             "visits": 0
            },
            "(0, 6, None)": {
             "failure_message": "Unvisited",
             "label": "MultinomialNB",
             "policy": {
              "adjusted_exploration": 0.6604382884316264,
              "adjusted_score": -0.03388165849188078,
              "exploitation": -0.694452816172495,
              "exploration": 1.1774100225154747,
              "overfitting": 0.99609375,
              "score": -0.03401452774086855
             },
             "reward": 0,
             "visits": 0
            }
           },
           "reward": 0,
           "visits": 0
          },
          "78": {
           "failure_message": null,
           "label": "RandomForest",
           "policy": {
            "(0, 3, None)": {
             "failure_message": "Unvisited",
             "label": "RandomForest",
             "policy": {
              "adjusted_exploration": 0,
              "adjusted_score": -0.9588250385109347,
              "exploitation": -0.9625851367011736,
              "exploration": 0,
              "overfitting": 0.99609375,
              "score": -0.9625851367011736
             },
             "reward": 0,
             "visits": 0
            }
           },
           "reward": -2.575804190782131,
           "visits": 3
          },
          "79": {
           "failure_message": "Unvisited",
           "label": "SGDClassifier",
           "policy": {
            "(0, 3, None)": {
             "failure_message": "Unvisited",
             "label": "SGDClassifier",
             "policy": {
              "adjusted_exploration": 0,
              "adjusted_score": -0.7455807823781161,
              "exploitation": -0.7485046285835205,
              "exploration": 0,
              "overfitting": 0.99609375,
              "score": -0.7485046285835205
             },
             "reward": 0,
             "visits": 0
            },
            "(0, 6, None)": {
             "failure_message": "Unvisited",
             "label": "SGDClassifier",
             "policy": {
              "adjusted_exploration": 0.6604382884316264,
              "adjusted_score": -0.08935443205029978,
              "exploitation": -0.7501431300193784,
              "exploration": 1.1774100225154747,
              "overfitting": 0.99609375,
              "score": -0.08970484158775194
             },
             "reward": 0,
             "visits": 0
            }
           },
           "reward": 0,
           "visits": 0
          },
          "8": {
           "failure_message": "Unvisited",
           "label": "RandomForest",
           "policy": {
            "(0, 0, None)": {
             "failure_message": "Unvisited",
             "label": "RandomForest",
             "policy": {
              "adjusted_exploration": 0,
              "adjusted_score": -0.7107339032966536,
              "exploitation": -0.7121247719919505,
              "exploration": 0,
              "overfitting": 0.998046875,
              "score": -0.7121247719919505
             },
             "reward": 0,
             "visits": 0
            },
            "(0, 1, None)": {
             "failure_message": "Unvisited",
             "label": "RandomForest",
             "policy": {
              "adjusted_exploration": 2.537272482359039,
              "adjusted_score": 1.709733003477429,
              "exploitation": -0.8241936217319478,
              "exploration": 1.2686362411795196,
              "overfitting": 0.998046875,
              "score": 1.7130788606270912
             },
             "reward": 0,
             "visits": 0
            },
            "(0, 10, None)": {
             "failure_message": "Unvisited",
             "label": "RandomForest",
             "policy": {
              "adjusted_exploration": "-inf",
              "adjusted_score": "-inf",
              "exploitation": "-inf",
              "exploration": "-inf",
              "overfitting": 0.998046875,
              "score": "-inf"
             },
             "reward": 0,
             "visits": 0
            },
            "(0, 11, None)": {
             "failure_message": "Unvisited",
             "label": "RandomForest",
             "policy": {
              "adjusted_exploration": "-inf",
              "adjusted_score": "-inf",
              "exploitation": "-inf",
              "exploration": "-inf",
              "overfitting": 0.998046875,
              "score": "-inf"
             },
             "reward": 0,
             "visits": 0
            },
            "(0, 2, None)": {
             "failure_message": "Unvisited",
             "label": "RandomForest",
             "policy": {
              "adjusted_exploration": 2.884053773201766,
              "adjusted_score": 2.0382397122233473,
              "exploitation": -0.8418253335572378,
              "exploration": 1.442026886600883,
              "overfitting": 0.998046875,
              "score": 2.042228439644528
             },
             "reward": 0,
             "visits": 0
            },
            "(0, 3, None)": {
             "failure_message": "Unvisited",
             "label": "RandomForest",
             "policy": {
              "adjusted_exploration": 3.1527173357521288,
              "adjusted_score": 2.2775763424592643,
              "exploitation": -0.8706838967322789,
              "exploration": 1.5763586678760644,
              "overfitting": 0.998046875,
              "score": 2.28203343901985
             },
             "reward": 0,
             "visits": 0
            },
            "(0, 4, None)": {
             "failure_message": "Unvisited",
             "label": "RandomForest",
             "policy": {
              "adjusted_exploration": "-inf",
              "adjusted_score": "-inf",
              "exploitation": "-inf",
              "exploration": "-inf",
              "overfitting": 0.998046875,
              "score": "-inf"
             },
             "reward": 0,
             "visits": 0
            },
            "(0, 5, None)": {
             "failure_message": "Unvisited",
             "label": "RandomForest",
             "policy": {
              "adjusted_exploration": 1.769657738554306,
              "adjusted_score": 1.0059282035964867,
              "exploitation": -0.7617609866141861,
              "exploration": 1.7308183826022854,
              "overfitting": 0.998046875,
              "score": 1.0078967519401199
             },
             "reward": 0,
             "visits": 0
            },
            "(0, 6, None)": {
             "failure_message": "Unvisited",
             "label": "RandomForest",
             "policy": {
              "adjusted_exploration": "-inf",
              "adjusted_score": "-inf",
              "exploitation": "-inf",
              "exploration": "-inf",
              "overfitting": 0.998046875,
              "score": "-inf"
             },
             "reward": 0,
             "visits": 0
            },
            "(0, 7, None)": {
             "failure_message": "Unvisited",
             "label": "RandomForest",
             "policy": {
              "adjusted_exploration": 1.018327257178704,
              "adjusted_score": 0.18729062770615204,
              "exploitation": -0.8306701116101134,
              "exploration": 1.815443985917585,
              "overfitting": 0.998046875,
              "score": 0.1876571455685907
             },
             "reward": 0,
             "visits": 0
            },
            "(0, 8, None)": {
             "failure_message": "Unvisited",
             "label": "RandomForest",
             "policy": {
              "adjusted_exploration": "-inf",
              "adjusted_score": "-inf",
              "exploitation": "-inf",
              "exploration": "-inf",
              "overfitting": 0.998046875,
              "score": "-inf"
             },
             "reward": 0,
             "visits": 0
            },
            "(0, 9, None)": {
             "failure_message": "Unvisited",
             "label": "RandomForest",
             "policy": {
              "adjusted_exploration": "-inf",
              "adjusted_score": "-inf",
              "exploitation": "-inf",
              "exploration": "-inf",
              "overfitting": 0.998046875,
              "score": "-inf"
             },
             "reward": 0,
             "visits": 0
            }
           },
           "reward": 0,
           "visits": 0
          },
          "80": {
           "failure_message": "Unvisited",
           "label": "Imputation",
           "policy": {
            "(0, 3, None)": {
             "failure_message": "Unvisited",
             "label": "Imputation",
             "policy": {
              "adjusted_exploration": 0,
              "adjusted_score": 0,
              "exploitation": 0,
              "exploration": 0,
              "overfitting": 0.99609375,
              "score": 0
             },
             "reward": 0,
             "visits": 0
            },
            "(0, 6, None)": {
             "failure_message": "Unvisited",
             "label": "Imputation",
             "policy": {
              "adjusted_exploration": 0.6604382884316264,
              "adjusted_score": 0.0034777552191556094,
              "exploitation": -0.6569468949567094,
              "exploration": 1.1774100225154747,
              "overfitting": 0.99609375,
              "score": 0.003491393474917004
             },
             "reward": 0,
             "visits": 0
            }
           },
           "reward": 0,
           "visits": 0
          },
          "81": {
           "failure_message": "Unvisited",
           "label": "KNNImputer",
           "policy": {
            "(0, 3, None)": {
             "failure_message": "Unvisited",
             "label": "KNNImputer",
             "policy": {
              "adjusted_exploration": 0,
              "adjusted_score": 0,
              "exploitation": 0,
              "exploration": 0,
              "overfitting": 0.99609375,
              "score": 0
             },
             "reward": 0,
             "visits": 0
            },
            "(0, 6, None)": {
             "failure_message": "Unvisited",
             "label": "KNNImputer",
             "policy": {
              "adjusted_exploration": 0.6604382884316264,
              "adjusted_score": -0.2264808486671256,
              "exploitation": -0.8878072972896035,
              "exploration": 1.1774100225154747,
              "overfitting": 0.99609375,
              "score": -0.22736900885797706
             },
             "reward": 0,
             "visits": 0
            }
           },
           "reward": 0,
           "visits": 0
          },
          "82": {
           "failure_message": "Unvisited",
           "label": "MaxAbsScaler",
           "policy": {
            "(0, 3, None)": {
             "failure_message": "Unvisited",
             "label": "MaxAbsScaler",
             "policy": {
              "adjusted_exploration": 0,
              "adjusted_score": 0,
              "exploitation": 0,
              "exploration": 0,
              "overfitting": 0.99609375,
              "score": 0
             },
             "reward": 0,
             "visits": 0
            },
            "(0, 6, None)": {
             "failure_message": "Unvisited",
             "label": "MaxAbsScaler",
             "policy": {
              "adjusted_exploration": 0.6604382884316264,
              "adjusted_score": -0.2424626932049385,
              "exploitation": -0.9038518157275647,
              "exploration": 1.1774100225154747,
              "overfitting": 0.99609375,
              "score": -0.24341352729593824
             },
             "reward": 0,
             "visits": 0
            }
           },
           "reward": 0,
           "visits": 0
          },
          "83": {
           "failure_message": "Unvisited",
           "label": "MinMaxScaler",
           "policy": {
            "(0, 3, None)": {
             "failure_message": "Unvisited",
             "label": "MinMaxScaler",
             "policy": {
              "adjusted_exploration": 0,
              "adjusted_score": 0,
              "exploitation": 0,
              "exploration": 0,
              "overfitting": 0.99609375,
              "score": 0
             },
             "reward": 0,
             "visits": 0
            },
            "(0, 6, None)": {
             "failure_message": "Unvisited",
             "label": "MinMaxScaler",
             "policy": {
              "adjusted_exploration": 0.6604382884316264,
              "adjusted_score": -0.18216131297726862,
              "exploitation": -0.843313959499002,
              "exploration": 1.1774100225154747,
              "overfitting": 0.99609375,
              "score": -0.18287567106737557
             },
             "reward": 0,
             "visits": 0
            }
           },
           "reward": 0,
           "visits": 0
          },
          "84": {
           "failure_message": "Unvisited",
           "label": "Normalizer",
           "policy": {
            "(0, 3, None)": {
             "failure_message": "Unvisited",
             "label": "Normalizer",
             "policy": {
              "adjusted_exploration": 0,
              "adjusted_score": 0,
              "exploitation": 0,
              "exploration": 0,
              "overfitting": 0.99609375,
              "score": 0
             },
             "reward": 0,
             "visits": 0
            },
            "(0, 6, None)": {
             "failure_message": "Unvisited",
             "label": "Normalizer",
             "policy": {
              "adjusted_exploration": 0.6604382884316264,
              "adjusted_score": -0.1327734596983561,
              "exploitation": -0.7937324283640937,
              "exploration": 1.1774100225154747,
              "overfitting": 0.99609375,
              "score": -0.1332941399324673
             },
             "reward": 0,
             "visits": 0
            }
           },
           "reward": 0,
           "visits": 0
          },
          "85": {
           "failure_message": "Unvisited",
           "label": "QuantileTransformer",
           "policy": {
            "(0, 3, None)": {
             "failure_message": "Unvisited",
             "label": "QuantileTransformer",
             "policy": {
              "adjusted_exploration": 0,
              "adjusted_score": 0,
              "exploitation": 0,
              "exploration": 0,
              "overfitting": 0.99609375,
              "score": 0
             },
             "reward": 0,
             "visits": 0
            },
            "(0, 6, None)": {
             "failure_message": "Unvisited",
             "label": "QuantileTransformer",
             "policy": {
              "adjusted_exploration": 0.6604382884316264,
              "adjusted_score": -0.10415419331142857,
              "exploitation": -0.7650009295599626,
              "exploration": 1.1774100225154747,
              "overfitting": 0.99609375,
              "score": -0.10456264112833613
             },
             "reward": 0,
             "visits": 0
            }
           },
           "reward": 0,
           "visits": 0
          },
          "86": {
           "failure_message": "Unvisited",
           "label": "RobustScaler",
           "policy": {
            "(0, 3, None)": {
             "failure_message": "Unvisited",
             "label": "RobustScaler",
             "policy": {
              "adjusted_exploration": 0,
              "adjusted_score": 0,
              "exploitation": 0,
              "exploration": 0,
              "overfitting": 0.99609375,
              "score": 0
             },
             "reward": 0,
             "visits": 0
            },
            "(0, 6, None)": {
             "failure_message": "Unvisited",
             "label": "RobustScaler",
             "policy": {
              "adjusted_exploration": 0.6604382884316264,
              "adjusted_score": -0.02659904099515401,
              "exploitation": -0.6871416393914673,
              "exploration": 1.1774100225154747,
              "overfitting": 0.99609375,
              "score": -0.026703350959840888
             },
             "reward": 0,
             "visits": 0
            }
           },
           "reward": 0,
           "visits": 0
          },
          "87": {
           "failure_message": "Unvisited",
           "label": "StandardScaler",
           "policy": {
            "(0, 3, None)": {
             "failure_message": "Unvisited",
             "label": "StandardScaler",
             "policy": {
              "adjusted_exploration": 0,
              "adjusted_score": 0,
              "exploitation": 0,
              "exploration": 0,
              "overfitting": 0.99609375,
              "score": 0
             },
             "reward": 0,
             "visits": 0
            },
            "(0, 6, None)": {
             "failure_message": "Unvisited",
             "label": "StandardScaler",
             "policy": {
              "adjusted_exploration": 0.6604382884316264,
              "adjusted_score": -0.18839482513397657,
              "exploitation": -0.8495719168014225,
              "exploration": 1.1774100225154747,
              "overfitting": 0.99609375,
              "score": -0.18913362836979608
             },
             "reward": 0,
             "visits": 0
            }
           },
           "reward": 0,
           "visits": 0
          },
          "88": {
           "failure_message": "Unvisited",
           "label": "BernoulliRBM",
           "policy": {
            "(0, 3, None)": {
             "failure_message": "Unvisited",
             "label": "BernoulliRBM",
             "policy": {
              "adjusted_exploration": 0,
              "adjusted_score": 0,
              "exploitation": 0,
              "exploration": 0,
              "overfitting": 0.99609375,
              "score": 0
             },
             "reward": 0,
             "visits": 0
            },
            "(0, 6, None)": {
             "failure_message": "Unvisited",
             "label": "BernoulliRBM",
             "policy": {
              "adjusted_exploration": 0.6604382884316264,
              "adjusted_score": -0.0287661737464668,
              "exploitation": -0.6893172707025892,
              "exploration": 1.1774100225154747,
              "overfitting": 0.99609375,
              "score": -0.02887898227096275
             },
             "reward": 0,
             "visits": 0
            }
           },
           "reward": 0,
           "visits": 0
          },
          "89": {
           "failure_message": null,
           "label": "Binarizer",
           "policy": {
            "(0, 3, None)": {
             "failure_message": "Unvisited",
             "label": "Binarizer",
             "policy": {
              "adjusted_exploration": 0,
              "adjusted_score": 0,
              "exploitation": 0,
              "exploration": 0,
              "overfitting": 0.99609375,
              "score": 0
             },
             "reward": 0,
             "visits": 0
            },
            "(0, 6, None)": {
             "failure_message": "Unvisited",
             "label": "Binarizer",
             "policy": {
              "adjusted_exploration": 0.6604382884316264,
              "adjusted_score": -0.33400931882702173,
              "exploitation": -0.9957574477246365,
              "exploration": 1.1774100225154747,
              "overfitting": 0.99609375,
              "score": -0.33531915929301004
             },
             "reward": 0,
             "visits": 0
            }
           },
           "reward": -0.8666666666666667,
           "visits": 3
          },
          "9": {
           "failure_message": "Unvisited",
           "label": "SGDClassifier",
           "policy": {
            "(0, 0, None)": {
             "failure_message": "Unvisited",
             "label": "SGDClassifier",
             "policy": {
              "adjusted_exploration": 0,
              "adjusted_score": -0.6443012065775565,
              "exploitation": -0.6455620699955165,
              "exploration": 0,
              "overfitting": 0.998046875,
              "score": -0.6455620699955165
             },
             "reward": 0,
             "visits": 0
            },
            "(0, 1, None)": {
             "failure_message": "Unvisited",
             "label": "SGDClassifier",
             "policy": {
              "adjusted_exploration": 2.537272482359039,
              "adjusted_score": 1.8137626674431846,
              "exploitation": -0.7199603772104863,
              "exploration": 1.2686362411795196,
              "overfitting": 0.998046875,
              "score": 1.8173121051485528
             },
             "reward": 0,
             "visits": 0
            },
            "(0, 10, None)": {
             "failure_message": "Unvisited",
             "label": "SGDClassifier",
             "policy": {
              "adjusted_exploration": "-inf",
              "adjusted_score": "-inf",
              "exploitation": "-inf",
              "exploration": "-inf",
              "overfitting": 0.998046875,
              "score": "-inf"
             },
             "reward": 0,
             "visits": 0
            },
            "(0, 11, None)": {
             "failure_message": "Unvisited",
             "label": "SGDClassifier",
             "policy": {
              "adjusted_exploration": "-inf",
              "adjusted_score": "-inf",
              "exploitation": "-inf",
              "exploration": "-inf",
              "overfitting": 0.998046875,
              "score": "-inf"
             },
             "reward": 0,
             "visits": 0
            },
            "(0, 2, None)": {
             "failure_message": "Unvisited",
             "label": "SGDClassifier",
             "policy": {
              "adjusted_exploration": 2.884053773201766,
              "adjusted_score": 2.018008990724399,
              "exploitation": -0.862095645509217,
              "exploration": 1.442026886600883,
              "overfitting": 0.998046875,
              "score": 2.0219581276925487
             },
             "reward": 0,
             "visits": 0
            },
            "(0, 3, None)": {
             "failure_message": "Unvisited",
             "label": "SGDClassifier",
             "policy": {
              "adjusted_exploration": 3.1527173357521288,
              "adjusted_score": 2.257711357099014,
              "exploitation": -0.8905877568192615,
              "exploration": 1.5763586678760644,
              "overfitting": 0.998046875,
              "score": 2.2621295789328673
             },
             "reward": 0,
             "visits": 0
            },
            "(0, 4, None)": {
             "failure_message": "Unvisited",
             "label": "SGDClassifier",
             "policy": {
              "adjusted_exploration": "-inf",
              "adjusted_score": "-inf",
              "exploitation": "-inf",
              "exploration": "-inf",
              "overfitting": 0.998046875,
              "score": "-inf"
             },
             "reward": 0,
             "visits": 0
            },
            "(0, 5, None)": {
             "failure_message": "Unvisited",
             "label": "SGDClassifier",
             "policy": {
              "adjusted_exploration": 1.769657738554306,
              "adjusted_score": 1.0026475897326055,
              "exploitation": -0.7650480204660596,
              "exploration": 1.7308183826022854,
              "overfitting": 0.998046875,
              "score": 1.0046097180882465
             },
             "reward": 0,
             "visits": 0
            },
            "(0, 6, None)": {
             "failure_message": "Unvisited",
             "label": "SGDClassifier",
             "policy": {
              "adjusted_exploration": "-inf",
              "adjusted_score": "-inf",
              "exploitation": "-inf",
              "exploration": "-inf",
              "overfitting": 0.998046875,
              "score": "-inf"
             },
             "reward": 0,
             "visits": 0
            },
            "(0, 7, None)": {
             "failure_message": "Unvisited",
             "label": "SGDClassifier",
             "policy": {
              "adjusted_exploration": 1.018327257178704,
              "adjusted_score": 0.225599308344808,
              "exploitation": -0.7922864629075853,
              "exploration": 1.815443985917585,
              "overfitting": 0.998046875,
              "score": 0.22604079427111878
             },
             "reward": 0,
             "visits": 0
            },
            "(0, 8, None)": {
             "failure_message": "Unvisited",
             "label": "SGDClassifier",
             "policy": {
              "adjusted_exploration": "-inf",
              "adjusted_score": "-inf",
              "exploitation": "-inf",
              "exploration": "-inf",
              "overfitting": 0.998046875,
              "score": "-inf"
             },
             "reward": 0,
             "visits": 0
            },
            "(0, 9, None)": {
             "failure_message": "Unvisited",
             "label": "SGDClassifier",
             "policy": {
              "adjusted_exploration": "-inf",
              "adjusted_score": "-inf",
              "exploitation": "-inf",
              "exploration": "-inf",
              "overfitting": 0.998046875,
              "score": "-inf"
             },
             "reward": 0,
             "visits": 0
            }
           },
           "reward": 0,
           "visits": 0
          },
          "90": {
           "failure_message": "Unvisited",
           "label": "FactorAnalysis",
           "policy": {
            "(0, 3, None)": {
             "failure_message": "Unvisited",
             "label": "FactorAnalysis",
             "policy": {
              "adjusted_exploration": 0,
              "adjusted_score": 0,
              "exploitation": 0,
              "exploration": 0,
              "overfitting": 0.99609375,
              "score": 0
             },
             "reward": 0,
             "visits": 0
            },
            "(0, 6, None)": {
             "failure_message": "Unvisited",
             "label": "FactorAnalysis",
             "policy": {
              "adjusted_exploration": 0.6604382884316264,
              "adjusted_score": -0.20360200110428645,
              "exploitation": -0.8648387287559297,
              "exploration": 1.1774100225154747,
              "overfitting": 0.99609375,
              "score": -0.20440044032430327
             },
             "reward": 0,
             "visits": 0
            }
           },
           "reward": 0,
           "visits": 0
          },
          "91": {
           "failure_message": "Unvisited",
           "label": "FastICA",
           "policy": {
            "(0, 3, None)": {
             "failure_message": "Unvisited",
             "label": "FastICA",
             "policy": {
              "adjusted_exploration": 0,
              "adjusted_score": 0,
              "exploitation": 0,
              "exploration": 0,
              "overfitting": 0.99609375,
              "score": 0
             },
             "reward": 0,
             "visits": 0
            },
            "(0, 6, None)": {
             "failure_message": "Unvisited",
             "label": "FastICA",
             "policy": {
              "adjusted_exploration": 0.6604382884316264,
              "adjusted_score": -0.09938053800335096,
              "exploitation": -0.7602085540349905,
              "exploration": 1.1774100225154747,
              "overfitting": 0.99609375,
              "score": -0.0997702656033641
             },
             "reward": 0,
             "visits": 0
            }
           },
           "reward": 0,
           "visits": 0
          },
          "92": {
           "failure_message": "Unvisited",
           "label": "FeatureAgglomeration",
           "policy": {
            "(0, 3, None)": {
             "failure_message": "Unvisited",
             "label": "FeatureAgglomeration",
             "policy": {
              "adjusted_exploration": 0,
              "adjusted_score": 0,
              "exploitation": 0,
              "exploration": 0,
              "overfitting": 0.99609375,
              "score": 0
             },
             "reward": 0,
             "visits": 0
            },
            "(0, 6, None)": {
             "failure_message": "Unvisited",
             "label": "FeatureAgglomeration",
             "policy": {
              "adjusted_exploration": 0.6604382884316264,
              "adjusted_score": 0.20598944225730711,
              "exploitation": -0.45364104443997694,
              "exploration": 1.1774100225154747,
              "overfitting": 0.99609375,
              "score": 0.2067972439916495
             },
             "reward": 0,
             "visits": 0
            }
           },
           "reward": 0,
           "visits": 0
          },
          "93": {
           "failure_message": "Unvisited",
           "label": "GenericUnivariateSelect",
           "policy": {
            "(0, 3, None)": {
             "failure_message": "Unvisited",
             "label": "GenericUnivariateSelect",
             "policy": {
              "adjusted_exploration": 0,
              "adjusted_score": 0,
              "exploitation": 0,
              "exploration": 0,
              "overfitting": 0.99609375,
              "score": 0
             },
             "reward": 0,
             "visits": 0
            },
            "(0, 6, None)": {
             "failure_message": "Unvisited",
             "label": "GenericUnivariateSelect",
             "policy": {
              "adjusted_exploration": 0.6604382884316264,
              "adjusted_score": 0.2522321342768117,
              "exploitation": -0.4072170085301998,
              "exploration": 1.1774100225154747,
              "overfitting": 0.99609375,
              "score": 0.2532212799014266
             },
             "reward": 0,
             "visits": 0
            }
           },
           "reward": 0,
           "visits": 0
          },
          "94": {
           "failure_message": "Unvisited",
           "label": "KBinsDiscretizer",
           "policy": {
            "(0, 3, None)": {
             "failure_message": "Unvisited",
             "label": "KBinsDiscretizer",
             "policy": {
              "adjusted_exploration": 0,
              "adjusted_score": 0,
              "exploitation": 0,
              "exploration": 0,
              "overfitting": 0.99609375,
              "score": 0
             },
             "reward": 0,
             "visits": 0
            },
            "(0, 6, None)": {
             "failure_message": "Unvisited",
             "label": "KBinsDiscretizer",
             "policy": {
              "adjusted_exploration": 0.6604382884316264,
              "adjusted_score": 0.006774688477461785,
              "exploitation": -0.6536370325483707,
              "exploration": 1.1774100225154747,
              "overfitting": 0.99609375,
              "score": 0.006801255883255752
             },
             "reward": 0,
             "visits": 0
            }
           },
           "reward": 0,
           "visits": 0
          },
          "95": {
           "failure_message": "Unvisited",
           "label": "KernelPCA",
           "policy": {
            "(0, 3, None)": {
             "failure_message": "Unvisited",
             "label": "KernelPCA",
             "policy": {
              "adjusted_exploration": 0,
              "adjusted_score": 0,
              "exploitation": 0,
              "exploration": 0,
              "overfitting": 0.99609375,
              "score": 0
             },
             "reward": 0,
             "visits": 0
            },
            "(0, 6, None)": {
             "failure_message": "Unvisited",
             "label": "KernelPCA",
             "policy": {
              "adjusted_exploration": 0.6604382884316264,
              "adjusted_score": -0.18944159805984082,
              "exploitation": -0.8506227947191529,
              "exploration": 1.1774100225154747,
              "overfitting": 0.99609375,
              "score": -0.19018450628752648
             },
             "reward": 0,
             "visits": 0
            }
           },
           "reward": 0,
           "visits": 0
          },
          "96": {
           "failure_message": "Unvisited",
           "label": "MissingIndicator",
           "policy": {
            "(0, 3, None)": {
             "failure_message": "Unvisited",
             "label": "MissingIndicator",
             "policy": {
              "adjusted_exploration": 0,
              "adjusted_score": 0,
              "exploitation": 0,
              "exploration": 0,
              "overfitting": 0.99609375,
              "score": 0
             },
             "reward": 0,
             "visits": 0
            },
            "(0, 6, None)": {
             "failure_message": "Unvisited",
             "label": "MissingIndicator",
             "policy": {
              "adjusted_exploration": 0.6604382884316264,
              "adjusted_score": -0.0994720728502311,
              "exploitation": -0.7603004478420545,
              "exploration": 1.1774100225154747,
              "overfitting": 0.99609375,
              "score": -0.09986215941042809
             },
             "reward": 0,
             "visits": 0
            }
           },
           "reward": 0,
           "visits": 0
          },
          "97": {
           "failure_message": "Unvisited",
           "label": "MultiColumnLabelEncoder",
           "policy": {
            "(0, 3, None)": {
             "failure_message": "Unvisited",
             "label": "MultiColumnLabelEncoder",
             "policy": {
              "adjusted_exploration": 0,
              "adjusted_score": 0,
              "exploitation": 0,
              "exploration": 0,
              "overfitting": 0.99609375,
              "score": 0
             },
             "reward": 0,
             "visits": 0
            },
            "(0, 6, None)": {
             "failure_message": "Unvisited",
             "label": "MultiColumnLabelEncoder",
             "policy": {
              "adjusted_exploration": 0.6604382884316264,
              "adjusted_score": -0.07912213007952588,
              "exploitation": -0.7398707013742093,
              "exploration": 1.1774100225154747,
              "overfitting": 0.99609375,
              "score": -0.07943241294258285
             },
             "reward": 0,
             "visits": 0
            }
           },
           "reward": 0,
           "visits": 0
          },
          "98": {
           "failure_message": "Unvisited",
           "label": "OneHotEncoder",
           "policy": {
            "(0, 3, None)": {
             "failure_message": "Unvisited",
             "label": "OneHotEncoder",
             "policy": {
              "adjusted_exploration": 0,
              "adjusted_score": 0,
              "exploitation": 0,
              "exploration": 0,
              "overfitting": 0.99609375,
              "score": 0
             },
             "reward": 0,
             "visits": 0
            },
            "(0, 6, None)": {
             "failure_message": "Unvisited",
             "label": "OneHotEncoder",
             "policy": {
              "adjusted_exploration": 0.6604382884316264,
              "adjusted_score": -0.15461845185043777,
              "exploitation": -0.8156630871520659,
              "exploration": 1.1774100225154747,
              "overfitting": 0.99609375,
              "score": -0.15522479872043948
             },
             "reward": 0,
             "visits": 0
            }
           },
           "reward": 0,
           "visits": 0
          },
          "99": {
           "failure_message": "Unvisited",
           "label": "PCA",
           "policy": {
            "(0, 3, None)": {
             "failure_message": "Unvisited",
             "label": "PCA",
             "policy": {
              "adjusted_exploration": 0,
              "adjusted_score": 0,
              "exploitation": 0,
              "exploration": 0,
              "overfitting": 0.99609375,
              "score": 0
             },
             "reward": 0,
             "visits": 0
            },
            "(0, 6, None)": {
             "failure_message": "Unvisited",
             "label": "PCA",
             "policy": {
              "adjusted_exploration": 0.6604382884316264,
              "adjusted_score": 0.057962744555307165,
              "exploitation": -0.6022482389957102,
              "exploration": 1.1774100225154747,
              "overfitting": 0.99609375,
              "score": 0.058190049435916213
             },
             "reward": 0,
             "visits": 0
            }
           },
           "reward": 0,
           "visits": 0
          }
         }
        }
       }
      },
      "text/plain": [
       "<dswizard.core.runhistory.RunHistory at 0x7fa6b804e520>"
      ]
     },
     "execution_count": 2,
     "metadata": {},
     "output_type": "execute_result"
    }
   ],
   "source": [
    "import pickle\n",
    "\n",
    "with open('runhistory.pkl', 'rb') as fh:\n",
    "    runhistory = pickle.load(fh)\n",
    "\n",
    "runhistory"
   ]
  }
 ],
 "metadata": {
  "kernelspec": {
   "display_name": "Python 3",
   "language": "python",
   "name": "python3"
  },
  "language_info": {
   "codemirror_mode": {
    "name": "ipython",
    "version": 3
   },
   "file_extension": ".py",
   "mimetype": "text/x-python",
   "name": "python",
   "nbconvert_exporter": "python",
   "pygments_lexer": "ipython3",
   "version": "3.9.5"
  }
 },
 "nbformat": 4,
 "nbformat_minor": 4
}
