{
 "cells": [
  {
   "cell_type": "code",
   "execution_count": null,
   "id": "4a305e51-f037-4408-8bb1-4e2b846dedeb",
   "metadata": {},
   "outputs": [],
   "source": [
    "import pickle\n",
    "\n",
    "with open('runhistory.pkl', 'rb') as fh:\n",
    "    runhistory = pickle.load(fh)\n",
    "\n",
    "runhistory.explain()"
   ]
  }
 ],
 "metadata": {
  "kernelspec": {
   "display_name": "Python 3",
   "language": "python",
   "name": "python3"
  },
  "language_info": {
   "codemirror_mode": {
    "name": "ipython",
    "version": 3
   },
   "file_extension": ".py",
   "mimetype": "text/x-python",
   "name": "python",
   "nbconvert_exporter": "python",
   "pygments_lexer": "ipython3",
   "version": "3.9.5"
  }
 },
 "nbformat": 4,
 "nbformat_minor": 5
}
