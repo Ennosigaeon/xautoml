{
 "cells": [
  {
   "cell_type": "code",
   "execution_count": 1,
   "id": "c8ecbd22-9618-4e23-8569-384bd45956d6",
   "metadata": {
    "tags": []
   },
   "outputs": [
    {
     "name": "stderr",
     "output_type": "stream",
     "text": [
      "/home/marc/phd/code/xautoml/xautoml/adapter.py:38: UserWarning: Model /home/marc/phd/code/dswizard/scripts/run/1823/models/models_0-2-1.pkl does not exist. Skipping it\n",
      "  warnings.warn('Model {} does not exist. Skipping it'.format(res.model_file))\n"
     ]
    },
    {
     "data": {
      "application/xautoml+json": {
       "default_configspace": null,
       "explanations": {
        "configs": {
         "00:00:03": {
          "candidates": [
           {
            "0_MultinomialNB:alpha": 1.0851334517175897,
            "0_MultinomialNB:fit_prior": true
           },
           {
            "0_MultinomialNB:alpha": 1.173724807741406,
            "0_MultinomialNB:fit_prior": true
           },
           {
            "0_MultinomialNB:alpha": 1.1282097781545586,
            "0_MultinomialNB:fit_prior": true
           },
           {
            "0_MultinomialNB:alpha": 0.17425356937729683,
            "0_MultinomialNB:fit_prior": true
           },
           {
            "0_MultinomialNB:alpha": 0.21810295750525494,
            "0_MultinomialNB:fit_prior": true
           },
           {
            "0_MultinomialNB:alpha": 0.2167244490797978,
            "0_MultinomialNB:fit_prior": true
           },
           {
            "0_MultinomialNB:alpha": 1.648147378152113,
            "0_MultinomialNB:fit_prior": true
           },
           {
            "0_MultinomialNB:alpha": 1.2448767000810033,
            "0_MultinomialNB:fit_prior": true
           },
           {
            "0_MultinomialNB:alpha": 0.12904179112027256,
            "0_MultinomialNB:fit_prior": true
           },
           {
            "0_MultinomialNB:alpha": 5.126911400835522,
            "0_MultinomialNB:fit_prior": true
           },
           {
            "0_MultinomialNB:alpha": 1.1339111068361154,
            "0_MultinomialNB:fit_prior": true
           },
           {
            "0_MultinomialNB:alpha": 0.07272226604174668,
            "0_MultinomialNB:fit_prior": true
           },
           {
            "0_MultinomialNB:alpha": 2.3942421514390757,
            "0_MultinomialNB:fit_prior": true
           },
           {
            "0_MultinomialNB:alpha": 0.031240685637329426,
            "0_MultinomialNB:fit_prior": true
           },
           {
            "0_MultinomialNB:alpha": 0.8593288848712898,
            "0_MultinomialNB:fit_prior": true
           },
           {
            "0_MultinomialNB:alpha": 0.9712910375644379,
            "0_MultinomialNB:fit_prior": true
           },
           {
            "0_MultinomialNB:alpha": 23.220549597482186,
            "0_MultinomialNB:fit_prior": true
           },
           {
            "0_MultinomialNB:alpha": 0.14834915806955748,
            "0_MultinomialNB:fit_prior": true
           },
           {
            "0_MultinomialNB:alpha": 0.8582021771142188,
            "0_MultinomialNB:fit_prior": true
           },
           {
            "0_MultinomialNB:alpha": 0.6252267900494475,
            "0_MultinomialNB:fit_prior": true
           },
           {
            "0_MultinomialNB:alpha": 0.9343764157277962,
            "0_MultinomialNB:fit_prior": true
           },
           {
            "0_MultinomialNB:alpha": 0.7992615552151991,
            "0_MultinomialNB:fit_prior": true
           },
           {
            "0_MultinomialNB:alpha": 1.0800201759655426,
            "0_MultinomialNB:fit_prior": true
           },
           {
            "0_MultinomialNB:alpha": 0.4641945375581772,
            "0_MultinomialNB:fit_prior": true
           },
           {
            "0_MultinomialNB:alpha": 0.3820109618416224,
            "0_MultinomialNB:fit_prior": true
           },
           {
            "0_MultinomialNB:alpha": 0.7575102821961893,
            "0_MultinomialNB:fit_prior": true
           },
           {
            "0_MultinomialNB:alpha": 0.20363397353168378,
            "0_MultinomialNB:fit_prior": true
           },
           {
            "0_MultinomialNB:alpha": 0.03276865496136161,
            "0_MultinomialNB:fit_prior": true
           },
           {
            "0_MultinomialNB:alpha": 0.4816448047631684,
            "0_MultinomialNB:fit_prior": true
           },
           {
            "0_MultinomialNB:alpha": 0.5711025567312706,
            "0_MultinomialNB:fit_prior": true
           },
           {
            "0_MultinomialNB:alpha": 0.16480892738150899,
            "0_MultinomialNB:fit_prior": true
           },
           {
            "0_MultinomialNB:alpha": 0.31230947627800537,
            "0_MultinomialNB:fit_prior": true
           },
           {
            "0_MultinomialNB:alpha": 2.708245919706963,
            "0_MultinomialNB:fit_prior": true
           },
           {
            "0_MultinomialNB:alpha": 0.2894760549174336,
            "0_MultinomialNB:fit_prior": true
           },
           {
            "0_MultinomialNB:alpha": 3.2023476720274306,
            "0_MultinomialNB:fit_prior": true
           },
           {
            "0_MultinomialNB:alpha": 0.2831668655464301,
            "0_MultinomialNB:fit_prior": true
           },
           {
            "0_MultinomialNB:alpha": 1.7779926787415754,
            "0_MultinomialNB:fit_prior": true
           },
           {
            "0_MultinomialNB:alpha": 1.3717471625368498,
            "0_MultinomialNB:fit_prior": true
           },
           {
            "0_MultinomialNB:alpha": 2.327798366751792,
            "0_MultinomialNB:fit_prior": true
           },
           {
            "0_MultinomialNB:alpha": 0.5905992651839496,
            "0_MultinomialNB:fit_prior": true
           },
           {
            "0_MultinomialNB:alpha": 0.284790680317383,
            "0_MultinomialNB:fit_prior": true
           },
           {
            "0_MultinomialNB:alpha": 2.161447324145775,
            "0_MultinomialNB:fit_prior": true
           },
           {
            "0_MultinomialNB:alpha": 1.208502526869015,
            "0_MultinomialNB:fit_prior": true
           },
           {
            "0_MultinomialNB:alpha": 0.44636805124947815,
            "0_MultinomialNB:fit_prior": true
           },
           {
            "0_MultinomialNB:alpha": 0.3467392813617391,
            "0_MultinomialNB:fit_prior": true
           },
           {
            "0_MultinomialNB:alpha": 0.3737933631132057,
            "0_MultinomialNB:fit_prior": true
           },
           {
            "0_MultinomialNB:alpha": 0.7108051187820063,
            "0_MultinomialNB:fit_prior": true
           },
           {
            "0_MultinomialNB:alpha": 1.975444017409975,
            "0_MultinomialNB:fit_prior": true
           },
           {
            "0_MultinomialNB:alpha": 0.40396171965832806,
            "0_MultinomialNB:fit_prior": true
           },
           {
            "0_MultinomialNB:alpha": 0.03430261490129524,
            "0_MultinomialNB:fit_prior": true
           },
           {
            "0_MultinomialNB:alpha": 0.6542774979300361,
            "0_MultinomialNB:fit_prior": true
           },
           {
            "0_MultinomialNB:alpha": 0.10421041513905775,
            "0_MultinomialNB:fit_prior": true
           },
           {
            "0_MultinomialNB:alpha": 0.809052847218722,
            "0_MultinomialNB:fit_prior": true
           },
           {
            "0_MultinomialNB:alpha": 0.5764743029769002,
            "0_MultinomialNB:fit_prior": true
           },
           {
            "0_MultinomialNB:alpha": 2.784582202581414,
            "0_MultinomialNB:fit_prior": true
           },
           {
            "0_MultinomialNB:alpha": 0.21856998977074757,
            "0_MultinomialNB:fit_prior": true
           },
           {
            "0_MultinomialNB:alpha": 1.1017559572886932,
            "0_MultinomialNB:fit_prior": true
           },
           {
            "0_MultinomialNB:alpha": 0.4434624314502074,
            "0_MultinomialNB:fit_prior": true
           },
           {
            "0_MultinomialNB:alpha": 4.831457841679307,
            "0_MultinomialNB:fit_prior": true
           },
           {
            "0_MultinomialNB:alpha": 0.6088903848302136,
            "0_MultinomialNB:fit_prior": true
           },
           {
            "0_MultinomialNB:alpha": 1.6751554501707508,
            "0_MultinomialNB:fit_prior": true
           },
           {
            "0_MultinomialNB:alpha": 0.257024033119382,
            "0_MultinomialNB:fit_prior": true
           },
           {
            "0_MultinomialNB:alpha": 0.23700226864900997,
            "0_MultinomialNB:fit_prior": true
           },
           {
            "0_MultinomialNB:alpha": 0.8947791205503357,
            "0_MultinomialNB:fit_prior": true
           }
          ],
          "loss": [
           1,
           1,
           1,
           1,
           1,
           1,
           1,
           1,
           1,
           1,
           1,
           1,
           1,
           1,
           1,
           1,
           1,
           1,
           1,
           1,
           1,
           1,
           1,
           1,
           1,
           1,
           1,
           1,
           1,
           1,
           1,
           1,
           1,
           1,
           1,
           1,
           1,
           1,
           1,
           1,
           1,
           1,
           1,
           1,
           1,
           1,
           1,
           1,
           1,
           1,
           1,
           1,
           1,
           1,
           1,
           1,
           1,
           1,
           1,
           1,
           1,
           1,
           1,
           1
          ],
          "marginalization": {
           "0_MultinomialNB:alpha": {
            "good": [
             [
              0.01,
              1
             ],
             [
              0.027825594022071243,
              1
             ],
             [
              0.0774263682681127,
              1
             ],
             [
              0.21544346900318834,
              1
             ],
             [
              0.5994842503189409,
              1
             ],
             [
              1.6681005372000592,
              1
             ],
             [
              4.6415888336127775,
              0
             ],
             [
              12.915496650148826,
              0
             ],
             [
              35.93813663804626,
              0
             ],
             [
              100,
              0
             ]
            ]
           },
           "0_MultinomialNB:fit_prior": {
            "good": [
             [
              0,
              0.0625690727884258
             ],
             [
              1,
              1
             ]
            ]
           }
          }
         },
         "00:00:04": {
          "candidates": [
           {
            "0_MultinomialNB:alpha": 4.853613238842174,
            "0_MultinomialNB:fit_prior": true
           },
           {
            "0_MultinomialNB:alpha": 6.113715404308164,
            "0_MultinomialNB:fit_prior": true
           },
           {
            "0_MultinomialNB:alpha": 0.8214893931841251,
            "0_MultinomialNB:fit_prior": true
           },
           {
            "0_MultinomialNB:alpha": 1.0280492855857826,
            "0_MultinomialNB:fit_prior": true
           },
           {
            "0_MultinomialNB:alpha": 0.8976543202276625,
            "0_MultinomialNB:fit_prior": true
           },
           {
            "0_MultinomialNB:alpha": 1.7968861158647016,
            "0_MultinomialNB:fit_prior": true
           },
           {
            "0_MultinomialNB:alpha": 1.027051322343749,
            "0_MultinomialNB:fit_prior": true
           },
           {
            "0_MultinomialNB:alpha": 1.6711020853107508,
            "0_MultinomialNB:fit_prior": true
           },
           {
            "0_MultinomialNB:alpha": 0.3234163970105224,
            "0_MultinomialNB:fit_prior": true
           },
           {
            "0_MultinomialNB:alpha": 1.170463329743703,
            "0_MultinomialNB:fit_prior": true
           },
           {
            "0_MultinomialNB:alpha": 0.7350045422580117,
            "0_MultinomialNB:fit_prior": true
           },
           {
            "0_MultinomialNB:alpha": 0.5257148187528549,
            "0_MultinomialNB:fit_prior": true
           },
           {
            "0_MultinomialNB:alpha": 3.8132791279672724,
            "0_MultinomialNB:fit_prior": true
           },
           {
            "0_MultinomialNB:alpha": 0.1921746789021401,
            "0_MultinomialNB:fit_prior": true
           },
           {
            "0_MultinomialNB:alpha": 0.8437842769130649,
            "0_MultinomialNB:fit_prior": true
           },
           {
            "0_MultinomialNB:alpha": 0.3883394767889486,
            "0_MultinomialNB:fit_prior": true
           },
           {
            "0_MultinomialNB:alpha": 5.1027240686064195,
            "0_MultinomialNB:fit_prior": true
           },
           {
            "0_MultinomialNB:alpha": 0.2077322524962378,
            "0_MultinomialNB:fit_prior": true
           },
           {
            "0_MultinomialNB:alpha": 1.557725591426332,
            "0_MultinomialNB:fit_prior": true
           },
           {
            "0_MultinomialNB:alpha": 0.3222397410714907,
            "0_MultinomialNB:fit_prior": true
           },
           {
            "0_MultinomialNB:alpha": 1.4284703040361488,
            "0_MultinomialNB:fit_prior": true
           },
           {
            "0_MultinomialNB:alpha": 0.3705773065114405,
            "0_MultinomialNB:fit_prior": true
           },
           {
            "0_MultinomialNB:alpha": 3.8310442114020318,
            "0_MultinomialNB:fit_prior": true
           },
           {
            "0_MultinomialNB:alpha": 0.13295691734992604,
            "0_MultinomialNB:fit_prior": true
           },
           {
            "0_MultinomialNB:alpha": 1.844268803291922,
            "0_MultinomialNB:fit_prior": true
           },
           {
            "0_MultinomialNB:alpha": 1.8875787626831197,
            "0_MultinomialNB:fit_prior": true
           },
           {
            "0_MultinomialNB:alpha": 0.30892178158775296,
            "0_MultinomialNB:fit_prior": true
           },
           {
            "0_MultinomialNB:alpha": 0.5554354093935937,
            "0_MultinomialNB:fit_prior": true
           },
           {
            "0_MultinomialNB:alpha": 1.3559309570117313,
            "0_MultinomialNB:fit_prior": true
           },
           {
            "0_MultinomialNB:alpha": 0.32974613379931683,
            "0_MultinomialNB:fit_prior": true
           },
           {
            "0_MultinomialNB:alpha": 10.532977534538292,
            "0_MultinomialNB:fit_prior": true
           },
           {
            "0_MultinomialNB:alpha": 0.16139098692241605,
            "0_MultinomialNB:fit_prior": true
           },
           {
            "0_MultinomialNB:alpha": 1.0458202370088676,
            "0_MultinomialNB:fit_prior": true
           },
           {
            "0_MultinomialNB:alpha": 1.5238246651877403,
            "0_MultinomialNB:fit_prior": true
           },
           {
            "0_MultinomialNB:alpha": 0.33232669668757764,
            "0_MultinomialNB:fit_prior": true
           },
           {
            "0_MultinomialNB:alpha": 0.5359420881196301,
            "0_MultinomialNB:fit_prior": true
           },
           {
            "0_MultinomialNB:alpha": 2.5825878509802402,
            "0_MultinomialNB:fit_prior": true
           },
           {
            "0_MultinomialNB:alpha": 0.1550624462555453,
            "0_MultinomialNB:fit_prior": true
           },
           {
            "0_MultinomialNB:alpha": 1.918395823110785,
            "0_MultinomialNB:fit_prior": true
           },
           {
            "0_MultinomialNB:alpha": 0.5728005863640057,
            "0_MultinomialNB:fit_prior": true
           },
           {
            "0_MultinomialNB:alpha": 0.32278626224399987,
            "0_MultinomialNB:fit_prior": true
           },
           {
            "0_MultinomialNB:alpha": 1.3100465319441847,
            "0_MultinomialNB:fit_prior": true
           },
           {
            "0_MultinomialNB:alpha": 1.489764546625304,
            "0_MultinomialNB:fit_prior": true
           },
           {
            "0_MultinomialNB:alpha": 0.0859548931525196,
            "0_MultinomialNB:fit_prior": true
           },
           {
            "0_MultinomialNB:alpha": 1.2479389535136927,
            "0_MultinomialNB:fit_prior": true
           },
           {
            "0_MultinomialNB:alpha": 0.22442234107496362,
            "0_MultinomialNB:fit_prior": true
           },
           {
            "0_MultinomialNB:alpha": 1.7609400838942115,
            "0_MultinomialNB:fit_prior": true
           },
           {
            "0_MultinomialNB:alpha": 0.7517688257045131,
            "0_MultinomialNB:fit_prior": true
           },
           {
            "0_MultinomialNB:alpha": 1.566118810401218,
            "0_MultinomialNB:fit_prior": true
           },
           {
            "0_MultinomialNB:alpha": 1.0091012359024918,
            "0_MultinomialNB:fit_prior": true
           },
           {
            "0_MultinomialNB:alpha": 1.0422249367932062,
            "0_MultinomialNB:fit_prior": true
           },
           {
            "0_MultinomialNB:alpha": 1.6042774348489082,
            "0_MultinomialNB:fit_prior": true
           },
           {
            "0_MultinomialNB:alpha": 0.7100828096347681,
            "0_MultinomialNB:fit_prior": true
           },
           {
            "0_MultinomialNB:alpha": 1.8963028498917207,
            "0_MultinomialNB:fit_prior": true
           },
           {
            "0_MultinomialNB:alpha": 8.878544518024054,
            "0_MultinomialNB:fit_prior": true
           },
           {
            "0_MultinomialNB:alpha": 0.7692596547841826,
            "0_MultinomialNB:fit_prior": true
           },
           {
            "0_MultinomialNB:alpha": 0.1636143927305605,
            "0_MultinomialNB:fit_prior": true
           },
           {
            "0_MultinomialNB:alpha": 0.5939517359387241,
            "0_MultinomialNB:fit_prior": true
           },
           {
            "0_MultinomialNB:alpha": 0.2654376917831242,
            "0_MultinomialNB:fit_prior": true
           },
           {
            "0_MultinomialNB:alpha": 6.161307448531695,
            "0_MultinomialNB:fit_prior": true
           },
           {
            "0_MultinomialNB:alpha": 0.24844275105150235,
            "0_MultinomialNB:fit_prior": true
           },
           {
            "0_MultinomialNB:alpha": 0.11925589333277405,
            "0_MultinomialNB:fit_prior": true
           },
           {
            "0_MultinomialNB:alpha": 3.707611974447393,
            "0_MultinomialNB:fit_prior": true
           },
           {
            "0_MultinomialNB:alpha": 0.2241086484128236,
            "0_MultinomialNB:fit_prior": true
           }
          ],
          "loss": [
           2.804293340702581e-30,
           3.4071907461719e-29,
           0.01547975422885499,
           5.138515597464986,
           0.6662874634456719,
           1.0844254051673115e-10,
           5.121131522525374,
           2.261882361008517e-07,
           4.262148689808566e-33,
           4.777480464766046,
           6.307077056990882e-06,
           2.4739789333925746e-25,
           3.036706404942186e-31,
           3.472010168779635e-32,
           0.0604852662838131,
           3.0925249424872245e-33,
           4.673343926417895e-30,
           2.2553331443686642e-32,
           9.286820413261324e-05,
           4.298173763005164e-33,
           0.023904924532641734,
           3.2970697910028034e-33,
           3.1578064804260096e-31,
           4.734668755060516e-31,
           4.912483389401102e-12,
           2.657299458380656e-13,
           4.7673311734993385e-33,
           3.370086801056234e-21,
           0.25092461854905257,
           4.0812751486238425e-33,
           5.184044275127106e-26,
           1.0646338378177898e-31,
           5.3806375015337995,
           0.00046240551326694716,
           4.013349757282463e-33,
           7.658181728874597e-24,
           1.9214466137766334e-32,
           1.4179671335169841e-31,
           3.180016870640846e-14,
           4.7815833546909e-19,
           4.281342732732778e-33,
           0.7950146721550766,
           0.0020943012261586628,
           3.545994265176743e-29,
           2.4163761975216858,
           1.5318229316942312e-32,
           1.0536913791347993e-09,
           4.0652898891086554e-05,
           6.149202771713466e-05,
           4.7301962895645815,
           5.341268212024822,
           8.797327195008557e-06,
           2.7628043875314674e-07,
           1.4625164437640102e-13,
           4.169010916776412e-27,
           0.00023460235694163084,
           9.67692390782183e-32,
           1.159742049643203e-16,
           7.614958942828839e-33,
           3.728839097047979e-29,
           9.802795012341602e-33,
           1.2266908948815403e-30,
           2.404787153514765e-31,
           1.5420212993848104e-32
          ],
          "marginalization": {
           "0_MultinomialNB:alpha": {
            "good": [
             [
              0.01,
              1
             ],
             [
              0.027825594022071243,
              1
             ],
             [
              0.0774263682681127,
              1
             ],
             [
              0.21544346900318834,
              1
             ],
             [
              0.5994842503189409,
              1
             ],
             [
              1.6681005372000592,
              1
             ],
             [
              4.6415888336127775,
              0
             ],
             [
              12.915496650148826,
              0
             ],
             [
              35.93813663804626,
              0
             ],
             [
              100,
              0
             ]
            ]
           },
           "0_MultinomialNB:fit_prior": {
            "good": [
             [
              0,
              0.0625690727884258
             ],
             [
              1,
              1
             ]
            ]
           }
          }
         },
         "00:00:05": {
          "candidates": [
           {
            "0_MultinomialNB:alpha": 0.09933059805438982,
            "0_MultinomialNB:fit_prior": true
           },
           {
            "0_MultinomialNB:alpha": 0.1848468215432487,
            "0_MultinomialNB:fit_prior": true
           },
           {
            "0_MultinomialNB:alpha": 0.43439898778586084,
            "0_MultinomialNB:fit_prior": true
           },
           {
            "0_MultinomialNB:alpha": 0.5083810783359821,
            "0_MultinomialNB:fit_prior": true
           },
           {
            "0_MultinomialNB:alpha": 5.108943258695085,
            "0_MultinomialNB:fit_prior": true
           },
           {
            "0_MultinomialNB:alpha": 0.4667047287944414,
            "0_MultinomialNB:fit_prior": true
           },
           {
            "0_MultinomialNB:alpha": 3.2580416500148925,
            "0_MultinomialNB:fit_prior": true
           },
           {
            "0_MultinomialNB:alpha": 0.2601343972890062,
            "0_MultinomialNB:fit_prior": true
           },
           {
            "0_MultinomialNB:alpha": 4.120115777847239,
            "0_MultinomialNB:fit_prior": true
           },
           {
            "0_MultinomialNB:alpha": 1.6589310251805045,
            "0_MultinomialNB:fit_prior": true
           },
           {
            "0_MultinomialNB:alpha": 1.8884850291373767,
            "0_MultinomialNB:fit_prior": true
           },
           {
            "0_MultinomialNB:alpha": 0.11494954262166994,
            "0_MultinomialNB:fit_prior": true
           },
           {
            "0_MultinomialNB:alpha": 0.31953922740288154,
            "0_MultinomialNB:fit_prior": true
           },
           {
            "0_MultinomialNB:alpha": 0.5170348962290626,
            "0_MultinomialNB:fit_prior": true
           },
           {
            "0_MultinomialNB:alpha": 0.7536514708186082,
            "0_MultinomialNB:fit_prior": true
           },
           {
            "0_MultinomialNB:alpha": 0.4672843549170705,
            "0_MultinomialNB:fit_prior": true
           },
           {
            "0_MultinomialNB:alpha": 0.754917990233828,
            "0_MultinomialNB:fit_prior": true
           },
           {
            "0_MultinomialNB:alpha": 0.43475475980313666,
            "0_MultinomialNB:fit_prior": true
           },
           {
            "0_MultinomialNB:alpha": 20.816498811913206,
            "0_MultinomialNB:fit_prior": true
           },
           {
            "0_MultinomialNB:alpha": 0.29914324118206226,
            "0_MultinomialNB:fit_prior": true
           },
           {
            "0_MultinomialNB:alpha": 1.1549291201299252,
            "0_MultinomialNB:fit_prior": true
           },
           {
            "0_MultinomialNB:alpha": 0.8040909154628719,
            "0_MultinomialNB:fit_prior": true
           },
           {
            "0_MultinomialNB:alpha": 0.9169495304241349,
            "0_MultinomialNB:fit_prior": true
           },
           {
            "0_MultinomialNB:alpha": 2.3262232616500085,
            "0_MultinomialNB:fit_prior": true
           },
           {
            "0_MultinomialNB:alpha": 1.0027371032366619,
            "0_MultinomialNB:fit_prior": true
           },
           {
            "0_MultinomialNB:alpha": 0.3214716747912662,
            "0_MultinomialNB:fit_prior": true
           },
           {
            "0_MultinomialNB:alpha": 13.717215118615945,
            "0_MultinomialNB:fit_prior": true
           },
           {
            "0_MultinomialNB:alpha": 0.3994109516124527,
            "0_MultinomialNB:fit_prior": true
           },
           {
            "0_MultinomialNB:alpha": 0.562149639230278,
            "0_MultinomialNB:fit_prior": true
           },
           {
            "0_MultinomialNB:alpha": 0.5360427401217583,
            "0_MultinomialNB:fit_prior": true
           },
           {
            "0_MultinomialNB:alpha": 0.8556760974564416,
            "0_MultinomialNB:fit_prior": true
           },
           {
            "0_MultinomialNB:alpha": 0.06812767436138358,
            "0_MultinomialNB:fit_prior": true
           },
           {
            "0_MultinomialNB:alpha": 2.0526598098140214,
            "0_MultinomialNB:fit_prior": true
           },
           {
            "0_MultinomialNB:alpha": 0.7811271618539198,
            "0_MultinomialNB:fit_prior": true
           },
           {
            "0_MultinomialNB:alpha": 1.2869304981739302,
            "0_MultinomialNB:fit_prior": true
           },
           {
            "0_MultinomialNB:alpha": 1.3821812429395492,
            "0_MultinomialNB:fit_prior": true
           },
           {
            "0_MultinomialNB:alpha": 0.09262489441947949,
            "0_MultinomialNB:fit_prior": true
           },
           {
            "0_MultinomialNB:alpha": 1.5196648422853352,
            "0_MultinomialNB:fit_prior": true
           },
           {
            "0_MultinomialNB:alpha": 0.6503606727478676,
            "0_MultinomialNB:fit_prior": true
           },
           {
            "0_MultinomialNB:alpha": 0.16295850334039025,
            "0_MultinomialNB:fit_prior": true
           },
           {
            "0_MultinomialNB:alpha": 1.888278868787262,
            "0_MultinomialNB:fit_prior": true
           },
           {
            "0_MultinomialNB:alpha": 0.7053716217309483,
            "0_MultinomialNB:fit_prior": true
           },
           {
            "0_MultinomialNB:alpha": 0.976756254368588,
            "0_MultinomialNB:fit_prior": true
           },
           {
            "0_MultinomialNB:alpha": 6.682466476917469,
            "0_MultinomialNB:fit_prior": true
           },
           {
            "0_MultinomialNB:alpha": 0.3057636180130099,
            "0_MultinomialNB:fit_prior": true
           },
           {
            "0_MultinomialNB:alpha": 0.3352290012809203,
            "0_MultinomialNB:fit_prior": true
           },
           {
            "0_MultinomialNB:alpha": 3.866006691927714,
            "0_MultinomialNB:fit_prior": true
           },
           {
            "0_MultinomialNB:alpha": 0.6099522495932438,
            "0_MultinomialNB:fit_prior": true
           },
           {
            "0_MultinomialNB:alpha": 0.7925697863262722,
            "0_MultinomialNB:fit_prior": true
           },
           {
            "0_MultinomialNB:alpha": 1.8046333433357742,
            "0_MultinomialNB:fit_prior": true
           },
           {
            "0_MultinomialNB:alpha": 0.9382735458570098,
            "0_MultinomialNB:fit_prior": true
           },
           {
            "0_MultinomialNB:alpha": 0.7791059539659894,
            "0_MultinomialNB:fit_prior": true
           },
           {
            "0_MultinomialNB:alpha": 0.3207649026908159,
            "0_MultinomialNB:fit_prior": true
           },
           {
            "0_MultinomialNB:alpha": 3.665995742000229,
            "0_MultinomialNB:fit_prior": true
           },
           {
            "0_MultinomialNB:alpha": 0.16791520792594009,
            "0_MultinomialNB:fit_prior": true
           },
           {
            "0_MultinomialNB:alpha": 0.7561118277552266,
            "0_MultinomialNB:fit_prior": true
           },
           {
            "0_MultinomialNB:alpha": 0.8159462155440445,
            "0_MultinomialNB:fit_prior": true
           },
           {
            "0_MultinomialNB:alpha": 1.4775390180177863,
            "0_MultinomialNB:fit_prior": true
           },
           {
            "0_MultinomialNB:alpha": 1.0726239636777097,
            "0_MultinomialNB:fit_prior": true
           },
           {
            "0_MultinomialNB:alpha": 1.2132294681851297,
            "0_MultinomialNB:fit_prior": true
           },
           {
            "0_MultinomialNB:alpha": 1.0988020429127152,
            "0_MultinomialNB:fit_prior": true
           },
           {
            "0_MultinomialNB:alpha": 0.42072829374880155,
            "0_MultinomialNB:fit_prior": true
           },
           {
            "0_MultinomialNB:alpha": 2.000017673971513,
            "0_MultinomialNB:fit_prior": true
           },
           {
            "0_MultinomialNB:alpha": 0.16747669617365757,
            "0_MultinomialNB:fit_prior": true
           }
          ],
          "loss": [
           7.318296713653172e-30,
           4.375119577302579e-32,
           2.7677203721144393e-33,
           2.5339836336486433e-33,
           4.73279727138974e-30,
           2.641622139884148e-33,
           8.80717927509799e-32,
           8.198881846059936e-33,
           5.935462798058171e-31,
           1.0429667353415137e-09,
           2.6887340569865466e-18,
           1.7244589313265543e-30,
           4.3839210306847605e-33,
           2.5151398070851654e-33,
           7.329859108831015e-07,
           2.6398085803189813e-33,
           8.778187327256617e-07,
           2.765999158872463e-33,
           8.877878327386242e-21,
           5.198739267394317e-33,
           4.413459771515014,
           0.00035318630117101317,
           0.7966220230883102,
           1.089991992956243e-32,
           5.595392884398753,
           4.322120521357803e-33,
           3.790227337738224e-24,
           2.9918323256681227e-33,
           9.234203300906174e-28,
           1.6489549847211046e-32,
           0.029931958670114448,
           6.078532481770653e-28,
           2.817620793133678e-25,
           2.714981227259392e-05,
           0.7377621689422942,
           0.027768822070612296,
           1.5406423780456083e-29,
           1.8497715425752358e-05,
           1.4362023870232e-15,
           9.950641124883708e-32,
           2.741206007161732e-18,
           2.530977311517837e-10,
           3.987764616026849,
           9.82945897293501e-29,
           4.897542037259196e-33,
           3.940653471678155e-33,
           3.4100657631850945e-31,
           1.7022898994510055e-20,
           0.00010239947191944002,
           5.659940475494148e-15,
           1.6493929309586242,
           2.125145246973125e-05,
           4.344463165367022e-33,
           2.192946796365406e-31,
           8.103313134145147e-32,
           1.0391356918161793e-06,
           0.0011439858864593863,
           0.00023038069291272272,
           6.691141009167311,
           2.8270839688327456,
           5.981889342299455,
           2.8412842463671392e-33,
           5.589342514652748e-23,
           8.247799251092437e-32
          ],
          "marginalization": {
           "0_MultinomialNB:alpha": {
            "good": [
             [
              0.01,
              1
             ],
             [
              0.027825594022071243,
              1
             ],
             [
              0.0774263682681127,
              1
             ],
             [
              0.21544346900318834,
              1
             ],
             [
              0.5994842503189409,
              1
             ],
             [
              1.6681005372000592,
              1
             ],
             [
              4.6415888336127775,
              0
             ],
             [
              12.915496650148826,
              0
             ],
             [
              35.93813663804626,
              0
             ],
             [
              100,
              0
             ]
            ]
           },
           "0_MultinomialNB:fit_prior": {
            "good": [
             [
              0,
              0.0625690727884258
             ],
             [
              1,
              1
             ]
            ]
           }
          }
         }
        },
        "structures": {
         "children": [
          {
           "details": {
            "00:00": {
             "failure_message": "Unvisited",
             "policy": {
              "exploit": -0.5636274164949872,
              "explore": 0,
              "explore_weight": 2,
              "overfit": 0.868312757201646,
              "visits": 0
             },
             "score": -0.4894048760512028,
             "selected": false
            },
            "00:01": {
             "failure_message": "Unvisited",
             "policy": {
              "exploit": -0.7848535428893562,
              "explore": -1.6015459273656616,
              "explore_weight": 2,
              "overfit": 0.868312757201646,
              "visits": 0
             },
             "score": -3.4627838637776267,
             "selected": false
            },
            "00:02": {
             "failure_message": "Unvisited",
             "policy": {
              "exploit": -0.5570099970176741,
              "explore": -1.853102049128743,
              "explore_weight": 2,
              "overfit": 0.868312757201646,
              "visits": 0
             },
             "score": -3.701803185609295,
             "selected": false
            },
            "00:03": {
             "failure_message": "Unvisited",
             "policy": {
              "exploit": -0.6032558331394317,
              "explore": -1.9002415406058841,
              "explore_weight": 2,
              "overfit": 0.868312757201646,
              "visits": 0
             },
             "score": -3.8238226787164735,
             "selected": false
            },
            "00:04": {
             "failure_message": "Unvisited",
             "policy": {
              "exploit": -0.6010386490290922,
              "explore": -1.9393813744835136,
              "explore_weight": 2,
              "overfit": 0.868312757201646,
              "visits": 0
             },
             "score": -3.889868703609799,
             "selected": false
            },
            "00:05": {
             "failure_message": "Unvisited",
             "policy": {
              "exploit": -0.7115203580605542,
              "explore": -2.001832456833606,
              "explore_weight": 2,
              "overfit": 0.868312757201646,
              "visits": 0
             },
             "score": -4.094255524010529,
             "selected": false
            }
           },
           "id": "1",
           "label": "AdaBoostingClassifier"
          },
          {
           "details": {
            "00:00": {
             "failure_message": "Unvisited",
             "policy": {
              "exploit": -0.3346418211034722,
              "explore": 0,
              "explore_weight": 2,
              "overfit": 0.868312757201646,
              "visits": 0
             },
             "score": -0.2905737623573359,
             "selected": false
            },
            "00:01": {
             "failure_message": "Unvisited",
             "policy": {
              "exploit": -0.2795501253155738,
              "explore": -1.6015459273656616,
              "explore_weight": 2,
              "overfit": 0.868312757201646,
              "visits": 0
             },
             "score": -3.024022460040721,
             "selected": false
            },
            "00:02": {
             "failure_message": "Unvisited",
             "policy": {
              "exploit": -0.47615815814309026,
              "explore": -1.853102049128743,
              "explore_weight": 2,
              "overfit": 0.868312757201646,
              "visits": 0
             },
             "score": -3.6315985024712822,
             "selected": false
            },
            "00:03": {
             "failure_message": "Unvisited",
             "policy": {
              "exploit": -0.26497366476139017,
              "explore": -1.9002415406058841,
              "explore_weight": 2,
              "overfit": 0.868312757201646,
              "visits": 0
             },
             "score": -3.530087956379985,
             "selected": false
            },
            "00:04": {
             "failure_message": "Unvisited",
             "policy": {
              "exploit": -0.3179541544748823,
              "explore": -1.9393813744835136,
              "explore_weight": 2,
              "overfit": 0.868312757201646,
              "visits": 0
             },
             "score": -3.6440628256223984,
             "selected": false
            },
            "00:05": {
             "failure_message": "Unvisited",
             "policy": {
              "exploit": -0.29794750879613446,
              "explore": -2.001832456833606,
              "explore_weight": 2,
              "overfit": 0.868312757201646,
              "visits": 0
             },
             "score": -3.735144942962,
             "selected": false
            }
           },
           "id": "2",
           "label": "BernoulliNB"
          },
          {
           "details": {
            "00:00": {
             "failure_message": "Unvisited",
             "policy": {
              "exploit": -0.5732949767859368,
              "explore": 0,
              "explore_weight": 2,
              "overfit": 0.868312757201646,
              "visits": 0
             },
             "score": -0.4977993419828504,
             "selected": false
            },
            "00:01": {
             "failure_message": "Unvisited",
             "policy": {
              "exploit": -0.5485454386639158,
              "explore": -1.6015459273656616,
              "explore_weight": 2,
              "overfit": 0.868312757201646,
              "visits": 0
             },
             "score": -3.2575945222485405,
             "selected": false
            },
            "00:02": {
             "failure_message": "Unvisited",
             "policy": {
              "exploit": -0.6001984331499548,
              "explore": -1.853102049128743,
              "explore_weight": 2,
              "overfit": 0.868312757201646,
              "visits": 0
             },
             "score": -3.7393042556665432,
             "selected": false
            },
            "00:03": {
             "failure_message": "Unvisited",
             "policy": {
              "exploit": -0.7700749131151368,
              "explore": -1.9002415406058841,
              "explore_weight": 2,
              "overfit": 0.868312757201646,
              "visits": 0
             },
             "score": -3.96867381400402,
             "selected": false
            },
            "00:04": {
             "failure_message": "Unvisited",
             "policy": {
              "exploit": -0.7489402848725403,
              "explore": -1.9393813744835136,
              "explore_weight": 2,
              "overfit": 0.868312757201646,
              "visits": 0
             },
             "score": -4.018293580823657,
             "selected": false
            },
            "00:05": {
             "failure_message": "Unvisited",
             "policy": {
              "exploit": -0.6766246809644362,
              "explore": -2.001832456833606,
              "explore_weight": 2,
              "overfit": 0.868312757201646,
              "visits": 0
             },
             "score": -4.0639551624167805,
             "selected": false
            }
           },
           "id": "3",
           "label": "DecisionTree"
          },
          {
           "details": {
            "00:00": {
             "failure_message": "Unvisited",
             "policy": {
              "exploit": -0.7464727220883147,
              "explore": 0,
              "explore_weight": 2,
              "overfit": 0.868312757201646,
              "visits": 0
             },
             "score": -0.6481717874923226,
             "selected": false
            },
            "00:01": {
             "failure_message": "Unvisited",
             "policy": {
              "exploit": -0.5827780749726161,
              "explore": -1.6015459273656616,
              "explore_weight": 2,
              "overfit": 0.868312757201646,
              "visits": 0
             },
             "score": -3.2873191570680294,
             "selected": false
            },
            "00:02": {
             "failure_message": "Unvisited",
             "policy": {
              "exploit": -0.917418994757193,
              "explore": -1.815443985917585,
              "explore_weight": 2,
              "overfit": 0.868312757201646,
              "visits": 0
             },
             "score": -3.9493529627612696,
             "selected": false
            },
            "00:03": {
             "failure_message": "Duplicate 5",
             "policy": {
              "exploit": 0,
              "explore": 0,
              "explore_weight": 2,
              "overfit": 0.868312757201646,
              "visits": 0
             },
             "score": 0,
             "selected": false
            },
            "00:04": {
             "failure_message": "Duplicate 5",
             "policy": {
              "exploit": 0,
              "explore": 0,
              "explore_weight": 2,
              "overfit": 0.868312757201646,
              "visits": 0
             },
             "score": 0,
             "selected": false
            },
            "00:05": {
             "failure_message": "Duplicate 5",
             "policy": {
              "exploit": 0,
              "explore": 0,
              "explore_weight": 2,
              "overfit": 0.868312757201646,
              "visits": 0
             },
             "score": 0,
             "selected": false
            },
            "100:00": {
             "failure_message": "Duplicate 5",
             "policy": {
              "exploit": 0,
              "explore": 0,
              "explore_weight": 2,
              "overfit": 0.868312757201646,
              "visits": 0
             },
             "score": 0,
             "selected": false
            }
           },
           "id": "4",
           "label": "GradientBoostingClassifier"
          },
          {
           "details": {
            "00:00": {
             "failure_message": "Unvisited",
             "policy": {
              "exploit": -0.7425515496268111,
              "explore": 0,
              "explore_weight": 2,
              "overfit": 0.868312757201646,
              "visits": 0
             },
             "score": -0.6447669834208113,
             "selected": false
            },
            "00:01": {
             "failure_message": "Unvisited",
             "policy": {
              "exploit": -0.8606249347959966,
              "explore": -1.6015459273656616,
              "explore_weight": 2,
              "overfit": 0.868312757201646,
              "visits": 0
             },
             "score": -3.528577130001088,
             "selected": true
            },
            "00:02": {
             "failure_message": null,
             "policy": {
              "exploit": -0.517106908685856,
              "explore": -0.7324474753487107,
              "explore_weight": 2,
              "overfit": 0.868312757201646,
              "visits": 5
             },
             "score": -1.7209974992998827,
             "selected": false
            },
            "00:03": {
             "failure_message": null,
             "policy": {
              "exploit": -0.517106908685856,
              "explore": -0.7757703604207696,
              "explore_weight": 2,
              "overfit": 0.868312757201646,
              "visits": 5
             },
             "score": -1.7962331268735816,
             "selected": false
            },
            "00:04": {
             "failure_message": null,
             "policy": {
              "exploit": -0.517106908685856,
              "explore": -0.7917491306903514,
              "explore_weight": 2,
              "overfit": 0.868312757201646,
              "visits": 5
             },
             "score": -1.8239822670125263,
             "selected": false
            },
            "00:05": {
             "failure_message": null,
             "policy": {
              "exploit": -0.517106908685856,
              "explore": -0.8053798584219568,
              "explore_weight": 2,
              "overfit": 0.868312757201646,
              "visits": 5
             },
             "score": -1.8476537365711165,
             "selected": false
            },
            "100:00": {
             "failure_message": null,
             "policy": {
              "exploit": -0.517106908685856,
              "explore": -0.8190799402108797,
              "explore_weight": 2,
              "overfit": 0.868312757201646,
              "visits": 5
             },
             "score": -1.871445648155172,
             "selected": false
            }
           },
           "id": "5",
           "label": "LibSVM_SVC"
          },
          {
           "details": {
            "00:00": {
             "failure_message": "Unvisited",
             "policy": {
              "exploit": -0.5996349737243455,
              "explore": 0,
              "explore_weight": 2,
              "overfit": 0.868312757201646,
              "visits": 0
             },
             "score": -0.520670697349123,
             "selected": false
            },
            "00:01": {
             "failure_message": "Unvisited",
             "policy": {
              "exploit": -0.6844740322768476,
              "explore": -1.6015459273656616,
              "explore_weight": 2,
              "overfit": 0.868312757201646,
              "visits": 0
             },
             "score": -3.3756230541511276,
             "selected": false
            },
            "00:02": {
             "failure_message": "Unvisited",
             "policy": {
              "exploit": -0.6537631975775381,
              "explore": -1.853102049128743,
              "explore_weight": 2,
              "overfit": 0.868312757201646,
              "visits": 0
             },
             "score": -3.7858152239555145,
             "selected": false
            },
            "00:03": {
             "failure_message": "Unvisited",
             "policy": {
              "exploit": -0.5856041248950612,
              "explore": -1.9002415406058841,
              "explore_weight": 2,
              "overfit": 0.868312757201646,
              "visits": 0
             },
             "score": -3.808495475261485,
             "selected": false
            },
            "00:04": {
             "failure_message": "Unvisited",
             "policy": {
              "exploit": -0.7416636618216338,
              "explore": -1.9393813744835136,
              "explore_weight": 2,
              "overfit": 0.868312757201646,
              "visits": 0
             },
             "score": -4.011975196199208,
             "selected": false
            },
            "00:05": {
             "failure_message": "Unvisited",
             "policy": {
              "exploit": -0.8193162974332312,
              "explore": -1.9727697022487511,
              "explore_weight": 2,
              "overfit": 0.868312757201646,
              "visits": 0
             },
             "score": -4.13738499221146,
             "selected": false
            },
            "100:00": {
             "failure_message": "Duplicate 5",
             "policy": {
              "exploit": 0,
              "explore": 0,
              "explore_weight": 2,
              "overfit": 0.868312757201646,
              "visits": 0
             },
             "score": 0,
             "selected": false
            }
           },
           "id": "6",
           "label": "LinearDiscriminantAnalysis"
          },
          {
           "details": {
            "00:00": {
             "failure_message": "Unvisited",
             "policy": {
              "exploit": -0.765476772992207,
              "explore": 0,
              "explore_weight": 2,
              "overfit": 0.868312757201646,
              "visits": 0
             },
             "score": -0.6646732473306817,
             "selected": true
            },
            "00:01": {
             "failure_message": null,
             "policy": {
              "exploit": -1,
              "explore": -0.6538283869463934,
              "explore_weight": 2,
              "overfit": 0.868312757201646,
              "visits": 5
             },
             "score": -2.003767816013901,
             "selected": false
            },
            "00:02": {
             "failure_message": null,
             "policy": {
              "exploit": -1,
              "explore": -0.7324474753487107,
              "explore_weight": 2,
              "overfit": 0.868312757201646,
              "visits": 5
             },
             "score": -2.1402997308524934,
             "selected": false
            },
            "00:03": {
             "failure_message": null,
             "policy": {
              "exploit": -1,
              "explore": -0.7757703604207696,
              "explore_weight": 2,
              "overfit": 0.868312757201646,
              "visits": 5
             },
             "score": -2.2155353584261928,
             "selected": false
            },
            "00:04": {
             "failure_message": null,
             "policy": {
              "exploit": -1,
              "explore": -0.7917491306903514,
              "explore_weight": 2,
              "overfit": 0.868312757201646,
              "visits": 5
             },
             "score": -2.2432844985651363,
             "selected": false
            },
            "00:05": {
             "failure_message": null,
             "policy": {
              "exploit": -1,
              "explore": -0.8053798584219568,
              "explore_weight": 2,
              "overfit": 0.868312757201646,
              "visits": 5
             },
             "score": -2.2669559681237277,
             "selected": false
            },
            "100:00": {
             "failure_message": null,
             "policy": {
              "exploit": -1,
              "explore": -0.8190799402108797,
              "explore_weight": 2,
              "overfit": 0.868312757201646,
              "visits": 5
             },
             "score": -2.2907478797077827,
             "selected": false
            }
           },
           "id": "7",
           "label": "MultinomialNB"
          },
          {
           "details": {
            "00:00": {
             "failure_message": "Unvisited",
             "policy": {
              "exploit": -0.6809623824620452,
              "explore": 0,
              "explore_weight": 2,
              "overfit": 0.868312757201646,
              "visits": 0
             },
             "score": -0.5912883238662203,
             "selected": false
            },
            "00:01": {
             "failure_message": "Unvisited",
             "policy": {
              "exploit": -0.7948932121976637,
              "explore": -1.6015459273656616,
              "explore_weight": 2,
              "overfit": 0.868312757201646,
              "visits": 0
             },
             "score": -3.4715014367161157,
             "selected": false
            },
            "00:02": {
             "failure_message": "Unvisited",
             "policy": {
              "exploit": -0.8706523475916086,
              "explore": -1.7941225779941015,
              "explore_weight": 2,
              "overfit": 0.868312757201646,
              "visits": 0
             },
             "score": -3.871717585412922,
             "selected": false
            },
            "00:03": {
             "failure_message": "Duplicate 5",
             "policy": {
              "exploit": 0,
              "explore": 0,
              "explore_weight": 2,
              "overfit": 0.868312757201646,
              "visits": 0
             },
             "score": 0,
             "selected": false
            },
            "00:04": {
             "failure_message": "Duplicate 5",
             "policy": {
              "exploit": 0,
              "explore": 0,
              "explore_weight": 2,
              "overfit": 0.868312757201646,
              "visits": 0
             },
             "score": 0,
             "selected": false
            },
            "00:05": {
             "failure_message": "Duplicate 5",
             "policy": {
              "exploit": 0,
              "explore": 0,
              "explore_weight": 2,
              "overfit": 0.868312757201646,
              "visits": 0
             },
             "score": 0,
             "selected": false
            },
            "100:00": {
             "failure_message": "Duplicate 5",
             "policy": {
              "exploit": 0,
              "explore": 0,
              "explore_weight": 2,
              "overfit": 0.868312757201646,
              "visits": 0
             },
             "score": 0,
             "selected": false
            }
           },
           "id": "8",
           "label": "RandomForest"
          },
          {
           "details": {
            "00:00": {
             "failure_message": "Unvisited",
             "policy": {
              "exploit": -0.6939945149596886,
              "explore": 0,
              "explore_weight": 2,
              "overfit": 0.868312757201646,
              "visits": 0
             },
             "score": -0.6026042907674661,
             "selected": false
            },
            "00:01": {
             "failure_message": "Unvisited",
             "policy": {
              "exploit": -0.7289591501507858,
              "explore": -1.6015459273656616,
              "explore_weight": 2,
              "overfit": 0.868312757201646,
              "visits": 0
             },
             "score": -3.4142500495066868,
             "selected": false
            },
            "00:02": {
             "failure_message": "Unvisited",
             "policy": {
              "exploit": -0.5357844004036285,
              "explore": -1.853102049128743,
              "explore_weight": 2,
              "overfit": 0.868312757201646,
              "visits": 0
             },
             "score": -3.6833727292901037,
             "selected": false
            },
            "00:03": {
             "failure_message": "Unvisited",
             "policy": {
              "exploit": -0.5932809797861033,
              "explore": -1.9002415406058841,
              "explore_weight": 2,
              "overfit": 0.868312757201646,
              "visits": 0
             },
             "score": -3.815161386298563,
             "selected": false
            },
            "00:04": {
             "failure_message": "Unvisited",
             "policy": {
              "exploit": -0.6209406603849604,
              "explore": -1.9393813744835136,
              "explore_weight": 2,
              "overfit": 0.868312757201646,
              "visits": 0
             },
             "score": -3.907149873964071,
             "selected": false
            },
            "00:05": {
             "failure_message": "Unvisited",
             "policy": {
              "exploit": -0.6876297954925756,
              "explore": -2.001832456833606,
              "explore_weight": 2,
              "overfit": 0.868312757201646,
              "visits": 0
             },
             "score": -4.07351104375603,
             "selected": false
            }
           },
           "id": "9",
           "label": "SGDClassifier"
          },
          {
           "details": {
            "00:00": {
             "failure_message": "Unvisited",
             "policy": {
              "exploit": 0,
              "explore": 0,
              "explore_weight": 2,
              "overfit": 0.868312757201646,
              "visits": 0
             },
             "score": 0,
             "selected": false
            },
            "00:01": {
             "failure_message": "Unvisited",
             "policy": {
              "exploit": 0,
              "explore": -1.6015459273656616,
              "explore_weight": 2,
              "overfit": 0.868312757201646,
              "visits": 0
             },
             "score": -2.7812855199518896,
             "selected": false
            },
            "00:02": {
             "failure_message": "Unvisited",
             "policy": {
              "exploit": -0.5137282444226908,
              "explore": -1.853102049128743,
              "explore_weight": 2,
              "overfit": 0.868312757201646,
              "visits": 0
             },
             "score": -3.6642210876770256,
             "selected": false
            },
            "00:03": {
             "failure_message": "Unvisited",
             "policy": {
              "exploit": -0.735160097355392,
              "explore": -1.9002415406058841,
              "explore_weight": 2,
              "overfit": 0.868312757201646,
              "visits": 0
             },
             "score": -3.9383568340644888,
             "selected": false
            },
            "00:04": {
             "failure_message": "Unvisited",
             "policy": {
              "exploit": -0.5964287180688919,
              "explore": -1.9393813744835136,
              "explore_weight": 2,
              "overfit": 0.868312757201646,
              "visits": 0
             },
             "score": -3.885865841747238,
             "selected": false
            },
            "00:05": {
             "failure_message": "Unvisited",
             "policy": {
              "exploit": -0.8049318354664821,
              "explore": -1.9925591367766533,
              "explore_weight": 2,
              "overfit": 0.868312757201646,
              "visits": 0
             },
             "score": -4.159261617297018,
             "selected": false
            },
            "100:00": {
             "failure_message": "Ineffective",
             "policy": {
              "exploit": 0,
              "explore": 0,
              "explore_weight": 2,
              "overfit": 0.868312757201646,
              "visits": 0
             },
             "score": 0,
             "selected": false
            }
           },
           "id": "10",
           "label": "Imputation"
          },
          {
           "details": {
            "00:00": {
             "failure_message": "Unvisited",
             "policy": {
              "exploit": 0,
              "explore": 0,
              "explore_weight": 2,
              "overfit": 0.868312757201646,
              "visits": 0
             },
             "score": 0,
             "selected": false
            },
            "00:01": {
             "failure_message": "Unvisited",
             "policy": {
              "exploit": 0,
              "explore": -1.6015459273656616,
              "explore_weight": 2,
              "overfit": 0.868312757201646,
              "visits": 0
             },
             "score": -2.7812855199518896,
             "selected": false
            },
            "00:02": {
             "failure_message": "Unvisited",
             "policy": {
              "exploit": -0.8021613871305567,
              "explore": -1.853102049128743,
              "explore_weight": 2,
              "overfit": 0.868312757201646,
              "visits": 0
             },
             "score": -3.914671265090029,
             "selected": false
            },
            "00:03": {
             "failure_message": "Unvisited",
             "policy": {
              "exploit": -0.7065355806541069,
              "explore": -1.9002415406058841,
              "explore_weight": 2,
              "overfit": 0.868312757201646,
              "visits": 0
             },
             "score": -3.9135018010440312,
             "selected": false
            },
            "00:04": {
             "failure_message": "Unvisited",
             "policy": {
              "exploit": -0.5128508731783186,
              "explore": -1.9393813744835136,
              "explore_weight": 2,
              "overfit": 0.868312757201646,
              "visits": 0
             },
             "score": -3.8132941328093324,
             "selected": false
            },
            "00:05": {
             "failure_message": "Unvisited",
             "policy": {
              "exploit": -0.5752730232584723,
              "explore": -2.001832456833606,
              "explore_weight": 2,
              "overfit": 0.868312757201646,
              "visits": 0
             },
             "score": -3.975950225067158,
             "selected": false
            }
           },
           "id": "11",
           "label": "KNNImputer"
          },
          {
           "details": {
            "00:00": {
             "failure_message": "Unvisited",
             "policy": {
              "exploit": 0,
              "explore": 0,
              "explore_weight": 2,
              "overfit": 0.868312757201646,
              "visits": 0
             },
             "score": 0,
             "selected": false
            },
            "00:01": {
             "failure_message": "Unvisited",
             "policy": {
              "exploit": 0,
              "explore": -1.6015459273656616,
              "explore_weight": 2,
              "overfit": 0.868312757201646,
              "visits": 0
             },
             "score": -2.7812855199518896,
             "selected": false
            },
            "00:02": {
             "failure_message": "Unvisited",
             "policy": {
              "exploit": -0.6991312763287143,
              "explore": -1.853102049128743,
              "explore_weight": 2,
              "overfit": 0.868312757201646,
              "visits": 0
             },
             "score": -3.8252089055048897,
             "selected": false
            },
            "00:03": {
             "failure_message": "Unvisited",
             "policy": {
              "exploit": -0.6518001255953778,
              "explore": -1.9002415406058841,
              "explore_weight": 2,
              "overfit": 0.868312757201646,
              "visits": 0
             },
             "score": -3.8659743071452994,
             "selected": false
            },
            "00:04": {
             "failure_message": "Unvisited",
             "policy": {
              "exploit": -0.7348234742596357,
              "explore": -1.9393813744835136,
              "explore_weight": 2,
              "overfit": 0.868312757201646,
              "visits": 0
             },
             "score": -4.006035774077472,
             "selected": false
            },
            "00:05": {
             "failure_message": "Unvisited",
             "policy": {
              "exploit": -0.7036173637186964,
              "explore": -2.001832456833606,
              "explore_weight": 2,
              "overfit": 0.868312757201646,
              "visits": 0
             },
             "score": -4.087393253203402,
             "selected": false
            }
           },
           "id": "12",
           "label": "MaxAbsScaler"
          },
          {
           "details": {
            "00:00": {
             "failure_message": "Unvisited",
             "policy": {
              "exploit": 0,
              "explore": 0,
              "explore_weight": 2,
              "overfit": 0.868312757201646,
              "visits": 0
             },
             "score": 0,
             "selected": false
            },
            "00:01": {
             "failure_message": "Unvisited",
             "policy": {
              "exploit": 0,
              "explore": -1.6015459273656616,
              "explore_weight": 2,
              "overfit": 0.868312757201646,
              "visits": 0
             },
             "score": -2.7812855199518896,
             "selected": false
            },
            "00:02": {
             "failure_message": "Unvisited",
             "policy": {
              "exploit": -0.6805535205194986,
              "explore": -1.853102049128743,
              "explore_weight": 2,
              "overfit": 0.868312757201646,
              "visits": 0
             },
             "score": -3.8090776031355706,
             "selected": false
            },
            "00:03": {
             "failure_message": "Unvisited",
             "policy": {
              "exploit": -0.49129115765296183,
              "explore": -1.9002415406058841,
              "explore_weight": 2,
              "overfit": 0.868312757201646,
              "visits": 0
             },
             "score": -3.7266023226356295,
             "selected": false
            },
            "00:04": {
             "failure_message": "Unvisited",
             "policy": {
              "exploit": -0.558155030757043,
              "explore": -1.9393813744835136,
              "explore_weight": 2,
              "overfit": 0.868312757201646,
              "visits": 0
             },
             "score": -3.8526323107892133,
             "selected": false
            },
            "00:05": {
             "failure_message": "Unvisited",
             "policy": {
              "exploit": -0.7542566131310287,
              "explore": -2.001832456833606,
              "explore_weight": 2,
              "overfit": 0.868312757201646,
              "visits": 0
             },
             "score": -4.131363959483245,
             "selected": false
            }
           },
           "id": "13",
           "label": "MinMaxScaler"
          },
          {
           "children": [
            {
             "details": {
              "00:03": {
               "failure_message": "Unvisited",
               "policy": {
                "exploit": -0.3884241562837881,
                "explore": 0,
                "explore_weight": 2,
                "overfit": 0.8024691358024691,
                "visits": 0
               },
               "score": -0.3116983970178547,
               "selected": false
              }
             },
             "id": "71",
             "label": "AdaBoostingClassifier"
            },
            {
             "details": {
              "00:03": {
               "failure_message": "Unvisited",
               "policy": {
                "exploit": -0.27209273896695374,
                "explore": 0,
                "explore_weight": 2,
                "overfit": 0.8024691358024691,
                "visits": 0
               },
               "score": -0.21834602509693818,
               "selected": false
              }
             },
             "id": "72",
             "label": "BernoulliNB"
            },
            {
             "details": {
              "00:03": {
               "failure_message": "Unvisited",
               "policy": {
                "exploit": -0.7151802091498424,
                "explore": 0,
                "explore_weight": 2,
                "overfit": 0.8024691358024691,
                "visits": 0
               },
               "score": -0.5739100443795031,
               "selected": true
              },
              "00:04": {
               "failure_message": null,
               "policy": {
                "exploit": -0.9316017316017317,
                "explore": -0.5464673624331794,
                "explore_weight": 2,
                "overfit": 0.8024691358024691,
                "visits": 5
               },
               "score": -1.6246280206225416,
               "selected": false
              },
              "00:05": {
               "failure_message": null,
               "policy": {
                "exploit": -0.9316017316017317,
                "explore": -0.5464673624331794,
                "explore_weight": 2,
                "overfit": 0.8024691358024691,
                "visits": 5
               },
               "score": -1.6246280206225416,
               "selected": false
              },
              "100:00": {
               "failure_message": null,
               "policy": {
                "exploit": -0.9316017316017317,
                "explore": -0.5464673624331794,
                "explore_weight": 2,
                "overfit": 0.8024691358024691,
                "visits": 5
               },
               "score": -1.6246280206225416,
               "selected": false
              }
             },
             "id": "73",
             "label": "DecisionTree"
            },
            {
             "details": {
              "00:03": {
               "failure_message": "Unvisited",
               "policy": {
                "exploit": -0.549758374279935,
                "explore": 0,
                "explore_weight": 2,
                "overfit": 0.8024691358024691,
                "visits": 0
               },
               "score": -0.44116412750858985,
               "selected": false
              }
             },
             "id": "74",
             "label": "GradientBoostingClassifier"
            },
            {
             "details": {
              "00:03": {
               "failure_message": "Unvisited",
               "policy": {
                "exploit": -0.4752981874179434,
                "explore": 0,
                "explore_weight": 2,
                "overfit": 0.8024691358024691,
                "visits": 0
               },
               "score": -0.38141212570575705,
               "selected": false
              }
             },
             "id": "75",
             "label": "LibSVM_SVC"
            },
            {
             "details": {
              "00:03": {
               "failure_message": "Unvisited",
               "policy": {
                "exploit": -0.48466491918003746,
                "explore": 0,
                "explore_weight": 2,
                "overfit": 0.8024691358024691,
                "visits": 0
               },
               "score": -0.3889286388481782,
               "selected": false
              }
             },
             "id": "76",
             "label": "LinearDiscriminantAnalysis"
            },
            {
             "details": {
              "00:03": {
               "failure_message": "Unvisited",
               "policy": {
                "exploit": -0.4476481909420301,
                "explore": 0,
                "explore_weight": 2,
                "overfit": 0.8024691358024691,
                "visits": 0
               },
               "score": -0.3592238569287896,
               "selected": false
              }
             },
             "id": "77",
             "label": "MultinomialNB"
            },
            {
             "details": {
              "00:03": {
               "failure_message": "Unvisited",
               "policy": {
                "exploit": -0.418780977966297,
                "explore": 0,
                "explore_weight": 2,
                "overfit": 0.8024691358024691,
                "visits": 0
               },
               "score": -0.3360588094791272,
               "selected": false
              }
             },
             "id": "78",
             "label": "RandomForest"
            },
            {
             "details": {
              "00:03": {
               "failure_message": "Unvisited",
               "policy": {
                "exploit": -0.4484371913127106,
                "explore": 0,
                "explore_weight": 2,
                "overfit": 0.8024691358024691,
                "visits": 0
               },
               "score": -0.3598570053743974,
               "selected": false
              }
             },
             "id": "79",
             "label": "SGDClassifier"
            },
            {
             "details": {
              "00:03": {
               "failure_message": "Unvisited",
               "policy": {
                "exploit": 0,
                "explore": 0,
                "explore_weight": 2,
                "overfit": 0.8024691358024691,
                "visits": 0
               },
               "score": 0,
               "selected": false
              }
             },
             "id": "80",
             "label": "Imputation"
            },
            {
             "details": {
              "00:03": {
               "failure_message": "Unvisited",
               "policy": {
                "exploit": 0,
                "explore": 0,
                "explore_weight": 2,
                "overfit": 0.8024691358024691,
                "visits": 0
               },
               "score": 0,
               "selected": false
              }
             },
             "id": "81",
             "label": "KNNImputer"
            },
            {
             "details": {
              "00:03": {
               "failure_message": "Unvisited",
               "policy": {
                "exploit": 0,
                "explore": 0,
                "explore_weight": 2,
                "overfit": 0.8024691358024691,
                "visits": 0
               },
               "score": 0,
               "selected": false
              }
             },
             "id": "82",
             "label": "MaxAbsScaler"
            },
            {
             "details": {
              "00:03": {
               "failure_message": "Unvisited",
               "policy": {
                "exploit": 0,
                "explore": 0,
                "explore_weight": 2,
                "overfit": 0.8024691358024691,
                "visits": 0
               },
               "score": 0,
               "selected": false
              }
             },
             "id": "83",
             "label": "MinMaxScaler"
            },
            {
             "details": {
              "00:03": {
               "failure_message": "Unvisited",
               "policy": {
                "exploit": 0,
                "explore": 0,
                "explore_weight": 2,
                "overfit": 0.8024691358024691,
                "visits": 0
               },
               "score": 0,
               "selected": false
              }
             },
             "id": "84",
             "label": "Normalizer"
            },
            {
             "details": {
              "00:03": {
               "failure_message": "Unvisited",
               "policy": {
                "exploit": 0,
                "explore": 0,
                "explore_weight": 2,
                "overfit": 0.8024691358024691,
                "visits": 0
               },
               "score": 0,
               "selected": false
              }
             },
             "id": "85",
             "label": "QuantileTransformer"
            },
            {
             "details": {
              "00:03": {
               "failure_message": "Unvisited",
               "policy": {
                "exploit": 0,
                "explore": 0,
                "explore_weight": 2,
                "overfit": 0.8024691358024691,
                "visits": 0
               },
               "score": 0,
               "selected": false
              }
             },
             "id": "86",
             "label": "RobustScaler"
            },
            {
             "details": {
              "00:03": {
               "failure_message": "Unvisited",
               "policy": {
                "exploit": 0,
                "explore": 0,
                "explore_weight": 2,
                "overfit": 0.8024691358024691,
                "visits": 0
               },
               "score": 0,
               "selected": false
              }
             },
             "id": "87",
             "label": "StandardScaler"
            },
            {
             "details": {
              "00:03": {
               "failure_message": "Unvisited",
               "policy": {
                "exploit": 0,
                "explore": 0,
                "explore_weight": 2,
                "overfit": 0.8024691358024691,
                "visits": 0
               },
               "score": 0,
               "selected": false
              }
             },
             "id": "88",
             "label": "BernoulliRBM"
            },
            {
             "details": {
              "00:03": {
               "failure_message": "Unvisited",
               "policy": {
                "exploit": 0,
                "explore": 0,
                "explore_weight": 2,
                "overfit": 0.8024691358024691,
                "visits": 0
               },
               "score": 0,
               "selected": false
              }
             },
             "id": "89",
             "label": "Binarizer"
            },
            {
             "details": {
              "00:03": {
               "failure_message": "Unvisited",
               "policy": {
                "exploit": 0,
                "explore": 0,
                "explore_weight": 2,
                "overfit": 0.8024691358024691,
                "visits": 0
               },
               "score": 0,
               "selected": false
              }
             },
             "id": "90",
             "label": "FactorAnalysis"
            },
            {
             "details": {
              "00:03": {
               "failure_message": "Unvisited",
               "policy": {
                "exploit": 0,
                "explore": 0,
                "explore_weight": 2,
                "overfit": 0.8024691358024691,
                "visits": 0
               },
               "score": 0,
               "selected": false
              }
             },
             "id": "91",
             "label": "FastICA"
            },
            {
             "details": {
              "00:03": {
               "failure_message": "Unvisited",
               "policy": {
                "exploit": 0,
                "explore": 0,
                "explore_weight": 2,
                "overfit": 0.8024691358024691,
                "visits": 0
               },
               "score": 0,
               "selected": false
              }
             },
             "id": "92",
             "label": "FeatureAgglomeration"
            },
            {
             "details": {
              "00:03": {
               "failure_message": "Unvisited",
               "policy": {
                "exploit": 0,
                "explore": 0,
                "explore_weight": 2,
                "overfit": 0.8024691358024691,
                "visits": 0
               },
               "score": 0,
               "selected": false
              }
             },
             "id": "93",
             "label": "GenericUnivariateSelect"
            },
            {
             "details": {
              "00:03": {
               "failure_message": "Unvisited",
               "policy": {
                "exploit": 0,
                "explore": 0,
                "explore_weight": 2,
                "overfit": 0.8024691358024691,
                "visits": 0
               },
               "score": 0,
               "selected": false
              }
             },
             "id": "94",
             "label": "KBinsDiscretizer"
            },
            {
             "details": {
              "00:03": {
               "failure_message": "Unvisited",
               "policy": {
                "exploit": 0,
                "explore": 0,
                "explore_weight": 2,
                "overfit": 0.8024691358024691,
                "visits": 0
               },
               "score": 0,
               "selected": false
              }
             },
             "id": "95",
             "label": "KernelPCA"
            },
            {
             "details": {
              "00:03": {
               "failure_message": "Unvisited",
               "policy": {
                "exploit": 0,
                "explore": 0,
                "explore_weight": 2,
                "overfit": 0.8024691358024691,
                "visits": 0
               },
               "score": 0,
               "selected": false
              }
             },
             "id": "96",
             "label": "MissingIndicator"
            },
            {
             "details": {
              "00:03": {
               "failure_message": "Unvisited",
               "policy": {
                "exploit": 0,
                "explore": 0,
                "explore_weight": 2,
                "overfit": 0.8024691358024691,
                "visits": 0
               },
               "score": 0,
               "selected": false
              }
             },
             "id": "97",
             "label": "OneHotEncoder"
            },
            {
             "details": {
              "00:03": {
               "failure_message": "Unvisited",
               "policy": {
                "exploit": 0,
                "explore": 0,
                "explore_weight": 2,
                "overfit": 0.8024691358024691,
                "visits": 0
               },
               "score": 0,
               "selected": false
              }
             },
             "id": "98",
             "label": "OrdinalEncoder"
            },
            {
             "details": {
              "00:03": {
               "failure_message": "Unvisited",
               "policy": {
                "exploit": 0,
                "explore": 0,
                "explore_weight": 2,
                "overfit": 0.8024691358024691,
                "visits": 0
               },
               "score": 0,
               "selected": false
              }
             },
             "id": "99",
             "label": "PCA"
            },
            {
             "details": {
              "00:03": {
               "failure_message": "Unvisited",
               "policy": {
                "exploit": 0,
                "explore": 0,
                "explore_weight": 2,
                "overfit": 0.8024691358024691,
                "visits": 0
               },
               "score": 0,
               "selected": false
              }
             },
             "id": "100",
             "label": "PolynomialFeatures"
            },
            {
             "details": {
              "00:03": {
               "failure_message": "Unvisited",
               "policy": {
                "exploit": 0,
                "explore": 0,
                "explore_weight": 2,
                "overfit": 0.8024691358024691,
                "visits": 0
               },
               "score": 0,
               "selected": false
              }
             },
             "id": "101",
             "label": "RandomTreesEmbedding"
            },
            {
             "details": {
              "00:03": {
               "failure_message": "Unvisited",
               "policy": {
                "exploit": 0,
                "explore": 0,
                "explore_weight": 2,
                "overfit": 0.8024691358024691,
                "visits": 0
               },
               "score": 0,
               "selected": false
              }
             },
             "id": "102",
             "label": "SelectKBest"
            },
            {
             "details": {
              "00:03": {
               "failure_message": "Unvisited",
               "policy": {
                "exploit": 0,
                "explore": 0,
                "explore_weight": 2,
                "overfit": 0.8024691358024691,
                "visits": 0
               },
               "score": 0,
               "selected": false
              }
             },
             "id": "103",
             "label": "SelectPercentileClassification"
            },
            {
             "details": {
              "00:03": {
               "failure_message": "Unvisited",
               "policy": {
                "exploit": 0,
                "explore": 0,
                "explore_weight": 2,
                "overfit": 0.8024691358024691,
                "visits": 0
               },
               "score": 0,
               "selected": false
              }
             },
             "id": "104",
             "label": "TruncatedSVD"
            },
            {
             "details": {
              "00:03": {
               "failure_message": "Unvisited",
               "policy": {
                "exploit": 0,
                "explore": 0,
                "explore_weight": 2,
                "overfit": 0.8024691358024691,
                "visits": 0
               },
               "score": 0,
               "selected": false
              }
             },
             "id": "105",
             "label": "VarianceThreshold"
            }
           ],
           "details": {
            "00:00": {
             "failure_message": "Unvisited",
             "policy": {
              "exploit": 0,
              "explore": 0,
              "explore_weight": 2,
              "overfit": 0.868312757201646,
              "visits": 0
             },
             "score": 0,
             "selected": false
            },
            "00:01": {
             "failure_message": "Unvisited",
             "policy": {
              "exploit": 0,
              "explore": -1.6015459273656616,
              "explore_weight": 2,
              "overfit": 0.868312757201646,
              "visits": 0
             },
             "score": -2.7812855199518896,
             "selected": false
            },
            "00:02": {
             "failure_message": "Unvisited",
             "policy": {
              "exploit": -0.688430380949347,
              "explore": -1.853102049128743,
              "explore_weight": 2,
              "overfit": 0.868312757201646,
              "visits": 0
             },
             "score": -3.8159171815335053,
             "selected": false
            },
            "00:03": {
             "failure_message": "Unvisited",
             "policy": {
              "exploit": -0.8306329804250074,
              "explore": -1.9002415406058841,
              "explore_weight": 2,
              "overfit": 0.868312757201646,
              "visits": 0
             },
             "score": -4.021257156400657,
             "selected": true
            },
            "00:04": {
             "failure_message": null,
             "policy": {
              "exploit": -0.9316017316017317,
              "explore": -0.7917491306903514,
              "explore_weight": 2,
              "overfit": 0.868312757201646,
              "visits": 5
             },
             "score": -2.1838934095444182,
             "selected": false
            },
            "00:05": {
             "failure_message": null,
             "policy": {
              "exploit": -0.9316017316017317,
              "explore": -0.8053798584219568,
              "explore_weight": 2,
              "overfit": 0.868312757201646,
              "visits": 5
             },
             "score": -2.2075648791030087,
             "selected": false
            },
            "100:00": {
             "failure_message": null,
             "policy": {
              "exploit": -0.9316017316017317,
              "explore": -0.8190799402108797,
              "explore_weight": 2,
              "overfit": 0.868312757201646,
              "visits": 5
             },
             "score": -2.231356790687064,
             "selected": false
            }
           },
           "id": "14",
           "label": "Normalizer"
          },
          {
           "children": [
            {
             "details": {
              "00:05": {
               "failure_message": "Unvisited",
               "policy": {
                "exploit": -0.684815778982457,
                "explore": 0,
                "explore_weight": 2,
                "overfit": 0.8024691358024691,
                "visits": 0
               },
               "score": -0.549543526343947,
               "selected": false
              }
             },
             "id": "141",
             "label": "AdaBoostingClassifier"
            },
            {
             "details": {
              "00:05": {
               "failure_message": "Unvisited",
               "policy": {
                "exploit": -0.2546315744860135,
                "explore": 0,
                "explore_weight": 2,
                "overfit": 0.8024691358024691,
                "visits": 0
               },
               "score": -0.20433397952581328,
               "selected": false
              }
             },
             "id": "142",
             "label": "BernoulliNB"
            },
            {
             "details": {
              "00:05": {
               "failure_message": "Unvisited",
               "policy": {
                "exploit": -0.7202871230688024,
                "explore": 0,
                "explore_weight": 2,
                "overfit": 0.8024691358024691,
                "visits": 0
               },
               "score": -0.5780081851786686,
               "selected": true
              },
              "100:00": {
               "failure_message": null,
               "policy": {
                "exploit": -0.9316017316017315,
                "explore": 0,
                "explore_weight": 2,
                "overfit": 0.8024691358024691,
                "visits": 0
               },
               "score": -0.7475816364705253,
               "selected": false
              }
             },
             "id": "143",
             "label": "DecisionTree"
            },
            {
             "details": {
              "00:05": {
               "failure_message": "Unvisited",
               "policy": {
                "exploit": -0.6901708699686854,
                "explore": 0,
                "explore_weight": 2,
                "overfit": 0.8024691358024691,
                "visits": 0
               },
               "score": -0.5538408215798093,
               "selected": false
              }
             },
             "id": "144",
             "label": "GradientBoostingClassifier"
            },
            {
             "details": {
              "00:05": {
               "failure_message": "Unvisited",
               "policy": {
                "exploit": -0.6024589785818733,
                "explore": 0,
                "explore_weight": 2,
                "overfit": 0.8024691358024691,
                "visits": 0
               },
               "score": -0.4834547358990341,
               "selected": false
              }
             },
             "id": "145",
             "label": "LibSVM_SVC"
            },
            {
             "details": {
              "00:05": {
               "failure_message": "Unvisited",
               "policy": {
                "exploit": -0.6370719766733021,
                "explore": 0,
                "explore_weight": 2,
                "overfit": 0.8024691358024691,
                "visits": 0
               },
               "score": -0.5112305985649955,
               "selected": false
              }
             },
             "id": "146",
             "label": "LinearDiscriminantAnalysis"
            },
            {
             "details": {
              "00:05": {
               "failure_message": "Unvisited",
               "policy": {
                "exploit": -0.5931756188919923,
                "explore": 0,
                "explore_weight": 2,
                "overfit": 0.8024691358024691,
                "visits": 0
               },
               "score": -0.4760051262713519,
               "selected": false
              }
             },
             "id": "147",
             "label": "MultinomialNB"
            },
            {
             "details": {
              "00:05": {
               "failure_message": "Unvisited",
               "policy": {
                "exploit": -0.6824914747003819,
                "explore": 0,
                "explore_weight": 2,
                "overfit": 0.8024691358024691,
                "visits": 0
               },
               "score": -0.5476783438953682,
               "selected": false
              }
             },
             "id": "148",
             "label": "RandomForest"
            },
            {
             "details": {
              "00:05": {
               "failure_message": "Unvisited",
               "policy": {
                "exploit": -0.6679724887439074,
                "explore": 0,
                "explore_weight": 2,
                "overfit": 0.8024691358024691,
                "visits": 0
               },
               "score": -0.5360273057821479,
               "selected": false
              }
             },
             "id": "149",
             "label": "SGDClassifier"
            },
            {
             "details": {
              "00:05": {
               "failure_message": "Unvisited",
               "policy": {
                "exploit": 0,
                "explore": 0,
                "explore_weight": 2,
                "overfit": 0.8024691358024691,
                "visits": 0
               },
               "score": 0,
               "selected": false
              }
             },
             "id": "150",
             "label": "Imputation"
            },
            {
             "details": {
              "00:05": {
               "failure_message": "Unvisited",
               "policy": {
                "exploit": 0,
                "explore": 0,
                "explore_weight": 2,
                "overfit": 0.8024691358024691,
                "visits": 0
               },
               "score": 0,
               "selected": false
              }
             },
             "id": "151",
             "label": "KNNImputer"
            },
            {
             "details": {
              "00:05": {
               "failure_message": "Unvisited",
               "policy": {
                "exploit": 0,
                "explore": 0,
                "explore_weight": 2,
                "overfit": 0.8024691358024691,
                "visits": 0
               },
               "score": 0,
               "selected": false
              }
             },
             "id": "152",
             "label": "MaxAbsScaler"
            },
            {
             "details": {
              "00:05": {
               "failure_message": "Unvisited",
               "policy": {
                "exploit": 0,
                "explore": 0,
                "explore_weight": 2,
                "overfit": 0.8024691358024691,
                "visits": 0
               },
               "score": 0,
               "selected": false
              }
             },
             "id": "153",
             "label": "MinMaxScaler"
            },
            {
             "details": {
              "00:05": {
               "failure_message": "Unvisited",
               "policy": {
                "exploit": 0,
                "explore": 0,
                "explore_weight": 2,
                "overfit": 0.8024691358024691,
                "visits": 0
               },
               "score": 0,
               "selected": false
              }
             },
             "id": "154",
             "label": "Normalizer"
            },
            {
             "details": {
              "00:05": {
               "failure_message": "Unvisited",
               "policy": {
                "exploit": 0,
                "explore": 0,
                "explore_weight": 2,
                "overfit": 0.8024691358024691,
                "visits": 0
               },
               "score": 0,
               "selected": false
              }
             },
             "id": "155",
             "label": "QuantileTransformer"
            },
            {
             "details": {
              "00:05": {
               "failure_message": "Unvisited",
               "policy": {
                "exploit": 0,
                "explore": 0,
                "explore_weight": 2,
                "overfit": 0.8024691358024691,
                "visits": 0
               },
               "score": 0,
               "selected": false
              }
             },
             "id": "156",
             "label": "RobustScaler"
            },
            {
             "details": {
              "00:05": {
               "failure_message": "Unvisited",
               "policy": {
                "exploit": 0,
                "explore": 0,
                "explore_weight": 2,
                "overfit": 0.8024691358024691,
                "visits": 0
               },
               "score": 0,
               "selected": false
              }
             },
             "id": "157",
             "label": "StandardScaler"
            },
            {
             "details": {
              "00:05": {
               "failure_message": "Unvisited",
               "policy": {
                "exploit": 0,
                "explore": 0,
                "explore_weight": 2,
                "overfit": 0.8024691358024691,
                "visits": 0
               },
               "score": 0,
               "selected": false
              }
             },
             "id": "158",
             "label": "BernoulliRBM"
            },
            {
             "details": {
              "00:05": {
               "failure_message": "Unvisited",
               "policy": {
                "exploit": 0,
                "explore": 0,
                "explore_weight": 2,
                "overfit": 0.8024691358024691,
                "visits": 0
               },
               "score": 0,
               "selected": false
              }
             },
             "id": "159",
             "label": "Binarizer"
            },
            {
             "details": {
              "00:05": {
               "failure_message": "Unvisited",
               "policy": {
                "exploit": 0,
                "explore": 0,
                "explore_weight": 2,
                "overfit": 0.8024691358024691,
                "visits": 0
               },
               "score": 0,
               "selected": false
              }
             },
             "id": "160",
             "label": "FactorAnalysis"
            },
            {
             "details": {
              "00:05": {
               "failure_message": "Unvisited",
               "policy": {
                "exploit": 0,
                "explore": 0,
                "explore_weight": 2,
                "overfit": 0.8024691358024691,
                "visits": 0
               },
               "score": 0,
               "selected": false
              }
             },
             "id": "161",
             "label": "FastICA"
            },
            {
             "details": {
              "00:05": {
               "failure_message": "Unvisited",
               "policy": {
                "exploit": 0,
                "explore": 0,
                "explore_weight": 2,
                "overfit": 0.8024691358024691,
                "visits": 0
               },
               "score": 0,
               "selected": false
              }
             },
             "id": "162",
             "label": "FeatureAgglomeration"
            },
            {
             "details": {
              "00:05": {
               "failure_message": "Unvisited",
               "policy": {
                "exploit": 0,
                "explore": 0,
                "explore_weight": 2,
                "overfit": 0.8024691358024691,
                "visits": 0
               },
               "score": 0,
               "selected": false
              }
             },
             "id": "163",
             "label": "GenericUnivariateSelect"
            },
            {
             "details": {
              "00:05": {
               "failure_message": "Unvisited",
               "policy": {
                "exploit": 0,
                "explore": 0,
                "explore_weight": 2,
                "overfit": 0.8024691358024691,
                "visits": 0
               },
               "score": 0,
               "selected": false
              }
             },
             "id": "164",
             "label": "KBinsDiscretizer"
            },
            {
             "details": {
              "00:05": {
               "failure_message": "Unvisited",
               "policy": {
                "exploit": 0,
                "explore": 0,
                "explore_weight": 2,
                "overfit": 0.8024691358024691,
                "visits": 0
               },
               "score": 0,
               "selected": false
              }
             },
             "id": "165",
             "label": "KernelPCA"
            },
            {
             "details": {
              "00:05": {
               "failure_message": "Unvisited",
               "policy": {
                "exploit": 0,
                "explore": 0,
                "explore_weight": 2,
                "overfit": 0.8024691358024691,
                "visits": 0
               },
               "score": 0,
               "selected": false
              }
             },
             "id": "166",
             "label": "MissingIndicator"
            },
            {
             "details": {
              "00:05": {
               "failure_message": "Unvisited",
               "policy": {
                "exploit": 0,
                "explore": 0,
                "explore_weight": 2,
                "overfit": 0.8024691358024691,
                "visits": 0
               },
               "score": 0,
               "selected": false
              }
             },
             "id": "167",
             "label": "OneHotEncoder"
            },
            {
             "details": {
              "00:05": {
               "failure_message": "Unvisited",
               "policy": {
                "exploit": 0,
                "explore": 0,
                "explore_weight": 2,
                "overfit": 0.8024691358024691,
                "visits": 0
               },
               "score": 0,
               "selected": false
              }
             },
             "id": "168",
             "label": "OrdinalEncoder"
            },
            {
             "details": {
              "00:05": {
               "failure_message": "Unvisited",
               "policy": {
                "exploit": 0,
                "explore": 0,
                "explore_weight": 2,
                "overfit": 0.8024691358024691,
                "visits": 0
               },
               "score": 0,
               "selected": false
              }
             },
             "id": "169",
             "label": "PCA"
            },
            {
             "details": {
              "00:05": {
               "failure_message": "Unvisited",
               "policy": {
                "exploit": 0,
                "explore": 0,
                "explore_weight": 2,
                "overfit": 0.8024691358024691,
                "visits": 0
               },
               "score": 0,
               "selected": false
              }
             },
             "id": "170",
             "label": "PolynomialFeatures"
            },
            {
             "details": {
              "00:05": {
               "failure_message": "Unvisited",
               "policy": {
                "exploit": 0,
                "explore": 0,
                "explore_weight": 2,
                "overfit": 0.8024691358024691,
                "visits": 0
               },
               "score": 0,
               "selected": false
              }
             },
             "id": "171",
             "label": "RandomTreesEmbedding"
            },
            {
             "details": {
              "00:05": {
               "failure_message": "Unvisited",
               "policy": {
                "exploit": 0,
                "explore": 0,
                "explore_weight": 2,
                "overfit": 0.8024691358024691,
                "visits": 0
               },
               "score": 0,
               "selected": false
              }
             },
             "id": "172",
             "label": "SelectKBest"
            },
            {
             "details": {
              "00:05": {
               "failure_message": "Unvisited",
               "policy": {
                "exploit": 0,
                "explore": 0,
                "explore_weight": 2,
                "overfit": 0.8024691358024691,
                "visits": 0
               },
               "score": 0,
               "selected": false
              }
             },
             "id": "173",
             "label": "SelectPercentileClassification"
            },
            {
             "details": {
              "00:05": {
               "failure_message": "Unvisited",
               "policy": {
                "exploit": 0,
                "explore": 0,
                "explore_weight": 2,
                "overfit": 0.8024691358024691,
                "visits": 0
               },
               "score": 0,
               "selected": false
              }
             },
             "id": "174",
             "label": "TruncatedSVD"
            },
            {
             "details": {
              "00:05": {
               "failure_message": "Unvisited",
               "policy": {
                "exploit": 0,
                "explore": 0,
                "explore_weight": 2,
                "overfit": 0.8024691358024691,
                "visits": 0
               },
               "score": 0,
               "selected": false
              }
             },
             "id": "175",
             "label": "VarianceThreshold"
            }
           ],
           "details": {
            "00:00": {
             "failure_message": "Unvisited",
             "policy": {
              "exploit": 0,
              "explore": 0,
              "explore_weight": 2,
              "overfit": 0.868312757201646,
              "visits": 0
             },
             "score": 0,
             "selected": false
            },
            "00:01": {
             "failure_message": "Unvisited",
             "policy": {
              "exploit": 0,
              "explore": -1.6015459273656616,
              "explore_weight": 2,
              "overfit": 0.868312757201646,
              "visits": 0
             },
             "score": -2.7812855199518896,
             "selected": false
            },
            "00:02": {
             "failure_message": "Unvisited",
             "policy": {
              "exploit": -0.6513099555434666,
              "explore": -1.853102049128743,
              "explore_weight": 2,
              "overfit": 0.868312757201646,
              "visits": 0
             },
             "score": -3.7836850426008275,
             "selected": false
            },
            "00:03": {
             "failure_message": "Unvisited",
             "policy": {
              "exploit": -0.7366023340321297,
              "explore": -1.9002415406058841,
              "explore_weight": 2,
              "overfit": 0.868312757201646,
              "visits": 0
             },
             "score": -3.939609146569804,
             "selected": false
            },
            "00:04": {
             "failure_message": "Unvisited",
             "policy": {
              "exploit": -0.8004186864807576,
              "explore": -1.9393813744835136,
              "explore_weight": 2,
              "overfit": 0.868312757201646,
              "visits": 0
             },
             "score": -4.062992933660421,
             "selected": false
            },
            "00:05": {
             "failure_message": "Unvisited",
             "policy": {
              "exploit": -0.7962925373833616,
              "explore": -2.001832456833606,
              "explore_weight": 2,
              "overfit": 0.868312757201646,
              "visits": 0
             },
             "score": -4.167864288772309,
             "selected": true
            },
            "100:00": {
             "failure_message": null,
             "policy": {
              "exploit": -0.9316017316017315,
              "explore": -2.0063279120660087,
              "explore_weight": 2,
              "overfit": 0.868312757201646,
              "visits": 0
             },
             "score": -4.293161910534243,
             "selected": false
            }
           },
           "id": "15",
           "label": "QuantileTransformer"
          },
          {
           "details": {
            "00:00": {
             "failure_message": "Unvisited",
             "policy": {
              "exploit": 0,
              "explore": 0,
              "explore_weight": 2,
              "overfit": 0.868312757201646,
              "visits": 0
             },
             "score": 0,
             "selected": false
            },
            "00:01": {
             "failure_message": "Unvisited",
             "policy": {
              "exploit": 0,
              "explore": -1.6015459273656616,
              "explore_weight": 2,
              "overfit": 0.868312757201646,
              "visits": 0
             },
             "score": -2.7812855199518896,
             "selected": false
            },
            "00:02": {
             "failure_message": "Unvisited",
             "policy": {
              "exploit": -0.53763380610875,
              "explore": -1.853102049128743,
              "explore_weight": 2,
              "overfit": 0.868312757201646,
              "visits": 0
             },
             "score": -3.684978591857102,
             "selected": false
            },
            "00:03": {
             "failure_message": "Unvisited",
             "policy": {
              "exploit": -0.77557608323231,
              "explore": -1.9002415406058841,
              "explore_weight": 2,
              "overfit": 0.868312757201646,
              "visits": 0
             },
             "score": -3.9734505501962984,
             "selected": false
            },
            "00:04": {
             "failure_message": "Unvisited",
             "policy": {
              "exploit": -0.6124201145475844,
              "explore": -1.9393813744835136,
              "explore_weight": 2,
              "overfit": 0.868312757201646,
              "visits": 0
             },
             "score": -3.899751375315156,
             "selected": false
            },
            "00:05": {
             "failure_message": "Unvisited",
             "policy": {
              "exploit": -0.6391523720482165,
              "explore": -2.001832456833606,
              "explore_weight": 2,
              "overfit": 0.868312757201646,
              "visits": 0
             },
             "score": -4.031417478543026,
             "selected": false
            }
           },
           "id": "16",
           "label": "RobustScaler"
          },
          {
           "details": {
            "00:00": {
             "failure_message": "Unvisited",
             "policy": {
              "exploit": 0,
              "explore": 0,
              "explore_weight": 2,
              "overfit": 0.868312757201646,
              "visits": 0
             },
             "score": 0,
             "selected": false
            },
            "00:01": {
             "failure_message": "Unvisited",
             "policy": {
              "exploit": 0,
              "explore": -1.6015459273656616,
              "explore_weight": 2,
              "overfit": 0.868312757201646,
              "visits": 0
             },
             "score": -2.7812855199518896,
             "selected": false
            },
            "00:02": {
             "failure_message": "Unvisited",
             "policy": {
              "exploit": -0.5590896829409386,
              "explore": -1.853102049128743,
              "explore_weight": 2,
              "overfit": 0.868312757201646,
              "visits": 0
             },
             "score": -3.7036090034274385,
             "selected": false
            },
            "00:03": {
             "failure_message": "Unvisited",
             "policy": {
              "exploit": -0.8207286844252246,
              "explore": -1.9002415406058841,
              "explore_weight": 2,
              "overfit": 0.868312757201646,
              "visits": 0
             },
             "score": -4.012657129832944,
             "selected": false
            },
            "00:04": {
             "failure_message": "Unvisited",
             "policy": {
              "exploit": -0.4681653879970602,
              "explore": -1.9393813744835136,
              "explore_weight": 2,
              "overfit": 0.868312757201646,
              "visits": 0
             },
             "score": -3.7744931559647013,
             "selected": false
            },
            "00:05": {
             "failure_message": "Unvisited",
             "policy": {
              "exploit": -0.515193969238705,
              "explore": -2.001832456833606,
              "explore_weight": 2,
              "overfit": 0.868312757201646,
              "visits": 0
             },
             "score": -3.923782816021187,
             "selected": false
            }
           },
           "id": "17",
           "label": "StandardScaler"
          },
          {
           "details": {
            "00:00": {
             "failure_message": "Unvisited",
             "policy": {
              "exploit": 0,
              "explore": 0,
              "explore_weight": 2,
              "overfit": 0.868312757201646,
              "visits": 0
             },
             "score": 0,
             "selected": false
            },
            "00:01": {
             "failure_message": "Unvisited",
             "policy": {
              "exploit": 0,
              "explore": -1.6015459273656616,
              "explore_weight": 2,
              "overfit": 0.868312757201646,
              "visits": 0
             },
             "score": -2.7812855199518896,
             "selected": false
            },
            "00:02": {
             "failure_message": "Unvisited",
             "policy": {
              "exploit": -0.4222558215085901,
              "explore": -1.853102049128743,
              "explore_weight": 2,
              "overfit": 0.868312757201646,
              "visits": 0
             },
             "score": -3.5847944159285676,
             "selected": false
            },
            "00:03": {
             "failure_message": "Unvisited",
             "policy": {
              "exploit": -0.2642141120886937,
              "explore": -1.9002415406058841,
              "explore_weight": 2,
              "overfit": 0.868312757201646,
              "visits": 0
             },
             "score": -3.529428427104516,
             "selected": false
            },
            "00:04": {
             "failure_message": "Unvisited",
             "policy": {
              "exploit": -0.2805238098887183,
              "explore": -1.9393813744835136,
              "explore_weight": 2,
              "overfit": 0.868312757201646,
              "visits": 0
             },
             "score": -3.6115615799117786,
             "selected": false
            },
            "00:05": {
             "failure_message": "Unvisited",
             "policy": {
              "exploit": -0.5054323389896583,
              "explore": -2.001832456833606,
              "explore_weight": 2,
              "overfit": 0.868312757201646,
              "visits": 0
             },
             "score": -3.9153066679448543,
             "selected": false
            }
           },
           "id": "18",
           "label": "BernoulliRBM"
          },
          {
           "details": {
            "00:00": {
             "failure_message": "Unvisited",
             "policy": {
              "exploit": 0,
              "explore": 0,
              "explore_weight": 2,
              "overfit": 0.868312757201646,
              "visits": 0
             },
             "score": 0,
             "selected": false
            },
            "00:01": {
             "failure_message": "Unvisited",
             "policy": {
              "exploit": 0,
              "explore": -1.6015459273656616,
              "explore_weight": 2,
              "overfit": 0.868312757201646,
              "visits": 0
             },
             "score": -2.7812855199518896,
             "selected": false
            },
            "00:02": {
             "failure_message": "Unvisited",
             "policy": {
              "exploit": -0.376615945008035,
              "explore": -1.853102049128743,
              "explore_weight": 2,
              "overfit": 0.868312757201646,
              "visits": 0
             },
             "score": -3.545164728926028,
             "selected": false
            },
            "00:03": {
             "failure_message": "Unvisited",
             "policy": {
              "exploit": -0.402584119242684,
              "explore": -1.9002415406058841,
              "explore_weight": 2,
              "overfit": 0.868312757201646,
              "visits": 0
             },
             "score": -3.6495768695304087,
             "selected": false
            },
            "00:04": {
             "failure_message": "Unvisited",
             "policy": {
              "exploit": -0.5108394504529048,
              "explore": -1.9393813744835136,
              "explore_weight": 2,
              "overfit": 0.868312757201646,
              "visits": 0
             },
             "score": -3.811547588796731,
             "selected": false
            },
            "00:05": {
             "failure_message": "Unvisited",
             "policy": {
              "exploit": -0.4405786281042426,
              "explore": -2.001832456833606,
              "explore_weight": 2,
              "overfit": 0.868312757201646,
              "visits": 0
             },
             "score": -3.8589933634311806,
             "selected": false
            }
           },
           "id": "19",
           "label": "Binarizer"
          },
          {
           "details": {
            "00:00": {
             "failure_message": "Unvisited",
             "policy": {
              "exploit": 0,
              "explore": 0,
              "explore_weight": 2,
              "overfit": 0.868312757201646,
              "visits": 0
             },
             "score": 0,
             "selected": false
            },
            "00:01": {
             "failure_message": "Unvisited",
             "policy": {
              "exploit": 0,
              "explore": -1.6015459273656616,
              "explore_weight": 2,
              "overfit": 0.868312757201646,
              "visits": 0
             },
             "score": -2.7812855199518896,
             "selected": false
            },
            "00:02": {
             "failure_message": "Unvisited",
             "policy": {
              "exploit": -0.5422100257119375,
              "explore": -1.853102049128743,
              "explore_weight": 2,
              "overfit": 0.868312757201646,
              "visits": 0
             },
             "score": -3.6889521817183057,
             "selected": false
            },
            "00:03": {
             "failure_message": "Unvisited",
             "policy": {
              "exploit": -0.6373792995238785,
              "explore": -1.9002415406058841,
              "explore_weight": 2,
              "overfit": 0.868312757201646,
              "visits": 0
             },
             "score": -3.8534525198980303,
             "selected": false
            },
            "00:04": {
             "failure_message": "Unvisited",
             "policy": {
              "exploit": -0.7376775504999501,
              "explore": -1.9393813744835136,
              "explore_weight": 2,
              "overfit": 0.868312757201646,
              "visits": 0
             },
             "score": -4.008514004886964,
             "selected": false
            },
            "00:05": {
             "failure_message": "Unvisited",
             "policy": {
              "exploit": -0.5237993221414322,
              "explore": -2.001832456833606,
              "explore_weight": 2,
              "overfit": 0.868312757201646,
              "visits": 0
             },
             "score": -3.931254953726847,
             "selected": false
            }
           },
           "id": "20",
           "label": "FactorAnalysis"
          },
          {
           "details": {
            "00:00": {
             "failure_message": "Unvisited",
             "policy": {
              "exploit": 0,
              "explore": 0,
              "explore_weight": 2,
              "overfit": 0.868312757201646,
              "visits": 0
             },
             "score": 0,
             "selected": false
            },
            "00:01": {
             "failure_message": "Unvisited",
             "policy": {
              "exploit": 0,
              "explore": -1.6015459273656616,
              "explore_weight": 2,
              "overfit": 0.868312757201646,
              "visits": 0
             },
             "score": -2.7812855199518896,
             "selected": false
            },
            "00:02": {
             "failure_message": "Unvisited",
             "policy": {
              "exploit": -0.7265061480699897,
              "explore": -1.853102049128743,
              "explore_weight": 2,
              "overfit": 0.868312757201646,
              "visits": 0
             },
             "score": -3.848978855864598,
             "selected": false
            },
            "00:03": {
             "failure_message": "Unvisited",
             "policy": {
              "exploit": -0.7151515325749239,
              "explore": -1.9002415406058841,
              "explore_weight": 2,
              "overfit": 0.868312757201646,
              "visits": 0
             },
             "score": -3.9209831420123127,
             "selected": false
            },
            "00:04": {
             "failure_message": "Unvisited",
             "policy": {
              "exploit": -0.5670890267991596,
              "explore": -1.9393813744835136,
              "explore_weight": 2,
              "overfit": 0.868312757201646,
              "visits": 0
             },
             "score": -3.8603898135253716,
             "selected": false
            },
            "00:05": {
             "failure_message": "Unvisited",
             "policy": {
              "exploit": -0.6325643219641028,
              "explore": -2.001832456833606,
              "explore_weight": 2,
              "overfit": 0.868312757201646,
              "visits": 0
             },
             "score": -4.025696990609907,
             "selected": false
            }
           },
           "id": "21",
           "label": "FastICA"
          },
          {
           "details": {
            "00:00": {
             "failure_message": "Unvisited",
             "policy": {
              "exploit": 0,
              "explore": 0,
              "explore_weight": 2,
              "overfit": 0.868312757201646,
              "visits": 0
             },
             "score": 0,
             "selected": false
            },
            "00:01": {
             "failure_message": "Unvisited",
             "policy": {
              "exploit": 0,
              "explore": -1.6015459273656616,
              "explore_weight": 2,
              "overfit": 0.868312757201646,
              "visits": 0
             },
             "score": -2.7812855199518896,
             "selected": false
            },
            "00:02": {
             "failure_message": "Unvisited",
             "policy": {
              "exploit": -0.6201517039139585,
              "explore": -1.853102049128743,
              "explore_weight": 2,
              "overfit": 0.868312757201646,
              "visits": 0
             },
             "score": -3.7566299352188257,
             "selected": false
            },
            "00:03": {
             "failure_message": "Unvisited",
             "policy": {
              "exploit": -0.4769845721694484,
              "explore": -1.9002415406058841,
              "explore_weight": 2,
              "overfit": 0.868312757201646,
              "visits": 0
             },
             "score": -3.7141797319482985,
             "selected": false
            },
            "00:04": {
             "failure_message": "Unvisited",
             "policy": {
              "exploit": -0.6565795683210908,
              "explore": -1.9393813744835136,
              "explore_weight": 2,
              "overfit": 0.868312757201646,
              "visits": 0
             },
             "score": -3.938095592377748,
             "selected": false
            },
            "00:05": {
             "failure_message": "Unvisited",
             "policy": {
              "exploit": -0.5834641079514804,
              "explore": -2.001832456833606,
              "explore_weight": 2,
              "overfit": 0.868312757201646,
              "visits": 0
             },
             "score": -3.983062648401415,
             "selected": false
            }
           },
           "id": "22",
           "label": "FeatureAgglomeration"
          },
          {
           "details": {
            "00:00": {
             "failure_message": "Unvisited",
             "policy": {
              "exploit": 0,
              "explore": 0,
              "explore_weight": 2,
              "overfit": 0.868312757201646,
              "visits": 0
             },
             "score": 0,
             "selected": false
            },
            "00:01": {
             "failure_message": "Unvisited",
             "policy": {
              "exploit": 0,
              "explore": -1.6015459273656616,
              "explore_weight": 2,
              "overfit": 0.868312757201646,
              "visits": 0
             },
             "score": -2.7812855199518896,
             "selected": false
            },
            "00:02": {
             "failure_message": "Unvisited",
             "policy": {
              "exploit": -0.5787950547034135,
              "explore": -1.853102049128743,
              "explore_weight": 2,
              "overfit": 0.868312757201646,
              "visits": 0
             },
             "score": -3.720719429114197,
             "selected": false
            },
            "00:03": {
             "failure_message": "Unvisited",
             "policy": {
              "exploit": -0.6869569672624051,
              "explore": -1.9002415406058841,
              "explore_weight": 2,
              "overfit": 0.868312757201646,
              "visits": 0
             },
             "score": -3.8965014412676977,
             "selected": false
            },
            "00:04": {
             "failure_message": "Unvisited",
             "policy": {
              "exploit": -0.44612495944177466,
              "explore": -1.9393813744835136,
              "explore_weight": 2,
              "overfit": 0.868312757201646,
              "visits": 0
             },
             "score": -3.7553551706759554,
             "selected": false
            },
            "00:05": {
             "failure_message": "Unvisited",
             "policy": {
              "exploit": -0.43230815821674407,
              "explore": -2.001832456833606,
              "explore_weight": 2,
              "overfit": 0.868312757201646,
              "visits": 0
             },
             "score": -3.8518120089198127,
             "selected": false
            }
           },
           "id": "23",
           "label": "GenericUnivariateSelect"
          },
          {
           "details": {
            "00:00": {
             "failure_message": "Unvisited",
             "policy": {
              "exploit": 0,
              "explore": 0,
              "explore_weight": 2,
              "overfit": 0.868312757201646,
              "visits": 0
             },
             "score": 0,
             "selected": false
            },
            "00:01": {
             "failure_message": "Unvisited",
             "policy": {
              "exploit": 0,
              "explore": -1.6015459273656616,
              "explore_weight": 2,
              "overfit": 0.868312757201646,
              "visits": 0
             },
             "score": -2.7812855199518896,
             "selected": false
            },
            "00:02": {
             "failure_message": "Unvisited",
             "policy": {
              "exploit": -0.6582333882802408,
              "explore": -1.853102049128743,
              "explore_weight": 2,
              "overfit": 0.868312757201646,
              "visits": 0
             },
             "score": -3.7896967475697956,
             "selected": false
            },
            "00:03": {
             "failure_message": "Unvisited",
             "policy": {
              "exploit": -0.6416900116169766,
              "explore": -1.9002415406058841,
              "explore_weight": 2,
              "overfit": 0.868312757201646,
              "visits": 0
             },
             "score": -3.8571955662010913,
             "selected": false
            },
            "00:04": {
             "failure_message": "Unvisited",
             "policy": {
              "exploit": -0.6436887412876178,
              "explore": -1.9393813744835136,
              "explore_weight": 2,
              "overfit": 0.868312757201646,
              "visits": 0
             },
             "score": -3.926902322813704,
             "selected": false
            },
            "00:05": {
             "failure_message": "Unvisited",
             "policy": {
              "exploit": -0.48165228866419746,
              "explore": -2.001832456833606,
              "explore_weight": 2,
              "overfit": 0.868312757201646,
              "visits": 0
             },
             "score": -3.8946581468803596,
             "selected": false
            }
           },
           "id": "24",
           "label": "KBinsDiscretizer"
          },
          {
           "children": [
            {
             "details": {
              "00:04": {
               "failure_message": "Unvisited",
               "policy": {
                "exploit": -0.5256523349569486,
                "explore": 0,
                "explore_weight": 2,
                "overfit": 0.8024691358024691,
                "visits": 0
               },
               "score": -0.4218197749654526,
               "selected": false
              }
             },
             "id": "106",
             "label": "AdaBoostingClassifier"
            },
            {
             "details": {
              "00:04": {
               "failure_message": "Unvisited",
               "policy": {
                "exploit": -0.8712481972545721,
                "explore": 0,
                "explore_weight": 2,
                "overfit": 0.8024691358024691,
                "visits": 0
               },
               "score": -0.6991497879203357,
               "selected": false
              }
             },
             "id": "107",
             "label": "BernoulliNB"
            },
            {
             "details": {
              "00:04": {
               "failure_message": "Unvisited",
               "policy": {
                "exploit": -0.7768700477168341,
                "explore": 0,
                "explore_weight": 2,
                "overfit": 0.8024691358024691,
                "visits": 0
               },
               "score": -0.6234142358221508,
               "selected": false
              }
             },
             "id": "108",
             "label": "DecisionTree"
            },
            {
             "details": {
              "00:04": {
               "failure_message": "Unvisited",
               "policy": {
                "exploit": -0.8073803830831324,
                "explore": 0,
                "explore_weight": 2,
                "overfit": 0.8024691358024691,
                "visits": 0
               },
               "score": -0.6478978382765878,
               "selected": false
              }
             },
             "id": "109",
             "label": "GradientBoostingClassifier"
            },
            {
             "details": {
              "00:04": {
               "failure_message": "Unvisited",
               "policy": {
                "exploit": -0.6399420620157795,
                "explore": 0,
                "explore_weight": 2,
                "overfit": 0.8024691358024691,
                "visits": 0
               },
               "score": -0.5135337534694527,
               "selected": false
              }
             },
             "id": "110",
             "label": "LibSVM_SVC"
            },
            {
             "details": {
              "00:04": {
               "failure_message": "Unvisited",
               "policy": {
                "exploit": -0.8234560775874031,
                "explore": 0,
                "explore_weight": 2,
                "overfit": 0.8024691358024691,
                "visits": 0
               },
               "score": -0.6607980869528544,
               "selected": false
              }
             },
             "id": "111",
             "label": "LinearDiscriminantAnalysis"
            },
            {
             "details": {
              "00:04": {
               "failure_message": "Unvisited",
               "policy": {
                "exploit": -0.818949440512774,
                "explore": 0,
                "explore_weight": 2,
                "overfit": 0.8024691358024691,
                "visits": 0
               },
               "score": -0.6571816497942014,
               "selected": false
              }
             },
             "id": "112",
             "label": "MultinomialNB"
            },
            {
             "details": {
              "00:04": {
               "failure_message": "Unvisited",
               "policy": {
                "exploit": -1.032038581851432,
                "explore": 0,
                "explore_weight": 2,
                "overfit": 0.8024691358024691,
                "visits": 0
               },
               "score": -0.8281791088931244,
               "selected": true
              },
              "00:05": {
               "failure_message": null,
               "policy": {
                "exploit": -0.6586043586043586,
                "explore": -0.5464673624331794,
                "explore_weight": 2,
                "overfit": 0.8024691358024691,
                "visits": 5
               },
               "score": -1.4055560546369954,
               "selected": false
              },
              "100:00": {
               "failure_message": null,
               "policy": {
                "exploit": -0.6586043586043586,
                "explore": -0.5464673624331794,
                "explore_weight": 2,
                "overfit": 0.8024691358024691,
                "visits": 5
               },
               "score": -1.4055560546369954,
               "selected": false
              }
             },
             "id": "113",
             "label": "RandomForest"
            },
            {
             "details": {
              "00:04": {
               "failure_message": "Unvisited",
               "policy": {
                "exploit": -0.6814778240208327,
                "explore": 0,
                "explore_weight": 2,
                "overfit": 0.8024691358024691,
                "visits": 0
               },
               "score": -0.5468649205105447,
               "selected": false
              }
             },
             "id": "114",
             "label": "SGDClassifier"
            },
            {
             "details": {
              "00:04": {
               "failure_message": "Unvisited",
               "policy": {
                "exploit": 0,
                "explore": 0,
                "explore_weight": 2,
                "overfit": 0.8024691358024691,
                "visits": 0
               },
               "score": 0,
               "selected": false
              }
             },
             "id": "115",
             "label": "Imputation"
            },
            {
             "details": {
              "00:04": {
               "failure_message": "Unvisited",
               "policy": {
                "exploit": 0,
                "explore": 0,
                "explore_weight": 2,
                "overfit": 0.8024691358024691,
                "visits": 0
               },
               "score": 0,
               "selected": false
              }
             },
             "id": "116",
             "label": "KNNImputer"
            },
            {
             "details": {
              "00:04": {
               "failure_message": "Unvisited",
               "policy": {
                "exploit": 0,
                "explore": 0,
                "explore_weight": 2,
                "overfit": 0.8024691358024691,
                "visits": 0
               },
               "score": 0,
               "selected": false
              }
             },
             "id": "117",
             "label": "MaxAbsScaler"
            },
            {
             "details": {
              "00:04": {
               "failure_message": "Unvisited",
               "policy": {
                "exploit": 0,
                "explore": 0,
                "explore_weight": 2,
                "overfit": 0.8024691358024691,
                "visits": 0
               },
               "score": 0,
               "selected": false
              }
             },
             "id": "118",
             "label": "MinMaxScaler"
            },
            {
             "details": {
              "00:04": {
               "failure_message": "Unvisited",
               "policy": {
                "exploit": 0,
                "explore": 0,
                "explore_weight": 2,
                "overfit": 0.8024691358024691,
                "visits": 0
               },
               "score": 0,
               "selected": false
              }
             },
             "id": "119",
             "label": "Normalizer"
            },
            {
             "details": {
              "00:04": {
               "failure_message": "Unvisited",
               "policy": {
                "exploit": 0,
                "explore": 0,
                "explore_weight": 2,
                "overfit": 0.8024691358024691,
                "visits": 0
               },
               "score": 0,
               "selected": false
              }
             },
             "id": "120",
             "label": "QuantileTransformer"
            },
            {
             "details": {
              "00:04": {
               "failure_message": "Unvisited",
               "policy": {
                "exploit": 0,
                "explore": 0,
                "explore_weight": 2,
                "overfit": 0.8024691358024691,
                "visits": 0
               },
               "score": 0,
               "selected": false
              }
             },
             "id": "121",
             "label": "RobustScaler"
            },
            {
             "details": {
              "00:04": {
               "failure_message": "Unvisited",
               "policy": {
                "exploit": 0,
                "explore": 0,
                "explore_weight": 2,
                "overfit": 0.8024691358024691,
                "visits": 0
               },
               "score": 0,
               "selected": false
              }
             },
             "id": "122",
             "label": "StandardScaler"
            },
            {
             "details": {
              "00:04": {
               "failure_message": "Unvisited",
               "policy": {
                "exploit": 0,
                "explore": 0,
                "explore_weight": 2,
                "overfit": 0.8024691358024691,
                "visits": 0
               },
               "score": 0,
               "selected": false
              }
             },
             "id": "123",
             "label": "BernoulliRBM"
            },
            {
             "details": {
              "00:04": {
               "failure_message": "Unvisited",
               "policy": {
                "exploit": 0,
                "explore": 0,
                "explore_weight": 2,
                "overfit": 0.8024691358024691,
                "visits": 0
               },
               "score": 0,
               "selected": false
              }
             },
             "id": "124",
             "label": "Binarizer"
            },
            {
             "details": {
              "00:04": {
               "failure_message": "Unvisited",
               "policy": {
                "exploit": 0,
                "explore": 0,
                "explore_weight": 2,
                "overfit": 0.8024691358024691,
                "visits": 0
               },
               "score": 0,
               "selected": false
              }
             },
             "id": "125",
             "label": "FactorAnalysis"
            },
            {
             "details": {
              "00:04": {
               "failure_message": "Unvisited",
               "policy": {
                "exploit": 0,
                "explore": 0,
                "explore_weight": 2,
                "overfit": 0.8024691358024691,
                "visits": 0
               },
               "score": 0,
               "selected": false
              }
             },
             "id": "126",
             "label": "FastICA"
            },
            {
             "details": {
              "00:04": {
               "failure_message": "Unvisited",
               "policy": {
                "exploit": 0,
                "explore": 0,
                "explore_weight": 2,
                "overfit": 0.8024691358024691,
                "visits": 0
               },
               "score": 0,
               "selected": false
              }
             },
             "id": "127",
             "label": "FeatureAgglomeration"
            },
            {
             "details": {
              "00:04": {
               "failure_message": "Unvisited",
               "policy": {
                "exploit": 0,
                "explore": 0,
                "explore_weight": 2,
                "overfit": 0.8024691358024691,
                "visits": 0
               },
               "score": 0,
               "selected": false
              }
             },
             "id": "128",
             "label": "GenericUnivariateSelect"
            },
            {
             "details": {
              "00:04": {
               "failure_message": "Unvisited",
               "policy": {
                "exploit": 0,
                "explore": 0,
                "explore_weight": 2,
                "overfit": 0.8024691358024691,
                "visits": 0
               },
               "score": 0,
               "selected": false
              }
             },
             "id": "129",
             "label": "KBinsDiscretizer"
            },
            {
             "details": {
              "00:04": {
               "failure_message": "Unvisited",
               "policy": {
                "exploit": 0,
                "explore": 0,
                "explore_weight": 2,
                "overfit": 0.8024691358024691,
                "visits": 0
               },
               "score": 0,
               "selected": false
              }
             },
             "id": "130",
             "label": "KernelPCA"
            },
            {
             "details": {
              "00:04": {
               "failure_message": "Unvisited",
               "policy": {
                "exploit": 0,
                "explore": 0,
                "explore_weight": 2,
                "overfit": 0.8024691358024691,
                "visits": 0
               },
               "score": 0,
               "selected": false
              }
             },
             "id": "131",
             "label": "MissingIndicator"
            },
            {
             "details": {
              "00:04": {
               "failure_message": "Unvisited",
               "policy": {
                "exploit": 0,
                "explore": 0,
                "explore_weight": 2,
                "overfit": 0.8024691358024691,
                "visits": 0
               },
               "score": 0,
               "selected": false
              }
             },
             "id": "132",
             "label": "OneHotEncoder"
            },
            {
             "details": {
              "00:04": {
               "failure_message": "Unvisited",
               "policy": {
                "exploit": 0,
                "explore": 0,
                "explore_weight": 2,
                "overfit": 0.8024691358024691,
                "visits": 0
               },
               "score": 0,
               "selected": false
              }
             },
             "id": "133",
             "label": "OrdinalEncoder"
            },
            {
             "details": {
              "00:04": {
               "failure_message": "Unvisited",
               "policy": {
                "exploit": 0,
                "explore": 0,
                "explore_weight": 2,
                "overfit": 0.8024691358024691,
                "visits": 0
               },
               "score": 0,
               "selected": false
              }
             },
             "id": "134",
             "label": "PCA"
            },
            {
             "details": {
              "00:04": {
               "failure_message": "Unvisited",
               "policy": {
                "exploit": 0,
                "explore": 0,
                "explore_weight": 2,
                "overfit": 0.8024691358024691,
                "visits": 0
               },
               "score": 0,
               "selected": false
              }
             },
             "id": "135",
             "label": "PolynomialFeatures"
            },
            {
             "details": {
              "00:04": {
               "failure_message": "Unvisited",
               "policy": {
                "exploit": 0,
                "explore": 0,
                "explore_weight": 2,
                "overfit": 0.8024691358024691,
                "visits": 0
               },
               "score": 0,
               "selected": false
              }
             },
             "id": "136",
             "label": "RandomTreesEmbedding"
            },
            {
             "details": {
              "00:04": {
               "failure_message": "Unvisited",
               "policy": {
                "exploit": 0,
                "explore": 0,
                "explore_weight": 2,
                "overfit": 0.8024691358024691,
                "visits": 0
               },
               "score": 0,
               "selected": false
              }
             },
             "id": "137",
             "label": "SelectKBest"
            },
            {
             "details": {
              "00:04": {
               "failure_message": "Unvisited",
               "policy": {
                "exploit": 0,
                "explore": 0,
                "explore_weight": 2,
                "overfit": 0.8024691358024691,
                "visits": 0
               },
               "score": 0,
               "selected": false
              }
             },
             "id": "138",
             "label": "SelectPercentileClassification"
            },
            {
             "details": {
              "00:04": {
               "failure_message": "Unvisited",
               "policy": {
                "exploit": 0,
                "explore": 0,
                "explore_weight": 2,
                "overfit": 0.8024691358024691,
                "visits": 0
               },
               "score": 0,
               "selected": false
              }
             },
             "id": "139",
             "label": "TruncatedSVD"
            },
            {
             "details": {
              "00:04": {
               "failure_message": "Unvisited",
               "policy": {
                "exploit": 0,
                "explore": 0,
                "explore_weight": 2,
                "overfit": 0.8024691358024691,
                "visits": 0
               },
               "score": 0,
               "selected": false
              }
             },
             "id": "140",
             "label": "VarianceThreshold"
            }
           ],
           "details": {
            "00:00": {
             "failure_message": "Unvisited",
             "policy": {
              "exploit": 0,
              "explore": 0,
              "explore_weight": 2,
              "overfit": 0.868312757201646,
              "visits": 0
             },
             "score": 0,
             "selected": false
            },
            "00:01": {
             "failure_message": "Unvisited",
             "policy": {
              "exploit": 0,
              "explore": -1.6015459273656616,
              "explore_weight": 2,
              "overfit": 0.868312757201646,
              "visits": 0
             },
             "score": -2.7812855199518896,
             "selected": false
            },
            "00:02": {
             "failure_message": "Unvisited",
             "policy": {
              "exploit": -0.5867126019510749,
              "explore": -1.853102049128743,
              "explore_weight": 2,
              "overfit": 0.868312757201646,
              "visits": 0
             },
             "score": -3.727594336395088,
             "selected": false
            },
            "00:03": {
             "failure_message": "Unvisited",
             "policy": {
              "exploit": -0.7693037289219088,
              "explore": -1.9002415406058841,
              "explore_weight": 2,
              "overfit": 0.868312757201646,
              "visits": 0
             },
             "score": -3.968004184930888,
             "selected": false
            },
            "00:04": {
             "failure_message": "Unvisited",
             "policy": {
              "exploit": -0.8863884838242067,
              "explore": -1.9393813744835136,
              "explore_weight": 2,
              "overfit": 0.868312757201646,
              "visits": 0
             },
             "score": -4.1376416054277785,
             "selected": true
            },
            "00:05": {
             "failure_message": null,
             "policy": {
              "exploit": -0.6586043586043586,
              "explore": -0.8053798584219568,
              "explore_weight": 2,
              "overfit": 0.868312757201646,
              "visits": 5
             },
             "score": -1.9705177774468534,
             "selected": false
            },
            "100:00": {
             "failure_message": null,
             "policy": {
              "exploit": -0.6586043586043586,
              "explore": -0.8190799402108797,
              "explore_weight": 2,
              "overfit": 0.868312757201646,
              "visits": 5
             },
             "score": -1.9943096890309089,
             "selected": false
            }
           },
           "id": "25",
           "label": "KernelPCA"
          },
          {
           "details": {
            "00:00": {
             "failure_message": "Unvisited",
             "policy": {
              "exploit": 0,
              "explore": 0,
              "explore_weight": 2,
              "overfit": 0.868312757201646,
              "visits": 0
             },
             "score": 0,
             "selected": false
            },
            "00:01": {
             "failure_message": "Unvisited",
             "policy": {
              "exploit": 0,
              "explore": -1.6015459273656616,
              "explore_weight": 2,
              "overfit": 0.868312757201646,
              "visits": 0
             },
             "score": -2.7812855199518896,
             "selected": false
            },
            "00:02": {
             "failure_message": "Unvisited",
             "policy": {
              "exploit": -0.83894209135222,
              "explore": -1.853102049128743,
              "explore_weight": 2,
              "overfit": 0.868312757201646,
              "visits": 0
             },
             "score": -3.9466084197845595,
             "selected": false
            },
            "00:03": {
             "failure_message": "Unvisited",
             "policy": {
              "exploit": -0.5021757028033271,
              "explore": -1.9002415406058841,
              "explore_weight": 2,
              "overfit": 0.868312757201646,
              "visits": 0
             },
             "score": -3.736053512046029,
             "selected": false
            },
            "00:04": {
             "failure_message": "Unvisited",
             "policy": {
              "exploit": -0.8372790563244387,
              "explore": -1.9393813744835136,
              "explore_weight": 2,
              "overfit": 0.868312757201646,
              "visits": 0
             },
             "score": -4.094999263030862,
             "selected": false
            },
            "00:05": {
             "failure_message": "Unvisited",
             "policy": {
              "exploit": -0.8210200390597777,
              "explore": -1.98288316164224,
              "explore_weight": 2,
              "overfit": 0.868312757201646,
              "visits": 0
             },
             "score": -4.15642766442238,
             "selected": false
            },
            "100:00": {
             "failure_message": "Missing MF",
             "policy": {
              "exploit": 0,
              "explore": 0,
              "explore_weight": 2,
              "overfit": 0.868312757201646,
              "visits": 0
             },
             "score": 0,
             "selected": false
            }
           },
           "id": "26",
           "label": "MissingIndicator"
          },
          {
           "details": {
            "00:00": {
             "failure_message": "Unvisited",
             "policy": {
              "exploit": 0,
              "explore": 0,
              "explore_weight": 2,
              "overfit": 0.868312757201646,
              "visits": 0
             },
             "score": 0,
             "selected": false
            },
            "00:01": {
             "failure_message": "Unvisited",
             "policy": {
              "exploit": 0,
              "explore": -1.6015459273656616,
              "explore_weight": 2,
              "overfit": 0.868312757201646,
              "visits": 0
             },
             "score": -2.7812855199518896,
             "selected": false
            },
            "00:02": {
             "failure_message": "Unvisited",
             "policy": {
              "exploit": -0.5135374968114869,
              "explore": -1.853102049128743,
              "explore_weight": 2,
              "overfit": 0.868312757201646,
              "visits": 0
             },
             "score": -3.6640554590928116,
             "selected": false
            },
            "00:03": {
             "failure_message": "Unvisited",
             "policy": {
              "exploit": -0.7184448336770362,
              "explore": -1.9002415406058841,
              "explore_weight": 2,
              "overfit": 0.868312757201646,
              "visits": 0
             },
             "score": -3.923842757372583,
             "selected": false
            },
            "00:04": {
             "failure_message": "Unvisited",
             "policy": {
              "exploit": -0.8405555899176719,
              "explore": -1.9393813744835136,
              "explore_weight": 2,
              "overfit": 0.868312757201646,
              "visits": 0
             },
             "score": -4.0978443189492655,
             "selected": false
            },
            "00:05": {
             "failure_message": "Unvisited",
             "policy": {
              "exploit": -0.686628908061974,
              "explore": -2.001832456833606,
              "explore_weight": 2,
              "overfit": 0.868312757201646,
              "visits": 0
             },
             "score": -4.072641960431515,
             "selected": false
            }
           },
           "id": "27",
           "label": "OneHotEncoder"
          },
          {
           "details": {
            "00:00": {
             "failure_message": "Unvisited",
             "policy": {
              "exploit": 0,
              "explore": 0,
              "explore_weight": 2,
              "overfit": 0.868312757201646,
              "visits": 0
             },
             "score": 0,
             "selected": false
            },
            "00:01": {
             "failure_message": "Unvisited",
             "policy": {
              "exploit": 0,
              "explore": -1.6015459273656616,
              "explore_weight": 2,
              "overfit": 0.868312757201646,
              "visits": 0
             },
             "score": -2.7812855199518896,
             "selected": false
            },
            "00:02": {
             "failure_message": "Unvisited",
             "policy": {
              "exploit": -0.7080843261963976,
              "explore": -1.853102049128743,
              "explore_weight": 2,
              "overfit": 0.868312757201646,
              "visits": 0
             },
             "score": -3.8329829529208617,
             "selected": false
            },
            "00:03": {
             "failure_message": "Unvisited",
             "policy": {
              "exploit": -0.740427942185873,
              "explore": -1.9002415406058841,
              "explore_weight": 2,
              "overfit": 0.868312757201646,
              "visits": 0
             },
             "score": -3.9429309709337543,
             "selected": false
            },
            "00:04": {
             "failure_message": "Unvisited",
             "policy": {
              "exploit": -0.515980514760264,
              "explore": -1.9393813744835136,
              "explore_weight": 2,
              "overfit": 0.868312757201646,
              "visits": 0
             },
             "score": -3.8160116405204043,
             "selected": false
            },
            "00:05": {
             "failure_message": "Unvisited",
             "policy": {
              "exploit": -0.7707037062734549,
              "explore": -2.001832456833606,
              "explore_weight": 2,
              "overfit": 0.868312757201646,
              "visits": 0
             },
             "score": -4.145645180277698,
             "selected": false
            }
           },
           "id": "28",
           "label": "OrdinalEncoder"
          },
          {
           "details": {
            "00:00": {
             "failure_message": "Unvisited",
             "policy": {
              "exploit": 0,
              "explore": 0,
              "explore_weight": 2,
              "overfit": 0.868312757201646,
              "visits": 0
             },
             "score": 0,
             "selected": false
            },
            "00:01": {
             "failure_message": "Unvisited",
             "policy": {
              "exploit": 0,
              "explore": -1.6015459273656616,
              "explore_weight": 2,
              "overfit": 0.868312757201646,
              "visits": 0
             },
             "score": -2.7812855199518896,
             "selected": false
            },
            "00:02": {
             "failure_message": "Unvisited",
             "policy": {
              "exploit": -0.7414925029576891,
              "explore": -1.853102049128743,
              "explore_weight": 2,
              "overfit": 0.868312757201646,
              "visits": 0
             },
             "score": -3.8619916989975387,
             "selected": false
            },
            "00:03": {
             "failure_message": "Unvisited",
             "policy": {
              "exploit": -0.6176149727282662,
              "explore": -1.9002415406058841,
              "explore_weight": 2,
              "overfit": 0.868312757201646,
              "visits": 0
             },
             "score": -3.836290902803898,
             "selected": false
            },
            "00:04": {
             "failure_message": "Unvisited",
             "policy": {
              "exploit": -0.48080458408741633,
              "explore": -1.9393813744835136,
              "explore_weight": 2,
              "overfit": 0.868312757201646,
              "visits": 0
             },
             "score": -3.785467931170731,
             "selected": false
            },
            "00:05": {
             "failure_message": "Unvisited",
             "policy": {
              "exploit": -0.7271389499372889,
              "explore": -2.001832456833606,
              "explore_weight": 2,
              "overfit": 0.868312757201646,
              "visits": 0
             },
             "score": -4.107817346586624,
             "selected": false
            }
           },
           "id": "29",
           "label": "PCA"
          },
          {
           "details": {
            "00:00": {
             "failure_message": "Unvisited",
             "policy": {
              "exploit": 0,
              "explore": 0,
              "explore_weight": 2,
              "overfit": 0.868312757201646,
              "visits": 0
             },
             "score": 0,
             "selected": false
            },
            "00:01": {
             "failure_message": "Unvisited",
             "policy": {
              "exploit": 0,
              "explore": -1.6015459273656616,
              "explore_weight": 2,
              "overfit": 0.868312757201646,
              "visits": 0
             },
             "score": -2.7812855199518896,
             "selected": false
            },
            "00:02": {
             "failure_message": "Unvisited",
             "policy": {
              "exploit": -0.672108614717486,
              "explore": -1.853102049128743,
              "explore_weight": 2,
              "overfit": 0.868312757201646,
              "visits": 0
             },
             "score": -3.8017447836943177,
             "selected": false
            },
            "00:03": {
             "failure_message": "Unvisited",
             "policy": {
              "exploit": -0.5676815959153526,
              "explore": -1.9002415406058841,
              "explore_weight": 2,
              "overfit": 0.868312757201646,
              "visits": 0
             },
             "score": -3.792933114707088,
             "selected": false
            },
            "00:04": {
             "failure_message": "Unvisited",
             "policy": {
              "exploit": -0.5843293185267732,
              "explore": -1.9393813744835136,
              "explore_weight": 2,
              "overfit": 0.868312757201646,
              "visits": 0
             },
             "score": -3.8753597787703367,
             "selected": false
            },
            "00:05": {
             "failure_message": "Unvisited",
             "policy": {
              "exploit": -0.6665901516189671,
              "explore": -2.001832456833606,
              "explore_weight": 2,
              "overfit": 0.868312757201646,
              "visits": 0
             },
             "score": -4.055242052573596,
             "selected": false
            }
           },
           "id": "30",
           "label": "PolynomialFeatures"
          },
          {
           "details": {
            "00:00": {
             "failure_message": "Unvisited",
             "policy": {
              "exploit": 0,
              "explore": 0,
              "explore_weight": 2,
              "overfit": 0.868312757201646,
              "visits": 0
             },
             "score": 0,
             "selected": false
            },
            "00:01": {
             "failure_message": "Unvisited",
             "policy": {
              "exploit": 0,
              "explore": -1.6015459273656616,
              "explore_weight": 2,
              "overfit": 0.868312757201646,
              "visits": 0
             },
             "score": -2.7812855199518896,
             "selected": false
            },
            "00:02": {
             "failure_message": "Unvisited",
             "policy": {
              "exploit": -0.8196176117096388,
              "explore": -1.853102049128743,
              "explore_weight": 2,
              "overfit": 0.868312757201646,
              "visits": 0
             },
             "score": -3.9298287275846224,
             "selected": false
            },
            "00:03": {
             "failure_message": "Unvisited",
             "policy": {
              "exploit": -0.7678662025265175,
              "explore": -1.9002415406058841,
              "explore_weight": 2,
              "overfit": 0.868312757201646,
              "visits": 0
             },
             "score": -3.9667559624229556,
             "selected": false
            },
            "00:04": {
             "failure_message": "Unvisited",
             "policy": {
              "exploit": -0.7223422052842378,
              "explore": -1.9393813744835136,
              "explore_weight": 2,
              "overfit": 0.868312757201646,
              "visits": 0
             },
             "score": -3.995198129000069,
             "selected": false
            },
            "00:05": {
             "failure_message": "Unvisited",
             "policy": {
              "exploit": -0.6119187425787016,
              "explore": -2.001832456833606,
              "explore_weight": 2,
              "overfit": 0.868312757201646,
              "visits": 0
             },
             "score": -4.007770170649744,
             "selected": false
            }
           },
           "id": "31",
           "label": "RandomTreesEmbedding"
          },
          {
           "children": [
            {
             "details": {
              "00:02": {
               "failure_message": "Unvisited",
               "policy": {
                "exploit": -0.48698382365159965,
                "explore": 0,
                "explore_weight": 2,
                "overfit": 0.8024691358024691,
                "visits": 0
               },
               "score": -0.3907894881154812,
               "selected": false
              }
             },
             "id": "36",
             "label": "AdaBoostingClassifier"
            },
            {
             "details": {
              "00:02": {
               "failure_message": "Unvisited",
               "policy": {
                "exploit": -0.3097329397414323,
                "explore": 0,
                "explore_weight": 2,
                "overfit": 0.8024691358024691,
                "visits": 0
               },
               "score": -0.24855112448386543,
               "selected": false
              }
             },
             "id": "37",
             "label": "BernoulliNB"
            },
            {
             "details": {
              "00:02": {
               "failure_message": "Unvisited",
               "policy": {
                "exploit": -0.657685578133973,
                "explore": 0,
                "explore_weight": 2,
                "overfit": 0.8024691358024691,
                "visits": 0
               },
               "score": -0.5277723775149166,
               "selected": false
              }
             },
             "id": "38",
             "label": "DecisionTree"
            },
            {
             "details": {
              "00:02": {
               "failure_message": "Unvisited",
               "policy": {
                "exploit": -0.7168573602261563,
                "explore": 0,
                "explore_weight": 2,
                "overfit": 0.8024691358024691,
                "visits": 0
               },
               "score": -0.575255906354323,
               "selected": true
              },
              "00:03": {
               "failure_message": null,
               "policy": {
                "exploit": -0.733044733044733,
                "explore": -0.5464673624331794,
                "explore_weight": 2,
                "overfit": 0.8024691358024691,
                "visits": 5
               },
               "score": -1.4652921575829752,
               "selected": false
              },
              "00:04": {
               "failure_message": null,
               "policy": {
                "exploit": -0.733044733044733,
                "explore": -0.5464673624331794,
                "explore_weight": 2,
                "overfit": 0.8024691358024691,
                "visits": 5
               },
               "score": -1.4652921575829752,
               "selected": false
              },
              "00:05": {
               "failure_message": null,
               "policy": {
                "exploit": -0.733044733044733,
                "explore": -0.5464673624331794,
                "explore_weight": 2,
                "overfit": 0.8024691358024691,
                "visits": 5
               },
               "score": -1.4652921575829752,
               "selected": false
              },
              "100:00": {
               "failure_message": null,
               "policy": {
                "exploit": -0.733044733044733,
                "explore": -0.5464673624331794,
                "explore_weight": 2,
                "overfit": 0.8024691358024691,
                "visits": 5
               },
               "score": -1.4652921575829752,
               "selected": false
              }
             },
             "id": "39",
             "label": "GradientBoostingClassifier"
            },
            {
             "details": {
              "00:02": {
               "failure_message": "Unvisited",
               "policy": {
                "exploit": -0.625848810658259,
                "explore": 0,
                "explore_weight": 2,
                "overfit": 0.8024691358024691,
                "visits": 0
               },
               "score": -0.5022243542319362,
               "selected": false
              }
             },
             "id": "40",
             "label": "LibSVM_SVC"
            },
            {
             "details": {
              "00:02": {
               "failure_message": "Unvisited",
               "policy": {
                "exploit": -0.42616475873849713,
                "explore": 0,
                "explore_weight": 2,
                "overfit": 0.8024691358024691,
                "visits": 0
               },
               "score": -0.3419840656543496,
               "selected": false
              }
             },
             "id": "41",
             "label": "LinearDiscriminantAnalysis"
            },
            {
             "details": {
              "00:02": {
               "failure_message": "Unvisited",
               "policy": {
                "exploit": -0.39461733106311914,
                "explore": 0,
                "explore_weight": 2,
                "overfit": 0.8024691358024691,
                "visits": 0
               },
               "score": -0.31666822863089805,
               "selected": false
              }
             },
             "id": "42",
             "label": "MultinomialNB"
            },
            {
             "details": {
              "00:02": {
               "failure_message": "Unvisited",
               "policy": {
                "exploit": -0.4024103640631204,
                "explore": 0,
                "explore_weight": 2,
                "overfit": 0.8024691358024691,
                "visits": 0
               },
               "score": -0.3229218970876892,
               "selected": false
              }
             },
             "id": "43",
             "label": "RandomForest"
            },
            {
             "details": {
              "00:02": {
               "failure_message": "Unvisited",
               "policy": {
                "exploit": -0.4438451788893925,
                "explore": 0,
                "explore_weight": 2,
                "overfit": 0.8024691358024691,
                "visits": 0
               },
               "score": -0.3561720571334631,
               "selected": false
              }
             },
             "id": "44",
             "label": "SGDClassifier"
            },
            {
             "details": {
              "00:02": {
               "failure_message": "Unvisited",
               "policy": {
                "exploit": 0,
                "explore": 0,
                "explore_weight": 2,
                "overfit": 0.8024691358024691,
                "visits": 0
               },
               "score": 0,
               "selected": false
              }
             },
             "id": "45",
             "label": "Imputation"
            },
            {
             "details": {
              "00:02": {
               "failure_message": "Unvisited",
               "policy": {
                "exploit": 0,
                "explore": 0,
                "explore_weight": 2,
                "overfit": 0.8024691358024691,
                "visits": 0
               },
               "score": 0,
               "selected": false
              }
             },
             "id": "46",
             "label": "KNNImputer"
            },
            {
             "details": {
              "00:02": {
               "failure_message": "Unvisited",
               "policy": {
                "exploit": 0,
                "explore": 0,
                "explore_weight": 2,
                "overfit": 0.8024691358024691,
                "visits": 0
               },
               "score": 0,
               "selected": false
              }
             },
             "id": "47",
             "label": "MaxAbsScaler"
            },
            {
             "details": {
              "00:02": {
               "failure_message": "Unvisited",
               "policy": {
                "exploit": 0,
                "explore": 0,
                "explore_weight": 2,
                "overfit": 0.8024691358024691,
                "visits": 0
               },
               "score": 0,
               "selected": false
              }
             },
             "id": "48",
             "label": "MinMaxScaler"
            },
            {
             "details": {
              "00:02": {
               "failure_message": "Unvisited",
               "policy": {
                "exploit": 0,
                "explore": 0,
                "explore_weight": 2,
                "overfit": 0.8024691358024691,
                "visits": 0
               },
               "score": 0,
               "selected": false
              }
             },
             "id": "49",
             "label": "Normalizer"
            },
            {
             "details": {
              "00:02": {
               "failure_message": "Unvisited",
               "policy": {
                "exploit": 0,
                "explore": 0,
                "explore_weight": 2,
                "overfit": 0.8024691358024691,
                "visits": 0
               },
               "score": 0,
               "selected": false
              }
             },
             "id": "50",
             "label": "QuantileTransformer"
            },
            {
             "details": {
              "00:02": {
               "failure_message": "Unvisited",
               "policy": {
                "exploit": 0,
                "explore": 0,
                "explore_weight": 2,
                "overfit": 0.8024691358024691,
                "visits": 0
               },
               "score": 0,
               "selected": false
              }
             },
             "id": "51",
             "label": "RobustScaler"
            },
            {
             "details": {
              "00:02": {
               "failure_message": "Unvisited",
               "policy": {
                "exploit": 0,
                "explore": 0,
                "explore_weight": 2,
                "overfit": 0.8024691358024691,
                "visits": 0
               },
               "score": 0,
               "selected": false
              }
             },
             "id": "52",
             "label": "StandardScaler"
            },
            {
             "details": {
              "00:02": {
               "failure_message": "Unvisited",
               "policy": {
                "exploit": 0,
                "explore": 0,
                "explore_weight": 2,
                "overfit": 0.8024691358024691,
                "visits": 0
               },
               "score": 0,
               "selected": false
              }
             },
             "id": "53",
             "label": "BernoulliRBM"
            },
            {
             "details": {
              "00:02": {
               "failure_message": "Unvisited",
               "policy": {
                "exploit": 0,
                "explore": 0,
                "explore_weight": 2,
                "overfit": 0.8024691358024691,
                "visits": 0
               },
               "score": 0,
               "selected": false
              }
             },
             "id": "54",
             "label": "Binarizer"
            },
            {
             "details": {
              "00:02": {
               "failure_message": "Unvisited",
               "policy": {
                "exploit": 0,
                "explore": 0,
                "explore_weight": 2,
                "overfit": 0.8024691358024691,
                "visits": 0
               },
               "score": 0,
               "selected": false
              }
             },
             "id": "55",
             "label": "FactorAnalysis"
            },
            {
             "details": {
              "00:02": {
               "failure_message": "Unvisited",
               "policy": {
                "exploit": 0,
                "explore": 0,
                "explore_weight": 2,
                "overfit": 0.8024691358024691,
                "visits": 0
               },
               "score": 0,
               "selected": false
              }
             },
             "id": "56",
             "label": "FastICA"
            },
            {
             "details": {
              "00:02": {
               "failure_message": "Unvisited",
               "policy": {
                "exploit": 0,
                "explore": 0,
                "explore_weight": 2,
                "overfit": 0.8024691358024691,
                "visits": 0
               },
               "score": 0,
               "selected": false
              }
             },
             "id": "57",
             "label": "FeatureAgglomeration"
            },
            {
             "details": {
              "00:02": {
               "failure_message": "Unvisited",
               "policy": {
                "exploit": 0,
                "explore": 0,
                "explore_weight": 2,
                "overfit": 0.8024691358024691,
                "visits": 0
               },
               "score": 0,
               "selected": false
              }
             },
             "id": "58",
             "label": "GenericUnivariateSelect"
            },
            {
             "details": {
              "00:02": {
               "failure_message": "Unvisited",
               "policy": {
                "exploit": 0,
                "explore": 0,
                "explore_weight": 2,
                "overfit": 0.8024691358024691,
                "visits": 0
               },
               "score": 0,
               "selected": false
              }
             },
             "id": "59",
             "label": "KBinsDiscretizer"
            },
            {
             "details": {
              "00:02": {
               "failure_message": "Unvisited",
               "policy": {
                "exploit": 0,
                "explore": 0,
                "explore_weight": 2,
                "overfit": 0.8024691358024691,
                "visits": 0
               },
               "score": 0,
               "selected": false
              }
             },
             "id": "60",
             "label": "KernelPCA"
            },
            {
             "details": {
              "00:02": {
               "failure_message": "Unvisited",
               "policy": {
                "exploit": 0,
                "explore": 0,
                "explore_weight": 2,
                "overfit": 0.8024691358024691,
                "visits": 0
               },
               "score": 0,
               "selected": false
              }
             },
             "id": "61",
             "label": "MissingIndicator"
            },
            {
             "details": {
              "00:02": {
               "failure_message": "Unvisited",
               "policy": {
                "exploit": 0,
                "explore": 0,
                "explore_weight": 2,
                "overfit": 0.8024691358024691,
                "visits": 0
               },
               "score": 0,
               "selected": false
              }
             },
             "id": "62",
             "label": "OneHotEncoder"
            },
            {
             "details": {
              "00:02": {
               "failure_message": "Unvisited",
               "policy": {
                "exploit": 0,
                "explore": 0,
                "explore_weight": 2,
                "overfit": 0.8024691358024691,
                "visits": 0
               },
               "score": 0,
               "selected": false
              }
             },
             "id": "63",
             "label": "OrdinalEncoder"
            },
            {
             "details": {
              "00:02": {
               "failure_message": "Unvisited",
               "policy": {
                "exploit": 0,
                "explore": 0,
                "explore_weight": 2,
                "overfit": 0.8024691358024691,
                "visits": 0
               },
               "score": 0,
               "selected": false
              }
             },
             "id": "64",
             "label": "PCA"
            },
            {
             "details": {
              "00:02": {
               "failure_message": "Unvisited",
               "policy": {
                "exploit": 0,
                "explore": 0,
                "explore_weight": 2,
                "overfit": 0.8024691358024691,
                "visits": 0
               },
               "score": 0,
               "selected": false
              }
             },
             "id": "65",
             "label": "PolynomialFeatures"
            },
            {
             "details": {
              "00:02": {
               "failure_message": "Unvisited",
               "policy": {
                "exploit": 0,
                "explore": 0,
                "explore_weight": 2,
                "overfit": 0.8024691358024691,
                "visits": 0
               },
               "score": 0,
               "selected": false
              }
             },
             "id": "66",
             "label": "RandomTreesEmbedding"
            },
            {
             "details": {
              "00:02": {
               "failure_message": "Unvisited",
               "policy": {
                "exploit": 0,
                "explore": 0,
                "explore_weight": 2,
                "overfit": 0.8024691358024691,
                "visits": 0
               },
               "score": 0,
               "selected": false
              }
             },
             "id": "67",
             "label": "SelectKBest"
            },
            {
             "details": {
              "00:02": {
               "failure_message": "Unvisited",
               "policy": {
                "exploit": 0,
                "explore": 0,
                "explore_weight": 2,
                "overfit": 0.8024691358024691,
                "visits": 0
               },
               "score": 0,
               "selected": false
              }
             },
             "id": "68",
             "label": "SelectPercentileClassification"
            },
            {
             "details": {
              "00:02": {
               "failure_message": "Unvisited",
               "policy": {
                "exploit": 0,
                "explore": 0,
                "explore_weight": 2,
                "overfit": 0.8024691358024691,
                "visits": 0
               },
               "score": 0,
               "selected": false
              }
             },
             "id": "69",
             "label": "TruncatedSVD"
            },
            {
             "details": {
              "00:02": {
               "failure_message": "Unvisited",
               "policy": {
                "exploit": 0,
                "explore": 0,
                "explore_weight": 2,
                "overfit": 0.8024691358024691,
                "visits": 0
               },
               "score": 0,
               "selected": false
              }
             },
             "id": "70",
             "label": "VarianceThreshold"
            }
           ],
           "details": {
            "00:00": {
             "failure_message": "Unvisited",
             "policy": {
              "exploit": 0,
              "explore": 0,
              "explore_weight": 2,
              "overfit": 0.868312757201646,
              "visits": 0
             },
             "score": 0,
             "selected": false
            },
            "00:01": {
             "failure_message": "Unvisited",
             "policy": {
              "exploit": 0,
              "explore": -1.6015459273656616,
              "explore_weight": 2,
              "overfit": 0.868312757201646,
              "visits": 0
             },
             "score": -2.7812855199518896,
             "selected": false
            },
            "00:02": {
             "failure_message": "Unvisited",
             "policy": {
              "exploit": -0.8408387992756596,
              "explore": -1.853102049128743,
              "explore_weight": 2,
              "overfit": 0.868312757201646,
              "visits": 0
             },
             "score": -3.9482553554711677,
             "selected": true
            },
            "00:03": {
             "failure_message": null,
             "policy": {
              "exploit": -0.733044733044733,
              "explore": -0.7757703604207696,
              "explore_weight": 2,
              "overfit": 0.868312757201646,
              "visits": 5
             },
             "score": -1.983734694526763,
             "selected": false
            },
            "00:04": {
             "failure_message": null,
             "policy": {
              "exploit": -0.733044733044733,
              "explore": -0.7917491306903514,
              "explore_weight": 2,
              "overfit": 0.868312757201646,
              "visits": 5
             },
             "score": -2.0114838346657073,
             "selected": false
            },
            "00:05": {
             "failure_message": null,
             "policy": {
              "exploit": -0.733044733044733,
              "explore": -0.8053798584219568,
              "explore_weight": 2,
              "overfit": 0.868312757201646,
              "visits": 5
             },
             "score": -2.0351553042242982,
             "selected": false
            },
            "100:00": {
             "failure_message": null,
             "policy": {
              "exploit": -0.733044733044733,
              "explore": -0.8190799402108797,
              "explore_weight": 2,
              "overfit": 0.868312757201646,
              "visits": 5
             },
             "score": -2.0589472158083533,
             "selected": false
            }
           },
           "id": "32",
           "label": "SelectKBest"
          },
          {
           "details": {
            "00:00": {
             "failure_message": "Unvisited",
             "policy": {
              "exploit": 0,
              "explore": 0,
              "explore_weight": 2,
              "overfit": 0.868312757201646,
              "visits": 0
             },
             "score": 0,
             "selected": false
            },
            "00:01": {
             "failure_message": "Unvisited",
             "policy": {
              "exploit": 0,
              "explore": -1.6015459273656616,
              "explore_weight": 2,
              "overfit": 0.868312757201646,
              "visits": 0
             },
             "score": -2.7812855199518896,
             "selected": false
            },
            "00:02": {
             "failure_message": "Unvisited",
             "policy": {
              "exploit": -0.4074329221913655,
              "explore": -1.853102049128743,
              "explore_weight": 2,
              "overfit": 0.868312757201646,
              "visits": 0
             },
             "score": -3.5719235033527066,
             "selected": false
            },
            "00:03": {
             "failure_message": "Unvisited",
             "policy": {
              "exploit": -0.43281500235057024,
              "explore": -1.9002415406058841,
              "explore_weight": 2,
              "overfit": 0.868312757201646,
              "visits": 0
             },
             "score": -3.6758267309944586,
             "selected": false
            },
            "00:04": {
             "failure_message": "Unvisited",
             "policy": {
              "exploit": -0.6895309351305247,
              "explore": -1.9393813744835136,
              "explore_weight": 2,
              "overfit": 0.868312757201646,
              "visits": 0
             },
             "score": -3.9667076845456104,
             "selected": false
            },
            "00:05": {
             "failure_message": "Unvisited",
             "policy": {
              "exploit": -0.4178539287165597,
              "explore": -2.001832456833606,
              "explore_weight": 2,
              "overfit": 0.868312757201646,
              "visits": 0
             },
             "score": -3.8392612170492826,
             "selected": false
            }
           },
           "id": "33",
           "label": "SelectPercentileClassification"
          },
          {
           "details": {
            "00:00": {
             "failure_message": "Unvisited",
             "policy": {
              "exploit": 0,
              "explore": 0,
              "explore_weight": 2,
              "overfit": 0.868312757201646,
              "visits": 0
             },
             "score": 0,
             "selected": false
            },
            "00:01": {
             "failure_message": "Unvisited",
             "policy": {
              "exploit": 0,
              "explore": -1.6015459273656616,
              "explore_weight": 2,
              "overfit": 0.868312757201646,
              "visits": 0
             },
             "score": -2.7812855199518896,
             "selected": false
            },
            "00:02": {
             "failure_message": "Unvisited",
             "policy": {
              "exploit": -0.7689250789155517,
              "explore": -1.853102049128743,
              "explore_weight": 2,
              "overfit": 0.868312757201646,
              "visits": 0
             },
             "score": -3.8858117546646542,
             "selected": false
            },
            "00:03": {
             "failure_message": "Unvisited",
             "policy": {
              "exploit": -0.6486284165095673,
              "explore": -1.9002415406058841,
              "explore_weight": 2,
              "overfit": 0.868312757201646,
              "visits": 0
             },
             "score": -3.8632202716839577,
             "selected": false
            },
            "00:04": {
             "failure_message": "Unvisited",
             "policy": {
              "exploit": -0.4618960081795744,
              "explore": -1.9393813744835136,
              "explore_weight": 2,
              "overfit": 0.868312757201646,
              "visits": 0
             },
             "score": -3.7690493734894357,
             "selected": false
            },
            "00:05": {
             "failure_message": "Unvisited",
             "policy": {
              "exploit": -0.4928199172607764,
              "explore": -2.001832456833606,
              "explore_weight": 2,
              "overfit": 0.868312757201646,
              "visits": 0
             },
             "score": -3.9043551412584585,
             "selected": false
            }
           },
           "id": "34",
           "label": "TruncatedSVD"
          },
          {
           "details": {
            "00:00": {
             "failure_message": "Unvisited",
             "policy": {
              "exploit": 0,
              "explore": 0,
              "explore_weight": 2,
              "overfit": 0.868312757201646,
              "visits": 0
             },
             "score": 0,
             "selected": false
            },
            "00:01": {
             "failure_message": "Unvisited",
             "policy": {
              "exploit": 0,
              "explore": -1.6015459273656616,
              "explore_weight": 2,
              "overfit": 0.868312757201646,
              "visits": 0
             },
             "score": -2.7812855199518896,
             "selected": false
            },
            "00:02": {
             "failure_message": "Unvisited",
             "policy": {
              "exploit": -0.8220145143060089,
              "explore": -1.835019299622343,
              "explore_weight": 2,
              "overfit": 0.868312757201646,
              "visits": 0
             },
             "score": -3.900507024523442,
             "selected": false
            },
            "00:03": {
             "failure_message": "Ineffective",
             "policy": {
              "exploit": 0,
              "explore": 0,
              "explore_weight": 2,
              "overfit": 0.868312757201646,
              "visits": 0
             },
             "score": 0,
             "selected": false
            },
            "00:04": {
             "failure_message": "Ineffective",
             "policy": {
              "exploit": 0,
              "explore": 0,
              "explore_weight": 2,
              "overfit": 0.868312757201646,
              "visits": 0
             },
             "score": 0,
             "selected": false
            },
            "00:05": {
             "failure_message": "Ineffective",
             "policy": {
              "exploit": 0,
              "explore": 0,
              "explore_weight": 2,
              "overfit": 0.868312757201646,
              "visits": 0
             },
             "score": 0,
             "selected": false
            },
            "100:00": {
             "failure_message": "Ineffective",
             "policy": {
              "exploit": 0,
              "explore": 0,
              "explore_weight": 2,
              "overfit": 0.868312757201646,
              "visits": 0
             },
             "score": 0,
             "selected": false
            }
           },
           "id": "35",
           "label": "VarianceThreshold"
          }
         ],
         "details": {
          "00:00": {
           "failure_message": null,
           "policy": {
            "exploit": 0,
            "explore": 0,
            "explore_weight": 2,
            "overfit": 0.9122085048010974,
            "visits": 0
           },
           "score": 0,
           "selected": true
          },
          "00:01": {
           "failure_message": null,
           "policy": {
            "exploit": -0.9230769230769231,
            "explore": 0,
            "explore_weight": 2,
            "overfit": 0.9122085048010974,
            "visits": 12
           },
           "score": -0.8420386198163976,
           "selected": true
          },
          "00:02": {
           "failure_message": null,
           "policy": {
            "exploit": -0.7282113161692108,
            "explore": 0,
            "explore_weight": 2,
            "overfit": 0.9122085048010974,
            "visits": 24
           },
           "score": -0.6642805559019549,
           "selected": true
          },
          "00:03": {
           "failure_message": null,
           "policy": {
            "exploit": -0.6109067919594235,
            "explore": 0,
            "explore_weight": 2,
            "overfit": 0.9122085048010974,
            "visits": 36
           },
           "score": -0.5572743712661408,
           "selected": true
          },
          "00:04": {
           "failure_message": null,
           "policy": {
            "exploit": -0.6556549230723036,
            "explore": 0,
            "explore_weight": 2,
            "overfit": 0.9122085048010974,
            "visits": 42
           },
           "score": -0.5980939970412645,
           "selected": true
          },
          "00:05": {
           "failure_message": null,
           "policy": {
            "exploit": -0.6560160784435757,
            "explore": 0,
            "explore_weight": 2,
            "overfit": 0.9122085048010974,
            "visits": 48
           },
           "score": -0.5984234460424935,
           "selected": true
          },
          "100:00": {
           "failure_message": null,
           "policy": {
            "exploit": -0.5906498138453025,
            "explore": 0,
            "explore_weight": 2,
            "overfit": 0.9122085048010974,
            "visits": 55
           },
           "score": -0.5387957835488699,
           "selected": false
          }
         },
         "id": "0",
         "label": "Root"
        }
       },
       "meta": {
        "config": {
         "cutoff": -1,
         "wallclock_limit": 10
        },
        "end_time": 1641054909.6108913,
        "framework": "dswizard",
        "incumbent": -1,
        "is_minimization": false,
        "metric": "roc_auc",
        "n_configs": 31,
        "n_structures": 6,
        "openml_fold": 0,
        "openml_task": 1823,
        "start_time": 1641054898.3653634
       },
       "structures": [
        {
         "cid": "00:00",
         "configs": [
          {
           "budget": 5,
           "config": {
            "0_MultinomialNB:alpha": 1,
            "0_MultinomialNB:fit_prior": true
           },
           "id": "00:00:00",
           "loss": 0.9866666666666667,
           "origin": "Default",
           "runtime": {
            "timestamp": 0.06770106199996917,
            "training_time": 0.008682727813720703
           },
           "status": "SUCCESS"
          },
          {
           "budget": 5,
           "config": {
            "0_MultinomialNB:alpha": 1.1796976120867038,
            "0_MultinomialNB:fit_prior": true
           },
           "id": "00:00:01",
           "loss": 0.9866666666666667,
           "origin": "Random Search",
           "runtime": {
            "timestamp": 0.27265183999998044,
            "training_time": 0.02026081085205078
           },
           "status": "SUCCESS"
          },
          {
           "budget": 5,
           "config": {
            "0_MultinomialNB:alpha": 0.4420381371500729,
            "0_MultinomialNB:fit_prior": true
           },
           "id": "00:00:02",
           "loss": 0.9933333333333334,
           "origin": "Random Search",
           "runtime": {
            "timestamp": 0.3016198949999307,
            "training_time": 0.020958662033081055
           },
           "status": "SUCCESS"
          },
          {
           "budget": 5,
           "config": {
            "0_MultinomialNB:alpha": 1.0851334517175897,
            "0_MultinomialNB:fit_prior": true
           },
           "id": "00:00:03",
           "loss": 0.9866666666666667,
           "origin": "Hyperopt",
           "runtime": {
            "timestamp": 0.37555308999992576,
            "training_time": 0.06546187400817871
           },
           "status": "SUCCESS"
          },
          {
           "budget": 5,
           "config": {
            "0_MultinomialNB:alpha": 1.0458202370088676,
            "0_MultinomialNB:fit_prior": true
           },
           "id": "00:00:04",
           "loss": 0.9866666666666667,
           "origin": "Hyperopt",
           "runtime": {
            "timestamp": 0.43184950399995614,
            "training_time": 0.04857182502746582
           },
           "status": "SUCCESS"
          },
          {
           "budget": 5,
           "config": {
            "0_MultinomialNB:alpha": 1.0726239636777097,
            "0_MultinomialNB:fit_prior": true
           },
           "id": "00:00:05",
           "loss": 0.9866666666666667,
           "origin": "Hyperopt",
           "runtime": {
            "timestamp": 0.48104522400001315,
            "training_time": 0.044322967529296875
           },
           "status": "SUCCESS"
          }
         ],
         "configspace": "{\n  \"hyperparameters\": [\n    {\n      \"name\": \"0_MultinomialNB:alpha\",\n      \"type\": \"uniform_float\",\n      \"log\": true,\n      \"lower\": 0.01,\n      \"upper\": 100.0,\n      \"default\": 1.0\n    },\n    {\n      \"name\": \"0_MultinomialNB:fit_prior\",\n      \"type\": \"categorical\",\n      \"choices\": [\n        true,\n        false\n      ],\n      \"default\": true,\n      \"probabilities\": null\n    }\n  ],\n  \"conditions\": [],\n  \"forbiddens\": [],\n  \"python_module_version\": \"0.4.20\",\n  \"json_format_version\": 0.2\n}",
         "pipeline": {
          "args": {
           "configuration": null,
           "steps": [
            [
             "0_MultinomialNB",
             {
              "args": {
               "alpha": 1,
               "fit_prior": true,
               "verbose": 0
              },
              "clazz": "dswizard.components.classification.multinomial_nb.MultinomialNB"
             }
            ]
           ]
          },
          "clazz": "dswizard.pipeline.pipeline.FlexiblePipeline"
         }
        },
        {
         "cid": "00:01",
         "configs": [
          {
           "budget": 5,
           "config": {
            "0_LibSVM_SVC:C": 1,
            "0_LibSVM_SVC:gamma": 0.1,
            "0_LibSVM_SVC:kernel": "rbf",
            "0_LibSVM_SVC:shrinking": true,
            "0_LibSVM_SVC:tol": 0.001
           },
           "id": "00:01:00",
           "loss": 0.9557575757575757,
           "origin": "Default",
           "runtime": {
            "timestamp": 0.559037496999963,
            "training_time": 0.007873296737670898
           },
           "status": "SUCCESS"
          },
          {
           "budget": 5,
           "config": {
            "0_LibSVM_SVC:C": 61.13585543194958,
            "0_LibSVM_SVC:coef0": -0.6065048482155049,
            "0_LibSVM_SVC:gamma": 0.0314781645844977,
            "0_LibSVM_SVC:kernel": "sigmoid",
            "0_LibSVM_SVC:shrinking": true,
            "0_LibSVM_SVC:tol": 0.05071162356100428
           },
           "id": "00:01:01",
           "loss": 0.39070707070707067,
           "origin": "Random Search",
           "runtime": {
            "timestamp": 0.6999609590000091,
            "training_time": 0.019362926483154297
           },
           "status": "SUCCESS"
          },
          {
           "budget": 5,
           "config": {
            "0_LibSVM_SVC:C": 5068.264559320885,
            "0_LibSVM_SVC:coef0": -0.8211653197021229,
            "0_LibSVM_SVC:degree": 4,
            "0_LibSVM_SVC:gamma": 0.0012630865348767911,
            "0_LibSVM_SVC:kernel": "poly",
            "0_LibSVM_SVC:shrinking": true,
            "0_LibSVM_SVC:tol": 0.05400411410688287
           },
           "id": "00:01:02",
           "loss": 0.07757575757575758,
           "origin": "Random Search",
           "runtime": {
            "timestamp": 0.7274439289999464,
            "training_time": 0.01846456527709961
           },
           "status": "SUCCESS"
          },
          {
           "budget": 5,
           "config": {
            "0_LibSVM_SVC:C": 1.838522774066707,
            "0_LibSVM_SVC:gamma": 0.08082171843373939,
            "0_LibSVM_SVC:kernel": "rbf",
            "0_LibSVM_SVC:shrinking": false,
            "0_LibSVM_SVC:tol": 2.0309427840804897e-05
           },
           "id": "00:01:03",
           "loss": 0.9618181818181817,
           "origin": "Random Search",
           "runtime": {
            "timestamp": 0.8123359899999514,
            "training_time": 0.01840519905090332
           },
           "status": "SUCCESS"
          },
          {
           "budget": 5,
           "config": {
            "0_LibSVM_SVC:C": 1.1003678469939233,
            "0_LibSVM_SVC:coef0": 0.31386714315519093,
            "0_LibSVM_SVC:degree": 3,
            "0_LibSVM_SVC:gamma": 0.00026089325978061683,
            "0_LibSVM_SVC:kernel": "poly",
            "0_LibSVM_SVC:shrinking": false,
            "0_LibSVM_SVC:tol": 0.00014342246175794897
           },
           "id": "00:01:04",
           "loss": 0.6727272727272726,
           "origin": "Random Search",
           "runtime": {
            "timestamp": 0.8526146369999879,
            "training_time": 0.02980637550354004
           },
           "status": "SUCCESS"
          },
          {
           "budget": 5,
           "config": {
            "0_LibSVM_SVC:C": 10159.118296405515,
            "0_LibSVM_SVC:gamma": 0.00014894618325301525,
            "0_LibSVM_SVC:kernel": "rbf",
            "0_LibSVM_SVC:shrinking": false,
            "0_LibSVM_SVC:tol": 0.017793284825176798
           },
           "id": "00:01:05",
           "loss": 1,
           "origin": "Random Search",
           "runtime": {
            "timestamp": 0.8767469629999596,
            "training_time": 0.01655888557434082
           },
           "status": "SUCCESS"
          }
         ],
         "configspace": "{\n  \"hyperparameters\": [\n    {\n      \"name\": \"0_LibSVM_SVC:C\",\n      \"type\": \"uniform_float\",\n      \"log\": true,\n      \"lower\": 0.03125,\n      \"upper\": 32768.0,\n      \"default\": 1.0\n    },\n    {\n      \"name\": \"0_LibSVM_SVC:gamma\",\n      \"type\": \"uniform_float\",\n      \"log\": true,\n      \"lower\": 3.0517578125e-05,\n      \"upper\": 8.0,\n      \"default\": 0.1\n    },\n    {\n      \"name\": \"0_LibSVM_SVC:kernel\",\n      \"type\": \"categorical\",\n      \"choices\": [\n        \"rbf\",\n        \"poly\",\n        \"sigmoid\"\n      ],\n      \"default\": \"rbf\",\n      \"probabilities\": null\n    },\n    {\n      \"name\": \"0_LibSVM_SVC:shrinking\",\n      \"type\": \"categorical\",\n      \"choices\": [\n        true,\n        false\n      ],\n      \"default\": true,\n      \"probabilities\": null\n    },\n    {\n      \"name\": \"0_LibSVM_SVC:tol\",\n      \"type\": \"uniform_float\",\n      \"log\": true,\n      \"lower\": 1e-05,\n      \"upper\": 0.1,\n      \"default\": 0.001\n    },\n    {\n      \"name\": \"0_LibSVM_SVC:coef0\",\n      \"type\": \"uniform_float\",\n      \"log\": false,\n      \"lower\": -1.0,\n      \"upper\": 1.0,\n      \"default\": 0.0\n    },\n    {\n      \"name\": \"0_LibSVM_SVC:degree\",\n      \"type\": \"uniform_int\",\n      \"log\": false,\n      \"lower\": 2,\n      \"upper\": 5,\n      \"default\": 3\n    }\n  ],\n  \"conditions\": [\n    {\n      \"child\": \"0_LibSVM_SVC:coef0\",\n      \"parent\": \"0_LibSVM_SVC:kernel\",\n      \"type\": \"IN\",\n      \"values\": [\n        \"poly\",\n        \"sigmoid\"\n      ]\n    },\n    {\n      \"child\": \"0_LibSVM_SVC:degree\",\n      \"parent\": \"0_LibSVM_SVC:kernel\",\n      \"type\": \"EQ\",\n      \"value\": \"poly\"\n    }\n  ],\n  \"forbiddens\": [],\n  \"python_module_version\": \"0.4.20\",\n  \"json_format_version\": 0.2\n}",
         "pipeline": {
          "args": {
           "configuration": null,
           "steps": [
            [
             "0_LibSVM_SVC",
             {
              "args": {
               "C": 1,
               "break_ties": false,
               "class_weight": null,
               "coef0": 0,
               "decision_function_shape": "ovr",
               "degree": 3,
               "gamma": "scale",
               "kernel": "rbf",
               "probability": false,
               "random_state": null,
               "shrinking": true,
               "tol": 0.001
              },
              "clazz": "dswizard.components.classification.libsvm_svc.LibSVM_SVC"
             }
            ]
           ]
          },
          "clazz": "dswizard.pipeline.pipeline.FlexiblePipeline"
         }
        },
        {
         "cid": "00:02",
         "configs": [
          {
           "budget": 5,
           "config": {
            "0_SelectKBest:k_factor": 0.5,
            "0_SelectKBest:score_func": "f_classif",
            "1_GradientBoostingClassifier:l2_regularization": 1e-10,
            "1_GradientBoostingClassifier:learning_rate": 0.1,
            "1_GradientBoostingClassifier:max_depth_factor": 1,
            "1_GradientBoostingClassifier:max_leaf_nodes_factor": 1,
            "1_GradientBoostingClassifier:min_samples_leaf_factor": 0.0001,
            "1_GradientBoostingClassifier:n_iter_no_change": 10,
            "1_GradientBoostingClassifier:validation_fraction": 0.1
           },
           "id": "00:02:00",
           "loss": 0.9745454545454546,
           "origin": "Default",
           "runtime": {
            "timestamp": 2.099833172999979,
            "training_time": 0.17403697967529297
           },
           "status": "SUCCESS"
          },
          {
           "budget": 5,
           "config": {
            "0_SelectKBest:k_factor": 0.7935583453927311,
            "0_SelectKBest:score_func": "mutual_info",
            "1_GradientBoostingClassifier:l2_regularization": 1.013104498422245e-10,
            "1_GradientBoostingClassifier:learning_rate": 0.32174110360033575,
            "1_GradientBoostingClassifier:max_depth_factor": 0.14318522615058227,
            "1_GradientBoostingClassifier:max_leaf_nodes_factor": 0.698052824017854,
            "1_GradientBoostingClassifier:min_samples_leaf_factor": 0.006746309586601767,
            "1_GradientBoostingClassifier:n_iter_no_change": 2,
            "1_GradientBoostingClassifier:validation_fraction": 0.21603339350847559
           },
           "id": "00:02:02",
           "loss": 0.9127272727272727,
           "origin": "Random Search",
           "runtime": {
            "timestamp": 2.7536990840000044,
            "training_time": 0.43965744972229004
           },
           "status": "SUCCESS"
          },
          {
           "budget": 5,
           "config": {
            "0_SelectKBest:k_factor": 0.5962007745360496,
            "0_SelectKBest:score_func": "chi2",
            "1_GradientBoostingClassifier:l2_regularization": 1.1918666729065913e-05,
            "1_GradientBoostingClassifier:learning_rate": 0.010142073044119007,
            "1_GradientBoostingClassifier:max_depth_factor": 2.1112029400370256,
            "1_GradientBoostingClassifier:max_leaf_nodes_factor": 0.8939167004500498,
            "1_GradientBoostingClassifier:min_samples_leaf_factor": 0.0009471097526872395,
            "1_GradientBoostingClassifier:n_iter_no_change": 4,
            "1_GradientBoostingClassifier:validation_fraction": 0.0931340550967587
           },
           "id": "00:02:03",
           "loss": 0.9254545454545454,
           "origin": "Hyperopt",
           "runtime": {
            "timestamp": 3.9654725419999295,
            "training_time": 1.1117141246795654
           },
           "status": "SUCCESS"
          },
          {
           "budget": 5,
           "config": {
            "0_SelectKBest:k_factor": 0.6007388174831431,
            "0_SelectKBest:score_func": "f_classif",
            "1_GradientBoostingClassifier:l2_regularization": 8.656151703541888e-06,
            "1_GradientBoostingClassifier:learning_rate": 0.6373787653110133,
            "1_GradientBoostingClassifier:max_depth_factor": 0.9143411903317283,
            "1_GradientBoostingClassifier:max_leaf_nodes_factor": 0.05648161634933878,
            "1_GradientBoostingClassifier:min_samples_leaf_factor": 0.01986448940915792,
            "1_GradientBoostingClassifier:n_iter_no_change": 8,
            "1_GradientBoostingClassifier:validation_fraction": 0.15341932545650527
           },
           "id": "00:02:04",
           "loss": 0.9127272727272727,
           "origin": "Hyperopt",
           "runtime": {
            "timestamp": 4.3883497140000145,
            "training_time": 0.32813024520874023
           },
           "status": "SUCCESS"
          },
          {
           "budget": 5,
           "config": {
            "0_SelectKBest:k_factor": 0.6062686202638313,
            "0_SelectKBest:score_func": "mutual_info",
            "1_GradientBoostingClassifier:l2_regularization": 0.00020851081795017026,
            "1_GradientBoostingClassifier:learning_rate": 0.0538649510470506,
            "1_GradientBoostingClassifier:max_depth_factor": 0.40212746039314434,
            "1_GradientBoostingClassifier:max_leaf_nodes_factor": 0.8975476743986903,
            "1_GradientBoostingClassifier:min_samples_leaf_factor": 0.0006011436221975011,
            "1_GradientBoostingClassifier:n_iter_no_change": 18,
            "1_GradientBoostingClassifier:validation_fraction": 0.3423850151710867
           },
           "id": "00:02:05",
           "loss": 0.9063636363636364,
           "origin": "Hyperopt",
           "runtime": {
            "timestamp": 4.902595853999969,
            "training_time": 0.4232916831970215
           },
           "status": "SUCCESS"
          }
         ],
         "configspace": "{\n  \"hyperparameters\": [\n    {\n      \"name\": \"0_SelectKBest:k_factor\",\n      \"type\": \"uniform_float\",\n      \"log\": false,\n      \"lower\": 0.0,\n      \"upper\": 1.0,\n      \"default\": 0.5\n    },\n    {\n      \"name\": \"0_SelectKBest:score_func\",\n      \"type\": \"categorical\",\n      \"choices\": [\n        \"chi2\",\n        \"f_classif\",\n        \"mutual_info\",\n        \"f_regression\"\n      ],\n      \"default\": \"f_classif\",\n      \"probabilities\": null\n    },\n    {\n      \"name\": \"1_GradientBoostingClassifier:l2_regularization\",\n      \"type\": \"uniform_float\",\n      \"log\": true,\n      \"lower\": 1e-10,\n      \"upper\": 1.0,\n      \"default\": 1e-10\n    },\n    {\n      \"name\": \"1_GradientBoostingClassifier:learning_rate\",\n      \"type\": \"uniform_float\",\n      \"log\": true,\n      \"lower\": 0.01,\n      \"upper\": 1.0,\n      \"default\": 0.1\n    },\n    {\n      \"name\": \"1_GradientBoostingClassifier:max_depth_factor\",\n      \"type\": \"uniform_float\",\n      \"log\": false,\n      \"lower\": 1e-05,\n      \"upper\": 2.5,\n      \"default\": 1.0\n    },\n    {\n      \"name\": \"1_GradientBoostingClassifier:max_leaf_nodes_factor\",\n      \"type\": \"uniform_float\",\n      \"log\": false,\n      \"lower\": 1e-05,\n      \"upper\": 1.0,\n      \"default\": 1.0\n    },\n    {\n      \"name\": \"1_GradientBoostingClassifier:min_samples_leaf_factor\",\n      \"type\": \"uniform_float\",\n      \"log\": true,\n      \"lower\": 0.0001,\n      \"upper\": 0.25,\n      \"default\": 0.0001\n    },\n    {\n      \"name\": \"1_GradientBoostingClassifier:n_iter_no_change\",\n      \"type\": \"uniform_int\",\n      \"log\": false,\n      \"lower\": 1,\n      \"upper\": 20,\n      \"default\": 10\n    },\n    {\n      \"name\": \"1_GradientBoostingClassifier:validation_fraction\",\n      \"type\": \"uniform_float\",\n      \"log\": false,\n      \"lower\": 0.01,\n      \"upper\": 0.4,\n      \"default\": 0.1\n    }\n  ],\n  \"conditions\": [],\n  \"forbiddens\": [],\n  \"python_module_version\": \"0.4.20\",\n  \"json_format_version\": 0.2\n}",
         "pipeline": {
          "args": {
           "configuration": null,
           "steps": [
            [
             "0_SelectKBest",
             {
              "args": {
               "k_factor": 0.5,
               "score_func": "f_classif"
              },
              "clazz": "dswizard.components.feature_preprocessing.select_k_best.SelectKBestComponent"
             }
            ],
            [
             "1_GradientBoostingClassifier",
             {
              "args": {
               "l2_regularization": 0,
               "learning_rate": 0.1,
               "loss": "auto",
               "max_bins": 255,
               "max_depth_factor": null,
               "max_iter": 100,
               "max_leaf_nodes_factor": 31,
               "min_samples_leaf_factor": 20,
               "n_iter_no_change": 10,
               "random_state": null,
               "scoring": "f1_weighted",
               "tol": 1e-07,
               "validation_fraction": 0.1
              },
              "clazz": "dswizard.components.classification.gradient_boosting.GradientBoostingClassifier"
             }
            ]
           ]
          },
          "clazz": "dswizard.pipeline.pipeline.FlexiblePipeline"
         }
        },
        {
         "cid": "00:03",
         "configs": [
          {
           "budget": 5,
           "config": {
            "1_DecisionTree:criterion": "gini",
            "1_DecisionTree:max_depth_factor": 1,
            "1_DecisionTree:min_samples_leaf_factor": 0.0001,
            "1_DecisionTree:min_samples_split_factor": 0.0001
           },
           "id": "00:03:00",
           "loss": 0.95,
           "origin": "Default",
           "runtime": {
            "timestamp": 5.19634239200002,
            "training_time": 0.008616209030151367
           },
           "status": "SUCCESS"
          },
          {
           "budget": 5,
           "config": {
            "1_DecisionTree:criterion": "gini",
            "1_DecisionTree:max_depth_factor": 1.133905887117187,
            "1_DecisionTree:min_samples_leaf_factor": 0.18175317220904733,
            "1_DecisionTree:min_samples_split_factor": 0.0867836030520215
           },
           "id": "00:03:01",
           "loss": 0.9936363636363637,
           "origin": "Default",
           "runtime": {
            "timestamp": 5.324055064999925,
            "training_time": 0.015056610107421875
           },
           "status": "SUCCESS"
          },
          {
           "budget": 5,
           "config": {
            "1_DecisionTree:criterion": "gini",
            "1_DecisionTree:max_depth_factor": 1.3130843364215887,
            "1_DecisionTree:min_samples_leaf_factor": 0.14319664753140562,
            "1_DecisionTree:min_samples_split_factor": 0.23688613641803027
           },
           "id": "00:03:02",
           "loss": 0.9436363636363635,
           "origin": "Default",
           "runtime": {
            "timestamp": 5.347526448999929,
            "training_time": 0.018099308013916016
           },
           "status": "SUCCESS"
          },
          {
           "budget": 5,
           "config": {
            "1_DecisionTree:criterion": "entropy",
            "1_DecisionTree:max_depth_factor": 1.4949239278903277,
            "1_DecisionTree:min_samples_leaf_factor": 0.05371777631142007,
            "1_DecisionTree:min_samples_split_factor": 0.16918377329242315
           },
           "id": "00:03:03",
           "loss": 0.95,
           "origin": "Default",
           "runtime": {
            "timestamp": 5.367890955000007,
            "training_time": 0.014611005783081055
           },
           "status": "SUCCESS"
          },
          {
           "budget": 5,
           "config": {
            "1_DecisionTree:criterion": "gini",
            "1_DecisionTree:max_depth_factor": 1.1809015283102695,
            "1_DecisionTree:min_samples_leaf_factor": 0.20716383272789463,
            "1_DecisionTree:min_samples_split_factor": 0.08397818897502873
           },
           "id": "00:03:04",
           "loss": 0.930909090909091,
           "origin": "Default",
           "runtime": {
            "timestamp": 5.389882483999941,
            "training_time": 0.014063119888305664
           },
           "status": "SUCCESS"
          },
          {
           "budget": 5,
           "config": {
            "1_DecisionTree:criterion": "gini",
            "1_DecisionTree:max_depth_factor": 1.2971575982467203,
            "1_DecisionTree:min_samples_leaf_factor": 0.15953249429328228,
            "1_DecisionTree:min_samples_split_factor": 0.053143784176646315
           },
           "id": "00:03:05",
           "loss": 0.9436363636363635,
           "origin": "Default",
           "runtime": {
            "timestamp": 5.633383644999981,
            "training_time": 0.23766779899597168
           },
           "status": "SUCCESS"
          }
         ],
         "configspace": "{\n  \"hyperparameters\": [\n    {\n      \"name\": \"1_DecisionTree:criterion\",\n      \"type\": \"categorical\",\n      \"choices\": [\n        \"gini\",\n        \"entropy\"\n      ],\n      \"default\": \"gini\",\n      \"probabilities\": null\n    },\n    {\n      \"name\": \"1_DecisionTree:max_depth_factor\",\n      \"type\": \"uniform_float\",\n      \"log\": false,\n      \"lower\": 0.0,\n      \"upper\": 2.0,\n      \"default\": 1.0\n    },\n    {\n      \"name\": \"1_DecisionTree:min_samples_leaf_factor\",\n      \"type\": \"uniform_float\",\n      \"log\": false,\n      \"lower\": 1e-07,\n      \"upper\": 0.25,\n      \"default\": 0.0001\n    },\n    {\n      \"name\": \"1_DecisionTree:min_samples_split_factor\",\n      \"type\": \"uniform_float\",\n      \"log\": false,\n      \"lower\": 1e-07,\n      \"upper\": 0.25,\n      \"default\": 0.0001\n    }\n  ],\n  \"conditions\": [],\n  \"forbiddens\": [],\n  \"python_module_version\": \"0.4.20\",\n  \"json_format_version\": 0.2\n}",
         "pipeline": {
          "args": {
           "configuration": null,
           "steps": [
            [
             "0_Normalizer",
             {
              "args": {
               "norm": "l2"
              },
              "clazz": "dswizard.components.data_preprocessing.normalize.NormalizerComponent"
             }
            ],
            [
             "1_DecisionTree",
             {
              "args": {
               "ccp_alpha": 0,
               "class_weight": null,
               "criterion": "gini",
               "max_depth_factor": null,
               "max_features_factor": null,
               "max_leaf_nodes_factor": null,
               "min_impurity_decrease": 0,
               "min_samples_leaf_factor": 1,
               "min_samples_split_factor": 2,
               "min_weight_fraction_leaf": 0,
               "random_state": null,
               "splitter": "best"
              },
              "clazz": "dswizard.components.classification.decision_tree.DecisionTree"
             }
            ]
           ]
          },
          "clazz": "dswizard.pipeline.pipeline.FlexiblePipeline"
         }
        },
        {
         "cid": "00:04",
         "configs": [
          {
           "budget": 5,
           "config": {
            "0_KernelPCA:gamma": 1,
            "0_KernelPCA:kernel": "rbf",
            "0_KernelPCA:n_components_factor": 1,
            "1_RandomForest:bootstrap": true,
            "1_RandomForest:criterion": "gini",
            "1_RandomForest:max_features": 0.5,
            "1_RandomForest:min_samples_leaf": 1,
            "1_RandomForest:min_samples_split": 2
           },
           "id": "00:04:00",
           "loss": 0.9493939393939395,
           "origin": "Default",
           "runtime": {
            "timestamp": 6.6911828699999205,
            "training_time": 0.2307140827178955
           },
           "status": "SUCCESS"
          },
          {
           "budget": 5,
           "config": {
            "0_KernelPCA:coef0": 0.10079507949709043,
            "0_KernelPCA:kernel": "sigmoid",
            "0_KernelPCA:n_components_factor": 0.9890650336437266,
            "1_RandomForest:bootstrap": true,
            "1_RandomForest:criterion": "entropy",
            "1_RandomForest:max_features": 0.6028809859014347,
            "1_RandomForest:min_samples_leaf": 4,
            "1_RandomForest:min_samples_split": 3
           },
           "id": "00:04:01",
           "loss": 0.8787878787878788,
           "origin": "Random Search",
           "runtime": {
            "timestamp": 7.861484598999937,
            "training_time": 0.37749814987182617
           },
           "status": "SUCCESS"
          },
          {
           "budget": 5,
           "config": {
            "0_KernelPCA:kernel": "cosine",
            "0_KernelPCA:n_components_factor": 0.14156037502111596,
            "1_RandomForest:bootstrap": false,
            "1_RandomForest:criterion": "gini",
            "1_RandomForest:max_features": 0.4212709978930246,
            "1_RandomForest:min_samples_leaf": 9,
            "1_RandomForest:min_samples_split": 12
           },
           "id": "00:04:02",
           "loss": 1,
           "origin": "Random Search",
           "runtime": {
            "timestamp": 8.249729946000002,
            "training_time": 0.32012391090393066
           },
           "status": "SUCCESS"
          },
          {
           "budget": 5,
           "config": {
            "0_KernelPCA:coef0": -0.10997177551963633,
            "0_KernelPCA:degree": 4,
            "0_KernelPCA:gamma": 4.863207444234823e-05,
            "0_KernelPCA:kernel": "poly",
            "0_KernelPCA:n_components_factor": 0.5182540698390363,
            "1_RandomForest:bootstrap": true,
            "1_RandomForest:criterion": "entropy",
            "1_RandomForest:max_features": 0.33922415573902975,
            "1_RandomForest:min_samples_leaf": 13,
            "1_RandomForest:min_samples_split": 15
           },
           "id": "00:04:03",
           "loss": 0.7344781144781145,
           "origin": "Random Search",
           "runtime": {
            "timestamp": 8.690587005999987,
            "training_time": 0.3725423812866211
           },
           "status": "SUCCESS"
          },
          {
           "budget": 5,
           "config": {
            "0_KernelPCA:coef0": 0.2176838780589574,
            "0_KernelPCA:kernel": "sigmoid",
            "0_KernelPCA:n_components_factor": 0.054481813955178926,
            "1_RandomForest:bootstrap": false,
            "1_RandomForest:criterion": "entropy",
            "1_RandomForest:max_features": 0.39128630978351575,
            "1_RandomForest:min_samples_leaf": 12,
            "1_RandomForest:min_samples_split": 12
           },
           "id": "00:04:04",
           "loss": 0.8481818181818181,
           "origin": "Random Search",
           "runtime": {
            "timestamp": 9.073470967999924,
            "training_time": 0.31708598136901855
           },
           "status": "SUCCESS"
          },
          {
           "budget": 5,
           "config": {
            "0_KernelPCA:coef0": 0.18805506362889735,
            "0_KernelPCA:kernel": "sigmoid",
            "0_KernelPCA:n_components_factor": 0.8429169829180777,
            "1_RandomForest:bootstrap": true,
            "1_RandomForest:criterion": "gini",
            "1_RandomForest:max_features": 0.6223986167179569,
            "1_RandomForest:min_samples_leaf": 19,
            "1_RandomForest:min_samples_split": 20
           },
           "id": "00:04:05",
           "loss": 0.6799999999999999,
           "origin": "Random Search",
           "runtime": {
            "timestamp": 9.522086654999953,
            "training_time": 0.38210582733154297
           },
           "status": "SUCCESS"
          }
         ],
         "configspace": "{\n  \"hyperparameters\": [\n    {\n      \"name\": \"0_KernelPCA:kernel\",\n      \"type\": \"categorical\",\n      \"choices\": [\n        \"poly\",\n        \"rbf\",\n        \"sigmoid\",\n        \"cosine\"\n      ],\n      \"default\": \"rbf\",\n      \"probabilities\": null\n    },\n    {\n      \"name\": \"0_KernelPCA:n_components_factor\",\n      \"type\": \"uniform_float\",\n      \"log\": false,\n      \"lower\": 0.0,\n      \"upper\": 1.0,\n      \"default\": 1.0\n    },\n    {\n      \"name\": \"1_RandomForest:bootstrap\",\n      \"type\": \"categorical\",\n      \"choices\": [\n        true,\n        false\n      ],\n      \"default\": true,\n      \"probabilities\": null\n    },\n    {\n      \"name\": \"1_RandomForest:criterion\",\n      \"type\": \"categorical\",\n      \"choices\": [\n        \"gini\",\n        \"entropy\"\n      ],\n      \"default\": \"gini\",\n      \"probabilities\": null\n    },\n    {\n      \"name\": \"1_RandomForest:max_features\",\n      \"type\": \"uniform_float\",\n      \"log\": false,\n      \"lower\": 0.0,\n      \"upper\": 1.0,\n      \"default\": 0.5\n    },\n    {\n      \"name\": \"1_RandomForest:min_samples_leaf\",\n      \"type\": \"uniform_int\",\n      \"log\": false,\n      \"lower\": 1,\n      \"upper\": 20,\n      \"default\": 1\n    },\n    {\n      \"name\": \"1_RandomForest:min_samples_split\",\n      \"type\": \"uniform_int\",\n      \"log\": false,\n      \"lower\": 2,\n      \"upper\": 20,\n      \"default\": 2\n    },\n    {\n      \"name\": \"0_KernelPCA:coef0\",\n      \"type\": \"uniform_float\",\n      \"log\": false,\n      \"lower\": -1.0,\n      \"upper\": 1.0,\n      \"default\": 0.0\n    },\n    {\n      \"name\": \"0_KernelPCA:degree\",\n      \"type\": \"uniform_int\",\n      \"log\": false,\n      \"lower\": 2,\n      \"upper\": 5,\n      \"default\": 3\n    },\n    {\n      \"name\": \"0_KernelPCA:gamma\",\n      \"type\": \"uniform_float\",\n      \"log\": true,\n      \"lower\": 3.0517578125e-05,\n      \"upper\": 8.0,\n      \"default\": 1.0\n    }\n  ],\n  \"conditions\": [\n    {\n      \"child\": \"0_KernelPCA:coef0\",\n      \"parent\": \"0_KernelPCA:kernel\",\n      \"type\": \"IN\",\n      \"values\": [\n        \"poly\",\n        \"sigmoid\"\n      ]\n    },\n    {\n      \"child\": \"0_KernelPCA:degree\",\n      \"parent\": \"0_KernelPCA:kernel\",\n      \"type\": \"EQ\",\n      \"value\": \"poly\"\n    },\n    {\n      \"child\": \"0_KernelPCA:gamma\",\n      \"parent\": \"0_KernelPCA:kernel\",\n      \"type\": \"IN\",\n      \"values\": [\n        \"poly\",\n        \"rbf\"\n      ]\n    }\n  ],\n  \"forbiddens\": [],\n  \"python_module_version\": \"0.4.20\",\n  \"json_format_version\": 0.2\n}",
         "pipeline": {
          "args": {
           "configuration": null,
           "steps": [
            [
             "0_KernelPCA",
             {
              "args": {
               "alpha": 1,
               "coef0": 1,
               "degree": 3,
               "eigen_solver": "auto",
               "fit_inverse_transform": false,
               "gamma": null,
               "kernel": "linear",
               "max_iter": null,
               "n_components_factor": null,
               "random_state": null,
               "remove_zero_eig": false,
               "tol": 0
              },
              "clazz": "dswizard.components.feature_preprocessing.kpca.KernelPCAComponent"
             }
            ],
            [
             "1_RandomForest",
             {
              "args": {
               "bootstrap": true,
               "ccp_alpha": 0,
               "class_weight": null,
               "criterion": "gini",
               "max_depth": null,
               "max_features": "auto",
               "max_leaf_nodes": null,
               "max_samples": null,
               "min_impurity_decrease": 0,
               "min_samples_leaf": 1,
               "min_samples_split": 2,
               "min_weight_fraction_leaf": 0,
               "n_estimators": 100,
               "oob_score": false,
               "random_state": null
              },
              "clazz": "dswizard.components.classification.random_forest.RandomForest"
             }
            ]
           ]
          },
          "clazz": "dswizard.pipeline.pipeline.FlexiblePipeline"
         }
        },
        {
         "cid": "00:05",
         "configs": [
          {
           "budget": 5,
           "config": {
            "0_QuantileTransformer:n_quantiles": 1000,
            "0_QuantileTransformer:output_distribution": "uniform",
            "1_DecisionTree:criterion": "gini",
            "1_DecisionTree:max_depth_factor": 1,
            "1_DecisionTree:min_samples_leaf_factor": 0.0001,
            "1_DecisionTree:min_samples_split_factor": 0.0001
           },
           "id": "00:05:00",
           "loss": 0.95,
           "origin": "Default",
           "runtime": {
            "timestamp": 10.047961764999968,
            "training_time": 0.008437871932983398
           },
           "status": "SUCCESS"
          }
         ],
         "configspace": "{\n  \"hyperparameters\": [\n    {\n      \"name\": \"0_QuantileTransformer:n_quantiles\",\n      \"type\": \"uniform_int\",\n      \"log\": false,\n      \"lower\": 10,\n      \"upper\": 2000,\n      \"default\": 1000\n    },\n    {\n      \"name\": \"0_QuantileTransformer:output_distribution\",\n      \"type\": \"categorical\",\n      \"choices\": [\n        \"uniform\",\n        \"normal\"\n      ],\n      \"default\": \"uniform\",\n      \"probabilities\": null\n    },\n    {\n      \"name\": \"1_DecisionTree:criterion\",\n      \"type\": \"categorical\",\n      \"choices\": [\n        \"gini\",\n        \"entropy\"\n      ],\n      \"default\": \"gini\",\n      \"probabilities\": null\n    },\n    {\n      \"name\": \"1_DecisionTree:max_depth_factor\",\n      \"type\": \"uniform_float\",\n      \"log\": false,\n      \"lower\": 0.0,\n      \"upper\": 2.0,\n      \"default\": 1.0\n    },\n    {\n      \"name\": \"1_DecisionTree:min_samples_leaf_factor\",\n      \"type\": \"uniform_float\",\n      \"log\": false,\n      \"lower\": 1e-07,\n      \"upper\": 0.25,\n      \"default\": 0.0001\n    },\n    {\n      \"name\": \"1_DecisionTree:min_samples_split_factor\",\n      \"type\": \"uniform_float\",\n      \"log\": false,\n      \"lower\": 1e-07,\n      \"upper\": 0.25,\n      \"default\": 0.0001\n    }\n  ],\n  \"conditions\": [],\n  \"forbiddens\": [],\n  \"python_module_version\": \"0.4.20\",\n  \"json_format_version\": 0.2\n}",
         "pipeline": {
          "args": {
           "configuration": null,
           "steps": [
            [
             "0_QuantileTransformer",
             {
              "args": {
               "ignore_implicit_zeros": false,
               "n_quantiles": 1000,
               "output_distribution": "uniform",
               "random_state": null,
               "subsample": 100000
              },
              "clazz": "dswizard.components.data_preprocessing.quantile_transformer.QuantileTransformerComponent"
             }
            ],
            [
             "1_DecisionTree",
             {
              "args": {
               "ccp_alpha": 0,
               "class_weight": null,
               "criterion": "gini",
               "max_depth_factor": null,
               "max_features_factor": null,
               "max_leaf_nodes_factor": null,
               "min_impurity_decrease": 0,
               "min_samples_leaf_factor": 1,
               "min_samples_split_factor": 2,
               "min_weight_fraction_leaf": 0,
               "random_state": null,
               "splitter": "best"
              },
              "clazz": "dswizard.components.classification.decision_tree.DecisionTree"
             }
            ]
           ]
          },
          "clazz": "dswizard.pipeline.pipeline.FlexiblePipeline"
         }
        }
       ]
      },
      "text/plain": [
       "<xautoml.main.XAutoML at 0x7f552c1729d0>"
      ]
     },
     "execution_count": 1,
     "metadata": {},
     "output_type": "execute_result"
    }
   ],
   "source": [
    "from xautoml.main import XAutoML\n",
    "from xautoml.adapter import import_dswizard\n",
    "from xautoml.util import io_utils\n",
    "import pickle\n",
    "\n",
    "#task = 31\n",
    "#task = 7306\n",
    "task = 1823\n",
    "#task = 168746\n",
    "\n",
    "with open(f'data/runhistory_{task}.pkl', 'rb') as fh:\n",
    "    runhistory = pickle.load(fh)\n",
    "with open(f'data/ensemble_{task}.pkl', 'rb') as fh:\n",
    "    ensemble = pickle.load(fh)\n",
    "\n",
    "X, y = io_utils.openml_task(task, 0)\n",
    "\n",
    "rh = import_dswizard(runhistory, ensemble)\n",
    "main = XAutoML(rh, X, y)\n",
    "main"
   ]
  },
  {
   "cell_type": "code",
   "execution_count": null,
   "id": "c6ec875f-77f0-4c3b-9ff8-2fa874cd7386",
   "metadata": {},
   "outputs": [],
   "source": [
    "X.shape"
   ]
  },
  {
   "cell_type": "code",
   "execution_count": null,
   "id": "b4f0b7db-862d-4adb-8b39-e5d5e5545b93",
   "metadata": {
    "tags": [
     "xautoml-generated"
    ]
   },
   "outputs": [],
   "source": [
    "from xautoml.main import XAutoML\n",
    "from xautoml.adapter import import_auto_sklearn\n",
    "from xautoml.util import io_utils\n",
    "import openml\n",
    "import pickle\n",
    "\n",
    "\n",
    "with open('auto-sklearn_1461.pkl', 'rb') as fh:\n",
    "    raw = pickle.load(fh)\n",
    "\n",
    "X, y = fetch_openml(data_id=1461, return_X_y=True, as_frame=True)\n",
    "\n",
    "_, X, _, y = sklearn.model_selection.train_test_split(X, y, random_state=1)\n",
    "\n",
    "X = X.reset_index(drop=True)\n",
    "y = y.reset_index(drop=True)"
   ]
  },
  {
   "cell_type": "code",
   "execution_count": null,
   "id": "7037d7c7-816c-4708-b3eb-f22eeba044f2",
   "metadata": {
    "tags": [
     "xautoml-generated"
    ]
   },
   "outputs": [],
   "source": [
    "rh = import_auto_sklearn(raw)\n",
    "main = XAutoML(rh, X, y)\n",
    "main"
   ]
  },
  {
   "cell_type": "code",
   "execution_count": null,
   "id": "766a688a-b33d-4e21-8bea-ec86d217e768",
   "metadata": {},
   "outputs": [],
   "source": []
  },
  {
   "cell_type": "code",
   "execution_count": null,
   "id": "43648f62-dba0-452b-aa19-705117a98f64",
   "metadata": {},
   "outputs": [],
   "source": [
    "import pandas as pd\n",
    "from xautoml.main import XAutoML\n",
    "from xautoml.adapter import import_auto_sklearn\n",
    "from xautoml.util import io_utils\n",
    "import openml\n",
    "import joblib\n",
    "\n",
    "\n",
    "data = pd.read_csv('user_study/heart.csv')\n",
    "X = data.loc[:, data.columns[:-1]]\n",
    "y = data.loc[:, data.columns[-1]]\n",
    "\n",
    "X.loc[:, 'Sex'] = X.Sex.astype('category')\n",
    "X.loc[:, 'ChestPainType'] = X.ChestPainType.astype('category')\n",
    "X.loc[:, 'RestingECG'] = X.RestingECG.astype('category')\n",
    "X.loc[:, 'ExerciseAngina'] = X.ExerciseAngina.astype('category')\n",
    "X.loc[:, 'ST_Slope'] = X.ST_Slope.astype('category')"
   ]
  },
  {
   "cell_type": "code",
   "execution_count": null,
   "id": "92a069c2-5915-43a9-acba-54d9e728dda1",
   "metadata": {},
   "outputs": [],
   "source": [
    "with open('auto-sklearn.pkl', 'rb') as fh:\n",
    "    raw = joblib.load(fh)\n",
    "    \n",
    "rh = import_auto_sklearn(raw)\n",
    "main = XAutoML(rh, X, y)\n",
    "main"
   ]
  },
  {
   "cell_type": "code",
   "execution_count": null,
   "id": "243601fd-1368-41f1-8deb-9e2a569cdeb3",
   "metadata": {},
   "outputs": [],
   "source": []
  }
 ],
 "metadata": {
  "kernelspec": {
   "display_name": "Python 3 (ipykernel)",
   "language": "python",
   "name": "python3"
  },
  "language_info": {
   "codemirror_mode": {
    "name": "ipython",
    "version": 3
   },
   "file_extension": ".py",
   "mimetype": "text/x-python",
   "name": "python",
   "nbconvert_exporter": "python",
   "pygments_lexer": "ipython3",
   "version": "3.9.7"
  }
 },
 "nbformat": 4,
 "nbformat_minor": 5
}
