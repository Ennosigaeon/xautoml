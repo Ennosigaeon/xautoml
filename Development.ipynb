{
 "cells": [
  {
   "cell_type": "code",
   "execution_count": null,
   "id": "bdad551f-8d18-442b-9688-a7c4450b1764",
   "metadata": {
    "tags": []
   },
   "outputs": [],
   "source": [
    "from xautoml.main import XAutoML\n",
    "from xautoml.adapter import import_dswizard\n",
    "from xautoml.util import io_utils\n",
    "import openml\n",
    "import pickle\n",
    "\n",
    "#task = 31\n",
    "#task = 7306\n",
    "#task = 1823\n",
    "task = 168746\n",
    "\n",
    "#with open(f'/home/marc/phd/code/dswizard/scripts/run/{task}/runhistory_{task}.pkl', 'rb') as fh:\n",
    "with open(f'runhistory_{task}.pkl', 'rb') as fh:\n",
    "#with open('runhistory_auto-sklearn.pkl', 'rb') as fh:\n",
    "    runhistory = pickle.load(fh)\n",
    "\n",
    "X, y = io_utils.openml_task(task, 0)\n",
    "\n",
    "\n",
    "X.shape\n",
    "\n",
    "#X = X.rename(columns={'V1': 'systolic blood pressure', 'V2': 'tobacco', 'V3': 'low densiity lipoprotein', 'V4': 'adiposity', 'V5': 'famhist', 'V6': 'typea', 'V7': 'obesity', 'V8': 'alcohol', 'V9': 'age',})"
   ]
  },
  {
   "cell_type": "code",
   "execution_count": null,
   "id": "88d95150-f360-4dc9-88eb-aae44e5918d2",
   "metadata": {},
   "outputs": [],
   "source": [
    "rh = import_dswizard(runhistory)\n",
    "main = XAutoML(rh, X, y)\n",
    "main"
   ]
  },
  {
   "cell_type": "code",
   "execution_count": null,
   "id": "b4f0b7db-862d-4adb-8b39-e5d5e5545b93",
   "metadata": {
    "tags": [
     "xautoml-generated"
    ]
   },
   "outputs": [],
   "source": [
    "from xautoml.main import XAutoML\n",
    "from xautoml.adapter import import_auto_sklearn\n",
    "from xautoml.util import io_utils\n",
    "import openml\n",
    "import pickle\n",
    "\n",
    "\n",
    "with open('auto-sklearn_1461.pkl', 'rb') as fh:\n",
    "    raw = pickle.load(fh)\n",
    "\n",
    "X, y = fetch_openml(data_id=1461, return_X_y=True, as_frame=True)\n",
    "\n",
    "_, X, _, y = sklearn.model_selection.train_test_split(X, y, random_state=1)\n",
    "\n",
    "X = X.reset_index(drop=True)\n",
    "y = y.reset_index(drop=True)"
   ]
  },
  {
   "cell_type": "code",
   "execution_count": null,
   "id": "7037d7c7-816c-4708-b3eb-f22eeba044f2",
   "metadata": {
    "tags": [
     "xautoml-generated"
    ]
   },
   "outputs": [],
   "source": [
    "rh = import_auto_sklearn(raw)\n",
    "main = XAutoML(rh, X, y)\n",
    "main"
   ]
  },
  {
   "cell_type": "code",
   "execution_count": null,
   "id": "766a688a-b33d-4e21-8bea-ec86d217e768",
   "metadata": {},
   "outputs": [],
   "source": []
  },
  {
   "cell_type": "code",
   "execution_count": 37,
   "id": "43648f62-dba0-452b-aa19-705117a98f64",
   "metadata": {},
   "outputs": [],
   "source": [
    "import pandas as pd\n",
    "from xautoml.main import XAutoML\n",
    "from xautoml.adapter import import_auto_sklearn\n",
    "from xautoml.util import io_utils\n",
    "import openml\n",
    "import joblib\n",
    "\n",
    "\n",
    "data = pd.read_csv('user_study/heart.csv')\n",
    "X = data.loc[:, data.columns[:-1]]\n",
    "y = data.loc[:, data.columns[-1]]\n",
    "\n",
    "X.loc[:, 'Sex'] = X.Sex.astype('category')\n",
    "X.loc[:, 'ChestPainType'] = X.ChestPainType.astype('category')\n",
    "X.loc[:, 'RestingECG'] = X.RestingECG.astype('category')\n",
    "X.loc[:, 'ExerciseAngina'] = X.ExerciseAngina.astype('category')\n",
    "X.loc[:, 'ST_Slope'] = X.ST_Slope.astype('category')"
   ]
  },
  {
   "cell_type": "code",
   "execution_count": 38,
   "id": "92a069c2-5915-43a9-acba-54d9e728dda1",
   "metadata": {},
   "outputs": [
    {
     "data": {
      "application/xautoml+json": {
       "default_configspace": "{\n  \"hyperparameters\": [\n    {\n      \"name\": \"balancing:strategy\",\n      \"type\": \"categorical\",\n      \"choices\": [\n        \"none\",\n        \"weighting\"\n      ],\n      \"default\": \"none\",\n      \"probabilities\": null\n    },\n    {\n      \"name\": \"classifier:__choice__\",\n      \"type\": \"categorical\",\n      \"choices\": [\n        \"adaboost\",\n        \"bernoulli_nb\",\n        \"decision_tree\",\n        \"extra_trees\",\n        \"gaussian_nb\",\n        \"gradient_boosting\",\n        \"k_nearest_neighbors\",\n        \"lda\",\n        \"liblinear_svc\",\n        \"libsvm_svc\",\n        \"mlp\",\n        \"multinomial_nb\",\n        \"passive_aggressive\",\n        \"qda\",\n        \"random_forest\",\n        \"sgd\"\n      ],\n      \"default\": \"random_forest\",\n      \"probabilities\": null\n    },\n    {\n      \"name\": \"data_preprocessor:__choice__\",\n      \"type\": \"categorical\",\n      \"choices\": [\n        \"feature_type\"\n      ],\n      \"default\": \"feature_type\",\n      \"probabilities\": null\n    },\n    {\n      \"name\": \"feature_preprocessor:__choice__\",\n      \"type\": \"categorical\",\n      \"choices\": [\n        \"extra_trees_preproc_for_classification\",\n        \"fast_ica\",\n        \"feature_agglomeration\",\n        \"kernel_pca\",\n        \"kitchen_sinks\",\n        \"liblinear_svc_preprocessor\",\n        \"no_preprocessing\",\n        \"nystroem_sampler\",\n        \"pca\",\n        \"polynomial\",\n        \"random_trees_embedding\",\n        \"select_percentile_classification\",\n        \"select_rates_classification\"\n      ],\n      \"default\": \"no_preprocessing\",\n      \"probabilities\": null\n    },\n    {\n      \"name\": \"classifier:adaboost:algorithm\",\n      \"type\": \"categorical\",\n      \"choices\": [\n        \"SAMME.R\",\n        \"SAMME\"\n      ],\n      \"default\": \"SAMME.R\",\n      \"probabilities\": null\n    },\n    {\n      \"name\": \"classifier:adaboost:learning_rate\",\n      \"type\": \"uniform_float\",\n      \"log\": true,\n      \"lower\": 0.01,\n      \"upper\": 2.0,\n      \"default\": 0.1\n    },\n    {\n      \"name\": \"classifier:adaboost:max_depth\",\n      \"type\": \"uniform_int\",\n      \"log\": false,\n      \"lower\": 1,\n      \"upper\": 10,\n      \"default\": 1\n    },\n    {\n      \"name\": \"classifier:adaboost:n_estimators\",\n      \"type\": \"uniform_int\",\n      \"log\": false,\n      \"lower\": 50,\n      \"upper\": 500,\n      \"default\": 50\n    },\n    {\n      \"name\": \"classifier:bernoulli_nb:alpha\",\n      \"type\": \"uniform_float\",\n      \"log\": true,\n      \"lower\": 0.01,\n      \"upper\": 100.0,\n      \"default\": 1.0\n    },\n    {\n      \"name\": \"classifier:bernoulli_nb:fit_prior\",\n      \"type\": \"categorical\",\n      \"choices\": [\n        \"True\",\n        \"False\"\n      ],\n      \"default\": \"True\",\n      \"probabilities\": null\n    },\n    {\n      \"name\": \"classifier:decision_tree:criterion\",\n      \"type\": \"categorical\",\n      \"choices\": [\n        \"gini\",\n        \"entropy\"\n      ],\n      \"default\": \"gini\",\n      \"probabilities\": null\n    },\n    {\n      \"name\": \"classifier:decision_tree:max_depth_factor\",\n      \"type\": \"uniform_float\",\n      \"log\": false,\n      \"lower\": 0.0,\n      \"upper\": 2.0,\n      \"default\": 0.5\n    },\n    {\n      \"name\": \"classifier:decision_tree:max_features\",\n      \"type\": \"constant\",\n      \"value\": 1.0\n    },\n    {\n      \"name\": \"classifier:decision_tree:max_leaf_nodes\",\n      \"type\": \"constant\",\n      \"value\": \"None\"\n    },\n    {\n      \"name\": \"classifier:decision_tree:min_impurity_decrease\",\n      \"type\": \"constant\",\n      \"value\": 0.0\n    },\n    {\n      \"name\": \"classifier:decision_tree:min_samples_leaf\",\n      \"type\": \"uniform_int\",\n      \"log\": false,\n      \"lower\": 1,\n      \"upper\": 20,\n      \"default\": 1\n    },\n    {\n      \"name\": \"classifier:decision_tree:min_samples_split\",\n      \"type\": \"uniform_int\",\n      \"log\": false,\n      \"lower\": 2,\n      \"upper\": 20,\n      \"default\": 2\n    },\n    {\n      \"name\": \"classifier:decision_tree:min_weight_fraction_leaf\",\n      \"type\": \"constant\",\n      \"value\": 0.0\n    },\n    {\n      \"name\": \"classifier:extra_trees:bootstrap\",\n      \"type\": \"categorical\",\n      \"choices\": [\n        \"True\",\n        \"False\"\n      ],\n      \"default\": \"False\",\n      \"probabilities\": null\n    },\n    {\n      \"name\": \"classifier:extra_trees:criterion\",\n      \"type\": \"categorical\",\n      \"choices\": [\n        \"gini\",\n        \"entropy\"\n      ],\n      \"default\": \"gini\",\n      \"probabilities\": null\n    },\n    {\n      \"name\": \"classifier:extra_trees:max_depth\",\n      \"type\": \"constant\",\n      \"value\": \"None\"\n    },\n    {\n      \"name\": \"classifier:extra_trees:max_features\",\n      \"type\": \"uniform_float\",\n      \"log\": false,\n      \"lower\": 0.0,\n      \"upper\": 1.0,\n      \"default\": 0.5\n    },\n    {\n      \"name\": \"classifier:extra_trees:max_leaf_nodes\",\n      \"type\": \"constant\",\n      \"value\": \"None\"\n    },\n    {\n      \"name\": \"classifier:extra_trees:min_impurity_decrease\",\n      \"type\": \"constant\",\n      \"value\": 0.0\n    },\n    {\n      \"name\": \"classifier:extra_trees:min_samples_leaf\",\n      \"type\": \"uniform_int\",\n      \"log\": false,\n      \"lower\": 1,\n      \"upper\": 20,\n      \"default\": 1\n    },\n    {\n      \"name\": \"classifier:extra_trees:min_samples_split\",\n      \"type\": \"uniform_int\",\n      \"log\": false,\n      \"lower\": 2,\n      \"upper\": 20,\n      \"default\": 2\n    },\n    {\n      \"name\": \"classifier:extra_trees:min_weight_fraction_leaf\",\n      \"type\": \"constant\",\n      \"value\": 0.0\n    },\n    {\n      \"name\": \"classifier:gradient_boosting:early_stop\",\n      \"type\": \"categorical\",\n      \"choices\": [\n        \"off\",\n        \"valid\",\n        \"train\"\n      ],\n      \"default\": \"off\",\n      \"probabilities\": null\n    },\n    {\n      \"name\": \"classifier:gradient_boosting:l2_regularization\",\n      \"type\": \"uniform_float\",\n      \"log\": true,\n      \"lower\": 1e-10,\n      \"upper\": 1.0,\n      \"default\": 1e-10\n    },\n    {\n      \"name\": \"classifier:gradient_boosting:learning_rate\",\n      \"type\": \"uniform_float\",\n      \"log\": true,\n      \"lower\": 0.01,\n      \"upper\": 1.0,\n      \"default\": 0.1\n    },\n    {\n      \"name\": \"classifier:gradient_boosting:loss\",\n      \"type\": \"constant\",\n      \"value\": \"auto\"\n    },\n    {\n      \"name\": \"classifier:gradient_boosting:max_bins\",\n      \"type\": \"constant\",\n      \"value\": 255\n    },\n    {\n      \"name\": \"classifier:gradient_boosting:max_depth\",\n      \"type\": \"constant\",\n      \"value\": \"None\"\n    },\n    {\n      \"name\": \"classifier:gradient_boosting:max_leaf_nodes\",\n      \"type\": \"uniform_int\",\n      \"log\": true,\n      \"lower\": 3,\n      \"upper\": 2047,\n      \"default\": 31\n    },\n    {\n      \"name\": \"classifier:gradient_boosting:min_samples_leaf\",\n      \"type\": \"uniform_int\",\n      \"log\": true,\n      \"lower\": 1,\n      \"upper\": 200,\n      \"default\": 20\n    },\n    {\n      \"name\": \"classifier:gradient_boosting:scoring\",\n      \"type\": \"constant\",\n      \"value\": \"loss\"\n    },\n    {\n      \"name\": \"classifier:gradient_boosting:tol\",\n      \"type\": \"constant\",\n      \"value\": 1e-07\n    },\n    {\n      \"name\": \"classifier:k_nearest_neighbors:n_neighbors\",\n      \"type\": \"uniform_int\",\n      \"log\": true,\n      \"lower\": 1,\n      \"upper\": 100,\n      \"default\": 1\n    },\n    {\n      \"name\": \"classifier:k_nearest_neighbors:p\",\n      \"type\": \"categorical\",\n      \"choices\": [\n        1,\n        2\n      ],\n      \"default\": 2,\n      \"probabilities\": null\n    },\n    {\n      \"name\": \"classifier:k_nearest_neighbors:weights\",\n      \"type\": \"categorical\",\n      \"choices\": [\n        \"uniform\",\n        \"distance\"\n      ],\n      \"default\": \"uniform\",\n      \"probabilities\": null\n    },\n    {\n      \"name\": \"classifier:lda:shrinkage\",\n      \"type\": \"categorical\",\n      \"choices\": [\n        \"None\",\n        \"auto\",\n        \"manual\"\n      ],\n      \"default\": \"None\",\n      \"probabilities\": null\n    },\n    {\n      \"name\": \"classifier:lda:tol\",\n      \"type\": \"uniform_float\",\n      \"log\": true,\n      \"lower\": 1e-05,\n      \"upper\": 0.1,\n      \"default\": 0.0001\n    },\n    {\n      \"name\": \"classifier:liblinear_svc:C\",\n      \"type\": \"uniform_float\",\n      \"log\": true,\n      \"lower\": 0.03125,\n      \"upper\": 32768.0,\n      \"default\": 1.0\n    },\n    {\n      \"name\": \"classifier:liblinear_svc:dual\",\n      \"type\": \"constant\",\n      \"value\": \"False\"\n    },\n    {\n      \"name\": \"classifier:liblinear_svc:fit_intercept\",\n      \"type\": \"constant\",\n      \"value\": \"True\"\n    },\n    {\n      \"name\": \"classifier:liblinear_svc:intercept_scaling\",\n      \"type\": \"constant\",\n      \"value\": 1\n    },\n    {\n      \"name\": \"classifier:liblinear_svc:loss\",\n      \"type\": \"categorical\",\n      \"choices\": [\n        \"hinge\",\n        \"squared_hinge\"\n      ],\n      \"default\": \"squared_hinge\",\n      \"probabilities\": null\n    },\n    {\n      \"name\": \"classifier:liblinear_svc:multi_class\",\n      \"type\": \"constant\",\n      \"value\": \"ovr\"\n    },\n    {\n      \"name\": \"classifier:liblinear_svc:penalty\",\n      \"type\": \"categorical\",\n      \"choices\": [\n        \"l1\",\n        \"l2\"\n      ],\n      \"default\": \"l2\",\n      \"probabilities\": null\n    },\n    {\n      \"name\": \"classifier:liblinear_svc:tol\",\n      \"type\": \"uniform_float\",\n      \"log\": true,\n      \"lower\": 1e-05,\n      \"upper\": 0.1,\n      \"default\": 0.0001\n    },\n    {\n      \"name\": \"classifier:libsvm_svc:C\",\n      \"type\": \"uniform_float\",\n      \"log\": true,\n      \"lower\": 0.03125,\n      \"upper\": 32768.0,\n      \"default\": 1.0\n    },\n    {\n      \"name\": \"classifier:libsvm_svc:gamma\",\n      \"type\": \"uniform_float\",\n      \"log\": true,\n      \"lower\": 3.0517578125e-05,\n      \"upper\": 8.0,\n      \"default\": 0.1\n    },\n    {\n      \"name\": \"classifier:libsvm_svc:kernel\",\n      \"type\": \"categorical\",\n      \"choices\": [\n        \"rbf\",\n        \"poly\",\n        \"sigmoid\"\n      ],\n      \"default\": \"rbf\",\n      \"probabilities\": null\n    },\n    {\n      \"name\": \"classifier:libsvm_svc:max_iter\",\n      \"type\": \"constant\",\n      \"value\": -1\n    },\n    {\n      \"name\": \"classifier:libsvm_svc:shrinking\",\n      \"type\": \"categorical\",\n      \"choices\": [\n        \"True\",\n        \"False\"\n      ],\n      \"default\": \"True\",\n      \"probabilities\": null\n    },\n    {\n      \"name\": \"classifier:libsvm_svc:tol\",\n      \"type\": \"uniform_float\",\n      \"log\": true,\n      \"lower\": 1e-05,\n      \"upper\": 0.1,\n      \"default\": 0.001\n    },\n    {\n      \"name\": \"classifier:mlp:activation\",\n      \"type\": \"categorical\",\n      \"choices\": [\n        \"tanh\",\n        \"relu\"\n      ],\n      \"default\": \"relu\",\n      \"probabilities\": null\n    },\n    {\n      \"name\": \"classifier:mlp:alpha\",\n      \"type\": \"uniform_float\",\n      \"log\": true,\n      \"lower\": 1e-07,\n      \"upper\": 0.1,\n      \"default\": 0.0001\n    },\n    {\n      \"name\": \"classifier:mlp:batch_size\",\n      \"type\": \"constant\",\n      \"value\": \"auto\"\n    },\n    {\n      \"name\": \"classifier:mlp:beta_1\",\n      \"type\": \"constant\",\n      \"value\": 0.9\n    },\n    {\n      \"name\": \"classifier:mlp:beta_2\",\n      \"type\": \"constant\",\n      \"value\": 0.999\n    },\n    {\n      \"name\": \"classifier:mlp:early_stopping\",\n      \"type\": \"categorical\",\n      \"choices\": [\n        \"valid\",\n        \"train\"\n      ],\n      \"default\": \"valid\",\n      \"probabilities\": null\n    },\n    {\n      \"name\": \"classifier:mlp:epsilon\",\n      \"type\": \"constant\",\n      \"value\": 1e-08\n    },\n    {\n      \"name\": \"classifier:mlp:hidden_layer_depth\",\n      \"type\": \"uniform_int\",\n      \"log\": false,\n      \"lower\": 1,\n      \"upper\": 3,\n      \"default\": 1\n    },\n    {\n      \"name\": \"classifier:mlp:learning_rate_init\",\n      \"type\": \"uniform_float\",\n      \"log\": true,\n      \"lower\": 0.0001,\n      \"upper\": 0.5,\n      \"default\": 0.001\n    },\n    {\n      \"name\": \"classifier:mlp:n_iter_no_change\",\n      \"type\": \"constant\",\n      \"value\": 32\n    },\n    {\n      \"name\": \"classifier:mlp:num_nodes_per_layer\",\n      \"type\": \"uniform_int\",\n      \"log\": true,\n      \"lower\": 16,\n      \"upper\": 264,\n      \"default\": 32\n    },\n    {\n      \"name\": \"classifier:mlp:shuffle\",\n      \"type\": \"constant\",\n      \"value\": \"True\"\n    },\n    {\n      \"name\": \"classifier:mlp:solver\",\n      \"type\": \"constant\",\n      \"value\": \"adam\"\n    },\n    {\n      \"name\": \"classifier:mlp:tol\",\n      \"type\": \"constant\",\n      \"value\": 0.0001\n    },\n    {\n      \"name\": \"classifier:multinomial_nb:alpha\",\n      \"type\": \"uniform_float\",\n      \"log\": true,\n      \"lower\": 0.01,\n      \"upper\": 100.0,\n      \"default\": 1.0\n    },\n    {\n      \"name\": \"classifier:multinomial_nb:fit_prior\",\n      \"type\": \"categorical\",\n      \"choices\": [\n        \"True\",\n        \"False\"\n      ],\n      \"default\": \"True\",\n      \"probabilities\": null\n    },\n    {\n      \"name\": \"classifier:passive_aggressive:C\",\n      \"type\": \"uniform_float\",\n      \"log\": true,\n      \"lower\": 1e-05,\n      \"upper\": 10.0,\n      \"default\": 1.0\n    },\n    {\n      \"name\": \"classifier:passive_aggressive:average\",\n      \"type\": \"categorical\",\n      \"choices\": [\n        \"False\",\n        \"True\"\n      ],\n      \"default\": \"False\",\n      \"probabilities\": null\n    },\n    {\n      \"name\": \"classifier:passive_aggressive:fit_intercept\",\n      \"type\": \"constant\",\n      \"value\": \"True\"\n    },\n    {\n      \"name\": \"classifier:passive_aggressive:loss\",\n      \"type\": \"categorical\",\n      \"choices\": [\n        \"hinge\",\n        \"squared_hinge\"\n      ],\n      \"default\": \"hinge\",\n      \"probabilities\": null\n    },\n    {\n      \"name\": \"classifier:passive_aggressive:tol\",\n      \"type\": \"uniform_float\",\n      \"log\": true,\n      \"lower\": 1e-05,\n      \"upper\": 0.1,\n      \"default\": 0.0001\n    },\n    {\n      \"name\": \"classifier:qda:reg_param\",\n      \"type\": \"uniform_float\",\n      \"log\": false,\n      \"lower\": 0.0,\n      \"upper\": 1.0,\n      \"default\": 0.0\n    },\n    {\n      \"name\": \"classifier:random_forest:bootstrap\",\n      \"type\": \"categorical\",\n      \"choices\": [\n        \"True\",\n        \"False\"\n      ],\n      \"default\": \"True\",\n      \"probabilities\": null\n    },\n    {\n      \"name\": \"classifier:random_forest:criterion\",\n      \"type\": \"categorical\",\n      \"choices\": [\n        \"gini\",\n        \"entropy\"\n      ],\n      \"default\": \"gini\",\n      \"probabilities\": null\n    },\n    {\n      \"name\": \"classifier:random_forest:max_depth\",\n      \"type\": \"constant\",\n      \"value\": \"None\"\n    },\n    {\n      \"name\": \"classifier:random_forest:max_features\",\n      \"type\": \"uniform_float\",\n      \"log\": false,\n      \"lower\": 0.0,\n      \"upper\": 1.0,\n      \"default\": 0.5\n    },\n    {\n      \"name\": \"classifier:random_forest:max_leaf_nodes\",\n      \"type\": \"constant\",\n      \"value\": \"None\"\n    },\n    {\n      \"name\": \"classifier:random_forest:min_impurity_decrease\",\n      \"type\": \"constant\",\n      \"value\": 0.0\n    },\n    {\n      \"name\": \"classifier:random_forest:min_samples_leaf\",\n      \"type\": \"uniform_int\",\n      \"log\": false,\n      \"lower\": 1,\n      \"upper\": 20,\n      \"default\": 1\n    },\n    {\n      \"name\": \"classifier:random_forest:min_samples_split\",\n      \"type\": \"uniform_int\",\n      \"log\": false,\n      \"lower\": 2,\n      \"upper\": 20,\n      \"default\": 2\n    },\n    {\n      \"name\": \"classifier:random_forest:min_weight_fraction_leaf\",\n      \"type\": \"constant\",\n      \"value\": 0.0\n    },\n    {\n      \"name\": \"classifier:sgd:alpha\",\n      \"type\": \"uniform_float\",\n      \"log\": true,\n      \"lower\": 1e-07,\n      \"upper\": 0.1,\n      \"default\": 0.0001\n    },\n    {\n      \"name\": \"classifier:sgd:average\",\n      \"type\": \"categorical\",\n      \"choices\": [\n        \"False\",\n        \"True\"\n      ],\n      \"default\": \"False\",\n      \"probabilities\": null\n    },\n    {\n      \"name\": \"classifier:sgd:fit_intercept\",\n      \"type\": \"constant\",\n      \"value\": \"True\"\n    },\n    {\n      \"name\": \"classifier:sgd:learning_rate\",\n      \"type\": \"categorical\",\n      \"choices\": [\n        \"optimal\",\n        \"invscaling\",\n        \"constant\"\n      ],\n      \"default\": \"invscaling\",\n      \"probabilities\": null\n    },\n    {\n      \"name\": \"classifier:sgd:loss\",\n      \"type\": \"categorical\",\n      \"choices\": [\n        \"hinge\",\n        \"log\",\n        \"modified_huber\",\n        \"squared_hinge\",\n        \"perceptron\"\n      ],\n      \"default\": \"log\",\n      \"probabilities\": null\n    },\n    {\n      \"name\": \"classifier:sgd:penalty\",\n      \"type\": \"categorical\",\n      \"choices\": [\n        \"l1\",\n        \"l2\",\n        \"elasticnet\"\n      ],\n      \"default\": \"l2\",\n      \"probabilities\": null\n    },\n    {\n      \"name\": \"classifier:sgd:tol\",\n      \"type\": \"uniform_float\",\n      \"log\": true,\n      \"lower\": 1e-05,\n      \"upper\": 0.1,\n      \"default\": 0.0001\n    },\n    {\n      \"name\": \"data_preprocessor:feature_type:categorical_transformer:categorical_encoding:__choice__\",\n      \"type\": \"categorical\",\n      \"choices\": [\n        \"encoding\",\n        \"no_encoding\",\n        \"one_hot_encoding\"\n      ],\n      \"default\": \"one_hot_encoding\",\n      \"probabilities\": null\n    },\n    {\n      \"name\": \"data_preprocessor:feature_type:categorical_transformer:category_coalescence:__choice__\",\n      \"type\": \"categorical\",\n      \"choices\": [\n        \"minority_coalescer\",\n        \"no_coalescense\"\n      ],\n      \"default\": \"minority_coalescer\",\n      \"probabilities\": null\n    },\n    {\n      \"name\": \"data_preprocessor:feature_type:numerical_transformer:imputation:strategy\",\n      \"type\": \"categorical\",\n      \"choices\": [\n        \"mean\",\n        \"median\",\n        \"most_frequent\"\n      ],\n      \"default\": \"mean\",\n      \"probabilities\": null\n    },\n    {\n      \"name\": \"data_preprocessor:feature_type:numerical_transformer:rescaling:__choice__\",\n      \"type\": \"categorical\",\n      \"choices\": [\n        \"minmax\",\n        \"none\",\n        \"normalize\",\n        \"power_transformer\",\n        \"quantile_transformer\",\n        \"robust_scaler\",\n        \"standardize\"\n      ],\n      \"default\": \"standardize\",\n      \"probabilities\": null\n    },\n    {\n      \"name\": \"feature_preprocessor:extra_trees_preproc_for_classification:bootstrap\",\n      \"type\": \"categorical\",\n      \"choices\": [\n        \"True\",\n        \"False\"\n      ],\n      \"default\": \"False\",\n      \"probabilities\": null\n    },\n    {\n      \"name\": \"feature_preprocessor:extra_trees_preproc_for_classification:criterion\",\n      \"type\": \"categorical\",\n      \"choices\": [\n        \"gini\",\n        \"entropy\"\n      ],\n      \"default\": \"gini\",\n      \"probabilities\": null\n    },\n    {\n      \"name\": \"feature_preprocessor:extra_trees_preproc_for_classification:max_depth\",\n      \"type\": \"constant\",\n      \"value\": \"None\"\n    },\n    {\n      \"name\": \"feature_preprocessor:extra_trees_preproc_for_classification:max_features\",\n      \"type\": \"uniform_float\",\n      \"log\": false,\n      \"lower\": 0.0,\n      \"upper\": 1.0,\n      \"default\": 0.5\n    },\n    {\n      \"name\": \"feature_preprocessor:extra_trees_preproc_for_classification:max_leaf_nodes\",\n      \"type\": \"constant\",\n      \"value\": \"None\"\n    },\n    {\n      \"name\": \"feature_preprocessor:extra_trees_preproc_for_classification:min_impurity_decrease\",\n      \"type\": \"constant\",\n      \"value\": 0.0\n    },\n    {\n      \"name\": \"feature_preprocessor:extra_trees_preproc_for_classification:min_samples_leaf\",\n      \"type\": \"uniform_int\",\n      \"log\": false,\n      \"lower\": 1,\n      \"upper\": 20,\n      \"default\": 1\n    },\n    {\n      \"name\": \"feature_preprocessor:extra_trees_preproc_for_classification:min_samples_split\",\n      \"type\": \"uniform_int\",\n      \"log\": false,\n      \"lower\": 2,\n      \"upper\": 20,\n      \"default\": 2\n    },\n    {\n      \"name\": \"feature_preprocessor:extra_trees_preproc_for_classification:min_weight_fraction_leaf\",\n      \"type\": \"constant\",\n      \"value\": 0.0\n    },\n    {\n      \"name\": \"feature_preprocessor:extra_trees_preproc_for_classification:n_estimators\",\n      \"type\": \"constant\",\n      \"value\": 100\n    },\n    {\n      \"name\": \"feature_preprocessor:fast_ica:algorithm\",\n      \"type\": \"categorical\",\n      \"choices\": [\n        \"parallel\",\n        \"deflation\"\n      ],\n      \"default\": \"parallel\",\n      \"probabilities\": null\n    },\n    {\n      \"name\": \"feature_preprocessor:fast_ica:fun\",\n      \"type\": \"categorical\",\n      \"choices\": [\n        \"logcosh\",\n        \"exp\",\n        \"cube\"\n      ],\n      \"default\": \"logcosh\",\n      \"probabilities\": null\n    },\n    {\n      \"name\": \"feature_preprocessor:fast_ica:whiten\",\n      \"type\": \"categorical\",\n      \"choices\": [\n        \"False\",\n        \"True\"\n      ],\n      \"default\": \"False\",\n      \"probabilities\": null\n    },\n    {\n      \"name\": \"feature_preprocessor:feature_agglomeration:affinity\",\n      \"type\": \"categorical\",\n      \"choices\": [\n        \"euclidean\",\n        \"manhattan\",\n        \"cosine\"\n      ],\n      \"default\": \"euclidean\",\n      \"probabilities\": null\n    },\n    {\n      \"name\": \"feature_preprocessor:feature_agglomeration:linkage\",\n      \"type\": \"categorical\",\n      \"choices\": [\n        \"ward\",\n        \"complete\",\n        \"average\"\n      ],\n      \"default\": \"ward\",\n      \"probabilities\": null\n    },\n    {\n      \"name\": \"feature_preprocessor:feature_agglomeration:n_clusters\",\n      \"type\": \"uniform_int\",\n      \"log\": false,\n      \"lower\": 2,\n      \"upper\": 400,\n      \"default\": 25\n    },\n    {\n      \"name\": \"feature_preprocessor:feature_agglomeration:pooling_func\",\n      \"type\": \"categorical\",\n      \"choices\": [\n        \"mean\",\n        \"median\",\n        \"max\"\n      ],\n      \"default\": \"mean\",\n      \"probabilities\": null\n    },\n    {\n      \"name\": \"feature_preprocessor:kernel_pca:kernel\",\n      \"type\": \"categorical\",\n      \"choices\": [\n        \"poly\",\n        \"rbf\",\n        \"sigmoid\",\n        \"cosine\"\n      ],\n      \"default\": \"rbf\",\n      \"probabilities\": null\n    },\n    {\n      \"name\": \"feature_preprocessor:kernel_pca:n_components\",\n      \"type\": \"uniform_int\",\n      \"log\": false,\n      \"lower\": 10,\n      \"upper\": 2000,\n      \"default\": 100\n    },\n    {\n      \"name\": \"feature_preprocessor:kitchen_sinks:gamma\",\n      \"type\": \"uniform_float\",\n      \"log\": true,\n      \"lower\": 3.0517578125e-05,\n      \"upper\": 8.0,\n      \"default\": 1.0\n    },\n    {\n      \"name\": \"feature_preprocessor:kitchen_sinks:n_components\",\n      \"type\": \"uniform_int\",\n      \"log\": true,\n      \"lower\": 50,\n      \"upper\": 10000,\n      \"default\": 100\n    },\n    {\n      \"name\": \"feature_preprocessor:liblinear_svc_preprocessor:C\",\n      \"type\": \"uniform_float\",\n      \"log\": true,\n      \"lower\": 0.03125,\n      \"upper\": 32768.0,\n      \"default\": 1.0\n    },\n    {\n      \"name\": \"feature_preprocessor:liblinear_svc_preprocessor:dual\",\n      \"type\": \"constant\",\n      \"value\": \"False\"\n    },\n    {\n      \"name\": \"feature_preprocessor:liblinear_svc_preprocessor:fit_intercept\",\n      \"type\": \"constant\",\n      \"value\": \"True\"\n    },\n    {\n      \"name\": \"feature_preprocessor:liblinear_svc_preprocessor:intercept_scaling\",\n      \"type\": \"constant\",\n      \"value\": 1\n    },\n    {\n      \"name\": \"feature_preprocessor:liblinear_svc_preprocessor:loss\",\n      \"type\": \"categorical\",\n      \"choices\": [\n        \"hinge\",\n        \"squared_hinge\"\n      ],\n      \"default\": \"squared_hinge\",\n      \"probabilities\": null\n    },\n    {\n      \"name\": \"feature_preprocessor:liblinear_svc_preprocessor:multi_class\",\n      \"type\": \"constant\",\n      \"value\": \"ovr\"\n    },\n    {\n      \"name\": \"feature_preprocessor:liblinear_svc_preprocessor:penalty\",\n      \"type\": \"constant\",\n      \"value\": \"l1\"\n    },\n    {\n      \"name\": \"feature_preprocessor:liblinear_svc_preprocessor:tol\",\n      \"type\": \"uniform_float\",\n      \"log\": true,\n      \"lower\": 1e-05,\n      \"upper\": 0.1,\n      \"default\": 0.0001\n    },\n    {\n      \"name\": \"feature_preprocessor:nystroem_sampler:kernel\",\n      \"type\": \"categorical\",\n      \"choices\": [\n        \"poly\",\n        \"rbf\",\n        \"sigmoid\",\n        \"cosine\"\n      ],\n      \"default\": \"rbf\",\n      \"probabilities\": null\n    },\n    {\n      \"name\": \"feature_preprocessor:nystroem_sampler:n_components\",\n      \"type\": \"uniform_int\",\n      \"log\": true,\n      \"lower\": 50,\n      \"upper\": 10000,\n      \"default\": 100\n    },\n    {\n      \"name\": \"feature_preprocessor:pca:keep_variance\",\n      \"type\": \"uniform_float\",\n      \"log\": false,\n      \"lower\": 0.5,\n      \"upper\": 0.9999,\n      \"default\": 0.9999\n    },\n    {\n      \"name\": \"feature_preprocessor:pca:whiten\",\n      \"type\": \"categorical\",\n      \"choices\": [\n        \"False\",\n        \"True\"\n      ],\n      \"default\": \"False\",\n      \"probabilities\": null\n    },\n    {\n      \"name\": \"feature_preprocessor:polynomial:degree\",\n      \"type\": \"uniform_int\",\n      \"log\": false,\n      \"lower\": 2,\n      \"upper\": 3,\n      \"default\": 2\n    },\n    {\n      \"name\": \"feature_preprocessor:polynomial:include_bias\",\n      \"type\": \"categorical\",\n      \"choices\": [\n        \"True\",\n        \"False\"\n      ],\n      \"default\": \"True\",\n      \"probabilities\": null\n    },\n    {\n      \"name\": \"feature_preprocessor:polynomial:interaction_only\",\n      \"type\": \"categorical\",\n      \"choices\": [\n        \"False\",\n        \"True\"\n      ],\n      \"default\": \"False\",\n      \"probabilities\": null\n    },\n    {\n      \"name\": \"feature_preprocessor:random_trees_embedding:bootstrap\",\n      \"type\": \"categorical\",\n      \"choices\": [\n        \"True\",\n        \"False\"\n      ],\n      \"default\": \"True\",\n      \"probabilities\": null\n    },\n    {\n      \"name\": \"feature_preprocessor:random_trees_embedding:max_depth\",\n      \"type\": \"uniform_int\",\n      \"log\": false,\n      \"lower\": 2,\n      \"upper\": 10,\n      \"default\": 5\n    },\n    {\n      \"name\": \"feature_preprocessor:random_trees_embedding:max_leaf_nodes\",\n      \"type\": \"constant\",\n      \"value\": \"None\"\n    },\n    {\n      \"name\": \"feature_preprocessor:random_trees_embedding:min_samples_leaf\",\n      \"type\": \"uniform_int\",\n      \"log\": false,\n      \"lower\": 1,\n      \"upper\": 20,\n      \"default\": 1\n    },\n    {\n      \"name\": \"feature_preprocessor:random_trees_embedding:min_samples_split\",\n      \"type\": \"uniform_int\",\n      \"log\": false,\n      \"lower\": 2,\n      \"upper\": 20,\n      \"default\": 2\n    },\n    {\n      \"name\": \"feature_preprocessor:random_trees_embedding:min_weight_fraction_leaf\",\n      \"type\": \"constant\",\n      \"value\": 1.0\n    },\n    {\n      \"name\": \"feature_preprocessor:random_trees_embedding:n_estimators\",\n      \"type\": \"uniform_int\",\n      \"log\": false,\n      \"lower\": 10,\n      \"upper\": 100,\n      \"default\": 10\n    },\n    {\n      \"name\": \"feature_preprocessor:select_percentile_classification:percentile\",\n      \"type\": \"uniform_float\",\n      \"log\": false,\n      \"lower\": 1.0,\n      \"upper\": 99.0,\n      \"default\": 50.0\n    },\n    {\n      \"name\": \"feature_preprocessor:select_percentile_classification:score_func\",\n      \"type\": \"categorical\",\n      \"choices\": [\n        \"chi2\",\n        \"f_classif\",\n        \"mutual_info\"\n      ],\n      \"default\": \"chi2\",\n      \"probabilities\": null\n    },\n    {\n      \"name\": \"feature_preprocessor:select_rates_classification:alpha\",\n      \"type\": \"uniform_float\",\n      \"log\": false,\n      \"lower\": 0.01,\n      \"upper\": 0.5,\n      \"default\": 0.1\n    },\n    {\n      \"name\": \"feature_preprocessor:select_rates_classification:score_func\",\n      \"type\": \"categorical\",\n      \"choices\": [\n        \"chi2\",\n        \"f_classif\",\n        \"mutual_info_classif\"\n      ],\n      \"default\": \"chi2\",\n      \"probabilities\": null\n    },\n    {\n      \"name\": \"classifier:gradient_boosting:n_iter_no_change\",\n      \"type\": \"uniform_int\",\n      \"log\": false,\n      \"lower\": 1,\n      \"upper\": 20,\n      \"default\": 10\n    },\n    {\n      \"name\": \"classifier:gradient_boosting:validation_fraction\",\n      \"type\": \"uniform_float\",\n      \"log\": false,\n      \"lower\": 0.01,\n      \"upper\": 0.4,\n      \"default\": 0.1\n    },\n    {\n      \"name\": \"classifier:lda:shrinkage_factor\",\n      \"type\": \"uniform_float\",\n      \"log\": false,\n      \"lower\": 0.0,\n      \"upper\": 1.0,\n      \"default\": 0.5\n    },\n    {\n      \"name\": \"classifier:libsvm_svc:coef0\",\n      \"type\": \"uniform_float\",\n      \"log\": false,\n      \"lower\": -1.0,\n      \"upper\": 1.0,\n      \"default\": 0.0\n    },\n    {\n      \"name\": \"classifier:libsvm_svc:degree\",\n      \"type\": \"uniform_int\",\n      \"log\": false,\n      \"lower\": 2,\n      \"upper\": 5,\n      \"default\": 3\n    },\n    {\n      \"name\": \"classifier:mlp:validation_fraction\",\n      \"type\": \"constant\",\n      \"value\": 0.1\n    },\n    {\n      \"name\": \"classifier:sgd:epsilon\",\n      \"type\": \"uniform_float\",\n      \"log\": true,\n      \"lower\": 1e-05,\n      \"upper\": 0.1,\n      \"default\": 0.0001\n    },\n    {\n      \"name\": \"classifier:sgd:eta0\",\n      \"type\": \"uniform_float\",\n      \"log\": true,\n      \"lower\": 1e-07,\n      \"upper\": 0.1,\n      \"default\": 0.01\n    },\n    {\n      \"name\": \"classifier:sgd:l1_ratio\",\n      \"type\": \"uniform_float\",\n      \"log\": true,\n      \"lower\": 1e-09,\n      \"upper\": 1.0,\n      \"default\": 0.15\n    },\n    {\n      \"name\": \"classifier:sgd:power_t\",\n      \"type\": \"uniform_float\",\n      \"log\": false,\n      \"lower\": 1e-05,\n      \"upper\": 1.0,\n      \"default\": 0.5\n    },\n    {\n      \"name\": \"data_preprocessor:feature_type:categorical_transformer:category_coalescence:minority_coalescer:minimum_fraction\",\n      \"type\": \"uniform_float\",\n      \"log\": true,\n      \"lower\": 0.0001,\n      \"upper\": 0.5,\n      \"default\": 0.01\n    },\n    {\n      \"name\": \"data_preprocessor:feature_type:numerical_transformer:rescaling:quantile_transformer:n_quantiles\",\n      \"type\": \"uniform_int\",\n      \"log\": false,\n      \"lower\": 10,\n      \"upper\": 2000,\n      \"default\": 1000\n    },\n    {\n      \"name\": \"data_preprocessor:feature_type:numerical_transformer:rescaling:quantile_transformer:output_distribution\",\n      \"type\": \"categorical\",\n      \"choices\": [\n        \"uniform\",\n        \"normal\"\n      ],\n      \"default\": \"uniform\",\n      \"probabilities\": null\n    },\n    {\n      \"name\": \"data_preprocessor:feature_type:numerical_transformer:rescaling:robust_scaler:q_max\",\n      \"type\": \"uniform_float\",\n      \"log\": false,\n      \"lower\": 0.7,\n      \"upper\": 0.999,\n      \"default\": 0.75\n    },\n    {\n      \"name\": \"data_preprocessor:feature_type:numerical_transformer:rescaling:robust_scaler:q_min\",\n      \"type\": \"uniform_float\",\n      \"log\": false,\n      \"lower\": 0.001,\n      \"upper\": 0.3,\n      \"default\": 0.25\n    },\n    {\n      \"name\": \"feature_preprocessor:fast_ica:n_components\",\n      \"type\": \"uniform_int\",\n      \"log\": false,\n      \"lower\": 10,\n      \"upper\": 2000,\n      \"default\": 100\n    },\n    {\n      \"name\": \"feature_preprocessor:kernel_pca:coef0\",\n      \"type\": \"uniform_float\",\n      \"log\": false,\n      \"lower\": -1.0,\n      \"upper\": 1.0,\n      \"default\": 0.0\n    },\n    {\n      \"name\": \"feature_preprocessor:kernel_pca:degree\",\n      \"type\": \"uniform_int\",\n      \"log\": false,\n      \"lower\": 2,\n      \"upper\": 5,\n      \"default\": 3\n    },\n    {\n      \"name\": \"feature_preprocessor:kernel_pca:gamma\",\n      \"type\": \"uniform_float\",\n      \"log\": true,\n      \"lower\": 3.0517578125e-05,\n      \"upper\": 8.0,\n      \"default\": 0.01\n    },\n    {\n      \"name\": \"feature_preprocessor:nystroem_sampler:coef0\",\n      \"type\": \"uniform_float\",\n      \"log\": false,\n      \"lower\": -1.0,\n      \"upper\": 1.0,\n      \"default\": 0.0\n    },\n    {\n      \"name\": \"feature_preprocessor:nystroem_sampler:degree\",\n      \"type\": \"uniform_int\",\n      \"log\": false,\n      \"lower\": 2,\n      \"upper\": 5,\n      \"default\": 3\n    },\n    {\n      \"name\": \"feature_preprocessor:nystroem_sampler:gamma\",\n      \"type\": \"uniform_float\",\n      \"log\": true,\n      \"lower\": 3.0517578125e-05,\n      \"upper\": 8.0,\n      \"default\": 0.1\n    },\n    {\n      \"name\": \"feature_preprocessor:select_rates_classification:mode\",\n      \"type\": \"categorical\",\n      \"choices\": [\n        \"fpr\",\n        \"fdr\",\n        \"fwe\"\n      ],\n      \"default\": \"fpr\",\n      \"probabilities\": null\n    }\n  ],\n  \"conditions\": [\n    {\n      \"child\": \"classifier:adaboost:algorithm\",\n      \"parent\": \"classifier:__choice__\",\n      \"type\": \"EQ\",\n      \"value\": \"adaboost\"\n    },\n    {\n      \"child\": \"classifier:adaboost:learning_rate\",\n      \"parent\": \"classifier:__choice__\",\n      \"type\": \"EQ\",\n      \"value\": \"adaboost\"\n    },\n    {\n      \"child\": \"classifier:adaboost:max_depth\",\n      \"parent\": \"classifier:__choice__\",\n      \"type\": \"EQ\",\n      \"value\": \"adaboost\"\n    },\n    {\n      \"child\": \"classifier:adaboost:n_estimators\",\n      \"parent\": \"classifier:__choice__\",\n      \"type\": \"EQ\",\n      \"value\": \"adaboost\"\n    },\n    {\n      \"child\": \"classifier:bernoulli_nb:alpha\",\n      \"parent\": \"classifier:__choice__\",\n      \"type\": \"EQ\",\n      \"value\": \"bernoulli_nb\"\n    },\n    {\n      \"child\": \"classifier:bernoulli_nb:fit_prior\",\n      \"parent\": \"classifier:__choice__\",\n      \"type\": \"EQ\",\n      \"value\": \"bernoulli_nb\"\n    },\n    {\n      \"child\": \"classifier:decision_tree:criterion\",\n      \"parent\": \"classifier:__choice__\",\n      \"type\": \"EQ\",\n      \"value\": \"decision_tree\"\n    },\n    {\n      \"child\": \"classifier:decision_tree:max_depth_factor\",\n      \"parent\": \"classifier:__choice__\",\n      \"type\": \"EQ\",\n      \"value\": \"decision_tree\"\n    },\n    {\n      \"child\": \"classifier:decision_tree:max_features\",\n      \"parent\": \"classifier:__choice__\",\n      \"type\": \"EQ\",\n      \"value\": \"decision_tree\"\n    },\n    {\n      \"child\": \"classifier:decision_tree:max_leaf_nodes\",\n      \"parent\": \"classifier:__choice__\",\n      \"type\": \"EQ\",\n      \"value\": \"decision_tree\"\n    },\n    {\n      \"child\": \"classifier:decision_tree:min_impurity_decrease\",\n      \"parent\": \"classifier:__choice__\",\n      \"type\": \"EQ\",\n      \"value\": \"decision_tree\"\n    },\n    {\n      \"child\": \"classifier:decision_tree:min_samples_leaf\",\n      \"parent\": \"classifier:__choice__\",\n      \"type\": \"EQ\",\n      \"value\": \"decision_tree\"\n    },\n    {\n      \"child\": \"classifier:decision_tree:min_samples_split\",\n      \"parent\": \"classifier:__choice__\",\n      \"type\": \"EQ\",\n      \"value\": \"decision_tree\"\n    },\n    {\n      \"child\": \"classifier:decision_tree:min_weight_fraction_leaf\",\n      \"parent\": \"classifier:__choice__\",\n      \"type\": \"EQ\",\n      \"value\": \"decision_tree\"\n    },\n    {\n      \"child\": \"classifier:extra_trees:bootstrap\",\n      \"parent\": \"classifier:__choice__\",\n      \"type\": \"EQ\",\n      \"value\": \"extra_trees\"\n    },\n    {\n      \"child\": \"classifier:extra_trees:criterion\",\n      \"parent\": \"classifier:__choice__\",\n      \"type\": \"EQ\",\n      \"value\": \"extra_trees\"\n    },\n    {\n      \"child\": \"classifier:extra_trees:max_depth\",\n      \"parent\": \"classifier:__choice__\",\n      \"type\": \"EQ\",\n      \"value\": \"extra_trees\"\n    },\n    {\n      \"child\": \"classifier:extra_trees:max_features\",\n      \"parent\": \"classifier:__choice__\",\n      \"type\": \"EQ\",\n      \"value\": \"extra_trees\"\n    },\n    {\n      \"child\": \"classifier:extra_trees:max_leaf_nodes\",\n      \"parent\": \"classifier:__choice__\",\n      \"type\": \"EQ\",\n      \"value\": \"extra_trees\"\n    },\n    {\n      \"child\": \"classifier:extra_trees:min_impurity_decrease\",\n      \"parent\": \"classifier:__choice__\",\n      \"type\": \"EQ\",\n      \"value\": \"extra_trees\"\n    },\n    {\n      \"child\": \"classifier:extra_trees:min_samples_leaf\",\n      \"parent\": \"classifier:__choice__\",\n      \"type\": \"EQ\",\n      \"value\": \"extra_trees\"\n    },\n    {\n      \"child\": \"classifier:extra_trees:min_samples_split\",\n      \"parent\": \"classifier:__choice__\",\n      \"type\": \"EQ\",\n      \"value\": \"extra_trees\"\n    },\n    {\n      \"child\": \"classifier:extra_trees:min_weight_fraction_leaf\",\n      \"parent\": \"classifier:__choice__\",\n      \"type\": \"EQ\",\n      \"value\": \"extra_trees\"\n    },\n    {\n      \"child\": \"classifier:gradient_boosting:early_stop\",\n      \"parent\": \"classifier:__choice__\",\n      \"type\": \"EQ\",\n      \"value\": \"gradient_boosting\"\n    },\n    {\n      \"child\": \"classifier:gradient_boosting:l2_regularization\",\n      \"parent\": \"classifier:__choice__\",\n      \"type\": \"EQ\",\n      \"value\": \"gradient_boosting\"\n    },\n    {\n      \"child\": \"classifier:gradient_boosting:learning_rate\",\n      \"parent\": \"classifier:__choice__\",\n      \"type\": \"EQ\",\n      \"value\": \"gradient_boosting\"\n    },\n    {\n      \"child\": \"classifier:gradient_boosting:loss\",\n      \"parent\": \"classifier:__choice__\",\n      \"type\": \"EQ\",\n      \"value\": \"gradient_boosting\"\n    },\n    {\n      \"child\": \"classifier:gradient_boosting:max_bins\",\n      \"parent\": \"classifier:__choice__\",\n      \"type\": \"EQ\",\n      \"value\": \"gradient_boosting\"\n    },\n    {\n      \"child\": \"classifier:gradient_boosting:max_depth\",\n      \"parent\": \"classifier:__choice__\",\n      \"type\": \"EQ\",\n      \"value\": \"gradient_boosting\"\n    },\n    {\n      \"child\": \"classifier:gradient_boosting:max_leaf_nodes\",\n      \"parent\": \"classifier:__choice__\",\n      \"type\": \"EQ\",\n      \"value\": \"gradient_boosting\"\n    },\n    {\n      \"child\": \"classifier:gradient_boosting:min_samples_leaf\",\n      \"parent\": \"classifier:__choice__\",\n      \"type\": \"EQ\",\n      \"value\": \"gradient_boosting\"\n    },\n    {\n      \"child\": \"classifier:gradient_boosting:scoring\",\n      \"parent\": \"classifier:__choice__\",\n      \"type\": \"EQ\",\n      \"value\": \"gradient_boosting\"\n    },\n    {\n      \"child\": \"classifier:gradient_boosting:tol\",\n      \"parent\": \"classifier:__choice__\",\n      \"type\": \"EQ\",\n      \"value\": \"gradient_boosting\"\n    },\n    {\n      \"child\": \"classifier:k_nearest_neighbors:n_neighbors\",\n      \"parent\": \"classifier:__choice__\",\n      \"type\": \"EQ\",\n      \"value\": \"k_nearest_neighbors\"\n    },\n    {\n      \"child\": \"classifier:k_nearest_neighbors:p\",\n      \"parent\": \"classifier:__choice__\",\n      \"type\": \"EQ\",\n      \"value\": \"k_nearest_neighbors\"\n    },\n    {\n      \"child\": \"classifier:k_nearest_neighbors:weights\",\n      \"parent\": \"classifier:__choice__\",\n      \"type\": \"EQ\",\n      \"value\": \"k_nearest_neighbors\"\n    },\n    {\n      \"child\": \"classifier:lda:shrinkage\",\n      \"parent\": \"classifier:__choice__\",\n      \"type\": \"EQ\",\n      \"value\": \"lda\"\n    },\n    {\n      \"child\": \"classifier:lda:tol\",\n      \"parent\": \"classifier:__choice__\",\n      \"type\": \"EQ\",\n      \"value\": \"lda\"\n    },\n    {\n      \"child\": \"classifier:liblinear_svc:C\",\n      \"parent\": \"classifier:__choice__\",\n      \"type\": \"EQ\",\n      \"value\": \"liblinear_svc\"\n    },\n    {\n      \"child\": \"classifier:liblinear_svc:dual\",\n      \"parent\": \"classifier:__choice__\",\n      \"type\": \"EQ\",\n      \"value\": \"liblinear_svc\"\n    },\n    {\n      \"child\": \"classifier:liblinear_svc:fit_intercept\",\n      \"parent\": \"classifier:__choice__\",\n      \"type\": \"EQ\",\n      \"value\": \"liblinear_svc\"\n    },\n    {\n      \"child\": \"classifier:liblinear_svc:intercept_scaling\",\n      \"parent\": \"classifier:__choice__\",\n      \"type\": \"EQ\",\n      \"value\": \"liblinear_svc\"\n    },\n    {\n      \"child\": \"classifier:liblinear_svc:loss\",\n      \"parent\": \"classifier:__choice__\",\n      \"type\": \"EQ\",\n      \"value\": \"liblinear_svc\"\n    },\n    {\n      \"child\": \"classifier:liblinear_svc:multi_class\",\n      \"parent\": \"classifier:__choice__\",\n      \"type\": \"EQ\",\n      \"value\": \"liblinear_svc\"\n    },\n    {\n      \"child\": \"classifier:liblinear_svc:penalty\",\n      \"parent\": \"classifier:__choice__\",\n      \"type\": \"EQ\",\n      \"value\": \"liblinear_svc\"\n    },\n    {\n      \"child\": \"classifier:liblinear_svc:tol\",\n      \"parent\": \"classifier:__choice__\",\n      \"type\": \"EQ\",\n      \"value\": \"liblinear_svc\"\n    },\n    {\n      \"child\": \"classifier:libsvm_svc:C\",\n      \"parent\": \"classifier:__choice__\",\n      \"type\": \"EQ\",\n      \"value\": \"libsvm_svc\"\n    },\n    {\n      \"child\": \"classifier:libsvm_svc:gamma\",\n      \"parent\": \"classifier:__choice__\",\n      \"type\": \"EQ\",\n      \"value\": \"libsvm_svc\"\n    },\n    {\n      \"child\": \"classifier:libsvm_svc:kernel\",\n      \"parent\": \"classifier:__choice__\",\n      \"type\": \"EQ\",\n      \"value\": \"libsvm_svc\"\n    },\n    {\n      \"child\": \"classifier:libsvm_svc:max_iter\",\n      \"parent\": \"classifier:__choice__\",\n      \"type\": \"EQ\",\n      \"value\": \"libsvm_svc\"\n    },\n    {\n      \"child\": \"classifier:libsvm_svc:shrinking\",\n      \"parent\": \"classifier:__choice__\",\n      \"type\": \"EQ\",\n      \"value\": \"libsvm_svc\"\n    },\n    {\n      \"child\": \"classifier:libsvm_svc:tol\",\n      \"parent\": \"classifier:__choice__\",\n      \"type\": \"EQ\",\n      \"value\": \"libsvm_svc\"\n    },\n    {\n      \"child\": \"classifier:mlp:activation\",\n      \"parent\": \"classifier:__choice__\",\n      \"type\": \"EQ\",\n      \"value\": \"mlp\"\n    },\n    {\n      \"child\": \"classifier:mlp:alpha\",\n      \"parent\": \"classifier:__choice__\",\n      \"type\": \"EQ\",\n      \"value\": \"mlp\"\n    },\n    {\n      \"child\": \"classifier:mlp:batch_size\",\n      \"parent\": \"classifier:__choice__\",\n      \"type\": \"EQ\",\n      \"value\": \"mlp\"\n    },\n    {\n      \"child\": \"classifier:mlp:beta_1\",\n      \"parent\": \"classifier:__choice__\",\n      \"type\": \"EQ\",\n      \"value\": \"mlp\"\n    },\n    {\n      \"child\": \"classifier:mlp:beta_2\",\n      \"parent\": \"classifier:__choice__\",\n      \"type\": \"EQ\",\n      \"value\": \"mlp\"\n    },\n    {\n      \"child\": \"classifier:mlp:early_stopping\",\n      \"parent\": \"classifier:__choice__\",\n      \"type\": \"EQ\",\n      \"value\": \"mlp\"\n    },\n    {\n      \"child\": \"classifier:mlp:epsilon\",\n      \"parent\": \"classifier:__choice__\",\n      \"type\": \"EQ\",\n      \"value\": \"mlp\"\n    },\n    {\n      \"child\": \"classifier:mlp:hidden_layer_depth\",\n      \"parent\": \"classifier:__choice__\",\n      \"type\": \"EQ\",\n      \"value\": \"mlp\"\n    },\n    {\n      \"child\": \"classifier:mlp:learning_rate_init\",\n      \"parent\": \"classifier:__choice__\",\n      \"type\": \"EQ\",\n      \"value\": \"mlp\"\n    },\n    {\n      \"child\": \"classifier:mlp:n_iter_no_change\",\n      \"parent\": \"classifier:__choice__\",\n      \"type\": \"EQ\",\n      \"value\": \"mlp\"\n    },\n    {\n      \"child\": \"classifier:mlp:num_nodes_per_layer\",\n      \"parent\": \"classifier:__choice__\",\n      \"type\": \"EQ\",\n      \"value\": \"mlp\"\n    },\n    {\n      \"child\": \"classifier:mlp:shuffle\",\n      \"parent\": \"classifier:__choice__\",\n      \"type\": \"EQ\",\n      \"value\": \"mlp\"\n    },\n    {\n      \"child\": \"classifier:mlp:solver\",\n      \"parent\": \"classifier:__choice__\",\n      \"type\": \"EQ\",\n      \"value\": \"mlp\"\n    },\n    {\n      \"child\": \"classifier:mlp:tol\",\n      \"parent\": \"classifier:__choice__\",\n      \"type\": \"EQ\",\n      \"value\": \"mlp\"\n    },\n    {\n      \"child\": \"classifier:multinomial_nb:alpha\",\n      \"parent\": \"classifier:__choice__\",\n      \"type\": \"EQ\",\n      \"value\": \"multinomial_nb\"\n    },\n    {\n      \"child\": \"classifier:multinomial_nb:fit_prior\",\n      \"parent\": \"classifier:__choice__\",\n      \"type\": \"EQ\",\n      \"value\": \"multinomial_nb\"\n    },\n    {\n      \"child\": \"classifier:passive_aggressive:C\",\n      \"parent\": \"classifier:__choice__\",\n      \"type\": \"EQ\",\n      \"value\": \"passive_aggressive\"\n    },\n    {\n      \"child\": \"classifier:passive_aggressive:average\",\n      \"parent\": \"classifier:__choice__\",\n      \"type\": \"EQ\",\n      \"value\": \"passive_aggressive\"\n    },\n    {\n      \"child\": \"classifier:passive_aggressive:fit_intercept\",\n      \"parent\": \"classifier:__choice__\",\n      \"type\": \"EQ\",\n      \"value\": \"passive_aggressive\"\n    },\n    {\n      \"child\": \"classifier:passive_aggressive:loss\",\n      \"parent\": \"classifier:__choice__\",\n      \"type\": \"EQ\",\n      \"value\": \"passive_aggressive\"\n    },\n    {\n      \"child\": \"classifier:passive_aggressive:tol\",\n      \"parent\": \"classifier:__choice__\",\n      \"type\": \"EQ\",\n      \"value\": \"passive_aggressive\"\n    },\n    {\n      \"child\": \"classifier:qda:reg_param\",\n      \"parent\": \"classifier:__choice__\",\n      \"type\": \"EQ\",\n      \"value\": \"qda\"\n    },\n    {\n      \"child\": \"classifier:random_forest:bootstrap\",\n      \"parent\": \"classifier:__choice__\",\n      \"type\": \"EQ\",\n      \"value\": \"random_forest\"\n    },\n    {\n      \"child\": \"classifier:random_forest:criterion\",\n      \"parent\": \"classifier:__choice__\",\n      \"type\": \"EQ\",\n      \"value\": \"random_forest\"\n    },\n    {\n      \"child\": \"classifier:random_forest:max_depth\",\n      \"parent\": \"classifier:__choice__\",\n      \"type\": \"EQ\",\n      \"value\": \"random_forest\"\n    },\n    {\n      \"child\": \"classifier:random_forest:max_features\",\n      \"parent\": \"classifier:__choice__\",\n      \"type\": \"EQ\",\n      \"value\": \"random_forest\"\n    },\n    {\n      \"child\": \"classifier:random_forest:max_leaf_nodes\",\n      \"parent\": \"classifier:__choice__\",\n      \"type\": \"EQ\",\n      \"value\": \"random_forest\"\n    },\n    {\n      \"child\": \"classifier:random_forest:min_impurity_decrease\",\n      \"parent\": \"classifier:__choice__\",\n      \"type\": \"EQ\",\n      \"value\": \"random_forest\"\n    },\n    {\n      \"child\": \"classifier:random_forest:min_samples_leaf\",\n      \"parent\": \"classifier:__choice__\",\n      \"type\": \"EQ\",\n      \"value\": \"random_forest\"\n    },\n    {\n      \"child\": \"classifier:random_forest:min_samples_split\",\n      \"parent\": \"classifier:__choice__\",\n      \"type\": \"EQ\",\n      \"value\": \"random_forest\"\n    },\n    {\n      \"child\": \"classifier:random_forest:min_weight_fraction_leaf\",\n      \"parent\": \"classifier:__choice__\",\n      \"type\": \"EQ\",\n      \"value\": \"random_forest\"\n    },\n    {\n      \"child\": \"classifier:sgd:alpha\",\n      \"parent\": \"classifier:__choice__\",\n      \"type\": \"EQ\",\n      \"value\": \"sgd\"\n    },\n    {\n      \"child\": \"classifier:sgd:average\",\n      \"parent\": \"classifier:__choice__\",\n      \"type\": \"EQ\",\n      \"value\": \"sgd\"\n    },\n    {\n      \"child\": \"classifier:sgd:fit_intercept\",\n      \"parent\": \"classifier:__choice__\",\n      \"type\": \"EQ\",\n      \"value\": \"sgd\"\n    },\n    {\n      \"child\": \"classifier:sgd:learning_rate\",\n      \"parent\": \"classifier:__choice__\",\n      \"type\": \"EQ\",\n      \"value\": \"sgd\"\n    },\n    {\n      \"child\": \"classifier:sgd:loss\",\n      \"parent\": \"classifier:__choice__\",\n      \"type\": \"EQ\",\n      \"value\": \"sgd\"\n    },\n    {\n      \"child\": \"classifier:sgd:penalty\",\n      \"parent\": \"classifier:__choice__\",\n      \"type\": \"EQ\",\n      \"value\": \"sgd\"\n    },\n    {\n      \"child\": \"classifier:sgd:tol\",\n      \"parent\": \"classifier:__choice__\",\n      \"type\": \"EQ\",\n      \"value\": \"sgd\"\n    },\n    {\n      \"child\": \"data_preprocessor:feature_type:categorical_transformer:categorical_encoding:__choice__\",\n      \"parent\": \"data_preprocessor:__choice__\",\n      \"type\": \"EQ\",\n      \"value\": \"feature_type\"\n    },\n    {\n      \"child\": \"data_preprocessor:feature_type:categorical_transformer:category_coalescence:__choice__\",\n      \"parent\": \"data_preprocessor:__choice__\",\n      \"type\": \"EQ\",\n      \"value\": \"feature_type\"\n    },\n    {\n      \"child\": \"data_preprocessor:feature_type:numerical_transformer:imputation:strategy\",\n      \"parent\": \"data_preprocessor:__choice__\",\n      \"type\": \"EQ\",\n      \"value\": \"feature_type\"\n    },\n    {\n      \"child\": \"data_preprocessor:feature_type:numerical_transformer:rescaling:__choice__\",\n      \"parent\": \"data_preprocessor:__choice__\",\n      \"type\": \"EQ\",\n      \"value\": \"feature_type\"\n    },\n    {\n      \"child\": \"feature_preprocessor:extra_trees_preproc_for_classification:bootstrap\",\n      \"parent\": \"feature_preprocessor:__choice__\",\n      \"type\": \"EQ\",\n      \"value\": \"extra_trees_preproc_for_classification\"\n    },\n    {\n      \"child\": \"feature_preprocessor:extra_trees_preproc_for_classification:criterion\",\n      \"parent\": \"feature_preprocessor:__choice__\",\n      \"type\": \"EQ\",\n      \"value\": \"extra_trees_preproc_for_classification\"\n    },\n    {\n      \"child\": \"feature_preprocessor:extra_trees_preproc_for_classification:max_depth\",\n      \"parent\": \"feature_preprocessor:__choice__\",\n      \"type\": \"EQ\",\n      \"value\": \"extra_trees_preproc_for_classification\"\n    },\n    {\n      \"child\": \"feature_preprocessor:extra_trees_preproc_for_classification:max_features\",\n      \"parent\": \"feature_preprocessor:__choice__\",\n      \"type\": \"EQ\",\n      \"value\": \"extra_trees_preproc_for_classification\"\n    },\n    {\n      \"child\": \"feature_preprocessor:extra_trees_preproc_for_classification:max_leaf_nodes\",\n      \"parent\": \"feature_preprocessor:__choice__\",\n      \"type\": \"EQ\",\n      \"value\": \"extra_trees_preproc_for_classification\"\n    },\n    {\n      \"child\": \"feature_preprocessor:extra_trees_preproc_for_classification:min_impurity_decrease\",\n      \"parent\": \"feature_preprocessor:__choice__\",\n      \"type\": \"EQ\",\n      \"value\": \"extra_trees_preproc_for_classification\"\n    },\n    {\n      \"child\": \"feature_preprocessor:extra_trees_preproc_for_classification:min_samples_leaf\",\n      \"parent\": \"feature_preprocessor:__choice__\",\n      \"type\": \"EQ\",\n      \"value\": \"extra_trees_preproc_for_classification\"\n    },\n    {\n      \"child\": \"feature_preprocessor:extra_trees_preproc_for_classification:min_samples_split\",\n      \"parent\": \"feature_preprocessor:__choice__\",\n      \"type\": \"EQ\",\n      \"value\": \"extra_trees_preproc_for_classification\"\n    },\n    {\n      \"child\": \"feature_preprocessor:extra_trees_preproc_for_classification:min_weight_fraction_leaf\",\n      \"parent\": \"feature_preprocessor:__choice__\",\n      \"type\": \"EQ\",\n      \"value\": \"extra_trees_preproc_for_classification\"\n    },\n    {\n      \"child\": \"feature_preprocessor:extra_trees_preproc_for_classification:n_estimators\",\n      \"parent\": \"feature_preprocessor:__choice__\",\n      \"type\": \"EQ\",\n      \"value\": \"extra_trees_preproc_for_classification\"\n    },\n    {\n      \"child\": \"feature_preprocessor:fast_ica:algorithm\",\n      \"parent\": \"feature_preprocessor:__choice__\",\n      \"type\": \"EQ\",\n      \"value\": \"fast_ica\"\n    },\n    {\n      \"child\": \"feature_preprocessor:fast_ica:fun\",\n      \"parent\": \"feature_preprocessor:__choice__\",\n      \"type\": \"EQ\",\n      \"value\": \"fast_ica\"\n    },\n    {\n      \"child\": \"feature_preprocessor:fast_ica:whiten\",\n      \"parent\": \"feature_preprocessor:__choice__\",\n      \"type\": \"EQ\",\n      \"value\": \"fast_ica\"\n    },\n    {\n      \"child\": \"feature_preprocessor:feature_agglomeration:affinity\",\n      \"parent\": \"feature_preprocessor:__choice__\",\n      \"type\": \"EQ\",\n      \"value\": \"feature_agglomeration\"\n    },\n    {\n      \"child\": \"feature_preprocessor:feature_agglomeration:linkage\",\n      \"parent\": \"feature_preprocessor:__choice__\",\n      \"type\": \"EQ\",\n      \"value\": \"feature_agglomeration\"\n    },\n    {\n      \"child\": \"feature_preprocessor:feature_agglomeration:n_clusters\",\n      \"parent\": \"feature_preprocessor:__choice__\",\n      \"type\": \"EQ\",\n      \"value\": \"feature_agglomeration\"\n    },\n    {\n      \"child\": \"feature_preprocessor:feature_agglomeration:pooling_func\",\n      \"parent\": \"feature_preprocessor:__choice__\",\n      \"type\": \"EQ\",\n      \"value\": \"feature_agglomeration\"\n    },\n    {\n      \"child\": \"feature_preprocessor:kernel_pca:kernel\",\n      \"parent\": \"feature_preprocessor:__choice__\",\n      \"type\": \"EQ\",\n      \"value\": \"kernel_pca\"\n    },\n    {\n      \"child\": \"feature_preprocessor:kernel_pca:n_components\",\n      \"parent\": \"feature_preprocessor:__choice__\",\n      \"type\": \"EQ\",\n      \"value\": \"kernel_pca\"\n    },\n    {\n      \"child\": \"feature_preprocessor:kitchen_sinks:gamma\",\n      \"parent\": \"feature_preprocessor:__choice__\",\n      \"type\": \"EQ\",\n      \"value\": \"kitchen_sinks\"\n    },\n    {\n      \"child\": \"feature_preprocessor:kitchen_sinks:n_components\",\n      \"parent\": \"feature_preprocessor:__choice__\",\n      \"type\": \"EQ\",\n      \"value\": \"kitchen_sinks\"\n    },\n    {\n      \"child\": \"feature_preprocessor:liblinear_svc_preprocessor:C\",\n      \"parent\": \"feature_preprocessor:__choice__\",\n      \"type\": \"EQ\",\n      \"value\": \"liblinear_svc_preprocessor\"\n    },\n    {\n      \"child\": \"feature_preprocessor:liblinear_svc_preprocessor:dual\",\n      \"parent\": \"feature_preprocessor:__choice__\",\n      \"type\": \"EQ\",\n      \"value\": \"liblinear_svc_preprocessor\"\n    },\n    {\n      \"child\": \"feature_preprocessor:liblinear_svc_preprocessor:fit_intercept\",\n      \"parent\": \"feature_preprocessor:__choice__\",\n      \"type\": \"EQ\",\n      \"value\": \"liblinear_svc_preprocessor\"\n    },\n    {\n      \"child\": \"feature_preprocessor:liblinear_svc_preprocessor:intercept_scaling\",\n      \"parent\": \"feature_preprocessor:__choice__\",\n      \"type\": \"EQ\",\n      \"value\": \"liblinear_svc_preprocessor\"\n    },\n    {\n      \"child\": \"feature_preprocessor:liblinear_svc_preprocessor:loss\",\n      \"parent\": \"feature_preprocessor:__choice__\",\n      \"type\": \"EQ\",\n      \"value\": \"liblinear_svc_preprocessor\"\n    },\n    {\n      \"child\": \"feature_preprocessor:liblinear_svc_preprocessor:multi_class\",\n      \"parent\": \"feature_preprocessor:__choice__\",\n      \"type\": \"EQ\",\n      \"value\": \"liblinear_svc_preprocessor\"\n    },\n    {\n      \"child\": \"feature_preprocessor:liblinear_svc_preprocessor:penalty\",\n      \"parent\": \"feature_preprocessor:__choice__\",\n      \"type\": \"EQ\",\n      \"value\": \"liblinear_svc_preprocessor\"\n    },\n    {\n      \"child\": \"feature_preprocessor:liblinear_svc_preprocessor:tol\",\n      \"parent\": \"feature_preprocessor:__choice__\",\n      \"type\": \"EQ\",\n      \"value\": \"liblinear_svc_preprocessor\"\n    },\n    {\n      \"child\": \"feature_preprocessor:nystroem_sampler:kernel\",\n      \"parent\": \"feature_preprocessor:__choice__\",\n      \"type\": \"EQ\",\n      \"value\": \"nystroem_sampler\"\n    },\n    {\n      \"child\": \"feature_preprocessor:nystroem_sampler:n_components\",\n      \"parent\": \"feature_preprocessor:__choice__\",\n      \"type\": \"EQ\",\n      \"value\": \"nystroem_sampler\"\n    },\n    {\n      \"child\": \"feature_preprocessor:pca:keep_variance\",\n      \"parent\": \"feature_preprocessor:__choice__\",\n      \"type\": \"EQ\",\n      \"value\": \"pca\"\n    },\n    {\n      \"child\": \"feature_preprocessor:pca:whiten\",\n      \"parent\": \"feature_preprocessor:__choice__\",\n      \"type\": \"EQ\",\n      \"value\": \"pca\"\n    },\n    {\n      \"child\": \"feature_preprocessor:polynomial:degree\",\n      \"parent\": \"feature_preprocessor:__choice__\",\n      \"type\": \"EQ\",\n      \"value\": \"polynomial\"\n    },\n    {\n      \"child\": \"feature_preprocessor:polynomial:include_bias\",\n      \"parent\": \"feature_preprocessor:__choice__\",\n      \"type\": \"EQ\",\n      \"value\": \"polynomial\"\n    },\n    {\n      \"child\": \"feature_preprocessor:polynomial:interaction_only\",\n      \"parent\": \"feature_preprocessor:__choice__\",\n      \"type\": \"EQ\",\n      \"value\": \"polynomial\"\n    },\n    {\n      \"child\": \"feature_preprocessor:random_trees_embedding:bootstrap\",\n      \"parent\": \"feature_preprocessor:__choice__\",\n      \"type\": \"EQ\",\n      \"value\": \"random_trees_embedding\"\n    },\n    {\n      \"child\": \"feature_preprocessor:random_trees_embedding:max_depth\",\n      \"parent\": \"feature_preprocessor:__choice__\",\n      \"type\": \"EQ\",\n      \"value\": \"random_trees_embedding\"\n    },\n    {\n      \"child\": \"feature_preprocessor:random_trees_embedding:max_leaf_nodes\",\n      \"parent\": \"feature_preprocessor:__choice__\",\n      \"type\": \"EQ\",\n      \"value\": \"random_trees_embedding\"\n    },\n    {\n      \"child\": \"feature_preprocessor:random_trees_embedding:min_samples_leaf\",\n      \"parent\": \"feature_preprocessor:__choice__\",\n      \"type\": \"EQ\",\n      \"value\": \"random_trees_embedding\"\n    },\n    {\n      \"child\": \"feature_preprocessor:random_trees_embedding:min_samples_split\",\n      \"parent\": \"feature_preprocessor:__choice__\",\n      \"type\": \"EQ\",\n      \"value\": \"random_trees_embedding\"\n    },\n    {\n      \"child\": \"feature_preprocessor:random_trees_embedding:min_weight_fraction_leaf\",\n      \"parent\": \"feature_preprocessor:__choice__\",\n      \"type\": \"EQ\",\n      \"value\": \"random_trees_embedding\"\n    },\n    {\n      \"child\": \"feature_preprocessor:random_trees_embedding:n_estimators\",\n      \"parent\": \"feature_preprocessor:__choice__\",\n      \"type\": \"EQ\",\n      \"value\": \"random_trees_embedding\"\n    },\n    {\n      \"child\": \"feature_preprocessor:select_percentile_classification:percentile\",\n      \"parent\": \"feature_preprocessor:__choice__\",\n      \"type\": \"EQ\",\n      \"value\": \"select_percentile_classification\"\n    },\n    {\n      \"child\": \"feature_preprocessor:select_percentile_classification:score_func\",\n      \"parent\": \"feature_preprocessor:__choice__\",\n      \"type\": \"EQ\",\n      \"value\": \"select_percentile_classification\"\n    },\n    {\n      \"child\": \"feature_preprocessor:select_rates_classification:alpha\",\n      \"parent\": \"feature_preprocessor:__choice__\",\n      \"type\": \"EQ\",\n      \"value\": \"select_rates_classification\"\n    },\n    {\n      \"child\": \"feature_preprocessor:select_rates_classification:score_func\",\n      \"parent\": \"feature_preprocessor:__choice__\",\n      \"type\": \"EQ\",\n      \"value\": \"select_rates_classification\"\n    },\n    {\n      \"child\": \"classifier:gradient_boosting:n_iter_no_change\",\n      \"parent\": \"classifier:gradient_boosting:early_stop\",\n      \"type\": \"IN\",\n      \"values\": [\n        \"valid\",\n        \"train\"\n      ]\n    },\n    {\n      \"child\": \"classifier:gradient_boosting:validation_fraction\",\n      \"parent\": \"classifier:gradient_boosting:early_stop\",\n      \"type\": \"EQ\",\n      \"value\": \"valid\"\n    },\n    {\n      \"child\": \"classifier:lda:shrinkage_factor\",\n      \"parent\": \"classifier:lda:shrinkage\",\n      \"type\": \"EQ\",\n      \"value\": \"manual\"\n    },\n    {\n      \"child\": \"classifier:libsvm_svc:coef0\",\n      \"parent\": \"classifier:libsvm_svc:kernel\",\n      \"type\": \"IN\",\n      \"values\": [\n        \"poly\",\n        \"sigmoid\"\n      ]\n    },\n    {\n      \"child\": \"classifier:libsvm_svc:degree\",\n      \"parent\": \"classifier:libsvm_svc:kernel\",\n      \"type\": \"EQ\",\n      \"value\": \"poly\"\n    },\n    {\n      \"child\": \"classifier:mlp:validation_fraction\",\n      \"parent\": \"classifier:mlp:early_stopping\",\n      \"type\": \"IN\",\n      \"values\": [\n        \"valid\"\n      ]\n    },\n    {\n      \"child\": \"classifier:sgd:eta0\",\n      \"parent\": \"classifier:sgd:learning_rate\",\n      \"type\": \"IN\",\n      \"values\": [\n        \"invscaling\",\n        \"constant\"\n      ]\n    },\n    {\n      \"child\": \"classifier:sgd:power_t\",\n      \"parent\": \"classifier:sgd:learning_rate\",\n      \"type\": \"EQ\",\n      \"value\": \"invscaling\"\n    },\n    {\n      \"child\": \"classifier:sgd:epsilon\",\n      \"parent\": \"classifier:sgd:loss\",\n      \"type\": \"EQ\",\n      \"value\": \"modified_huber\"\n    },\n    {\n      \"child\": \"classifier:sgd:l1_ratio\",\n      \"parent\": \"classifier:sgd:penalty\",\n      \"type\": \"EQ\",\n      \"value\": \"elasticnet\"\n    },\n    {\n      \"child\": \"data_preprocessor:feature_type:categorical_transformer:category_coalescence:minority_coalescer:minimum_fraction\",\n      \"parent\": \"data_preprocessor:feature_type:categorical_transformer:category_coalescence:__choice__\",\n      \"type\": \"EQ\",\n      \"value\": \"minority_coalescer\"\n    },\n    {\n      \"child\": \"data_preprocessor:feature_type:numerical_transformer:rescaling:quantile_transformer:n_quantiles\",\n      \"parent\": \"data_preprocessor:feature_type:numerical_transformer:rescaling:__choice__\",\n      \"type\": \"EQ\",\n      \"value\": \"quantile_transformer\"\n    },\n    {\n      \"child\": \"data_preprocessor:feature_type:numerical_transformer:rescaling:quantile_transformer:output_distribution\",\n      \"parent\": \"data_preprocessor:feature_type:numerical_transformer:rescaling:__choice__\",\n      \"type\": \"EQ\",\n      \"value\": \"quantile_transformer\"\n    },\n    {\n      \"child\": \"data_preprocessor:feature_type:numerical_transformer:rescaling:robust_scaler:q_max\",\n      \"parent\": \"data_preprocessor:feature_type:numerical_transformer:rescaling:__choice__\",\n      \"type\": \"EQ\",\n      \"value\": \"robust_scaler\"\n    },\n    {\n      \"child\": \"data_preprocessor:feature_type:numerical_transformer:rescaling:robust_scaler:q_min\",\n      \"parent\": \"data_preprocessor:feature_type:numerical_transformer:rescaling:__choice__\",\n      \"type\": \"EQ\",\n      \"value\": \"robust_scaler\"\n    },\n    {\n      \"child\": \"feature_preprocessor:fast_ica:n_components\",\n      \"parent\": \"feature_preprocessor:fast_ica:whiten\",\n      \"type\": \"EQ\",\n      \"value\": \"True\"\n    },\n    {\n      \"child\": \"feature_preprocessor:kernel_pca:coef0\",\n      \"parent\": \"feature_preprocessor:kernel_pca:kernel\",\n      \"type\": \"IN\",\n      \"values\": [\n        \"poly\",\n        \"sigmoid\"\n      ]\n    },\n    {\n      \"child\": \"feature_preprocessor:kernel_pca:degree\",\n      \"parent\": \"feature_preprocessor:kernel_pca:kernel\",\n      \"type\": \"EQ\",\n      \"value\": \"poly\"\n    },\n    {\n      \"child\": \"feature_preprocessor:kernel_pca:gamma\",\n      \"parent\": \"feature_preprocessor:kernel_pca:kernel\",\n      \"type\": \"IN\",\n      \"values\": [\n        \"poly\",\n        \"rbf\"\n      ]\n    },\n    {\n      \"child\": \"feature_preprocessor:nystroem_sampler:coef0\",\n      \"parent\": \"feature_preprocessor:nystroem_sampler:kernel\",\n      \"type\": \"IN\",\n      \"values\": [\n        \"poly\",\n        \"sigmoid\"\n      ]\n    },\n    {\n      \"child\": \"feature_preprocessor:nystroem_sampler:degree\",\n      \"parent\": \"feature_preprocessor:nystroem_sampler:kernel\",\n      \"type\": \"EQ\",\n      \"value\": \"poly\"\n    },\n    {\n      \"child\": \"feature_preprocessor:nystroem_sampler:gamma\",\n      \"parent\": \"feature_preprocessor:nystroem_sampler:kernel\",\n      \"type\": \"IN\",\n      \"values\": [\n        \"poly\",\n        \"rbf\",\n        \"sigmoid\"\n      ]\n    },\n    {\n      \"child\": \"feature_preprocessor:select_rates_classification:mode\",\n      \"parent\": \"feature_preprocessor:select_rates_classification:score_func\",\n      \"type\": \"NEQ\",\n      \"value\": \"mutual_info_classif\"\n    }\n  ],\n  \"forbiddens\": [\n    {\n      \"name\": \"feature_preprocessor:feature_agglomeration:affinity\",\n      \"type\": \"AND\",\n      \"clauses\": [\n        {\n          \"name\": \"feature_preprocessor:feature_agglomeration:affinity\",\n          \"type\": \"IN\",\n          \"values\": [\n            \"cosine\",\n            \"manhattan\"\n          ]\n        },\n        {\n          \"name\": \"feature_preprocessor:feature_agglomeration:linkage\",\n          \"type\": \"EQUALS\",\n          \"value\": \"ward\"\n        }\n      ]\n    },\n    {\n      \"name\": \"feature_preprocessor:liblinear_svc_preprocessor:penalty\",\n      \"type\": \"AND\",\n      \"clauses\": [\n        {\n          \"name\": \"feature_preprocessor:liblinear_svc_preprocessor:penalty\",\n          \"type\": \"EQUALS\",\n          \"value\": \"l1\"\n        },\n        {\n          \"name\": \"feature_preprocessor:liblinear_svc_preprocessor:loss\",\n          \"type\": \"EQUALS\",\n          \"value\": \"hinge\"\n        }\n      ]\n    },\n    {\n      \"name\": \"classifier:liblinear_svc:penalty\",\n      \"type\": \"AND\",\n      \"clauses\": [\n        {\n          \"name\": \"classifier:liblinear_svc:penalty\",\n          \"type\": \"EQUALS\",\n          \"value\": \"l1\"\n        },\n        {\n          \"name\": \"classifier:liblinear_svc:loss\",\n          \"type\": \"EQUALS\",\n          \"value\": \"hinge\"\n        }\n      ]\n    },\n    {\n      \"name\": \"classifier:liblinear_svc:dual\",\n      \"type\": \"AND\",\n      \"clauses\": [\n        {\n          \"name\": \"classifier:liblinear_svc:dual\",\n          \"type\": \"EQUALS\",\n          \"value\": \"False\"\n        },\n        {\n          \"name\": \"classifier:liblinear_svc:penalty\",\n          \"type\": \"EQUALS\",\n          \"value\": \"l2\"\n        },\n        {\n          \"name\": \"classifier:liblinear_svc:loss\",\n          \"type\": \"EQUALS\",\n          \"value\": \"hinge\"\n        }\n      ]\n    },\n    {\n      \"name\": \"classifier:liblinear_svc:dual\",\n      \"type\": \"AND\",\n      \"clauses\": [\n        {\n          \"name\": \"classifier:liblinear_svc:dual\",\n          \"type\": \"EQUALS\",\n          \"value\": \"False\"\n        },\n        {\n          \"name\": \"classifier:liblinear_svc:penalty\",\n          \"type\": \"EQUALS\",\n          \"value\": \"l1\"\n        }\n      ]\n    },\n    {\n      \"name\": \"feature_preprocessor:__choice__\",\n      \"type\": \"AND\",\n      \"clauses\": [\n        {\n          \"name\": \"feature_preprocessor:__choice__\",\n          \"type\": \"EQUALS\",\n          \"value\": \"extra_trees_preproc_for_classification\"\n        },\n        {\n          \"name\": \"classifier:__choice__\",\n          \"type\": \"EQUALS\",\n          \"value\": \"multinomial_nb\"\n        }\n      ]\n    },\n    {\n      \"name\": \"feature_preprocessor:__choice__\",\n      \"type\": \"AND\",\n      \"clauses\": [\n        {\n          \"name\": \"feature_preprocessor:__choice__\",\n          \"type\": \"EQUALS\",\n          \"value\": \"fast_ica\"\n        },\n        {\n          \"name\": \"classifier:__choice__\",\n          \"type\": \"EQUALS\",\n          \"value\": \"multinomial_nb\"\n        }\n      ]\n    },\n    {\n      \"name\": \"feature_preprocessor:__choice__\",\n      \"type\": \"AND\",\n      \"clauses\": [\n        {\n          \"name\": \"feature_preprocessor:__choice__\",\n          \"type\": \"EQUALS\",\n          \"value\": \"feature_agglomeration\"\n        },\n        {\n          \"name\": \"classifier:__choice__\",\n          \"type\": \"EQUALS\",\n          \"value\": \"multinomial_nb\"\n        }\n      ]\n    },\n    {\n      \"name\": \"feature_preprocessor:__choice__\",\n      \"type\": \"AND\",\n      \"clauses\": [\n        {\n          \"name\": \"feature_preprocessor:__choice__\",\n          \"type\": \"EQUALS\",\n          \"value\": \"kernel_pca\"\n        },\n        {\n          \"name\": \"classifier:__choice__\",\n          \"type\": \"EQUALS\",\n          \"value\": \"multinomial_nb\"\n        }\n      ]\n    },\n    {\n      \"name\": \"feature_preprocessor:__choice__\",\n      \"type\": \"AND\",\n      \"clauses\": [\n        {\n          \"name\": \"feature_preprocessor:__choice__\",\n          \"type\": \"EQUALS\",\n          \"value\": \"kitchen_sinks\"\n        },\n        {\n          \"name\": \"classifier:__choice__\",\n          \"type\": \"EQUALS\",\n          \"value\": \"multinomial_nb\"\n        }\n      ]\n    },\n    {\n      \"name\": \"feature_preprocessor:__choice__\",\n      \"type\": \"AND\",\n      \"clauses\": [\n        {\n          \"name\": \"feature_preprocessor:__choice__\",\n          \"type\": \"EQUALS\",\n          \"value\": \"liblinear_svc_preprocessor\"\n        },\n        {\n          \"name\": \"classifier:__choice__\",\n          \"type\": \"EQUALS\",\n          \"value\": \"multinomial_nb\"\n        }\n      ]\n    },\n    {\n      \"name\": \"feature_preprocessor:__choice__\",\n      \"type\": \"AND\",\n      \"clauses\": [\n        {\n          \"name\": \"feature_preprocessor:__choice__\",\n          \"type\": \"EQUALS\",\n          \"value\": \"no_preprocessing\"\n        },\n        {\n          \"name\": \"classifier:__choice__\",\n          \"type\": \"EQUALS\",\n          \"value\": \"multinomial_nb\"\n        }\n      ]\n    },\n    {\n      \"name\": \"feature_preprocessor:__choice__\",\n      \"type\": \"AND\",\n      \"clauses\": [\n        {\n          \"name\": \"feature_preprocessor:__choice__\",\n          \"type\": \"EQUALS\",\n          \"value\": \"nystroem_sampler\"\n        },\n        {\n          \"name\": \"classifier:__choice__\",\n          \"type\": \"EQUALS\",\n          \"value\": \"multinomial_nb\"\n        }\n      ]\n    },\n    {\n      \"name\": \"feature_preprocessor:__choice__\",\n      \"type\": \"AND\",\n      \"clauses\": [\n        {\n          \"name\": \"feature_preprocessor:__choice__\",\n          \"type\": \"EQUALS\",\n          \"value\": \"pca\"\n        },\n        {\n          \"name\": \"classifier:__choice__\",\n          \"type\": \"EQUALS\",\n          \"value\": \"multinomial_nb\"\n        }\n      ]\n    },\n    {\n      \"name\": \"feature_preprocessor:__choice__\",\n      \"type\": \"AND\",\n      \"clauses\": [\n        {\n          \"name\": \"feature_preprocessor:__choice__\",\n          \"type\": \"EQUALS\",\n          \"value\": \"polynomial\"\n        },\n        {\n          \"name\": \"classifier:__choice__\",\n          \"type\": \"EQUALS\",\n          \"value\": \"multinomial_nb\"\n        }\n      ]\n    },\n    {\n      \"name\": \"feature_preprocessor:__choice__\",\n      \"type\": \"AND\",\n      \"clauses\": [\n        {\n          \"name\": \"feature_preprocessor:__choice__\",\n          \"type\": \"EQUALS\",\n          \"value\": \"random_trees_embedding\"\n        },\n        {\n          \"name\": \"classifier:__choice__\",\n          \"type\": \"EQUALS\",\n          \"value\": \"gaussian_nb\"\n        }\n      ]\n    },\n    {\n      \"name\": \"feature_preprocessor:__choice__\",\n      \"type\": \"AND\",\n      \"clauses\": [\n        {\n          \"name\": \"feature_preprocessor:__choice__\",\n          \"type\": \"EQUALS\",\n          \"value\": \"random_trees_embedding\"\n        },\n        {\n          \"name\": \"classifier:__choice__\",\n          \"type\": \"EQUALS\",\n          \"value\": \"gradient_boosting\"\n        }\n      ]\n    },\n    {\n      \"name\": \"feature_preprocessor:__choice__\",\n      \"type\": \"AND\",\n      \"clauses\": [\n        {\n          \"name\": \"feature_preprocessor:__choice__\",\n          \"type\": \"EQUALS\",\n          \"value\": \"random_trees_embedding\"\n        },\n        {\n          \"name\": \"classifier:__choice__\",\n          \"type\": \"EQUALS\",\n          \"value\": \"lda\"\n        }\n      ]\n    },\n    {\n      \"name\": \"feature_preprocessor:__choice__\",\n      \"type\": \"AND\",\n      \"clauses\": [\n        {\n          \"name\": \"feature_preprocessor:__choice__\",\n          \"type\": \"EQUALS\",\n          \"value\": \"random_trees_embedding\"\n        },\n        {\n          \"name\": \"classifier:__choice__\",\n          \"type\": \"EQUALS\",\n          \"value\": \"qda\"\n        }\n      ]\n    },\n    {\n      \"name\": \"feature_preprocessor:__choice__\",\n      \"type\": \"AND\",\n      \"clauses\": [\n        {\n          \"name\": \"feature_preprocessor:__choice__\",\n          \"type\": \"EQUALS\",\n          \"value\": \"select_percentile_classification\"\n        },\n        {\n          \"name\": \"classifier:__choice__\",\n          \"type\": \"EQUALS\",\n          \"value\": \"multinomial_nb\"\n        }\n      ]\n    },\n    {\n      \"name\": \"feature_preprocessor:__choice__\",\n      \"type\": \"AND\",\n      \"clauses\": [\n        {\n          \"name\": \"feature_preprocessor:__choice__\",\n          \"type\": \"EQUALS\",\n          \"value\": \"select_rates_classification\"\n        },\n        {\n          \"name\": \"classifier:__choice__\",\n          \"type\": \"EQUALS\",\n          \"value\": \"multinomial_nb\"\n        }\n      ]\n    },\n    {\n      \"name\": \"classifier:__choice__\",\n      \"type\": \"AND\",\n      \"clauses\": [\n        {\n          \"name\": \"classifier:__choice__\",\n          \"type\": \"EQUALS\",\n          \"value\": \"adaboost\"\n        },\n        {\n          \"name\": \"feature_preprocessor:__choice__\",\n          \"type\": \"EQUALS\",\n          \"value\": \"kernel_pca\"\n        }\n      ]\n    },\n    {\n      \"name\": \"classifier:__choice__\",\n      \"type\": \"AND\",\n      \"clauses\": [\n        {\n          \"name\": \"classifier:__choice__\",\n          \"type\": \"EQUALS\",\n          \"value\": \"adaboost\"\n        },\n        {\n          \"name\": \"feature_preprocessor:__choice__\",\n          \"type\": \"EQUALS\",\n          \"value\": \"kitchen_sinks\"\n        }\n      ]\n    },\n    {\n      \"name\": \"classifier:__choice__\",\n      \"type\": \"AND\",\n      \"clauses\": [\n        {\n          \"name\": \"classifier:__choice__\",\n          \"type\": \"EQUALS\",\n          \"value\": \"adaboost\"\n        },\n        {\n          \"name\": \"feature_preprocessor:__choice__\",\n          \"type\": \"EQUALS\",\n          \"value\": \"nystroem_sampler\"\n        }\n      ]\n    },\n    {\n      \"name\": \"classifier:__choice__\",\n      \"type\": \"AND\",\n      \"clauses\": [\n        {\n          \"name\": \"classifier:__choice__\",\n          \"type\": \"EQUALS\",\n          \"value\": \"decision_tree\"\n        },\n        {\n          \"name\": \"feature_preprocessor:__choice__\",\n          \"type\": \"EQUALS\",\n          \"value\": \"kernel_pca\"\n        }\n      ]\n    },\n    {\n      \"name\": \"classifier:__choice__\",\n      \"type\": \"AND\",\n      \"clauses\": [\n        {\n          \"name\": \"classifier:__choice__\",\n          \"type\": \"EQUALS\",\n          \"value\": \"decision_tree\"\n        },\n        {\n          \"name\": \"feature_preprocessor:__choice__\",\n          \"type\": \"EQUALS\",\n          \"value\": \"kitchen_sinks\"\n        }\n      ]\n    },\n    {\n      \"name\": \"classifier:__choice__\",\n      \"type\": \"AND\",\n      \"clauses\": [\n        {\n          \"name\": \"classifier:__choice__\",\n          \"type\": \"EQUALS\",\n          \"value\": \"decision_tree\"\n        },\n        {\n          \"name\": \"feature_preprocessor:__choice__\",\n          \"type\": \"EQUALS\",\n          \"value\": \"nystroem_sampler\"\n        }\n      ]\n    },\n    {\n      \"name\": \"classifier:__choice__\",\n      \"type\": \"AND\",\n      \"clauses\": [\n        {\n          \"name\": \"classifier:__choice__\",\n          \"type\": \"EQUALS\",\n          \"value\": \"extra_trees\"\n        },\n        {\n          \"name\": \"feature_preprocessor:__choice__\",\n          \"type\": \"EQUALS\",\n          \"value\": \"kernel_pca\"\n        }\n      ]\n    },\n    {\n      \"name\": \"classifier:__choice__\",\n      \"type\": \"AND\",\n      \"clauses\": [\n        {\n          \"name\": \"classifier:__choice__\",\n          \"type\": \"EQUALS\",\n          \"value\": \"extra_trees\"\n        },\n        {\n          \"name\": \"feature_preprocessor:__choice__\",\n          \"type\": \"EQUALS\",\n          \"value\": \"kitchen_sinks\"\n        }\n      ]\n    },\n    {\n      \"name\": \"classifier:__choice__\",\n      \"type\": \"AND\",\n      \"clauses\": [\n        {\n          \"name\": \"classifier:__choice__\",\n          \"type\": \"EQUALS\",\n          \"value\": \"extra_trees\"\n        },\n        {\n          \"name\": \"feature_preprocessor:__choice__\",\n          \"type\": \"EQUALS\",\n          \"value\": \"nystroem_sampler\"\n        }\n      ]\n    },\n    {\n      \"name\": \"classifier:__choice__\",\n      \"type\": \"AND\",\n      \"clauses\": [\n        {\n          \"name\": \"classifier:__choice__\",\n          \"type\": \"EQUALS\",\n          \"value\": \"gradient_boosting\"\n        },\n        {\n          \"name\": \"feature_preprocessor:__choice__\",\n          \"type\": \"EQUALS\",\n          \"value\": \"kernel_pca\"\n        }\n      ]\n    },\n    {\n      \"name\": \"classifier:__choice__\",\n      \"type\": \"AND\",\n      \"clauses\": [\n        {\n          \"name\": \"classifier:__choice__\",\n          \"type\": \"EQUALS\",\n          \"value\": \"gradient_boosting\"\n        },\n        {\n          \"name\": \"feature_preprocessor:__choice__\",\n          \"type\": \"EQUALS\",\n          \"value\": \"kitchen_sinks\"\n        }\n      ]\n    },\n    {\n      \"name\": \"classifier:__choice__\",\n      \"type\": \"AND\",\n      \"clauses\": [\n        {\n          \"name\": \"classifier:__choice__\",\n          \"type\": \"EQUALS\",\n          \"value\": \"gradient_boosting\"\n        },\n        {\n          \"name\": \"feature_preprocessor:__choice__\",\n          \"type\": \"EQUALS\",\n          \"value\": \"nystroem_sampler\"\n        }\n      ]\n    },\n    {\n      \"name\": \"classifier:__choice__\",\n      \"type\": \"AND\",\n      \"clauses\": [\n        {\n          \"name\": \"classifier:__choice__\",\n          \"type\": \"EQUALS\",\n          \"value\": \"k_nearest_neighbors\"\n        },\n        {\n          \"name\": \"feature_preprocessor:__choice__\",\n          \"type\": \"EQUALS\",\n          \"value\": \"kernel_pca\"\n        }\n      ]\n    },\n    {\n      \"name\": \"classifier:__choice__\",\n      \"type\": \"AND\",\n      \"clauses\": [\n        {\n          \"name\": \"classifier:__choice__\",\n          \"type\": \"EQUALS\",\n          \"value\": \"k_nearest_neighbors\"\n        },\n        {\n          \"name\": \"feature_preprocessor:__choice__\",\n          \"type\": \"EQUALS\",\n          \"value\": \"kitchen_sinks\"\n        }\n      ]\n    },\n    {\n      \"name\": \"classifier:__choice__\",\n      \"type\": \"AND\",\n      \"clauses\": [\n        {\n          \"name\": \"classifier:__choice__\",\n          \"type\": \"EQUALS\",\n          \"value\": \"k_nearest_neighbors\"\n        },\n        {\n          \"name\": \"feature_preprocessor:__choice__\",\n          \"type\": \"EQUALS\",\n          \"value\": \"nystroem_sampler\"\n        }\n      ]\n    },\n    {\n      \"name\": \"classifier:__choice__\",\n      \"type\": \"AND\",\n      \"clauses\": [\n        {\n          \"name\": \"classifier:__choice__\",\n          \"type\": \"EQUALS\",\n          \"value\": \"libsvm_svc\"\n        },\n        {\n          \"name\": \"feature_preprocessor:__choice__\",\n          \"type\": \"EQUALS\",\n          \"value\": \"kernel_pca\"\n        }\n      ]\n    },\n    {\n      \"name\": \"classifier:__choice__\",\n      \"type\": \"AND\",\n      \"clauses\": [\n        {\n          \"name\": \"classifier:__choice__\",\n          \"type\": \"EQUALS\",\n          \"value\": \"libsvm_svc\"\n        },\n        {\n          \"name\": \"feature_preprocessor:__choice__\",\n          \"type\": \"EQUALS\",\n          \"value\": \"kitchen_sinks\"\n        }\n      ]\n    },\n    {\n      \"name\": \"classifier:__choice__\",\n      \"type\": \"AND\",\n      \"clauses\": [\n        {\n          \"name\": \"classifier:__choice__\",\n          \"type\": \"EQUALS\",\n          \"value\": \"libsvm_svc\"\n        },\n        {\n          \"name\": \"feature_preprocessor:__choice__\",\n          \"type\": \"EQUALS\",\n          \"value\": \"nystroem_sampler\"\n        }\n      ]\n    },\n    {\n      \"name\": \"classifier:__choice__\",\n      \"type\": \"AND\",\n      \"clauses\": [\n        {\n          \"name\": \"classifier:__choice__\",\n          \"type\": \"EQUALS\",\n          \"value\": \"mlp\"\n        },\n        {\n          \"name\": \"feature_preprocessor:__choice__\",\n          \"type\": \"EQUALS\",\n          \"value\": \"kernel_pca\"\n        }\n      ]\n    },\n    {\n      \"name\": \"classifier:__choice__\",\n      \"type\": \"AND\",\n      \"clauses\": [\n        {\n          \"name\": \"classifier:__choice__\",\n          \"type\": \"EQUALS\",\n          \"value\": \"mlp\"\n        },\n        {\n          \"name\": \"feature_preprocessor:__choice__\",\n          \"type\": \"EQUALS\",\n          \"value\": \"kitchen_sinks\"\n        }\n      ]\n    },\n    {\n      \"name\": \"classifier:__choice__\",\n      \"type\": \"AND\",\n      \"clauses\": [\n        {\n          \"name\": \"classifier:__choice__\",\n          \"type\": \"EQUALS\",\n          \"value\": \"mlp\"\n        },\n        {\n          \"name\": \"feature_preprocessor:__choice__\",\n          \"type\": \"EQUALS\",\n          \"value\": \"nystroem_sampler\"\n        }\n      ]\n    },\n    {\n      \"name\": \"classifier:__choice__\",\n      \"type\": \"AND\",\n      \"clauses\": [\n        {\n          \"name\": \"classifier:__choice__\",\n          \"type\": \"EQUALS\",\n          \"value\": \"random_forest\"\n        },\n        {\n          \"name\": \"feature_preprocessor:__choice__\",\n          \"type\": \"EQUALS\",\n          \"value\": \"kernel_pca\"\n        }\n      ]\n    },\n    {\n      \"name\": \"classifier:__choice__\",\n      \"type\": \"AND\",\n      \"clauses\": [\n        {\n          \"name\": \"classifier:__choice__\",\n          \"type\": \"EQUALS\",\n          \"value\": \"random_forest\"\n        },\n        {\n          \"name\": \"feature_preprocessor:__choice__\",\n          \"type\": \"EQUALS\",\n          \"value\": \"kitchen_sinks\"\n        }\n      ]\n    },\n    {\n      \"name\": \"classifier:__choice__\",\n      \"type\": \"AND\",\n      \"clauses\": [\n        {\n          \"name\": \"classifier:__choice__\",\n          \"type\": \"EQUALS\",\n          \"value\": \"random_forest\"\n        },\n        {\n          \"name\": \"feature_preprocessor:__choice__\",\n          \"type\": \"EQUALS\",\n          \"value\": \"nystroem_sampler\"\n        }\n      ]\n    },\n    {\n      \"name\": \"classifier:__choice__\",\n      \"type\": \"AND\",\n      \"clauses\": [\n        {\n          \"name\": \"classifier:__choice__\",\n          \"type\": \"EQUALS\",\n          \"value\": \"gaussian_nb\"\n        },\n        {\n          \"name\": \"feature_preprocessor:__choice__\",\n          \"type\": \"EQUALS\",\n          \"value\": \"kernel_pca\"\n        }\n      ]\n    },\n    {\n      \"name\": \"classifier:__choice__\",\n      \"type\": \"AND\",\n      \"clauses\": [\n        {\n          \"name\": \"classifier:__choice__\",\n          \"type\": \"EQUALS\",\n          \"value\": \"gaussian_nb\"\n        },\n        {\n          \"name\": \"feature_preprocessor:__choice__\",\n          \"type\": \"EQUALS\",\n          \"value\": \"kitchen_sinks\"\n        }\n      ]\n    },\n    {\n      \"name\": \"classifier:__choice__\",\n      \"type\": \"AND\",\n      \"clauses\": [\n        {\n          \"name\": \"classifier:__choice__\",\n          \"type\": \"EQUALS\",\n          \"value\": \"gaussian_nb\"\n        },\n        {\n          \"name\": \"feature_preprocessor:__choice__\",\n          \"type\": \"EQUALS\",\n          \"value\": \"nystroem_sampler\"\n        }\n      ]\n    },\n    {\n      \"name\": \"feature_preprocessor:__choice__\",\n      \"type\": \"AND\",\n      \"clauses\": [\n        {\n          \"name\": \"feature_preprocessor:__choice__\",\n          \"type\": \"EQUALS\",\n          \"value\": \"kitchen_sinks\"\n        },\n        {\n          \"name\": \"classifier:__choice__\",\n          \"type\": \"EQUALS\",\n          \"value\": \"multinomial_nb\"\n        }\n      ]\n    },\n    {\n      \"name\": \"feature_preprocessor:__choice__\",\n      \"type\": \"AND\",\n      \"clauses\": [\n        {\n          \"name\": \"feature_preprocessor:__choice__\",\n          \"type\": \"EQUALS\",\n          \"value\": \"pca\"\n        },\n        {\n          \"name\": \"classifier:__choice__\",\n          \"type\": \"EQUALS\",\n          \"value\": \"multinomial_nb\"\n        }\n      ]\n    },\n    {\n      \"name\": \"feature_preprocessor:__choice__\",\n      \"type\": \"AND\",\n      \"clauses\": [\n        {\n          \"name\": \"feature_preprocessor:__choice__\",\n          \"type\": \"EQUALS\",\n          \"value\": \"fast_ica\"\n        },\n        {\n          \"name\": \"classifier:__choice__\",\n          \"type\": \"EQUALS\",\n          \"value\": \"multinomial_nb\"\n        }\n      ]\n    },\n    {\n      \"name\": \"feature_preprocessor:__choice__\",\n      \"type\": \"AND\",\n      \"clauses\": [\n        {\n          \"name\": \"feature_preprocessor:__choice__\",\n          \"type\": \"EQUALS\",\n          \"value\": \"kernel_pca\"\n        },\n        {\n          \"name\": \"classifier:__choice__\",\n          \"type\": \"EQUALS\",\n          \"value\": \"multinomial_nb\"\n        }\n      ]\n    },\n    {\n      \"name\": \"feature_preprocessor:__choice__\",\n      \"type\": \"AND\",\n      \"clauses\": [\n        {\n          \"name\": \"feature_preprocessor:__choice__\",\n          \"type\": \"EQUALS\",\n          \"value\": \"nystroem_sampler\"\n        },\n        {\n          \"name\": \"classifier:__choice__\",\n          \"type\": \"EQUALS\",\n          \"value\": \"multinomial_nb\"\n        }\n      ]\n    }\n  ],\n  \"python_module_version\": \"0.4.20\",\n  \"json_format_version\": 0.2\n}",
       "explanations": {
        "configs": {},
        "structures": {}
       },
       "meta": {
        "config": {
         "dask_client": null,
         "debug_mode": false,
         "disable_evaluator_output": false,
         "ensemble_nbest": 50,
         "ensemble_size": 50,
         "exclude": null,
         "get_smac_objective_callback": null,
         "include": null,
         "logging_config": null,
         "max_models_on_disc": 50,
         "memory_limit": 3072,
         "metadata_directory": null,
         "multiprocessing_context": "fork",
         "n_jobs": 1,
         "per_run_time_limit": 60,
         "precision": 32,
         "resampling_strategy": "holdout",
         "resampling_strategy_arguments": {},
         "seed": 1,
         "smac_scenario_args": null,
         "time_left_for_this_task": 300,
         "tmp_folder": "/tmp/autosklearn_classification_example_tmp"
        },
        "end_time": 1640808608.1821113,
        "framework": "auto-sklearn",
        "incumbent": 0.881578947368421,
        "is_minimization": false,
        "metric": "accuracy",
        "n_configs": 20,
        "n_structures": 1,
        "openml_fold": null,
        "openml_task": null,
        "start_time": 1640808308.1821113
       },
       "structures": [
        {
         "cid": "00:00",
         "configs": [
          {
           "budget": 0,
           "config": {
            "balancing:strategy": "none",
            "classifier:__choice__": "adaboost",
            "classifier:adaboost:algorithm": "SAMME.R",
            "classifier:adaboost:learning_rate": 0.046269426995092074,
            "classifier:adaboost:max_depth": 3,
            "classifier:adaboost:n_estimators": 406,
            "data_preprocessor:__choice__": "feature_type",
            "data_preprocessor:feature_type:categorical_transformer:categorical_encoding:__choice__": "one_hot_encoding",
            "data_preprocessor:feature_type:categorical_transformer:category_coalescence:__choice__": "minority_coalescer",
            "data_preprocessor:feature_type:categorical_transformer:category_coalescence:minority_coalescer:minimum_fraction": 0.002102242030216922,
            "data_preprocessor:feature_type:numerical_transformer:imputation:strategy": "mean",
            "data_preprocessor:feature_type:numerical_transformer:rescaling:__choice__": "robust_scaler",
            "data_preprocessor:feature_type:numerical_transformer:rescaling:robust_scaler:q_max": 0.7697572103377026,
            "data_preprocessor:feature_type:numerical_transformer:rescaling:robust_scaler:q_min": 0.280953821785477,
            "feature_preprocessor:__choice__": "extra_trees_preproc_for_classification",
            "feature_preprocessor:extra_trees_preproc_for_classification:bootstrap": "False",
            "feature_preprocessor:extra_trees_preproc_for_classification:criterion": "entropy",
            "feature_preprocessor:extra_trees_preproc_for_classification:max_depth": "None",
            "feature_preprocessor:extra_trees_preproc_for_classification:max_features": 0.40839846168190147,
            "feature_preprocessor:extra_trees_preproc_for_classification:max_leaf_nodes": "None",
            "feature_preprocessor:extra_trees_preproc_for_classification:min_impurity_decrease": 0,
            "feature_preprocessor:extra_trees_preproc_for_classification:min_samples_leaf": 4,
            "feature_preprocessor:extra_trees_preproc_for_classification:min_samples_split": 7,
            "feature_preprocessor:extra_trees_preproc_for_classification:min_weight_fraction_leaf": 0,
            "feature_preprocessor:extra_trees_preproc_for_classification:n_estimators": 100
           },
           "id": "00:00:03",
           "loss": 0.8508771929824561,
           "origin": "Initial design",
           "runtime": {
            "timestamp": 3.288762092590332,
            "training_time": 5.078696012496948
           },
           "status": "SUCCESS"
          }
         ],
         "configspace": null,
         "pipeline": {
          "args": {
           "configuration": null,
           "steps": [
            [
             "data_preprocessor:feature_type",
             {
              "args": {
               "transformers": [
                [
                 "categorical_transformer",
                 {
                  "args": {
                   "configuration": null,
                   "steps": [
                    [
                     "imputation",
                     {
                      "args": {},
                      "clazz": "autosklearn.pipeline.components.data_preprocessing.imputation.categorical_imputation.CategoricalImputation"
                     }
                    ],
                    [
                     "encoding",
                     {
                      "args": {},
                      "clazz": "autosklearn.pipeline.components.data_preprocessing.categorical_encoding.encoding.OrdinalEncoding"
                     }
                    ],
                    [
                     "category_shift",
                     {
                      "args": {},
                      "clazz": "autosklearn.pipeline.components.data_preprocessing.category_shift.category_shift.CategoryShift"
                     }
                    ],
                    [
                     "category_coalescence:minority_coalescer",
                     {
                      "args": {},
                      "clazz": "autosklearn.pipeline.components.data_preprocessing.minority_coalescense.minority_coalescer.MinorityCoalescer"
                     }
                    ],
                    [
                     "categorical_encoding:one_hot_encoding",
                     {
                      "args": {},
                      "clazz": "autosklearn.pipeline.components.data_preprocessing.categorical_encoding.one_hot_encoding.OneHotEncoder"
                     }
                    ]
                   ]
                  },
                  "clazz": "dswizard.pipeline.pipeline.FlexiblePipeline"
                 },
                 [
                  "Sex",
                  "ChestPainType",
                  "RestingECG",
                  "ExerciseAngina",
                  "ST_Slope"
                 ]
                ],
                [
                 "numerical_transformer",
                 {
                  "args": {
                   "configuration": null,
                   "steps": [
                    [
                     "imputation",
                     {
                      "args": {},
                      "clazz": "autosklearn.pipeline.components.data_preprocessing.imputation.numerical_imputation.NumericalImputation"
                     }
                    ],
                    [
                     "variance_threshold",
                     {
                      "args": {},
                      "clazz": "autosklearn.pipeline.components.data_preprocessing.variance_threshold.variance_threshold.VarianceThreshold"
                     }
                    ],
                    [
                     "rescaling:robust_scaler",
                     {
                      "args": {},
                      "clazz": "autosklearn.pipeline.components.data_preprocessing.rescaling.robust_scaler.RobustScalerComponent"
                     }
                    ]
                   ]
                  },
                  "clazz": "dswizard.pipeline.pipeline.FlexiblePipeline"
                 },
                 [
                  "Age",
                  "RestingBP",
                  "Cholesterol",
                  "FastingBS",
                  "MaxHR",
                  "Oldpeak"
                 ]
                ]
               ]
              },
              "clazz": "dswizard.components.sklearn.ColumnTransformerComponent"
             }
            ],
            [
             "balancing",
             {
              "args": {},
              "clazz": "autosklearn.pipeline.components.data_preprocessing.balancing.balancing.Balancing"
             }
            ],
            [
             "feature_preprocessor:extra_trees_preproc_for_classification",
             {
              "args": {},
              "clazz": "autosklearn.pipeline.components.feature_preprocessing.extra_trees_preproc_for_classification.ExtraTreesPreprocessorClassification"
             }
            ],
            [
             "classifier:adaboost",
             {
              "args": {},
              "clazz": "autosklearn.pipeline.components.classification.adaboost.AdaboostClassifier"
             }
            ]
           ]
          },
          "clazz": "dswizard.pipeline.pipeline.FlexiblePipeline"
         }
        },
        {
         "cid": "00:01",
         "configs": [
          {
           "budget": 0,
           "config": {
            "balancing:strategy": "none",
            "classifier:__choice__": "random_forest",
            "classifier:random_forest:bootstrap": "True",
            "classifier:random_forest:criterion": "entropy",
            "classifier:random_forest:max_depth": "None",
            "classifier:random_forest:max_features": 0.5,
            "classifier:random_forest:max_leaf_nodes": "None",
            "classifier:random_forest:min_impurity_decrease": 0,
            "classifier:random_forest:min_samples_leaf": 1,
            "classifier:random_forest:min_samples_split": 2,
            "classifier:random_forest:min_weight_fraction_leaf": 0,
            "data_preprocessor:__choice__": "feature_type",
            "data_preprocessor:feature_type:categorical_transformer:categorical_encoding:__choice__": "no_encoding",
            "data_preprocessor:feature_type:categorical_transformer:category_coalescence:__choice__": "no_coalescense",
            "data_preprocessor:feature_type:numerical_transformer:imputation:strategy": "median",
            "data_preprocessor:feature_type:numerical_transformer:rescaling:__choice__": "quantile_transformer",
            "data_preprocessor:feature_type:numerical_transformer:rescaling:quantile_transformer:n_quantiles": 937,
            "data_preprocessor:feature_type:numerical_transformer:rescaling:quantile_transformer:output_distribution": "uniform",
            "feature_preprocessor:__choice__": "random_trees_embedding",
            "feature_preprocessor:random_trees_embedding:bootstrap": "True",
            "feature_preprocessor:random_trees_embedding:max_depth": 5,
            "feature_preprocessor:random_trees_embedding:max_leaf_nodes": "None",
            "feature_preprocessor:random_trees_embedding:min_samples_leaf": 1,
            "feature_preprocessor:random_trees_embedding:min_samples_split": 2,
            "feature_preprocessor:random_trees_embedding:min_weight_fraction_leaf": 1,
            "feature_preprocessor:random_trees_embedding:n_estimators": 10
           },
           "id": "00:01:08",
           "loss": 0.8201754385964912,
           "origin": "Initial design",
           "runtime": {
            "timestamp": 14.955671072006226,
            "training_time": 1.4589762687683105
           },
           "status": "SUCCESS"
          }
         ],
         "configspace": null,
         "pipeline": {
          "args": {
           "configuration": null,
           "steps": [
            [
             "data_preprocessor:feature_type",
             {
              "args": {
               "transformers": [
                [
                 "categorical_transformer",
                 {
                  "args": {
                   "configuration": null,
                   "steps": [
                    [
                     "imputation",
                     {
                      "args": {},
                      "clazz": "autosklearn.pipeline.components.data_preprocessing.imputation.categorical_imputation.CategoricalImputation"
                     }
                    ],
                    [
                     "encoding",
                     {
                      "args": {},
                      "clazz": "autosklearn.pipeline.components.data_preprocessing.categorical_encoding.encoding.OrdinalEncoding"
                     }
                    ],
                    [
                     "category_shift",
                     {
                      "args": {},
                      "clazz": "autosklearn.pipeline.components.data_preprocessing.category_shift.category_shift.CategoryShift"
                     }
                    ],
                    [
                     "category_coalescence:no_coalescense",
                     {
                      "args": {},
                      "clazz": "autosklearn.pipeline.components.data_preprocessing.minority_coalescense.no_coalescense.NoCoalescence"
                     }
                    ],
                    [
                     "categorical_encoding:no_encoding",
                     {
                      "args": {},
                      "clazz": "autosklearn.pipeline.components.data_preprocessing.categorical_encoding.no_encoding.NoEncoding"
                     }
                    ]
                   ]
                  },
                  "clazz": "dswizard.pipeline.pipeline.FlexiblePipeline"
                 },
                 [
                  "Sex",
                  "ChestPainType",
                  "RestingECG",
                  "ExerciseAngina",
                  "ST_Slope"
                 ]
                ],
                [
                 "numerical_transformer",
                 {
                  "args": {
                   "configuration": null,
                   "steps": [
                    [
                     "imputation",
                     {
                      "args": {},
                      "clazz": "autosklearn.pipeline.components.data_preprocessing.imputation.numerical_imputation.NumericalImputation"
                     }
                    ],
                    [
                     "variance_threshold",
                     {
                      "args": {},
                      "clazz": "autosklearn.pipeline.components.data_preprocessing.variance_threshold.variance_threshold.VarianceThreshold"
                     }
                    ],
                    [
                     "rescaling:quantile_transformer",
                     {
                      "args": {},
                      "clazz": "autosklearn.pipeline.components.data_preprocessing.rescaling.quantile_transformer.QuantileTransformerComponent"
                     }
                    ]
                   ]
                  },
                  "clazz": "dswizard.pipeline.pipeline.FlexiblePipeline"
                 },
                 [
                  "Age",
                  "RestingBP",
                  "Cholesterol",
                  "FastingBS",
                  "MaxHR",
                  "Oldpeak"
                 ]
                ]
               ]
              },
              "clazz": "dswizard.components.sklearn.ColumnTransformerComponent"
             }
            ],
            [
             "balancing",
             {
              "args": {},
              "clazz": "autosklearn.pipeline.components.data_preprocessing.balancing.balancing.Balancing"
             }
            ],
            [
             "feature_preprocessor:random_trees_embedding",
             {
              "args": {},
              "clazz": "autosklearn.pipeline.components.feature_preprocessing.random_trees_embedding.RandomTreesEmbedding"
             }
            ],
            [
             "classifier:random_forest",
             {
              "args": {},
              "clazz": "autosklearn.pipeline.components.classification.random_forest.RandomForest"
             }
            ]
           ]
          },
          "clazz": "dswizard.pipeline.pipeline.FlexiblePipeline"
         }
        },
        {
         "cid": "00:02",
         "configs": [
          {
           "budget": 0,
           "config": {
            "balancing:strategy": "none",
            "classifier:__choice__": "libsvm_svc",
            "classifier:libsvm_svc:C": 1198.7850746967626,
            "classifier:libsvm_svc:gamma": 0.015219182148092949,
            "classifier:libsvm_svc:kernel": "rbf",
            "classifier:libsvm_svc:max_iter": -1,
            "classifier:libsvm_svc:shrinking": "True",
            "classifier:libsvm_svc:tol": 0.040610448809956276,
            "data_preprocessor:__choice__": "feature_type",
            "data_preprocessor:feature_type:categorical_transformer:categorical_encoding:__choice__": "no_encoding",
            "data_preprocessor:feature_type:categorical_transformer:category_coalescence:__choice__": "no_coalescense",
            "data_preprocessor:feature_type:numerical_transformer:imputation:strategy": "median",
            "data_preprocessor:feature_type:numerical_transformer:rescaling:__choice__": "standardize",
            "feature_preprocessor:__choice__": "feature_agglomeration",
            "feature_preprocessor:feature_agglomeration:affinity": "cosine",
            "feature_preprocessor:feature_agglomeration:linkage": "average",
            "feature_preprocessor:feature_agglomeration:n_clusters": 242,
            "feature_preprocessor:feature_agglomeration:pooling_func": "median"
           },
           "id": "00:02:12",
           "loss": 0.8245614035087719,
           "origin": "Initial design",
           "runtime": {
            "timestamp": 21.6579167842865,
            "training_time": 2.375534772872925
           },
           "status": "SUCCESS"
          }
         ],
         "configspace": null,
         "pipeline": {
          "args": {
           "configuration": null,
           "steps": [
            [
             "data_preprocessor:feature_type",
             {
              "args": {
               "transformers": [
                [
                 "categorical_transformer",
                 {
                  "args": {
                   "configuration": null,
                   "steps": [
                    [
                     "imputation",
                     {
                      "args": {},
                      "clazz": "autosklearn.pipeline.components.data_preprocessing.imputation.categorical_imputation.CategoricalImputation"
                     }
                    ],
                    [
                     "encoding",
                     {
                      "args": {},
                      "clazz": "autosklearn.pipeline.components.data_preprocessing.categorical_encoding.encoding.OrdinalEncoding"
                     }
                    ],
                    [
                     "category_shift",
                     {
                      "args": {},
                      "clazz": "autosklearn.pipeline.components.data_preprocessing.category_shift.category_shift.CategoryShift"
                     }
                    ],
                    [
                     "category_coalescence:no_coalescense",
                     {
                      "args": {},
                      "clazz": "autosklearn.pipeline.components.data_preprocessing.minority_coalescense.no_coalescense.NoCoalescence"
                     }
                    ],
                    [
                     "categorical_encoding:no_encoding",
                     {
                      "args": {},
                      "clazz": "autosklearn.pipeline.components.data_preprocessing.categorical_encoding.no_encoding.NoEncoding"
                     }
                    ]
                   ]
                  },
                  "clazz": "dswizard.pipeline.pipeline.FlexiblePipeline"
                 },
                 [
                  "Sex",
                  "ChestPainType",
                  "RestingECG",
                  "ExerciseAngina",
                  "ST_Slope"
                 ]
                ],
                [
                 "numerical_transformer",
                 {
                  "args": {
                   "configuration": null,
                   "steps": [
                    [
                     "imputation",
                     {
                      "args": {},
                      "clazz": "autosklearn.pipeline.components.data_preprocessing.imputation.numerical_imputation.NumericalImputation"
                     }
                    ],
                    [
                     "variance_threshold",
                     {
                      "args": {},
                      "clazz": "autosklearn.pipeline.components.data_preprocessing.variance_threshold.variance_threshold.VarianceThreshold"
                     }
                    ],
                    [
                     "rescaling:standardize",
                     {
                      "args": {},
                      "clazz": "autosklearn.pipeline.components.data_preprocessing.rescaling.standardize.StandardScalerComponent"
                     }
                    ]
                   ]
                  },
                  "clazz": "dswizard.pipeline.pipeline.FlexiblePipeline"
                 },
                 [
                  "Age",
                  "RestingBP",
                  "Cholesterol",
                  "FastingBS",
                  "MaxHR",
                  "Oldpeak"
                 ]
                ]
               ]
              },
              "clazz": "dswizard.components.sklearn.ColumnTransformerComponent"
             }
            ],
            [
             "balancing",
             {
              "args": {},
              "clazz": "autosklearn.pipeline.components.data_preprocessing.balancing.balancing.Balancing"
             }
            ],
            [
             "feature_preprocessor:feature_agglomeration",
             {
              "args": {},
              "clazz": "autosklearn.pipeline.components.feature_preprocessing.feature_agglomeration.FeatureAgglomeration"
             }
            ],
            [
             "classifier:libsvm_svc",
             {
              "args": {},
              "clazz": "autosklearn.pipeline.components.classification.libsvm_svc.LibSVM_SVC"
             }
            ]
           ]
          },
          "clazz": "dswizard.pipeline.pipeline.FlexiblePipeline"
         }
        },
        {
         "cid": "00:03",
         "configs": [
          {
           "budget": 0,
           "config": {
            "balancing:strategy": "none",
            "classifier:__choice__": "gradient_boosting",
            "classifier:gradient_boosting:early_stop": "valid",
            "classifier:gradient_boosting:l2_regularization": 0.0015246021799433245,
            "classifier:gradient_boosting:learning_rate": 0.051072202871981255,
            "classifier:gradient_boosting:loss": "auto",
            "classifier:gradient_boosting:max_bins": 255,
            "classifier:gradient_boosting:max_depth": "None",
            "classifier:gradient_boosting:max_leaf_nodes": 377,
            "classifier:gradient_boosting:min_samples_leaf": 100,
            "classifier:gradient_boosting:n_iter_no_change": 17,
            "classifier:gradient_boosting:scoring": "loss",
            "classifier:gradient_boosting:tol": 1e-07,
            "classifier:gradient_boosting:validation_fraction": 0.2801600670702926,
            "data_preprocessor:__choice__": "feature_type",
            "data_preprocessor:feature_type:categorical_transformer:categorical_encoding:__choice__": "one_hot_encoding",
            "data_preprocessor:feature_type:categorical_transformer:category_coalescence:__choice__": "minority_coalescer",
            "data_preprocessor:feature_type:categorical_transformer:category_coalescence:minority_coalescer:minimum_fraction": 0.00017040856588345187,
            "data_preprocessor:feature_type:numerical_transformer:imputation:strategy": "median",
            "data_preprocessor:feature_type:numerical_transformer:rescaling:__choice__": "robust_scaler",
            "data_preprocessor:feature_type:numerical_transformer:rescaling:robust_scaler:q_max": 0.7372628992636477,
            "data_preprocessor:feature_type:numerical_transformer:rescaling:robust_scaler:q_min": 0.2449084521899531,
            "feature_preprocessor:__choice__": "polynomial",
            "feature_preprocessor:polynomial:degree": 3,
            "feature_preprocessor:polynomial:include_bias": "True",
            "feature_preprocessor:polynomial:interaction_only": "True"
           },
           "id": "00:03:13",
           "loss": 0.8026315789473685,
           "origin": "Initial design",
           "runtime": {
            "timestamp": 24.254105806350708,
            "training_time": 1.0916237831115723
           },
           "status": "SUCCESS"
          }
         ],
         "configspace": null,
         "pipeline": {
          "args": {
           "configuration": null,
           "steps": [
            [
             "data_preprocessor:feature_type",
             {
              "args": {
               "transformers": [
                [
                 "categorical_transformer",
                 {
                  "args": {
                   "configuration": null,
                   "steps": [
                    [
                     "imputation",
                     {
                      "args": {},
                      "clazz": "autosklearn.pipeline.components.data_preprocessing.imputation.categorical_imputation.CategoricalImputation"
                     }
                    ],
                    [
                     "encoding",
                     {
                      "args": {},
                      "clazz": "autosklearn.pipeline.components.data_preprocessing.categorical_encoding.encoding.OrdinalEncoding"
                     }
                    ],
                    [
                     "category_shift",
                     {
                      "args": {},
                      "clazz": "autosklearn.pipeline.components.data_preprocessing.category_shift.category_shift.CategoryShift"
                     }
                    ],
                    [
                     "category_coalescence:minority_coalescer",
                     {
                      "args": {},
                      "clazz": "autosklearn.pipeline.components.data_preprocessing.minority_coalescense.minority_coalescer.MinorityCoalescer"
                     }
                    ],
                    [
                     "categorical_encoding:one_hot_encoding",
                     {
                      "args": {},
                      "clazz": "autosklearn.pipeline.components.data_preprocessing.categorical_encoding.one_hot_encoding.OneHotEncoder"
                     }
                    ]
                   ]
                  },
                  "clazz": "dswizard.pipeline.pipeline.FlexiblePipeline"
                 },
                 [
                  "Sex",
                  "ChestPainType",
                  "RestingECG",
                  "ExerciseAngina",
                  "ST_Slope"
                 ]
                ],
                [
                 "numerical_transformer",
                 {
                  "args": {
                   "configuration": null,
                   "steps": [
                    [
                     "imputation",
                     {
                      "args": {},
                      "clazz": "autosklearn.pipeline.components.data_preprocessing.imputation.numerical_imputation.NumericalImputation"
                     }
                    ],
                    [
                     "variance_threshold",
                     {
                      "args": {},
                      "clazz": "autosklearn.pipeline.components.data_preprocessing.variance_threshold.variance_threshold.VarianceThreshold"
                     }
                    ],
                    [
                     "rescaling:robust_scaler",
                     {
                      "args": {},
                      "clazz": "autosklearn.pipeline.components.data_preprocessing.rescaling.robust_scaler.RobustScalerComponent"
                     }
                    ]
                   ]
                  },
                  "clazz": "dswizard.pipeline.pipeline.FlexiblePipeline"
                 },
                 [
                  "Age",
                  "RestingBP",
                  "Cholesterol",
                  "FastingBS",
                  "MaxHR",
                  "Oldpeak"
                 ]
                ]
               ]
              },
              "clazz": "dswizard.components.sklearn.ColumnTransformerComponent"
             }
            ],
            [
             "balancing",
             {
              "args": {},
              "clazz": "autosklearn.pipeline.components.data_preprocessing.balancing.balancing.Balancing"
             }
            ],
            [
             "feature_preprocessor:polynomial",
             {
              "args": {},
              "clazz": "autosklearn.pipeline.components.feature_preprocessing.polynomial.PolynomialFeatures"
             }
            ],
            [
             "classifier:gradient_boosting",
             {
              "args": {},
              "clazz": "autosklearn.pipeline.components.classification.gradient_boosting.GradientBoostingClassifier"
             }
            ]
           ]
          },
          "clazz": "dswizard.pipeline.pipeline.FlexiblePipeline"
         }
        },
        {
         "cid": "00:04",
         "configs": [
          {
           "budget": 0,
           "config": {
            "balancing:strategy": "none",
            "classifier:__choice__": "adaboost",
            "classifier:adaboost:algorithm": "SAMME",
            "classifier:adaboost:learning_rate": 0.13167493237005792,
            "classifier:adaboost:max_depth": 2,
            "classifier:adaboost:n_estimators": 56,
            "data_preprocessor:__choice__": "feature_type",
            "data_preprocessor:feature_type:categorical_transformer:categorical_encoding:__choice__": "one_hot_encoding",
            "data_preprocessor:feature_type:categorical_transformer:category_coalescence:__choice__": "minority_coalescer",
            "data_preprocessor:feature_type:categorical_transformer:category_coalescence:minority_coalescer:minimum_fraction": 0.05897357701860171,
            "data_preprocessor:feature_type:numerical_transformer:imputation:strategy": "mean",
            "data_preprocessor:feature_type:numerical_transformer:rescaling:__choice__": "normalize",
            "feature_preprocessor:__choice__": "polynomial",
            "feature_preprocessor:polynomial:degree": 3,
            "feature_preprocessor:polynomial:include_bias": "False",
            "feature_preprocessor:polynomial:interaction_only": "False"
           },
           "id": "00:04:17",
           "loss": 0,
           "origin": "Initial design",
           "runtime": {
            "timestamp": 32.123430252075195,
            "training_time": 0.7971394062042236
           },
           "status": "CRASHED"
          }
         ],
         "configspace": null,
         "pipeline": {
          "args": {
           "configuration": null,
           "steps": [
            [
             "data_preprocessor:feature_type",
             {
              "args": {
               "transformers": [
                [
                 "categorical_transformer",
                 {
                  "args": {
                   "configuration": null,
                   "steps": [
                    [
                     "imputation",
                     {
                      "args": {},
                      "clazz": "autosklearn.pipeline.components.data_preprocessing.imputation.categorical_imputation.CategoricalImputation"
                     }
                    ],
                    [
                     "encoding",
                     {
                      "args": {},
                      "clazz": "autosklearn.pipeline.components.data_preprocessing.categorical_encoding.encoding.OrdinalEncoding"
                     }
                    ],
                    [
                     "category_shift",
                     {
                      "args": {},
                      "clazz": "autosklearn.pipeline.components.data_preprocessing.category_shift.category_shift.CategoryShift"
                     }
                    ],
                    [
                     "category_coalescence:minority_coalescer",
                     {
                      "args": {},
                      "clazz": "autosklearn.pipeline.components.data_preprocessing.minority_coalescense.minority_coalescer.MinorityCoalescer"
                     }
                    ],
                    [
                     "categorical_encoding:one_hot_encoding",
                     {
                      "args": {},
                      "clazz": "autosklearn.pipeline.components.data_preprocessing.categorical_encoding.one_hot_encoding.OneHotEncoder"
                     }
                    ]
                   ]
                  },
                  "clazz": "dswizard.pipeline.pipeline.FlexiblePipeline"
                 },
                 [
                  "Sex",
                  "ChestPainType",
                  "RestingECG",
                  "ExerciseAngina",
                  "ST_Slope"
                 ]
                ],
                [
                 "numerical_transformer",
                 {
                  "args": {
                   "configuration": null,
                   "steps": [
                    [
                     "imputation",
                     {
                      "args": {},
                      "clazz": "autosklearn.pipeline.components.data_preprocessing.imputation.numerical_imputation.NumericalImputation"
                     }
                    ],
                    [
                     "variance_threshold",
                     {
                      "args": {},
                      "clazz": "autosklearn.pipeline.components.data_preprocessing.variance_threshold.variance_threshold.VarianceThreshold"
                     }
                    ],
                    [
                     "rescaling:normalize",
                     {
                      "args": {},
                      "clazz": "autosklearn.pipeline.components.data_preprocessing.rescaling.normalize.NormalizerComponent"
                     }
                    ]
                   ]
                  },
                  "clazz": "dswizard.pipeline.pipeline.FlexiblePipeline"
                 },
                 [
                  "Age",
                  "RestingBP",
                  "Cholesterol",
                  "FastingBS",
                  "MaxHR",
                  "Oldpeak"
                 ]
                ]
               ]
              },
              "clazz": "dswizard.components.sklearn.ColumnTransformerComponent"
             }
            ],
            [
             "balancing",
             {
              "args": {},
              "clazz": "autosklearn.pipeline.components.data_preprocessing.balancing.balancing.Balancing"
             }
            ],
            [
             "feature_preprocessor:polynomial",
             {
              "args": {},
              "clazz": "autosklearn.pipeline.components.feature_preprocessing.polynomial.PolynomialFeatures"
             }
            ],
            [
             "classifier:adaboost",
             {
              "args": {},
              "clazz": "autosklearn.pipeline.components.classification.adaboost.AdaboostClassifier"
             }
            ]
           ]
          },
          "clazz": "dswizard.pipeline.pipeline.FlexiblePipeline"
         }
        },
        {
         "cid": "00:05",
         "configs": [
          {
           "budget": 0,
           "config": {
            "balancing:strategy": "weighting",
            "classifier:__choice__": "adaboost",
            "classifier:adaboost:algorithm": "SAMME",
            "classifier:adaboost:learning_rate": 0.03734246906377268,
            "classifier:adaboost:max_depth": 2,
            "classifier:adaboost:n_estimators": 416,
            "data_preprocessor:__choice__": "feature_type",
            "data_preprocessor:feature_type:categorical_transformer:categorical_encoding:__choice__": "one_hot_encoding",
            "data_preprocessor:feature_type:categorical_transformer:category_coalescence:__choice__": "minority_coalescer",
            "data_preprocessor:feature_type:categorical_transformer:category_coalescence:minority_coalescer:minimum_fraction": 0.01340273457911319,
            "data_preprocessor:feature_type:numerical_transformer:imputation:strategy": "most_frequent",
            "data_preprocessor:feature_type:numerical_transformer:rescaling:__choice__": "minmax",
            "feature_preprocessor:__choice__": "feature_agglomeration",
            "feature_preprocessor:feature_agglomeration:affinity": "euclidean",
            "feature_preprocessor:feature_agglomeration:linkage": "ward",
            "feature_preprocessor:feature_agglomeration:n_clusters": 22,
            "feature_preprocessor:feature_agglomeration:pooling_func": "mean"
           },
           "id": "00:05:22",
           "loss": 0.8157894736842105,
           "origin": "Initial design",
           "runtime": {
            "timestamp": 52.59260058403015,
            "training_time": 0.85819411277771
           },
           "status": "SUCCESS"
          }
         ],
         "configspace": null,
         "pipeline": {
          "args": {
           "configuration": null,
           "steps": [
            [
             "data_preprocessor:feature_type",
             {
              "args": {
               "transformers": [
                [
                 "categorical_transformer",
                 {
                  "args": {
                   "configuration": null,
                   "steps": [
                    [
                     "imputation",
                     {
                      "args": {},
                      "clazz": "autosklearn.pipeline.components.data_preprocessing.imputation.categorical_imputation.CategoricalImputation"
                     }
                    ],
                    [
                     "encoding",
                     {
                      "args": {},
                      "clazz": "autosklearn.pipeline.components.data_preprocessing.categorical_encoding.encoding.OrdinalEncoding"
                     }
                    ],
                    [
                     "category_shift",
                     {
                      "args": {},
                      "clazz": "autosklearn.pipeline.components.data_preprocessing.category_shift.category_shift.CategoryShift"
                     }
                    ],
                    [
                     "category_coalescence:minority_coalescer",
                     {
                      "args": {},
                      "clazz": "autosklearn.pipeline.components.data_preprocessing.minority_coalescense.minority_coalescer.MinorityCoalescer"
                     }
                    ],
                    [
                     "categorical_encoding:one_hot_encoding",
                     {
                      "args": {},
                      "clazz": "autosklearn.pipeline.components.data_preprocessing.categorical_encoding.one_hot_encoding.OneHotEncoder"
                     }
                    ]
                   ]
                  },
                  "clazz": "dswizard.pipeline.pipeline.FlexiblePipeline"
                 },
                 [
                  "Sex",
                  "ChestPainType",
                  "RestingECG",
                  "ExerciseAngina",
                  "ST_Slope"
                 ]
                ],
                [
                 "numerical_transformer",
                 {
                  "args": {
                   "configuration": null,
                   "steps": [
                    [
                     "imputation",
                     {
                      "args": {},
                      "clazz": "autosklearn.pipeline.components.data_preprocessing.imputation.numerical_imputation.NumericalImputation"
                     }
                    ],
                    [
                     "variance_threshold",
                     {
                      "args": {},
                      "clazz": "autosklearn.pipeline.components.data_preprocessing.variance_threshold.variance_threshold.VarianceThreshold"
                     }
                    ],
                    [
                     "rescaling:minmax",
                     {
                      "args": {},
                      "clazz": "autosklearn.pipeline.components.data_preprocessing.rescaling.minmax.MinMaxScalerComponent"
                     }
                    ]
                   ]
                  },
                  "clazz": "dswizard.pipeline.pipeline.FlexiblePipeline"
                 },
                 [
                  "Age",
                  "RestingBP",
                  "Cholesterol",
                  "FastingBS",
                  "MaxHR",
                  "Oldpeak"
                 ]
                ]
               ]
              },
              "clazz": "dswizard.components.sklearn.ColumnTransformerComponent"
             }
            ],
            [
             "balancing",
             {
              "args": {},
              "clazz": "autosklearn.pipeline.components.data_preprocessing.balancing.balancing.Balancing"
             }
            ],
            [
             "feature_preprocessor:feature_agglomeration",
             {
              "args": {},
              "clazz": "autosklearn.pipeline.components.feature_preprocessing.feature_agglomeration.FeatureAgglomeration"
             }
            ],
            [
             "classifier:adaboost",
             {
              "args": {},
              "clazz": "autosklearn.pipeline.components.classification.adaboost.AdaboostClassifier"
             }
            ]
           ]
          },
          "clazz": "dswizard.pipeline.pipeline.FlexiblePipeline"
         }
        },
        {
         "cid": "00:06",
         "configs": [
          {
           "budget": 0,
           "config": {
            "balancing:strategy": "none",
            "classifier:__choice__": "gradient_boosting",
            "classifier:gradient_boosting:early_stop": "train",
            "classifier:gradient_boosting:l2_regularization": 3.609412172481434e-10,
            "classifier:gradient_boosting:learning_rate": 0.05972079854295879,
            "classifier:gradient_boosting:loss": "auto",
            "classifier:gradient_boosting:max_bins": 255,
            "classifier:gradient_boosting:max_depth": "None",
            "classifier:gradient_boosting:max_leaf_nodes": 4,
            "classifier:gradient_boosting:min_samples_leaf": 2,
            "classifier:gradient_boosting:n_iter_no_change": 14,
            "classifier:gradient_boosting:scoring": "loss",
            "classifier:gradient_boosting:tol": 1e-07,
            "data_preprocessor:__choice__": "feature_type",
            "data_preprocessor:feature_type:categorical_transformer:categorical_encoding:__choice__": "one_hot_encoding",
            "data_preprocessor:feature_type:categorical_transformer:category_coalescence:__choice__": "no_coalescense",
            "data_preprocessor:feature_type:numerical_transformer:imputation:strategy": "mean",
            "data_preprocessor:feature_type:numerical_transformer:rescaling:__choice__": "minmax",
            "feature_preprocessor:__choice__": "no_preprocessing"
           },
           "id": "00:06:25",
           "loss": 0.8508771929824561,
           "origin": "Initial design",
           "runtime": {
            "timestamp": 57.37213587760925,
            "training_time": 1.6813311576843262
           },
           "status": "SUCCESS"
          }
         ],
         "configspace": null,
         "pipeline": {
          "args": {
           "configuration": null,
           "steps": [
            [
             "data_preprocessor:feature_type",
             {
              "args": {
               "transformers": [
                [
                 "categorical_transformer",
                 {
                  "args": {
                   "configuration": null,
                   "steps": [
                    [
                     "imputation",
                     {
                      "args": {},
                      "clazz": "autosklearn.pipeline.components.data_preprocessing.imputation.categorical_imputation.CategoricalImputation"
                     }
                    ],
                    [
                     "encoding",
                     {
                      "args": {},
                      "clazz": "autosklearn.pipeline.components.data_preprocessing.categorical_encoding.encoding.OrdinalEncoding"
                     }
                    ],
                    [
                     "category_shift",
                     {
                      "args": {},
                      "clazz": "autosklearn.pipeline.components.data_preprocessing.category_shift.category_shift.CategoryShift"
                     }
                    ],
                    [
                     "category_coalescence:no_coalescense",
                     {
                      "args": {},
                      "clazz": "autosklearn.pipeline.components.data_preprocessing.minority_coalescense.no_coalescense.NoCoalescence"
                     }
                    ],
                    [
                     "categorical_encoding:one_hot_encoding",
                     {
                      "args": {},
                      "clazz": "autosklearn.pipeline.components.data_preprocessing.categorical_encoding.one_hot_encoding.OneHotEncoder"
                     }
                    ]
                   ]
                  },
                  "clazz": "dswizard.pipeline.pipeline.FlexiblePipeline"
                 },
                 [
                  "Sex",
                  "ChestPainType",
                  "RestingECG",
                  "ExerciseAngina",
                  "ST_Slope"
                 ]
                ],
                [
                 "numerical_transformer",
                 {
                  "args": {
                   "configuration": null,
                   "steps": [
                    [
                     "imputation",
                     {
                      "args": {},
                      "clazz": "autosklearn.pipeline.components.data_preprocessing.imputation.numerical_imputation.NumericalImputation"
                     }
                    ],
                    [
                     "variance_threshold",
                     {
                      "args": {},
                      "clazz": "autosklearn.pipeline.components.data_preprocessing.variance_threshold.variance_threshold.VarianceThreshold"
                     }
                    ],
                    [
                     "rescaling:minmax",
                     {
                      "args": {},
                      "clazz": "autosklearn.pipeline.components.data_preprocessing.rescaling.minmax.MinMaxScalerComponent"
                     }
                    ]
                   ]
                  },
                  "clazz": "dswizard.pipeline.pipeline.FlexiblePipeline"
                 },
                 [
                  "Age",
                  "RestingBP",
                  "Cholesterol",
                  "FastingBS",
                  "MaxHR",
                  "Oldpeak"
                 ]
                ]
               ]
              },
              "clazz": "dswizard.components.sklearn.ColumnTransformerComponent"
             }
            ],
            [
             "balancing",
             {
              "args": {},
              "clazz": "autosklearn.pipeline.components.data_preprocessing.balancing.balancing.Balancing"
             }
            ],
            [
             "feature_preprocessor:no_preprocessing",
             {
              "args": {},
              "clazz": "autosklearn.pipeline.components.feature_preprocessing.no_preprocessing.NoPreprocessing"
             }
            ],
            [
             "classifier:gradient_boosting",
             {
              "args": {},
              "clazz": "autosklearn.pipeline.components.classification.gradient_boosting.GradientBoostingClassifier"
             }
            ]
           ]
          },
          "clazz": "dswizard.pipeline.pipeline.FlexiblePipeline"
         }
        },
        {
         "cid": "00:07",
         "configs": [
          {
           "budget": 0,
           "config": {
            "balancing:strategy": "none",
            "classifier:__choice__": "mlp",
            "classifier:mlp:activation": "tanh",
            "classifier:mlp:alpha": 6.09606848267499e-06,
            "classifier:mlp:batch_size": "auto",
            "classifier:mlp:beta_1": 0.9,
            "classifier:mlp:beta_2": 0.999,
            "classifier:mlp:early_stopping": "valid",
            "classifier:mlp:epsilon": 1e-08,
            "classifier:mlp:hidden_layer_depth": 3,
            "classifier:mlp:learning_rate_init": 0.0014462866076782991,
            "classifier:mlp:n_iter_no_change": 32,
            "classifier:mlp:num_nodes_per_layer": 36,
            "classifier:mlp:shuffle": "True",
            "classifier:mlp:solver": "adam",
            "classifier:mlp:tol": 0.0001,
            "classifier:mlp:validation_fraction": 0.1,
            "data_preprocessor:__choice__": "feature_type",
            "data_preprocessor:feature_type:categorical_transformer:categorical_encoding:__choice__": "one_hot_encoding",
            "data_preprocessor:feature_type:categorical_transformer:category_coalescence:__choice__": "minority_coalescer",
            "data_preprocessor:feature_type:categorical_transformer:category_coalescence:minority_coalescer:minimum_fraction": 0.0001521254823188742,
            "data_preprocessor:feature_type:numerical_transformer:imputation:strategy": "mean",
            "data_preprocessor:feature_type:numerical_transformer:rescaling:__choice__": "standardize",
            "feature_preprocessor:__choice__": "random_trees_embedding",
            "feature_preprocessor:random_trees_embedding:bootstrap": "True",
            "feature_preprocessor:random_trees_embedding:max_depth": 3,
            "feature_preprocessor:random_trees_embedding:max_leaf_nodes": "None",
            "feature_preprocessor:random_trees_embedding:min_samples_leaf": 14,
            "feature_preprocessor:random_trees_embedding:min_samples_split": 3,
            "feature_preprocessor:random_trees_embedding:min_weight_fraction_leaf": 1,
            "feature_preprocessor:random_trees_embedding:n_estimators": 48
           },
           "id": "00:07:27",
           "loss": 0.8464912280701754,
           "origin": "Random Search (sorted)",
           "runtime": {
            "timestamp": 70.15874361991882,
            "training_time": 1.6198396682739258
           },
           "status": "SUCCESS"
          }
         ],
         "configspace": null,
         "pipeline": {
          "args": {
           "configuration": null,
           "steps": [
            [
             "data_preprocessor:feature_type",
             {
              "args": {
               "transformers": [
                [
                 "categorical_transformer",
                 {
                  "args": {
                   "configuration": null,
                   "steps": [
                    [
                     "imputation",
                     {
                      "args": {},
                      "clazz": "autosklearn.pipeline.components.data_preprocessing.imputation.categorical_imputation.CategoricalImputation"
                     }
                    ],
                    [
                     "encoding",
                     {
                      "args": {},
                      "clazz": "autosklearn.pipeline.components.data_preprocessing.categorical_encoding.encoding.OrdinalEncoding"
                     }
                    ],
                    [
                     "category_shift",
                     {
                      "args": {},
                      "clazz": "autosklearn.pipeline.components.data_preprocessing.category_shift.category_shift.CategoryShift"
                     }
                    ],
                    [
                     "category_coalescence:minority_coalescer",
                     {
                      "args": {},
                      "clazz": "autosklearn.pipeline.components.data_preprocessing.minority_coalescense.minority_coalescer.MinorityCoalescer"
                     }
                    ],
                    [
                     "categorical_encoding:one_hot_encoding",
                     {
                      "args": {},
                      "clazz": "autosklearn.pipeline.components.data_preprocessing.categorical_encoding.one_hot_encoding.OneHotEncoder"
                     }
                    ]
                   ]
                  },
                  "clazz": "dswizard.pipeline.pipeline.FlexiblePipeline"
                 },
                 [
                  "Sex",
                  "ChestPainType",
                  "RestingECG",
                  "ExerciseAngina",
                  "ST_Slope"
                 ]
                ],
                [
                 "numerical_transformer",
                 {
                  "args": {
                   "configuration": null,
                   "steps": [
                    [
                     "imputation",
                     {
                      "args": {},
                      "clazz": "autosklearn.pipeline.components.data_preprocessing.imputation.numerical_imputation.NumericalImputation"
                     }
                    ],
                    [
                     "variance_threshold",
                     {
                      "args": {},
                      "clazz": "autosklearn.pipeline.components.data_preprocessing.variance_threshold.variance_threshold.VarianceThreshold"
                     }
                    ],
                    [
                     "rescaling:standardize",
                     {
                      "args": {},
                      "clazz": "autosklearn.pipeline.components.data_preprocessing.rescaling.standardize.StandardScalerComponent"
                     }
                    ]
                   ]
                  },
                  "clazz": "dswizard.pipeline.pipeline.FlexiblePipeline"
                 },
                 [
                  "Age",
                  "RestingBP",
                  "Cholesterol",
                  "FastingBS",
                  "MaxHR",
                  "Oldpeak"
                 ]
                ]
               ]
              },
              "clazz": "dswizard.components.sklearn.ColumnTransformerComponent"
             }
            ],
            [
             "balancing",
             {
              "args": {},
              "clazz": "autosklearn.pipeline.components.data_preprocessing.balancing.balancing.Balancing"
             }
            ],
            [
             "feature_preprocessor:random_trees_embedding",
             {
              "args": {},
              "clazz": "autosklearn.pipeline.components.feature_preprocessing.random_trees_embedding.RandomTreesEmbedding"
             }
            ],
            [
             "classifier:mlp",
             {
              "args": {},
              "clazz": "autosklearn.pipeline.components.classification.mlp.MLPClassifier"
             }
            ]
           ]
          },
          "clazz": "dswizard.pipeline.pipeline.FlexiblePipeline"
         }
        },
        {
         "cid": "00:08",
         "configs": [
          {
           "budget": 0,
           "config": {
            "balancing:strategy": "none",
            "classifier:__choice__": "adaboost",
            "classifier:adaboost:algorithm": "SAMME",
            "classifier:adaboost:learning_rate": 1.0487023911564866,
            "classifier:adaboost:max_depth": 1,
            "classifier:adaboost:n_estimators": 129,
            "data_preprocessor:__choice__": "feature_type",
            "data_preprocessor:feature_type:categorical_transformer:categorical_encoding:__choice__": "one_hot_encoding",
            "data_preprocessor:feature_type:categorical_transformer:category_coalescence:__choice__": "minority_coalescer",
            "data_preprocessor:feature_type:categorical_transformer:category_coalescence:minority_coalescer:minimum_fraction": 0.14492898568977827,
            "data_preprocessor:feature_type:numerical_transformer:imputation:strategy": "mean",
            "data_preprocessor:feature_type:numerical_transformer:rescaling:__choice__": "minmax",
            "feature_preprocessor:__choice__": "select_percentile_classification",
            "feature_preprocessor:select_percentile_classification:percentile": 68.4542888137274,
            "feature_preprocessor:select_percentile_classification:score_func": "chi2"
           },
           "id": "00:08:35",
           "loss": 0.8245614035087719,
           "origin": "Random Search",
           "runtime": {
            "timestamp": 101.88192176818848,
            "training_time": 0.9033341407775879
           },
           "status": "SUCCESS"
          }
         ],
         "configspace": null,
         "pipeline": {
          "args": {
           "configuration": null,
           "steps": [
            [
             "data_preprocessor:feature_type",
             {
              "args": {
               "transformers": [
                [
                 "categorical_transformer",
                 {
                  "args": {
                   "configuration": null,
                   "steps": [
                    [
                     "imputation",
                     {
                      "args": {},
                      "clazz": "autosklearn.pipeline.components.data_preprocessing.imputation.categorical_imputation.CategoricalImputation"
                     }
                    ],
                    [
                     "encoding",
                     {
                      "args": {},
                      "clazz": "autosklearn.pipeline.components.data_preprocessing.categorical_encoding.encoding.OrdinalEncoding"
                     }
                    ],
                    [
                     "category_shift",
                     {
                      "args": {},
                      "clazz": "autosklearn.pipeline.components.data_preprocessing.category_shift.category_shift.CategoryShift"
                     }
                    ],
                    [
                     "category_coalescence:minority_coalescer",
                     {
                      "args": {},
                      "clazz": "autosklearn.pipeline.components.data_preprocessing.minority_coalescense.minority_coalescer.MinorityCoalescer"
                     }
                    ],
                    [
                     "categorical_encoding:one_hot_encoding",
                     {
                      "args": {},
                      "clazz": "autosklearn.pipeline.components.data_preprocessing.categorical_encoding.one_hot_encoding.OneHotEncoder"
                     }
                    ]
                   ]
                  },
                  "clazz": "dswizard.pipeline.pipeline.FlexiblePipeline"
                 },
                 [
                  "Sex",
                  "ChestPainType",
                  "RestingECG",
                  "ExerciseAngina",
                  "ST_Slope"
                 ]
                ],
                [
                 "numerical_transformer",
                 {
                  "args": {
                   "configuration": null,
                   "steps": [
                    [
                     "imputation",
                     {
                      "args": {},
                      "clazz": "autosklearn.pipeline.components.data_preprocessing.imputation.numerical_imputation.NumericalImputation"
                     }
                    ],
                    [
                     "variance_threshold",
                     {
                      "args": {},
                      "clazz": "autosklearn.pipeline.components.data_preprocessing.variance_threshold.variance_threshold.VarianceThreshold"
                     }
                    ],
                    [
                     "rescaling:minmax",
                     {
                      "args": {},
                      "clazz": "autosklearn.pipeline.components.data_preprocessing.rescaling.minmax.MinMaxScalerComponent"
                     }
                    ]
                   ]
                  },
                  "clazz": "dswizard.pipeline.pipeline.FlexiblePipeline"
                 },
                 [
                  "Age",
                  "RestingBP",
                  "Cholesterol",
                  "FastingBS",
                  "MaxHR",
                  "Oldpeak"
                 ]
                ]
               ]
              },
              "clazz": "dswizard.components.sklearn.ColumnTransformerComponent"
             }
            ],
            [
             "balancing",
             {
              "args": {},
              "clazz": "autosklearn.pipeline.components.data_preprocessing.balancing.balancing.Balancing"
             }
            ],
            [
             "feature_preprocessor:select_percentile_classification",
             {
              "args": {},
              "clazz": "autosklearn.pipeline.components.feature_preprocessing.select_percentile_classification.SelectPercentileClassification"
             }
            ],
            [
             "classifier:adaboost",
             {
              "args": {},
              "clazz": "autosklearn.pipeline.components.classification.adaboost.AdaboostClassifier"
             }
            ]
           ]
          },
          "clazz": "dswizard.pipeline.pipeline.FlexiblePipeline"
         }
        },
        {
         "cid": "00:09",
         "configs": [
          {
           "budget": 0,
           "config": {
            "balancing:strategy": "none",
            "classifier:__choice__": "qda",
            "classifier:qda:reg_param": 0.4669743539507877,
            "data_preprocessor:__choice__": "feature_type",
            "data_preprocessor:feature_type:categorical_transformer:categorical_encoding:__choice__": "no_encoding",
            "data_preprocessor:feature_type:categorical_transformer:category_coalescence:__choice__": "no_coalescense",
            "data_preprocessor:feature_type:numerical_transformer:imputation:strategy": "most_frequent",
            "data_preprocessor:feature_type:numerical_transformer:rescaling:__choice__": "standardize",
            "feature_preprocessor:__choice__": "liblinear_svc_preprocessor",
            "feature_preprocessor:liblinear_svc_preprocessor:C": 0.08354930805504707,
            "feature_preprocessor:liblinear_svc_preprocessor:dual": "False",
            "feature_preprocessor:liblinear_svc_preprocessor:fit_intercept": "True",
            "feature_preprocessor:liblinear_svc_preprocessor:intercept_scaling": 1,
            "feature_preprocessor:liblinear_svc_preprocessor:loss": "squared_hinge",
            "feature_preprocessor:liblinear_svc_preprocessor:multi_class": "ovr",
            "feature_preprocessor:liblinear_svc_preprocessor:penalty": "l1",
            "feature_preprocessor:liblinear_svc_preprocessor:tol": 0.00022521225720883984
           },
           "id": "00:09:50",
           "loss": 0.8640350877192983,
           "origin": "Random Search",
           "runtime": {
            "timestamp": 158.27226042747498,
            "training_time": 1.5329961776733398
           },
           "status": "SUCCESS"
          }
         ],
         "configspace": null,
         "pipeline": {
          "args": {
           "configuration": null,
           "steps": [
            [
             "data_preprocessor:feature_type",
             {
              "args": {
               "transformers": [
                [
                 "categorical_transformer",
                 {
                  "args": {
                   "configuration": null,
                   "steps": [
                    [
                     "imputation",
                     {
                      "args": {},
                      "clazz": "autosklearn.pipeline.components.data_preprocessing.imputation.categorical_imputation.CategoricalImputation"
                     }
                    ],
                    [
                     "encoding",
                     {
                      "args": {},
                      "clazz": "autosklearn.pipeline.components.data_preprocessing.categorical_encoding.encoding.OrdinalEncoding"
                     }
                    ],
                    [
                     "category_shift",
                     {
                      "args": {},
                      "clazz": "autosklearn.pipeline.components.data_preprocessing.category_shift.category_shift.CategoryShift"
                     }
                    ],
                    [
                     "category_coalescence:no_coalescense",
                     {
                      "args": {},
                      "clazz": "autosklearn.pipeline.components.data_preprocessing.minority_coalescense.no_coalescense.NoCoalescence"
                     }
                    ],
                    [
                     "categorical_encoding:no_encoding",
                     {
                      "args": {},
                      "clazz": "autosklearn.pipeline.components.data_preprocessing.categorical_encoding.no_encoding.NoEncoding"
                     }
                    ]
                   ]
                  },
                  "clazz": "dswizard.pipeline.pipeline.FlexiblePipeline"
                 },
                 [
                  "Sex",
                  "ChestPainType",
                  "RestingECG",
                  "ExerciseAngina",
                  "ST_Slope"
                 ]
                ],
                [
                 "numerical_transformer",
                 {
                  "args": {
                   "configuration": null,
                   "steps": [
                    [
                     "imputation",
                     {
                      "args": {},
                      "clazz": "autosklearn.pipeline.components.data_preprocessing.imputation.numerical_imputation.NumericalImputation"
                     }
                    ],
                    [
                     "variance_threshold",
                     {
                      "args": {},
                      "clazz": "autosklearn.pipeline.components.data_preprocessing.variance_threshold.variance_threshold.VarianceThreshold"
                     }
                    ],
                    [
                     "rescaling:standardize",
                     {
                      "args": {},
                      "clazz": "autosklearn.pipeline.components.data_preprocessing.rescaling.standardize.StandardScalerComponent"
                     }
                    ]
                   ]
                  },
                  "clazz": "dswizard.pipeline.pipeline.FlexiblePipeline"
                 },
                 [
                  "Age",
                  "RestingBP",
                  "Cholesterol",
                  "FastingBS",
                  "MaxHR",
                  "Oldpeak"
                 ]
                ]
               ]
              },
              "clazz": "dswizard.components.sklearn.ColumnTransformerComponent"
             }
            ],
            [
             "balancing",
             {
              "args": {},
              "clazz": "autosklearn.pipeline.components.data_preprocessing.balancing.balancing.Balancing"
             }
            ],
            [
             "feature_preprocessor:liblinear_svc_preprocessor",
             {
              "args": {},
              "clazz": "autosklearn.pipeline.components.feature_preprocessing.liblinear_svc_preprocessor.LibLinear_Preprocessor"
             }
            ],
            [
             "classifier:qda",
             {
              "args": {},
              "clazz": "autosklearn.pipeline.components.classification.qda.QDA"
             }
            ]
           ]
          },
          "clazz": "dswizard.pipeline.pipeline.FlexiblePipeline"
         }
        },
        {
         "cid": "00:10",
         "configs": [
          {
           "budget": 0,
           "config": {
            "balancing:strategy": "weighting",
            "classifier:__choice__": "passive_aggressive",
            "classifier:passive_aggressive:C": 1.0977319702382103e-05,
            "classifier:passive_aggressive:average": "True",
            "classifier:passive_aggressive:fit_intercept": "True",
            "classifier:passive_aggressive:loss": "squared_hinge",
            "classifier:passive_aggressive:tol": 0.017432002093228035,
            "data_preprocessor:__choice__": "feature_type",
            "data_preprocessor:feature_type:categorical_transformer:categorical_encoding:__choice__": "no_encoding",
            "data_preprocessor:feature_type:categorical_transformer:category_coalescence:__choice__": "minority_coalescer",
            "data_preprocessor:feature_type:categorical_transformer:category_coalescence:minority_coalescer:minimum_fraction": 0.014440460554753882,
            "data_preprocessor:feature_type:numerical_transformer:imputation:strategy": "median",
            "data_preprocessor:feature_type:numerical_transformer:rescaling:__choice__": "quantile_transformer",
            "data_preprocessor:feature_type:numerical_transformer:rescaling:quantile_transformer:n_quantiles": 512,
            "data_preprocessor:feature_type:numerical_transformer:rescaling:quantile_transformer:output_distribution": "uniform",
            "feature_preprocessor:__choice__": "no_preprocessing"
           },
           "id": "00:10:54",
           "loss": 0.8377192982456141,
           "origin": "Random Search",
           "runtime": {
            "timestamp": 172.21448588371277,
            "training_time": 0.9785029888153076
           },
           "status": "SUCCESS"
          }
         ],
         "configspace": null,
         "pipeline": {
          "args": {
           "configuration": null,
           "steps": [
            [
             "data_preprocessor:feature_type",
             {
              "args": {
               "transformers": [
                [
                 "categorical_transformer",
                 {
                  "args": {
                   "configuration": null,
                   "steps": [
                    [
                     "imputation",
                     {
                      "args": {},
                      "clazz": "autosklearn.pipeline.components.data_preprocessing.imputation.categorical_imputation.CategoricalImputation"
                     }
                    ],
                    [
                     "encoding",
                     {
                      "args": {},
                      "clazz": "autosklearn.pipeline.components.data_preprocessing.categorical_encoding.encoding.OrdinalEncoding"
                     }
                    ],
                    [
                     "category_shift",
                     {
                      "args": {},
                      "clazz": "autosklearn.pipeline.components.data_preprocessing.category_shift.category_shift.CategoryShift"
                     }
                    ],
                    [
                     "category_coalescence:minority_coalescer",
                     {
                      "args": {},
                      "clazz": "autosklearn.pipeline.components.data_preprocessing.minority_coalescense.minority_coalescer.MinorityCoalescer"
                     }
                    ],
                    [
                     "categorical_encoding:no_encoding",
                     {
                      "args": {},
                      "clazz": "autosklearn.pipeline.components.data_preprocessing.categorical_encoding.no_encoding.NoEncoding"
                     }
                    ]
                   ]
                  },
                  "clazz": "dswizard.pipeline.pipeline.FlexiblePipeline"
                 },
                 [
                  "Sex",
                  "ChestPainType",
                  "RestingECG",
                  "ExerciseAngina",
                  "ST_Slope"
                 ]
                ],
                [
                 "numerical_transformer",
                 {
                  "args": {
                   "configuration": null,
                   "steps": [
                    [
                     "imputation",
                     {
                      "args": {},
                      "clazz": "autosklearn.pipeline.components.data_preprocessing.imputation.numerical_imputation.NumericalImputation"
                     }
                    ],
                    [
                     "variance_threshold",
                     {
                      "args": {},
                      "clazz": "autosklearn.pipeline.components.data_preprocessing.variance_threshold.variance_threshold.VarianceThreshold"
                     }
                    ],
                    [
                     "rescaling:quantile_transformer",
                     {
                      "args": {},
                      "clazz": "autosklearn.pipeline.components.data_preprocessing.rescaling.quantile_transformer.QuantileTransformerComponent"
                     }
                    ]
                   ]
                  },
                  "clazz": "dswizard.pipeline.pipeline.FlexiblePipeline"
                 },
                 [
                  "Age",
                  "RestingBP",
                  "Cholesterol",
                  "FastingBS",
                  "MaxHR",
                  "Oldpeak"
                 ]
                ]
               ]
              },
              "clazz": "dswizard.components.sklearn.ColumnTransformerComponent"
             }
            ],
            [
             "balancing",
             {
              "args": {},
              "clazz": "autosklearn.pipeline.components.data_preprocessing.balancing.balancing.Balancing"
             }
            ],
            [
             "feature_preprocessor:no_preprocessing",
             {
              "args": {},
              "clazz": "autosklearn.pipeline.components.feature_preprocessing.no_preprocessing.NoPreprocessing"
             }
            ],
            [
             "classifier:passive_aggressive",
             {
              "args": {},
              "clazz": "autosklearn.pipeline.components.classification.passive_aggressive.PassiveAggressive"
             }
            ]
           ]
          },
          "clazz": "dswizard.pipeline.pipeline.FlexiblePipeline"
         }
        },
        {
         "cid": "00:11",
         "configs": [
          {
           "budget": 0,
           "config": {
            "balancing:strategy": "weighting",
            "classifier:__choice__": "mlp",
            "classifier:mlp:activation": "tanh",
            "classifier:mlp:alpha": 0.00015243352909281535,
            "classifier:mlp:batch_size": "auto",
            "classifier:mlp:beta_1": 0.9,
            "classifier:mlp:beta_2": 0.999,
            "classifier:mlp:early_stopping": "valid",
            "classifier:mlp:epsilon": 1e-08,
            "classifier:mlp:hidden_layer_depth": 1,
            "classifier:mlp:learning_rate_init": 0.0009189506128142606,
            "classifier:mlp:n_iter_no_change": 32,
            "classifier:mlp:num_nodes_per_layer": 34,
            "classifier:mlp:shuffle": "True",
            "classifier:mlp:solver": "adam",
            "classifier:mlp:tol": 0.0001,
            "classifier:mlp:validation_fraction": 0.1,
            "data_preprocessor:__choice__": "feature_type",
            "data_preprocessor:feature_type:categorical_transformer:categorical_encoding:__choice__": "no_encoding",
            "data_preprocessor:feature_type:categorical_transformer:category_coalescence:__choice__": "no_coalescense",
            "data_preprocessor:feature_type:numerical_transformer:imputation:strategy": "most_frequent",
            "data_preprocessor:feature_type:numerical_transformer:rescaling:__choice__": "standardize",
            "feature_preprocessor:__choice__": "pca",
            "feature_preprocessor:pca:keep_variance": 0.9978518743338858,
            "feature_preprocessor:pca:whiten": "True"
           },
           "id": "00:11:55",
           "loss": 0.8552631578947368,
           "origin": "Local Search",
           "runtime": {
            "timestamp": 178.87893724441528,
            "training_time": 1.0369775295257568
           },
           "status": "SUCCESS"
          }
         ],
         "configspace": null,
         "pipeline": {
          "args": {
           "configuration": null,
           "steps": [
            [
             "data_preprocessor:feature_type",
             {
              "args": {
               "transformers": [
                [
                 "categorical_transformer",
                 {
                  "args": {
                   "configuration": null,
                   "steps": [
                    [
                     "imputation",
                     {
                      "args": {},
                      "clazz": "autosklearn.pipeline.components.data_preprocessing.imputation.categorical_imputation.CategoricalImputation"
                     }
                    ],
                    [
                     "encoding",
                     {
                      "args": {},
                      "clazz": "autosklearn.pipeline.components.data_preprocessing.categorical_encoding.encoding.OrdinalEncoding"
                     }
                    ],
                    [
                     "category_shift",
                     {
                      "args": {},
                      "clazz": "autosklearn.pipeline.components.data_preprocessing.category_shift.category_shift.CategoryShift"
                     }
                    ],
                    [
                     "category_coalescence:no_coalescense",
                     {
                      "args": {},
                      "clazz": "autosklearn.pipeline.components.data_preprocessing.minority_coalescense.no_coalescense.NoCoalescence"
                     }
                    ],
                    [
                     "categorical_encoding:no_encoding",
                     {
                      "args": {},
                      "clazz": "autosklearn.pipeline.components.data_preprocessing.categorical_encoding.no_encoding.NoEncoding"
                     }
                    ]
                   ]
                  },
                  "clazz": "dswizard.pipeline.pipeline.FlexiblePipeline"
                 },
                 [
                  "Sex",
                  "ChestPainType",
                  "RestingECG",
                  "ExerciseAngina",
                  "ST_Slope"
                 ]
                ],
                [
                 "numerical_transformer",
                 {
                  "args": {
                   "configuration": null,
                   "steps": [
                    [
                     "imputation",
                     {
                      "args": {},
                      "clazz": "autosklearn.pipeline.components.data_preprocessing.imputation.numerical_imputation.NumericalImputation"
                     }
                    ],
                    [
                     "variance_threshold",
                     {
                      "args": {},
                      "clazz": "autosklearn.pipeline.components.data_preprocessing.variance_threshold.variance_threshold.VarianceThreshold"
                     }
                    ],
                    [
                     "rescaling:standardize",
                     {
                      "args": {},
                      "clazz": "autosklearn.pipeline.components.data_preprocessing.rescaling.standardize.StandardScalerComponent"
                     }
                    ]
                   ]
                  },
                  "clazz": "dswizard.pipeline.pipeline.FlexiblePipeline"
                 },
                 [
                  "Age",
                  "RestingBP",
                  "Cholesterol",
                  "FastingBS",
                  "MaxHR",
                  "Oldpeak"
                 ]
                ]
               ]
              },
              "clazz": "dswizard.components.sklearn.ColumnTransformerComponent"
             }
            ],
            [
             "balancing",
             {
              "args": {},
              "clazz": "autosklearn.pipeline.components.data_preprocessing.balancing.balancing.Balancing"
             }
            ],
            [
             "feature_preprocessor:pca",
             {
              "args": {},
              "clazz": "autosklearn.pipeline.components.feature_preprocessing.pca.PCA"
             }
            ],
            [
             "classifier:mlp",
             {
              "args": {},
              "clazz": "autosklearn.pipeline.components.classification.mlp.MLPClassifier"
             }
            ]
           ]
          },
          "clazz": "dswizard.pipeline.pipeline.FlexiblePipeline"
         }
        },
        {
         "cid": "00:12",
         "configs": [
          {
           "budget": 0,
           "config": {
            "balancing:strategy": "weighting",
            "classifier:__choice__": "mlp",
            "classifier:mlp:activation": "relu",
            "classifier:mlp:alpha": 0.00010000000000000026,
            "classifier:mlp:batch_size": "auto",
            "classifier:mlp:beta_1": 0.9,
            "classifier:mlp:beta_2": 0.999,
            "classifier:mlp:early_stopping": "valid",
            "classifier:mlp:epsilon": 1e-08,
            "classifier:mlp:hidden_layer_depth": 1,
            "classifier:mlp:learning_rate_init": 0.00047476936114979783,
            "classifier:mlp:n_iter_no_change": 32,
            "classifier:mlp:num_nodes_per_layer": 38,
            "classifier:mlp:shuffle": "True",
            "classifier:mlp:solver": "adam",
            "classifier:mlp:tol": 0.0001,
            "classifier:mlp:validation_fraction": 0.1,
            "data_preprocessor:__choice__": "feature_type",
            "data_preprocessor:feature_type:categorical_transformer:categorical_encoding:__choice__": "one_hot_encoding",
            "data_preprocessor:feature_type:categorical_transformer:category_coalescence:__choice__": "minority_coalescer",
            "data_preprocessor:feature_type:categorical_transformer:category_coalescence:minority_coalescer:minimum_fraction": 0.16265262021972576,
            "data_preprocessor:feature_type:numerical_transformer:imputation:strategy": "mean",
            "data_preprocessor:feature_type:numerical_transformer:rescaling:__choice__": "standardize",
            "feature_preprocessor:__choice__": "pca",
            "feature_preprocessor:pca:keep_variance": 0.9999,
            "feature_preprocessor:pca:whiten": "False"
           },
           "id": "00:12:56",
           "loss": 0.8464912280701754,
           "origin": "Local Search",
           "runtime": {
            "timestamp": 185.47843480110168,
            "training_time": 2.3191115856170654
           },
           "status": "SUCCESS"
          }
         ],
         "configspace": null,
         "pipeline": {
          "args": {
           "configuration": null,
           "steps": [
            [
             "data_preprocessor:feature_type",
             {
              "args": {
               "transformers": [
                [
                 "categorical_transformer",
                 {
                  "args": {
                   "configuration": null,
                   "steps": [
                    [
                     "imputation",
                     {
                      "args": {},
                      "clazz": "autosklearn.pipeline.components.data_preprocessing.imputation.categorical_imputation.CategoricalImputation"
                     }
                    ],
                    [
                     "encoding",
                     {
                      "args": {},
                      "clazz": "autosklearn.pipeline.components.data_preprocessing.categorical_encoding.encoding.OrdinalEncoding"
                     }
                    ],
                    [
                     "category_shift",
                     {
                      "args": {},
                      "clazz": "autosklearn.pipeline.components.data_preprocessing.category_shift.category_shift.CategoryShift"
                     }
                    ],
                    [
                     "category_coalescence:minority_coalescer",
                     {
                      "args": {},
                      "clazz": "autosklearn.pipeline.components.data_preprocessing.minority_coalescense.minority_coalescer.MinorityCoalescer"
                     }
                    ],
                    [
                     "categorical_encoding:one_hot_encoding",
                     {
                      "args": {},
                      "clazz": "autosklearn.pipeline.components.data_preprocessing.categorical_encoding.one_hot_encoding.OneHotEncoder"
                     }
                    ]
                   ]
                  },
                  "clazz": "dswizard.pipeline.pipeline.FlexiblePipeline"
                 },
                 [
                  "Sex",
                  "ChestPainType",
                  "RestingECG",
                  "ExerciseAngina",
                  "ST_Slope"
                 ]
                ],
                [
                 "numerical_transformer",
                 {
                  "args": {
                   "configuration": null,
                   "steps": [
                    [
                     "imputation",
                     {
                      "args": {},
                      "clazz": "autosklearn.pipeline.components.data_preprocessing.imputation.numerical_imputation.NumericalImputation"
                     }
                    ],
                    [
                     "variance_threshold",
                     {
                      "args": {},
                      "clazz": "autosklearn.pipeline.components.data_preprocessing.variance_threshold.variance_threshold.VarianceThreshold"
                     }
                    ],
                    [
                     "rescaling:standardize",
                     {
                      "args": {},
                      "clazz": "autosklearn.pipeline.components.data_preprocessing.rescaling.standardize.StandardScalerComponent"
                     }
                    ]
                   ]
                  },
                  "clazz": "dswizard.pipeline.pipeline.FlexiblePipeline"
                 },
                 [
                  "Age",
                  "RestingBP",
                  "Cholesterol",
                  "FastingBS",
                  "MaxHR",
                  "Oldpeak"
                 ]
                ]
               ]
              },
              "clazz": "dswizard.components.sklearn.ColumnTransformerComponent"
             }
            ],
            [
             "balancing",
             {
              "args": {},
              "clazz": "autosklearn.pipeline.components.data_preprocessing.balancing.balancing.Balancing"
             }
            ],
            [
             "feature_preprocessor:pca",
             {
              "args": {},
              "clazz": "autosklearn.pipeline.components.feature_preprocessing.pca.PCA"
             }
            ],
            [
             "classifier:mlp",
             {
              "args": {},
              "clazz": "autosklearn.pipeline.components.classification.mlp.MLPClassifier"
             }
            ]
           ]
          },
          "clazz": "dswizard.pipeline.pipeline.FlexiblePipeline"
         }
        },
        {
         "cid": "00:13",
         "configs": [
          {
           "budget": 0,
           "config": {
            "balancing:strategy": "weighting",
            "classifier:__choice__": "gaussian_nb",
            "data_preprocessor:__choice__": "feature_type",
            "data_preprocessor:feature_type:categorical_transformer:categorical_encoding:__choice__": "one_hot_encoding",
            "data_preprocessor:feature_type:categorical_transformer:category_coalescence:__choice__": "minority_coalescer",
            "data_preprocessor:feature_type:categorical_transformer:category_coalescence:minority_coalescer:minimum_fraction": 0.0002473974861101231,
            "data_preprocessor:feature_type:numerical_transformer:imputation:strategy": "mean",
            "data_preprocessor:feature_type:numerical_transformer:rescaling:__choice__": "none",
            "feature_preprocessor:__choice__": "select_rates_classification",
            "feature_preprocessor:select_rates_classification:alpha": 0.2262667563628132,
            "feature_preprocessor:select_rates_classification:mode": "fwe",
            "feature_preprocessor:select_rates_classification:score_func": "f_classif"
           },
           "id": "00:13:58",
           "loss": 0.868421052631579,
           "origin": "Random Search",
           "runtime": {
            "timestamp": 194.62837958335876,
            "training_time": 0.8479642868041992
           },
           "status": "SUCCESS"
          }
         ],
         "configspace": null,
         "pipeline": {
          "args": {
           "configuration": null,
           "steps": [
            [
             "data_preprocessor:feature_type",
             {
              "args": {
               "transformers": [
                [
                 "categorical_transformer",
                 {
                  "args": {
                   "configuration": null,
                   "steps": [
                    [
                     "imputation",
                     {
                      "args": {},
                      "clazz": "autosklearn.pipeline.components.data_preprocessing.imputation.categorical_imputation.CategoricalImputation"
                     }
                    ],
                    [
                     "encoding",
                     {
                      "args": {},
                      "clazz": "autosklearn.pipeline.components.data_preprocessing.categorical_encoding.encoding.OrdinalEncoding"
                     }
                    ],
                    [
                     "category_shift",
                     {
                      "args": {},
                      "clazz": "autosklearn.pipeline.components.data_preprocessing.category_shift.category_shift.CategoryShift"
                     }
                    ],
                    [
                     "category_coalescence:minority_coalescer",
                     {
                      "args": {},
                      "clazz": "autosklearn.pipeline.components.data_preprocessing.minority_coalescense.minority_coalescer.MinorityCoalescer"
                     }
                    ],
                    [
                     "categorical_encoding:one_hot_encoding",
                     {
                      "args": {},
                      "clazz": "autosklearn.pipeline.components.data_preprocessing.categorical_encoding.one_hot_encoding.OneHotEncoder"
                     }
                    ]
                   ]
                  },
                  "clazz": "dswizard.pipeline.pipeline.FlexiblePipeline"
                 },
                 [
                  "Sex",
                  "ChestPainType",
                  "RestingECG",
                  "ExerciseAngina",
                  "ST_Slope"
                 ]
                ],
                [
                 "numerical_transformer",
                 {
                  "args": {
                   "configuration": null,
                   "steps": [
                    [
                     "imputation",
                     {
                      "args": {},
                      "clazz": "autosklearn.pipeline.components.data_preprocessing.imputation.numerical_imputation.NumericalImputation"
                     }
                    ],
                    [
                     "variance_threshold",
                     {
                      "args": {},
                      "clazz": "autosklearn.pipeline.components.data_preprocessing.variance_threshold.variance_threshold.VarianceThreshold"
                     }
                    ],
                    [
                     "rescaling:none",
                     {
                      "args": {},
                      "clazz": "autosklearn.pipeline.components.data_preprocessing.rescaling.none.NoRescalingComponent"
                     }
                    ]
                   ]
                  },
                  "clazz": "dswizard.pipeline.pipeline.FlexiblePipeline"
                 },
                 [
                  "Age",
                  "RestingBP",
                  "Cholesterol",
                  "FastingBS",
                  "MaxHR",
                  "Oldpeak"
                 ]
                ]
               ]
              },
              "clazz": "dswizard.components.sklearn.ColumnTransformerComponent"
             }
            ],
            [
             "balancing",
             {
              "args": {},
              "clazz": "autosklearn.pipeline.components.data_preprocessing.balancing.balancing.Balancing"
             }
            ],
            [
             "feature_preprocessor:select_rates_classification",
             {
              "args": {},
              "clazz": "autosklearn.pipeline.components.feature_preprocessing.select_rates_classification.SelectClassificationRates"
             }
            ],
            [
             "classifier:gaussian_nb",
             {
              "args": {},
              "clazz": "autosklearn.pipeline.components.classification.gaussian_nb.GaussianNB"
             }
            ]
           ]
          },
          "clazz": "dswizard.pipeline.pipeline.FlexiblePipeline"
         }
        },
        {
         "cid": "00:14",
         "configs": [
          {
           "budget": 0,
           "config": {
            "balancing:strategy": "weighting",
            "classifier:__choice__": "liblinear_svc",
            "classifier:liblinear_svc:C": 3.5000382451972345,
            "classifier:liblinear_svc:dual": "False",
            "classifier:liblinear_svc:fit_intercept": "True",
            "classifier:liblinear_svc:intercept_scaling": 1,
            "classifier:liblinear_svc:loss": "squared_hinge",
            "classifier:liblinear_svc:multi_class": "ovr",
            "classifier:liblinear_svc:penalty": "l2",
            "classifier:liblinear_svc:tol": 0.006172882311399427,
            "data_preprocessor:__choice__": "feature_type",
            "data_preprocessor:feature_type:categorical_transformer:categorical_encoding:__choice__": "one_hot_encoding",
            "data_preprocessor:feature_type:categorical_transformer:category_coalescence:__choice__": "minority_coalescer",
            "data_preprocessor:feature_type:categorical_transformer:category_coalescence:minority_coalescer:minimum_fraction": 0.000429177306211843,
            "data_preprocessor:feature_type:numerical_transformer:imputation:strategy": "median",
            "data_preprocessor:feature_type:numerical_transformer:rescaling:__choice__": "standardize",
            "feature_preprocessor:__choice__": "select_rates_classification",
            "feature_preprocessor:select_rates_classification:alpha": 0.1,
            "feature_preprocessor:select_rates_classification:mode": "fpr",
            "feature_preprocessor:select_rates_classification:score_func": "chi2"
           },
           "id": "00:14:69",
           "loss": 0.8596491228070176,
           "origin": "Local Search",
           "runtime": {
            "timestamp": 232.00405192375183,
            "training_time": 0.9752843379974365
           },
           "status": "SUCCESS"
          }
         ],
         "configspace": null,
         "pipeline": {
          "args": {
           "configuration": null,
           "steps": [
            [
             "data_preprocessor:feature_type",
             {
              "args": {
               "transformers": [
                [
                 "categorical_transformer",
                 {
                  "args": {
                   "configuration": null,
                   "steps": [
                    [
                     "imputation",
                     {
                      "args": {},
                      "clazz": "autosklearn.pipeline.components.data_preprocessing.imputation.categorical_imputation.CategoricalImputation"
                     }
                    ],
                    [
                     "encoding",
                     {
                      "args": {},
                      "clazz": "autosklearn.pipeline.components.data_preprocessing.categorical_encoding.encoding.OrdinalEncoding"
                     }
                    ],
                    [
                     "category_shift",
                     {
                      "args": {},
                      "clazz": "autosklearn.pipeline.components.data_preprocessing.category_shift.category_shift.CategoryShift"
                     }
                    ],
                    [
                     "category_coalescence:minority_coalescer",
                     {
                      "args": {},
                      "clazz": "autosklearn.pipeline.components.data_preprocessing.minority_coalescense.minority_coalescer.MinorityCoalescer"
                     }
                    ],
                    [
                     "categorical_encoding:one_hot_encoding",
                     {
                      "args": {},
                      "clazz": "autosklearn.pipeline.components.data_preprocessing.categorical_encoding.one_hot_encoding.OneHotEncoder"
                     }
                    ]
                   ]
                  },
                  "clazz": "dswizard.pipeline.pipeline.FlexiblePipeline"
                 },
                 [
                  "Sex",
                  "ChestPainType",
                  "RestingECG",
                  "ExerciseAngina",
                  "ST_Slope"
                 ]
                ],
                [
                 "numerical_transformer",
                 {
                  "args": {
                   "configuration": null,
                   "steps": [
                    [
                     "imputation",
                     {
                      "args": {},
                      "clazz": "autosklearn.pipeline.components.data_preprocessing.imputation.numerical_imputation.NumericalImputation"
                     }
                    ],
                    [
                     "variance_threshold",
                     {
                      "args": {},
                      "clazz": "autosklearn.pipeline.components.data_preprocessing.variance_threshold.variance_threshold.VarianceThreshold"
                     }
                    ],
                    [
                     "rescaling:standardize",
                     {
                      "args": {},
                      "clazz": "autosklearn.pipeline.components.data_preprocessing.rescaling.standardize.StandardScalerComponent"
                     }
                    ]
                   ]
                  },
                  "clazz": "dswizard.pipeline.pipeline.FlexiblePipeline"
                 },
                 [
                  "Age",
                  "RestingBP",
                  "Cholesterol",
                  "FastingBS",
                  "MaxHR",
                  "Oldpeak"
                 ]
                ]
               ]
              },
              "clazz": "dswizard.components.sklearn.ColumnTransformerComponent"
             }
            ],
            [
             "balancing",
             {
              "args": {},
              "clazz": "autosklearn.pipeline.components.data_preprocessing.balancing.balancing.Balancing"
             }
            ],
            [
             "feature_preprocessor:select_rates_classification",
             {
              "args": {},
              "clazz": "autosklearn.pipeline.components.feature_preprocessing.select_rates_classification.SelectClassificationRates"
             }
            ],
            [
             "classifier:liblinear_svc",
             {
              "args": {},
              "clazz": "autosklearn.pipeline.components.classification.liblinear_svc.LibLinear_SVC"
             }
            ]
           ]
          },
          "clazz": "dswizard.pipeline.pipeline.FlexiblePipeline"
         }
        },
        {
         "cid": "00:15",
         "configs": [
          {
           "budget": 0,
           "config": {
            "balancing:strategy": "weighting",
            "classifier:__choice__": "mlp",
            "classifier:mlp:activation": "relu",
            "classifier:mlp:alpha": 0.00010000000000000026,
            "classifier:mlp:batch_size": "auto",
            "classifier:mlp:beta_1": 0.9,
            "classifier:mlp:beta_2": 0.999,
            "classifier:mlp:early_stopping": "valid",
            "classifier:mlp:epsilon": 1e-08,
            "classifier:mlp:hidden_layer_depth": 1,
            "classifier:mlp:learning_rate_init": 0.0006163377121467724,
            "classifier:mlp:n_iter_no_change": 32,
            "classifier:mlp:num_nodes_per_layer": 32,
            "classifier:mlp:shuffle": "True",
            "classifier:mlp:solver": "adam",
            "classifier:mlp:tol": 0.0001,
            "classifier:mlp:validation_fraction": 0.1,
            "data_preprocessor:__choice__": "feature_type",
            "data_preprocessor:feature_type:categorical_transformer:categorical_encoding:__choice__": "one_hot_encoding",
            "data_preprocessor:feature_type:categorical_transformer:category_coalescence:__choice__": "minority_coalescer",
            "data_preprocessor:feature_type:categorical_transformer:category_coalescence:minority_coalescer:minimum_fraction": 0.0005235098780662941,
            "data_preprocessor:feature_type:numerical_transformer:imputation:strategy": "median",
            "data_preprocessor:feature_type:numerical_transformer:rescaling:__choice__": "standardize",
            "feature_preprocessor:__choice__": "polynomial",
            "feature_preprocessor:polynomial:degree": 2,
            "feature_preprocessor:polynomial:include_bias": "True",
            "feature_preprocessor:polynomial:interaction_only": "True"
           },
           "id": "00:15:70",
           "loss": 0,
           "origin": "Local Search",
           "runtime": {
            "timestamp": 238.3565592765808,
            "training_time": 0.8123884201049805
           },
           "status": "CRASHED"
          }
         ],
         "configspace": null,
         "pipeline": {
          "args": {
           "configuration": null,
           "steps": [
            [
             "data_preprocessor:feature_type",
             {
              "args": {
               "transformers": [
                [
                 "categorical_transformer",
                 {
                  "args": {
                   "configuration": null,
                   "steps": [
                    [
                     "imputation",
                     {
                      "args": {},
                      "clazz": "autosklearn.pipeline.components.data_preprocessing.imputation.categorical_imputation.CategoricalImputation"
                     }
                    ],
                    [
                     "encoding",
                     {
                      "args": {},
                      "clazz": "autosklearn.pipeline.components.data_preprocessing.categorical_encoding.encoding.OrdinalEncoding"
                     }
                    ],
                    [
                     "category_shift",
                     {
                      "args": {},
                      "clazz": "autosklearn.pipeline.components.data_preprocessing.category_shift.category_shift.CategoryShift"
                     }
                    ],
                    [
                     "category_coalescence:minority_coalescer",
                     {
                      "args": {},
                      "clazz": "autosklearn.pipeline.components.data_preprocessing.minority_coalescense.minority_coalescer.MinorityCoalescer"
                     }
                    ],
                    [
                     "categorical_encoding:one_hot_encoding",
                     {
                      "args": {},
                      "clazz": "autosklearn.pipeline.components.data_preprocessing.categorical_encoding.one_hot_encoding.OneHotEncoder"
                     }
                    ]
                   ]
                  },
                  "clazz": "dswizard.pipeline.pipeline.FlexiblePipeline"
                 },
                 [
                  "Sex",
                  "ChestPainType",
                  "RestingECG",
                  "ExerciseAngina",
                  "ST_Slope"
                 ]
                ],
                [
                 "numerical_transformer",
                 {
                  "args": {
                   "configuration": null,
                   "steps": [
                    [
                     "imputation",
                     {
                      "args": {},
                      "clazz": "autosklearn.pipeline.components.data_preprocessing.imputation.numerical_imputation.NumericalImputation"
                     }
                    ],
                    [
                     "variance_threshold",
                     {
                      "args": {},
                      "clazz": "autosklearn.pipeline.components.data_preprocessing.variance_threshold.variance_threshold.VarianceThreshold"
                     }
                    ],
                    [
                     "rescaling:standardize",
                     {
                      "args": {},
                      "clazz": "autosklearn.pipeline.components.data_preprocessing.rescaling.standardize.StandardScalerComponent"
                     }
                    ]
                   ]
                  },
                  "clazz": "dswizard.pipeline.pipeline.FlexiblePipeline"
                 },
                 [
                  "Age",
                  "RestingBP",
                  "Cholesterol",
                  "FastingBS",
                  "MaxHR",
                  "Oldpeak"
                 ]
                ]
               ]
              },
              "clazz": "dswizard.components.sklearn.ColumnTransformerComponent"
             }
            ],
            [
             "balancing",
             {
              "args": {},
              "clazz": "autosklearn.pipeline.components.data_preprocessing.balancing.balancing.Balancing"
             }
            ],
            [
             "feature_preprocessor:polynomial",
             {
              "args": {},
              "clazz": "autosklearn.pipeline.components.feature_preprocessing.polynomial.PolynomialFeatures"
             }
            ],
            [
             "classifier:mlp",
             {
              "args": {},
              "clazz": "autosklearn.pipeline.components.classification.mlp.MLPClassifier"
             }
            ]
           ]
          },
          "clazz": "dswizard.pipeline.pipeline.FlexiblePipeline"
         }
        },
        {
         "cid": "00:16",
         "configs": [
          {
           "budget": 0,
           "config": {
            "balancing:strategy": "weighting",
            "classifier:__choice__": "qda",
            "classifier:qda:reg_param": 0.9155960113920636,
            "data_preprocessor:__choice__": "feature_type",
            "data_preprocessor:feature_type:categorical_transformer:categorical_encoding:__choice__": "one_hot_encoding",
            "data_preprocessor:feature_type:categorical_transformer:category_coalescence:__choice__": "minority_coalescer",
            "data_preprocessor:feature_type:categorical_transformer:category_coalescence:minority_coalescer:minimum_fraction": 0.00019017267558687437,
            "data_preprocessor:feature_type:numerical_transformer:imputation:strategy": "most_frequent",
            "data_preprocessor:feature_type:numerical_transformer:rescaling:__choice__": "normalize",
            "feature_preprocessor:__choice__": "select_percentile_classification",
            "feature_preprocessor:select_percentile_classification:percentile": 37.17238922635637,
            "feature_preprocessor:select_percentile_classification:score_func": "chi2"
           },
           "id": "00:16:75",
           "loss": 0.8508771929824561,
           "origin": "Random Search",
           "runtime": {
            "timestamp": 256.10256361961365,
            "training_time": 1.1970407962799072
           },
           "status": "SUCCESS"
          }
         ],
         "configspace": null,
         "pipeline": {
          "args": {
           "configuration": null,
           "steps": [
            [
             "data_preprocessor:feature_type",
             {
              "args": {
               "transformers": [
                [
                 "categorical_transformer",
                 {
                  "args": {
                   "configuration": null,
                   "steps": [
                    [
                     "imputation",
                     {
                      "args": {},
                      "clazz": "autosklearn.pipeline.components.data_preprocessing.imputation.categorical_imputation.CategoricalImputation"
                     }
                    ],
                    [
                     "encoding",
                     {
                      "args": {},
                      "clazz": "autosklearn.pipeline.components.data_preprocessing.categorical_encoding.encoding.OrdinalEncoding"
                     }
                    ],
                    [
                     "category_shift",
                     {
                      "args": {},
                      "clazz": "autosklearn.pipeline.components.data_preprocessing.category_shift.category_shift.CategoryShift"
                     }
                    ],
                    [
                     "category_coalescence:minority_coalescer",
                     {
                      "args": {},
                      "clazz": "autosklearn.pipeline.components.data_preprocessing.minority_coalescense.minority_coalescer.MinorityCoalescer"
                     }
                    ],
                    [
                     "categorical_encoding:one_hot_encoding",
                     {
                      "args": {},
                      "clazz": "autosklearn.pipeline.components.data_preprocessing.categorical_encoding.one_hot_encoding.OneHotEncoder"
                     }
                    ]
                   ]
                  },
                  "clazz": "dswizard.pipeline.pipeline.FlexiblePipeline"
                 },
                 [
                  "Sex",
                  "ChestPainType",
                  "RestingECG",
                  "ExerciseAngina",
                  "ST_Slope"
                 ]
                ],
                [
                 "numerical_transformer",
                 {
                  "args": {
                   "configuration": null,
                   "steps": [
                    [
                     "imputation",
                     {
                      "args": {},
                      "clazz": "autosklearn.pipeline.components.data_preprocessing.imputation.numerical_imputation.NumericalImputation"
                     }
                    ],
                    [
                     "variance_threshold",
                     {
                      "args": {},
                      "clazz": "autosklearn.pipeline.components.data_preprocessing.variance_threshold.variance_threshold.VarianceThreshold"
                     }
                    ],
                    [
                     "rescaling:normalize",
                     {
                      "args": {},
                      "clazz": "autosklearn.pipeline.components.data_preprocessing.rescaling.normalize.NormalizerComponent"
                     }
                    ]
                   ]
                  },
                  "clazz": "dswizard.pipeline.pipeline.FlexiblePipeline"
                 },
                 [
                  "Age",
                  "RestingBP",
                  "Cholesterol",
                  "FastingBS",
                  "MaxHR",
                  "Oldpeak"
                 ]
                ]
               ]
              },
              "clazz": "dswizard.components.sklearn.ColumnTransformerComponent"
             }
            ],
            [
             "balancing",
             {
              "args": {},
              "clazz": "autosklearn.pipeline.components.data_preprocessing.balancing.balancing.Balancing"
             }
            ],
            [
             "feature_preprocessor:select_percentile_classification",
             {
              "args": {},
              "clazz": "autosklearn.pipeline.components.feature_preprocessing.select_percentile_classification.SelectPercentileClassification"
             }
            ],
            [
             "classifier:qda",
             {
              "args": {},
              "clazz": "autosklearn.pipeline.components.classification.qda.QDA"
             }
            ]
           ]
          },
          "clazz": "dswizard.pipeline.pipeline.FlexiblePipeline"
         }
        },
        {
         "cid": "00:17",
         "configs": [
          {
           "budget": 0,
           "config": {
            "balancing:strategy": "weighting",
            "classifier:__choice__": "liblinear_svc",
            "classifier:liblinear_svc:C": 1,
            "classifier:liblinear_svc:dual": "False",
            "classifier:liblinear_svc:fit_intercept": "True",
            "classifier:liblinear_svc:intercept_scaling": 1,
            "classifier:liblinear_svc:loss": "squared_hinge",
            "classifier:liblinear_svc:multi_class": "ovr",
            "classifier:liblinear_svc:penalty": "l2",
            "classifier:liblinear_svc:tol": 6.0660180308745696e-05,
            "data_preprocessor:__choice__": "feature_type",
            "data_preprocessor:feature_type:categorical_transformer:categorical_encoding:__choice__": "one_hot_encoding",
            "data_preprocessor:feature_type:categorical_transformer:category_coalescence:__choice__": "minority_coalescer",
            "data_preprocessor:feature_type:categorical_transformer:category_coalescence:minority_coalescer:minimum_fraction": 0.010538009364041461,
            "data_preprocessor:feature_type:numerical_transformer:imputation:strategy": "median",
            "data_preprocessor:feature_type:numerical_transformer:rescaling:__choice__": "standardize",
            "feature_preprocessor:__choice__": "fast_ica",
            "feature_preprocessor:fast_ica:algorithm": "deflation",
            "feature_preprocessor:fast_ica:fun": "cube",
            "feature_preprocessor:fast_ica:whiten": "False"
           },
           "id": "00:17:76",
           "loss": 0.8377192982456141,
           "origin": "Local Search",
           "runtime": {
            "timestamp": 258.31759667396545,
            "training_time": 0.9302351474761963
           },
           "status": "SUCCESS"
          },
          {
           "budget": 0,
           "config": {
            "balancing:strategy": "weighting",
            "classifier:__choice__": "liblinear_svc",
            "classifier:liblinear_svc:C": 0.5251326240525259,
            "classifier:liblinear_svc:dual": "False",
            "classifier:liblinear_svc:fit_intercept": "True",
            "classifier:liblinear_svc:intercept_scaling": 1,
            "classifier:liblinear_svc:loss": "squared_hinge",
            "classifier:liblinear_svc:multi_class": "ovr",
            "classifier:liblinear_svc:penalty": "l2",
            "classifier:liblinear_svc:tol": 9.684341817367412e-05,
            "data_preprocessor:__choice__": "feature_type",
            "data_preprocessor:feature_type:categorical_transformer:categorical_encoding:__choice__": "one_hot_encoding",
            "data_preprocessor:feature_type:categorical_transformer:category_coalescence:__choice__": "minority_coalescer",
            "data_preprocessor:feature_type:categorical_transformer:category_coalescence:minority_coalescer:minimum_fraction": 0.010710078660630966,
            "data_preprocessor:feature_type:numerical_transformer:imputation:strategy": "median",
            "data_preprocessor:feature_type:numerical_transformer:rescaling:__choice__": "power_transformer",
            "feature_preprocessor:__choice__": "fast_ica",
            "feature_preprocessor:fast_ica:algorithm": "deflation",
            "feature_preprocessor:fast_ica:fun": "exp",
            "feature_preprocessor:fast_ica:whiten": "False"
           },
           "id": "00:17:78",
           "loss": 0.5307017543859649,
           "origin": "Local Search",
           "runtime": {
            "timestamp": 266.2131335735321,
            "training_time": 0.8271517753601074
           },
           "status": "SUCCESS"
          }
         ],
         "configspace": null,
         "pipeline": {
          "args": {
           "configuration": null,
           "steps": [
            [
             "data_preprocessor:feature_type",
             {
              "args": {
               "transformers": [
                [
                 "categorical_transformer",
                 {
                  "args": {
                   "configuration": null,
                   "steps": [
                    [
                     "imputation",
                     {
                      "args": {},
                      "clazz": "autosklearn.pipeline.components.data_preprocessing.imputation.categorical_imputation.CategoricalImputation"
                     }
                    ],
                    [
                     "encoding",
                     {
                      "args": {},
                      "clazz": "autosklearn.pipeline.components.data_preprocessing.categorical_encoding.encoding.OrdinalEncoding"
                     }
                    ],
                    [
                     "category_shift",
                     {
                      "args": {},
                      "clazz": "autosklearn.pipeline.components.data_preprocessing.category_shift.category_shift.CategoryShift"
                     }
                    ],
                    [
                     "category_coalescence:minority_coalescer",
                     {
                      "args": {},
                      "clazz": "autosklearn.pipeline.components.data_preprocessing.minority_coalescense.minority_coalescer.MinorityCoalescer"
                     }
                    ],
                    [
                     "categorical_encoding:one_hot_encoding",
                     {
                      "args": {},
                      "clazz": "autosklearn.pipeline.components.data_preprocessing.categorical_encoding.one_hot_encoding.OneHotEncoder"
                     }
                    ]
                   ]
                  },
                  "clazz": "dswizard.pipeline.pipeline.FlexiblePipeline"
                 },
                 [
                  "Sex",
                  "ChestPainType",
                  "RestingECG",
                  "ExerciseAngina",
                  "ST_Slope"
                 ]
                ],
                [
                 "numerical_transformer",
                 {
                  "args": {
                   "configuration": null,
                   "steps": [
                    [
                     "imputation",
                     {
                      "args": {},
                      "clazz": "autosklearn.pipeline.components.data_preprocessing.imputation.numerical_imputation.NumericalImputation"
                     }
                    ],
                    [
                     "variance_threshold",
                     {
                      "args": {},
                      "clazz": "autosklearn.pipeline.components.data_preprocessing.variance_threshold.variance_threshold.VarianceThreshold"
                     }
                    ],
                    [
                     "rescaling:standardize",
                     {
                      "args": {},
                      "clazz": "autosklearn.pipeline.components.data_preprocessing.rescaling.standardize.StandardScalerComponent"
                     }
                    ]
                   ]
                  },
                  "clazz": "dswizard.pipeline.pipeline.FlexiblePipeline"
                 },
                 [
                  "Age",
                  "RestingBP",
                  "Cholesterol",
                  "FastingBS",
                  "MaxHR",
                  "Oldpeak"
                 ]
                ]
               ]
              },
              "clazz": "dswizard.components.sklearn.ColumnTransformerComponent"
             }
            ],
            [
             "balancing",
             {
              "args": {},
              "clazz": "autosklearn.pipeline.components.data_preprocessing.balancing.balancing.Balancing"
             }
            ],
            [
             "feature_preprocessor:fast_ica",
             {
              "args": {},
              "clazz": "autosklearn.pipeline.components.feature_preprocessing.fast_ica.FastICA"
             }
            ],
            [
             "classifier:liblinear_svc",
             {
              "args": {},
              "clazz": "autosklearn.pipeline.components.classification.liblinear_svc.LibLinear_SVC"
             }
            ]
           ]
          },
          "clazz": "dswizard.pipeline.pipeline.FlexiblePipeline"
         }
        },
        {
         "cid": "00:18",
         "configs": [
          {
           "budget": 0,
           "config": {
            "balancing:strategy": "weighting",
            "classifier:__choice__": "random_forest",
            "classifier:random_forest:bootstrap": "True",
            "classifier:random_forest:criterion": "entropy",
            "classifier:random_forest:max_depth": "None",
            "classifier:random_forest:max_features": 0.3057528452855992,
            "classifier:random_forest:max_leaf_nodes": "None",
            "classifier:random_forest:min_impurity_decrease": 0,
            "classifier:random_forest:min_samples_leaf": 9,
            "classifier:random_forest:min_samples_split": 16,
            "classifier:random_forest:min_weight_fraction_leaf": 0,
            "data_preprocessor:__choice__": "feature_type",
            "data_preprocessor:feature_type:categorical_transformer:categorical_encoding:__choice__": "one_hot_encoding",
            "data_preprocessor:feature_type:categorical_transformer:category_coalescence:__choice__": "minority_coalescer",
            "data_preprocessor:feature_type:categorical_transformer:category_coalescence:minority_coalescer:minimum_fraction": 0.010000000000000004,
            "data_preprocessor:feature_type:numerical_transformer:imputation:strategy": "mean",
            "data_preprocessor:feature_type:numerical_transformer:rescaling:__choice__": "power_transformer",
            "feature_preprocessor:__choice__": "fast_ica",
            "feature_preprocessor:fast_ica:algorithm": "deflation",
            "feature_preprocessor:fast_ica:fun": "cube",
            "feature_preprocessor:fast_ica:n_components": 72,
            "feature_preprocessor:fast_ica:whiten": "True"
           },
           "id": "00:18:83",
           "loss": 0,
           "origin": "Local Search",
           "runtime": {
            "timestamp": 292.28842973709106,
            "training_time": 0
           },
           "status": "CRASHED"
          }
         ],
         "configspace": null,
         "pipeline": {
          "args": {
           "configuration": null,
           "steps": [
            [
             "data_preprocessor:feature_type",
             {
              "args": {
               "transformers": [
                [
                 "categorical_transformer",
                 {
                  "args": {
                   "configuration": null,
                   "steps": [
                    [
                     "imputation",
                     {
                      "args": {},
                      "clazz": "autosklearn.pipeline.components.data_preprocessing.imputation.categorical_imputation.CategoricalImputation"
                     }
                    ],
                    [
                     "encoding",
                     {
                      "args": {},
                      "clazz": "autosklearn.pipeline.components.data_preprocessing.categorical_encoding.encoding.OrdinalEncoding"
                     }
                    ],
                    [
                     "category_shift",
                     {
                      "args": {},
                      "clazz": "autosklearn.pipeline.components.data_preprocessing.category_shift.category_shift.CategoryShift"
                     }
                    ],
                    [
                     "category_coalescence:minority_coalescer",
                     {
                      "args": {},
                      "clazz": "autosklearn.pipeline.components.data_preprocessing.minority_coalescense.minority_coalescer.MinorityCoalescer"
                     }
                    ],
                    [
                     "categorical_encoding:one_hot_encoding",
                     {
                      "args": {},
                      "clazz": "autosklearn.pipeline.components.data_preprocessing.categorical_encoding.one_hot_encoding.OneHotEncoder"
                     }
                    ]
                   ]
                  },
                  "clazz": "dswizard.pipeline.pipeline.FlexiblePipeline"
                 },
                 [
                  "Sex",
                  "ChestPainType",
                  "RestingECG",
                  "ExerciseAngina",
                  "ST_Slope"
                 ]
                ],
                [
                 "numerical_transformer",
                 {
                  "args": {
                   "configuration": null,
                   "steps": [
                    [
                     "imputation",
                     {
                      "args": {},
                      "clazz": "autosklearn.pipeline.components.data_preprocessing.imputation.numerical_imputation.NumericalImputation"
                     }
                    ],
                    [
                     "variance_threshold",
                     {
                      "args": {},
                      "clazz": "autosklearn.pipeline.components.data_preprocessing.variance_threshold.variance_threshold.VarianceThreshold"
                     }
                    ],
                    [
                     "rescaling:power_transformer",
                     {
                      "args": {},
                      "clazz": "autosklearn.pipeline.components.data_preprocessing.rescaling.power_transformer.PowerTransformerComponent"
                     }
                    ]
                   ]
                  },
                  "clazz": "dswizard.pipeline.pipeline.FlexiblePipeline"
                 },
                 [
                  "Age",
                  "RestingBP",
                  "Cholesterol",
                  "FastingBS",
                  "MaxHR",
                  "Oldpeak"
                 ]
                ]
               ]
              },
              "clazz": "dswizard.components.sklearn.ColumnTransformerComponent"
             }
            ],
            [
             "balancing",
             {
              "args": {},
              "clazz": "autosklearn.pipeline.components.data_preprocessing.balancing.balancing.Balancing"
             }
            ],
            [
             "feature_preprocessor:fast_ica",
             {
              "args": {},
              "clazz": "autosklearn.pipeline.components.feature_preprocessing.fast_ica.FastICA"
             }
            ],
            [
             "classifier:random_forest",
             {
              "args": {},
              "clazz": "autosklearn.pipeline.components.classification.random_forest.RandomForest"
             }
            ]
           ]
          },
          "clazz": "dswizard.pipeline.pipeline.FlexiblePipeline"
         }
        }
       ]
      },
      "text/plain": [
       "<xautoml.main.XAutoML at 0x7f13afc7ce80>"
      ]
     },
     "execution_count": 38,
     "metadata": {},
     "output_type": "execute_result"
    }
   ],
   "source": [
    "with open('auto-sklearn.pkl', 'rb') as fh:\n",
    "    raw = joblib.load(fh)\n",
    "    \n",
    "rh = import_auto_sklearn(raw)\n",
    "main = XAutoML(rh, X, y)\n",
    "main"
   ]
  },
  {
   "cell_type": "code",
   "execution_count": null,
   "id": "70ded32d-7638-4c9d-b11c-7f7652876755",
   "metadata": {},
   "outputs": [],
   "source": []
  }
 ],
 "metadata": {
  "kernelspec": {
   "display_name": "Python 3 (ipykernel)",
   "language": "python",
   "name": "python3"
  },
  "language_info": {
   "codemirror_mode": {
    "name": "ipython",
    "version": 3
   },
   "file_extension": ".py",
   "mimetype": "text/x-python",
   "name": "python",
   "nbconvert_exporter": "python",
   "pygments_lexer": "ipython3",
   "version": "3.9.7"
  }
 },
 "nbformat": 4,
 "nbformat_minor": 5
}
