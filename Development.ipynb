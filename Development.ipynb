{
 "cells": [
  {
   "cell_type": "code",
   "execution_count": 4,
   "id": "bdad551f-8d18-442b-9688-a7c4450b1764",
   "metadata": {
    "tags": []
   },
   "outputs": [
    {
     "data": {
      "application/xautoml+json": {
       "default_configspace": null,
       "explanations": {
        "structures": {}
       },
       "meta": {
        "config": {
         "cutoff": -1,
         "wallclock_limit": 30
        },
        "data_file": "/home/marc/phd/code/dswizard/scripts/run/168746/dataset.pkl",
        "end_time": 1640013897.5474498,
        "incumbent": -0.9977431105479886,
        "is_minimization": false,
        "iterations": {},
        "metric": "rocauc",
        "n_configs": 76,
        "n_structures": 1,
        "openml_fold": 0,
        "openml_task": 168746,
        "start_time": 1640013865.9448903
       },
       "structures": [
        {
         "cid": "00:00",
         "configs": [
          {
           "budget": 2,
           "config": {
            "classifier:criterion": "gini",
            "classifier:max_depth_factor": 1,
            "classifier:min_samples_leaf_factor": 0.0001,
            "classifier:min_samples_split_factor": 0.0001,
            "data_preprocessing:categorical:imputation:add_indicator": false,
            "data_preprocessing:categorical:imputation:strategy": "mean",
            "data_preprocessing:imputation:add_indicator": false,
            "data_preprocessing:imputation:strategy": "mean",
            "parallel:pca:keep_variance": 0.9999,
            "parallel:pca:whiten": false
           },
           "id": "00:00:00",
           "loss": 0.962622743110548,
           "model_file": "/home/marc/phd/code/dswizard/scripts/run/168746/models/models_0-0-0.pkl",
           "origin": "Default",
           "runtime": {
            "timestamp": 0.3843296229999851,
            "training_time": 0.22059106826782227
           },
           "status": "SUCCESS",
           "structure_loss": -0.9661016949152542
          },
          {
           "budget": 2,
           "config": {
            "classifier:criterion": "gini",
            "classifier:max_depth_factor": 0.9255425129282129,
            "classifier:min_samples_leaf_factor": 0.029643856111985285,
            "classifier:min_samples_split_factor": 0.16515961252862296,
            "data_preprocessing:categorical:imputation:add_indicator": false,
            "data_preprocessing:categorical:imputation:strategy": "median",
            "data_preprocessing:imputation:add_indicator": false,
            "data_preprocessing:imputation:strategy": "mean",
            "parallel:pca:keep_variance": 0.6549483371228271,
            "parallel:pca:whiten": true
           },
           "id": "00:00:01",
           "loss": 0.9975055432372506,
           "model_file": "/home/marc/phd/code/dswizard/scripts/run/168746/models/models_0-0-1.pkl",
           "origin": "Random Search",
           "runtime": {
            "timestamp": 0.6539042219999374,
            "training_time": 0.24971365928649902
           },
           "status": "SUCCESS",
           "structure_loss": -0.987231013317022
          },
          {
           "budget": 2,
           "config": {
            "classifier:criterion": "entropy",
            "classifier:max_depth_factor": 1.0763330748949427,
            "classifier:min_samples_leaf_factor": 0.13833208226370394,
            "classifier:min_samples_split_factor": 0.06985280290663169,
            "data_preprocessing:categorical:imputation:add_indicator": true,
            "data_preprocessing:categorical:imputation:strategy": "mean",
            "data_preprocessing:imputation:add_indicator": false,
            "data_preprocessing:imputation:strategy": "most_frequent",
            "parallel:pca:keep_variance": 0.8978981131972945,
            "parallel:pca:whiten": false
           },
           "id": "00:00:02",
           "loss": 0.9969116249604054,
           "model_file": "/home/marc/phd/code/dswizard/scripts/run/168746/models/models_0-0-2.pkl",
           "origin": "Random Search",
           "runtime": {
            "timestamp": 0.8872249959999863,
            "training_time": 0.1761324405670166
           },
           "status": "SUCCESS",
           "structure_loss": -0.987231013317022
          },
          {
           "budget": 2,
           "config": {
            "classifier:criterion": "gini",
            "classifier:max_depth_factor": 0.24167179686653584,
            "classifier:min_samples_leaf_factor": 0.017700104177364055,
            "classifier:min_samples_split_factor": 0.08289175098501453,
            "data_preprocessing:categorical:imputation:add_indicator": true,
            "data_preprocessing:categorical:imputation:strategy": "mean",
            "data_preprocessing:imputation:add_indicator": true,
            "data_preprocessing:imputation:strategy": "mean",
            "parallel:pca:keep_variance": 0.7055075915644244,
            "parallel:pca:whiten": false
           },
           "id": "00:00:03",
           "loss": 0.994535951853025,
           "model_file": "/home/marc/phd/code/dswizard/scripts/run/168746/models/models_0-0-3.pkl",
           "origin": "Random Search",
           "runtime": {
            "timestamp": 1.3576516949999586,
            "training_time": 0.3886842727661133
           },
           "status": "SUCCESS",
           "structure_loss": -0.987231013317022
          },
          {
           "budget": 2,
           "config": {
            "classifier:criterion": "gini",
            "classifier:max_depth_factor": 0.755278118194967,
            "classifier:min_samples_leaf_factor": 0.14349298326945836,
            "classifier:min_samples_split_factor": 0.16299597270163868,
            "data_preprocessing:categorical:imputation:add_indicator": false,
            "data_preprocessing:categorical:imputation:strategy": "mean",
            "data_preprocessing:imputation:add_indicator": true,
            "data_preprocessing:imputation:strategy": "median",
            "parallel:pca:keep_variance": 0.7712623778910698,
            "parallel:pca:whiten": true
           },
           "id": "00:00:04",
           "loss": 0.9866170414950903,
           "model_file": "/home/marc/phd/code/dswizard/scripts/run/168746/models/models_0-0-4.pkl",
           "origin": "Random Search",
           "runtime": {
            "timestamp": 1.7643241299999772,
            "training_time": 0.35796570777893066
           },
           "status": "SUCCESS",
           "structure_loss": -0.987231013317022
          },
          {
           "budget": 2,
           "config": {
            "classifier:criterion": "entropy",
            "classifier:max_depth_factor": 1.7248736717364817,
            "classifier:min_samples_leaf_factor": 0.07654821344373391,
            "classifier:min_samples_split_factor": 0.0287384320295172,
            "data_preprocessing:categorical:imputation:add_indicator": true,
            "data_preprocessing:categorical:imputation:strategy": "mean",
            "data_preprocessing:imputation:add_indicator": true,
            "data_preprocessing:imputation:strategy": "most_frequent",
            "parallel:pca:keep_variance": 0.5108273102425553,
            "parallel:pca:whiten": true
           },
           "id": "00:00:05",
           "loss": 0.9975055432372506,
           "model_file": "/home/marc/phd/code/dswizard/scripts/run/168746/models/models_0-0-5.pkl",
           "origin": "Hyperopt",
           "runtime": {
            "timestamp": 2.141823307999857,
            "training_time": 0.3571970462799072
           },
           "status": "SUCCESS",
           "structure_loss": -0.987231013317022
          },
          {
           "budget": 2,
           "config": {
            "classifier:criterion": "gini",
            "classifier:max_depth_factor": 1.2916679994736882,
            "classifier:min_samples_leaf_factor": 0.021064661248183705,
            "classifier:min_samples_split_factor": 0.18052512206258092,
            "data_preprocessing:categorical:imputation:add_indicator": false,
            "data_preprocessing:categorical:imputation:strategy": "median",
            "data_preprocessing:imputation:add_indicator": true,
            "data_preprocessing:imputation:strategy": "most_frequent",
            "parallel:pca:keep_variance": 0.5141452028131328,
            "parallel:pca:whiten": true
           },
           "id": "00:00:06",
           "loss": 0.9975055432372506,
           "model_file": "/home/marc/phd/code/dswizard/scripts/run/168746/models/models_0-0-6.pkl",
           "origin": "Hyperopt",
           "runtime": {
            "timestamp": 2.523558456999808,
            "training_time": 0.3255958557128906
           },
           "status": "SUCCESS",
           "structure_loss": -0.987231013317022
          },
          {
           "budget": 2,
           "config": {
            "classifier:criterion": "entropy",
            "classifier:max_depth_factor": 1.8349139419871447,
            "classifier:min_samples_leaf_factor": 0.13459848087433499,
            "classifier:min_samples_split_factor": 0.02562012989564498,
            "data_preprocessing:categorical:imputation:add_indicator": true,
            "data_preprocessing:categorical:imputation:strategy": "median",
            "data_preprocessing:imputation:add_indicator": true,
            "data_preprocessing:imputation:strategy": "median",
            "parallel:pca:keep_variance": 0.5035757394056313,
            "parallel:pca:whiten": true
           },
           "id": "00:00:07",
           "loss": 0.9865378523915109,
           "model_file": "/home/marc/phd/code/dswizard/scripts/run/168746/models/models_0-0-7.pkl",
           "origin": "Hyperopt",
           "runtime": {
            "timestamp": 2.928339674999961,
            "training_time": 0.36446332931518555
           },
           "status": "SUCCESS",
           "structure_loss": -0.987231013317022
          },
          {
           "budget": 2,
           "config": {
            "classifier:criterion": "gini",
            "classifier:max_depth_factor": 0.9097778038292111,
            "classifier:min_samples_leaf_factor": 0.01073411209151148,
            "classifier:min_samples_split_factor": 0.16617478933008786,
            "data_preprocessing:categorical:imputation:add_indicator": true,
            "data_preprocessing:categorical:imputation:strategy": "most_frequent",
            "data_preprocessing:imputation:add_indicator": false,
            "data_preprocessing:imputation:strategy": "median",
            "parallel:pca:keep_variance": 0.50907751806139,
            "parallel:pca:whiten": true
           },
           "id": "00:00:08",
           "loss": 0.9975055432372506,
           "model_file": "/home/marc/phd/code/dswizard/scripts/run/168746/models/models_0-0-8.pkl",
           "origin": "Hyperopt",
           "runtime": {
            "timestamp": 3.3105099929998687,
            "training_time": 0.3287692070007324
           },
           "status": "SUCCESS",
           "structure_loss": -0.987231013317022
          },
          {
           "budget": 2,
           "config": {
            "classifier:criterion": "gini",
            "classifier:max_depth_factor": 1.7608691562733751,
            "classifier:min_samples_leaf_factor": 0.06450623782851882,
            "classifier:min_samples_split_factor": 0.06849540235470514,
            "data_preprocessing:categorical:imputation:add_indicator": true,
            "data_preprocessing:categorical:imputation:strategy": "most_frequent",
            "data_preprocessing:imputation:add_indicator": false,
            "data_preprocessing:imputation:strategy": "mean",
            "parallel:pca:keep_variance": 0.5107327680277028,
            "parallel:pca:whiten": true
           },
           "id": "00:00:09",
           "loss": 0.9975055432372506,
           "model_file": "/home/marc/phd/code/dswizard/scripts/run/168746/models/models_0-0-9.pkl",
           "origin": "Hyperopt",
           "runtime": {
            "timestamp": 3.689139813999873,
            "training_time": 0.34082674980163574
           },
           "status": "SUCCESS",
           "structure_loss": -0.987231013317022
          },
          {
           "budget": 2,
           "config": {
            "classifier:criterion": "entropy",
            "classifier:max_depth_factor": 1.6703117892984023,
            "classifier:min_samples_leaf_factor": 0.07727085697472155,
            "classifier:min_samples_split_factor": 0.025703970100096323,
            "data_preprocessing:categorical:imputation:add_indicator": false,
            "data_preprocessing:categorical:imputation:strategy": "median",
            "data_preprocessing:imputation:add_indicator": true,
            "data_preprocessing:imputation:strategy": "median",
            "parallel:pca:keep_variance": 0.5104289902756931,
            "parallel:pca:whiten": true
           },
           "id": "00:00:10",
           "loss": 0.9975055432372506,
           "model_file": "/home/marc/phd/code/dswizard/scripts/run/168746/models/models_0-0-10.pkl",
           "origin": "Hyperopt",
           "runtime": {
            "timestamp": 4.103501882999808,
            "training_time": 0.34454774856567383
           },
           "status": "SUCCESS",
           "structure_loss": -0.987231013317022
          },
          {
           "budget": 2,
           "config": {
            "classifier:criterion": "gini",
            "classifier:max_depth_factor": 1.1832966160245826,
            "classifier:min_samples_leaf_factor": 0.014501707545379706,
            "classifier:min_samples_split_factor": 0.23755494592817525,
            "data_preprocessing:categorical:imputation:add_indicator": true,
            "data_preprocessing:categorical:imputation:strategy": "most_frequent",
            "data_preprocessing:imputation:add_indicator": false,
            "data_preprocessing:imputation:strategy": "most_frequent",
            "parallel:pca:keep_variance": 0.5160706659060984,
            "parallel:pca:whiten": true
           },
           "id": "00:00:11",
           "loss": 0.9975055432372506,
           "model_file": "/home/marc/phd/code/dswizard/scripts/run/168746/models/models_0-0-11.pkl",
           "origin": "Hyperopt",
           "runtime": {
            "timestamp": 4.559933140999874,
            "training_time": 0.4191162586212158
           },
           "status": "SUCCESS",
           "structure_loss": -0.987231013317022
          },
          {
           "budget": 2,
           "config": {
            "classifier:criterion": "gini",
            "classifier:max_depth_factor": 1.0507796044572395,
            "classifier:min_samples_leaf_factor": 0.022619479024647254,
            "classifier:min_samples_split_factor": 0.1516320140080261,
            "data_preprocessing:categorical:imputation:add_indicator": false,
            "data_preprocessing:categorical:imputation:strategy": "median",
            "data_preprocessing:imputation:add_indicator": false,
            "data_preprocessing:imputation:strategy": "median",
            "parallel:pca:keep_variance": 0.5142590564537949,
            "parallel:pca:whiten": true
           },
           "id": "00:00:12",
           "loss": 0.9975055432372506,
           "model_file": "/home/marc/phd/code/dswizard/scripts/run/168746/models/models_0-0-12.pkl",
           "origin": "Hyperopt",
           "runtime": {
            "timestamp": 4.9524141469998995,
            "training_time": 0.3364138603210449
           },
           "status": "SUCCESS",
           "structure_loss": -0.987231013317022
          },
          {
           "budget": 2,
           "config": {
            "classifier:criterion": "gini",
            "classifier:max_depth_factor": 0.8328391289614403,
            "classifier:min_samples_leaf_factor": 0.02899254423392857,
            "classifier:min_samples_split_factor": 0.1712757918200741,
            "data_preprocessing:categorical:imputation:add_indicator": false,
            "data_preprocessing:categorical:imputation:strategy": "most_frequent",
            "data_preprocessing:imputation:add_indicator": false,
            "data_preprocessing:imputation:strategy": "most_frequent",
            "parallel:pca:keep_variance": 0.517202659863212,
            "parallel:pca:whiten": true
           },
           "id": "00:00:13",
           "loss": 0.9975055432372506,
           "model_file": "/home/marc/phd/code/dswizard/scripts/run/168746/models/models_0-0-13.pkl",
           "origin": "Hyperopt",
           "runtime": {
            "timestamp": 5.3293674189999365,
            "training_time": 0.33549070358276367
           },
           "status": "SUCCESS",
           "structure_loss": -0.987231013317022
          },
          {
           "budget": 2,
           "config": {
            "classifier:criterion": "entropy",
            "classifier:max_depth_factor": 1.821405504369128,
            "classifier:min_samples_leaf_factor": 0.06860642690876374,
            "classifier:min_samples_split_factor": 0.06211191033288428,
            "data_preprocessing:categorical:imputation:add_indicator": true,
            "data_preprocessing:categorical:imputation:strategy": "most_frequent",
            "data_preprocessing:imputation:add_indicator": true,
            "data_preprocessing:imputation:strategy": "mean",
            "parallel:pca:keep_variance": 0.5145267927952127,
            "parallel:pca:whiten": true
           },
           "id": "00:00:14",
           "loss": 0.9975055432372506,
           "model_file": "/home/marc/phd/code/dswizard/scripts/run/168746/models/models_0-0-14.pkl",
           "origin": "Hyperopt",
           "runtime": {
            "timestamp": 5.780098330999863,
            "training_time": 0.39153456687927246
           },
           "status": "SUCCESS",
           "structure_loss": -0.987231013317022
          },
          {
           "budget": 2,
           "config": {
            "classifier:criterion": "gini",
            "classifier:max_depth_factor": 1.3973735755346015,
            "classifier:min_samples_leaf_factor": 0.020174966011571576,
            "classifier:min_samples_split_factor": 0.17176237884016557,
            "data_preprocessing:categorical:imputation:add_indicator": false,
            "data_preprocessing:categorical:imputation:strategy": "median",
            "data_preprocessing:imputation:add_indicator": true,
            "data_preprocessing:imputation:strategy": "median",
            "parallel:pca:keep_variance": 0.5177185280105507,
            "parallel:pca:whiten": true
           },
           "id": "00:00:15",
           "loss": 0.9975055432372506,
           "model_file": "/home/marc/phd/code/dswizard/scripts/run/168746/models/models_0-0-15.pkl",
           "origin": "Hyperopt",
           "runtime": {
            "timestamp": 6.216013483999859,
            "training_time": 0.3998556137084961
           },
           "status": "SUCCESS",
           "structure_loss": -0.987231013317022
          },
          {
           "budget": 2,
           "config": {
            "classifier:criterion": "gini",
            "classifier:max_depth_factor": 0.7849097923122237,
            "classifier:min_samples_leaf_factor": 0.020298589377073135,
            "classifier:min_samples_split_factor": 0.17579151061136528,
            "data_preprocessing:categorical:imputation:add_indicator": true,
            "data_preprocessing:categorical:imputation:strategy": "median",
            "data_preprocessing:imputation:add_indicator": false,
            "data_preprocessing:imputation:strategy": "most_frequent",
            "parallel:pca:keep_variance": 0.5135415059262359,
            "parallel:pca:whiten": true
           },
           "id": "00:00:16",
           "loss": 0.9975055432372506,
           "model_file": "/home/marc/phd/code/dswizard/scripts/run/168746/models/models_0-0-16.pkl",
           "origin": "Hyperopt",
           "runtime": {
            "timestamp": 6.631122188999825,
            "training_time": 0.35985350608825684
           },
           "status": "SUCCESS",
           "structure_loss": -0.987231013317022
          },
          {
           "budget": 2,
           "config": {
            "classifier:criterion": "entropy",
            "classifier:max_depth_factor": 1.989670472671329,
            "classifier:min_samples_leaf_factor": 0.06473689151544755,
            "classifier:min_samples_split_factor": 0.11086466891826957,
            "data_preprocessing:categorical:imputation:add_indicator": true,
            "data_preprocessing:categorical:imputation:strategy": "most_frequent",
            "data_preprocessing:imputation:add_indicator": false,
            "data_preprocessing:imputation:strategy": "median",
            "parallel:pca:keep_variance": 0.5152521125018567,
            "parallel:pca:whiten": true
           },
           "id": "00:00:17",
           "loss": 0.9975055432372506,
           "model_file": "/home/marc/phd/code/dswizard/scripts/run/168746/models/models_0-0-17.pkl",
           "origin": "Hyperopt",
           "runtime": {
            "timestamp": 7.077759224999909,
            "training_time": 0.40844225883483887
           },
           "status": "SUCCESS",
           "structure_loss": -0.987231013317022
          },
          {
           "budget": 2,
           "config": {
            "classifier:criterion": "gini",
            "classifier:max_depth_factor": 0.8667687948555363,
            "classifier:min_samples_leaf_factor": 0.018273075867903256,
            "classifier:min_samples_split_factor": 0.15870845942427278,
            "data_preprocessing:categorical:imputation:add_indicator": false,
            "data_preprocessing:categorical:imputation:strategy": "most_frequent",
            "data_preprocessing:imputation:add_indicator": true,
            "data_preprocessing:imputation:strategy": "median",
            "parallel:pca:keep_variance": 0.5151487478135299,
            "parallel:pca:whiten": true
           },
           "id": "00:00:18",
           "loss": 0.9975055432372506,
           "model_file": "/home/marc/phd/code/dswizard/scripts/run/168746/models/models_0-0-18.pkl",
           "origin": "Hyperopt",
           "runtime": {
            "timestamp": 7.478560394999931,
            "training_time": 0.34453415870666504
           },
           "status": "SUCCESS",
           "structure_loss": -0.987231013317022
          },
          {
           "budget": 2,
           "config": {
            "classifier:criterion": "gini",
            "classifier:max_depth_factor": 0.0494398422366602,
            "classifier:min_samples_leaf_factor": 0.01763327685695086,
            "classifier:min_samples_split_factor": 0.21667970901759226,
            "data_preprocessing:categorical:imputation:add_indicator": true,
            "data_preprocessing:categorical:imputation:strategy": "most_frequent",
            "data_preprocessing:imputation:add_indicator": false,
            "data_preprocessing:imputation:strategy": "median",
            "parallel:pca:keep_variance": 0.5124055198865707,
            "parallel:pca:whiten": true
           },
           "id": "00:00:19",
           "loss": 0.9975055432372506,
           "model_file": "/home/marc/phd/code/dswizard/scripts/run/168746/models/models_0-0-19.pkl",
           "origin": "Hyperopt",
           "runtime": {
            "timestamp": 7.847887293999975,
            "training_time": 0.32768893241882324
           },
           "status": "SUCCESS",
           "structure_loss": -0.987231013317022
          },
          {
           "budget": 2,
           "config": {
            "classifier:criterion": "gini",
            "classifier:max_depth_factor": 1.8491971545566162,
            "classifier:min_samples_leaf_factor": 0.06070418415680504,
            "classifier:min_samples_split_factor": 0.15527208602449932,
            "data_preprocessing:categorical:imputation:add_indicator": true,
            "data_preprocessing:categorical:imputation:strategy": "most_frequent",
            "data_preprocessing:imputation:add_indicator": false,
            "data_preprocessing:imputation:strategy": "mean",
            "parallel:pca:keep_variance": 0.5140416745971176,
            "parallel:pca:whiten": true
           },
           "id": "00:00:20",
           "loss": 0.9975055432372506,
           "model_file": "/home/marc/phd/code/dswizard/scripts/run/168746/models/models_0-0-20.pkl",
           "origin": "Hyperopt",
           "runtime": {
            "timestamp": 8.268680574999962,
            "training_time": 0.3564791679382324
           },
           "status": "SUCCESS",
           "structure_loss": -0.987231013317022
          },
          {
           "budget": 2,
           "config": {
            "classifier:criterion": "entropy",
            "classifier:max_depth_factor": 0.7130572145315929,
            "classifier:min_samples_leaf_factor": 0.02040593486892945,
            "classifier:min_samples_split_factor": 0.22120265170444775,
            "data_preprocessing:categorical:imputation:add_indicator": false,
            "data_preprocessing:categorical:imputation:strategy": "median",
            "data_preprocessing:imputation:add_indicator": true,
            "data_preprocessing:imputation:strategy": "median",
            "parallel:pca:keep_variance": 0.5149148725994913,
            "parallel:pca:whiten": true
           },
           "id": "00:00:21",
           "loss": 0.9975055432372506,
           "model_file": "/home/marc/phd/code/dswizard/scripts/run/168746/models/models_0-0-21.pkl",
           "origin": "Hyperopt",
           "runtime": {
            "timestamp": 8.639074001999916,
            "training_time": 0.33019185066223145
           },
           "status": "SUCCESS",
           "structure_loss": -0.987231013317022
          },
          {
           "budget": 2,
           "config": {
            "classifier:criterion": "entropy",
            "classifier:max_depth_factor": 0.19679048611193872,
            "classifier:min_samples_leaf_factor": 0.012086493172333247,
            "classifier:min_samples_split_factor": 0.21503442018477817,
            "data_preprocessing:categorical:imputation:add_indicator": false,
            "data_preprocessing:categorical:imputation:strategy": "most_frequent",
            "data_preprocessing:imputation:add_indicator": true,
            "data_preprocessing:imputation:strategy": "median",
            "parallel:pca:keep_variance": 0.5116804953238745,
            "parallel:pca:whiten": true
           },
           "id": "00:00:22",
           "loss": 0.9975055432372506,
           "model_file": "/home/marc/phd/code/dswizard/scripts/run/168746/models/models_0-0-22.pkl",
           "origin": "Hyperopt",
           "runtime": {
            "timestamp": 9.032533352999963,
            "training_time": 0.3407402038574219
           },
           "status": "SUCCESS",
           "structure_loss": -0.987231013317022
          },
          {
           "budget": 2,
           "config": {
            "classifier:criterion": "gini",
            "classifier:max_depth_factor": 0.022000723539753242,
            "classifier:min_samples_leaf_factor": 0.013924656304603752,
            "classifier:min_samples_split_factor": 0.2134060528055926,
            "data_preprocessing:categorical:imputation:add_indicator": true,
            "data_preprocessing:categorical:imputation:strategy": "most_frequent",
            "data_preprocessing:imputation:add_indicator": false,
            "data_preprocessing:imputation:strategy": "median",
            "parallel:pca:keep_variance": 0.5136634217404312,
            "parallel:pca:whiten": true
           },
           "id": "00:00:23",
           "loss": 0.9975055432372506,
           "model_file": "/home/marc/phd/code/dswizard/scripts/run/168746/models/models_0-0-23.pkl",
           "origin": "Hyperopt",
           "runtime": {
            "timestamp": 9.390802945999894,
            "training_time": 0.31910252571105957
           },
           "status": "SUCCESS",
           "structure_loss": -0.987231013317022
          },
          {
           "budget": 2,
           "config": {
            "classifier:criterion": "entropy",
            "classifier:max_depth_factor": 1.7079465462605246,
            "classifier:min_samples_leaf_factor": 0.017661864168344334,
            "classifier:min_samples_split_factor": 0.24600483942398113,
            "data_preprocessing:categorical:imputation:add_indicator": true,
            "data_preprocessing:categorical:imputation:strategy": "most_frequent",
            "data_preprocessing:imputation:add_indicator": false,
            "data_preprocessing:imputation:strategy": "most_frequent",
            "parallel:pca:keep_variance": 0.5148220200626907,
            "parallel:pca:whiten": true
           },
           "id": "00:00:24",
           "loss": 0.9975055432372506,
           "model_file": "/home/marc/phd/code/dswizard/scripts/run/168746/models/models_0-0-24.pkl",
           "origin": "Hyperopt",
           "runtime": {
            "timestamp": 9.793559536999965,
            "training_time": 0.3376321792602539
           },
           "status": "SUCCESS",
           "structure_loss": -0.987231013317022
          },
          {
           "budget": 2,
           "config": {
            "classifier:criterion": "gini",
            "classifier:max_depth_factor": 1.9792460089611656,
            "classifier:min_samples_leaf_factor": 0.07075282448374713,
            "classifier:min_samples_split_factor": 0.15244957493653655,
            "data_preprocessing:categorical:imputation:add_indicator": false,
            "data_preprocessing:categorical:imputation:strategy": "median",
            "data_preprocessing:imputation:add_indicator": false,
            "data_preprocessing:imputation:strategy": "median",
            "parallel:pca:keep_variance": 0.5144948285834712,
            "parallel:pca:whiten": true
           },
           "id": "00:00:25",
           "loss": 0.9975055432372506,
           "model_file": "/home/marc/phd/code/dswizard/scripts/run/168746/models/models_0-0-25.pkl",
           "origin": "Hyperopt",
           "runtime": {
            "timestamp": 10.159330431999933,
            "training_time": 0.32698678970336914
           },
           "status": "SUCCESS",
           "structure_loss": -0.987231013317022
          },
          {
           "budget": 2,
           "config": {
            "classifier:criterion": "entropy",
            "classifier:max_depth_factor": 0.2340986226229963,
            "classifier:min_samples_leaf_factor": 0.005052152682667454,
            "classifier:min_samples_split_factor": 0.1916165805429349,
            "data_preprocessing:categorical:imputation:add_indicator": false,
            "data_preprocessing:categorical:imputation:strategy": "most_frequent",
            "data_preprocessing:imputation:add_indicator": true,
            "data_preprocessing:imputation:strategy": "median",
            "parallel:pca:keep_variance": 0.5138261632528489,
            "parallel:pca:whiten": true
           },
           "id": "00:00:26",
           "loss": 0.9975055432372506,
           "model_file": "/home/marc/phd/code/dswizard/scripts/run/168746/models/models_0-0-26.pkl",
           "origin": "Hyperopt",
           "runtime": {
            "timestamp": 10.545818847999954,
            "training_time": 0.3287065029144287
           },
           "status": "SUCCESS",
           "structure_loss": -0.987231013317022
          },
          {
           "budget": 2,
           "config": {
            "classifier:criterion": "entropy",
            "classifier:max_depth_factor": 1.7499998316357974,
            "classifier:min_samples_leaf_factor": 0.018339103376255356,
            "classifier:min_samples_split_factor": 0.23248283546848558,
            "data_preprocessing:categorical:imputation:add_indicator": false,
            "data_preprocessing:categorical:imputation:strategy": "most_frequent",
            "data_preprocessing:imputation:add_indicator": false,
            "data_preprocessing:imputation:strategy": "most_frequent",
            "parallel:pca:keep_variance": 0.5140769422565681,
            "parallel:pca:whiten": true
           },
           "id": "00:00:27",
           "loss": 0.9975055432372506,
           "model_file": "/home/marc/phd/code/dswizard/scripts/run/168746/models/models_0-0-27.pkl",
           "origin": "Hyperopt",
           "runtime": {
            "timestamp": 10.908271627999966,
            "training_time": 0.3247373104095459
           },
           "status": "SUCCESS",
           "structure_loss": -0.987231013317022
          },
          {
           "budget": 2,
           "config": {
            "classifier:criterion": "entropy",
            "classifier:max_depth_factor": 0.2743885461427351,
            "classifier:min_samples_leaf_factor": 0.014120311285946908,
            "classifier:min_samples_split_factor": 0.22297767266436805,
            "data_preprocessing:categorical:imputation:add_indicator": false,
            "data_preprocessing:categorical:imputation:strategy": "most_frequent",
            "data_preprocessing:imputation:add_indicator": false,
            "data_preprocessing:imputation:strategy": "most_frequent",
            "parallel:pca:keep_variance": 0.5144527760303704,
            "parallel:pca:whiten": true
           },
           "id": "00:00:28",
           "loss": 0.9975055432372506,
           "model_file": "/home/marc/phd/code/dswizard/scripts/run/168746/models/models_0-0-28.pkl",
           "origin": "Hyperopt",
           "runtime": {
            "timestamp": 11.275482655999895,
            "training_time": 0.31737494468688965
           },
           "status": "SUCCESS",
           "structure_loss": -0.987231013317022
          },
          {
           "budget": 2,
           "config": {
            "classifier:criterion": "entropy",
            "classifier:max_depth_factor": 1.0265705489368262,
            "classifier:min_samples_leaf_factor": 0.08314100358213901,
            "classifier:min_samples_split_factor": 0.11323707819298254,
            "data_preprocessing:categorical:imputation:add_indicator": true,
            "data_preprocessing:categorical:imputation:strategy": "most_frequent",
            "data_preprocessing:imputation:add_indicator": true,
            "data_preprocessing:imputation:strategy": "mean",
            "parallel:pca:keep_variance": 0.5145487243411746,
            "parallel:pca:whiten": true
           },
           "id": "00:00:29",
           "loss": 0.9975055432372506,
           "model_file": "/home/marc/phd/code/dswizard/scripts/run/168746/models/models_0-0-29.pkl",
           "origin": "Hyperopt",
           "runtime": {
            "timestamp": 11.687446659999978,
            "training_time": 0.37244200706481934
           },
           "status": "SUCCESS",
           "structure_loss": -0.987231013317022
          },
          {
           "budget": 2,
           "config": {
            "classifier:criterion": "entropy",
            "classifier:max_depth_factor": 1.7163741862717614,
            "classifier:min_samples_leaf_factor": 0.012231907041083245,
            "classifier:min_samples_split_factor": 0.23209399183605062,
            "data_preprocessing:categorical:imputation:add_indicator": false,
            "data_preprocessing:categorical:imputation:strategy": "most_frequent",
            "data_preprocessing:imputation:add_indicator": true,
            "data_preprocessing:imputation:strategy": "mean",
            "parallel:pca:keep_variance": 0.5142562998600253,
            "parallel:pca:whiten": true
           },
           "id": "00:00:30",
           "loss": 0.9975055432372506,
           "model_file": "/home/marc/phd/code/dswizard/scripts/run/168746/models/models_0-0-30.pkl",
           "origin": "Hyperopt",
           "runtime": {
            "timestamp": 12.081337024999812,
            "training_time": 0.34665656089782715
           },
           "status": "SUCCESS",
           "structure_loss": -0.987231013317022
          },
          {
           "budget": 2,
           "config": {
            "classifier:criterion": "entropy",
            "classifier:max_depth_factor": 0.12620531135217145,
            "classifier:min_samples_leaf_factor": 0.014038858798715304,
            "classifier:min_samples_split_factor": 0.19997485221703165,
            "data_preprocessing:categorical:imputation:add_indicator": true,
            "data_preprocessing:categorical:imputation:strategy": "most_frequent",
            "data_preprocessing:imputation:add_indicator": true,
            "data_preprocessing:imputation:strategy": "most_frequent",
            "parallel:pca:keep_variance": 0.5145015747946903,
            "parallel:pca:whiten": true
           },
           "id": "00:00:31",
           "loss": 0.9975055432372506,
           "model_file": "/home/marc/phd/code/dswizard/scripts/run/168746/models/models_0-0-31.pkl",
           "origin": "Hyperopt",
           "runtime": {
            "timestamp": 12.499035082999853,
            "training_time": 0.37677597999572754
           },
           "status": "SUCCESS",
           "structure_loss": -0.987231013317022
          },
          {
           "budget": 2,
           "config": {
            "classifier:criterion": "entropy",
            "classifier:max_depth_factor": 0.22120805804741617,
            "classifier:min_samples_leaf_factor": 0.07148797333148516,
            "classifier:min_samples_split_factor": 0.09677825528026687,
            "data_preprocessing:categorical:imputation:add_indicator": false,
            "data_preprocessing:categorical:imputation:strategy": "most_frequent",
            "data_preprocessing:imputation:add_indicator": true,
            "data_preprocessing:imputation:strategy": "most_frequent",
            "parallel:pca:keep_variance": 0.5143975168732489,
            "parallel:pca:whiten": true
           },
           "id": "00:00:32",
           "loss": 0.9975055432372506,
           "model_file": "/home/marc/phd/code/dswizard/scripts/run/168746/models/models_0-0-32.pkl",
           "origin": "Hyperopt",
           "runtime": {
            "timestamp": 12.899430779999875,
            "training_time": 0.347553014755249
           },
           "status": "SUCCESS",
           "structure_loss": -0.987231013317022
          },
          {
           "budget": 2,
           "config": {
            "classifier:criterion": "entropy",
            "classifier:max_depth_factor": 1.9151767913367237,
            "classifier:min_samples_leaf_factor": 0.020665105306533798,
            "classifier:min_samples_split_factor": 0.21993225599187735,
            "data_preprocessing:categorical:imputation:add_indicator": false,
            "data_preprocessing:categorical:imputation:strategy": "most_frequent",
            "data_preprocessing:imputation:add_indicator": false,
            "data_preprocessing:imputation:strategy": "median",
            "parallel:pca:keep_variance": 0.5142771064819346,
            "parallel:pca:whiten": true
           },
           "id": "00:00:33",
           "loss": 0.9975055432372506,
           "model_file": "/home/marc/phd/code/dswizard/scripts/run/168746/models/models_0-0-33.pkl",
           "origin": "Hyperopt",
           "runtime": {
            "timestamp": 13.256946015999802,
            "training_time": 0.3179507255554199
           },
           "status": "SUCCESS",
           "structure_loss": -0.987231013317022
          },
          {
           "budget": 2,
           "config": {
            "classifier:criterion": "entropy",
            "classifier:max_depth_factor": 1.1303300756863228,
            "classifier:min_samples_leaf_factor": 0.10771387795293724,
            "classifier:min_samples_split_factor": 0.11743448333728922,
            "data_preprocessing:categorical:imputation:add_indicator": true,
            "data_preprocessing:categorical:imputation:strategy": "most_frequent",
            "data_preprocessing:imputation:add_indicator": true,
            "data_preprocessing:imputation:strategy": "median",
            "parallel:pca:keep_variance": 0.514457967300136,
            "parallel:pca:whiten": true
           },
           "id": "00:00:34",
           "loss": 0.9975055432372506,
           "model_file": "/home/marc/phd/code/dswizard/scripts/run/168746/models/models_0-0-34.pkl",
           "origin": "Hyperopt",
           "runtime": {
            "timestamp": 13.679964948999896,
            "training_time": 0.3656280040740967
           },
           "status": "SUCCESS",
           "structure_loss": -0.987231013317022
          },
          {
           "budget": 2,
           "config": {
            "classifier:criterion": "gini",
            "classifier:max_depth_factor": 0.0681094033853332,
            "classifier:min_samples_leaf_factor": 0.03722634478379794,
            "classifier:min_samples_split_factor": 0.20963414643911904,
            "data_preprocessing:categorical:imputation:add_indicator": true,
            "data_preprocessing:categorical:imputation:strategy": "most_frequent",
            "data_preprocessing:imputation:add_indicator": false,
            "data_preprocessing:imputation:strategy": "median",
            "parallel:pca:keep_variance": 0.5145091284807594,
            "parallel:pca:whiten": true
           },
           "id": "00:00:35",
           "loss": 0.9975055432372506,
           "model_file": "/home/marc/phd/code/dswizard/scripts/run/168746/models/models_0-0-35.pkl",
           "origin": "Hyperopt",
           "runtime": {
            "timestamp": 14.04045899699986,
            "training_time": 0.32169032096862793
           },
           "status": "SUCCESS",
           "structure_loss": -0.987231013317022
          },
          {
           "budget": 2,
           "config": {
            "classifier:criterion": "gini",
            "classifier:max_depth_factor": 1.612047714288634,
            "classifier:min_samples_leaf_factor": 0.06566976400981343,
            "classifier:min_samples_split_factor": 0.12642540661245041,
            "data_preprocessing:categorical:imputation:add_indicator": true,
            "data_preprocessing:categorical:imputation:strategy": "most_frequent",
            "data_preprocessing:imputation:add_indicator": false,
            "data_preprocessing:imputation:strategy": "median",
            "parallel:pca:keep_variance": 0.5144288104669762,
            "parallel:pca:whiten": true
           },
           "id": "00:00:36",
           "loss": 0.9975055432372506,
           "model_file": "/home/marc/phd/code/dswizard/scripts/run/168746/models/models_0-0-36.pkl",
           "origin": "Hyperopt",
           "runtime": {
            "timestamp": 14.446108445999926,
            "training_time": 0.3470723628997803
           },
           "status": "SUCCESS",
           "structure_loss": -0.987231013317022
          },
          {
           "budget": 2,
           "config": {
            "classifier:criterion": "entropy",
            "classifier:max_depth_factor": 0.7873074462867228,
            "classifier:min_samples_leaf_factor": 0.02083534955389902,
            "classifier:min_samples_split_factor": 0.20668762796829246,
            "data_preprocessing:categorical:imputation:add_indicator": false,
            "data_preprocessing:categorical:imputation:strategy": "most_frequent",
            "data_preprocessing:imputation:add_indicator": true,
            "data_preprocessing:imputation:strategy": "median",
            "parallel:pca:keep_variance": 0.5144183334085173,
            "parallel:pca:whiten": true
           },
           "id": "00:00:37",
           "loss": 0.9975055432372506,
           "model_file": "/home/marc/phd/code/dswizard/scripts/run/168746/models/models_0-0-37.pkl",
           "origin": "Hyperopt",
           "runtime": {
            "timestamp": 14.839674113000001,
            "training_time": 0.3532373905181885
           },
           "status": "SUCCESS",
           "structure_loss": -0.987231013317022
          },
          {
           "budget": 2,
           "config": {
            "classifier:criterion": "entropy",
            "classifier:max_depth_factor": 0.9653465600631713,
            "classifier:min_samples_leaf_factor": 0.01985304773940375,
            "classifier:min_samples_split_factor": 0.23344652455493806,
            "data_preprocessing:categorical:imputation:add_indicator": false,
            "data_preprocessing:categorical:imputation:strategy": "most_frequent",
            "data_preprocessing:imputation:add_indicator": true,
            "data_preprocessing:imputation:strategy": "median",
            "parallel:pca:keep_variance": 0.5147018797074974,
            "parallel:pca:whiten": true
           },
           "id": "00:00:38",
           "loss": 0.9975055432372506,
           "model_file": "/home/marc/phd/code/dswizard/scripts/run/168746/models/models_0-0-38.pkl",
           "origin": "Hyperopt",
           "runtime": {
            "timestamp": 15.245476962999874,
            "training_time": 0.3509795665740967
           },
           "status": "SUCCESS",
           "structure_loss": -0.987231013317022
          },
          {
           "budget": 2,
           "config": {
            "classifier:criterion": "gini",
            "classifier:max_depth_factor": 0.17229344138660763,
            "classifier:min_samples_leaf_factor": 0.014256876263850726,
            "classifier:min_samples_split_factor": 0.20059721406511338,
            "data_preprocessing:categorical:imputation:add_indicator": true,
            "data_preprocessing:categorical:imputation:strategy": "most_frequent",
            "data_preprocessing:imputation:add_indicator": false,
            "data_preprocessing:imputation:strategy": "median",
            "parallel:pca:keep_variance": 0.5142777831842812,
            "parallel:pca:whiten": true
           },
           "id": "00:00:39",
           "loss": 0.9975055432372506,
           "model_file": "/home/marc/phd/code/dswizard/scripts/run/168746/models/models_0-0-39.pkl",
           "origin": "Hyperopt",
           "runtime": {
            "timestamp": 15.627232392999986,
            "training_time": 0.34285712242126465
           },
           "status": "SUCCESS",
           "structure_loss": -0.987231013317022
          },
          {
           "budget": 2,
           "config": {
            "classifier:criterion": "entropy",
            "classifier:max_depth_factor": 0.13844970062983003,
            "classifier:min_samples_leaf_factor": 0.026727507041076477,
            "classifier:min_samples_split_factor": 0.21937915487215845,
            "data_preprocessing:categorical:imputation:add_indicator": false,
            "data_preprocessing:categorical:imputation:strategy": "most_frequent",
            "data_preprocessing:imputation:add_indicator": false,
            "data_preprocessing:imputation:strategy": "median",
            "parallel:pca:keep_variance": 0.5140620509186647,
            "parallel:pca:whiten": true
           },
           "id": "00:00:40",
           "loss": 0.9975055432372506,
           "model_file": "/home/marc/phd/code/dswizard/scripts/run/168746/models/models_0-0-40.pkl",
           "origin": "Hyperopt",
           "runtime": {
            "timestamp": 16.00919660699992,
            "training_time": 0.32334089279174805
           },
           "status": "SUCCESS",
           "structure_loss": -0.987231013317022
          },
          {
           "budget": 2,
           "config": {
            "classifier:criterion": "gini",
            "classifier:max_depth_factor": 1.4228018510186682,
            "classifier:min_samples_leaf_factor": 0.06279681203945343,
            "classifier:min_samples_split_factor": 0.14354463867365608,
            "data_preprocessing:categorical:imputation:add_indicator": true,
            "data_preprocessing:categorical:imputation:strategy": "most_frequent",
            "data_preprocessing:imputation:add_indicator": false,
            "data_preprocessing:imputation:strategy": "mean",
            "parallel:pca:keep_variance": 0.5141444615324212,
            "parallel:pca:whiten": true
           },
           "id": "00:00:41",
           "loss": 0.9975055432372506,
           "model_file": "/home/marc/phd/code/dswizard/scripts/run/168746/models/models_0-0-41.pkl",
           "origin": "Hyperopt",
           "runtime": {
            "timestamp": 16.383624902999827,
            "training_time": 0.3352010250091553
           },
           "status": "SUCCESS",
           "structure_loss": -0.987231013317022
          },
          {
           "budget": 2,
           "config": {
            "classifier:criterion": "gini",
            "classifier:max_depth_factor": 1.9116918312040707,
            "classifier:min_samples_leaf_factor": 0.08402558988324842,
            "classifier:min_samples_split_factor": 0.15639441214819103,
            "data_preprocessing:categorical:imputation:add_indicator": false,
            "data_preprocessing:categorical:imputation:strategy": "most_frequent",
            "data_preprocessing:imputation:add_indicator": false,
            "data_preprocessing:imputation:strategy": "most_frequent",
            "parallel:pca:keep_variance": 0.5140716533249096,
            "parallel:pca:whiten": true
           },
           "id": "00:00:42",
           "loss": 0.9975055432372506,
           "model_file": "/home/marc/phd/code/dswizard/scripts/run/168746/models/models_0-0-42.pkl",
           "origin": "Hyperopt",
           "runtime": {
            "timestamp": 16.77156232199991,
            "training_time": 0.32862424850463867
           },
           "status": "SUCCESS",
           "structure_loss": -0.987231013317022
          },
          {
           "budget": 2,
           "config": {
            "classifier:criterion": "entropy",
            "classifier:max_depth_factor": 1.6496446126102238,
            "classifier:min_samples_leaf_factor": 0.02327886548365777,
            "classifier:min_samples_split_factor": 0.24179827222742603,
            "data_preprocessing:categorical:imputation:add_indicator": false,
            "data_preprocessing:categorical:imputation:strategy": "median",
            "data_preprocessing:imputation:add_indicator": false,
            "data_preprocessing:imputation:strategy": "most_frequent",
            "parallel:pca:keep_variance": 0.5142355236638252,
            "parallel:pca:whiten": true
           },
           "id": "00:00:43",
           "loss": 0.9975055432372506,
           "model_file": "/home/marc/phd/code/dswizard/scripts/run/168746/models/models_0-0-43.pkl",
           "origin": "Hyperopt",
           "runtime": {
            "timestamp": 17.136983956999984,
            "training_time": 0.3258638381958008
           },
           "status": "SUCCESS",
           "structure_loss": -0.987231013317022
          },
          {
           "budget": 2,
           "config": {
            "classifier:criterion": "entropy",
            "classifier:max_depth_factor": 0.7006771165795491,
            "classifier:min_samples_leaf_factor": 0.010708974638529224,
            "classifier:min_samples_split_factor": 0.2204928019295328,
            "data_preprocessing:categorical:imputation:add_indicator": false,
            "data_preprocessing:categorical:imputation:strategy": "median",
            "data_preprocessing:imputation:add_indicator": false,
            "data_preprocessing:imputation:strategy": "most_frequent",
            "parallel:pca:keep_variance": 0.5144719554270903,
            "parallel:pca:whiten": true
           },
           "id": "00:00:44",
           "loss": 0.9975055432372506,
           "model_file": "/home/marc/phd/code/dswizard/scripts/run/168746/models/models_0-0-44.pkl",
           "origin": "Hyperopt",
           "runtime": {
            "timestamp": 17.53769893699996,
            "training_time": 0.3441143035888672
           },
           "status": "SUCCESS",
           "structure_loss": -0.987231013317022
          },
          {
           "budget": 2,
           "config": {
            "classifier:criterion": "entropy",
            "classifier:max_depth_factor": 1.8745538138799525,
            "classifier:min_samples_leaf_factor": 0.01401098836547575,
            "classifier:min_samples_split_factor": 0.2259736447339187,
            "data_preprocessing:categorical:imputation:add_indicator": false,
            "data_preprocessing:categorical:imputation:strategy": "most_frequent",
            "data_preprocessing:imputation:add_indicator": false,
            "data_preprocessing:imputation:strategy": "most_frequent",
            "parallel:pca:keep_variance": 0.5144969211616199,
            "parallel:pca:whiten": true
           },
           "id": "00:00:45",
           "loss": 0.9975055432372506,
           "model_file": "/home/marc/phd/code/dswizard/scripts/run/168746/models/models_0-0-45.pkl",
           "origin": "Hyperopt",
           "runtime": {
            "timestamp": 17.90013296999996,
            "training_time": 0.3225209712982178
           },
           "status": "SUCCESS",
           "structure_loss": -0.987231013317022
          },
          {
           "budget": 2,
           "config": {
            "classifier:criterion": "entropy",
            "classifier:max_depth_factor": 0.3868585972848456,
            "classifier:min_samples_leaf_factor": 0.09187590830285966,
            "classifier:min_samples_split_factor": 0.11611229110240939,
            "data_preprocessing:categorical:imputation:add_indicator": false,
            "data_preprocessing:categorical:imputation:strategy": "most_frequent",
            "data_preprocessing:imputation:add_indicator": true,
            "data_preprocessing:imputation:strategy": "mean",
            "parallel:pca:keep_variance": 0.5143768498134963,
            "parallel:pca:whiten": true
           },
           "id": "00:00:46",
           "loss": 0.9975055432372506,
           "model_file": "/home/marc/phd/code/dswizard/scripts/run/168746/models/models_0-0-46.pkl",
           "origin": "Hyperopt",
           "runtime": {
            "timestamp": 18.33419473799995,
            "training_time": 0.37659716606140137
           },
           "status": "SUCCESS",
           "structure_loss": -0.987231013317022
          },
          {
           "budget": 2,
           "config": {
            "classifier:criterion": "entropy",
            "classifier:max_depth_factor": 1.165551353819855,
            "classifier:min_samples_leaf_factor": 0.07819189639917767,
            "classifier:min_samples_split_factor": 0.15932305428023372,
            "data_preprocessing:categorical:imputation:add_indicator": false,
            "data_preprocessing:categorical:imputation:strategy": "most_frequent",
            "data_preprocessing:imputation:add_indicator": true,
            "data_preprocessing:imputation:strategy": "mean",
            "parallel:pca:keep_variance": 0.5142031739654059,
            "parallel:pca:whiten": true
           },
           "id": "00:00:47",
           "loss": 0.9975055432372506,
           "model_file": "/home/marc/phd/code/dswizard/scripts/run/168746/models/models_0-0-47.pkl",
           "origin": "Hyperopt",
           "runtime": {
            "timestamp": 18.70835360199999,
            "training_time": 0.33753132820129395
           },
           "status": "SUCCESS",
           "structure_loss": -0.987231013317022
          },
          {
           "budget": 2,
           "config": {
            "classifier:criterion": "entropy",
            "classifier:max_depth_factor": 1.9656898455010872,
            "classifier:min_samples_leaf_factor": 0.014625861976801153,
            "classifier:min_samples_split_factor": 0.2290875723261442,
            "data_preprocessing:categorical:imputation:add_indicator": true,
            "data_preprocessing:categorical:imputation:strategy": "most_frequent",
            "data_preprocessing:imputation:add_indicator": true,
            "data_preprocessing:imputation:strategy": "most_frequent",
            "parallel:pca:keep_variance": 0.5142308696253646,
            "parallel:pca:whiten": true
           },
           "id": "00:00:48",
           "loss": 0.9975055432372506,
           "model_file": "/home/marc/phd/code/dswizard/scripts/run/168746/models/models_0-0-48.pkl",
           "origin": "Hyperopt",
           "runtime": {
            "timestamp": 19.107682843999783,
            "training_time": 0.3421177864074707
           },
           "status": "SUCCESS",
           "structure_loss": -0.987231013317022
          },
          {
           "budget": 2,
           "config": {
            "classifier:criterion": "entropy",
            "classifier:max_depth_factor": 1.6052902711857227,
            "classifier:min_samples_leaf_factor": 0.013708335991714312,
            "classifier:min_samples_split_factor": 0.2468708359599571,
            "data_preprocessing:categorical:imputation:add_indicator": false,
            "data_preprocessing:categorical:imputation:strategy": "most_frequent",
            "data_preprocessing:imputation:add_indicator": true,
            "data_preprocessing:imputation:strategy": "mean",
            "parallel:pca:keep_variance": 0.5144031100422686,
            "parallel:pca:whiten": true
           },
           "id": "00:00:49",
           "loss": 0.9975055432372506,
           "model_file": "/home/marc/phd/code/dswizard/scripts/run/168746/models/models_0-0-49.pkl",
           "origin": "Hyperopt",
           "runtime": {
            "timestamp": 19.49066655799993,
            "training_time": 0.34700632095336914
           },
           "status": "SUCCESS",
           "structure_loss": -0.987231013317022
          },
          {
           "budget": 2,
           "config": {
            "classifier:criterion": "entropy",
            "classifier:max_depth_factor": 0.018649226288745435,
            "classifier:min_samples_leaf_factor": 0.06278753977234901,
            "classifier:min_samples_split_factor": 0.1004555100475261,
            "data_preprocessing:categorical:imputation:add_indicator": true,
            "data_preprocessing:categorical:imputation:strategy": "median",
            "data_preprocessing:imputation:add_indicator": false,
            "data_preprocessing:imputation:strategy": "mean",
            "parallel:pca:keep_variance": 0.5135354912400112,
            "parallel:pca:whiten": false
           },
           "id": "00:00:50",
           "loss": 0.9975055432372506,
           "model_file": "/home/marc/phd/code/dswizard/scripts/run/168746/models/models_0-0-50.pkl",
           "origin": "Hyperopt",
           "runtime": {
            "timestamp": 19.876262373999907,
            "training_time": 0.32979512214660645
           },
           "status": "SUCCESS",
           "structure_loss": -0.987231013317022
          },
          {
           "budget": 2,
           "config": {
            "classifier:criterion": "entropy",
            "classifier:max_depth_factor": 0.4523392445328239,
            "classifier:min_samples_leaf_factor": 0.09282272119068241,
            "classifier:min_samples_split_factor": 0.053347366670517066,
            "data_preprocessing:categorical:imputation:add_indicator": false,
            "data_preprocessing:categorical:imputation:strategy": "most_frequent",
            "data_preprocessing:imputation:add_indicator": true,
            "data_preprocessing:imputation:strategy": "mean",
            "parallel:pca:keep_variance": 0.5142768042961654,
            "parallel:pca:whiten": true
           },
           "id": "00:00:51",
           "loss": 0.9975055432372506,
           "model_file": "/home/marc/phd/code/dswizard/scripts/run/168746/models/models_0-0-51.pkl",
           "origin": "Hyperopt",
           "runtime": {
            "timestamp": 20.255323336999936,
            "training_time": 0.3389167785644531
           },
           "status": "SUCCESS",
           "structure_loss": -0.987231013317022
          },
          {
           "budget": 2,
           "config": {
            "classifier:criterion": "entropy",
            "classifier:max_depth_factor": 0.6000502529441516,
            "classifier:min_samples_leaf_factor": 0.05696140964487529,
            "classifier:min_samples_split_factor": 0.060411374131083564,
            "data_preprocessing:categorical:imputation:add_indicator": false,
            "data_preprocessing:categorical:imputation:strategy": "most_frequent",
            "data_preprocessing:imputation:add_indicator": true,
            "data_preprocessing:imputation:strategy": "most_frequent",
            "parallel:pca:keep_variance": 0.5144138852959663,
            "parallel:pca:whiten": true
           },
           "id": "00:00:52",
           "loss": 0.9977431105479886,
           "model_file": "/home/marc/phd/code/dswizard/scripts/run/168746/models/models_0-0-52.pkl",
           "origin": "Hyperopt",
           "runtime": {
            "timestamp": 20.69186213099988,
            "training_time": 0.3799903392791748
           },
           "status": "SUCCESS",
           "structure_loss": -0.987231013317022
          },
          {
           "budget": 2,
           "config": {
            "classifier:criterion": "entropy",
            "classifier:max_depth_factor": 0.8226579155994072,
            "classifier:min_samples_leaf_factor": 0.059764497541629505,
            "classifier:min_samples_split_factor": 0.05207696992485466,
            "data_preprocessing:categorical:imputation:add_indicator": false,
            "data_preprocessing:categorical:imputation:strategy": "most_frequent",
            "data_preprocessing:imputation:add_indicator": true,
            "data_preprocessing:imputation:strategy": "mean",
            "parallel:pca:keep_variance": 0.5144235802289614,
            "parallel:pca:whiten": true
           },
           "id": "00:00:53",
           "loss": 0.9977431105479886,
           "model_file": "/home/marc/phd/code/dswizard/scripts/run/168746/models/models_0-0-53.pkl",
           "origin": "Hyperopt",
           "runtime": {
            "timestamp": 21.07110881099993,
            "training_time": 0.3381199836730957
           },
           "status": "SUCCESS",
           "structure_loss": -0.987231013317022
          },
          {
           "budget": 2,
           "config": {
            "classifier:criterion": "entropy",
            "classifier:max_depth_factor": 0.5488307424324151,
            "classifier:min_samples_leaf_factor": 0.044298487969218155,
            "classifier:min_samples_split_factor": 0.06012083987037433,
            "data_preprocessing:categorical:imputation:add_indicator": false,
            "data_preprocessing:categorical:imputation:strategy": "most_frequent",
            "data_preprocessing:imputation:add_indicator": true,
            "data_preprocessing:imputation:strategy": "median",
            "parallel:pca:keep_variance": 0.5143110761651375,
            "parallel:pca:whiten": false
           },
           "id": "00:00:54",
           "loss": 0.9974263541336712,
           "model_file": "/home/marc/phd/code/dswizard/scripts/run/168746/models/models_0-0-54.pkl",
           "origin": "Hyperopt",
           "runtime": {
            "timestamp": 21.48613175499986,
            "training_time": 0.35878419876098633
           },
           "status": "SUCCESS",
           "structure_loss": -0.987231013317022
          },
          {
           "budget": 2,
           "config": {
            "classifier:criterion": "entropy",
            "classifier:max_depth_factor": 0.15676457339797567,
            "classifier:min_samples_leaf_factor": 0.05339186556434418,
            "classifier:min_samples_split_factor": 0.001978712372194937,
            "data_preprocessing:categorical:imputation:add_indicator": false,
            "data_preprocessing:categorical:imputation:strategy": "most_frequent",
            "data_preprocessing:imputation:add_indicator": true,
            "data_preprocessing:imputation:strategy": "median",
            "parallel:pca:keep_variance": 0.5144257289248746,
            "parallel:pca:whiten": true
           },
           "id": "00:00:55",
           "loss": 0.9977431105479886,
           "model_file": "/home/marc/phd/code/dswizard/scripts/run/168746/models/models_0-0-55.pkl",
           "origin": "Hyperopt",
           "runtime": {
            "timestamp": 21.90811474899988,
            "training_time": 0.38291406631469727
           },
           "status": "SUCCESS",
           "structure_loss": -0.987231013317022
          },
          {
           "budget": 2,
           "config": {
            "classifier:criterion": "entropy",
            "classifier:max_depth_factor": 0.8851482489779698,
            "classifier:min_samples_leaf_factor": 0.044927722989327436,
            "classifier:min_samples_split_factor": 0.005621567887351036,
            "data_preprocessing:categorical:imputation:add_indicator": false,
            "data_preprocessing:categorical:imputation:strategy": "most_frequent",
            "data_preprocessing:imputation:add_indicator": true,
            "data_preprocessing:imputation:strategy": "most_frequent",
            "parallel:pca:keep_variance": 0.5143829897918558,
            "parallel:pca:whiten": true
           },
           "id": "00:00:56",
           "loss": 0.9945755464048147,
           "model_file": "/home/marc/phd/code/dswizard/scripts/run/168746/models/models_0-0-56.pkl",
           "origin": "Hyperopt",
           "runtime": {
            "timestamp": 22.334450770999865,
            "training_time": 0.3686788082122803
           },
           "status": "SUCCESS",
           "structure_loss": -0.987231013317022
          },
          {
           "budget": 2,
           "config": {
            "classifier:criterion": "entropy",
            "classifier:max_depth_factor": 0.04272908519582841,
            "classifier:min_samples_leaf_factor": 0.020729847859829377,
            "classifier:min_samples_split_factor": 0.0023249771555379673,
            "data_preprocessing:categorical:imputation:add_indicator": false,
            "data_preprocessing:categorical:imputation:strategy": "most_frequent",
            "data_preprocessing:imputation:add_indicator": true,
            "data_preprocessing:imputation:strategy": "most_frequent",
            "parallel:pca:keep_variance": 0.5144799497912678,
            "parallel:pca:whiten": true
           },
           "id": "00:00:57",
           "loss": 0.9975055432372506,
           "model_file": "/home/marc/phd/code/dswizard/scripts/run/168746/models/models_0-0-57.pkl",
           "origin": "Hyperopt",
           "runtime": {
            "timestamp": 22.711030436999863,
            "training_time": 0.3364267349243164
           },
           "status": "SUCCESS",
           "structure_loss": -0.987231013317022
          },
          {
           "budget": 2,
           "config": {
            "classifier:criterion": "entropy",
            "classifier:max_depth_factor": 0.7525012282396115,
            "classifier:min_samples_leaf_factor": 0.06978436412543618,
            "classifier:min_samples_split_factor": 0.014990733138003367,
            "data_preprocessing:categorical:imputation:add_indicator": false,
            "data_preprocessing:categorical:imputation:strategy": "most_frequent",
            "data_preprocessing:imputation:add_indicator": true,
            "data_preprocessing:imputation:strategy": "most_frequent",
            "parallel:pca:keep_variance": 0.5144367251376667,
            "parallel:pca:whiten": true
           },
           "id": "00:00:58",
           "loss": 0.9975055432372506,
           "model_file": "/home/marc/phd/code/dswizard/scripts/run/168746/models/models_0-0-58.pkl",
           "origin": "Hyperopt",
           "runtime": {
            "timestamp": 23.10094637499992,
            "training_time": 0.33146119117736816
           },
           "status": "SUCCESS",
           "structure_loss": -0.987231013317022
          },
          {
           "budget": 2,
           "config": {
            "classifier:criterion": "entropy",
            "classifier:max_depth_factor": 0.20221596590755597,
            "classifier:min_samples_leaf_factor": 0.06167775990520626,
            "classifier:min_samples_split_factor": 0.005365464455767694,
            "data_preprocessing:categorical:imputation:add_indicator": false,
            "data_preprocessing:categorical:imputation:strategy": "most_frequent",
            "data_preprocessing:imputation:add_indicator": true,
            "data_preprocessing:imputation:strategy": "mean",
            "parallel:pca:keep_variance": 0.5144277746117843,
            "parallel:pca:whiten": true
           },
           "id": "00:00:59",
           "loss": 0.9975055432372506,
           "model_file": "/home/marc/phd/code/dswizard/scripts/run/168746/models/models_0-0-59.pkl",
           "origin": "Hyperopt",
           "runtime": {
            "timestamp": 23.512275404999855,
            "training_time": 0.3710472583770752
           },
           "status": "SUCCESS",
           "structure_loss": -0.987231013317022
          },
          {
           "budget": 2,
           "config": {
            "classifier:criterion": "entropy",
            "classifier:max_depth_factor": 1.2792709414201897,
            "classifier:min_samples_leaf_factor": 0.11279706776189642,
            "classifier:min_samples_split_factor": 0.1937991212859441,
            "data_preprocessing:categorical:imputation:add_indicator": true,
            "data_preprocessing:categorical:imputation:strategy": "most_frequent",
            "data_preprocessing:imputation:add_indicator": true,
            "data_preprocessing:imputation:strategy": "most_frequent",
            "parallel:pca:keep_variance": 0.5144382039129543,
            "parallel:pca:whiten": true
           },
           "id": "00:00:60",
           "loss": 0.9975055432372506,
           "model_file": "/home/marc/phd/code/dswizard/scripts/run/168746/models/models_0-0-60.pkl",
           "origin": "Hyperopt",
           "runtime": {
            "timestamp": 23.935148368,
            "training_time": 0.36728930473327637
           },
           "status": "SUCCESS",
           "structure_loss": -0.987231013317022
          },
          {
           "budget": 2,
           "config": {
            "classifier:criterion": "entropy",
            "classifier:max_depth_factor": 0.1511366005796706,
            "classifier:min_samples_leaf_factor": 0.0545211663445499,
            "classifier:min_samples_split_factor": 0.03377983105551657,
            "data_preprocessing:categorical:imputation:add_indicator": true,
            "data_preprocessing:categorical:imputation:strategy": "most_frequent",
            "data_preprocessing:imputation:add_indicator": true,
            "data_preprocessing:imputation:strategy": "median",
            "parallel:pca:keep_variance": 0.5144117583336654,
            "parallel:pca:whiten": true
           },
           "id": "00:00:61",
           "loss": 0.9977431105479886,
           "model_file": "/home/marc/phd/code/dswizard/scripts/run/168746/models/models_0-0-61.pkl",
           "origin": "Hyperopt",
           "runtime": {
            "timestamp": 24.322757325999874,
            "training_time": 0.34680700302124023
           },
           "status": "SUCCESS",
           "structure_loss": -0.987231013317022
          },
          {
           "budget": 2,
           "config": {
            "classifier:criterion": "entropy",
            "classifier:max_depth_factor": 0.10399959584836793,
            "classifier:min_samples_leaf_factor": 0.06824033813265795,
            "classifier:min_samples_split_factor": 0.06798639327552791,
            "data_preprocessing:categorical:imputation:add_indicator": true,
            "data_preprocessing:categorical:imputation:strategy": "most_frequent",
            "data_preprocessing:imputation:add_indicator": true,
            "data_preprocessing:imputation:strategy": "median",
            "parallel:pca:keep_variance": 0.5144359418481984,
            "parallel:pca:whiten": true
           },
           "id": "00:00:62",
           "loss": 0.9975055432372506,
           "model_file": "/home/marc/phd/code/dswizard/scripts/run/168746/models/models_0-0-62.pkl",
           "origin": "Hyperopt",
           "runtime": {
            "timestamp": 24.70100800399996,
            "training_time": 0.3232247829437256
           },
           "status": "SUCCESS",
           "structure_loss": -0.987231013317022
          },
          {
           "budget": 2,
           "config": {
            "classifier:criterion": "entropy",
            "classifier:max_depth_factor": 0.6009721545540179,
            "classifier:min_samples_leaf_factor": 0.051892532593091095,
            "classifier:min_samples_split_factor": 0.035524256325913516,
            "data_preprocessing:categorical:imputation:add_indicator": true,
            "data_preprocessing:categorical:imputation:strategy": "most_frequent",
            "data_preprocessing:imputation:add_indicator": true,
            "data_preprocessing:imputation:strategy": "median",
            "parallel:pca:keep_variance": 0.5144310282103699,
            "parallel:pca:whiten": true
           },
           "id": "00:00:63",
           "loss": 0.9977431105479886,
           "model_file": "/home/marc/phd/code/dswizard/scripts/run/168746/models/models_0-0-63.pkl",
           "origin": "Hyperopt",
           "runtime": {
            "timestamp": 25.114731982999956,
            "training_time": 0.374523401260376
           },
           "status": "SUCCESS",
           "structure_loss": -0.987231013317022
          },
          {
           "budget": 2,
           "config": {
            "classifier:criterion": "gini",
            "classifier:max_depth_factor": 0.7263702073913668,
            "classifier:min_samples_leaf_factor": 0.05219376151149116,
            "classifier:min_samples_split_factor": 0.03547942036185054,
            "data_preprocessing:categorical:imputation:add_indicator": true,
            "data_preprocessing:categorical:imputation:strategy": "most_frequent",
            "data_preprocessing:imputation:add_indicator": true,
            "data_preprocessing:imputation:strategy": "median",
            "parallel:pca:keep_variance": 0.5143841656392932,
            "parallel:pca:whiten": true
           },
           "id": "00:00:64",
           "loss": 0.9977431105479886,
           "model_file": "/home/marc/phd/code/dswizard/scripts/run/168746/models/models_0-0-64.pkl",
           "origin": "Hyperopt",
           "runtime": {
            "timestamp": 25.547054530999958,
            "training_time": 0.38283371925354004
           },
           "status": "SUCCESS",
           "structure_loss": -0.987231013317022
          },
          {
           "budget": 2,
           "config": {
            "classifier:criterion": "entropy",
            "classifier:max_depth_factor": 0.7162370241468112,
            "classifier:min_samples_leaf_factor": 0.058478067751777274,
            "classifier:min_samples_split_factor": 0.030855590799370655,
            "data_preprocessing:categorical:imputation:add_indicator": true,
            "data_preprocessing:categorical:imputation:strategy": "most_frequent",
            "data_preprocessing:imputation:add_indicator": true,
            "data_preprocessing:imputation:strategy": "median",
            "parallel:pca:keep_variance": 0.513669334837038,
            "parallel:pca:whiten": false
           },
           "id": "00:00:65",
           "loss": 0.9977431105479886,
           "model_file": "/home/marc/phd/code/dswizard/scripts/run/168746/models/models_0-0-65.pkl",
           "origin": "Hyperopt",
           "runtime": {
            "timestamp": 25.9403079409999,
            "training_time": 0.3523871898651123
           },
           "status": "SUCCESS",
           "structure_loss": -0.987231013317022
          },
          {
           "budget": 2,
           "config": {
            "classifier:criterion": "entropy",
            "classifier:max_depth_factor": 0.28649117122629836,
            "classifier:min_samples_leaf_factor": 0.05187526394488577,
            "classifier:min_samples_split_factor": 0.0019198062805588893,
            "data_preprocessing:categorical:imputation:add_indicator": true,
            "data_preprocessing:categorical:imputation:strategy": "most_frequent",
            "data_preprocessing:imputation:add_indicator": true,
            "data_preprocessing:imputation:strategy": "median",
            "parallel:pca:keep_variance": 0.5142998458444916,
            "parallel:pca:whiten": false
           },
           "id": "00:00:66",
           "loss": 0.9977431105479886,
           "model_file": "/home/marc/phd/code/dswizard/scripts/run/168746/models/models_0-0-66.pkl",
           "origin": "Hyperopt",
           "runtime": {
            "timestamp": 26.419394010999895,
            "training_time": 0.423154354095459
           },
           "status": "SUCCESS",
           "structure_loss": -0.987231013317022
          },
          {
           "budget": 2,
           "config": {
            "classifier:criterion": "entropy",
            "classifier:max_depth_factor": 0.3227322481970997,
            "classifier:min_samples_leaf_factor": 0.05156304896461677,
            "classifier:min_samples_split_factor": 0.05145049213653558,
            "data_preprocessing:categorical:imputation:add_indicator": true,
            "data_preprocessing:categorical:imputation:strategy": "most_frequent",
            "data_preprocessing:imputation:add_indicator": true,
            "data_preprocessing:imputation:strategy": "median",
            "parallel:pca:keep_variance": 0.5142258012174724,
            "parallel:pca:whiten": false
           },
           "id": "00:00:67",
           "loss": 0.9977431105479886,
           "model_file": "/home/marc/phd/code/dswizard/scripts/run/168746/models/models_0-0-67.pkl",
           "origin": "Hyperopt",
           "runtime": {
            "timestamp": 26.819255214999885,
            "training_time": 0.3598182201385498
           },
           "status": "SUCCESS",
           "structure_loss": -0.987231013317022
          },
          {
           "budget": 2,
           "config": {
            "classifier:criterion": "entropy",
            "classifier:max_depth_factor": 0.6563110152262046,
            "classifier:min_samples_leaf_factor": 0.058642390949049224,
            "classifier:min_samples_split_factor": 0.051552605673122476,
            "data_preprocessing:categorical:imputation:add_indicator": true,
            "data_preprocessing:categorical:imputation:strategy": "most_frequent",
            "data_preprocessing:imputation:add_indicator": true,
            "data_preprocessing:imputation:strategy": "median",
            "parallel:pca:keep_variance": 0.5143047225560116,
            "parallel:pca:whiten": false
           },
           "id": "00:00:68",
           "loss": 0.9977431105479886,
           "model_file": "/home/marc/phd/code/dswizard/scripts/run/168746/models/models_0-0-68.pkl",
           "origin": "Hyperopt",
           "runtime": {
            "timestamp": 27.273471571999835,
            "training_time": 0.3987562656402588
           },
           "status": "SUCCESS",
           "structure_loss": -0.987231013317022
          },
          {
           "budget": 2,
           "config": {
            "classifier:criterion": "entropy",
            "classifier:max_depth_factor": 0.7779581467079183,
            "classifier:min_samples_leaf_factor": 0.0583035378403227,
            "classifier:min_samples_split_factor": 0.05674098247435845,
            "data_preprocessing:categorical:imputation:add_indicator": true,
            "data_preprocessing:categorical:imputation:strategy": "most_frequent",
            "data_preprocessing:imputation:add_indicator": true,
            "data_preprocessing:imputation:strategy": "median",
            "parallel:pca:keep_variance": 0.5143090760960813,
            "parallel:pca:whiten": false
           },
           "id": "00:00:69",
           "loss": 0.9977431105479886,
           "model_file": "/home/marc/phd/code/dswizard/scripts/run/168746/models/models_0-0-69.pkl",
           "origin": "Hyperopt",
           "runtime": {
            "timestamp": 27.71318647699991,
            "training_time": 0.399686336517334
           },
           "status": "SUCCESS",
           "structure_loss": -0.987231013317022
          },
          {
           "budget": 2,
           "config": {
            "classifier:criterion": "entropy",
            "classifier:max_depth_factor": 0.7503301661706901,
            "classifier:min_samples_leaf_factor": 0.05633307167416354,
            "classifier:min_samples_split_factor": 0.03975674598673673,
            "data_preprocessing:categorical:imputation:add_indicator": true,
            "data_preprocessing:categorical:imputation:strategy": "most_frequent",
            "data_preprocessing:imputation:add_indicator": true,
            "data_preprocessing:imputation:strategy": "median",
            "parallel:pca:keep_variance": 0.5143302433718182,
            "parallel:pca:whiten": false
           },
           "id": "00:00:70",
           "loss": 0.9977431105479886,
           "model_file": "/home/marc/phd/code/dswizard/scripts/run/168746/models/models_0-0-70.pkl",
           "origin": "Hyperopt",
           "runtime": {
            "timestamp": 28.111085372999923,
            "training_time": 0.3423936367034912
           },
           "status": "SUCCESS",
           "structure_loss": -0.987231013317022
          },
          {
           "budget": 2,
           "config": {
            "classifier:criterion": "entropy",
            "classifier:max_depth_factor": 0.6684667811972931,
            "classifier:min_samples_leaf_factor": 0.05775603639541917,
            "classifier:min_samples_split_factor": 0.03373485868940476,
            "data_preprocessing:categorical:imputation:add_indicator": true,
            "data_preprocessing:categorical:imputation:strategy": "most_frequent",
            "data_preprocessing:imputation:add_indicator": true,
            "data_preprocessing:imputation:strategy": "median",
            "parallel:pca:keep_variance": 0.5145090966816467,
            "parallel:pca:whiten": false
           },
           "id": "00:00:71",
           "loss": 0.9977431105479886,
           "model_file": "/home/marc/phd/code/dswizard/scripts/run/168746/models/models_0-0-71.pkl",
           "origin": "Hyperopt",
           "runtime": {
            "timestamp": 28.5103525049999,
            "training_time": 0.35600876808166504
           },
           "status": "SUCCESS",
           "structure_loss": -0.987231013317022
          },
          {
           "budget": 2,
           "config": {
            "classifier:criterion": "entropy",
            "classifier:max_depth_factor": 0.8741039237415518,
            "classifier:min_samples_leaf_factor": 0.05710493546612845,
            "classifier:min_samples_split_factor": 0.0422871658970908,
            "data_preprocessing:categorical:imputation:add_indicator": true,
            "data_preprocessing:categorical:imputation:strategy": "most_frequent",
            "data_preprocessing:imputation:add_indicator": true,
            "data_preprocessing:imputation:strategy": "median",
            "parallel:pca:keep_variance": 0.5141127321107959,
            "parallel:pca:whiten": false
           },
           "id": "00:00:72",
           "loss": 0.9977431105479886,
           "model_file": "/home/marc/phd/code/dswizard/scripts/run/168746/models/models_0-0-72.pkl",
           "origin": "Hyperopt",
           "runtime": {
            "timestamp": 28.90770128699978,
            "training_time": 0.34169578552246094
           },
           "status": "SUCCESS",
           "structure_loss": -0.987231013317022
          },
          {
           "budget": 2,
           "config": {
            "classifier:criterion": "entropy",
            "classifier:max_depth_factor": 0.12788794817827712,
            "classifier:min_samples_leaf_factor": 0.05339075893266933,
            "classifier:min_samples_split_factor": 0.00693146245623114,
            "data_preprocessing:categorical:imputation:add_indicator": true,
            "data_preprocessing:categorical:imputation:strategy": "most_frequent",
            "data_preprocessing:imputation:add_indicator": true,
            "data_preprocessing:imputation:strategy": "median",
            "parallel:pca:keep_variance": 0.5142942012751931,
            "parallel:pca:whiten": false
           },
           "id": "00:00:73",
           "loss": 0.9977431105479886,
           "model_file": "/home/marc/phd/code/dswizard/scripts/run/168746/models/models_0-0-73.pkl",
           "origin": "Hyperopt",
           "runtime": {
            "timestamp": 29.313109281999914,
            "training_time": 0.36387157440185547
           },
           "status": "SUCCESS",
           "structure_loss": -0.987231013317022
          },
          {
           "budget": 2,
           "config": {
            "classifier:criterion": "entropy",
            "classifier:max_depth_factor": 0.03201233538028564,
            "classifier:min_samples_leaf_factor": 0.053682615841639345,
            "classifier:min_samples_split_factor": 0.004474686049130749,
            "data_preprocessing:categorical:imputation:add_indicator": true,
            "data_preprocessing:categorical:imputation:strategy": "most_frequent",
            "data_preprocessing:imputation:add_indicator": true,
            "data_preprocessing:imputation:strategy": "median",
            "parallel:pca:keep_variance": 0.5144372699295188,
            "parallel:pca:whiten": false
           },
           "id": "00:00:74",
           "loss": 0.9975055432372506,
           "model_file": "/home/marc/phd/code/dswizard/scripts/run/168746/models/models_0-0-74.pkl",
           "origin": "Hyperopt",
           "runtime": {
            "timestamp": 29.76472545799993,
            "training_time": 0.3903539180755615
           },
           "status": "SUCCESS",
           "structure_loss": -0.987231013317022
          },
          {
           "budget": 2,
           "config": {
            "classifier:criterion": "entropy",
            "classifier:max_depth_factor": 0.7542815245181739,
            "classifier:min_samples_leaf_factor": 0.060378345654983935,
            "classifier:min_samples_split_factor": 0.052823207244869996,
            "data_preprocessing:categorical:imputation:add_indicator": true,
            "data_preprocessing:categorical:imputation:strategy": "most_frequent",
            "data_preprocessing:imputation:add_indicator": true,
            "data_preprocessing:imputation:strategy": "median",
            "parallel:pca:keep_variance": 0.5143088739429498,
            "parallel:pca:whiten": false
           },
           "id": "00:00:75",
           "loss": 0.9977431105479886,
           "model_file": "/home/marc/phd/code/dswizard/scripts/run/168746/models/models_0-0-75.pkl",
           "origin": "Hyperopt",
           "runtime": {
            "timestamp": 30.157076840999935,
            "training_time": 0.35193681716918945
           },
           "status": "SUCCESS",
           "structure_loss": -0.987231013317022
          }
         ],
         "configspace": "{\n  \"hyperparameters\": [\n    {\n      \"name\": \"classifier:criterion\",\n      \"type\": \"categorical\",\n      \"choices\": [\n        \"gini\",\n        \"entropy\"\n      ],\n      \"default\": \"gini\",\n      \"probabilities\": null\n    },\n    {\n      \"name\": \"classifier:max_depth_factor\",\n      \"type\": \"uniform_float\",\n      \"log\": false,\n      \"lower\": 0.0,\n      \"upper\": 2.0,\n      \"default\": 1.0\n    },\n    {\n      \"name\": \"classifier:min_samples_leaf_factor\",\n      \"type\": \"uniform_float\",\n      \"log\": false,\n      \"lower\": 1e-07,\n      \"upper\": 0.25,\n      \"default\": 0.0001\n    },\n    {\n      \"name\": \"classifier:min_samples_split_factor\",\n      \"type\": \"uniform_float\",\n      \"log\": false,\n      \"lower\": 1e-07,\n      \"upper\": 0.25,\n      \"default\": 0.0001\n    },\n    {\n      \"name\": \"data_preprocessing:categorical:imputation:add_indicator\",\n      \"type\": \"categorical\",\n      \"choices\": [\n        true,\n        false\n      ],\n      \"default\": false,\n      \"probabilities\": null\n    },\n    {\n      \"name\": \"data_preprocessing:categorical:imputation:strategy\",\n      \"type\": \"categorical\",\n      \"choices\": [\n        \"mean\",\n        \"median\",\n        \"most_frequent\"\n      ],\n      \"default\": \"mean\",\n      \"probabilities\": null\n    },\n    {\n      \"name\": \"data_preprocessing:imputation:add_indicator\",\n      \"type\": \"categorical\",\n      \"choices\": [\n        true,\n        false\n      ],\n      \"default\": false,\n      \"probabilities\": null\n    },\n    {\n      \"name\": \"data_preprocessing:imputation:strategy\",\n      \"type\": \"categorical\",\n      \"choices\": [\n        \"mean\",\n        \"median\",\n        \"most_frequent\"\n      ],\n      \"default\": \"mean\",\n      \"probabilities\": null\n    },\n    {\n      \"name\": \"parallel:pca:keep_variance\",\n      \"type\": \"uniform_float\",\n      \"log\": false,\n      \"lower\": 0.5,\n      \"upper\": 0.9999,\n      \"default\": 0.9999\n    },\n    {\n      \"name\": \"parallel:pca:whiten\",\n      \"type\": \"categorical\",\n      \"choices\": [\n        false,\n        true\n      ],\n      \"default\": false,\n      \"probabilities\": null\n    }\n  ],\n  \"conditions\": [],\n  \"forbiddens\": [],\n  \"python_module_version\": \"0.4.20\",\n  \"json_format_version\": 0.2\n}",
         "pipeline": {
          "args": {
           "configuration": null,
           "steps": [
            [
             "data_preprocessing",
             {
              "args": {
               "transformers": [
                [
                 "imputation",
                 {
                  "args": {
                   "add_indicator": false,
                   "missing_values": "NaN",
                   "strategy": "mean"
                  },
                  "clazz": "dswizard.components.data_preprocessing.imputation.ImputationComponent"
                 },
                 [
                  0,
                  3,
                  4,
                  5,
                  7,
                  11
                 ]
                ],
                [
                 "categorical",
                 {
                  "args": {
                   "configuration": null,
                   "steps": [
                    [
                     "encoding",
                     {
                      "args": {},
                      "clazz": "dswizard.components.feature_preprocessing.ordinal_encoder.OrdinalEncoderComponent"
                     }
                    ],
                    [
                     "imputation",
                     {
                      "args": {
                       "add_indicator": false,
                       "missing_values": "NaN",
                       "strategy": "mean"
                      },
                      "clazz": "dswizard.components.data_preprocessing.imputation.ImputationComponent"
                     }
                    ]
                   ]
                  },
                  "clazz": "dswizard.pipeline.pipeline.FlexiblePipeline"
                 },
                 [
                  1,
                  2,
                  6,
                  8,
                  9,
                  10,
                  12
                 ]
                ]
               ]
              },
              "clazz": "dswizard.components.sklearn.ColumnTransformerComponent"
             }
            ],
            [
             "parallel",
             {
              "args": {
               "transformer_list": [
                [
                 "pca",
                 {
                  "args": {
                   "iterated_power": "auto",
                   "keep_variance": null,
                   "random_state": null,
                   "svd_solver": "auto",
                   "tol": 0,
                   "whiten": false
                  },
                  "clazz": "dswizard.components.feature_preprocessing.pca.PCAComponent"
                 }
                ],
                [
                 "scaling",
                 {
                  "args": {},
                  "clazz": "dswizard.components.data_preprocessing.minmax.MinMaxScalerComponent"
                 }
                ]
               ]
              },
              "clazz": "dswizard.components.sklearn.FeatureUnionComponent"
             }
            ],
            [
             "classifier",
             {
              "args": {
               "ccp_alpha": 0,
               "class_weight": null,
               "criterion": "gini",
               "max_depth_factor": null,
               "max_features_factor": null,
               "max_leaf_nodes_factor": null,
               "min_impurity_decrease": 0,
               "min_samples_leaf_factor": 1,
               "min_samples_split_factor": 2,
               "min_weight_fraction_leaf": 0,
               "random_state": null,
               "splitter": "best"
              },
              "clazz": "dswizard.components.classification.decision_tree.DecisionTree"
             }
            ]
           ]
          },
          "clazz": "dswizard.pipeline.pipeline.FlexiblePipeline"
         }
        }
       ]
      },
      "text/plain": [
       "<dswizard.core.runhistory.RunHistory at 0x7f5493ce37f0>"
      ]
     },
     "metadata": {},
     "output_type": "display_data"
    }
   ],
   "source": [
    "import pickle\n",
    "\n",
    "with open('runhistory_168746.pkl', 'rb') as fh:\n",
    "#with open('runhistory_auto-sklearn.pkl', 'rb') as fh:\n",
    "#with open('runhistory_7306.pkl', 'rb') as fh:\n",
    "#with open('runhistory_31.pkl', 'rb') as fh:\n",
    "#with open('runhistory_7592.pkl', 'rb') as fh:\n",
    "    runhistory = pickle.load(fh)\n",
    "\n",
    "runhistory.explain()"
   ]
  },
  {
   "cell_type": "code",
   "execution_count": 5,
   "id": "24acd6b3-7fd6-4f60-b032-41f5bb3c890f",
   "metadata": {
    "tags": [
     "xautoml-generated"
    ]
   },
   "outputs": [
    {
     "data": {
      "text/plain": [
       "2"
      ]
     },
     "execution_count": 5,
     "metadata": {},
     "output_type": "execute_result"
    }
   ],
   "source": [
    "1+1"
   ]
  }
 ],
 "metadata": {
  "kernelspec": {
   "display_name": "Python 3 (ipykernel)",
   "language": "python",
   "name": "python3"
  },
  "language_info": {
   "codemirror_mode": {
    "name": "ipython",
    "version": 3
   },
   "file_extension": ".py",
   "mimetype": "text/x-python",
   "name": "python",
   "nbconvert_exporter": "python",
   "pygments_lexer": "ipython3",
   "version": "3.9.7"
  }
 },
 "nbformat": 4,
 "nbformat_minor": 5
}
