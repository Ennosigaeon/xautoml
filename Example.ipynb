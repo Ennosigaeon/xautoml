{
 "cells": [
  {
   "cell_type": "code",
   "execution_count": null,
   "id": "18899652-94d2-4ab0-970b-c8a8e6494394",
   "metadata": {},
   "outputs": [],
   "source": [
    "class DynamicReact:\n",
    "\n",
    "    def __init__(self):\n",
    "        self.products = [\n",
    "            {'category': 'Sporting Goods', 'price': '$49.99', 'available': True, 'name': 'Football'},\n",
    "            {'category': 'Sporting Goods', 'price': '$9.99', 'available': True, 'name': 'Baseball'},\n",
    "            {'category': 'Sporting Goods', 'price': '$29.99', 'available': False, 'name': 'Basketball'},\n",
    "            {'category': 'Electronics', 'price': '$99.99', 'available': True, 'name': 'iPod Touch'},\n",
    "            {'category': 'Electronics', 'price': '$399.99', 'available': False, 'name': 'iPhone 5'},\n",
    "            {'category': 'Electronics', 'price': '$199.99', 'available': True, 'name': 'Nexus 7'}\n",
    "        ]\n",
    "\n",
    "    def _repr_mimebundle_(self, include, exclude):\n",
    "        return {\n",
    "            'application/xautoml': self.products\n",
    "        }\n",
    "\n",
    "\n",
    "DynamicReact()"
   ]
  }
 ],
 "metadata": {
  "kernelspec": {
   "display_name": "Python 3",
   "language": "python",
   "name": "python3"
  },
  "language_info": {
   "codemirror_mode": {
    "name": "ipython",
    "version": 3
   },
   "file_extension": ".py",
   "mimetype": "text/x-python",
   "name": "python",
   "nbconvert_exporter": "python",
   "pygments_lexer": "ipython3",
   "version": "3.9.5"
  }
 },
 "nbformat": 4,
 "nbformat_minor": 5
}
