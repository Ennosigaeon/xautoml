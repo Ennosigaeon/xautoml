{
 "cells": [
  {
   "cell_type": "code",
   "execution_count": 3,
   "id": "18899652-94d2-4ab0-970b-c8a8e6494394",
   "metadata": {},
   "outputs": [
    {
     "name": "stderr",
     "output_type": "stream",
     "text": [
      "2021-06-03 12:55:45,967 INFO     root            MainThread Processing task 53\n",
      "2021-06-03 12:55:45,969 INFO     root            MainThread Starting [get] request for the URL https://www.openml.org/api/v1/xml/task/53\n",
      "2021-06-03 12:55:45,973 DEBUG    urllib3.connectionpool MainThread Starting new HTTPS connection (1): www.openml.org:443\n",
      "2021-06-03 12:55:46,213 DEBUG    urllib3.connectionpool MainThread https://www.openml.org:443 \"GET /api/v1/xml/task/53 HTTP/1.1\" 200 615\n",
      "2021-06-03 12:55:46,220 INFO     root            MainThread 0.2504499s taken for [get] request for the URL https://www.openml.org/api/v1/xml/task/53\n",
      "2021-06-03 12:55:46,227 INFO     root            MainThread Starting [get] request for the URL https://www.openml.org/api/v1/xml/data/54\n",
      "2021-06-03 12:55:46,234 DEBUG    urllib3.connectionpool MainThread Starting new HTTPS connection (1): www.openml.org:443\n",
      "2021-06-03 12:55:46,449 DEBUG    urllib3.connectionpool MainThread https://www.openml.org:443 \"GET /api/v1/xml/data/54 HTTP/1.1\" 200 3610\n",
      "2021-06-03 12:55:46,457 INFO     root            MainThread 0.2279830s taken for [get] request for the URL https://www.openml.org/api/v1/xml/data/54\n",
      "2021-06-03 12:55:46,461 INFO     root            MainThread Starting [get] request for the URL https://www.openml.org/api/v1/xml/data/features/54\n",
      "2021-06-03 12:55:46,467 DEBUG    urllib3.connectionpool MainThread Starting new HTTPS connection (1): www.openml.org:443\n",
      "2021-06-03 12:55:46,712 DEBUG    urllib3.connectionpool MainThread https://www.openml.org:443 \"GET /api/v1/xml/data/features/54 HTTP/1.1\" 200 539\n",
      "2021-06-03 12:55:46,718 INFO     root            MainThread 0.2555909s taken for [get] request for the URL https://www.openml.org/api/v1/xml/data/features/54\n",
      "2021-06-03 12:55:46,723 INFO     root            MainThread Starting [get] request for the URL https://www.openml.org/api/v1/xml/data/qualities/54\n",
      "2021-06-03 12:55:46,729 DEBUG    urllib3.connectionpool MainThread Starting new HTTPS connection (1): www.openml.org:443\n",
      "2021-06-03 12:55:46,906 DEBUG    urllib3.connectionpool MainThread https://www.openml.org:443 \"GET /api/v1/xml/data/qualities/54 HTTP/1.1\" 200 1482\n",
      "2021-06-03 12:55:46,913 INFO     root            MainThread 0.1888087s taken for [get] request for the URL https://www.openml.org/api/v1/xml/data/qualities/54\n",
      "2021-06-03 12:55:46,918 INFO     root            MainThread Starting [get] request for the URL https://www.openml.org/data/v1/download/54/vehicle.arff\n",
      "2021-06-03 12:55:46,925 DEBUG    urllib3.connectionpool MainThread Starting new HTTPS connection (1): www.openml.org:443\n",
      "2021-06-03 12:55:47,107 DEBUG    urllib3.connectionpool MainThread https://www.openml.org:443 \"GET /data/v1/download/54/vehicle.arff HTTP/1.1\" 200 None\n",
      "2021-06-03 12:55:47,132 INFO     root            MainThread 0.2121582s taken for [get] request for the URL https://www.openml.org/data/v1/download/54/vehicle.arff\n",
      "2021-06-03 12:55:47,136 DEBUG    urllib3.connectionpool MainThread Starting new HTTP connection (1): openml1.win.tue.nl:80\n",
      "2021-06-03 12:55:47,223 DEBUG    urllib3.connectionpool MainThread http://openml1.win.tue.nl:80 \"HEAD /dataset54/dataset_54.pq HTTP/1.1\" 404 0\n",
      "2021-06-03 12:55:47,232 INFO     root            MainThread Starting [get] request for the URL https://www.openml.org/api_splits/get/53/Task_53_splits.arff\n",
      "2021-06-03 12:55:47,236 DEBUG    urllib3.connectionpool MainThread Starting new HTTPS connection (1): www.openml.org:443\n",
      "2021-06-03 12:55:47,498 DEBUG    urllib3.connectionpool MainThread https://www.openml.org:443 \"GET /api_splits/get/53/Task_53_splits.arff HTTP/1.1\" 200 None\n",
      "2021-06-03 12:55:47,530 INFO     root            MainThread 0.2968991s taken for [get] request for the URL https://www.openml.org/api_splits/get/53/Task_53_splits.arff\n",
      "2021-06-03 12:55:47,589 DEBUG    urllib3.connectionpool MainThread Starting new HTTP connection (1): openml1.win.tue.nl:80\n",
      "2021-06-03 12:55:47,676 DEBUG    urllib3.connectionpool MainThread http://openml1.win.tue.nl:80 \"HEAD /dataset54/dataset_54.pq HTTP/1.1\" 404 0\n",
      "2021-06-03 12:55:47,718 INFO     openml.datasets.dataset MainThread pickle write vehicle\n",
      "2021-06-03 12:55:47,720 DEBUG    openml.datasets.dataset MainThread Saved dataset 54: vehicle to file /home/marc/.cache/openml/org/openml/www/datasets/54/dataset.pkl.py3\n",
      "2021-06-03 12:55:47,727 DEBUG    Meta-Features   MainThread Calculating MF\n",
      "2021-06-03 12:55:48,034 DEBUG    Meta-Features   MainThread Calculating MF\n"
     ]
    }
   ],
   "source": [
    "import argparse\n",
    "import logging\n",
    "import os\n",
    "\n",
    "from dswizard.components.classification.random_forest import RandomForest\n",
    "from dswizard.components.data_preprocessing.minmax import MinMaxScalerComponent\n",
    "from dswizard.core.master import Master\n",
    "from dswizard.core.model import Dataset\n",
    "from dswizard.optimizers.bandit_learners.pseudo import PseudoBandit\n",
    "from dswizard.optimizers.config_generators import SmacGenerator\n",
    "from dswizard.optimizers.structure_generators.fixed import FixedStructure\n",
    "from dswizard.optimizers.structure_generators.mcts import TransferLearning, MCTS\n",
    "from dswizard.util import util\n",
    "\n",
    "# Maximum optimization time for in seconds\n",
    "wallclock_limit = 60\n",
    "#Maximum cutoff time for a single evaluation in seconds\n",
    "cutoff = 10\n",
    "# Directory used for logging\n",
    "log_dir = 'run/'\n",
    "# OpenML task id\n",
    "task = 53\n",
    "\n",
    "util.setup_logging(os.path.join(log_dir, str(task), 'log.txt'))\n",
    "logger = logging.getLogger()\n",
    "logging.getLogger('matplotlib').setLevel(logging.WARNING)\n",
    "\n",
    "# Load dataset\n",
    "logger.info('Processing task {}'.format(task))\n",
    "ds, ds_test = Dataset.from_openml(task, 0, 'rocauc')\n"
   ]
  },
  {
   "cell_type": "code",
   "execution_count": 7,
   "id": "a378b69c-23b3-4e95-908d-50e7490198d4",
   "metadata": {},
   "outputs": [
    {
     "name": "stderr",
     "output_type": "stream",
     "text": [
      "2021-06-03 12:57:01,495 INFO     Structure       Thread-8   Loading transfer model from ../dswizard/dswizard/assets/rf_complete.pkl\n",
      "2021-06-03 12:57:02,367 INFO     Worker          MainThread Running on marc-P50 with pid 91377\n",
      "2021-06-03 12:57:02,369 INFO     Master          MainThread starting run at 2021-06-03 12:57:02. Configuration:\n",
      "\twallclock_limit: 60\n",
      "\tcutoff: 10\n",
      "\tpre_sample: False\n",
      "2021-06-03 12:57:02,370 DEBUG    Dispatcher      MainThread Waiting for all workers to finish current work. 0 / 1 busy...\n",
      "2021-06-03 12:57:02,371 INFO     Master          MainThread Starting repetition 0\n",
      "2021-06-03 12:57:02,372 DEBUG    Dispatcher      MainThread Processing job (0, 0, None)\n",
      "2021-06-03 12:57:02,378 DEBUG    Structure       MainProcess \tSelecting ROOT\n",
      "2021-06-03 12:57:02,401 DEBUG    Structure       MainProcess \tExpanding with dswizard.components.classification.multinomial_nb.MultinomialNB. Option 1/35\n",
      "2021-06-03 12:57:02,462 INFO     Worker          MainProcess start transforming job (0, 0, -1)\n",
      "2021-06-03 12:57:02,555 DEBUG    Meta-Features   MainProcess Calculating MF\n",
      "2021-06-03 12:57:02,940 DEBUG    Structure       MainProcess Sampled pipeline structure: [('1', MultinomialNB)]\n",
      "2021-06-03 12:57:02,944 DEBUG    Dispatcher      MainThread job (0, 0, None) finished\n",
      "2021-06-03 12:57:02,945 DEBUG    Master          MainThread Structure callback (0, 0, None)\n",
      "2021-06-03 12:57:02,946 DEBUG    Dispatcher      MainThread Processing job (0, 0, 1)\n",
      "2021-06-03 12:57:03,001 DEBUG    Dispatcher      MainThread job (0, 0, 1) finished with: StatusType.SUCCESS -> -0.7312742505764738\n",
      "2021-06-03 12:57:03,002 DEBUG    Master          MainThread Evaluation callback (0, 0, 1)\n",
      "2021-06-03 12:57:03,010 DEBUG    Dispatcher      MainThread Processing job (0, 0, 2)\n",
      "2021-06-03 12:57:03,067 DEBUG    Dispatcher      MainThread job (0, 0, 2) finished with: StatusType.SUCCESS -> -0.7312847607908598\n",
      "2021-06-03 12:57:03,068 DEBUG    Master          MainThread Evaluation callback (0, 0, 2)\n",
      "2021-06-03 12:57:03,076 DEBUG    Dispatcher      MainThread Processing job (0, 1, None)\n",
      "2021-06-03 12:57:03,077 DEBUG    Structure       MainProcess \tSelecting ROOT\n",
      "2021-06-03 12:57:03,099 DEBUG    Structure       MainProcess \tExpanding with dswizard.components.classification.bernoulli_nb.BernoulliNB. Option 2/35\n",
      "2021-06-03 12:57:03,105 INFO     Worker          MainProcess start transforming job (0, 1, -2)\n",
      "2021-06-03 12:57:03,173 DEBUG    Meta-Features   MainProcess Calculating MF\n",
      "2021-06-03 12:57:03,548 DEBUG    Structure       MainProcess Sampled pipeline structure: [('2', BernoulliNB)]\n",
      "2021-06-03 12:57:03,552 DEBUG    Dispatcher      MainThread job (0, 1, None) finished\n",
      "2021-06-03 12:57:03,553 DEBUG    Master          MainThread Structure callback (0, 1, None)\n",
      "2021-06-03 12:57:03,554 DEBUG    Dispatcher      MainThread Processing job (0, 1, 1)\n",
      "2021-06-03 12:57:03,613 DEBUG    Dispatcher      MainThread job (0, 1, 1) finished with: StatusType.SUCCESS -> -0.49818620795115637\n",
      "2021-06-03 12:57:03,614 DEBUG    Master          MainThread Evaluation callback (0, 1, 1)\n",
      "2021-06-03 12:57:03,620 DEBUG    Dispatcher      MainThread Processing job (0, 1, 2)\n",
      "2021-06-03 12:57:03,677 DEBUG    Dispatcher      MainThread job (0, 1, 2) finished with: StatusType.SUCCESS -> -0.49990939307469845\n",
      "2021-06-03 12:57:03,678 DEBUG    Master          MainThread Evaluation callback (0, 1, 2)\n",
      "2021-06-03 12:57:03,685 DEBUG    Dispatcher      MainThread Processing job (0, 2, None)\n",
      "2021-06-03 12:57:03,686 DEBUG    Structure       MainProcess \tSelecting ROOT\n",
      "2021-06-03 12:57:03,711 DEBUG    Structure       MainProcess \tExpanding with dswizard.components.feature_preprocessing.fast_ica.FastICAComponent. Option 3/35\n",
      "2021-06-03 12:57:03,774 INFO     Worker          MainProcess start transforming job (0, 2, -3)\n",
      "2021-06-03 12:57:04,209 DEBUG    Meta-Features   MainProcess Calculating MF\n",
      "2021-06-03 12:57:04,560 DEBUG    Structure       MainProcess \tExpanding with dswizard.components.classification.random_forest.RandomForest. Option 1/35\n",
      "2021-06-03 12:57:04,638 INFO     Worker          MainProcess start transforming job (0, 2, -4)\n",
      "2021-06-03 12:57:10,242 DEBUG    Meta-Features   MainProcess Calculating MF\n",
      "2021-06-03 12:57:10,613 DEBUG    Structure       MainProcess Sampled pipeline structure: [('3', FastICAComponent), ('4', RandomForest)]\n",
      "2021-06-03 12:57:10,619 DEBUG    Dispatcher      MainThread job (0, 2, None) finished\n",
      "2021-06-03 12:57:10,620 DEBUG    Master          MainThread Structure callback (0, 2, None)\n",
      "2021-06-03 12:57:10,622 DEBUG    Dispatcher      MainThread Processing job (0, 2, 1)\n",
      "/home/marc/phd/code/dswizard/venv/lib/python3.9/site-packages/sklearn/decomposition/_fastica.py:85: RuntimeWarning: invalid value encountered in true_divide\n",
      "  w1 /= np.sqrt((w1 ** 2).sum())\n",
      "2021-06-03 12:57:11,848 DEBUG    Worker          MainThread Worker failed with SVD did not converge in Linear Least Squares\n",
      "2021-06-03 12:57:11,852 DEBUG    Dispatcher      MainThread job (0, 2, 1) finished with: StatusType.CRASHED -> 0\n",
      "2021-06-03 12:57:11,853 DEBUG    Master          MainThread Evaluation callback (0, 2, 1)\n",
      "2021-06-03 12:57:11,864 ERROR    ConfigCache     MainProcess Failed to register results\n",
      "Traceback (most recent call last):\n",
      "  File \"/home/marc/phd/code/dswizard/dswizard/core/config_cache.py\", line 110, in register_result\n",
      "    self.cache[config.cfg_key[0]].generators[config.cfg_key[1]] \\\n",
      "  File \"/home/marc/phd/code/dswizard/dswizard/optimizers/config_generators/smac_generator.py\", line 113, in register_result\n",
      "    self.smbo.register_result(config, loss, status)\n",
      "  File \"/home/marc/phd/code/dswizard/dswizard/optimizers/config_generators/smac_generator.py\", line 68, in register_result\n",
      "    self._incorporate_run_results(info, result, 10)\n",
      "  File \"/home/marc/phd/code/dswizard/venv/lib/python3.9/site-packages/smac/optimizer/smbo.py\", line 477, in _incorporate_run_results\n",
      "    raise FirstRunCrashedException(\n",
      "smac.tae.FirstRunCrashedException: First run crashed, abort. Please check your setup -- we assume that your default configuration does not crashes. (To deactivate this exception, use the SMAC scenario option 'abort_on_first_run_crash'). Additional run info: {}\n",
      "2021-06-03 12:57:11,866 DEBUG    Dispatcher      MainThread Processing job (0, 2, 2)\n",
      "2021-06-03 12:57:21,898 DEBUG    Dispatcher      MainThread job (0, 2, 2) finished with: StatusType.TIMEOUT -> 0\n",
      "2021-06-03 12:57:21,899 DEBUG    Master          MainThread Evaluation callback (0, 2, 2)\n",
      "2021-06-03 12:57:21,909 ERROR    ConfigCache     MainProcess Failed to register results\n",
      "Traceback (most recent call last):\n",
      "  File \"/home/marc/phd/code/dswizard/dswizard/core/config_cache.py\", line 110, in register_result\n",
      "    self.cache[config.cfg_key[0]].generators[config.cfg_key[1]] \\\n",
      "  File \"/home/marc/phd/code/dswizard/dswizard/optimizers/config_generators/smac_generator.py\", line 113, in register_result\n",
      "    self.smbo.register_result(config, loss, status)\n",
      "  File \"/home/marc/phd/code/dswizard/dswizard/optimizers/config_generators/smac_generator.py\", line 68, in register_result\n",
      "    self._incorporate_run_results(info, result, 10)\n",
      "  File \"/home/marc/phd/code/dswizard/venv/lib/python3.9/site-packages/smac/optimizer/smbo.py\", line 484, in _incorporate_run_results\n",
      "    self.incumbent, inc_perf = self.intensifier.process_results(\n",
      "  File \"/home/marc/phd/code/dswizard/venv/lib/python3.9/site-packages/smac/intensification/intensification.py\", line 544, in process_results\n",
      "    incumbent = self._process_racer_results(\n",
      "  File \"/home/marc/phd/code/dswizard/venv/lib/python3.9/site-packages/smac/intensification/intensification.py\", line 843, in _process_racer_results\n",
      "    new_incumbent = self._compare_configs(\n",
      "  File \"/home/marc/phd/code/dswizard/venv/lib/python3.9/site-packages/smac/intensification/abstract_racer.py\", line 384, in _compare_configs\n",
      "    self._log_incumbent_changes(incumbent, challenger)\n",
      "  File \"/home/marc/phd/code/dswizard/venv/lib/python3.9/site-packages/smac/intensification/abstract_racer.py\", line 401, in _log_incumbent_changes\n",
      "    params = sorted([(param, incumbent[param], challenger[param]) for param in challenger.keys()])\n",
      "  File \"/home/marc/phd/code/dswizard/venv/lib/python3.9/site-packages/smac/intensification/abstract_racer.py\", line 401, in <listcomp>\n",
      "    params = sorted([(param, incumbent[param], challenger[param]) for param in challenger.keys()])\n",
      "TypeError: 'NoneType' object is not subscriptable\n",
      "2021-06-03 12:57:21,924 DEBUG    Dispatcher      MainThread Processing job (0, 3, None)\n",
      "2021-06-03 12:57:21,926 DEBUG    Structure       MainProcess \tSelecting ROOT\n",
      "2021-06-03 12:57:21,953 DEBUG    Structure       MainProcess \tExpanding with dswizard.components.classification.linear_discriminant_analysis.LinearDiscriminantAnalysis. Option 4/35\n",
      "2021-06-03 12:57:22,015 INFO     Worker          MainProcess start transforming job (0, 3, -5)\n",
      "2021-06-03 12:57:22,118 DEBUG    Meta-Features   MainProcess Calculating MF\n",
      "2021-06-03 12:57:22,514 DEBUG    Structure       MainProcess Sampled pipeline structure: [('5', LinearDiscriminantAnalysis)]\n",
      "2021-06-03 12:57:22,519 DEBUG    Dispatcher      MainThread job (0, 3, None) finished\n",
      "2021-06-03 12:57:22,520 DEBUG    Master          MainThread Structure callback (0, 3, None)\n",
      "2021-06-03 12:57:22,521 DEBUG    Dispatcher      MainThread Processing job (0, 3, 1)\n",
      "2021-06-03 12:57:22,642 DEBUG    Dispatcher      MainThread job (0, 3, 1) finished with: StatusType.SUCCESS -> -0.7442089808166346\n",
      "2021-06-03 12:57:22,643 DEBUG    Master          MainThread Evaluation callback (0, 3, 1)\n",
      "2021-06-03 12:57:22,651 DEBUG    Dispatcher      MainThread Processing job (0, 3, 2)\n",
      "2021-06-03 12:57:22,776 DEBUG    Dispatcher      MainThread job (0, 3, 2) finished with: StatusType.SUCCESS -> -0.9377183909720513\n",
      "2021-06-03 12:57:22,777 DEBUG    Master          MainThread Evaluation callback (0, 3, 2)\n",
      "2021-06-03 12:57:22,784 DEBUG    Dispatcher      MainThread Processing job (0, 4, None)\n",
      "2021-06-03 12:57:22,786 DEBUG    Structure       MainProcess \tSelecting ROOT\n",
      "2021-06-03 12:57:22,812 DEBUG    Structure       MainProcess \tExpanding with dswizard.components.feature_preprocessing.missing_indicator.MissingIndicatorComponent. Option 5/35\n",
      "2021-06-03 12:57:22,867 INFO     Worker          MainProcess start transforming job (0, 4, -6)\n",
      "2021-06-03 12:57:22,928 DEBUG    Meta-Features   MainProcess Calculating MF\n",
      "2021-06-03 12:57:22,998 WARNING  Meta-Features   MainProcess Failed to extract MF due to float division by zero\n",
      "2021-06-03 12:57:23,024 DEBUG    Structure       MainProcess \tExpanding with dswizard.components.classification.sgd.SGDClassifier. Option 6/35\n",
      "2021-06-03 12:57:23,131 INFO     Worker          MainProcess start transforming job (0, 4, -7)\n",
      "2021-06-03 12:57:23,191 DEBUG    Worker          MainProcess Worker failed with probability estimates are not available for loss='hinge'\n",
      "2021-06-03 12:57:23,193 DEBUG    Structure       MainProcess \tdswizard.components.classification.sgd.SGDClassifier failed with default hyperparamter: StatusType.CRASHED\n",
      "2021-06-03 12:57:23,217 DEBUG    Structure       MainProcess \tExpanding with dswizard.components.feature_preprocessing.multi_column_label_encoder.MultiColumnLabelEncoderComponent. Option 7/35\n",
      "2021-06-03 12:57:23,274 INFO     Worker          MainProcess start transforming job (0, 4, -8)\n",
      "2021-06-03 12:57:23,336 DEBUG    Meta-Features   MainProcess Calculating MF\n",
      "2021-06-03 12:57:23,671 DEBUG    Structure       MainProcess \tdswizard.components.feature_preprocessing.multi_column_label_encoder.MultiColumnLabelEncoderComponent did not modify dataset\n",
      "2021-06-03 12:57:23,694 DEBUG    Structure       MainProcess \tExpanding with dswizard.components.data_preprocessing.robust_scaler.RobustScalerComponent. Option 8/35\n",
      "2021-06-03 12:57:23,750 INFO     Worker          MainProcess start transforming job (0, 4, -9)\n",
      "2021-06-03 12:57:23,810 DEBUG    Meta-Features   MainProcess Calculating MF\n",
      "2021-06-03 12:57:24,161 DEBUG    Structure       MainProcess \tExpanding with dswizard.components.classification.random_forest.RandomForest. Option 1/35\n",
      "2021-06-03 12:57:24,189 INFO     Worker          MainProcess start transforming job (0, 4, -10)\n",
      "2021-06-03 12:57:28,658 DEBUG    Meta-Features   MainProcess Calculating MF\n",
      "2021-06-03 12:57:29,048 DEBUG    Structure       MainProcess Sampled pipeline structure: [('9', RobustScalerComponent), ('10', RandomForest)]\n",
      "2021-06-03 12:57:29,054 DEBUG    Dispatcher      MainThread job (0, 4, None) finished\n",
      "2021-06-03 12:57:29,054 DEBUG    Master          MainThread Structure callback (0, 4, None)\n",
      "2021-06-03 12:57:29,056 DEBUG    Dispatcher      MainThread Processing job (0, 4, 1)\n",
      "2021-06-03 12:57:34,340 DEBUG    Dispatcher      MainThread job (0, 4, 1) finished with: StatusType.SUCCESS -> -0.9226390782581435\n",
      "2021-06-03 12:57:34,341 DEBUG    Master          MainThread Evaluation callback (0, 4, 1)\n",
      "2021-06-03 12:57:34,352 DEBUG    Dispatcher      MainThread Processing job (0, 4, 2)\n",
      "2021-06-03 12:57:41,036 DEBUG    Dispatcher      MainThread job (0, 4, 2) finished with: StatusType.SUCCESS -> -0.9171368862181417\n",
      "2021-06-03 12:57:41,037 DEBUG    Master          MainThread Evaluation callback (0, 4, 2)\n",
      "2021-06-03 12:57:41,048 DEBUG    Dispatcher      MainThread Processing job (0, 5, None)\n",
      "2021-06-03 12:57:41,050 DEBUG    Structure       MainProcess \tSelecting ROOT\n",
      "2021-06-03 12:57:41,051 DEBUG    Structure       MainProcess \tSelecting RobustScaler\n",
      "2021-06-03 12:57:41,072 DEBUG    Structure       MainProcess \tExpanding with dswizard.components.classification.linear_discriminant_analysis.LinearDiscriminantAnalysis. Option 2/35\n",
      "2021-06-03 12:57:41,100 INFO     Worker          MainProcess start transforming job (0, 5, -11)\n",
      "2021-06-03 12:57:41,204 DEBUG    Meta-Features   MainProcess Calculating MF\n",
      "2021-06-03 12:57:41,625 DEBUG    Structure       MainProcess \tdswizard.components.classification.linear_discriminant_analysis.LinearDiscriminantAnalysis produced a dataset similar to 7\n",
      "2021-06-03 12:57:41,651 DEBUG    Structure       MainProcess \tExpanding with dswizard.components.feature_preprocessing.factor_analysis.FactorAnalysisComponent. Option 3/35\n",
      "2021-06-03 12:57:41,721 INFO     Worker          MainProcess start transforming job (0, 5, -12)\n",
      "2021-06-03 12:57:41,968 DEBUG    Meta-Features   MainProcess Calculating MF\n",
      "2021-06-03 12:57:42,128 DEBUG    Structure       MainProcess \tExpanding with dswizard.components.classification.ada_boosting.AdaBoostingClassifier. Option 1/35\n",
      "2021-06-03 12:57:42,189 INFO     Worker          MainProcess start transforming job (0, 5, -13)\n",
      "2021-06-03 12:57:42,737 DEBUG    Meta-Features   MainProcess Calculating MF\n",
      "2021-06-03 12:57:42,955 DEBUG    Structure       MainProcess Sampled pipeline structure: [('9', RobustScalerComponent), ('12', FactorAnalysisComponent), ('13', AdaBoostingClassifier)]\n",
      "2021-06-03 12:57:42,963 DEBUG    Dispatcher      MainThread job (0, 5, None) finished\n",
      "2021-06-03 12:57:42,964 DEBUG    Master          MainThread Structure callback (0, 5, None)\n",
      "2021-06-03 12:57:42,965 DEBUG    Dispatcher      MainThread Processing job (0, 5, 1)\n",
      "2021-06-03 12:57:48,404 DEBUG    Dispatcher      MainThread job (0, 5, 1) finished with: StatusType.SUCCESS -> -0.7982794875930137\n",
      "2021-06-03 12:57:48,404 DEBUG    Master          MainThread Evaluation callback (0, 5, 1)\n",
      "2021-06-03 12:57:48,415 DEBUG    Dispatcher      MainThread Processing job (0, 5, 2)\n",
      "2021-06-03 12:57:54,773 DEBUG    Dispatcher      MainThread job (0, 5, 2) finished with: StatusType.SUCCESS -> -0.7668504719715646\n",
      "2021-06-03 12:57:54,774 DEBUG    Master          MainThread Evaluation callback (0, 5, 2)\n",
      "2021-06-03 12:57:54,789 DEBUG    Dispatcher      MainThread Processing job (0, 6, None)\n",
      "2021-06-03 12:57:54,791 DEBUG    Structure       MainProcess \tSelecting ROOT\n",
      "2021-06-03 12:57:54,792 DEBUG    Structure       MainProcess \tSelecting LinearDiscriminantAnalysis\n",
      "2021-06-03 12:57:54,812 DEBUG    Structure       MainProcess \tExpanding with dswizard.components.classification.random_forest.RandomForest. Option 1/35\n",
      "2021-06-03 12:57:54,837 INFO     Worker          MainProcess start transforming job (0, 6, -14)\n",
      "2021-06-03 12:57:59,621 DEBUG    Meta-Features   MainProcess Calculating MF\n",
      "2021-06-03 12:58:00,100 DEBUG    Structure       MainProcess Sampled pipeline structure: [('5', LinearDiscriminantAnalysis), ('14', RandomForest)]\n",
      "2021-06-03 12:58:00,108 DEBUG    Dispatcher      MainThread job (0, 6, None) finished\n",
      "2021-06-03 12:58:00,109 DEBUG    Master          MainThread Structure callback (0, 6, None)\n",
      "2021-06-03 12:58:00,111 DEBUG    Dispatcher      MainThread Processing job (0, 6, 1)\n",
      "2021-06-03 12:58:05,948 DEBUG    Dispatcher      MainThread job (0, 6, 1) finished with: StatusType.SUCCESS -> -0.9205561365855214\n",
      "2021-06-03 12:58:05,949 DEBUG    Master          MainThread Evaluation callback (0, 6, 1)\n",
      "2021-06-03 12:58:05,959 INFO     Master          MainThread Timeout reached. Stopping optimization\n",
      "2021-06-03 12:58:05,960 DEBUG    Dispatcher      MainThread Waiting for all workers to finish current work. 0 / 1 busy...\n",
      "2021-06-03 12:58:05,961 INFO     Master          MainThread Shutdown initiated\n",
      "2021-06-03 12:58:06,964 WARNING  Structure       MainProcess Saving search graph is not possible. Please ensure that visualization is correctly setup: requires pygraphviz http://pygraphviz.github.io/\n",
      "2021-06-03 12:58:07,059 INFO     Master          MainThread Finished run after 65 seconds\n",
      "2021-06-03 12:58:08,836 DEBUG    Meta-Features   MainThread Calculating MF\n",
      "2021-06-03 12:58:09,110 DEBUG    Ensemble        MainThread Loading models\n",
      "2021-06-03 12:58:13,696 INFO     Ensemble        MainThread Loaded 32 models. Failed to load 0 models\n",
      "2021-06-03 12:58:13,697 DEBUG    Ensemble        MainThread Building bagged ensemble\n",
      "2021-06-03 12:58:19,927 DEBUG    Ensemble        MainThread Ensemble constructed\n"
     ]
    }
   ],
   "source": [
    "master = Master(\n",
    "    ds=ds,\n",
    "    working_directory=os.path.join(log_dir, str(task)),\n",
    "    n_workers=1,\n",
    "    model='../dswizard/dswizard/assets/rf_complete.pkl',\n",
    "\n",
    "    wallclock_limit=wallclock_limit,\n",
    "    cutoff=cutoff,\n",
    "    pre_sample=False,\n",
    "\n",
    "    config_generator_class=SmacGenerator,\n",
    "\n",
    "    structure_generator_class=MCTS,\n",
    "    structure_generator_kwargs={'policy': TransferLearning},\n",
    "\n",
    "    bandit_learner_class=PseudoBandit\n",
    ")\n",
    "\n",
    "pipeline, run_history, ensemble = master.optimize()"
   ]
  },
  {
   "cell_type": "code",
   "execution_count": 10,
   "id": "df9dbc18-719c-45fa-b76f-d1e2081158cc",
   "metadata": {},
   "outputs": [
    {
     "name": "stderr",
     "output_type": "stream",
     "text": [
      "2021-06-03 12:59:40,046 INFO     root            MainThread Best found configuration: [('3', FastICAComponent), ('4', RandomForest)]\n",
      "Configuration:\n",
      "  3:algorithm, Value: 'parallel'\n",
      "  3:fun, Value: 'logcosh'\n",
      "  3:n_components_factor, Value: 1.0\n",
      "  3:whiten, Value: True\n",
      "  4:bootstrap, Value: True\n",
      "  4:criterion, Value: 'gini'\n",
      "  4:max_features, Value: 0.5\n",
      "  4:min_impurity_decrease, Constant: 0.0\n",
      "  4:min_samples_leaf, Value: 1\n",
      "  4:min_samples_split, Value: 2\n",
      "  4:min_weight_fraction_leaf, Constant: 0.0\n",
      "  4:n_estimators, Constant: 512\n",
      " with loss -0.9442383277716109\n",
      "2021-06-03 12:59:40,047 INFO     root            MainThread A total of 7 unique structures where sampled.\n",
      "2021-06-03 12:59:40,048 INFO     root            MainThread A total of 20 runs where executed.\n",
      "2021-06-03 12:59:40,154 INFO     root            MainThread Final pipeline:\n",
      "FlexiblePipeline(configuration={'3:algorithm': 'parallel', '3:fun': 'logcosh',\n",
      "                                '3:n_components_factor': 1.0, '3:whiten': True,\n",
      "                                '4:bootstrap': True, '4:criterion': 'gini',\n",
      "                                '4:max_features': 0.5,\n",
      "                                '4:min_impurity_decrease': 0.0,\n",
      "                                '4:min_samples_leaf': 1,\n",
      "                                '4:min_samples_split': 2,\n",
      "                                '4:min_weight_fraction_leaf': 0.0,\n",
      "                                '4:n_estimators': 512},\n",
      "                 ('steps', [('3', FastICAComponent), ('4', RandomForest)]))\n",
      "2021-06-03 12:59:40,157 INFO     root            MainThread Final test performance -0.5707555393952454\n",
      "2021-06-03 12:59:41,273 INFO     root            MainThread Final ensemble performance -0.5 based on 13 individuals\n"
     ]
    }
   ],
   "source": [
    "# Analysis\n",
    "_, incumbent = run_history.get_incumbent()\n",
    "\n",
    "logging.info(f'Best found configuration: {incumbent.steps}\\n'\n",
    "             f'{incumbent.get_incumbent().config} with loss {incumbent.get_incumbent().loss}')\n",
    "logging.info(f'A total of {len(run_history.data)} unique structures where sampled.')\n",
    "logging.info(f'A total of {len(run_history.get_all_runs())} runs where executed.')\n",
    "\n",
    "y_pred = pipeline.predict(ds_test.X)\n",
    "y_prob = pipeline.predict_proba(ds_test.X)\n",
    "\n",
    "logging.info(f'Final pipeline:\\n{pipeline}')\n",
    "logging.info(f'Final test performance {util.score(ds_test.y, y_prob, y_pred, ds.metric)}')\n",
    "logging.info(f'Final ensemble performance '\n",
    "             f'{util.score(ds_test.y, ensemble.predict_proba(ds_test.X), ensemble.predict(ds_test.X), ds.metric)} '\n",
    "             f'based on {len(ensemble.estimators_)} individuals')"
   ]
  },
  {
   "cell_type": "code",
   "execution_count": 12,
   "id": "12bf7783-ac66-4711-a59e-298196b89530",
   "metadata": {},
   "outputs": [
    {
     "data": {
      "application/xautoml": {
       "configs": {
        "0:0": [
         {
          "config": {
           "1:alpha": 1,
           "1:fit_prior": true
          },
          "loss": [
           -0.7313452925709422,
           -0.3153252628114059
          ],
          "runtime": {
           "timestamp": 0.18596672600142483,
           "total": 0.03995203971862793
          },
          "status": "SUCCESS"
         },
         {
          "config": {
           "1:alpha": 1.0000000000000009,
           "1:fit_prior": false
          },
          "loss": [
           -0.7312742505764738,
           -0.31617693024837956
          ],
          "runtime": {
           "timestamp": 0.6306345120010519,
           "total": 0.03990960121154785
          },
          "status": "SUCCESS"
         },
         {
          "config": {
           "1:alpha": 10.00000000000001,
           "1:fit_prior": true
          },
          "loss": [
           -0.7312847607908598,
           -0.3153252628114059
          ],
          "runtime": {
           "timestamp": 0.6966386680014693,
           "total": 0.041910409927368164
          },
          "status": "SUCCESS"
         }
        ],
        "0:1": [
         {
          "config": {
           "2:alpha": 1,
           "2:fit_prior": true
          },
          "loss": [
           -0.49914522512428156,
           -0.1467409461737347
          ],
          "runtime": {
           "timestamp": 0.8042407070006448,
           "total": 0.038079023361206055
          },
          "status": "SUCCESS"
         },
         {
          "config": {
           "2:alpha": 0.10000000000000006,
           "2:fit_prior": false
          },
          "loss": [
           -0.49818620795115637,
           -0.1467409461737347
          ],
          "runtime": {
           "timestamp": 1.2425112360015191,
           "total": 0.042944908142089844
          },
          "status": "SUCCESS"
         },
         {
          "config": {
           "2:alpha": 0.31622776601683816,
           "2:fit_prior": true
          },
          "loss": [
           -0.49990939307469845,
           -0.1467409461737347
          ],
          "runtime": {
           "timestamp": 1.3064384040008008,
           "total": 0.04140734672546387
          },
          "status": "SUCCESS"
         }
        ],
        "0:2": [
         {
          "config": {
           "3:algorithm": "parallel",
           "3:fun": "logcosh",
           "3:n_components_factor": 1,
           "3:whiten": true,
           "4:bootstrap": true,
           "4:criterion": "gini",
           "4:max_features": 0.5,
           "4:min_impurity_decrease": 0,
           "4:min_samples_leaf": 1,
           "4:min_samples_split": 2,
           "4:min_weight_fraction_leaf": 0,
           "4:n_estimators": 512
          },
          "loss": [
           -0.9442383277716109,
           -0.7304972229722304
          ],
          "runtime": {
           "timestamp": 7.87289638600123,
           "total": 5.57445764541626
          },
          "status": "SUCCESS"
         },
         {
          "config": {
           "3:algorithm": "deflation",
           "3:fun": "exp",
           "3:whiten": false,
           "4:bootstrap": true,
           "4:criterion": "gini",
           "4:max_features": 0.6525678439236958,
           "4:min_impurity_decrease": 0,
           "4:min_samples_leaf": 9,
           "4:min_samples_split": 12,
           "4:min_weight_fraction_leaf": 0,
           "4:n_estimators": 512
          },
          "loss": [
           0,
           0
          ],
          "runtime": {
           "timestamp": 9.480682030000025,
           "total": 1.2033400535583496
          },
          "status": "CRASHED"
         },
         {
          "config": {
           "3:algorithm": "deflation",
           "3:fun": "logcosh",
           "3:whiten": false,
           "4:bootstrap": false,
           "4:criterion": "entropy",
           "4:max_features": 0.5,
           "4:min_impurity_decrease": 0,
           "4:min_samples_leaf": 10,
           "4:min_samples_split": 11,
           "4:min_weight_fraction_leaf": 0,
           "4:n_estimators": 512
          },
          "loss": [
           0,
           0
          ],
          "runtime": {
           "timestamp": 19.525746559000254,
           "total": 10.011215209960938
          },
          "status": "TIMEOUT"
         }
        ],
        "0:3": [
         {
          "config": {
           "5:n_components_factor": 1,
           "5:solver": "svd",
           "5:tol": 0.0001
          },
          "loss": [
           -0.9377183909720513,
           -0.6248391905776088
          ],
          "runtime": {
           "timestamp": 19.749160189001486,
           "total": 0.06871747970581055
          },
          "status": "SUCCESS"
         },
         {
          "config": {
           "5:n_components_factor": 0.50000005,
           "5:shrinkage": 0.5,
           "5:solver": "lsqr",
           "5:tol": 0.00031622776601683783
          },
          "loss": [
           -0.7442089808166346,
           -0.2987304125603977
          ],
          "runtime": {
           "timestamp": 20.271594109000944,
           "total": 0.09330129623413086
          },
          "status": "SUCCESS"
         },
         {
          "config": {
           "5:n_components_factor": 0.750000025,
           "5:solver": "svd",
           "5:tol": 0.01778279410038921
          },
          "loss": [
           -0.9377183909720513,
           -0.6248391905776088
          ],
          "runtime": {
           "timestamp": 20.405583308000132,
           "total": 0.09337401390075684
          },
          "status": "SUCCESS"
         }
        ],
        "0:4": [
         {
          "config": {
           "10:bootstrap": true,
           "10:criterion": "gini",
           "10:max_features": 0.5,
           "10:min_impurity_decrease": 0,
           "10:min_samples_leaf": 1,
           "10:min_samples_split": 2,
           "10:min_weight_fraction_leaf": 0,
           "10:n_estimators": 512,
           "9:q_max": 75,
           "9:q_min": 25
          },
          "loss": [
           -0.9250563936273731,
           -0.7278278534218527
          ],
          "runtime": {
           "timestamp": 26.289063810001608,
           "total": 4.438600778579712
          },
          "status": "SUCCESS"
         },
         {
          "config": {
           "10:bootstrap": false,
           "10:criterion": "entropy",
           "10:max_features": 0.5,
           "10:min_impurity_decrease": 0,
           "10:min_samples_leaf": 10,
           "10:min_samples_split": 11,
           "10:min_weight_fraction_leaf": 0,
           "10:n_estimators": 512,
           "9:q_max": 84.95,
           "9:q_min": 15.049999999999999
          },
          "loss": [
           -0.9226390782581435,
           -0.6802601536802619
          ],
          "runtime": {
           "timestamp": 31.96876108200013,
           "total": 5.266148090362549
          },
          "status": "SUCCESS"
         },
         {
          "config": {
           "10:bootstrap": false,
           "10:criterion": "gini",
           "10:max_features": 0.75,
           "10:min_impurity_decrease": 0,
           "10:min_samples_leaf": 6,
           "10:min_samples_split": 16,
           "10:min_weight_fraction_leaf": 0,
           "10:n_estimators": 512,
           "9:q_max": 92.42500000000001,
           "9:q_min": 7.574999999999999
          },
          "loss": [
           -0.9171368862181417,
           -0.6854028879031981
          ],
          "runtime": {
           "timestamp": 38.66415496599984,
           "total": 6.664902687072754
          },
          "status": "SUCCESS"
         }
        ],
        "0:5": [
         {
          "config": {
           "12:iterated_power": 3,
           "12:max_iter": 1000,
           "12:n_components_factor": 10,
           "12:svd_method": "randomized",
           "12:tol": 0.01,
           "13:algorithm": "SAMME.R",
           "13:learning_rate": 1,
           "13:n_estimators": 50,
           "9:q_max": 75,
           "9:q_min": 25
          },
          "loss": [
           -0.8307733475738814,
           -0.5075259023074432
          ],
          "runtime": {
           "timestamp": 40.36830347200157,
           "total": 0.520439863204956
          },
          "status": "SUCCESS"
         },
         {
          "config": {
           "12:iterated_power": 6,
           "12:max_iter": 1005,
           "12:n_components_factor": 126,
           "12:svd_method": "randomized",
           "12:tol": 0.0010000000000000002,
           "13:algorithm": "SAMME.R",
           "13:learning_rate": 0.14142135623730953,
           "13:n_estimators": 275,
           "9:q_max": 77.475,
           "9:q_min": 22.525
          },
          "loss": [
           -0.7982794875930137,
           -0.4652933365339917
          ],
          "runtime": {
           "timestamp": 46.031574072001604,
           "total": 5.420053720474243
          },
          "status": "SUCCESS"
         },
         {
          "config": {
           "12:iterated_power": 8,
           "12:max_iter": 1503,
           "12:n_components_factor": 63,
           "12:svd_method": "randomized",
           "12:tol": 9.999999999999991e-05,
           "13:algorithm": "SAMME.R",
           "13:learning_rate": 0.03760603093086396,
           "13:n_estimators": 388,
           "9:q_max": 81.2125,
           "9:q_min": 11.312499999999998
          },
          "loss": [
           -0.7668504719715646,
           -0.42890998167665845
          ],
          "runtime": {
           "timestamp": 52.400922034999894,
           "total": 6.3375115394592285
          },
          "status": "SUCCESS"
         }
        ],
        "0:6": [
         {
          "config": {
           "14:bootstrap": true,
           "14:criterion": "gini",
           "14:max_features": 0.5,
           "14:min_impurity_decrease": 0,
           "14:min_samples_leaf": 1,
           "14:min_samples_split": 2,
           "14:min_weight_fraction_leaf": 0,
           "14:n_estimators": 512,
           "5:n_components_factor": 1,
           "5:solver": "svd",
           "5:tol": 0.0001
          },
          "loss": [
           -0.9378520226762117,
           -0.729039819772392
          ],
          "runtime": {
           "timestamp": 57.25230411099983,
           "total": 4.748339414596558
          },
          "status": "SUCCESS"
         },
         {
          "config": {
           "14:bootstrap": false,
           "14:criterion": "entropy",
           "14:max_features": 0.5,
           "14:min_impurity_decrease": 0,
           "14:min_samples_leaf": 10,
           "14:min_samples_split": 11,
           "14:min_weight_fraction_leaf": 0,
           "14:n_estimators": 512,
           "5:n_components_factor": 0.250000075,
           "5:shrinkage": 0.75,
           "5:solver": "lsqr",
           "5:tol": 5.623413251903493e-06
          },
          "loss": [
           -0.9205561365855214,
           -0.6763702463193974
          ],
          "runtime": {
           "timestamp": 63.57610419699995,
           "total": 5.817324161529541
          },
          "status": "SUCCESS"
         }
        ]
       },
       "structures": [
        {
         "budget": 2,
         "cfg_keys": [
          [
           -1657604997454422000,
           0
          ]
         ],
         "cid": [
          0,
          0,
          null
         ],
         "configspace": "{\n  \"hyperparameters\": [\n    {\n      \"name\": \"1:alpha\",\n      \"type\": \"uniform_float\",\n      \"log\": true,\n      \"lower\": 0.01,\n      \"upper\": 100.0,\n      \"default\": 1.0\n    },\n    {\n      \"name\": \"1:fit_prior\",\n      \"type\": \"categorical\",\n      \"choices\": [\n        true,\n        false\n      ],\n      \"default\": true,\n      \"probabilities\": null\n    }\n  ],\n  \"conditions\": [],\n  \"forbiddens\": [],\n  \"python_module_version\": \"0.4.18\",\n  \"json_format_version\": 0.2\n}",
         "explanations": {
          "1622717822.942688": [
           {
            "structure": {
             "edges": {
              "0": [
               1
              ]
             },
             "nodes": {
              "0": {
               "failure_message": null,
               "label": "ROOT",
               "policy": {
                "adjusted_exploration": 0,
                "adjusted_score": 0.3150173279844416,
                "exploitation": 0.3153252628114059,
                "exploration": 0,
                "overfitting": 0.9990234375,
                "score": 0.3153252628114059
               },
               "reward": -0.3153252628114059,
               "visits": 1
              },
              "1": {
               "failure_message": null,
               "label": "MultinomialNB",
               "policy": {
                "adjusted_exploration": 0,
                "adjusted_score": 0.31470939315747737,
                "exploitation": 0.3153252628114059,
                "exploration": 0,
                "overfitting": 0.998046875,
                "score": 0.3153252628114059
               },
               "reward": -0.3153252628114059,
               "visits": 1
              }
             }
            },
            "timestamp": 1622717822.942688
           }
          ]
         },
         "pipeline": [
          [
           "1",
           "dswizard.components.classification.multinomial_nb.MultinomialNB"
          ]
         ]
        },
        {
         "budget": 2,
         "cfg_keys": [
          [
           -1657604997454422000,
           0
          ]
         ],
         "cid": [
          0,
          1,
          null
         ],
         "configspace": "{\n  \"hyperparameters\": [\n    {\n      \"name\": \"2:alpha\",\n      \"type\": \"uniform_float\",\n      \"log\": true,\n      \"lower\": 0.01,\n      \"upper\": 100.0,\n      \"default\": 1.0\n    },\n    {\n      \"name\": \"2:fit_prior\",\n      \"type\": \"categorical\",\n      \"choices\": [\n        true,\n        false\n      ],\n      \"default\": true,\n      \"probabilities\": null\n    }\n  ],\n  \"conditions\": [],\n  \"forbiddens\": [],\n  \"python_module_version\": \"0.4.18\",\n  \"json_format_version\": 0.2\n}",
         "explanations": {
          "1622717823.5509593": [
           {
            "structure": {
             "edges": {
              "0": [
               1,
               2
              ]
             },
             "nodes": {
              "0": {
               "failure_message": null,
               "label": "ROOT",
               "policy": {
                "adjusted_exploration": 0,
                "adjusted_score": 0.27312511603807604,
                "exploitation": 0.27339210051123153,
                "exploration": 0,
                "overfitting": 0.9990234375,
                "score": 0.27339210051123153
               },
               "reward": -1.0935684020449261,
               "visits": 4
              },
              "1": {
               "failure_message": null,
               "label": "MultinomialNB",
               "policy": {
                "adjusted_exploration": 1.3595559868917453,
                "adjusted_score": 1.671893331936995,
                "exploitation": 0.3156091519570638,
                "exploration": 0.6797779934458726,
                "overfitting": 0.998046875,
                "score": 1.6751651388488091
               },
               "reward": -0.9468274558711913,
               "visits": 3
              },
              "2": {
               "failure_message": null,
               "label": "BernoulliNB",
               "policy": {
                "adjusted_exploration": 2.3548200450309493,
                "adjusted_score": 2.4966751298937373,
                "exploitation": 0.1467409461737347,
                "exploration": 1.1774100225154747,
                "overfitting": 0.998046875,
                "score": 2.501560991204684
               },
               "reward": -0.1467409461737347,
               "visits": 1
              }
             }
            },
            "timestamp": 1622717823.5509593
           }
          ]
         },
         "pipeline": [
          [
           "2",
           "dswizard.components.classification.bernoulli_nb.BernoulliNB"
          ]
         ]
        },
        {
         "budget": 2,
         "cfg_keys": [
          [
           -4713450882943247000,
           0
          ],
          [
           -3460632130797079000,
           0
          ]
         ],
         "cid": [
          0,
          2,
          null
         ],
         "configspace": "{\n  \"hyperparameters\": [\n    {\n      \"name\": \"3:algorithm\",\n      \"type\": \"categorical\",\n      \"choices\": [\n        \"parallel\",\n        \"deflation\"\n      ],\n      \"default\": \"parallel\",\n      \"probabilities\": null\n    },\n    {\n      \"name\": \"3:fun\",\n      \"type\": \"categorical\",\n      \"choices\": [\n        \"logcosh\",\n        \"exp\",\n        \"cube\"\n      ],\n      \"default\": \"logcosh\",\n      \"probabilities\": null\n    },\n    {\n      \"name\": \"3:whiten\",\n      \"type\": \"categorical\",\n      \"choices\": [\n        true,\n        false\n      ],\n      \"default\": true,\n      \"probabilities\": null\n    },\n    {\n      \"name\": \"4:bootstrap\",\n      \"type\": \"categorical\",\n      \"choices\": [\n        true,\n        false\n      ],\n      \"default\": true,\n      \"probabilities\": null\n    },\n    {\n      \"name\": \"4:criterion\",\n      \"type\": \"categorical\",\n      \"choices\": [\n        \"gini\",\n        \"entropy\"\n      ],\n      \"default\": \"gini\",\n      \"probabilities\": null\n    },\n    {\n      \"name\": \"4:max_features\",\n      \"type\": \"uniform_float\",\n      \"log\": false,\n      \"lower\": 0.0,\n      \"upper\": 1.0,\n      \"default\": 0.5\n    },\n    {\n      \"name\": \"4:min_impurity_decrease\",\n      \"type\": \"constant\",\n      \"value\": 0.0\n    },\n    {\n      \"name\": \"4:min_samples_leaf\",\n      \"type\": \"uniform_int\",\n      \"log\": false,\n      \"lower\": 1,\n      \"upper\": 20,\n      \"default\": 1\n    },\n    {\n      \"name\": \"4:min_samples_split\",\n      \"type\": \"uniform_int\",\n      \"log\": false,\n      \"lower\": 2,\n      \"upper\": 20,\n      \"default\": 2\n    },\n    {\n      \"name\": \"4:min_weight_fraction_leaf\",\n      \"type\": \"constant\",\n      \"value\": 0.0\n    },\n    {\n      \"name\": \"4:n_estimators\",\n      \"type\": \"constant\",\n      \"value\": 512\n    },\n    {\n      \"name\": \"3:n_components_factor\",\n      \"type\": \"uniform_float\",\n      \"log\": false,\n      \"lower\": 0.0,\n      \"upper\": 1.0,\n      \"default\": 1.0\n    }\n  ],\n  \"conditions\": [\n    {\n      \"child\": \"3:n_components_factor\",\n      \"parent\": \"3:whiten\",\n      \"type\": \"EQ\",\n      \"value\": true\n    }\n  ],\n  \"forbiddens\": [],\n  \"python_module_version\": \"0.4.18\",\n  \"json_format_version\": 0.2\n}",
         "explanations": {
          "1622717830.6174114": [
           {
            "structure": {
             "edges": {
              "0": [
               1,
               2,
               3
              ],
              "3": [
               4
              ]
             },
             "nodes": {
              "0": {
               "failure_message": null,
               "label": "ROOT",
               "policy": {
                "adjusted_exploration": 0,
                "adjusted_score": 0.3022113714095999,
                "exploitation": 0.30250678819494653,
                "exploration": 0,
                "overfitting": 0.9990234375,
                "score": 0.30250678819494653
               },
               "reward": -2.117547517364626,
               "visits": 7
              },
              "1": {
               "failure_message": null,
               "label": "MultinomialNB",
               "policy": {
                "adjusted_exploration": 1.6107597168439136,
                "adjusted_score": 1.9226064296041006,
                "exploitation": 0.3156091519570638,
                "exploration": 0.8053798584219568,
                "overfitting": 0.998046875,
                "score": 1.9263688688009775
               },
               "reward": -0.9468274558711913,
               "visits": 3
              },
              "2": {
               "failure_message": null,
               "label": "BernoulliNB",
               "policy": {
                "adjusted_exploration": 1.6107597168439136,
                "adjusted_score": 1.7540680445351922,
                "exploitation": 0.1467409461737347,
                "exploration": 0.8053798584219568,
                "overfitting": 0.998046875,
                "score": 1.7575006630176484
               },
               "reward": -0.44022283852120414,
               "visits": 3
              },
              "3": {
               "failure_message": null,
               "label": "FastICA",
               "policy": {
                "adjusted_exploration": 2.7899176683589166,
                "adjusted_score": 3.513539080996516,
                "exploitation": 0.7304972229722304,
                "exploration": 1.3949588341794583,
                "overfitting": 0.998046875,
                "score": 3.5204148913311473
               },
               "reward": -0.7304972229722304,
               "visits": 1
              },
              "4": {
               "failure_message": null,
               "label": "RandomForest",
               "policy": {
                "adjusted_exploration": 0,
                "adjusted_score": 0.7276437181949952,
                "exploitation": 0.7304972229722304,
                "exploration": 0,
                "overfitting": 0.99609375,
                "score": 0.7304972229722304
               },
               "reward": -0.7304972229722304,
               "visits": 1
              }
             }
            },
            "timestamp": 1622717830.6174114
           }
          ]
         },
         "pipeline": [
          [
           "3",
           "dswizard.components.feature_preprocessing.fast_ica.FastICAComponent"
          ],
          [
           "4",
           "dswizard.components.classification.random_forest.RandomForest"
          ]
         ]
        },
        {
         "budget": 2,
         "cfg_keys": [
          [
           764834542045827000,
           0
          ]
         ],
         "cid": [
          0,
          3,
          null
         ],
         "configspace": "{\n  \"hyperparameters\": [\n    {\n      \"name\": \"5:n_components_factor\",\n      \"type\": \"uniform_float\",\n      \"log\": false,\n      \"lower\": 1e-07,\n      \"upper\": 1.0,\n      \"default\": 1.0\n    },\n    {\n      \"name\": \"5:solver\",\n      \"type\": \"categorical\",\n      \"choices\": [\n        \"svd\",\n        \"lsqr\"\n      ],\n      \"default\": \"svd\",\n      \"probabilities\": null\n    },\n    {\n      \"name\": \"5:tol\",\n      \"type\": \"uniform_float\",\n      \"log\": true,\n      \"lower\": 1e-07,\n      \"upper\": 1.0,\n      \"default\": 0.0001\n    },\n    {\n      \"name\": \"5:shrinkage\",\n      \"type\": \"uniform_float\",\n      \"log\": false,\n      \"lower\": 0.0,\n      \"upper\": 1.0,\n      \"default\": 0.1\n    }\n  ],\n  \"conditions\": [\n    {\n      \"child\": \"5:shrinkage\",\n      \"parent\": \"5:solver\",\n      \"type\": \"IN\",\n      \"values\": [\n        \"lsqr\"\n      ]\n    }\n  ],\n  \"forbiddens\": [],\n  \"python_module_version\": \"0.4.18\",\n  \"json_format_version\": 0.2\n}",
         "explanations": {
          "1622717842.5176468": [
           {
            "structure": {
             "edges": {
              "0": [
               1,
               2,
               3,
               5
              ],
              "3": [
               4
              ]
             },
             "nodes": {
              "0": {
               "failure_message": null,
               "label": "ROOT",
               "policy": {
                "adjusted_exploration": 0,
                "adjusted_score": 0.273970859592276,
                "exploitation": 0.2742386707942235,
                "exploration": 0,
                "overfitting": 0.9990234375,
                "score": 0.2742386707942235
               },
               "reward": -2.742386707942235,
               "visits": 10
              },
              "1": {
               "failure_message": null,
               "label": "MultinomialNB",
               "policy": {
                "adjusted_exploration": 1.7521739232523108,
                "adjusted_score": 2.0637444363906066,
                "exploitation": 0.3156091519570638,
                "exploration": 0.8760869616261554,
                "overfitting": 0.998046875,
                "score": 2.0677830752093747
               },
               "reward": -0.9468274558711913,
               "visits": 3
              },
              "2": {
               "failure_message": null,
               "label": "BernoulliNB",
               "policy": {
                "adjusted_exploration": 1.7521739232523108,
                "adjusted_score": 1.895206051321698,
                "exploitation": 0.1467409461737347,
                "exploration": 0.8760869616261554,
                "overfitting": 0.998046875,
                "score": 1.8989148694260456
               },
               "reward": -0.44022283852120414,
               "visits": 3
              },
              "3": {
               "failure_message": null,
               "label": "FastICA",
               "policy": {
                "adjusted_exploration": 1.7521739232523108,
                "adjusted_score": 1.9917751987529961,
                "exploitation": 0.2434990743240768,
                "exploration": 0.8760869616261554,
                "overfitting": 0.998046875,
                "score": 1.9956729975763876
               },
               "reward": -0.7304972229722304,
               "visits": 3
              },
              "4": {
               "failure_message": null,
               "label": "RandomForest",
               "policy": {
                "adjusted_exploration": 1.2102959906117234,
                "adjusted_score": 1.4481161779633949,
                "exploitation": 0.2434990743240768,
                "exploration": 0.6051479953058617,
                "overfitting": 0.99609375,
                "score": 1.4537950649358002
               },
               "reward": -0.7304972229722304,
               "visits": 3
              },
              "5": {
               "failure_message": null,
               "label": "LinearDiscriminantAnalysis",
               "policy": {
                "adjusted_exploration": 3.034854258770293,
                "adjusted_score": 3.652545610579644,
                "exploitation": 0.6248391905776088,
                "exploration": 1.5174271293851465,
                "overfitting": 0.998046875,
                "score": 3.659693449347902
               },
               "reward": -0.6248391905776088,
               "visits": 1
              }
             }
            },
            "timestamp": 1622717842.5176468
           }
          ]
         },
         "pipeline": [
          [
           "5",
           "dswizard.components.classification.linear_discriminant_analysis.LinearDiscriminantAnalysis"
          ]
         ]
        },
        {
         "budget": 2,
         "cfg_keys": [
          [
           7534873793435014000,
           0
          ],
          [
           -3460632130797079000,
           1
          ]
         ],
         "cid": [
          0,
          4,
          null
         ],
         "configspace": "{\n  \"hyperparameters\": [\n    {\n      \"name\": \"10:bootstrap\",\n      \"type\": \"categorical\",\n      \"choices\": [\n        true,\n        false\n      ],\n      \"default\": true,\n      \"probabilities\": null\n    },\n    {\n      \"name\": \"10:criterion\",\n      \"type\": \"categorical\",\n      \"choices\": [\n        \"gini\",\n        \"entropy\"\n      ],\n      \"default\": \"gini\",\n      \"probabilities\": null\n    },\n    {\n      \"name\": \"10:max_features\",\n      \"type\": \"uniform_float\",\n      \"log\": false,\n      \"lower\": 0.0,\n      \"upper\": 1.0,\n      \"default\": 0.5\n    },\n    {\n      \"name\": \"10:min_impurity_decrease\",\n      \"type\": \"constant\",\n      \"value\": 0.0\n    },\n    {\n      \"name\": \"10:min_samples_leaf\",\n      \"type\": \"uniform_int\",\n      \"log\": false,\n      \"lower\": 1,\n      \"upper\": 20,\n      \"default\": 1\n    },\n    {\n      \"name\": \"10:min_samples_split\",\n      \"type\": \"uniform_int\",\n      \"log\": false,\n      \"lower\": 2,\n      \"upper\": 20,\n      \"default\": 2\n    },\n    {\n      \"name\": \"10:min_weight_fraction_leaf\",\n      \"type\": \"constant\",\n      \"value\": 0.0\n    },\n    {\n      \"name\": \"10:n_estimators\",\n      \"type\": \"constant\",\n      \"value\": 512\n    },\n    {\n      \"name\": \"9:q_max\",\n      \"type\": \"uniform_float\",\n      \"log\": false,\n      \"lower\": 70.0,\n      \"upper\": 99.9,\n      \"default\": 75.0\n    },\n    {\n      \"name\": \"9:q_min\",\n      \"type\": \"uniform_float\",\n      \"log\": false,\n      \"lower\": 0.1,\n      \"upper\": 30.0,\n      \"default\": 25.0\n    }\n  ],\n  \"conditions\": [],\n  \"forbiddens\": [],\n  \"python_module_version\": \"0.4.18\",\n  \"json_format_version\": 0.2\n}",
         "explanations": {
          "1622717849.0518863": [
           {
            "structure": {
             "edges": {
              "0": [
               1,
               2,
               3,
               5,
               6,
               7,
               8,
               9
              ],
              "3": [
               4
              ],
              "9": [
               10
              ]
             },
             "nodes": {
              "0": {
               "failure_message": null,
               "label": "ROOT",
               "policy": {
                "adjusted_exploration": 0,
                "adjusted_score": 0.2743433349783717,
                "exploitation": 0.27461151028138087,
                "exploration": 0,
                "overfitting": 0.9990234375,
                "score": 0.27461151028138087
               },
               "reward": -4.393784164502094,
               "visits": 16
              },
              "1": {
               "failure_message": null,
               "label": "MultinomialNB",
               "policy": {
                "adjusted_exploration": 1.9227025154678439,
                "adjusted_score": 2.2339399649494687,
                "exploitation": 0.3156091519570638,
                "exploration": 0.9613512577339219,
                "overfitting": 0.998046875,
                "score": 2.2383116674249077
               },
               "reward": -0.9468274558711913,
               "visits": 3
              },
              "10": {
               "failure_message": null,
               "label": "RandomForest",
               "policy": {
                "adjusted_exploration": 0,
                "adjusted_score": 0.7249847758694237,
                "exploitation": 0.7278278534218527,
                "exploration": 0,
                "overfitting": 0.99609375,
                "score": 0.7278278534218527
               },
               "reward": -0.7278278534218527,
               "visits": 1
              },
              "2": {
               "failure_message": null,
               "label": "BernoulliNB",
               "policy": {
                "adjusted_exploration": 1.9227025154678439,
                "adjusted_score": 2.0654015798805596,
                "exploitation": 0.1467409461737347,
                "exploration": 0.9613512577339219,
                "overfitting": 0.998046875,
                "score": 2.0694434616415784
               },
               "reward": -0.44022283852120414,
               "visits": 3
              },
              "3": {
               "failure_message": null,
               "label": "FastICA",
               "policy": {
                "adjusted_exploration": 1.9227025154678439,
                "adjusted_score": 2.1619707273118585,
                "exploitation": 0.2434990743240768,
                "exploration": 0.9613512577339219,
                "overfitting": 0.998046875,
                "score": 2.1662015897919207
               },
               "reward": -0.7304972229722304,
               "visits": 3
              },
              "4": {
               "failure_message": null,
               "label": "RandomForest",
               "policy": {
                "adjusted_exploration": 1.2102959906117234,
                "adjusted_score": 1.4481161779633949,
                "exploitation": 0.2434990743240768,
                "exploration": 0.6051479953058617,
                "overfitting": 0.99609375,
                "score": 1.4537950649358002
               },
               "reward": -0.7304972229722304,
               "visits": 3
              },
              "5": {
               "failure_message": null,
               "label": "LinearDiscriminantAnalysis",
               "policy": {
                "adjusted_exploration": 1.9227025154678439,
                "adjusted_score": 2.4340754230474504,
                "exploitation": 0.5161362645718718,
                "exploration": 0.9613512577339219,
                "overfitting": 0.998046875,
                "score": 2.4388387800397155
               },
               "reward": -1.5484087937156152,
               "visits": 3
              },
              "6": {
               "failure_message": "Missing MF",
               "label": "MissingIndicator",
               "policy": "-inf",
               "reward": 0,
               "visits": 1
              },
              "7": {
               "failure_message": "Crashed",
               "label": "SGDClassifier",
               "policy": "-inf",
               "reward": 0,
               "visits": 1
              },
              "8": {
               "failure_message": "Ineffective",
               "label": "MultiColumnLabelEncoder",
               "policy": "-inf",
               "reward": 0,
               "visits": 1
              },
              "9": {
               "failure_message": null,
               "label": "RobustScaler",
               "policy": {
                "adjusted_exploration": 3.3302184446307908,
                "adjusted_score": 4.050120426376759,
                "exploitation": 0.7278278534218527,
                "exploration": 1.6651092223153954,
                "overfitting": 0.998046875,
                "score": 4.058046298052643
               },
               "reward": -0.7278278534218527,
               "visits": 1
              }
             }
            },
            "timestamp": 1622717849.0518863
           }
          ]
         },
         "pipeline": [
          [
           "9",
           "dswizard.components.data_preprocessing.robust_scaler.RobustScalerComponent"
          ],
          [
           "10",
           "dswizard.components.classification.random_forest.RandomForest"
          ]
         ]
        },
        {
         "budget": 2,
         "cfg_keys": [
          [
           7534873793435014000,
           0
          ],
          [
           2782935670981900300,
           0
          ],
          [
           1663595461913558800,
           0
          ]
         ],
         "cid": [
          0,
          5,
          null
         ],
         "configspace": "{\n  \"hyperparameters\": [\n    {\n      \"name\": \"12:max_iter\",\n      \"type\": \"uniform_int\",\n      \"log\": false,\n      \"lower\": 10,\n      \"upper\": 2000,\n      \"default\": 1000\n    },\n    {\n      \"name\": \"12:n_components_factor\",\n      \"type\": \"uniform_int\",\n      \"log\": false,\n      \"lower\": 1,\n      \"upper\": 250,\n      \"default\": 10\n    },\n    {\n      \"name\": \"12:svd_method\",\n      \"type\": \"categorical\",\n      \"choices\": [\n        \"lapack\",\n        \"randomized\"\n      ],\n      \"default\": \"randomized\",\n      \"probabilities\": null\n    },\n    {\n      \"name\": \"12:tol\",\n      \"type\": \"uniform_float\",\n      \"log\": true,\n      \"lower\": 1e-05,\n      \"upper\": 0.1,\n      \"default\": 0.01\n    },\n    {\n      \"name\": \"13:algorithm\",\n      \"type\": \"categorical\",\n      \"choices\": [\n        \"SAMME\",\n        \"SAMME.R\"\n      ],\n      \"default\": \"SAMME.R\",\n      \"probabilities\": null\n    },\n    {\n      \"name\": \"13:learning_rate\",\n      \"type\": \"uniform_float\",\n      \"log\": true,\n      \"lower\": 0.01,\n      \"upper\": 2.0,\n      \"default\": 1.0\n    },\n    {\n      \"name\": \"13:n_estimators\",\n      \"type\": \"uniform_int\",\n      \"log\": false,\n      \"lower\": 50,\n      \"upper\": 500,\n      \"default\": 50\n    },\n    {\n      \"name\": \"9:q_max\",\n      \"type\": \"uniform_float\",\n      \"log\": false,\n      \"lower\": 70.0,\n      \"upper\": 99.9,\n      \"default\": 75.0\n    },\n    {\n      \"name\": \"9:q_min\",\n      \"type\": \"uniform_float\",\n      \"log\": false,\n      \"lower\": 0.1,\n      \"upper\": 30.0,\n      \"default\": 25.0\n    },\n    {\n      \"name\": \"12:iterated_power\",\n      \"type\": \"uniform_int\",\n      \"log\": false,\n      \"lower\": 1,\n      \"upper\": 10,\n      \"default\": 3\n    }\n  ],\n  \"conditions\": [\n    {\n      \"child\": \"12:iterated_power\",\n      \"parent\": \"12:svd_method\",\n      \"type\": \"IN\",\n      \"values\": [\n        \"randomized\"\n      ]\n    }\n  ],\n  \"forbiddens\": [],\n  \"python_module_version\": \"0.4.18\",\n  \"json_format_version\": 0.2\n}",
         "explanations": {
          "1622717862.9604425": [
           {
            "structure": {
             "edges": {
              "0": [
               1,
               2,
               3,
               5,
               6,
               7,
               8,
               9
              ],
              "12": [
               13
              ],
              "3": [
               4
              ],
              "9": [
               10,
               11,
               12
              ]
             },
             "nodes": {
              "0": {
               "failure_message": null,
               "label": "ROOT",
               "policy": {
                "adjusted_exploration": 0,
                "adjusted_score": 0.3130426508733416,
                "exploitation": 0.31334865541964985,
                "exploration": 0,
                "overfitting": 0.9990234375,
                "score": 0.31334865541964985
               },
               "reward": -6.266973108392997,
               "visits": 20
              },
              "1": {
               "failure_message": null,
               "label": "MultinomialNB",
               "policy": {
                "adjusted_exploration": 0.8113696114357437,
                "adjusted_score": 1.1247776329955559,
                "exploitation": 0.3156091519570638,
                "exploration": 0.9992884591137821,
                "overfitting": 0.998046875,
                "score": 1.1269787633928074
               },
               "reward": -0.9468274558711913,
               "visits": 3
              },
              "10": {
               "failure_message": null,
               "label": "RandomForest",
               "policy": {
                "adjusted_exploration": 0.594708783085333,
                "adjusted_score": 1.2874901006336386,
                "exploitation": 0.6978302983351042,
                "exploration": 0.7324474753487107,
                "overfitting": 0.99609375,
                "score": 1.2925390814204372
               },
               "reward": -2.0934908950053126,
               "visits": 3
              },
              "11": {
               "failure_message": "Duplicate 7",
               "label": "LinearDiscriminantAnalysis",
               "policy": "-inf",
               "reward": 0,
               "visits": 1
              },
              "12": {
               "failure_message": null,
               "label": "FactorAnalysis",
               "policy": {
                "adjusted_exploration": 1.0300658280112551,
                "adjusted_score": 1.531585512622141,
                "exploitation": 0.5075259023074432,
                "exploration": 1.2686362411795196,
                "overfitting": 0.99609375,
                "score": 1.5375917303186983
               },
               "reward": -0.5075259023074432,
               "visits": 1
              },
              "13": {
               "failure_message": null,
               "label": "AdaBoostingClassifier",
               "policy": {
                "adjusted_exploration": 0,
                "adjusted_score": 0.5035608561956663,
                "exploitation": 0.5075259023074432,
                "exploration": 0,
                "overfitting": 0.9921875,
                "score": 0.5075259023074432
               },
               "reward": -0.5075259023074432,
               "visits": 1
              },
              "2": {
               "failure_message": null,
               "label": "BernoulliNB",
               "policy": {
                "adjusted_exploration": 0.8113696114357437,
                "adjusted_score": 0.9562392479266474,
                "exploitation": 0.1467409461737347,
                "exploration": 0.9992884591137821,
                "overfitting": 0.998046875,
                "score": 0.9581105576094784
               },
               "reward": -0.44022283852120414,
               "visits": 3
              },
              "3": {
               "failure_message": null,
               "label": "FastICA",
               "policy": {
                "adjusted_exploration": 0.8113696114357437,
                "adjusted_score": 1.0528083953579457,
                "exploitation": 0.2434990743240768,
                "exploration": 0.9992884591137821,
                "overfitting": 0.998046875,
                "score": 1.0548686857598204
               },
               "reward": -0.7304972229722304,
               "visits": 3
              },
              "4": {
               "failure_message": null,
               "label": "RandomForest",
               "policy": {
                "adjusted_exploration": 0.49134830822311104,
                "adjusted_score": 0.7319768849591128,
                "exploitation": 0.2434990743240768,
                "exploration": 0.6051479953058617,
                "overfitting": 0.99609375,
                "score": 0.7348473825471878
               },
               "reward": -0.7304972229722304,
               "visits": 3
              },
              "5": {
               "failure_message": null,
               "label": "LinearDiscriminantAnalysis",
               "policy": {
                "adjusted_exploration": 0.8113696114357437,
                "adjusted_score": 1.324913091093538,
                "exploitation": 0.5161362645718718,
                "exploration": 0.9992884591137821,
                "overfitting": 0.998046875,
                "score": 1.3275058760076155
               },
               "reward": -1.5484087937156152,
               "visits": 3
              },
              "6": {
               "failure_message": "Missing MF",
               "label": "MissingIndicator",
               "policy": "-inf",
               "reward": 0,
               "visits": 1
              },
              "7": {
               "failure_message": "Crashed",
               "label": "SGDClassifier",
               "policy": "-inf",
               "reward": 0,
               "visits": 1
              },
              "8": {
               "failure_message": "Ineffective",
               "label": "MultiColumnLabelEncoder",
               "policy": "-inf",
               "reward": 0,
               "visits": 1
              },
              "9": {
               "failure_message": null,
               "label": "RobustScaler",
               "policy": {
                "adjusted_exploration": 0.6284841985418838,
                "adjusted_score": 1.1464440276177075,
                "exploitation": 0.5202033594625511,
                "exploration": 0.7740455120409899,
                "overfitting": 0.998046875,
                "score": 1.148687558004435
               },
               "reward": -2.601016797312756,
               "visits": 5
              }
             }
            },
            "timestamp": 1622717862.9604425
           }
          ]
         },
         "pipeline": [
          [
           "9",
           "dswizard.components.data_preprocessing.robust_scaler.RobustScalerComponent"
          ],
          [
           "12",
           "dswizard.components.feature_preprocessing.factor_analysis.FactorAnalysisComponent"
          ],
          [
           "13",
           "dswizard.components.classification.ada_boosting.AdaBoostingClassifier"
          ]
         ]
        },
        {
         "budget": 2,
         "cfg_keys": [
          [
           764834542045827000,
           0
          ],
          [
           -3460632130797079000,
           2
          ]
         ],
         "cid": [
          0,
          6,
          null
         ],
         "configspace": "{\n  \"hyperparameters\": [\n    {\n      \"name\": \"14:bootstrap\",\n      \"type\": \"categorical\",\n      \"choices\": [\n        true,\n        false\n      ],\n      \"default\": true,\n      \"probabilities\": null\n    },\n    {\n      \"name\": \"14:criterion\",\n      \"type\": \"categorical\",\n      \"choices\": [\n        \"gini\",\n        \"entropy\"\n      ],\n      \"default\": \"gini\",\n      \"probabilities\": null\n    },\n    {\n      \"name\": \"14:max_features\",\n      \"type\": \"uniform_float\",\n      \"log\": false,\n      \"lower\": 0.0,\n      \"upper\": 1.0,\n      \"default\": 0.5\n    },\n    {\n      \"name\": \"14:min_impurity_decrease\",\n      \"type\": \"constant\",\n      \"value\": 0.0\n    },\n    {\n      \"name\": \"14:min_samples_leaf\",\n      \"type\": \"uniform_int\",\n      \"log\": false,\n      \"lower\": 1,\n      \"upper\": 20,\n      \"default\": 1\n    },\n    {\n      \"name\": \"14:min_samples_split\",\n      \"type\": \"uniform_int\",\n      \"log\": false,\n      \"lower\": 2,\n      \"upper\": 20,\n      \"default\": 2\n    },\n    {\n      \"name\": \"14:min_weight_fraction_leaf\",\n      \"type\": \"constant\",\n      \"value\": 0.0\n    },\n    {\n      \"name\": \"14:n_estimators\",\n      \"type\": \"constant\",\n      \"value\": 512\n    },\n    {\n      \"name\": \"5:n_components_factor\",\n      \"type\": \"uniform_float\",\n      \"log\": false,\n      \"lower\": 1e-07,\n      \"upper\": 1.0,\n      \"default\": 1.0\n    },\n    {\n      \"name\": \"5:solver\",\n      \"type\": \"categorical\",\n      \"choices\": [\n        \"svd\",\n        \"lsqr\"\n      ],\n      \"default\": \"svd\",\n      \"probabilities\": null\n    },\n    {\n      \"name\": \"5:tol\",\n      \"type\": \"uniform_float\",\n      \"log\": true,\n      \"lower\": 1e-07,\n      \"upper\": 1.0,\n      \"default\": 0.0001\n    },\n    {\n      \"name\": \"5:shrinkage\",\n      \"type\": \"uniform_float\",\n      \"log\": false,\n      \"lower\": 0.0,\n      \"upper\": 1.0,\n      \"default\": 0.1\n    }\n  ],\n  \"conditions\": [\n    {\n      \"child\": \"5:shrinkage\",\n      \"parent\": \"5:solver\",\n      \"type\": \"IN\",\n      \"values\": [\n        \"lsqr\"\n      ]\n    }\n  ],\n  \"forbiddens\": [],\n  \"python_module_version\": \"0.4.18\",\n  \"json_format_version\": 0.2\n}",
         "explanations": {
          "1622717880.1053145": [
           {
            "structure": {
             "edges": {
              "0": [
               1,
               2,
               3,
               5,
               6,
               7,
               8,
               9
              ],
              "12": [
               13
              ],
              "3": [
               4
              ],
              "5": [
               14
              ],
              "9": [
               10,
               11,
               12
              ]
             },
             "nodes": {
              "0": {
               "failure_message": null,
               "label": "ROOT",
               "policy": {
                "adjusted_exploration": 0,
                "adjusted_score": 0.34271786769882334,
                "exploitation": 0.3430528802772191,
                "exploration": 0,
                "overfitting": 0.9990234375,
                "score": 0.3430528802772191
               },
               "reward": -7.890216246376038,
               "visits": 23
              },
              "1": {
               "failure_message": null,
               "label": "MultinomialNB",
               "policy": {
                "adjusted_exploration": 0.2416755481754966,
                "adjusted_score": 0.5561962534526139,
                "exploitation": 0.3156091519570638,
                "exploration": 1.0223329881418528,
                "overfitting": 0.998046875,
                "score": 0.5572847001325604
               },
               "reward": -0.9468274558711913,
               "visits": 3
              },
              "10": {
               "failure_message": null,
               "label": "RandomForest",
               "policy": {
                "adjusted_exploration": 0.1903886708452991,
                "adjusted_score": 0.8847493638320424,
                "exploitation": 0.6978302983351042,
                "exploration": 0.8053798584219568,
                "overfitting": 0.99609375,
                "score": 0.8882189691804033
               },
               "reward": -2.0934908950053126,
               "visits": 3
              },
              "11": {
               "failure_message": "Duplicate 7",
               "label": "LinearDiscriminantAnalysis",
               "policy": "-inf",
               "reward": 0,
               "visits": 1
              },
              "12": {
               "failure_message": null,
               "label": "FactorAnalysis",
               "policy": {
                "adjusted_exploration": 0.1903886708452991,
                "adjusted_score": 0.6550628703499578,
                "exploitation": 0.4672430735060311,
                "exploration": 0.8053798584219568,
                "overfitting": 0.99609375,
                "score": 0.6576317443513302
               },
               "reward": -1.4017292205180933,
               "visits": 3
              },
              "13": {
               "failure_message": null,
               "label": "AdaBoostingClassifier",
               "policy": {
                "adjusted_exploration": 0.14305463600334717,
                "adjusted_score": 0.6055297586538362,
                "exploitation": 0.4672430735060311,
                "exploration": 0.6051479953058617,
                "overfitting": 0.9921875,
                "score": 0.6102977095093782
               },
               "reward": -1.4017292205180933,
               "visits": 3
              },
              "14": {
               "failure_message": null,
               "label": "RandomForest",
               "policy": {
                "adjusted_exploration": 0.2783351568611112,
                "adjusted_score": 1.0034399181310285,
                "exploitation": 0.729039819772392,
                "exploration": 1.1774100225154747,
                "overfitting": 0.99609375,
                "score": 1.0073749766335032
               },
               "reward": -0.729039819772392,
               "visits": 1
              },
              "2": {
               "failure_message": null,
               "label": "BernoulliNB",
               "policy": {
                "adjusted_exploration": 0.2416755481754966,
                "adjusted_score": 0.3876578683837055,
                "exploitation": 0.1467409461737347,
                "exploration": 1.0223329881418528,
                "overfitting": 0.998046875,
                "score": 0.3884164943492313
               },
               "reward": -0.44022283852120414,
               "visits": 3
              },
              "3": {
               "failure_message": null,
               "label": "FastICA",
               "policy": {
                "adjusted_exploration": 0.2416755481754966,
                "adjusted_score": 0.48422701581500394,
                "exploitation": 0.2434990743240768,
                "exploration": 1.0223329881418528,
                "overfitting": 0.998046875,
                "score": 0.48517462249957344
               },
               "reward": -0.7304972229722304,
               "visits": 3
              },
              "4": {
               "failure_message": null,
               "label": "RandomForest",
               "policy": {
                "adjusted_exploration": 0.14305463600334717,
                "adjusted_score": 0.3850437348964575,
                "exploitation": 0.2434990743240768,
                "exploration": 0.6051479953058617,
                "overfitting": 0.99609375,
                "score": 0.38655371032742397
               },
               "reward": -0.7304972229722304,
               "visits": 3
              },
              "5": {
               "failure_message": null,
               "label": "LinearDiscriminantAnalysis",
               "policy": {
                "adjusted_exploration": 0.20929716419351002,
                "adjusted_score": 0.7771384985858918,
                "exploitation": 0.5693621533720018,
                "exploration": 0.8853663388576999,
                "overfitting": 0.998046875,
                "score": 0.7786593175655119
               },
               "reward": -2.277448613488007,
               "visits": 4
              },
              "6": {
               "failure_message": "Missing MF",
               "label": "MissingIndicator",
               "policy": "-inf",
               "reward": 0,
               "visits": 1
              },
              "7": {
               "failure_message": "Crashed",
               "label": "SGDClassifier",
               "policy": "-inf",
               "reward": 0,
               "visits": 1
              },
              "8": {
               "failure_message": "Ineffective",
               "label": "MultiColumnLabelEncoder",
               "policy": "-inf",
               "reward": 0,
               "visits": 1
              },
              "9": {
               "failure_message": null,
               "label": "RobustScaler",
               "policy": {
                "adjusted_exploration": 0.15821378473345143,
                "adjusted_score": 0.6562467039687546,
                "exploitation": 0.4993171593604866,
                "exploration": 0.6692740433729188,
                "overfitting": 0.998046875,
                "score": 0.6575309440939381
               },
               "reward": -3.495220115523406,
               "visits": 7
              }
             }
            },
            "timestamp": 1622717880.1053145
           }
          ]
         },
         "pipeline": [
          [
           "5",
           "dswizard.components.classification.linear_discriminant_analysis.LinearDiscriminantAnalysis"
          ],
          [
           "14",
           "dswizard.components.classification.random_forest.RandomForest"
          ]
         ]
        }
       ]
      },
      "text/plain": [
       "<dswizard.core.runhistory.RunHistory at 0x7f3e62090be0>"
      ]
     },
     "execution_count": 12,
     "metadata": {},
     "output_type": "execute_result"
    }
   ],
   "source": [
    "run_history"
   ]
  }
 ],
 "metadata": {
  "kernelspec": {
   "display_name": "Python 3",
   "language": "python",
   "name": "python3"
  },
  "language_info": {
   "codemirror_mode": {
    "name": "ipython",
    "version": 3
   },
   "file_extension": ".py",
   "mimetype": "text/x-python",
   "name": "python",
   "nbconvert_exporter": "python",
   "pygments_lexer": "ipython3",
   "version": "3.9.5"
  }
 },
 "nbformat": 4,
 "nbformat_minor": 5
}
